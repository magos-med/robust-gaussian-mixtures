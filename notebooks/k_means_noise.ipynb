{
 "cells": [
  {
   "cell_type": "code",
   "execution_count": 1,
   "outputs": [],
   "source": [
    "import numpy as np\n",
    "from sklearn.preprocessing import StandardScaler\n",
    "from sklearn.datasets import make_blobs\n",
    "import plotly.express as px\n",
    "import plotly.io as pio\n",
    "\n",
    "from k_means import KMeans, RobustKMeans\n",
    "\n",
    "pio.templates.default = 'ggplot2'"
   ],
   "metadata": {
    "collapsed": false
   }
  },
  {
   "cell_type": "code",
   "execution_count": 2,
   "outputs": [],
   "source": [
    "# Create a dataset of 2D distributions\n",
    "n_clusters = 3\n",
    "x_train, true_labels = make_blobs(n_samples=100, centers=n_clusters, random_state=42, center_box=[-10, 10])\n",
    "x_train_scaled = StandardScaler().fit_transform(x_train)"
   ],
   "metadata": {
    "collapsed": false
   }
  },
  {
   "cell_type": "code",
   "execution_count": null,
   "outputs": [],
   "source": [
    "px.scatter(x=x_train_scaled[:, 0], y=x_train_scaled[:, 1], color=true_labels)"
   ],
   "metadata": {
    "collapsed": false,
    "pycharm": {
     "is_executing": true
    }
   }
  },
  {
   "cell_type": "code",
   "execution_count": 4,
   "outputs": [],
   "source": [
    "kmeans = KMeans(n_clusters=n_clusters)\n",
    "kmeans.fit(x_train_scaled)"
   ],
   "metadata": {
    "collapsed": false
   }
  },
  {
   "cell_type": "code",
   "execution_count": 5,
   "outputs": [
    {
     "data": {
      "text/plain": "(5.5901093412274685, 1.0)"
     },
     "execution_count": 5,
     "metadata": {},
     "output_type": "execute_result"
    }
   ],
   "source": [
    "kmeans.inertia, kmeans.score(true_labels)"
   ],
   "metadata": {
    "collapsed": false
   }
  },
  {
   "cell_type": "code",
   "execution_count": 6,
   "outputs": [
    {
     "data": {
      "application/vnd.plotly.v1+json": {
       "data": [
        {
         "hovertemplate": "x=%{x}<br>y=%{y}<extra></extra>",
         "legendgroup": "",
         "marker": {
          "color": "black",
          "symbol": "x-thin",
          "line": {
           "width": 2
          },
          "size": 12
         },
         "mode": "markers",
         "name": "",
         "orientation": "v",
         "showlegend": false,
         "x": [
          -1.095234155038226,
          -0.1990557196347161,
          1.3003218661770244
         ],
         "xaxis": "x",
         "y": [
          -1.2593241347084017,
          1.1526961319442959,
          0.07169781694761139
         ],
         "yaxis": "y",
         "type": "scatter"
        },
        {
         "marker": {
          "color": [
           0,
           2,
           1,
           2,
           0,
           2,
           1,
           2,
           2,
           1,
           1,
           0,
           0,
           1,
           1,
           0,
           0,
           1,
           0,
           0,
           1,
           0,
           0,
           1,
           1,
           1,
           2,
           0,
           0,
           0,
           0,
           2,
           2,
           0,
           1,
           1,
           1,
           1,
           2,
           2,
           0,
           1,
           2,
           1,
           1,
           2,
           0,
           0,
           0,
           2,
           2,
           2,
           1,
           0,
           0,
           0,
           1,
           1,
           2,
           1,
           0,
           2,
           0,
           2,
           0,
           0,
           2,
           0,
           2,
           2,
           2,
           0,
           0,
           1,
           2,
           0,
           2,
           0,
           2,
           2,
           1,
           2,
           1,
           0,
           1,
           1,
           1,
           2,
           1,
           2,
           2,
           2,
           1,
           2,
           1,
           1,
           1,
           2,
           0,
           1
          ]
         },
         "mode": "markers",
         "x": [
          -1.2573011106971093,
          1.4998715684903412,
          -0.26408826166498317,
          1.6231463231728998,
          -1.0053068645974528,
          1.1224697310288583,
          -0.09657664603432181,
          1.2837319376177734,
          1.3499948376883761,
          -0.40665974808334665,
          -0.2797588301703713,
          -1.0325709167936523,
          -0.9709663656954407,
          -0.3973173208267774,
          -0.011391138576671839,
          -1.3041818098280817,
          -1.0222719880924467,
          -0.18094009551642798,
          -1.2650547139006258,
          -0.9811550637625178,
          -0.2628212221567212,
          -1.0962841721737921,
          -1.1735641604199214,
          -0.09027309815950728,
          -0.17337050908815962,
          -0.2622398811994524,
          1.0335958224750326,
          -0.949267286453829,
          -1.2840548333538477,
          -1.338920620604083,
          -1.2224136064051525,
          1.3916338962882964,
          1.2894452894121804,
          -0.8377805212510501,
          0.16449010144532888,
          -0.2915273859296959,
          -0.1517491544000393,
          -0.09807856495760328,
          1.5211855415455626,
          1.348882586980985,
          -1.3683584828934279,
          -0.26611743754464817,
          1.3224249624065303,
          -0.443727807730151,
          -0.19006904966571447,
          1.1074562385311892,
          -1.4164347586176622,
          -1.0439258999781087,
          -1.077434806626486,
          1.1605524465638433,
          0.7816448207352634,
          1.3307562636938035,
          0.004101801906441477,
          -1.0257881653302157,
          -0.9081825811202451,
          -1.1269024092053697,
          -0.3777566340987746,
          -0.11525814357092755,
          1.6388569309033947,
          -0.5267227414104482,
          -1.0188449978669243,
          1.1828194373911978,
          -1.1314891134741294,
          0.9282861633616452,
          -1.1355200632872755,
          -1.0353670781746103,
          1.3422865001750113,
          -1.2662381375976373,
          1.2188625213559128,
          1.3835652078413303,
          1.2579918400766232,
          -1.0277525095134652,
          -1.3293713794589286,
          -0.09399205191715058,
          1.350533271147544,
          -0.8786197631655078,
          1.495167726759943,
          -1.0679776929595852,
          1.7242701923293287,
          1.0052930541664655,
          -0.09022280321330656,
          1.1658326332977078,
          0.006197761242894448,
          -0.6898411047563574,
          -0.16869939740892628,
          -0.12218227362443868,
          0.14073289089621463,
          1.1373461374868485,
          -0.4751775730559993,
          1.247658860054344,
          1.3478964953097787,
          1.5687611743258516,
          -0.3558313584018054,
          1.4524550450340694,
          -0.2917507916284675,
          -0.30748559383734775,
          0.04980575354256323,
          1.2959461261938703,
          -0.8535841382065299,
          -0.34143726274160646
         ],
         "y": [
          -1.5248661551026996,
          -0.11317684540920024,
          1.24865263596926,
          -0.1395939665373649,
          -1.2041850698555872,
          -0.01050259494267867,
          1.3155479927269065,
          0.13216250802627696,
          0.22664308228801694,
          1.2228727762646598,
          1.1819654853839052,
          -1.0888741692639545,
          -1.2449416362110663,
          0.9800165536315942,
          1.1913042276403332,
          -1.2162841393416939,
          -1.1630269831910491,
          1.3198720491013118,
          -1.267074961877581,
          -1.3020771189392162,
          1.092873815264941,
          -1.2381178736640603,
          -1.1585132380317225,
          1.402451830615932,
          1.4065625743849373,
          1.3281514965306567,
          0.012000419799582404,
          -1.4232543752340432,
          -1.1692221462218475,
          -1.494833182125393,
          -1.2549424466368035,
          0.11732184133286994,
          0.12357778774253715,
          -1.4176190216019486,
          1.283395339329617,
          1.1197620407581816,
          0.9447073249441873,
          1.1053336936611493,
          0.12778071710344352,
          -0.23008624016499915,
          -1.4357173451897804,
          1.1361442078279511,
          -0.10356918578096352,
          1.1952428397609631,
          1.11830822235882,
          0.15015842065103066,
          -1.2622996194700808,
          -1.231294404149091,
          -1.0662569934251098,
          -5.311839617038024E-4,
          0.2039716524021513,
          0.04074604968429828,
          1.3743646176328117,
          -1.1700350736190144,
          -0.9977743510739705,
          -1.1805134996062299,
          1.2133787643400449,
          0.869230068152188,
          -0.0030824374668065153,
          1.077955825946553,
          -1.401191103453984,
          0.02636614041837886,
          -1.4072759704778344,
          0.07289296501680066,
          -0.870564325453084,
          -1.4832894214358339,
          0.45755544274477966,
          -1.41686630188041,
          0.15628813168740383,
          0.06548755762739165,
          -0.04696097674506489,
          -1.2372996156642249,
          -1.1893889321406699,
          0.8924418709482749,
          -7.967059600693054E-4,
          -1.2270513392996467,
          -0.06350929295441378,
          -1.467411890191914,
          0.10396124136177082,
          0.08758215422690266,
          1.065158407565513,
          0.027231426966097216,
          0.9762101808509858,
          -1.2176189244820599,
          1.0014138702760857,
          0.8620629216649408,
          1.1299461590005782,
          0.31645117092653857,
          1.0536136241888028,
          -0.149120917385602,
          0.03079325091928826,
          0.1931615045501423,
          0.9466299737541434,
          0.41541045891353895,
          1.45100155194904,
          1.2593309619899002,
          1.3087091347268405,
          0.1394143821908024,
          -1.128014817065639,
          1.117055446964054
         ],
         "type": "scatter"
        }
       ],
       "layout": {
        "template": {
         "data": {
          "histogram2dcontour": [
           {
            "type": "histogram2dcontour",
            "colorbar": {
             "outlinewidth": 0,
             "tickcolor": "rgb(237,237,237)",
             "ticklen": 6,
             "ticks": "inside"
            },
            "colorscale": [
             [
              0,
              "rgb(20,44,66)"
             ],
             [
              1,
              "rgb(90,179,244)"
             ]
            ]
           }
          ],
          "choropleth": [
           {
            "type": "choropleth",
            "colorbar": {
             "outlinewidth": 0,
             "tickcolor": "rgb(237,237,237)",
             "ticklen": 6,
             "ticks": "inside"
            }
           }
          ],
          "histogram2d": [
           {
            "type": "histogram2d",
            "colorbar": {
             "outlinewidth": 0,
             "tickcolor": "rgb(237,237,237)",
             "ticklen": 6,
             "ticks": "inside"
            },
            "colorscale": [
             [
              0,
              "rgb(20,44,66)"
             ],
             [
              1,
              "rgb(90,179,244)"
             ]
            ]
           }
          ],
          "heatmap": [
           {
            "type": "heatmap",
            "colorbar": {
             "outlinewidth": 0,
             "tickcolor": "rgb(237,237,237)",
             "ticklen": 6,
             "ticks": "inside"
            },
            "colorscale": [
             [
              0,
              "rgb(20,44,66)"
             ],
             [
              1,
              "rgb(90,179,244)"
             ]
            ]
           }
          ],
          "heatmapgl": [
           {
            "type": "heatmapgl",
            "colorbar": {
             "outlinewidth": 0,
             "tickcolor": "rgb(237,237,237)",
             "ticklen": 6,
             "ticks": "inside"
            },
            "colorscale": [
             [
              0,
              "rgb(20,44,66)"
             ],
             [
              1,
              "rgb(90,179,244)"
             ]
            ]
           }
          ],
          "contourcarpet": [
           {
            "type": "contourcarpet",
            "colorbar": {
             "outlinewidth": 0,
             "tickcolor": "rgb(237,237,237)",
             "ticklen": 6,
             "ticks": "inside"
            }
           }
          ],
          "contour": [
           {
            "type": "contour",
            "colorbar": {
             "outlinewidth": 0,
             "tickcolor": "rgb(237,237,237)",
             "ticklen": 6,
             "ticks": "inside"
            },
            "colorscale": [
             [
              0,
              "rgb(20,44,66)"
             ],
             [
              1,
              "rgb(90,179,244)"
             ]
            ]
           }
          ],
          "surface": [
           {
            "type": "surface",
            "colorbar": {
             "outlinewidth": 0,
             "tickcolor": "rgb(237,237,237)",
             "ticklen": 6,
             "ticks": "inside"
            },
            "colorscale": [
             [
              0,
              "rgb(20,44,66)"
             ],
             [
              1,
              "rgb(90,179,244)"
             ]
            ]
           }
          ],
          "mesh3d": [
           {
            "type": "mesh3d",
            "colorbar": {
             "outlinewidth": 0,
             "tickcolor": "rgb(237,237,237)",
             "ticklen": 6,
             "ticks": "inside"
            }
           }
          ],
          "scatter": [
           {
            "fillpattern": {
             "fillmode": "overlay",
             "size": 10,
             "solidity": 0.2
            },
            "type": "scatter"
           }
          ],
          "parcoords": [
           {
            "type": "parcoords",
            "line": {
             "colorbar": {
              "outlinewidth": 0,
              "tickcolor": "rgb(237,237,237)",
              "ticklen": 6,
              "ticks": "inside"
             }
            }
           }
          ],
          "scatterpolargl": [
           {
            "type": "scatterpolargl",
            "marker": {
             "colorbar": {
              "outlinewidth": 0,
              "tickcolor": "rgb(237,237,237)",
              "ticklen": 6,
              "ticks": "inside"
             }
            }
           }
          ],
          "bar": [
           {
            "error_x": {
             "color": "rgb(51,51,51)"
            },
            "error_y": {
             "color": "rgb(51,51,51)"
            },
            "marker": {
             "line": {
              "color": "rgb(237,237,237)",
              "width": 0.5
             },
             "pattern": {
              "fillmode": "overlay",
              "size": 10,
              "solidity": 0.2
             }
            },
            "type": "bar"
           }
          ],
          "scattergeo": [
           {
            "type": "scattergeo",
            "marker": {
             "colorbar": {
              "outlinewidth": 0,
              "tickcolor": "rgb(237,237,237)",
              "ticklen": 6,
              "ticks": "inside"
             }
            }
           }
          ],
          "scatterpolar": [
           {
            "type": "scatterpolar",
            "marker": {
             "colorbar": {
              "outlinewidth": 0,
              "tickcolor": "rgb(237,237,237)",
              "ticklen": 6,
              "ticks": "inside"
             }
            }
           }
          ],
          "histogram": [
           {
            "marker": {
             "pattern": {
              "fillmode": "overlay",
              "size": 10,
              "solidity": 0.2
             }
            },
            "type": "histogram"
           }
          ],
          "scattergl": [
           {
            "type": "scattergl",
            "marker": {
             "colorbar": {
              "outlinewidth": 0,
              "tickcolor": "rgb(237,237,237)",
              "ticklen": 6,
              "ticks": "inside"
             }
            }
           }
          ],
          "scatter3d": [
           {
            "type": "scatter3d",
            "line": {
             "colorbar": {
              "outlinewidth": 0,
              "tickcolor": "rgb(237,237,237)",
              "ticklen": 6,
              "ticks": "inside"
             }
            },
            "marker": {
             "colorbar": {
              "outlinewidth": 0,
              "tickcolor": "rgb(237,237,237)",
              "ticklen": 6,
              "ticks": "inside"
             }
            }
           }
          ],
          "scattermapbox": [
           {
            "type": "scattermapbox",
            "marker": {
             "colorbar": {
              "outlinewidth": 0,
              "tickcolor": "rgb(237,237,237)",
              "ticklen": 6,
              "ticks": "inside"
             }
            }
           }
          ],
          "scatterternary": [
           {
            "type": "scatterternary",
            "marker": {
             "colorbar": {
              "outlinewidth": 0,
              "tickcolor": "rgb(237,237,237)",
              "ticklen": 6,
              "ticks": "inside"
             }
            }
           }
          ],
          "scattercarpet": [
           {
            "type": "scattercarpet",
            "marker": {
             "colorbar": {
              "outlinewidth": 0,
              "tickcolor": "rgb(237,237,237)",
              "ticklen": 6,
              "ticks": "inside"
             }
            }
           }
          ],
          "carpet": [
           {
            "aaxis": {
             "endlinecolor": "rgb(51,51,51)",
             "gridcolor": "white",
             "linecolor": "white",
             "minorgridcolor": "white",
             "startlinecolor": "rgb(51,51,51)"
            },
            "baxis": {
             "endlinecolor": "rgb(51,51,51)",
             "gridcolor": "white",
             "linecolor": "white",
             "minorgridcolor": "white",
             "startlinecolor": "rgb(51,51,51)"
            },
            "type": "carpet"
           }
          ],
          "table": [
           {
            "cells": {
             "fill": {
              "color": "rgb(237,237,237)"
             },
             "line": {
              "color": "white"
             }
            },
            "header": {
             "fill": {
              "color": "rgb(217,217,217)"
             },
             "line": {
              "color": "white"
             }
            },
            "type": "table"
           }
          ],
          "barpolar": [
           {
            "marker": {
             "line": {
              "color": "rgb(237,237,237)",
              "width": 0.5
             },
             "pattern": {
              "fillmode": "overlay",
              "size": 10,
              "solidity": 0.2
             }
            },
            "type": "barpolar"
           }
          ],
          "pie": [
           {
            "automargin": true,
            "type": "pie"
           }
          ]
         },
         "layout": {
          "autotypenumbers": "strict",
          "colorway": [
           "#F8766D",
           "#A3A500",
           "#00BF7D",
           "#00B0F6",
           "#E76BF3"
          ],
          "font": {
           "color": "rgb(51,51,51)"
          },
          "hovermode": "closest",
          "hoverlabel": {
           "align": "left"
          },
          "paper_bgcolor": "white",
          "plot_bgcolor": "rgb(237,237,237)",
          "polar": {
           "bgcolor": "rgb(237,237,237)",
           "angularaxis": {
            "gridcolor": "white",
            "linecolor": "white",
            "showgrid": true,
            "tickcolor": "rgb(51,51,51)",
            "ticks": "outside"
           },
           "radialaxis": {
            "gridcolor": "white",
            "linecolor": "white",
            "showgrid": true,
            "tickcolor": "rgb(51,51,51)",
            "ticks": "outside"
           }
          },
          "ternary": {
           "bgcolor": "rgb(237,237,237)",
           "aaxis": {
            "gridcolor": "white",
            "linecolor": "white",
            "showgrid": true,
            "tickcolor": "rgb(51,51,51)",
            "ticks": "outside"
           },
           "baxis": {
            "gridcolor": "white",
            "linecolor": "white",
            "showgrid": true,
            "tickcolor": "rgb(51,51,51)",
            "ticks": "outside"
           },
           "caxis": {
            "gridcolor": "white",
            "linecolor": "white",
            "showgrid": true,
            "tickcolor": "rgb(51,51,51)",
            "ticks": "outside"
           }
          },
          "coloraxis": {
           "colorbar": {
            "outlinewidth": 0,
            "tickcolor": "rgb(237,237,237)",
            "ticklen": 6,
            "ticks": "inside"
           }
          },
          "colorscale": {
           "sequential": [
            [
             0,
             "rgb(20,44,66)"
            ],
            [
             1,
             "rgb(90,179,244)"
            ]
           ],
           "sequentialminus": [
            [
             0,
             "rgb(20,44,66)"
            ],
            [
             1,
             "rgb(90,179,244)"
            ]
           ]
          },
          "xaxis": {
           "gridcolor": "white",
           "linecolor": "white",
           "showgrid": true,
           "tickcolor": "rgb(51,51,51)",
           "ticks": "outside",
           "title": {
            "standoff": 15
           },
           "zerolinecolor": "white",
           "automargin": true
          },
          "yaxis": {
           "gridcolor": "white",
           "linecolor": "white",
           "showgrid": true,
           "tickcolor": "rgb(51,51,51)",
           "ticks": "outside",
           "title": {
            "standoff": 15
           },
           "zerolinecolor": "white",
           "automargin": true
          },
          "scene": {
           "xaxis": {
            "backgroundcolor": "rgb(237,237,237)",
            "gridcolor": "white",
            "linecolor": "white",
            "showbackground": true,
            "showgrid": true,
            "tickcolor": "rgb(51,51,51)",
            "ticks": "outside",
            "zerolinecolor": "white",
            "gridwidth": 2
           },
           "yaxis": {
            "backgroundcolor": "rgb(237,237,237)",
            "gridcolor": "white",
            "linecolor": "white",
            "showbackground": true,
            "showgrid": true,
            "tickcolor": "rgb(51,51,51)",
            "ticks": "outside",
            "zerolinecolor": "white",
            "gridwidth": 2
           },
           "zaxis": {
            "backgroundcolor": "rgb(237,237,237)",
            "gridcolor": "white",
            "linecolor": "white",
            "showbackground": true,
            "showgrid": true,
            "tickcolor": "rgb(51,51,51)",
            "ticks": "outside",
            "zerolinecolor": "white",
            "gridwidth": 2
           }
          },
          "shapedefaults": {
           "fillcolor": "black",
           "line": {
            "width": 0
           },
           "opacity": 0.3
          },
          "annotationdefaults": {
           "arrowhead": 0,
           "arrowwidth": 1
          },
          "geo": {
           "bgcolor": "white",
           "landcolor": "rgb(237,237,237)",
           "subunitcolor": "white",
           "showland": true,
           "showlakes": true,
           "lakecolor": "white"
          }
         }
        },
        "xaxis": {
         "anchor": "y",
         "domain": [
          0.0,
          1.0
         ],
         "title": {
          "text": "x"
         }
        },
        "yaxis": {
         "anchor": "x",
         "domain": [
          0.0,
          1.0
         ],
         "title": {
          "text": "y"
         }
        },
        "legend": {
         "tracegroupgap": 0
        },
        "margin": {
         "t": 60
        }
       },
       "config": {
        "plotlyServerURL": "https://plot.ly"
       }
      },
      "text/html": "<div>                            <div id=\"e26ba196-dd4c-4a15-bb2c-77d26d89fd85\" class=\"plotly-graph-div\" style=\"height:525px; width:100%;\"></div>            <script type=\"text/javascript\">                require([\"plotly\"], function(Plotly) {                    window.PLOTLYENV=window.PLOTLYENV || {};                                    if (document.getElementById(\"e26ba196-dd4c-4a15-bb2c-77d26d89fd85\")) {                    Plotly.newPlot(                        \"e26ba196-dd4c-4a15-bb2c-77d26d89fd85\",                        [{\"hovertemplate\":\"x=%{x}<br>y=%{y}<extra></extra>\",\"legendgroup\":\"\",\"marker\":{\"color\":\"black\",\"symbol\":\"x-thin\",\"line\":{\"width\":2},\"size\":12},\"mode\":\"markers\",\"name\":\"\",\"orientation\":\"v\",\"showlegend\":false,\"x\":[-1.095234155038226,-0.1990557196347161,1.3003218661770244],\"xaxis\":\"x\",\"y\":[-1.2593241347084017,1.1526961319442959,0.07169781694761139],\"yaxis\":\"y\",\"type\":\"scatter\"},{\"marker\":{\"color\":[0,2,1,2,0,2,1,2,2,1,1,0,0,1,1,0,0,1,0,0,1,0,0,1,1,1,2,0,0,0,0,2,2,0,1,1,1,1,2,2,0,1,2,1,1,2,0,0,0,2,2,2,1,0,0,0,1,1,2,1,0,2,0,2,0,0,2,0,2,2,2,0,0,1,2,0,2,0,2,2,1,2,1,0,1,1,1,2,1,2,2,2,1,2,1,1,1,2,0,1]},\"mode\":\"markers\",\"x\":[-1.2573011106971093,1.4998715684903412,-0.26408826166498317,1.6231463231728998,-1.0053068645974528,1.1224697310288583,-0.09657664603432181,1.2837319376177734,1.3499948376883761,-0.40665974808334665,-0.2797588301703713,-1.0325709167936523,-0.9709663656954407,-0.3973173208267774,-0.011391138576671839,-1.3041818098280817,-1.0222719880924467,-0.18094009551642798,-1.2650547139006258,-0.9811550637625178,-0.2628212221567212,-1.0962841721737921,-1.1735641604199214,-0.09027309815950728,-0.17337050908815962,-0.2622398811994524,1.0335958224750326,-0.949267286453829,-1.2840548333538477,-1.338920620604083,-1.2224136064051525,1.3916338962882964,1.2894452894121804,-0.8377805212510501,0.16449010144532888,-0.2915273859296959,-0.1517491544000393,-0.09807856495760328,1.5211855415455626,1.348882586980985,-1.3683584828934279,-0.26611743754464817,1.3224249624065303,-0.443727807730151,-0.19006904966571447,1.1074562385311892,-1.4164347586176622,-1.0439258999781087,-1.077434806626486,1.1605524465638433,0.7816448207352634,1.3307562636938035,0.004101801906441477,-1.0257881653302157,-0.9081825811202451,-1.1269024092053697,-0.3777566340987746,-0.11525814357092755,1.6388569309033947,-0.5267227414104482,-1.0188449978669243,1.1828194373911978,-1.1314891134741294,0.9282861633616452,-1.1355200632872755,-1.0353670781746103,1.3422865001750113,-1.2662381375976373,1.2188625213559128,1.3835652078413303,1.2579918400766232,-1.0277525095134652,-1.3293713794589286,-0.09399205191715058,1.350533271147544,-0.8786197631655078,1.495167726759943,-1.0679776929595852,1.7242701923293287,1.0052930541664655,-0.09022280321330656,1.1658326332977078,0.006197761242894448,-0.6898411047563574,-0.16869939740892628,-0.12218227362443868,0.14073289089621463,1.1373461374868485,-0.4751775730559993,1.247658860054344,1.3478964953097787,1.5687611743258516,-0.3558313584018054,1.4524550450340694,-0.2917507916284675,-0.30748559383734775,0.04980575354256323,1.2959461261938703,-0.8535841382065299,-0.34143726274160646],\"y\":[-1.5248661551026996,-0.11317684540920024,1.24865263596926,-0.1395939665373649,-1.2041850698555872,-0.01050259494267867,1.3155479927269065,0.13216250802627696,0.22664308228801694,1.2228727762646598,1.1819654853839052,-1.0888741692639545,-1.2449416362110663,0.9800165536315942,1.1913042276403332,-1.2162841393416939,-1.1630269831910491,1.3198720491013118,-1.267074961877581,-1.3020771189392162,1.092873815264941,-1.2381178736640603,-1.1585132380317225,1.402451830615932,1.4065625743849373,1.3281514965306567,0.012000419799582404,-1.4232543752340432,-1.1692221462218475,-1.494833182125393,-1.2549424466368035,0.11732184133286994,0.12357778774253715,-1.4176190216019486,1.283395339329617,1.1197620407581816,0.9447073249441873,1.1053336936611493,0.12778071710344352,-0.23008624016499915,-1.4357173451897804,1.1361442078279511,-0.10356918578096352,1.1952428397609631,1.11830822235882,0.15015842065103066,-1.2622996194700808,-1.231294404149091,-1.0662569934251098,-0.0005311839617038024,0.2039716524021513,0.04074604968429828,1.3743646176328117,-1.1700350736190144,-0.9977743510739705,-1.1805134996062299,1.2133787643400449,0.869230068152188,-0.0030824374668065153,1.077955825946553,-1.401191103453984,0.02636614041837886,-1.4072759704778344,0.07289296501680066,-0.870564325453084,-1.4832894214358339,0.45755544274477966,-1.41686630188041,0.15628813168740383,0.06548755762739165,-0.04696097674506489,-1.2372996156642249,-1.1893889321406699,0.8924418709482749,-0.0007967059600693054,-1.2270513392996467,-0.06350929295441378,-1.467411890191914,0.10396124136177082,0.08758215422690266,1.065158407565513,0.027231426966097216,0.9762101808509858,-1.2176189244820599,1.0014138702760857,0.8620629216649408,1.1299461590005782,0.31645117092653857,1.0536136241888028,-0.149120917385602,0.03079325091928826,0.1931615045501423,0.9466299737541434,0.41541045891353895,1.45100155194904,1.2593309619899002,1.3087091347268405,0.1394143821908024,-1.128014817065639,1.117055446964054],\"type\":\"scatter\"}],                        {\"template\":{\"data\":{\"histogram2dcontour\":[{\"type\":\"histogram2dcontour\",\"colorbar\":{\"outlinewidth\":0,\"tickcolor\":\"rgb(237,237,237)\",\"ticklen\":6,\"ticks\":\"inside\"},\"colorscale\":[[0,\"rgb(20,44,66)\"],[1,\"rgb(90,179,244)\"]]}],\"choropleth\":[{\"type\":\"choropleth\",\"colorbar\":{\"outlinewidth\":0,\"tickcolor\":\"rgb(237,237,237)\",\"ticklen\":6,\"ticks\":\"inside\"}}],\"histogram2d\":[{\"type\":\"histogram2d\",\"colorbar\":{\"outlinewidth\":0,\"tickcolor\":\"rgb(237,237,237)\",\"ticklen\":6,\"ticks\":\"inside\"},\"colorscale\":[[0,\"rgb(20,44,66)\"],[1,\"rgb(90,179,244)\"]]}],\"heatmap\":[{\"type\":\"heatmap\",\"colorbar\":{\"outlinewidth\":0,\"tickcolor\":\"rgb(237,237,237)\",\"ticklen\":6,\"ticks\":\"inside\"},\"colorscale\":[[0,\"rgb(20,44,66)\"],[1,\"rgb(90,179,244)\"]]}],\"heatmapgl\":[{\"type\":\"heatmapgl\",\"colorbar\":{\"outlinewidth\":0,\"tickcolor\":\"rgb(237,237,237)\",\"ticklen\":6,\"ticks\":\"inside\"},\"colorscale\":[[0,\"rgb(20,44,66)\"],[1,\"rgb(90,179,244)\"]]}],\"contourcarpet\":[{\"type\":\"contourcarpet\",\"colorbar\":{\"outlinewidth\":0,\"tickcolor\":\"rgb(237,237,237)\",\"ticklen\":6,\"ticks\":\"inside\"}}],\"contour\":[{\"type\":\"contour\",\"colorbar\":{\"outlinewidth\":0,\"tickcolor\":\"rgb(237,237,237)\",\"ticklen\":6,\"ticks\":\"inside\"},\"colorscale\":[[0,\"rgb(20,44,66)\"],[1,\"rgb(90,179,244)\"]]}],\"surface\":[{\"type\":\"surface\",\"colorbar\":{\"outlinewidth\":0,\"tickcolor\":\"rgb(237,237,237)\",\"ticklen\":6,\"ticks\":\"inside\"},\"colorscale\":[[0,\"rgb(20,44,66)\"],[1,\"rgb(90,179,244)\"]]}],\"mesh3d\":[{\"type\":\"mesh3d\",\"colorbar\":{\"outlinewidth\":0,\"tickcolor\":\"rgb(237,237,237)\",\"ticklen\":6,\"ticks\":\"inside\"}}],\"scatter\":[{\"fillpattern\":{\"fillmode\":\"overlay\",\"size\":10,\"solidity\":0.2},\"type\":\"scatter\"}],\"parcoords\":[{\"type\":\"parcoords\",\"line\":{\"colorbar\":{\"outlinewidth\":0,\"tickcolor\":\"rgb(237,237,237)\",\"ticklen\":6,\"ticks\":\"inside\"}}}],\"scatterpolargl\":[{\"type\":\"scatterpolargl\",\"marker\":{\"colorbar\":{\"outlinewidth\":0,\"tickcolor\":\"rgb(237,237,237)\",\"ticklen\":6,\"ticks\":\"inside\"}}}],\"bar\":[{\"error_x\":{\"color\":\"rgb(51,51,51)\"},\"error_y\":{\"color\":\"rgb(51,51,51)\"},\"marker\":{\"line\":{\"color\":\"rgb(237,237,237)\",\"width\":0.5},\"pattern\":{\"fillmode\":\"overlay\",\"size\":10,\"solidity\":0.2}},\"type\":\"bar\"}],\"scattergeo\":[{\"type\":\"scattergeo\",\"marker\":{\"colorbar\":{\"outlinewidth\":0,\"tickcolor\":\"rgb(237,237,237)\",\"ticklen\":6,\"ticks\":\"inside\"}}}],\"scatterpolar\":[{\"type\":\"scatterpolar\",\"marker\":{\"colorbar\":{\"outlinewidth\":0,\"tickcolor\":\"rgb(237,237,237)\",\"ticklen\":6,\"ticks\":\"inside\"}}}],\"histogram\":[{\"marker\":{\"pattern\":{\"fillmode\":\"overlay\",\"size\":10,\"solidity\":0.2}},\"type\":\"histogram\"}],\"scattergl\":[{\"type\":\"scattergl\",\"marker\":{\"colorbar\":{\"outlinewidth\":0,\"tickcolor\":\"rgb(237,237,237)\",\"ticklen\":6,\"ticks\":\"inside\"}}}],\"scatter3d\":[{\"type\":\"scatter3d\",\"line\":{\"colorbar\":{\"outlinewidth\":0,\"tickcolor\":\"rgb(237,237,237)\",\"ticklen\":6,\"ticks\":\"inside\"}},\"marker\":{\"colorbar\":{\"outlinewidth\":0,\"tickcolor\":\"rgb(237,237,237)\",\"ticklen\":6,\"ticks\":\"inside\"}}}],\"scattermapbox\":[{\"type\":\"scattermapbox\",\"marker\":{\"colorbar\":{\"outlinewidth\":0,\"tickcolor\":\"rgb(237,237,237)\",\"ticklen\":6,\"ticks\":\"inside\"}}}],\"scatterternary\":[{\"type\":\"scatterternary\",\"marker\":{\"colorbar\":{\"outlinewidth\":0,\"tickcolor\":\"rgb(237,237,237)\",\"ticklen\":6,\"ticks\":\"inside\"}}}],\"scattercarpet\":[{\"type\":\"scattercarpet\",\"marker\":{\"colorbar\":{\"outlinewidth\":0,\"tickcolor\":\"rgb(237,237,237)\",\"ticklen\":6,\"ticks\":\"inside\"}}}],\"carpet\":[{\"aaxis\":{\"endlinecolor\":\"rgb(51,51,51)\",\"gridcolor\":\"white\",\"linecolor\":\"white\",\"minorgridcolor\":\"white\",\"startlinecolor\":\"rgb(51,51,51)\"},\"baxis\":{\"endlinecolor\":\"rgb(51,51,51)\",\"gridcolor\":\"white\",\"linecolor\":\"white\",\"minorgridcolor\":\"white\",\"startlinecolor\":\"rgb(51,51,51)\"},\"type\":\"carpet\"}],\"table\":[{\"cells\":{\"fill\":{\"color\":\"rgb(237,237,237)\"},\"line\":{\"color\":\"white\"}},\"header\":{\"fill\":{\"color\":\"rgb(217,217,217)\"},\"line\":{\"color\":\"white\"}},\"type\":\"table\"}],\"barpolar\":[{\"marker\":{\"line\":{\"color\":\"rgb(237,237,237)\",\"width\":0.5},\"pattern\":{\"fillmode\":\"overlay\",\"size\":10,\"solidity\":0.2}},\"type\":\"barpolar\"}],\"pie\":[{\"automargin\":true,\"type\":\"pie\"}]},\"layout\":{\"autotypenumbers\":\"strict\",\"colorway\":[\"#F8766D\",\"#A3A500\",\"#00BF7D\",\"#00B0F6\",\"#E76BF3\"],\"font\":{\"color\":\"rgb(51,51,51)\"},\"hovermode\":\"closest\",\"hoverlabel\":{\"align\":\"left\"},\"paper_bgcolor\":\"white\",\"plot_bgcolor\":\"rgb(237,237,237)\",\"polar\":{\"bgcolor\":\"rgb(237,237,237)\",\"angularaxis\":{\"gridcolor\":\"white\",\"linecolor\":\"white\",\"showgrid\":true,\"tickcolor\":\"rgb(51,51,51)\",\"ticks\":\"outside\"},\"radialaxis\":{\"gridcolor\":\"white\",\"linecolor\":\"white\",\"showgrid\":true,\"tickcolor\":\"rgb(51,51,51)\",\"ticks\":\"outside\"}},\"ternary\":{\"bgcolor\":\"rgb(237,237,237)\",\"aaxis\":{\"gridcolor\":\"white\",\"linecolor\":\"white\",\"showgrid\":true,\"tickcolor\":\"rgb(51,51,51)\",\"ticks\":\"outside\"},\"baxis\":{\"gridcolor\":\"white\",\"linecolor\":\"white\",\"showgrid\":true,\"tickcolor\":\"rgb(51,51,51)\",\"ticks\":\"outside\"},\"caxis\":{\"gridcolor\":\"white\",\"linecolor\":\"white\",\"showgrid\":true,\"tickcolor\":\"rgb(51,51,51)\",\"ticks\":\"outside\"}},\"coloraxis\":{\"colorbar\":{\"outlinewidth\":0,\"tickcolor\":\"rgb(237,237,237)\",\"ticklen\":6,\"ticks\":\"inside\"}},\"colorscale\":{\"sequential\":[[0,\"rgb(20,44,66)\"],[1,\"rgb(90,179,244)\"]],\"sequentialminus\":[[0,\"rgb(20,44,66)\"],[1,\"rgb(90,179,244)\"]]},\"xaxis\":{\"gridcolor\":\"white\",\"linecolor\":\"white\",\"showgrid\":true,\"tickcolor\":\"rgb(51,51,51)\",\"ticks\":\"outside\",\"title\":{\"standoff\":15},\"zerolinecolor\":\"white\",\"automargin\":true},\"yaxis\":{\"gridcolor\":\"white\",\"linecolor\":\"white\",\"showgrid\":true,\"tickcolor\":\"rgb(51,51,51)\",\"ticks\":\"outside\",\"title\":{\"standoff\":15},\"zerolinecolor\":\"white\",\"automargin\":true},\"scene\":{\"xaxis\":{\"backgroundcolor\":\"rgb(237,237,237)\",\"gridcolor\":\"white\",\"linecolor\":\"white\",\"showbackground\":true,\"showgrid\":true,\"tickcolor\":\"rgb(51,51,51)\",\"ticks\":\"outside\",\"zerolinecolor\":\"white\",\"gridwidth\":2},\"yaxis\":{\"backgroundcolor\":\"rgb(237,237,237)\",\"gridcolor\":\"white\",\"linecolor\":\"white\",\"showbackground\":true,\"showgrid\":true,\"tickcolor\":\"rgb(51,51,51)\",\"ticks\":\"outside\",\"zerolinecolor\":\"white\",\"gridwidth\":2},\"zaxis\":{\"backgroundcolor\":\"rgb(237,237,237)\",\"gridcolor\":\"white\",\"linecolor\":\"white\",\"showbackground\":true,\"showgrid\":true,\"tickcolor\":\"rgb(51,51,51)\",\"ticks\":\"outside\",\"zerolinecolor\":\"white\",\"gridwidth\":2}},\"shapedefaults\":{\"fillcolor\":\"black\",\"line\":{\"width\":0},\"opacity\":0.3},\"annotationdefaults\":{\"arrowhead\":0,\"arrowwidth\":1},\"geo\":{\"bgcolor\":\"white\",\"landcolor\":\"rgb(237,237,237)\",\"subunitcolor\":\"white\",\"showland\":true,\"showlakes\":true,\"lakecolor\":\"white\"}}},\"xaxis\":{\"anchor\":\"y\",\"domain\":[0.0,1.0],\"title\":{\"text\":\"x\"}},\"yaxis\":{\"anchor\":\"x\",\"domain\":[0.0,1.0],\"title\":{\"text\":\"y\"}},\"legend\":{\"tracegroupgap\":0},\"margin\":{\"t\":60}},                        {\"responsive\": true}                    ).then(function(){\n                            \nvar gd = document.getElementById('e26ba196-dd4c-4a15-bb2c-77d26d89fd85');\nvar x = new MutationObserver(function (mutations, observer) {{\n        var display = window.getComputedStyle(gd).display;\n        if (!display || display === 'none') {{\n            console.log([gd, 'removed!']);\n            Plotly.purge(gd);\n            observer.disconnect();\n        }}\n}});\n\n// Listen for the removal of the full notebook cells\nvar notebookContainer = gd.closest('#notebook-container');\nif (notebookContainer) {{\n    x.observe(notebookContainer, {childList: true});\n}}\n\n// Listen for the clearing of the current output cell\nvar outputEl = gd.closest('.output');\nif (outputEl) {{\n    x.observe(outputEl, {childList: true});\n}}\n\n                        })                };                });            </script>        </div>"
     },
     "metadata": {},
     "output_type": "display_data"
    }
   ],
   "source": [
    "fig = px.scatter(x=kmeans.centroids[:, 0], y=kmeans.centroids[:, 1])\n",
    "fig.update_traces(mode='markers', marker_size=12, marker_color='black', marker_symbol='x-thin', marker_line_width=2)\n",
    "fig.add_scatter(x=x_train_scaled[:, 0], y=x_train_scaled[:, 1], marker_color=kmeans.labels, mode='markers')\n",
    "fig.show()"
   ],
   "metadata": {
    "collapsed": false
   }
  },
  {
   "cell_type": "code",
   "execution_count": 7,
   "outputs": [],
   "source": [
    "kmeans = RobustKMeans(n_clusters=n_clusters, max_iter=300)\n",
    "kmeans.fit(x_train_scaled, n=1000)"
   ],
   "metadata": {
    "collapsed": false
   }
  },
  {
   "cell_type": "code",
   "execution_count": 8,
   "outputs": [
    {
     "data": {
      "text/plain": "(5.590132082655962, 1.0)"
     },
     "execution_count": 8,
     "metadata": {},
     "output_type": "execute_result"
    }
   ],
   "source": [
    "kmeans.inertia, kmeans.score(true_labels)"
   ],
   "metadata": {
    "collapsed": false
   }
  },
  {
   "cell_type": "code",
   "execution_count": 9,
   "outputs": [
    {
     "data": {
      "application/vnd.plotly.v1+json": {
       "data": [
        {
         "hovertemplate": "x=%{x}<br>y=%{y}<extra></extra>",
         "legendgroup": "",
         "marker": {
          "color": "black",
          "symbol": "x-thin",
          "line": {
           "width": 2
          },
          "size": 12
         },
         "mode": "markers",
         "name": "",
         "orientation": "v",
         "showlegend": false,
         "x": [
          -0.19926856730977585,
          -1.0955539685377085,
          1.3008936680112737
         ],
         "xaxis": "x",
         "y": [
          1.1530124069197902,
          -1.2596285037714248,
          0.07156546285872234
         ],
         "yaxis": "y",
         "type": "scatter"
        },
        {
         "marker": {
          "color": [
           1,
           2,
           0,
           2,
           1,
           2,
           0,
           2,
           2,
           0,
           0,
           1,
           1,
           0,
           0,
           1,
           1,
           0,
           1,
           1,
           0,
           1,
           1,
           0,
           0,
           0,
           2,
           1,
           1,
           1,
           1,
           2,
           2,
           1,
           0,
           0,
           0,
           0,
           2,
           2,
           1,
           0,
           2,
           0,
           0,
           2,
           1,
           1,
           1,
           2,
           2,
           2,
           0,
           1,
           1,
           1,
           0,
           0,
           2,
           0,
           1,
           2,
           1,
           2,
           1,
           1,
           2,
           1,
           2,
           2,
           2,
           1,
           1,
           0,
           2,
           1,
           2,
           1,
           2,
           2,
           0,
           2,
           0,
           1,
           0,
           0,
           0,
           2,
           0,
           2,
           2,
           2,
           0,
           2,
           0,
           0,
           0,
           2,
           1,
           0
          ]
         },
         "mode": "markers",
         "x": [
          -1.2573011106971093,
          1.4998715684903412,
          -0.26408826166498317,
          1.6231463231728998,
          -1.0053068645974528,
          1.1224697310288583,
          -0.09657664603432181,
          1.2837319376177734,
          1.3499948376883761,
          -0.40665974808334665,
          -0.2797588301703713,
          -1.0325709167936523,
          -0.9709663656954407,
          -0.3973173208267774,
          -0.011391138576671839,
          -1.3041818098280817,
          -1.0222719880924467,
          -0.18094009551642798,
          -1.2650547139006258,
          -0.9811550637625178,
          -0.2628212221567212,
          -1.0962841721737921,
          -1.1735641604199214,
          -0.09027309815950728,
          -0.17337050908815962,
          -0.2622398811994524,
          1.0335958224750326,
          -0.949267286453829,
          -1.2840548333538477,
          -1.338920620604083,
          -1.2224136064051525,
          1.3916338962882964,
          1.2894452894121804,
          -0.8377805212510501,
          0.16449010144532888,
          -0.2915273859296959,
          -0.1517491544000393,
          -0.09807856495760328,
          1.5211855415455626,
          1.348882586980985,
          -1.3683584828934279,
          -0.26611743754464817,
          1.3224249624065303,
          -0.443727807730151,
          -0.19006904966571447,
          1.1074562385311892,
          -1.4164347586176622,
          -1.0439258999781087,
          -1.077434806626486,
          1.1605524465638433,
          0.7816448207352634,
          1.3307562636938035,
          0.004101801906441477,
          -1.0257881653302157,
          -0.9081825811202451,
          -1.1269024092053697,
          -0.3777566340987746,
          -0.11525814357092755,
          1.6388569309033947,
          -0.5267227414104482,
          -1.0188449978669243,
          1.1828194373911978,
          -1.1314891134741294,
          0.9282861633616452,
          -1.1355200632872755,
          -1.0353670781746103,
          1.3422865001750113,
          -1.2662381375976373,
          1.2188625213559128,
          1.3835652078413303,
          1.2579918400766232,
          -1.0277525095134652,
          -1.3293713794589286,
          -0.09399205191715058,
          1.350533271147544,
          -0.8786197631655078,
          1.495167726759943,
          -1.0679776929595852,
          1.7242701923293287,
          1.0052930541664655,
          -0.09022280321330656,
          1.1658326332977078,
          0.006197761242894448,
          -0.6898411047563574,
          -0.16869939740892628,
          -0.12218227362443868,
          0.14073289089621463,
          1.1373461374868485,
          -0.4751775730559993,
          1.247658860054344,
          1.3478964953097787,
          1.5687611743258516,
          -0.3558313584018054,
          1.4524550450340694,
          -0.2917507916284675,
          -0.30748559383734775,
          0.04980575354256323,
          1.2959461261938703,
          -0.8535841382065299,
          -0.34143726274160646
         ],
         "y": [
          -1.5248661551026996,
          -0.11317684540920024,
          1.24865263596926,
          -0.1395939665373649,
          -1.2041850698555872,
          -0.01050259494267867,
          1.3155479927269065,
          0.13216250802627696,
          0.22664308228801694,
          1.2228727762646598,
          1.1819654853839052,
          -1.0888741692639545,
          -1.2449416362110663,
          0.9800165536315942,
          1.1913042276403332,
          -1.2162841393416939,
          -1.1630269831910491,
          1.3198720491013118,
          -1.267074961877581,
          -1.3020771189392162,
          1.092873815264941,
          -1.2381178736640603,
          -1.1585132380317225,
          1.402451830615932,
          1.4065625743849373,
          1.3281514965306567,
          0.012000419799582404,
          -1.4232543752340432,
          -1.1692221462218475,
          -1.494833182125393,
          -1.2549424466368035,
          0.11732184133286994,
          0.12357778774253715,
          -1.4176190216019486,
          1.283395339329617,
          1.1197620407581816,
          0.9447073249441873,
          1.1053336936611493,
          0.12778071710344352,
          -0.23008624016499915,
          -1.4357173451897804,
          1.1361442078279511,
          -0.10356918578096352,
          1.1952428397609631,
          1.11830822235882,
          0.15015842065103066,
          -1.2622996194700808,
          -1.231294404149091,
          -1.0662569934251098,
          -5.311839617038024E-4,
          0.2039716524021513,
          0.04074604968429828,
          1.3743646176328117,
          -1.1700350736190144,
          -0.9977743510739705,
          -1.1805134996062299,
          1.2133787643400449,
          0.869230068152188,
          -0.0030824374668065153,
          1.077955825946553,
          -1.401191103453984,
          0.02636614041837886,
          -1.4072759704778344,
          0.07289296501680066,
          -0.870564325453084,
          -1.4832894214358339,
          0.45755544274477966,
          -1.41686630188041,
          0.15628813168740383,
          0.06548755762739165,
          -0.04696097674506489,
          -1.2372996156642249,
          -1.1893889321406699,
          0.8924418709482749,
          -7.967059600693054E-4,
          -1.2270513392996467,
          -0.06350929295441378,
          -1.467411890191914,
          0.10396124136177082,
          0.08758215422690266,
          1.065158407565513,
          0.027231426966097216,
          0.9762101808509858,
          -1.2176189244820599,
          1.0014138702760857,
          0.8620629216649408,
          1.1299461590005782,
          0.31645117092653857,
          1.0536136241888028,
          -0.149120917385602,
          0.03079325091928826,
          0.1931615045501423,
          0.9466299737541434,
          0.41541045891353895,
          1.45100155194904,
          1.2593309619899002,
          1.3087091347268405,
          0.1394143821908024,
          -1.128014817065639,
          1.117055446964054
         ],
         "type": "scatter"
        }
       ],
       "layout": {
        "template": {
         "data": {
          "histogram2dcontour": [
           {
            "type": "histogram2dcontour",
            "colorbar": {
             "outlinewidth": 0,
             "tickcolor": "rgb(237,237,237)",
             "ticklen": 6,
             "ticks": "inside"
            },
            "colorscale": [
             [
              0,
              "rgb(20,44,66)"
             ],
             [
              1,
              "rgb(90,179,244)"
             ]
            ]
           }
          ],
          "choropleth": [
           {
            "type": "choropleth",
            "colorbar": {
             "outlinewidth": 0,
             "tickcolor": "rgb(237,237,237)",
             "ticklen": 6,
             "ticks": "inside"
            }
           }
          ],
          "histogram2d": [
           {
            "type": "histogram2d",
            "colorbar": {
             "outlinewidth": 0,
             "tickcolor": "rgb(237,237,237)",
             "ticklen": 6,
             "ticks": "inside"
            },
            "colorscale": [
             [
              0,
              "rgb(20,44,66)"
             ],
             [
              1,
              "rgb(90,179,244)"
             ]
            ]
           }
          ],
          "heatmap": [
           {
            "type": "heatmap",
            "colorbar": {
             "outlinewidth": 0,
             "tickcolor": "rgb(237,237,237)",
             "ticklen": 6,
             "ticks": "inside"
            },
            "colorscale": [
             [
              0,
              "rgb(20,44,66)"
             ],
             [
              1,
              "rgb(90,179,244)"
             ]
            ]
           }
          ],
          "heatmapgl": [
           {
            "type": "heatmapgl",
            "colorbar": {
             "outlinewidth": 0,
             "tickcolor": "rgb(237,237,237)",
             "ticklen": 6,
             "ticks": "inside"
            },
            "colorscale": [
             [
              0,
              "rgb(20,44,66)"
             ],
             [
              1,
              "rgb(90,179,244)"
             ]
            ]
           }
          ],
          "contourcarpet": [
           {
            "type": "contourcarpet",
            "colorbar": {
             "outlinewidth": 0,
             "tickcolor": "rgb(237,237,237)",
             "ticklen": 6,
             "ticks": "inside"
            }
           }
          ],
          "contour": [
           {
            "type": "contour",
            "colorbar": {
             "outlinewidth": 0,
             "tickcolor": "rgb(237,237,237)",
             "ticklen": 6,
             "ticks": "inside"
            },
            "colorscale": [
             [
              0,
              "rgb(20,44,66)"
             ],
             [
              1,
              "rgb(90,179,244)"
             ]
            ]
           }
          ],
          "surface": [
           {
            "type": "surface",
            "colorbar": {
             "outlinewidth": 0,
             "tickcolor": "rgb(237,237,237)",
             "ticklen": 6,
             "ticks": "inside"
            },
            "colorscale": [
             [
              0,
              "rgb(20,44,66)"
             ],
             [
              1,
              "rgb(90,179,244)"
             ]
            ]
           }
          ],
          "mesh3d": [
           {
            "type": "mesh3d",
            "colorbar": {
             "outlinewidth": 0,
             "tickcolor": "rgb(237,237,237)",
             "ticklen": 6,
             "ticks": "inside"
            }
           }
          ],
          "scatter": [
           {
            "fillpattern": {
             "fillmode": "overlay",
             "size": 10,
             "solidity": 0.2
            },
            "type": "scatter"
           }
          ],
          "parcoords": [
           {
            "type": "parcoords",
            "line": {
             "colorbar": {
              "outlinewidth": 0,
              "tickcolor": "rgb(237,237,237)",
              "ticklen": 6,
              "ticks": "inside"
             }
            }
           }
          ],
          "scatterpolargl": [
           {
            "type": "scatterpolargl",
            "marker": {
             "colorbar": {
              "outlinewidth": 0,
              "tickcolor": "rgb(237,237,237)",
              "ticklen": 6,
              "ticks": "inside"
             }
            }
           }
          ],
          "bar": [
           {
            "error_x": {
             "color": "rgb(51,51,51)"
            },
            "error_y": {
             "color": "rgb(51,51,51)"
            },
            "marker": {
             "line": {
              "color": "rgb(237,237,237)",
              "width": 0.5
             },
             "pattern": {
              "fillmode": "overlay",
              "size": 10,
              "solidity": 0.2
             }
            },
            "type": "bar"
           }
          ],
          "scattergeo": [
           {
            "type": "scattergeo",
            "marker": {
             "colorbar": {
              "outlinewidth": 0,
              "tickcolor": "rgb(237,237,237)",
              "ticklen": 6,
              "ticks": "inside"
             }
            }
           }
          ],
          "scatterpolar": [
           {
            "type": "scatterpolar",
            "marker": {
             "colorbar": {
              "outlinewidth": 0,
              "tickcolor": "rgb(237,237,237)",
              "ticklen": 6,
              "ticks": "inside"
             }
            }
           }
          ],
          "histogram": [
           {
            "marker": {
             "pattern": {
              "fillmode": "overlay",
              "size": 10,
              "solidity": 0.2
             }
            },
            "type": "histogram"
           }
          ],
          "scattergl": [
           {
            "type": "scattergl",
            "marker": {
             "colorbar": {
              "outlinewidth": 0,
              "tickcolor": "rgb(237,237,237)",
              "ticklen": 6,
              "ticks": "inside"
             }
            }
           }
          ],
          "scatter3d": [
           {
            "type": "scatter3d",
            "line": {
             "colorbar": {
              "outlinewidth": 0,
              "tickcolor": "rgb(237,237,237)",
              "ticklen": 6,
              "ticks": "inside"
             }
            },
            "marker": {
             "colorbar": {
              "outlinewidth": 0,
              "tickcolor": "rgb(237,237,237)",
              "ticklen": 6,
              "ticks": "inside"
             }
            }
           }
          ],
          "scattermapbox": [
           {
            "type": "scattermapbox",
            "marker": {
             "colorbar": {
              "outlinewidth": 0,
              "tickcolor": "rgb(237,237,237)",
              "ticklen": 6,
              "ticks": "inside"
             }
            }
           }
          ],
          "scatterternary": [
           {
            "type": "scatterternary",
            "marker": {
             "colorbar": {
              "outlinewidth": 0,
              "tickcolor": "rgb(237,237,237)",
              "ticklen": 6,
              "ticks": "inside"
             }
            }
           }
          ],
          "scattercarpet": [
           {
            "type": "scattercarpet",
            "marker": {
             "colorbar": {
              "outlinewidth": 0,
              "tickcolor": "rgb(237,237,237)",
              "ticklen": 6,
              "ticks": "inside"
             }
            }
           }
          ],
          "carpet": [
           {
            "aaxis": {
             "endlinecolor": "rgb(51,51,51)",
             "gridcolor": "white",
             "linecolor": "white",
             "minorgridcolor": "white",
             "startlinecolor": "rgb(51,51,51)"
            },
            "baxis": {
             "endlinecolor": "rgb(51,51,51)",
             "gridcolor": "white",
             "linecolor": "white",
             "minorgridcolor": "white",
             "startlinecolor": "rgb(51,51,51)"
            },
            "type": "carpet"
           }
          ],
          "table": [
           {
            "cells": {
             "fill": {
              "color": "rgb(237,237,237)"
             },
             "line": {
              "color": "white"
             }
            },
            "header": {
             "fill": {
              "color": "rgb(217,217,217)"
             },
             "line": {
              "color": "white"
             }
            },
            "type": "table"
           }
          ],
          "barpolar": [
           {
            "marker": {
             "line": {
              "color": "rgb(237,237,237)",
              "width": 0.5
             },
             "pattern": {
              "fillmode": "overlay",
              "size": 10,
              "solidity": 0.2
             }
            },
            "type": "barpolar"
           }
          ],
          "pie": [
           {
            "automargin": true,
            "type": "pie"
           }
          ]
         },
         "layout": {
          "autotypenumbers": "strict",
          "colorway": [
           "#F8766D",
           "#A3A500",
           "#00BF7D",
           "#00B0F6",
           "#E76BF3"
          ],
          "font": {
           "color": "rgb(51,51,51)"
          },
          "hovermode": "closest",
          "hoverlabel": {
           "align": "left"
          },
          "paper_bgcolor": "white",
          "plot_bgcolor": "rgb(237,237,237)",
          "polar": {
           "bgcolor": "rgb(237,237,237)",
           "angularaxis": {
            "gridcolor": "white",
            "linecolor": "white",
            "showgrid": true,
            "tickcolor": "rgb(51,51,51)",
            "ticks": "outside"
           },
           "radialaxis": {
            "gridcolor": "white",
            "linecolor": "white",
            "showgrid": true,
            "tickcolor": "rgb(51,51,51)",
            "ticks": "outside"
           }
          },
          "ternary": {
           "bgcolor": "rgb(237,237,237)",
           "aaxis": {
            "gridcolor": "white",
            "linecolor": "white",
            "showgrid": true,
            "tickcolor": "rgb(51,51,51)",
            "ticks": "outside"
           },
           "baxis": {
            "gridcolor": "white",
            "linecolor": "white",
            "showgrid": true,
            "tickcolor": "rgb(51,51,51)",
            "ticks": "outside"
           },
           "caxis": {
            "gridcolor": "white",
            "linecolor": "white",
            "showgrid": true,
            "tickcolor": "rgb(51,51,51)",
            "ticks": "outside"
           }
          },
          "coloraxis": {
           "colorbar": {
            "outlinewidth": 0,
            "tickcolor": "rgb(237,237,237)",
            "ticklen": 6,
            "ticks": "inside"
           }
          },
          "colorscale": {
           "sequential": [
            [
             0,
             "rgb(20,44,66)"
            ],
            [
             1,
             "rgb(90,179,244)"
            ]
           ],
           "sequentialminus": [
            [
             0,
             "rgb(20,44,66)"
            ],
            [
             1,
             "rgb(90,179,244)"
            ]
           ]
          },
          "xaxis": {
           "gridcolor": "white",
           "linecolor": "white",
           "showgrid": true,
           "tickcolor": "rgb(51,51,51)",
           "ticks": "outside",
           "title": {
            "standoff": 15
           },
           "zerolinecolor": "white",
           "automargin": true
          },
          "yaxis": {
           "gridcolor": "white",
           "linecolor": "white",
           "showgrid": true,
           "tickcolor": "rgb(51,51,51)",
           "ticks": "outside",
           "title": {
            "standoff": 15
           },
           "zerolinecolor": "white",
           "automargin": true
          },
          "scene": {
           "xaxis": {
            "backgroundcolor": "rgb(237,237,237)",
            "gridcolor": "white",
            "linecolor": "white",
            "showbackground": true,
            "showgrid": true,
            "tickcolor": "rgb(51,51,51)",
            "ticks": "outside",
            "zerolinecolor": "white",
            "gridwidth": 2
           },
           "yaxis": {
            "backgroundcolor": "rgb(237,237,237)",
            "gridcolor": "white",
            "linecolor": "white",
            "showbackground": true,
            "showgrid": true,
            "tickcolor": "rgb(51,51,51)",
            "ticks": "outside",
            "zerolinecolor": "white",
            "gridwidth": 2
           },
           "zaxis": {
            "backgroundcolor": "rgb(237,237,237)",
            "gridcolor": "white",
            "linecolor": "white",
            "showbackground": true,
            "showgrid": true,
            "tickcolor": "rgb(51,51,51)",
            "ticks": "outside",
            "zerolinecolor": "white",
            "gridwidth": 2
           }
          },
          "shapedefaults": {
           "fillcolor": "black",
           "line": {
            "width": 0
           },
           "opacity": 0.3
          },
          "annotationdefaults": {
           "arrowhead": 0,
           "arrowwidth": 1
          },
          "geo": {
           "bgcolor": "white",
           "landcolor": "rgb(237,237,237)",
           "subunitcolor": "white",
           "showland": true,
           "showlakes": true,
           "lakecolor": "white"
          }
         }
        },
        "xaxis": {
         "anchor": "y",
         "domain": [
          0.0,
          1.0
         ],
         "title": {
          "text": "x"
         }
        },
        "yaxis": {
         "anchor": "x",
         "domain": [
          0.0,
          1.0
         ],
         "title": {
          "text": "y"
         }
        },
        "legend": {
         "tracegroupgap": 0
        },
        "margin": {
         "t": 60
        }
       },
       "config": {
        "plotlyServerURL": "https://plot.ly"
       }
      },
      "text/html": "<div>                            <div id=\"41110790-433e-4a72-a602-9318f9656a0d\" class=\"plotly-graph-div\" style=\"height:525px; width:100%;\"></div>            <script type=\"text/javascript\">                require([\"plotly\"], function(Plotly) {                    window.PLOTLYENV=window.PLOTLYENV || {};                                    if (document.getElementById(\"41110790-433e-4a72-a602-9318f9656a0d\")) {                    Plotly.newPlot(                        \"41110790-433e-4a72-a602-9318f9656a0d\",                        [{\"hovertemplate\":\"x=%{x}<br>y=%{y}<extra></extra>\",\"legendgroup\":\"\",\"marker\":{\"color\":\"black\",\"symbol\":\"x-thin\",\"line\":{\"width\":2},\"size\":12},\"mode\":\"markers\",\"name\":\"\",\"orientation\":\"v\",\"showlegend\":false,\"x\":[-0.19926856730977585,-1.0955539685377085,1.3008936680112737],\"xaxis\":\"x\",\"y\":[1.1530124069197902,-1.2596285037714248,0.07156546285872234],\"yaxis\":\"y\",\"type\":\"scatter\"},{\"marker\":{\"color\":[1,2,0,2,1,2,0,2,2,0,0,1,1,0,0,1,1,0,1,1,0,1,1,0,0,0,2,1,1,1,1,2,2,1,0,0,0,0,2,2,1,0,2,0,0,2,1,1,1,2,2,2,0,1,1,1,0,0,2,0,1,2,1,2,1,1,2,1,2,2,2,1,1,0,2,1,2,1,2,2,0,2,0,1,0,0,0,2,0,2,2,2,0,2,0,0,0,2,1,0]},\"mode\":\"markers\",\"x\":[-1.2573011106971093,1.4998715684903412,-0.26408826166498317,1.6231463231728998,-1.0053068645974528,1.1224697310288583,-0.09657664603432181,1.2837319376177734,1.3499948376883761,-0.40665974808334665,-0.2797588301703713,-1.0325709167936523,-0.9709663656954407,-0.3973173208267774,-0.011391138576671839,-1.3041818098280817,-1.0222719880924467,-0.18094009551642798,-1.2650547139006258,-0.9811550637625178,-0.2628212221567212,-1.0962841721737921,-1.1735641604199214,-0.09027309815950728,-0.17337050908815962,-0.2622398811994524,1.0335958224750326,-0.949267286453829,-1.2840548333538477,-1.338920620604083,-1.2224136064051525,1.3916338962882964,1.2894452894121804,-0.8377805212510501,0.16449010144532888,-0.2915273859296959,-0.1517491544000393,-0.09807856495760328,1.5211855415455626,1.348882586980985,-1.3683584828934279,-0.26611743754464817,1.3224249624065303,-0.443727807730151,-0.19006904966571447,1.1074562385311892,-1.4164347586176622,-1.0439258999781087,-1.077434806626486,1.1605524465638433,0.7816448207352634,1.3307562636938035,0.004101801906441477,-1.0257881653302157,-0.9081825811202451,-1.1269024092053697,-0.3777566340987746,-0.11525814357092755,1.6388569309033947,-0.5267227414104482,-1.0188449978669243,1.1828194373911978,-1.1314891134741294,0.9282861633616452,-1.1355200632872755,-1.0353670781746103,1.3422865001750113,-1.2662381375976373,1.2188625213559128,1.3835652078413303,1.2579918400766232,-1.0277525095134652,-1.3293713794589286,-0.09399205191715058,1.350533271147544,-0.8786197631655078,1.495167726759943,-1.0679776929595852,1.7242701923293287,1.0052930541664655,-0.09022280321330656,1.1658326332977078,0.006197761242894448,-0.6898411047563574,-0.16869939740892628,-0.12218227362443868,0.14073289089621463,1.1373461374868485,-0.4751775730559993,1.247658860054344,1.3478964953097787,1.5687611743258516,-0.3558313584018054,1.4524550450340694,-0.2917507916284675,-0.30748559383734775,0.04980575354256323,1.2959461261938703,-0.8535841382065299,-0.34143726274160646],\"y\":[-1.5248661551026996,-0.11317684540920024,1.24865263596926,-0.1395939665373649,-1.2041850698555872,-0.01050259494267867,1.3155479927269065,0.13216250802627696,0.22664308228801694,1.2228727762646598,1.1819654853839052,-1.0888741692639545,-1.2449416362110663,0.9800165536315942,1.1913042276403332,-1.2162841393416939,-1.1630269831910491,1.3198720491013118,-1.267074961877581,-1.3020771189392162,1.092873815264941,-1.2381178736640603,-1.1585132380317225,1.402451830615932,1.4065625743849373,1.3281514965306567,0.012000419799582404,-1.4232543752340432,-1.1692221462218475,-1.494833182125393,-1.2549424466368035,0.11732184133286994,0.12357778774253715,-1.4176190216019486,1.283395339329617,1.1197620407581816,0.9447073249441873,1.1053336936611493,0.12778071710344352,-0.23008624016499915,-1.4357173451897804,1.1361442078279511,-0.10356918578096352,1.1952428397609631,1.11830822235882,0.15015842065103066,-1.2622996194700808,-1.231294404149091,-1.0662569934251098,-0.0005311839617038024,0.2039716524021513,0.04074604968429828,1.3743646176328117,-1.1700350736190144,-0.9977743510739705,-1.1805134996062299,1.2133787643400449,0.869230068152188,-0.0030824374668065153,1.077955825946553,-1.401191103453984,0.02636614041837886,-1.4072759704778344,0.07289296501680066,-0.870564325453084,-1.4832894214358339,0.45755544274477966,-1.41686630188041,0.15628813168740383,0.06548755762739165,-0.04696097674506489,-1.2372996156642249,-1.1893889321406699,0.8924418709482749,-0.0007967059600693054,-1.2270513392996467,-0.06350929295441378,-1.467411890191914,0.10396124136177082,0.08758215422690266,1.065158407565513,0.027231426966097216,0.9762101808509858,-1.2176189244820599,1.0014138702760857,0.8620629216649408,1.1299461590005782,0.31645117092653857,1.0536136241888028,-0.149120917385602,0.03079325091928826,0.1931615045501423,0.9466299737541434,0.41541045891353895,1.45100155194904,1.2593309619899002,1.3087091347268405,0.1394143821908024,-1.128014817065639,1.117055446964054],\"type\":\"scatter\"}],                        {\"template\":{\"data\":{\"histogram2dcontour\":[{\"type\":\"histogram2dcontour\",\"colorbar\":{\"outlinewidth\":0,\"tickcolor\":\"rgb(237,237,237)\",\"ticklen\":6,\"ticks\":\"inside\"},\"colorscale\":[[0,\"rgb(20,44,66)\"],[1,\"rgb(90,179,244)\"]]}],\"choropleth\":[{\"type\":\"choropleth\",\"colorbar\":{\"outlinewidth\":0,\"tickcolor\":\"rgb(237,237,237)\",\"ticklen\":6,\"ticks\":\"inside\"}}],\"histogram2d\":[{\"type\":\"histogram2d\",\"colorbar\":{\"outlinewidth\":0,\"tickcolor\":\"rgb(237,237,237)\",\"ticklen\":6,\"ticks\":\"inside\"},\"colorscale\":[[0,\"rgb(20,44,66)\"],[1,\"rgb(90,179,244)\"]]}],\"heatmap\":[{\"type\":\"heatmap\",\"colorbar\":{\"outlinewidth\":0,\"tickcolor\":\"rgb(237,237,237)\",\"ticklen\":6,\"ticks\":\"inside\"},\"colorscale\":[[0,\"rgb(20,44,66)\"],[1,\"rgb(90,179,244)\"]]}],\"heatmapgl\":[{\"type\":\"heatmapgl\",\"colorbar\":{\"outlinewidth\":0,\"tickcolor\":\"rgb(237,237,237)\",\"ticklen\":6,\"ticks\":\"inside\"},\"colorscale\":[[0,\"rgb(20,44,66)\"],[1,\"rgb(90,179,244)\"]]}],\"contourcarpet\":[{\"type\":\"contourcarpet\",\"colorbar\":{\"outlinewidth\":0,\"tickcolor\":\"rgb(237,237,237)\",\"ticklen\":6,\"ticks\":\"inside\"}}],\"contour\":[{\"type\":\"contour\",\"colorbar\":{\"outlinewidth\":0,\"tickcolor\":\"rgb(237,237,237)\",\"ticklen\":6,\"ticks\":\"inside\"},\"colorscale\":[[0,\"rgb(20,44,66)\"],[1,\"rgb(90,179,244)\"]]}],\"surface\":[{\"type\":\"surface\",\"colorbar\":{\"outlinewidth\":0,\"tickcolor\":\"rgb(237,237,237)\",\"ticklen\":6,\"ticks\":\"inside\"},\"colorscale\":[[0,\"rgb(20,44,66)\"],[1,\"rgb(90,179,244)\"]]}],\"mesh3d\":[{\"type\":\"mesh3d\",\"colorbar\":{\"outlinewidth\":0,\"tickcolor\":\"rgb(237,237,237)\",\"ticklen\":6,\"ticks\":\"inside\"}}],\"scatter\":[{\"fillpattern\":{\"fillmode\":\"overlay\",\"size\":10,\"solidity\":0.2},\"type\":\"scatter\"}],\"parcoords\":[{\"type\":\"parcoords\",\"line\":{\"colorbar\":{\"outlinewidth\":0,\"tickcolor\":\"rgb(237,237,237)\",\"ticklen\":6,\"ticks\":\"inside\"}}}],\"scatterpolargl\":[{\"type\":\"scatterpolargl\",\"marker\":{\"colorbar\":{\"outlinewidth\":0,\"tickcolor\":\"rgb(237,237,237)\",\"ticklen\":6,\"ticks\":\"inside\"}}}],\"bar\":[{\"error_x\":{\"color\":\"rgb(51,51,51)\"},\"error_y\":{\"color\":\"rgb(51,51,51)\"},\"marker\":{\"line\":{\"color\":\"rgb(237,237,237)\",\"width\":0.5},\"pattern\":{\"fillmode\":\"overlay\",\"size\":10,\"solidity\":0.2}},\"type\":\"bar\"}],\"scattergeo\":[{\"type\":\"scattergeo\",\"marker\":{\"colorbar\":{\"outlinewidth\":0,\"tickcolor\":\"rgb(237,237,237)\",\"ticklen\":6,\"ticks\":\"inside\"}}}],\"scatterpolar\":[{\"type\":\"scatterpolar\",\"marker\":{\"colorbar\":{\"outlinewidth\":0,\"tickcolor\":\"rgb(237,237,237)\",\"ticklen\":6,\"ticks\":\"inside\"}}}],\"histogram\":[{\"marker\":{\"pattern\":{\"fillmode\":\"overlay\",\"size\":10,\"solidity\":0.2}},\"type\":\"histogram\"}],\"scattergl\":[{\"type\":\"scattergl\",\"marker\":{\"colorbar\":{\"outlinewidth\":0,\"tickcolor\":\"rgb(237,237,237)\",\"ticklen\":6,\"ticks\":\"inside\"}}}],\"scatter3d\":[{\"type\":\"scatter3d\",\"line\":{\"colorbar\":{\"outlinewidth\":0,\"tickcolor\":\"rgb(237,237,237)\",\"ticklen\":6,\"ticks\":\"inside\"}},\"marker\":{\"colorbar\":{\"outlinewidth\":0,\"tickcolor\":\"rgb(237,237,237)\",\"ticklen\":6,\"ticks\":\"inside\"}}}],\"scattermapbox\":[{\"type\":\"scattermapbox\",\"marker\":{\"colorbar\":{\"outlinewidth\":0,\"tickcolor\":\"rgb(237,237,237)\",\"ticklen\":6,\"ticks\":\"inside\"}}}],\"scatterternary\":[{\"type\":\"scatterternary\",\"marker\":{\"colorbar\":{\"outlinewidth\":0,\"tickcolor\":\"rgb(237,237,237)\",\"ticklen\":6,\"ticks\":\"inside\"}}}],\"scattercarpet\":[{\"type\":\"scattercarpet\",\"marker\":{\"colorbar\":{\"outlinewidth\":0,\"tickcolor\":\"rgb(237,237,237)\",\"ticklen\":6,\"ticks\":\"inside\"}}}],\"carpet\":[{\"aaxis\":{\"endlinecolor\":\"rgb(51,51,51)\",\"gridcolor\":\"white\",\"linecolor\":\"white\",\"minorgridcolor\":\"white\",\"startlinecolor\":\"rgb(51,51,51)\"},\"baxis\":{\"endlinecolor\":\"rgb(51,51,51)\",\"gridcolor\":\"white\",\"linecolor\":\"white\",\"minorgridcolor\":\"white\",\"startlinecolor\":\"rgb(51,51,51)\"},\"type\":\"carpet\"}],\"table\":[{\"cells\":{\"fill\":{\"color\":\"rgb(237,237,237)\"},\"line\":{\"color\":\"white\"}},\"header\":{\"fill\":{\"color\":\"rgb(217,217,217)\"},\"line\":{\"color\":\"white\"}},\"type\":\"table\"}],\"barpolar\":[{\"marker\":{\"line\":{\"color\":\"rgb(237,237,237)\",\"width\":0.5},\"pattern\":{\"fillmode\":\"overlay\",\"size\":10,\"solidity\":0.2}},\"type\":\"barpolar\"}],\"pie\":[{\"automargin\":true,\"type\":\"pie\"}]},\"layout\":{\"autotypenumbers\":\"strict\",\"colorway\":[\"#F8766D\",\"#A3A500\",\"#00BF7D\",\"#00B0F6\",\"#E76BF3\"],\"font\":{\"color\":\"rgb(51,51,51)\"},\"hovermode\":\"closest\",\"hoverlabel\":{\"align\":\"left\"},\"paper_bgcolor\":\"white\",\"plot_bgcolor\":\"rgb(237,237,237)\",\"polar\":{\"bgcolor\":\"rgb(237,237,237)\",\"angularaxis\":{\"gridcolor\":\"white\",\"linecolor\":\"white\",\"showgrid\":true,\"tickcolor\":\"rgb(51,51,51)\",\"ticks\":\"outside\"},\"radialaxis\":{\"gridcolor\":\"white\",\"linecolor\":\"white\",\"showgrid\":true,\"tickcolor\":\"rgb(51,51,51)\",\"ticks\":\"outside\"}},\"ternary\":{\"bgcolor\":\"rgb(237,237,237)\",\"aaxis\":{\"gridcolor\":\"white\",\"linecolor\":\"white\",\"showgrid\":true,\"tickcolor\":\"rgb(51,51,51)\",\"ticks\":\"outside\"},\"baxis\":{\"gridcolor\":\"white\",\"linecolor\":\"white\",\"showgrid\":true,\"tickcolor\":\"rgb(51,51,51)\",\"ticks\":\"outside\"},\"caxis\":{\"gridcolor\":\"white\",\"linecolor\":\"white\",\"showgrid\":true,\"tickcolor\":\"rgb(51,51,51)\",\"ticks\":\"outside\"}},\"coloraxis\":{\"colorbar\":{\"outlinewidth\":0,\"tickcolor\":\"rgb(237,237,237)\",\"ticklen\":6,\"ticks\":\"inside\"}},\"colorscale\":{\"sequential\":[[0,\"rgb(20,44,66)\"],[1,\"rgb(90,179,244)\"]],\"sequentialminus\":[[0,\"rgb(20,44,66)\"],[1,\"rgb(90,179,244)\"]]},\"xaxis\":{\"gridcolor\":\"white\",\"linecolor\":\"white\",\"showgrid\":true,\"tickcolor\":\"rgb(51,51,51)\",\"ticks\":\"outside\",\"title\":{\"standoff\":15},\"zerolinecolor\":\"white\",\"automargin\":true},\"yaxis\":{\"gridcolor\":\"white\",\"linecolor\":\"white\",\"showgrid\":true,\"tickcolor\":\"rgb(51,51,51)\",\"ticks\":\"outside\",\"title\":{\"standoff\":15},\"zerolinecolor\":\"white\",\"automargin\":true},\"scene\":{\"xaxis\":{\"backgroundcolor\":\"rgb(237,237,237)\",\"gridcolor\":\"white\",\"linecolor\":\"white\",\"showbackground\":true,\"showgrid\":true,\"tickcolor\":\"rgb(51,51,51)\",\"ticks\":\"outside\",\"zerolinecolor\":\"white\",\"gridwidth\":2},\"yaxis\":{\"backgroundcolor\":\"rgb(237,237,237)\",\"gridcolor\":\"white\",\"linecolor\":\"white\",\"showbackground\":true,\"showgrid\":true,\"tickcolor\":\"rgb(51,51,51)\",\"ticks\":\"outside\",\"zerolinecolor\":\"white\",\"gridwidth\":2},\"zaxis\":{\"backgroundcolor\":\"rgb(237,237,237)\",\"gridcolor\":\"white\",\"linecolor\":\"white\",\"showbackground\":true,\"showgrid\":true,\"tickcolor\":\"rgb(51,51,51)\",\"ticks\":\"outside\",\"zerolinecolor\":\"white\",\"gridwidth\":2}},\"shapedefaults\":{\"fillcolor\":\"black\",\"line\":{\"width\":0},\"opacity\":0.3},\"annotationdefaults\":{\"arrowhead\":0,\"arrowwidth\":1},\"geo\":{\"bgcolor\":\"white\",\"landcolor\":\"rgb(237,237,237)\",\"subunitcolor\":\"white\",\"showland\":true,\"showlakes\":true,\"lakecolor\":\"white\"}}},\"xaxis\":{\"anchor\":\"y\",\"domain\":[0.0,1.0],\"title\":{\"text\":\"x\"}},\"yaxis\":{\"anchor\":\"x\",\"domain\":[0.0,1.0],\"title\":{\"text\":\"y\"}},\"legend\":{\"tracegroupgap\":0},\"margin\":{\"t\":60}},                        {\"responsive\": true}                    ).then(function(){\n                            \nvar gd = document.getElementById('41110790-433e-4a72-a602-9318f9656a0d');\nvar x = new MutationObserver(function (mutations, observer) {{\n        var display = window.getComputedStyle(gd).display;\n        if (!display || display === 'none') {{\n            console.log([gd, 'removed!']);\n            Plotly.purge(gd);\n            observer.disconnect();\n        }}\n}});\n\n// Listen for the removal of the full notebook cells\nvar notebookContainer = gd.closest('#notebook-container');\nif (notebookContainer) {{\n    x.observe(notebookContainer, {childList: true});\n}}\n\n// Listen for the clearing of the current output cell\nvar outputEl = gd.closest('.output');\nif (outputEl) {{\n    x.observe(outputEl, {childList: true});\n}}\n\n                        })                };                });            </script>        </div>"
     },
     "metadata": {},
     "output_type": "display_data"
    }
   ],
   "source": [
    "fig = px.scatter(x=kmeans.centroids[:, 0], y=kmeans.centroids[:, 1])\n",
    "fig.update_traces(mode='markers', marker_size=12, marker_color='black', marker_symbol='x-thin', marker_line_width=2)\n",
    "fig.add_scatter(x=x_train_scaled[:, 0], y=x_train_scaled[:, 1], marker_color=kmeans.labels, mode='markers')\n",
    "fig.show()"
   ],
   "metadata": {
    "collapsed": false
   }
  },
  {
   "cell_type": "code",
   "execution_count": 10,
   "outputs": [],
   "source": [
    "noise, noise_labels = make_blobs(n_samples=2, centers=[[100, 1]])\n",
    "x_train = np.append(x_train, noise, axis=0)\n",
    "true_labels = np.append(true_labels, noise_labels)\n",
    "x_train_scaled = StandardScaler().fit_transform(x_train)"
   ],
   "metadata": {
    "collapsed": false
   }
  },
  {
   "cell_type": "code",
   "execution_count": null,
   "outputs": [],
   "source": [
    "px.scatter(x=x_train_scaled[:, 0], y=x_train_scaled[:, 1], color=true_labels)"
   ],
   "metadata": {
    "collapsed": false,
    "pycharm": {
     "is_executing": true
    }
   }
  },
  {
   "cell_type": "code",
   "execution_count": 12,
   "outputs": [],
   "source": [
    "kmeans = KMeans(n_clusters=n_clusters)\n",
    "kmeans.fit(x_train_scaled)"
   ],
   "metadata": {
    "collapsed": false
   }
  },
  {
   "cell_type": "code",
   "execution_count": 13,
   "outputs": [
    {
     "data": {
      "text/plain": "(80.53990216881081, 0.9803921568627451)"
     },
     "execution_count": 13,
     "metadata": {},
     "output_type": "execute_result"
    }
   ],
   "source": [
    "kmeans.inertia, kmeans.score(true_labels)"
   ],
   "metadata": {
    "collapsed": false
   }
  },
  {
   "cell_type": "code",
   "execution_count": 14,
   "outputs": [
    {
     "data": {
      "application/vnd.plotly.v1+json": {
       "data": [
        {
         "hovertemplate": "x=%{x}<br>y=%{y}<extra></extra>",
         "legendgroup": "",
         "marker": {
          "color": "black",
          "symbol": "x-thin",
          "line": {
           "width": 2
          },
          "size": 12
         },
         "mode": "markers",
         "name": "",
         "orientation": "v",
         "showlegend": false,
         "x": [
          0.6496570166893901,
          -0.48512542609970527,
          -0.19790754478936434
         ],
         "xaxis": "x",
         "y": [
          0.0666465364571165,
          -1.270866503239191,
          1.1648813479674773
         ],
         "yaxis": "y",
         "type": "scatter"
        },
        {
         "marker": {
          "color": [
           1,
           0,
           2,
           0,
           1,
           0,
           2,
           0,
           0,
           2,
           2,
           1,
           1,
           2,
           2,
           1,
           1,
           2,
           1,
           1,
           2,
           1,
           1,
           2,
           2,
           2,
           0,
           1,
           1,
           1,
           1,
           0,
           0,
           1,
           2,
           2,
           2,
           2,
           0,
           0,
           1,
           2,
           0,
           2,
           2,
           0,
           1,
           1,
           1,
           0,
           0,
           0,
           2,
           1,
           1,
           1,
           2,
           2,
           0,
           2,
           1,
           0,
           1,
           0,
           1,
           1,
           0,
           1,
           0,
           0,
           0,
           1,
           1,
           2,
           0,
           1,
           0,
           1,
           0,
           0,
           2,
           0,
           2,
           1,
           2,
           2,
           2,
           0,
           2,
           0,
           0,
           0,
           2,
           0,
           2,
           2,
           2,
           0,
           1,
           2,
           0,
           0
          ]
         },
         "mode": "markers",
         "x": [
          -0.5370665639310375,
          0.3465847983854564,
          -0.21874994424941036,
          0.3860933521067189,
          -0.4563044627602459,
          0.22563058672836558,
          -0.16506383729165047,
          0.2773138090445151,
          0.2985505282244272,
          -0.26444294315080746,
          -0.22377223368111218,
          -0.4650423691842061,
          -0.4452986128668204,
          -0.2614487713911181,
          -0.1377625767348551,
          -0.5520914457478854,
          -0.4617416465106075,
          -0.19210163497015909,
          -0.5395515305366357,
          -0.44856400752097647,
          -0.21834386841816625,
          -0.48546194803005166,
          -0.5102295541393722,
          -0.1630436015954776,
          -0.18967564424059657,
          -0.21815755338148443,
          0.19714722369463503,
          -0.4383442348992733,
          -0.5456409138987122,
          -0.5632249513491794,
          -0.525885403270293,
          0.3118955069902255,
          0.2791448917092428,
          -0.4026136356896774,
          -0.08139407340369723,
          -0.22754395984383097,
          -0.1827461763586951,
          -0.16554519006025462,
          0.3534157529603342,
          0.29819406094174933,
          -0.5726595461832364,
          -0.2194002785734013,
          0.28971460799512966,
          -0.2763229540230249,
          -0.19502739033957583,
          0.22081888479948839,
          -0.5880676005497634,
          -0.468681548708857,
          -0.479420880065608,
          0.23783578653947,
          0.11639898198858264,
          0.29238472212615235,
          -0.13279721563595354,
          -0.46286855264519766,
          -0.4251769218352645,
          -0.4952748433444852,
          -0.2551797307882133,
          -0.1710511049274225,
          0.3911284737835966,
          -0.3029221535456224,
          -0.46064332408623154,
          0.2449721755396248,
          -0.4967448446636724,
          0.16339633661996159,
          -0.4980367312113317,
          -0.465938516107535,
          0.29608006890343624,
          -0.5399308081821584,
          0.2565236900631527,
          0.3093095581332355,
          0.2690643176615162,
          -0.46349810893911053,
          -0.5601644974245122,
          -0.16423549595129358,
          0.29872309175782574,
          -0.41570227972930957,
          0.34507725546492657,
          -0.47638995224653446,
          0.41850272763017277,
          0.1880764172261175,
          -0.16302748247531387,
          0.23952804333422392,
          -0.13212547775859926,
          -0.3552002589677058,
          -0.18817859103459156,
          -0.17327023215178075,
          -0.08900806567376111,
          0.23039835369929426,
          -0.2864023473756784,
          0.2657526818171602,
          0.29787802660149637,
          0.3686633553454562,
          -0.24815285870107906,
          0.33138818924134056,
          -0.22761555954868767,
          -0.23265843535861164,
          -0.11814947179627204,
          0.28122835689142006,
          -0.40767856606478664,
          -0.2435396684081892,
          6.703101242422738,
          6.7080797277574655
         ],
         "y": [
          -1.539020720068423,
          -0.11344430589127283,
          1.261781797652531,
          -0.14012129816724955,
          -1.2151850230337322,
          -0.009760025785638471,
          1.3293352190440777,
          0.13430850581134215,
          0.22971850668093322,
          1.2357483356837262,
          1.1944386306041086,
          -1.09873978324039,
          -1.2563425208771013,
          0.9905030818983724,
          1.2038692401634694,
          -1.227403113781072,
          -1.1736220550359344,
          1.3337018121312376,
          -1.278693577034306,
          -1.3140400581684764,
          1.1044705457364672,
          -1.2494516314468558,
          -1.1690639071527154,
          1.417093949485245,
          1.4212451315630437,
          1.3420627063426245,
          0.012964356161698882,
          -1.436409362322314,
          -1.1798781612754905,
          -1.508692305997367,
          -1.2664417115189026,
          0.11932184814983525,
          0.12563933570799643,
          -1.4307185724521223,
          1.2968662727811495,
          1.131623276736862,
          0.9548465084059491,
          1.1170529947521124,
          0.1298836102280476,
          -0.2315037645945324,
          -1.448994933309853,
          1.148166598859804,
          -0.10374213355957897,
          1.2078465972952461,
          1.130155156799709,
          0.15248144826637264,
          -1.273871258512088,
          -1.2425610379312693,
          -1.0759001171681473,
          3.0947620246620536E-4,
          0.20682405285243594,
          0.04199276325731825,
          1.388730436286013,
          -1.1806990856218618,
          -1.0067437956985812,
          -1.191280590236584,
          1.2261609290336142,
          0.8786267649038696,
          -0.0022668745557972146,
          1.0894058048099682,
          -1.4141290491873637,
          0.02747139559749444,
          -1.4202737744134046,
          0.07445591500882877,
          -0.8782823765132365,
          -1.4970349867438022,
          0.4629024038378822,
          -1.4299584480577936,
          0.1586714586455489,
          0.0669776589653607,
          -0.04657705687007139,
          -1.2486253240594816,
          -1.2002433323922677,
          0.9020669074121507,
          4.134220462695837E-5,
          -1.238276233100874,
          -0.06328816257895796,
          -1.4810012646625552,
          0.10582981695906982,
          0.08928960506903998,
          1.076482495352926,
          0.028345194163129167,
          0.9866592649746758,
          -1.2287510295023527,
          1.0121108887476642,
          0.871389113588517,
          1.1419075784354447,
          0.3204100576378533,
          1.0648241433518075,
          -0.1497419677685661,
          0.031942056577722935,
          0.19590756315050734,
          0.9567880707436381,
          0.4203428303445202,
          1.4661212653203273,
          1.2725651687621584,
          1.3224290856634136,
          0.14163171828914484,
          -1.1382654663765828,
          1.1288900575722962,
          -0.1403474850170697,
          0.055758931018636035
         ],
         "type": "scatter"
        }
       ],
       "layout": {
        "template": {
         "data": {
          "histogram2dcontour": [
           {
            "type": "histogram2dcontour",
            "colorbar": {
             "outlinewidth": 0,
             "tickcolor": "rgb(237,237,237)",
             "ticklen": 6,
             "ticks": "inside"
            },
            "colorscale": [
             [
              0,
              "rgb(20,44,66)"
             ],
             [
              1,
              "rgb(90,179,244)"
             ]
            ]
           }
          ],
          "choropleth": [
           {
            "type": "choropleth",
            "colorbar": {
             "outlinewidth": 0,
             "tickcolor": "rgb(237,237,237)",
             "ticklen": 6,
             "ticks": "inside"
            }
           }
          ],
          "histogram2d": [
           {
            "type": "histogram2d",
            "colorbar": {
             "outlinewidth": 0,
             "tickcolor": "rgb(237,237,237)",
             "ticklen": 6,
             "ticks": "inside"
            },
            "colorscale": [
             [
              0,
              "rgb(20,44,66)"
             ],
             [
              1,
              "rgb(90,179,244)"
             ]
            ]
           }
          ],
          "heatmap": [
           {
            "type": "heatmap",
            "colorbar": {
             "outlinewidth": 0,
             "tickcolor": "rgb(237,237,237)",
             "ticklen": 6,
             "ticks": "inside"
            },
            "colorscale": [
             [
              0,
              "rgb(20,44,66)"
             ],
             [
              1,
              "rgb(90,179,244)"
             ]
            ]
           }
          ],
          "heatmapgl": [
           {
            "type": "heatmapgl",
            "colorbar": {
             "outlinewidth": 0,
             "tickcolor": "rgb(237,237,237)",
             "ticklen": 6,
             "ticks": "inside"
            },
            "colorscale": [
             [
              0,
              "rgb(20,44,66)"
             ],
             [
              1,
              "rgb(90,179,244)"
             ]
            ]
           }
          ],
          "contourcarpet": [
           {
            "type": "contourcarpet",
            "colorbar": {
             "outlinewidth": 0,
             "tickcolor": "rgb(237,237,237)",
             "ticklen": 6,
             "ticks": "inside"
            }
           }
          ],
          "contour": [
           {
            "type": "contour",
            "colorbar": {
             "outlinewidth": 0,
             "tickcolor": "rgb(237,237,237)",
             "ticklen": 6,
             "ticks": "inside"
            },
            "colorscale": [
             [
              0,
              "rgb(20,44,66)"
             ],
             [
              1,
              "rgb(90,179,244)"
             ]
            ]
           }
          ],
          "surface": [
           {
            "type": "surface",
            "colorbar": {
             "outlinewidth": 0,
             "tickcolor": "rgb(237,237,237)",
             "ticklen": 6,
             "ticks": "inside"
            },
            "colorscale": [
             [
              0,
              "rgb(20,44,66)"
             ],
             [
              1,
              "rgb(90,179,244)"
             ]
            ]
           }
          ],
          "mesh3d": [
           {
            "type": "mesh3d",
            "colorbar": {
             "outlinewidth": 0,
             "tickcolor": "rgb(237,237,237)",
             "ticklen": 6,
             "ticks": "inside"
            }
           }
          ],
          "scatter": [
           {
            "fillpattern": {
             "fillmode": "overlay",
             "size": 10,
             "solidity": 0.2
            },
            "type": "scatter"
           }
          ],
          "parcoords": [
           {
            "type": "parcoords",
            "line": {
             "colorbar": {
              "outlinewidth": 0,
              "tickcolor": "rgb(237,237,237)",
              "ticklen": 6,
              "ticks": "inside"
             }
            }
           }
          ],
          "scatterpolargl": [
           {
            "type": "scatterpolargl",
            "marker": {
             "colorbar": {
              "outlinewidth": 0,
              "tickcolor": "rgb(237,237,237)",
              "ticklen": 6,
              "ticks": "inside"
             }
            }
           }
          ],
          "bar": [
           {
            "error_x": {
             "color": "rgb(51,51,51)"
            },
            "error_y": {
             "color": "rgb(51,51,51)"
            },
            "marker": {
             "line": {
              "color": "rgb(237,237,237)",
              "width": 0.5
             },
             "pattern": {
              "fillmode": "overlay",
              "size": 10,
              "solidity": 0.2
             }
            },
            "type": "bar"
           }
          ],
          "scattergeo": [
           {
            "type": "scattergeo",
            "marker": {
             "colorbar": {
              "outlinewidth": 0,
              "tickcolor": "rgb(237,237,237)",
              "ticklen": 6,
              "ticks": "inside"
             }
            }
           }
          ],
          "scatterpolar": [
           {
            "type": "scatterpolar",
            "marker": {
             "colorbar": {
              "outlinewidth": 0,
              "tickcolor": "rgb(237,237,237)",
              "ticklen": 6,
              "ticks": "inside"
             }
            }
           }
          ],
          "histogram": [
           {
            "marker": {
             "pattern": {
              "fillmode": "overlay",
              "size": 10,
              "solidity": 0.2
             }
            },
            "type": "histogram"
           }
          ],
          "scattergl": [
           {
            "type": "scattergl",
            "marker": {
             "colorbar": {
              "outlinewidth": 0,
              "tickcolor": "rgb(237,237,237)",
              "ticklen": 6,
              "ticks": "inside"
             }
            }
           }
          ],
          "scatter3d": [
           {
            "type": "scatter3d",
            "line": {
             "colorbar": {
              "outlinewidth": 0,
              "tickcolor": "rgb(237,237,237)",
              "ticklen": 6,
              "ticks": "inside"
             }
            },
            "marker": {
             "colorbar": {
              "outlinewidth": 0,
              "tickcolor": "rgb(237,237,237)",
              "ticklen": 6,
              "ticks": "inside"
             }
            }
           }
          ],
          "scattermapbox": [
           {
            "type": "scattermapbox",
            "marker": {
             "colorbar": {
              "outlinewidth": 0,
              "tickcolor": "rgb(237,237,237)",
              "ticklen": 6,
              "ticks": "inside"
             }
            }
           }
          ],
          "scatterternary": [
           {
            "type": "scatterternary",
            "marker": {
             "colorbar": {
              "outlinewidth": 0,
              "tickcolor": "rgb(237,237,237)",
              "ticklen": 6,
              "ticks": "inside"
             }
            }
           }
          ],
          "scattercarpet": [
           {
            "type": "scattercarpet",
            "marker": {
             "colorbar": {
              "outlinewidth": 0,
              "tickcolor": "rgb(237,237,237)",
              "ticklen": 6,
              "ticks": "inside"
             }
            }
           }
          ],
          "carpet": [
           {
            "aaxis": {
             "endlinecolor": "rgb(51,51,51)",
             "gridcolor": "white",
             "linecolor": "white",
             "minorgridcolor": "white",
             "startlinecolor": "rgb(51,51,51)"
            },
            "baxis": {
             "endlinecolor": "rgb(51,51,51)",
             "gridcolor": "white",
             "linecolor": "white",
             "minorgridcolor": "white",
             "startlinecolor": "rgb(51,51,51)"
            },
            "type": "carpet"
           }
          ],
          "table": [
           {
            "cells": {
             "fill": {
              "color": "rgb(237,237,237)"
             },
             "line": {
              "color": "white"
             }
            },
            "header": {
             "fill": {
              "color": "rgb(217,217,217)"
             },
             "line": {
              "color": "white"
             }
            },
            "type": "table"
           }
          ],
          "barpolar": [
           {
            "marker": {
             "line": {
              "color": "rgb(237,237,237)",
              "width": 0.5
             },
             "pattern": {
              "fillmode": "overlay",
              "size": 10,
              "solidity": 0.2
             }
            },
            "type": "barpolar"
           }
          ],
          "pie": [
           {
            "automargin": true,
            "type": "pie"
           }
          ]
         },
         "layout": {
          "autotypenumbers": "strict",
          "colorway": [
           "#F8766D",
           "#A3A500",
           "#00BF7D",
           "#00B0F6",
           "#E76BF3"
          ],
          "font": {
           "color": "rgb(51,51,51)"
          },
          "hovermode": "closest",
          "hoverlabel": {
           "align": "left"
          },
          "paper_bgcolor": "white",
          "plot_bgcolor": "rgb(237,237,237)",
          "polar": {
           "bgcolor": "rgb(237,237,237)",
           "angularaxis": {
            "gridcolor": "white",
            "linecolor": "white",
            "showgrid": true,
            "tickcolor": "rgb(51,51,51)",
            "ticks": "outside"
           },
           "radialaxis": {
            "gridcolor": "white",
            "linecolor": "white",
            "showgrid": true,
            "tickcolor": "rgb(51,51,51)",
            "ticks": "outside"
           }
          },
          "ternary": {
           "bgcolor": "rgb(237,237,237)",
           "aaxis": {
            "gridcolor": "white",
            "linecolor": "white",
            "showgrid": true,
            "tickcolor": "rgb(51,51,51)",
            "ticks": "outside"
           },
           "baxis": {
            "gridcolor": "white",
            "linecolor": "white",
            "showgrid": true,
            "tickcolor": "rgb(51,51,51)",
            "ticks": "outside"
           },
           "caxis": {
            "gridcolor": "white",
            "linecolor": "white",
            "showgrid": true,
            "tickcolor": "rgb(51,51,51)",
            "ticks": "outside"
           }
          },
          "coloraxis": {
           "colorbar": {
            "outlinewidth": 0,
            "tickcolor": "rgb(237,237,237)",
            "ticklen": 6,
            "ticks": "inside"
           }
          },
          "colorscale": {
           "sequential": [
            [
             0,
             "rgb(20,44,66)"
            ],
            [
             1,
             "rgb(90,179,244)"
            ]
           ],
           "sequentialminus": [
            [
             0,
             "rgb(20,44,66)"
            ],
            [
             1,
             "rgb(90,179,244)"
            ]
           ]
          },
          "xaxis": {
           "gridcolor": "white",
           "linecolor": "white",
           "showgrid": true,
           "tickcolor": "rgb(51,51,51)",
           "ticks": "outside",
           "title": {
            "standoff": 15
           },
           "zerolinecolor": "white",
           "automargin": true
          },
          "yaxis": {
           "gridcolor": "white",
           "linecolor": "white",
           "showgrid": true,
           "tickcolor": "rgb(51,51,51)",
           "ticks": "outside",
           "title": {
            "standoff": 15
           },
           "zerolinecolor": "white",
           "automargin": true
          },
          "scene": {
           "xaxis": {
            "backgroundcolor": "rgb(237,237,237)",
            "gridcolor": "white",
            "linecolor": "white",
            "showbackground": true,
            "showgrid": true,
            "tickcolor": "rgb(51,51,51)",
            "ticks": "outside",
            "zerolinecolor": "white",
            "gridwidth": 2
           },
           "yaxis": {
            "backgroundcolor": "rgb(237,237,237)",
            "gridcolor": "white",
            "linecolor": "white",
            "showbackground": true,
            "showgrid": true,
            "tickcolor": "rgb(51,51,51)",
            "ticks": "outside",
            "zerolinecolor": "white",
            "gridwidth": 2
           },
           "zaxis": {
            "backgroundcolor": "rgb(237,237,237)",
            "gridcolor": "white",
            "linecolor": "white",
            "showbackground": true,
            "showgrid": true,
            "tickcolor": "rgb(51,51,51)",
            "ticks": "outside",
            "zerolinecolor": "white",
            "gridwidth": 2
           }
          },
          "shapedefaults": {
           "fillcolor": "black",
           "line": {
            "width": 0
           },
           "opacity": 0.3
          },
          "annotationdefaults": {
           "arrowhead": 0,
           "arrowwidth": 1
          },
          "geo": {
           "bgcolor": "white",
           "landcolor": "rgb(237,237,237)",
           "subunitcolor": "white",
           "showland": true,
           "showlakes": true,
           "lakecolor": "white"
          }
         }
        },
        "xaxis": {
         "anchor": "y",
         "domain": [
          0.0,
          1.0
         ],
         "title": {
          "text": "x"
         }
        },
        "yaxis": {
         "anchor": "x",
         "domain": [
          0.0,
          1.0
         ],
         "title": {
          "text": "y"
         }
        },
        "legend": {
         "tracegroupgap": 0
        },
        "margin": {
         "t": 60
        }
       },
       "config": {
        "plotlyServerURL": "https://plot.ly"
       }
      },
      "text/html": "<div>                            <div id=\"202a7f37-b9d9-4982-bf31-654221364994\" class=\"plotly-graph-div\" style=\"height:525px; width:100%;\"></div>            <script type=\"text/javascript\">                require([\"plotly\"], function(Plotly) {                    window.PLOTLYENV=window.PLOTLYENV || {};                                    if (document.getElementById(\"202a7f37-b9d9-4982-bf31-654221364994\")) {                    Plotly.newPlot(                        \"202a7f37-b9d9-4982-bf31-654221364994\",                        [{\"hovertemplate\":\"x=%{x}<br>y=%{y}<extra></extra>\",\"legendgroup\":\"\",\"marker\":{\"color\":\"black\",\"symbol\":\"x-thin\",\"line\":{\"width\":2},\"size\":12},\"mode\":\"markers\",\"name\":\"\",\"orientation\":\"v\",\"showlegend\":false,\"x\":[0.6496570166893901,-0.48512542609970527,-0.19790754478936434],\"xaxis\":\"x\",\"y\":[0.0666465364571165,-1.270866503239191,1.1648813479674773],\"yaxis\":\"y\",\"type\":\"scatter\"},{\"marker\":{\"color\":[1,0,2,0,1,0,2,0,0,2,2,1,1,2,2,1,1,2,1,1,2,1,1,2,2,2,0,1,1,1,1,0,0,1,2,2,2,2,0,0,1,2,0,2,2,0,1,1,1,0,0,0,2,1,1,1,2,2,0,2,1,0,1,0,1,1,0,1,0,0,0,1,1,2,0,1,0,1,0,0,2,0,2,1,2,2,2,0,2,0,0,0,2,0,2,2,2,0,1,2,0,0]},\"mode\":\"markers\",\"x\":[-0.5370665639310375,0.3465847983854564,-0.21874994424941036,0.3860933521067189,-0.4563044627602459,0.22563058672836558,-0.16506383729165047,0.2773138090445151,0.2985505282244272,-0.26444294315080746,-0.22377223368111218,-0.4650423691842061,-0.4452986128668204,-0.2614487713911181,-0.1377625767348551,-0.5520914457478854,-0.4617416465106075,-0.19210163497015909,-0.5395515305366357,-0.44856400752097647,-0.21834386841816625,-0.48546194803005166,-0.5102295541393722,-0.1630436015954776,-0.18967564424059657,-0.21815755338148443,0.19714722369463503,-0.4383442348992733,-0.5456409138987122,-0.5632249513491794,-0.525885403270293,0.3118955069902255,0.2791448917092428,-0.4026136356896774,-0.08139407340369723,-0.22754395984383097,-0.1827461763586951,-0.16554519006025462,0.3534157529603342,0.29819406094174933,-0.5726595461832364,-0.2194002785734013,0.28971460799512966,-0.2763229540230249,-0.19502739033957583,0.22081888479948839,-0.5880676005497634,-0.468681548708857,-0.479420880065608,0.23783578653947,0.11639898198858264,0.29238472212615235,-0.13279721563595354,-0.46286855264519766,-0.4251769218352645,-0.4952748433444852,-0.2551797307882133,-0.1710511049274225,0.3911284737835966,-0.3029221535456224,-0.46064332408623154,0.2449721755396248,-0.4967448446636724,0.16339633661996159,-0.4980367312113317,-0.465938516107535,0.29608006890343624,-0.5399308081821584,0.2565236900631527,0.3093095581332355,0.2690643176615162,-0.46349810893911053,-0.5601644974245122,-0.16423549595129358,0.29872309175782574,-0.41570227972930957,0.34507725546492657,-0.47638995224653446,0.41850272763017277,0.1880764172261175,-0.16302748247531387,0.23952804333422392,-0.13212547775859926,-0.3552002589677058,-0.18817859103459156,-0.17327023215178075,-0.08900806567376111,0.23039835369929426,-0.2864023473756784,0.2657526818171602,0.29787802660149637,0.3686633553454562,-0.24815285870107906,0.33138818924134056,-0.22761555954868767,-0.23265843535861164,-0.11814947179627204,0.28122835689142006,-0.40767856606478664,-0.2435396684081892,6.703101242422738,6.7080797277574655],\"y\":[-1.539020720068423,-0.11344430589127283,1.261781797652531,-0.14012129816724955,-1.2151850230337322,-0.009760025785638471,1.3293352190440777,0.13430850581134215,0.22971850668093322,1.2357483356837262,1.1944386306041086,-1.09873978324039,-1.2563425208771013,0.9905030818983724,1.2038692401634694,-1.227403113781072,-1.1736220550359344,1.3337018121312376,-1.278693577034306,-1.3140400581684764,1.1044705457364672,-1.2494516314468558,-1.1690639071527154,1.417093949485245,1.4212451315630437,1.3420627063426245,0.012964356161698882,-1.436409362322314,-1.1798781612754905,-1.508692305997367,-1.2664417115189026,0.11932184814983525,0.12563933570799643,-1.4307185724521223,1.2968662727811495,1.131623276736862,0.9548465084059491,1.1170529947521124,0.1298836102280476,-0.2315037645945324,-1.448994933309853,1.148166598859804,-0.10374213355957897,1.2078465972952461,1.130155156799709,0.15248144826637264,-1.273871258512088,-1.2425610379312693,-1.0759001171681473,0.00030947620246620536,0.20682405285243594,0.04199276325731825,1.388730436286013,-1.1806990856218618,-1.0067437956985812,-1.191280590236584,1.2261609290336142,0.8786267649038696,-0.0022668745557972146,1.0894058048099682,-1.4141290491873637,0.02747139559749444,-1.4202737744134046,0.07445591500882877,-0.8782823765132365,-1.4970349867438022,0.4629024038378822,-1.4299584480577936,0.1586714586455489,0.0669776589653607,-0.04657705687007139,-1.2486253240594816,-1.2002433323922677,0.9020669074121507,4.134220462695837e-05,-1.238276233100874,-0.06328816257895796,-1.4810012646625552,0.10582981695906982,0.08928960506903998,1.076482495352926,0.028345194163129167,0.9866592649746758,-1.2287510295023527,1.0121108887476642,0.871389113588517,1.1419075784354447,0.3204100576378533,1.0648241433518075,-0.1497419677685661,0.031942056577722935,0.19590756315050734,0.9567880707436381,0.4203428303445202,1.4661212653203273,1.2725651687621584,1.3224290856634136,0.14163171828914484,-1.1382654663765828,1.1288900575722962,-0.1403474850170697,0.055758931018636035],\"type\":\"scatter\"}],                        {\"template\":{\"data\":{\"histogram2dcontour\":[{\"type\":\"histogram2dcontour\",\"colorbar\":{\"outlinewidth\":0,\"tickcolor\":\"rgb(237,237,237)\",\"ticklen\":6,\"ticks\":\"inside\"},\"colorscale\":[[0,\"rgb(20,44,66)\"],[1,\"rgb(90,179,244)\"]]}],\"choropleth\":[{\"type\":\"choropleth\",\"colorbar\":{\"outlinewidth\":0,\"tickcolor\":\"rgb(237,237,237)\",\"ticklen\":6,\"ticks\":\"inside\"}}],\"histogram2d\":[{\"type\":\"histogram2d\",\"colorbar\":{\"outlinewidth\":0,\"tickcolor\":\"rgb(237,237,237)\",\"ticklen\":6,\"ticks\":\"inside\"},\"colorscale\":[[0,\"rgb(20,44,66)\"],[1,\"rgb(90,179,244)\"]]}],\"heatmap\":[{\"type\":\"heatmap\",\"colorbar\":{\"outlinewidth\":0,\"tickcolor\":\"rgb(237,237,237)\",\"ticklen\":6,\"ticks\":\"inside\"},\"colorscale\":[[0,\"rgb(20,44,66)\"],[1,\"rgb(90,179,244)\"]]}],\"heatmapgl\":[{\"type\":\"heatmapgl\",\"colorbar\":{\"outlinewidth\":0,\"tickcolor\":\"rgb(237,237,237)\",\"ticklen\":6,\"ticks\":\"inside\"},\"colorscale\":[[0,\"rgb(20,44,66)\"],[1,\"rgb(90,179,244)\"]]}],\"contourcarpet\":[{\"type\":\"contourcarpet\",\"colorbar\":{\"outlinewidth\":0,\"tickcolor\":\"rgb(237,237,237)\",\"ticklen\":6,\"ticks\":\"inside\"}}],\"contour\":[{\"type\":\"contour\",\"colorbar\":{\"outlinewidth\":0,\"tickcolor\":\"rgb(237,237,237)\",\"ticklen\":6,\"ticks\":\"inside\"},\"colorscale\":[[0,\"rgb(20,44,66)\"],[1,\"rgb(90,179,244)\"]]}],\"surface\":[{\"type\":\"surface\",\"colorbar\":{\"outlinewidth\":0,\"tickcolor\":\"rgb(237,237,237)\",\"ticklen\":6,\"ticks\":\"inside\"},\"colorscale\":[[0,\"rgb(20,44,66)\"],[1,\"rgb(90,179,244)\"]]}],\"mesh3d\":[{\"type\":\"mesh3d\",\"colorbar\":{\"outlinewidth\":0,\"tickcolor\":\"rgb(237,237,237)\",\"ticklen\":6,\"ticks\":\"inside\"}}],\"scatter\":[{\"fillpattern\":{\"fillmode\":\"overlay\",\"size\":10,\"solidity\":0.2},\"type\":\"scatter\"}],\"parcoords\":[{\"type\":\"parcoords\",\"line\":{\"colorbar\":{\"outlinewidth\":0,\"tickcolor\":\"rgb(237,237,237)\",\"ticklen\":6,\"ticks\":\"inside\"}}}],\"scatterpolargl\":[{\"type\":\"scatterpolargl\",\"marker\":{\"colorbar\":{\"outlinewidth\":0,\"tickcolor\":\"rgb(237,237,237)\",\"ticklen\":6,\"ticks\":\"inside\"}}}],\"bar\":[{\"error_x\":{\"color\":\"rgb(51,51,51)\"},\"error_y\":{\"color\":\"rgb(51,51,51)\"},\"marker\":{\"line\":{\"color\":\"rgb(237,237,237)\",\"width\":0.5},\"pattern\":{\"fillmode\":\"overlay\",\"size\":10,\"solidity\":0.2}},\"type\":\"bar\"}],\"scattergeo\":[{\"type\":\"scattergeo\",\"marker\":{\"colorbar\":{\"outlinewidth\":0,\"tickcolor\":\"rgb(237,237,237)\",\"ticklen\":6,\"ticks\":\"inside\"}}}],\"scatterpolar\":[{\"type\":\"scatterpolar\",\"marker\":{\"colorbar\":{\"outlinewidth\":0,\"tickcolor\":\"rgb(237,237,237)\",\"ticklen\":6,\"ticks\":\"inside\"}}}],\"histogram\":[{\"marker\":{\"pattern\":{\"fillmode\":\"overlay\",\"size\":10,\"solidity\":0.2}},\"type\":\"histogram\"}],\"scattergl\":[{\"type\":\"scattergl\",\"marker\":{\"colorbar\":{\"outlinewidth\":0,\"tickcolor\":\"rgb(237,237,237)\",\"ticklen\":6,\"ticks\":\"inside\"}}}],\"scatter3d\":[{\"type\":\"scatter3d\",\"line\":{\"colorbar\":{\"outlinewidth\":0,\"tickcolor\":\"rgb(237,237,237)\",\"ticklen\":6,\"ticks\":\"inside\"}},\"marker\":{\"colorbar\":{\"outlinewidth\":0,\"tickcolor\":\"rgb(237,237,237)\",\"ticklen\":6,\"ticks\":\"inside\"}}}],\"scattermapbox\":[{\"type\":\"scattermapbox\",\"marker\":{\"colorbar\":{\"outlinewidth\":0,\"tickcolor\":\"rgb(237,237,237)\",\"ticklen\":6,\"ticks\":\"inside\"}}}],\"scatterternary\":[{\"type\":\"scatterternary\",\"marker\":{\"colorbar\":{\"outlinewidth\":0,\"tickcolor\":\"rgb(237,237,237)\",\"ticklen\":6,\"ticks\":\"inside\"}}}],\"scattercarpet\":[{\"type\":\"scattercarpet\",\"marker\":{\"colorbar\":{\"outlinewidth\":0,\"tickcolor\":\"rgb(237,237,237)\",\"ticklen\":6,\"ticks\":\"inside\"}}}],\"carpet\":[{\"aaxis\":{\"endlinecolor\":\"rgb(51,51,51)\",\"gridcolor\":\"white\",\"linecolor\":\"white\",\"minorgridcolor\":\"white\",\"startlinecolor\":\"rgb(51,51,51)\"},\"baxis\":{\"endlinecolor\":\"rgb(51,51,51)\",\"gridcolor\":\"white\",\"linecolor\":\"white\",\"minorgridcolor\":\"white\",\"startlinecolor\":\"rgb(51,51,51)\"},\"type\":\"carpet\"}],\"table\":[{\"cells\":{\"fill\":{\"color\":\"rgb(237,237,237)\"},\"line\":{\"color\":\"white\"}},\"header\":{\"fill\":{\"color\":\"rgb(217,217,217)\"},\"line\":{\"color\":\"white\"}},\"type\":\"table\"}],\"barpolar\":[{\"marker\":{\"line\":{\"color\":\"rgb(237,237,237)\",\"width\":0.5},\"pattern\":{\"fillmode\":\"overlay\",\"size\":10,\"solidity\":0.2}},\"type\":\"barpolar\"}],\"pie\":[{\"automargin\":true,\"type\":\"pie\"}]},\"layout\":{\"autotypenumbers\":\"strict\",\"colorway\":[\"#F8766D\",\"#A3A500\",\"#00BF7D\",\"#00B0F6\",\"#E76BF3\"],\"font\":{\"color\":\"rgb(51,51,51)\"},\"hovermode\":\"closest\",\"hoverlabel\":{\"align\":\"left\"},\"paper_bgcolor\":\"white\",\"plot_bgcolor\":\"rgb(237,237,237)\",\"polar\":{\"bgcolor\":\"rgb(237,237,237)\",\"angularaxis\":{\"gridcolor\":\"white\",\"linecolor\":\"white\",\"showgrid\":true,\"tickcolor\":\"rgb(51,51,51)\",\"ticks\":\"outside\"},\"radialaxis\":{\"gridcolor\":\"white\",\"linecolor\":\"white\",\"showgrid\":true,\"tickcolor\":\"rgb(51,51,51)\",\"ticks\":\"outside\"}},\"ternary\":{\"bgcolor\":\"rgb(237,237,237)\",\"aaxis\":{\"gridcolor\":\"white\",\"linecolor\":\"white\",\"showgrid\":true,\"tickcolor\":\"rgb(51,51,51)\",\"ticks\":\"outside\"},\"baxis\":{\"gridcolor\":\"white\",\"linecolor\":\"white\",\"showgrid\":true,\"tickcolor\":\"rgb(51,51,51)\",\"ticks\":\"outside\"},\"caxis\":{\"gridcolor\":\"white\",\"linecolor\":\"white\",\"showgrid\":true,\"tickcolor\":\"rgb(51,51,51)\",\"ticks\":\"outside\"}},\"coloraxis\":{\"colorbar\":{\"outlinewidth\":0,\"tickcolor\":\"rgb(237,237,237)\",\"ticklen\":6,\"ticks\":\"inside\"}},\"colorscale\":{\"sequential\":[[0,\"rgb(20,44,66)\"],[1,\"rgb(90,179,244)\"]],\"sequentialminus\":[[0,\"rgb(20,44,66)\"],[1,\"rgb(90,179,244)\"]]},\"xaxis\":{\"gridcolor\":\"white\",\"linecolor\":\"white\",\"showgrid\":true,\"tickcolor\":\"rgb(51,51,51)\",\"ticks\":\"outside\",\"title\":{\"standoff\":15},\"zerolinecolor\":\"white\",\"automargin\":true},\"yaxis\":{\"gridcolor\":\"white\",\"linecolor\":\"white\",\"showgrid\":true,\"tickcolor\":\"rgb(51,51,51)\",\"ticks\":\"outside\",\"title\":{\"standoff\":15},\"zerolinecolor\":\"white\",\"automargin\":true},\"scene\":{\"xaxis\":{\"backgroundcolor\":\"rgb(237,237,237)\",\"gridcolor\":\"white\",\"linecolor\":\"white\",\"showbackground\":true,\"showgrid\":true,\"tickcolor\":\"rgb(51,51,51)\",\"ticks\":\"outside\",\"zerolinecolor\":\"white\",\"gridwidth\":2},\"yaxis\":{\"backgroundcolor\":\"rgb(237,237,237)\",\"gridcolor\":\"white\",\"linecolor\":\"white\",\"showbackground\":true,\"showgrid\":true,\"tickcolor\":\"rgb(51,51,51)\",\"ticks\":\"outside\",\"zerolinecolor\":\"white\",\"gridwidth\":2},\"zaxis\":{\"backgroundcolor\":\"rgb(237,237,237)\",\"gridcolor\":\"white\",\"linecolor\":\"white\",\"showbackground\":true,\"showgrid\":true,\"tickcolor\":\"rgb(51,51,51)\",\"ticks\":\"outside\",\"zerolinecolor\":\"white\",\"gridwidth\":2}},\"shapedefaults\":{\"fillcolor\":\"black\",\"line\":{\"width\":0},\"opacity\":0.3},\"annotationdefaults\":{\"arrowhead\":0,\"arrowwidth\":1},\"geo\":{\"bgcolor\":\"white\",\"landcolor\":\"rgb(237,237,237)\",\"subunitcolor\":\"white\",\"showland\":true,\"showlakes\":true,\"lakecolor\":\"white\"}}},\"xaxis\":{\"anchor\":\"y\",\"domain\":[0.0,1.0],\"title\":{\"text\":\"x\"}},\"yaxis\":{\"anchor\":\"x\",\"domain\":[0.0,1.0],\"title\":{\"text\":\"y\"}},\"legend\":{\"tracegroupgap\":0},\"margin\":{\"t\":60}},                        {\"responsive\": true}                    ).then(function(){\n                            \nvar gd = document.getElementById('202a7f37-b9d9-4982-bf31-654221364994');\nvar x = new MutationObserver(function (mutations, observer) {{\n        var display = window.getComputedStyle(gd).display;\n        if (!display || display === 'none') {{\n            console.log([gd, 'removed!']);\n            Plotly.purge(gd);\n            observer.disconnect();\n        }}\n}});\n\n// Listen for the removal of the full notebook cells\nvar notebookContainer = gd.closest('#notebook-container');\nif (notebookContainer) {{\n    x.observe(notebookContainer, {childList: true});\n}}\n\n// Listen for the clearing of the current output cell\nvar outputEl = gd.closest('.output');\nif (outputEl) {{\n    x.observe(outputEl, {childList: true});\n}}\n\n                        })                };                });            </script>        </div>"
     },
     "metadata": {},
     "output_type": "display_data"
    }
   ],
   "source": [
    "fig = px.scatter(x=kmeans.centroids[:, 0], y=kmeans.centroids[:, 1])\n",
    "fig.update_traces(mode='markers', marker_size=12, marker_color='black', marker_symbol='x-thin', marker_line_width=2)\n",
    "fig.add_scatter(x=x_train_scaled[:, 0], y=x_train_scaled[:, 1], marker_color=kmeans.labels, mode='markers')\n",
    "fig.show()"
   ],
   "metadata": {
    "collapsed": false
   }
  },
  {
   "cell_type": "code",
   "execution_count": 15,
   "outputs": [],
   "source": [
    "kmeans = RobustKMeans(n_clusters=n_clusters, max_iter=300)\n",
    "kmeans.fit(x_train_scaled, n=10000)"
   ],
   "metadata": {
    "collapsed": false
   }
  },
  {
   "cell_type": "code",
   "execution_count": 16,
   "outputs": [
    {
     "data": {
      "text/plain": "(80.53990641116276, 0.9803921568627451)"
     },
     "execution_count": 16,
     "metadata": {},
     "output_type": "execute_result"
    }
   ],
   "source": [
    "kmeans.inertia, kmeans.score(true_labels)"
   ],
   "metadata": {
    "collapsed": false
   }
  },
  {
   "cell_type": "code",
   "execution_count": 17,
   "outputs": [
    {
     "data": {
      "application/vnd.plotly.v1+json": {
       "data": [
        {
         "hovertemplate": "x=%{x}<br>y=%{y}<br>color=%{marker.color}<extra></extra>",
         "legendgroup": "",
         "marker": {
          "color": [
           1,
           2,
           0,
           2,
           1,
           2,
           0,
           2,
           2,
           0,
           0,
           1,
           1,
           0,
           0,
           1,
           1,
           0,
           1,
           1,
           0,
           1,
           1,
           0,
           0,
           0,
           2,
           1,
           1,
           1,
           1,
           2,
           2,
           1,
           0,
           0,
           0,
           0,
           2,
           2,
           1,
           0,
           2,
           0,
           0,
           2,
           1,
           1,
           1,
           2,
           2,
           2,
           0,
           1,
           1,
           1,
           0,
           0,
           2,
           0,
           1,
           2,
           1,
           2,
           1,
           1,
           2,
           1,
           2,
           2,
           2,
           1,
           1,
           0,
           2,
           1,
           2,
           1,
           2,
           2,
           0,
           2,
           0,
           1,
           0,
           0,
           0,
           2,
           0,
           2,
           2,
           2,
           0,
           2,
           0,
           0,
           0,
           2,
           1,
           0,
           2,
           2
          ],
          "coloraxis": "coloraxis",
          "symbol": "circle"
         },
         "mode": "markers",
         "name": "",
         "orientation": "v",
         "showlegend": false,
         "x": [
          -0.5370665639310375,
          0.3465847983854564,
          -0.21874994424941036,
          0.3860933521067189,
          -0.4563044627602459,
          0.22563058672836558,
          -0.16506383729165047,
          0.2773138090445151,
          0.2985505282244272,
          -0.26444294315080746,
          -0.22377223368111218,
          -0.4650423691842061,
          -0.4452986128668204,
          -0.2614487713911181,
          -0.1377625767348551,
          -0.5520914457478854,
          -0.4617416465106075,
          -0.19210163497015909,
          -0.5395515305366357,
          -0.44856400752097647,
          -0.21834386841816625,
          -0.48546194803005166,
          -0.5102295541393722,
          -0.1630436015954776,
          -0.18967564424059657,
          -0.21815755338148443,
          0.19714722369463503,
          -0.4383442348992733,
          -0.5456409138987122,
          -0.5632249513491794,
          -0.525885403270293,
          0.3118955069902255,
          0.2791448917092428,
          -0.4026136356896774,
          -0.08139407340369723,
          -0.22754395984383097,
          -0.1827461763586951,
          -0.16554519006025462,
          0.3534157529603342,
          0.29819406094174933,
          -0.5726595461832364,
          -0.2194002785734013,
          0.28971460799512966,
          -0.2763229540230249,
          -0.19502739033957583,
          0.22081888479948839,
          -0.5880676005497634,
          -0.468681548708857,
          -0.479420880065608,
          0.23783578653947,
          0.11639898198858264,
          0.29238472212615235,
          -0.13279721563595354,
          -0.46286855264519766,
          -0.4251769218352645,
          -0.4952748433444852,
          -0.2551797307882133,
          -0.1710511049274225,
          0.3911284737835966,
          -0.3029221535456224,
          -0.46064332408623154,
          0.2449721755396248,
          -0.4967448446636724,
          0.16339633661996159,
          -0.4980367312113317,
          -0.465938516107535,
          0.29608006890343624,
          -0.5399308081821584,
          0.2565236900631527,
          0.3093095581332355,
          0.2690643176615162,
          -0.46349810893911053,
          -0.5601644974245122,
          -0.16423549595129358,
          0.29872309175782574,
          -0.41570227972930957,
          0.34507725546492657,
          -0.47638995224653446,
          0.41850272763017277,
          0.1880764172261175,
          -0.16302748247531387,
          0.23952804333422392,
          -0.13212547775859926,
          -0.3552002589677058,
          -0.18817859103459156,
          -0.17327023215178075,
          -0.08900806567376111,
          0.23039835369929426,
          -0.2864023473756784,
          0.2657526818171602,
          0.29787802660149637,
          0.3686633553454562,
          -0.24815285870107906,
          0.33138818924134056,
          -0.22761555954868767,
          -0.23265843535861164,
          -0.11814947179627204,
          0.28122835689142006,
          -0.40767856606478664,
          -0.2435396684081892,
          6.703101242422738,
          6.7080797277574655
         ],
         "xaxis": "x",
         "y": [
          -1.539020720068423,
          -0.11344430589127283,
          1.261781797652531,
          -0.14012129816724955,
          -1.2151850230337322,
          -0.009760025785638471,
          1.3293352190440777,
          0.13430850581134215,
          0.22971850668093322,
          1.2357483356837262,
          1.1944386306041086,
          -1.09873978324039,
          -1.2563425208771013,
          0.9905030818983724,
          1.2038692401634694,
          -1.227403113781072,
          -1.1736220550359344,
          1.3337018121312376,
          -1.278693577034306,
          -1.3140400581684764,
          1.1044705457364672,
          -1.2494516314468558,
          -1.1690639071527154,
          1.417093949485245,
          1.4212451315630437,
          1.3420627063426245,
          0.012964356161698882,
          -1.436409362322314,
          -1.1798781612754905,
          -1.508692305997367,
          -1.2664417115189026,
          0.11932184814983525,
          0.12563933570799643,
          -1.4307185724521223,
          1.2968662727811495,
          1.131623276736862,
          0.9548465084059491,
          1.1170529947521124,
          0.1298836102280476,
          -0.2315037645945324,
          -1.448994933309853,
          1.148166598859804,
          -0.10374213355957897,
          1.2078465972952461,
          1.130155156799709,
          0.15248144826637264,
          -1.273871258512088,
          -1.2425610379312693,
          -1.0759001171681473,
          3.0947620246620536E-4,
          0.20682405285243594,
          0.04199276325731825,
          1.388730436286013,
          -1.1806990856218618,
          -1.0067437956985812,
          -1.191280590236584,
          1.2261609290336142,
          0.8786267649038696,
          -0.0022668745557972146,
          1.0894058048099682,
          -1.4141290491873637,
          0.02747139559749444,
          -1.4202737744134046,
          0.07445591500882877,
          -0.8782823765132365,
          -1.4970349867438022,
          0.4629024038378822,
          -1.4299584480577936,
          0.1586714586455489,
          0.0669776589653607,
          -0.04657705687007139,
          -1.2486253240594816,
          -1.2002433323922677,
          0.9020669074121507,
          4.134220462695837E-5,
          -1.238276233100874,
          -0.06328816257895796,
          -1.4810012646625552,
          0.10582981695906982,
          0.08928960506903998,
          1.076482495352926,
          0.028345194163129167,
          0.9866592649746758,
          -1.2287510295023527,
          1.0121108887476642,
          0.871389113588517,
          1.1419075784354447,
          0.3204100576378533,
          1.0648241433518075,
          -0.1497419677685661,
          0.031942056577722935,
          0.19590756315050734,
          0.9567880707436381,
          0.4203428303445202,
          1.4661212653203273,
          1.2725651687621584,
          1.3224290856634136,
          0.14163171828914484,
          -1.1382654663765828,
          1.1288900575722962,
          -0.1403474850170697,
          0.055758931018636035
         ],
         "yaxis": "y",
         "type": "scatter"
        },
        {
         "marker": {
          "color": "black",
          "line": {
           "width": 2
          },
          "size": 12,
          "symbol": "x-thin"
         },
         "mode": "markers",
         "showlegend": false,
         "x": [
          -0.19791841958896106,
          -0.4851355876379082,
          0.6500018152079376
         ],
         "y": [
          1.1649117858864357,
          -1.2709023286878565,
          0.06664783275892294
         ],
         "type": "scatter"
        }
       ],
       "layout": {
        "template": {
         "data": {
          "histogram2dcontour": [
           {
            "type": "histogram2dcontour",
            "colorbar": {
             "outlinewidth": 0,
             "tickcolor": "rgb(237,237,237)",
             "ticklen": 6,
             "ticks": "inside"
            },
            "colorscale": [
             [
              0,
              "rgb(20,44,66)"
             ],
             [
              1,
              "rgb(90,179,244)"
             ]
            ]
           }
          ],
          "choropleth": [
           {
            "type": "choropleth",
            "colorbar": {
             "outlinewidth": 0,
             "tickcolor": "rgb(237,237,237)",
             "ticklen": 6,
             "ticks": "inside"
            }
           }
          ],
          "histogram2d": [
           {
            "type": "histogram2d",
            "colorbar": {
             "outlinewidth": 0,
             "tickcolor": "rgb(237,237,237)",
             "ticklen": 6,
             "ticks": "inside"
            },
            "colorscale": [
             [
              0,
              "rgb(20,44,66)"
             ],
             [
              1,
              "rgb(90,179,244)"
             ]
            ]
           }
          ],
          "heatmap": [
           {
            "type": "heatmap",
            "colorbar": {
             "outlinewidth": 0,
             "tickcolor": "rgb(237,237,237)",
             "ticklen": 6,
             "ticks": "inside"
            },
            "colorscale": [
             [
              0,
              "rgb(20,44,66)"
             ],
             [
              1,
              "rgb(90,179,244)"
             ]
            ]
           }
          ],
          "heatmapgl": [
           {
            "type": "heatmapgl",
            "colorbar": {
             "outlinewidth": 0,
             "tickcolor": "rgb(237,237,237)",
             "ticklen": 6,
             "ticks": "inside"
            },
            "colorscale": [
             [
              0,
              "rgb(20,44,66)"
             ],
             [
              1,
              "rgb(90,179,244)"
             ]
            ]
           }
          ],
          "contourcarpet": [
           {
            "type": "contourcarpet",
            "colorbar": {
             "outlinewidth": 0,
             "tickcolor": "rgb(237,237,237)",
             "ticklen": 6,
             "ticks": "inside"
            }
           }
          ],
          "contour": [
           {
            "type": "contour",
            "colorbar": {
             "outlinewidth": 0,
             "tickcolor": "rgb(237,237,237)",
             "ticklen": 6,
             "ticks": "inside"
            },
            "colorscale": [
             [
              0,
              "rgb(20,44,66)"
             ],
             [
              1,
              "rgb(90,179,244)"
             ]
            ]
           }
          ],
          "surface": [
           {
            "type": "surface",
            "colorbar": {
             "outlinewidth": 0,
             "tickcolor": "rgb(237,237,237)",
             "ticklen": 6,
             "ticks": "inside"
            },
            "colorscale": [
             [
              0,
              "rgb(20,44,66)"
             ],
             [
              1,
              "rgb(90,179,244)"
             ]
            ]
           }
          ],
          "mesh3d": [
           {
            "type": "mesh3d",
            "colorbar": {
             "outlinewidth": 0,
             "tickcolor": "rgb(237,237,237)",
             "ticklen": 6,
             "ticks": "inside"
            }
           }
          ],
          "scatter": [
           {
            "fillpattern": {
             "fillmode": "overlay",
             "size": 10,
             "solidity": 0.2
            },
            "type": "scatter"
           }
          ],
          "parcoords": [
           {
            "type": "parcoords",
            "line": {
             "colorbar": {
              "outlinewidth": 0,
              "tickcolor": "rgb(237,237,237)",
              "ticklen": 6,
              "ticks": "inside"
             }
            }
           }
          ],
          "scatterpolargl": [
           {
            "type": "scatterpolargl",
            "marker": {
             "colorbar": {
              "outlinewidth": 0,
              "tickcolor": "rgb(237,237,237)",
              "ticklen": 6,
              "ticks": "inside"
             }
            }
           }
          ],
          "bar": [
           {
            "error_x": {
             "color": "rgb(51,51,51)"
            },
            "error_y": {
             "color": "rgb(51,51,51)"
            },
            "marker": {
             "line": {
              "color": "rgb(237,237,237)",
              "width": 0.5
             },
             "pattern": {
              "fillmode": "overlay",
              "size": 10,
              "solidity": 0.2
             }
            },
            "type": "bar"
           }
          ],
          "scattergeo": [
           {
            "type": "scattergeo",
            "marker": {
             "colorbar": {
              "outlinewidth": 0,
              "tickcolor": "rgb(237,237,237)",
              "ticklen": 6,
              "ticks": "inside"
             }
            }
           }
          ],
          "scatterpolar": [
           {
            "type": "scatterpolar",
            "marker": {
             "colorbar": {
              "outlinewidth": 0,
              "tickcolor": "rgb(237,237,237)",
              "ticklen": 6,
              "ticks": "inside"
             }
            }
           }
          ],
          "histogram": [
           {
            "marker": {
             "pattern": {
              "fillmode": "overlay",
              "size": 10,
              "solidity": 0.2
             }
            },
            "type": "histogram"
           }
          ],
          "scattergl": [
           {
            "type": "scattergl",
            "marker": {
             "colorbar": {
              "outlinewidth": 0,
              "tickcolor": "rgb(237,237,237)",
              "ticklen": 6,
              "ticks": "inside"
             }
            }
           }
          ],
          "scatter3d": [
           {
            "type": "scatter3d",
            "line": {
             "colorbar": {
              "outlinewidth": 0,
              "tickcolor": "rgb(237,237,237)",
              "ticklen": 6,
              "ticks": "inside"
             }
            },
            "marker": {
             "colorbar": {
              "outlinewidth": 0,
              "tickcolor": "rgb(237,237,237)",
              "ticklen": 6,
              "ticks": "inside"
             }
            }
           }
          ],
          "scattermapbox": [
           {
            "type": "scattermapbox",
            "marker": {
             "colorbar": {
              "outlinewidth": 0,
              "tickcolor": "rgb(237,237,237)",
              "ticklen": 6,
              "ticks": "inside"
             }
            }
           }
          ],
          "scatterternary": [
           {
            "type": "scatterternary",
            "marker": {
             "colorbar": {
              "outlinewidth": 0,
              "tickcolor": "rgb(237,237,237)",
              "ticklen": 6,
              "ticks": "inside"
             }
            }
           }
          ],
          "scattercarpet": [
           {
            "type": "scattercarpet",
            "marker": {
             "colorbar": {
              "outlinewidth": 0,
              "tickcolor": "rgb(237,237,237)",
              "ticklen": 6,
              "ticks": "inside"
             }
            }
           }
          ],
          "carpet": [
           {
            "aaxis": {
             "endlinecolor": "rgb(51,51,51)",
             "gridcolor": "white",
             "linecolor": "white",
             "minorgridcolor": "white",
             "startlinecolor": "rgb(51,51,51)"
            },
            "baxis": {
             "endlinecolor": "rgb(51,51,51)",
             "gridcolor": "white",
             "linecolor": "white",
             "minorgridcolor": "white",
             "startlinecolor": "rgb(51,51,51)"
            },
            "type": "carpet"
           }
          ],
          "table": [
           {
            "cells": {
             "fill": {
              "color": "rgb(237,237,237)"
             },
             "line": {
              "color": "white"
             }
            },
            "header": {
             "fill": {
              "color": "rgb(217,217,217)"
             },
             "line": {
              "color": "white"
             }
            },
            "type": "table"
           }
          ],
          "barpolar": [
           {
            "marker": {
             "line": {
              "color": "rgb(237,237,237)",
              "width": 0.5
             },
             "pattern": {
              "fillmode": "overlay",
              "size": 10,
              "solidity": 0.2
             }
            },
            "type": "barpolar"
           }
          ],
          "pie": [
           {
            "automargin": true,
            "type": "pie"
           }
          ]
         },
         "layout": {
          "autotypenumbers": "strict",
          "colorway": [
           "#F8766D",
           "#A3A500",
           "#00BF7D",
           "#00B0F6",
           "#E76BF3"
          ],
          "font": {
           "color": "rgb(51,51,51)"
          },
          "hovermode": "closest",
          "hoverlabel": {
           "align": "left"
          },
          "paper_bgcolor": "white",
          "plot_bgcolor": "rgb(237,237,237)",
          "polar": {
           "bgcolor": "rgb(237,237,237)",
           "angularaxis": {
            "gridcolor": "white",
            "linecolor": "white",
            "showgrid": true,
            "tickcolor": "rgb(51,51,51)",
            "ticks": "outside"
           },
           "radialaxis": {
            "gridcolor": "white",
            "linecolor": "white",
            "showgrid": true,
            "tickcolor": "rgb(51,51,51)",
            "ticks": "outside"
           }
          },
          "ternary": {
           "bgcolor": "rgb(237,237,237)",
           "aaxis": {
            "gridcolor": "white",
            "linecolor": "white",
            "showgrid": true,
            "tickcolor": "rgb(51,51,51)",
            "ticks": "outside"
           },
           "baxis": {
            "gridcolor": "white",
            "linecolor": "white",
            "showgrid": true,
            "tickcolor": "rgb(51,51,51)",
            "ticks": "outside"
           },
           "caxis": {
            "gridcolor": "white",
            "linecolor": "white",
            "showgrid": true,
            "tickcolor": "rgb(51,51,51)",
            "ticks": "outside"
           }
          },
          "coloraxis": {
           "colorbar": {
            "outlinewidth": 0,
            "tickcolor": "rgb(237,237,237)",
            "ticklen": 6,
            "ticks": "inside"
           }
          },
          "colorscale": {
           "sequential": [
            [
             0,
             "rgb(20,44,66)"
            ],
            [
             1,
             "rgb(90,179,244)"
            ]
           ],
           "sequentialminus": [
            [
             0,
             "rgb(20,44,66)"
            ],
            [
             1,
             "rgb(90,179,244)"
            ]
           ]
          },
          "xaxis": {
           "gridcolor": "white",
           "linecolor": "white",
           "showgrid": true,
           "tickcolor": "rgb(51,51,51)",
           "ticks": "outside",
           "title": {
            "standoff": 15
           },
           "zerolinecolor": "white",
           "automargin": true
          },
          "yaxis": {
           "gridcolor": "white",
           "linecolor": "white",
           "showgrid": true,
           "tickcolor": "rgb(51,51,51)",
           "ticks": "outside",
           "title": {
            "standoff": 15
           },
           "zerolinecolor": "white",
           "automargin": true
          },
          "scene": {
           "xaxis": {
            "backgroundcolor": "rgb(237,237,237)",
            "gridcolor": "white",
            "linecolor": "white",
            "showbackground": true,
            "showgrid": true,
            "tickcolor": "rgb(51,51,51)",
            "ticks": "outside",
            "zerolinecolor": "white",
            "gridwidth": 2
           },
           "yaxis": {
            "backgroundcolor": "rgb(237,237,237)",
            "gridcolor": "white",
            "linecolor": "white",
            "showbackground": true,
            "showgrid": true,
            "tickcolor": "rgb(51,51,51)",
            "ticks": "outside",
            "zerolinecolor": "white",
            "gridwidth": 2
           },
           "zaxis": {
            "backgroundcolor": "rgb(237,237,237)",
            "gridcolor": "white",
            "linecolor": "white",
            "showbackground": true,
            "showgrid": true,
            "tickcolor": "rgb(51,51,51)",
            "ticks": "outside",
            "zerolinecolor": "white",
            "gridwidth": 2
           }
          },
          "shapedefaults": {
           "fillcolor": "black",
           "line": {
            "width": 0
           },
           "opacity": 0.3
          },
          "annotationdefaults": {
           "arrowhead": 0,
           "arrowwidth": 1
          },
          "geo": {
           "bgcolor": "white",
           "landcolor": "rgb(237,237,237)",
           "subunitcolor": "white",
           "showland": true,
           "showlakes": true,
           "lakecolor": "white"
          }
         }
        },
        "xaxis": {
         "anchor": "y",
         "domain": [
          0.0,
          1.0
         ],
         "title": {
          "text": "x"
         }
        },
        "yaxis": {
         "anchor": "x",
         "domain": [
          0.0,
          1.0
         ],
         "title": {
          "text": "y"
         }
        },
        "coloraxis": {
         "colorbar": {
          "title": {
           "text": "color"
          }
         },
         "colorscale": [
          [
           0.0,
           "rgb(20,44,66)"
          ],
          [
           1.0,
           "rgb(90,179,244)"
          ]
         ]
        },
        "legend": {
         "tracegroupgap": 0
        },
        "margin": {
         "t": 60
        }
       },
       "config": {
        "plotlyServerURL": "https://plot.ly"
       }
      },
      "text/html": "<div>                            <div id=\"087640dd-939d-4109-993e-70de6a747d76\" class=\"plotly-graph-div\" style=\"height:525px; width:100%;\"></div>            <script type=\"text/javascript\">                require([\"plotly\"], function(Plotly) {                    window.PLOTLYENV=window.PLOTLYENV || {};                                    if (document.getElementById(\"087640dd-939d-4109-993e-70de6a747d76\")) {                    Plotly.newPlot(                        \"087640dd-939d-4109-993e-70de6a747d76\",                        [{\"hovertemplate\":\"x=%{x}<br>y=%{y}<br>color=%{marker.color}<extra></extra>\",\"legendgroup\":\"\",\"marker\":{\"color\":[1,2,0,2,1,2,0,2,2,0,0,1,1,0,0,1,1,0,1,1,0,1,1,0,0,0,2,1,1,1,1,2,2,1,0,0,0,0,2,2,1,0,2,0,0,2,1,1,1,2,2,2,0,1,1,1,0,0,2,0,1,2,1,2,1,1,2,1,2,2,2,1,1,0,2,1,2,1,2,2,0,2,0,1,0,0,0,2,0,2,2,2,0,2,0,0,0,2,1,0,2,2],\"coloraxis\":\"coloraxis\",\"symbol\":\"circle\"},\"mode\":\"markers\",\"name\":\"\",\"orientation\":\"v\",\"showlegend\":false,\"x\":[-0.5370665639310375,0.3465847983854564,-0.21874994424941036,0.3860933521067189,-0.4563044627602459,0.22563058672836558,-0.16506383729165047,0.2773138090445151,0.2985505282244272,-0.26444294315080746,-0.22377223368111218,-0.4650423691842061,-0.4452986128668204,-0.2614487713911181,-0.1377625767348551,-0.5520914457478854,-0.4617416465106075,-0.19210163497015909,-0.5395515305366357,-0.44856400752097647,-0.21834386841816625,-0.48546194803005166,-0.5102295541393722,-0.1630436015954776,-0.18967564424059657,-0.21815755338148443,0.19714722369463503,-0.4383442348992733,-0.5456409138987122,-0.5632249513491794,-0.525885403270293,0.3118955069902255,0.2791448917092428,-0.4026136356896774,-0.08139407340369723,-0.22754395984383097,-0.1827461763586951,-0.16554519006025462,0.3534157529603342,0.29819406094174933,-0.5726595461832364,-0.2194002785734013,0.28971460799512966,-0.2763229540230249,-0.19502739033957583,0.22081888479948839,-0.5880676005497634,-0.468681548708857,-0.479420880065608,0.23783578653947,0.11639898198858264,0.29238472212615235,-0.13279721563595354,-0.46286855264519766,-0.4251769218352645,-0.4952748433444852,-0.2551797307882133,-0.1710511049274225,0.3911284737835966,-0.3029221535456224,-0.46064332408623154,0.2449721755396248,-0.4967448446636724,0.16339633661996159,-0.4980367312113317,-0.465938516107535,0.29608006890343624,-0.5399308081821584,0.2565236900631527,0.3093095581332355,0.2690643176615162,-0.46349810893911053,-0.5601644974245122,-0.16423549595129358,0.29872309175782574,-0.41570227972930957,0.34507725546492657,-0.47638995224653446,0.41850272763017277,0.1880764172261175,-0.16302748247531387,0.23952804333422392,-0.13212547775859926,-0.3552002589677058,-0.18817859103459156,-0.17327023215178075,-0.08900806567376111,0.23039835369929426,-0.2864023473756784,0.2657526818171602,0.29787802660149637,0.3686633553454562,-0.24815285870107906,0.33138818924134056,-0.22761555954868767,-0.23265843535861164,-0.11814947179627204,0.28122835689142006,-0.40767856606478664,-0.2435396684081892,6.703101242422738,6.7080797277574655],\"xaxis\":\"x\",\"y\":[-1.539020720068423,-0.11344430589127283,1.261781797652531,-0.14012129816724955,-1.2151850230337322,-0.009760025785638471,1.3293352190440777,0.13430850581134215,0.22971850668093322,1.2357483356837262,1.1944386306041086,-1.09873978324039,-1.2563425208771013,0.9905030818983724,1.2038692401634694,-1.227403113781072,-1.1736220550359344,1.3337018121312376,-1.278693577034306,-1.3140400581684764,1.1044705457364672,-1.2494516314468558,-1.1690639071527154,1.417093949485245,1.4212451315630437,1.3420627063426245,0.012964356161698882,-1.436409362322314,-1.1798781612754905,-1.508692305997367,-1.2664417115189026,0.11932184814983525,0.12563933570799643,-1.4307185724521223,1.2968662727811495,1.131623276736862,0.9548465084059491,1.1170529947521124,0.1298836102280476,-0.2315037645945324,-1.448994933309853,1.148166598859804,-0.10374213355957897,1.2078465972952461,1.130155156799709,0.15248144826637264,-1.273871258512088,-1.2425610379312693,-1.0759001171681473,0.00030947620246620536,0.20682405285243594,0.04199276325731825,1.388730436286013,-1.1806990856218618,-1.0067437956985812,-1.191280590236584,1.2261609290336142,0.8786267649038696,-0.0022668745557972146,1.0894058048099682,-1.4141290491873637,0.02747139559749444,-1.4202737744134046,0.07445591500882877,-0.8782823765132365,-1.4970349867438022,0.4629024038378822,-1.4299584480577936,0.1586714586455489,0.0669776589653607,-0.04657705687007139,-1.2486253240594816,-1.2002433323922677,0.9020669074121507,4.134220462695837e-05,-1.238276233100874,-0.06328816257895796,-1.4810012646625552,0.10582981695906982,0.08928960506903998,1.076482495352926,0.028345194163129167,0.9866592649746758,-1.2287510295023527,1.0121108887476642,0.871389113588517,1.1419075784354447,0.3204100576378533,1.0648241433518075,-0.1497419677685661,0.031942056577722935,0.19590756315050734,0.9567880707436381,0.4203428303445202,1.4661212653203273,1.2725651687621584,1.3224290856634136,0.14163171828914484,-1.1382654663765828,1.1288900575722962,-0.1403474850170697,0.055758931018636035],\"yaxis\":\"y\",\"type\":\"scatter\"},{\"marker\":{\"color\":\"black\",\"line\":{\"width\":2},\"size\":12,\"symbol\":\"x-thin\"},\"mode\":\"markers\",\"showlegend\":false,\"x\":[-0.19791841958896106,-0.4851355876379082,0.6500018152079376],\"y\":[1.1649117858864357,-1.2709023286878565,0.06664783275892294],\"type\":\"scatter\"}],                        {\"template\":{\"data\":{\"histogram2dcontour\":[{\"type\":\"histogram2dcontour\",\"colorbar\":{\"outlinewidth\":0,\"tickcolor\":\"rgb(237,237,237)\",\"ticklen\":6,\"ticks\":\"inside\"},\"colorscale\":[[0,\"rgb(20,44,66)\"],[1,\"rgb(90,179,244)\"]]}],\"choropleth\":[{\"type\":\"choropleth\",\"colorbar\":{\"outlinewidth\":0,\"tickcolor\":\"rgb(237,237,237)\",\"ticklen\":6,\"ticks\":\"inside\"}}],\"histogram2d\":[{\"type\":\"histogram2d\",\"colorbar\":{\"outlinewidth\":0,\"tickcolor\":\"rgb(237,237,237)\",\"ticklen\":6,\"ticks\":\"inside\"},\"colorscale\":[[0,\"rgb(20,44,66)\"],[1,\"rgb(90,179,244)\"]]}],\"heatmap\":[{\"type\":\"heatmap\",\"colorbar\":{\"outlinewidth\":0,\"tickcolor\":\"rgb(237,237,237)\",\"ticklen\":6,\"ticks\":\"inside\"},\"colorscale\":[[0,\"rgb(20,44,66)\"],[1,\"rgb(90,179,244)\"]]}],\"heatmapgl\":[{\"type\":\"heatmapgl\",\"colorbar\":{\"outlinewidth\":0,\"tickcolor\":\"rgb(237,237,237)\",\"ticklen\":6,\"ticks\":\"inside\"},\"colorscale\":[[0,\"rgb(20,44,66)\"],[1,\"rgb(90,179,244)\"]]}],\"contourcarpet\":[{\"type\":\"contourcarpet\",\"colorbar\":{\"outlinewidth\":0,\"tickcolor\":\"rgb(237,237,237)\",\"ticklen\":6,\"ticks\":\"inside\"}}],\"contour\":[{\"type\":\"contour\",\"colorbar\":{\"outlinewidth\":0,\"tickcolor\":\"rgb(237,237,237)\",\"ticklen\":6,\"ticks\":\"inside\"},\"colorscale\":[[0,\"rgb(20,44,66)\"],[1,\"rgb(90,179,244)\"]]}],\"surface\":[{\"type\":\"surface\",\"colorbar\":{\"outlinewidth\":0,\"tickcolor\":\"rgb(237,237,237)\",\"ticklen\":6,\"ticks\":\"inside\"},\"colorscale\":[[0,\"rgb(20,44,66)\"],[1,\"rgb(90,179,244)\"]]}],\"mesh3d\":[{\"type\":\"mesh3d\",\"colorbar\":{\"outlinewidth\":0,\"tickcolor\":\"rgb(237,237,237)\",\"ticklen\":6,\"ticks\":\"inside\"}}],\"scatter\":[{\"fillpattern\":{\"fillmode\":\"overlay\",\"size\":10,\"solidity\":0.2},\"type\":\"scatter\"}],\"parcoords\":[{\"type\":\"parcoords\",\"line\":{\"colorbar\":{\"outlinewidth\":0,\"tickcolor\":\"rgb(237,237,237)\",\"ticklen\":6,\"ticks\":\"inside\"}}}],\"scatterpolargl\":[{\"type\":\"scatterpolargl\",\"marker\":{\"colorbar\":{\"outlinewidth\":0,\"tickcolor\":\"rgb(237,237,237)\",\"ticklen\":6,\"ticks\":\"inside\"}}}],\"bar\":[{\"error_x\":{\"color\":\"rgb(51,51,51)\"},\"error_y\":{\"color\":\"rgb(51,51,51)\"},\"marker\":{\"line\":{\"color\":\"rgb(237,237,237)\",\"width\":0.5},\"pattern\":{\"fillmode\":\"overlay\",\"size\":10,\"solidity\":0.2}},\"type\":\"bar\"}],\"scattergeo\":[{\"type\":\"scattergeo\",\"marker\":{\"colorbar\":{\"outlinewidth\":0,\"tickcolor\":\"rgb(237,237,237)\",\"ticklen\":6,\"ticks\":\"inside\"}}}],\"scatterpolar\":[{\"type\":\"scatterpolar\",\"marker\":{\"colorbar\":{\"outlinewidth\":0,\"tickcolor\":\"rgb(237,237,237)\",\"ticklen\":6,\"ticks\":\"inside\"}}}],\"histogram\":[{\"marker\":{\"pattern\":{\"fillmode\":\"overlay\",\"size\":10,\"solidity\":0.2}},\"type\":\"histogram\"}],\"scattergl\":[{\"type\":\"scattergl\",\"marker\":{\"colorbar\":{\"outlinewidth\":0,\"tickcolor\":\"rgb(237,237,237)\",\"ticklen\":6,\"ticks\":\"inside\"}}}],\"scatter3d\":[{\"type\":\"scatter3d\",\"line\":{\"colorbar\":{\"outlinewidth\":0,\"tickcolor\":\"rgb(237,237,237)\",\"ticklen\":6,\"ticks\":\"inside\"}},\"marker\":{\"colorbar\":{\"outlinewidth\":0,\"tickcolor\":\"rgb(237,237,237)\",\"ticklen\":6,\"ticks\":\"inside\"}}}],\"scattermapbox\":[{\"type\":\"scattermapbox\",\"marker\":{\"colorbar\":{\"outlinewidth\":0,\"tickcolor\":\"rgb(237,237,237)\",\"ticklen\":6,\"ticks\":\"inside\"}}}],\"scatterternary\":[{\"type\":\"scatterternary\",\"marker\":{\"colorbar\":{\"outlinewidth\":0,\"tickcolor\":\"rgb(237,237,237)\",\"ticklen\":6,\"ticks\":\"inside\"}}}],\"scattercarpet\":[{\"type\":\"scattercarpet\",\"marker\":{\"colorbar\":{\"outlinewidth\":0,\"tickcolor\":\"rgb(237,237,237)\",\"ticklen\":6,\"ticks\":\"inside\"}}}],\"carpet\":[{\"aaxis\":{\"endlinecolor\":\"rgb(51,51,51)\",\"gridcolor\":\"white\",\"linecolor\":\"white\",\"minorgridcolor\":\"white\",\"startlinecolor\":\"rgb(51,51,51)\"},\"baxis\":{\"endlinecolor\":\"rgb(51,51,51)\",\"gridcolor\":\"white\",\"linecolor\":\"white\",\"minorgridcolor\":\"white\",\"startlinecolor\":\"rgb(51,51,51)\"},\"type\":\"carpet\"}],\"table\":[{\"cells\":{\"fill\":{\"color\":\"rgb(237,237,237)\"},\"line\":{\"color\":\"white\"}},\"header\":{\"fill\":{\"color\":\"rgb(217,217,217)\"},\"line\":{\"color\":\"white\"}},\"type\":\"table\"}],\"barpolar\":[{\"marker\":{\"line\":{\"color\":\"rgb(237,237,237)\",\"width\":0.5},\"pattern\":{\"fillmode\":\"overlay\",\"size\":10,\"solidity\":0.2}},\"type\":\"barpolar\"}],\"pie\":[{\"automargin\":true,\"type\":\"pie\"}]},\"layout\":{\"autotypenumbers\":\"strict\",\"colorway\":[\"#F8766D\",\"#A3A500\",\"#00BF7D\",\"#00B0F6\",\"#E76BF3\"],\"font\":{\"color\":\"rgb(51,51,51)\"},\"hovermode\":\"closest\",\"hoverlabel\":{\"align\":\"left\"},\"paper_bgcolor\":\"white\",\"plot_bgcolor\":\"rgb(237,237,237)\",\"polar\":{\"bgcolor\":\"rgb(237,237,237)\",\"angularaxis\":{\"gridcolor\":\"white\",\"linecolor\":\"white\",\"showgrid\":true,\"tickcolor\":\"rgb(51,51,51)\",\"ticks\":\"outside\"},\"radialaxis\":{\"gridcolor\":\"white\",\"linecolor\":\"white\",\"showgrid\":true,\"tickcolor\":\"rgb(51,51,51)\",\"ticks\":\"outside\"}},\"ternary\":{\"bgcolor\":\"rgb(237,237,237)\",\"aaxis\":{\"gridcolor\":\"white\",\"linecolor\":\"white\",\"showgrid\":true,\"tickcolor\":\"rgb(51,51,51)\",\"ticks\":\"outside\"},\"baxis\":{\"gridcolor\":\"white\",\"linecolor\":\"white\",\"showgrid\":true,\"tickcolor\":\"rgb(51,51,51)\",\"ticks\":\"outside\"},\"caxis\":{\"gridcolor\":\"white\",\"linecolor\":\"white\",\"showgrid\":true,\"tickcolor\":\"rgb(51,51,51)\",\"ticks\":\"outside\"}},\"coloraxis\":{\"colorbar\":{\"outlinewidth\":0,\"tickcolor\":\"rgb(237,237,237)\",\"ticklen\":6,\"ticks\":\"inside\"}},\"colorscale\":{\"sequential\":[[0,\"rgb(20,44,66)\"],[1,\"rgb(90,179,244)\"]],\"sequentialminus\":[[0,\"rgb(20,44,66)\"],[1,\"rgb(90,179,244)\"]]},\"xaxis\":{\"gridcolor\":\"white\",\"linecolor\":\"white\",\"showgrid\":true,\"tickcolor\":\"rgb(51,51,51)\",\"ticks\":\"outside\",\"title\":{\"standoff\":15},\"zerolinecolor\":\"white\",\"automargin\":true},\"yaxis\":{\"gridcolor\":\"white\",\"linecolor\":\"white\",\"showgrid\":true,\"tickcolor\":\"rgb(51,51,51)\",\"ticks\":\"outside\",\"title\":{\"standoff\":15},\"zerolinecolor\":\"white\",\"automargin\":true},\"scene\":{\"xaxis\":{\"backgroundcolor\":\"rgb(237,237,237)\",\"gridcolor\":\"white\",\"linecolor\":\"white\",\"showbackground\":true,\"showgrid\":true,\"tickcolor\":\"rgb(51,51,51)\",\"ticks\":\"outside\",\"zerolinecolor\":\"white\",\"gridwidth\":2},\"yaxis\":{\"backgroundcolor\":\"rgb(237,237,237)\",\"gridcolor\":\"white\",\"linecolor\":\"white\",\"showbackground\":true,\"showgrid\":true,\"tickcolor\":\"rgb(51,51,51)\",\"ticks\":\"outside\",\"zerolinecolor\":\"white\",\"gridwidth\":2},\"zaxis\":{\"backgroundcolor\":\"rgb(237,237,237)\",\"gridcolor\":\"white\",\"linecolor\":\"white\",\"showbackground\":true,\"showgrid\":true,\"tickcolor\":\"rgb(51,51,51)\",\"ticks\":\"outside\",\"zerolinecolor\":\"white\",\"gridwidth\":2}},\"shapedefaults\":{\"fillcolor\":\"black\",\"line\":{\"width\":0},\"opacity\":0.3},\"annotationdefaults\":{\"arrowhead\":0,\"arrowwidth\":1},\"geo\":{\"bgcolor\":\"white\",\"landcolor\":\"rgb(237,237,237)\",\"subunitcolor\":\"white\",\"showland\":true,\"showlakes\":true,\"lakecolor\":\"white\"}}},\"xaxis\":{\"anchor\":\"y\",\"domain\":[0.0,1.0],\"title\":{\"text\":\"x\"}},\"yaxis\":{\"anchor\":\"x\",\"domain\":[0.0,1.0],\"title\":{\"text\":\"y\"}},\"coloraxis\":{\"colorbar\":{\"title\":{\"text\":\"color\"}},\"colorscale\":[[0.0,\"rgb(20,44,66)\"],[1.0,\"rgb(90,179,244)\"]]},\"legend\":{\"tracegroupgap\":0},\"margin\":{\"t\":60}},                        {\"responsive\": true}                    ).then(function(){\n                            \nvar gd = document.getElementById('087640dd-939d-4109-993e-70de6a747d76');\nvar x = new MutationObserver(function (mutations, observer) {{\n        var display = window.getComputedStyle(gd).display;\n        if (!display || display === 'none') {{\n            console.log([gd, 'removed!']);\n            Plotly.purge(gd);\n            observer.disconnect();\n        }}\n}});\n\n// Listen for the removal of the full notebook cells\nvar notebookContainer = gd.closest('#notebook-container');\nif (notebookContainer) {{\n    x.observe(notebookContainer, {childList: true});\n}}\n\n// Listen for the clearing of the current output cell\nvar outputEl = gd.closest('.output');\nif (outputEl) {{\n    x.observe(outputEl, {childList: true});\n}}\n\n                        })                };                });            </script>        </div>"
     },
     "metadata": {},
     "output_type": "display_data"
    }
   ],
   "source": [
    "fig = px.scatter(x=x_train_scaled[:, 0], y=x_train_scaled[:, 1], color=kmeans.labels)\n",
    "fig.add_scatter(x=kmeans.centroids[:, 0], y=kmeans.centroids[:, 1],\n",
    "                mode='markers', marker_size=12, marker_color='black', marker_symbol='x-thin', marker_line_width=2, showlegend=False)\n",
    "fig.show()"
   ],
   "metadata": {
    "collapsed": false
   }
  },
  {
   "cell_type": "markdown",
   "source": [
    "# Más cerca"
   ],
   "metadata": {
    "collapsed": false
   }
  },
  {
   "cell_type": "code",
   "execution_count": 18,
   "outputs": [],
   "source": [
    "# Create a dataset of 2D distributions\n",
    "n_clusters = 3\n",
    "x_train, true_labels = make_blobs(n_samples=100, centers=n_clusters, random_state=42, center_box=[-5, 5])\n",
    "x_train_scaled = StandardScaler().fit_transform(x_train)"
   ],
   "metadata": {
    "collapsed": false
   }
  },
  {
   "cell_type": "code",
   "execution_count": null,
   "outputs": [],
   "source": [
    "px.scatter(x=x_train_scaled[:, 0], y=x_train_scaled[:, 1], color=true_labels)"
   ],
   "metadata": {
    "collapsed": false,
    "pycharm": {
     "is_executing": true
    }
   }
  },
  {
   "cell_type": "code",
   "execution_count": 20,
   "outputs": [],
   "source": [
    "kmeans = KMeans(n_clusters=n_clusters)\n",
    "kmeans.fit(x_train_scaled)"
   ],
   "metadata": {
    "collapsed": false
   }
  },
  {
   "cell_type": "code",
   "execution_count": 21,
   "outputs": [
    {
     "data": {
      "text/plain": "(20.713160136162955, 0.99)"
     },
     "execution_count": 21,
     "metadata": {},
     "output_type": "execute_result"
    }
   ],
   "source": [
    "kmeans.inertia, kmeans.score(true_labels)"
   ],
   "metadata": {
    "collapsed": false
   }
  },
  {
   "cell_type": "code",
   "execution_count": 22,
   "outputs": [
    {
     "data": {
      "application/vnd.plotly.v1+json": {
       "data": [
        {
         "hovertemplate": "x=%{x}<br>y=%{y}<extra></extra>",
         "legendgroup": "",
         "marker": {
          "color": "black",
          "symbol": "x-thin",
          "line": {
           "width": 2
          },
          "size": 12
         },
         "mode": "markers",
         "name": "",
         "orientation": "v",
         "showlegend": false,
         "x": [
          1.2742162742793608,
          -0.18497847729148165,
          -1.0394143658102333
         ],
         "xaxis": "x",
         "y": [
          0.052725731687348835,
          1.0944503625597852,
          -1.211908669805686
         ],
         "yaxis": "y",
         "type": "scatter"
        },
        {
         "marker": {
          "color": [
           2,
           0,
           1,
           0,
           2,
           0,
           1,
           0,
           0,
           1,
           1,
           2,
           2,
           1,
           1,
           2,
           2,
           1,
           2,
           2,
           1,
           2,
           2,
           1,
           1,
           1,
           0,
           2,
           2,
           2,
           2,
           0,
           0,
           2,
           1,
           1,
           1,
           1,
           0,
           0,
           2,
           1,
           0,
           1,
           1,
           0,
           2,
           2,
           2,
           0,
           1,
           0,
           1,
           2,
           2,
           2,
           1,
           1,
           0,
           1,
           2,
           0,
           2,
           0,
           2,
           2,
           0,
           2,
           0,
           0,
           0,
           2,
           2,
           1,
           0,
           2,
           0,
           2,
           0,
           0,
           1,
           0,
           1,
           2,
           1,
           1,
           1,
           0,
           1,
           0,
           0,
           0,
           1,
           0,
           1,
           1,
           1,
           0,
           2,
           1
          ]
         },
         "mode": "markers",
         "x": [
          -1.3501115777186532,
          1.6256978651283616,
          -0.322409758322535,
          1.862026871389091,
          -0.8670155057166598,
          0.9021839434181248,
          -0.0012746340948291913,
          1.211338377581949,
          1.3383704318412721,
          -0.5957323683989515,
          -0.35245167478755324,
          -0.919283193279782,
          -0.8011816210668095,
          -0.5778220788567525,
          0.1620337933047887,
          -1.4399861758629438,
          -0.8995392027784538,
          -0.1630071009910234,
          -1.3649759458915662,
          -0.820714289336833,
          -0.31998072742604916,
          -1.0414273449221692,
          -1.1895801672342343,
          0.01080984507536227,
          -0.14849550984647855,
          -0.31886624351501824,
          0.7318045129733591,
          -0.7595824968410246,
          -1.4014009167688386,
          -1.5065836608915097,
          -1.283229033588135,
          1.4181963245464855,
          1.222291396758236,
          -0.5458521471076764,
          0.49921425479781073,
          -0.3750130750911847,
          -0.10704539071533756,
          -0.00415395036308959,
          1.6665587054892235,
          1.3362381452667227,
          -1.5630187416928942,
          -0.32629987451383735,
          1.2855164533858383,
          -0.666795237052805,
          -0.18050814301585796,
          0.8734017018990585,
          -1.655185369774067,
          -0.9410517370420476,
          -1.0052913831032944,
          0.9751920004308424,
          0.24879134437380931,
          1.3014883217472895,
          0.19173518056659458,
          -0.9062800368979645,
          -0.6808193501691581,
          -1.1001253123183428,
          -0.5403224491222602,
          -0.03708877754745408,
          1.8921455467193389,
          -0.8259041336946802,
          -0.8929693483378709,
          1.0178798632312702,
          -1.1089184448996177,
          0.5299162419156661,
          -1.1166461452392429,
          -0.9246436909924567,
          1.3235928421462304,
          -1.3672446776121876,
          1.0869777595352426,
          1.40272790907562,
          1.1619922508050697,
          -0.9100458647836241,
          -1.4882768901646917,
          0.0036802697771865277,
          1.339402658144787,
          -0.6241447179015802,
          1.6166801692942445,
          -0.9871612291983145,
          2.0558905993560965,
          0.6775455113958233,
          0.010906265098149324,
          0.9853146024745343,
          0.195753326767107,
          -0.2622387229559639,
          -0.1395405605210567,
          -0.05036296964769472,
          0.4536695041709945,
          0.9307033784314067,
          -0.7270873204216184,
          1.1421829807994996,
          1.3343477171304972,
          1.757765555149107,
          -0.4982896855544056,
          1.534796042629382,
          -0.3754413642970292,
          -0.40560642266043395,
          0.27935384588186424,
          1.2347540968498825,
          -0.5761491296490837,
          -0.47069488455758823
         ],
         "y": [
          -1.7341845982974609,
          -0.3027612390366807,
          1.305928537362038,
          -0.35471921708024956,
          -1.1034595202156872,
          -0.10081847527004995,
          1.4375003108633084,
          0.17977948435173305,
          0.3656066825244176,
          1.255223944003838,
          1.1747662699411612,
          -0.8766626178561585,
          -1.1836207448077019,
          0.7775671159908919,
          1.1931339854374836,
          -1.1272563292493758,
          -1.022508573560436,
          1.4460049933027956,
          -1.2271532267701606,
          -1.2959965083398182,
          0.9995381284094634,
          -1.1701995660626088,
          -1.0136308055877359,
          1.6084253590179995,
          1.6165104918928686,
          1.462289256287385,
          -0.05655887785896221,
          -1.534331533242813,
          -1.0346934041166835,
          -1.6751148554981856,
          -1.2032906356333275,
          0.15059042054470576,
          0.16289480165490489,
          -1.5232477524302266,
          1.3742615176899766,
          1.0524226885032901,
          0.7081198768320536,
          1.0240445871183765,
          0.1711612478885114,
          -0.5327021071705866,
          -1.5588440725227828,
          1.0846436210109458,
          -0.28386460887050446,
          1.2008805646764928,
          1.0495632753179212,
          0.21517437952197355,
          -1.217760941564076,
          -1.1567789636616244,
          -0.8321784850113668,
          -0.08120640814512295,
          0.3210158412093799,
          -2.1119669775595644E-5,
          1.5531825947363869,
          -1.0362922938536872,
          -0.6974847910852533,
          -1.0569015731439448,
          1.236550839514848,
          0.5596689675841706,
          -0.08622428927450829,
          0.9701969841682526,
          -1.490936835343827,
          -0.028303952090549037,
          -1.502904732439404,
          0.06320638770739453,
          -0.44728433638525017,
          -1.6524102442902342,
          0.8197719678480232,
          -1.521767280936951,
          0.2272304771526024,
          0.0486412126197741,
          -0.17252590288875522,
          -1.168590191938034,
          -1.0743580373254245,
          0.6053226303803377,
          -0.08172864469369406,
          -1.1484335777577144,
          -0.20507362245637645,
          -1.6211818445052886,
          0.12431239590381611,
          0.09209752110355397,
          0.9450266417970882,
          -0.026602080821926426,
          0.7700806290114443,
          -1.129881624287376,
          0.8196519935599496,
          0.5455724111118451,
          1.0724531145843286,
          0.5422438972677104,
          0.9223200191376889,
          -0.3734571068220321,
          -0.01959657973582777,
          0.29975412150807645,
          0.7119013995865029,
          0.7368799625486439,
          1.7039143921646738,
          1.3269309859721918,
          1.424049441933019,
          0.19404268573492311,
          -0.9536456058670203,
          1.0470992794820768
         ],
         "type": "scatter"
        }
       ],
       "layout": {
        "template": {
         "data": {
          "histogram2dcontour": [
           {
            "type": "histogram2dcontour",
            "colorbar": {
             "outlinewidth": 0,
             "tickcolor": "rgb(237,237,237)",
             "ticklen": 6,
             "ticks": "inside"
            },
            "colorscale": [
             [
              0,
              "rgb(20,44,66)"
             ],
             [
              1,
              "rgb(90,179,244)"
             ]
            ]
           }
          ],
          "choropleth": [
           {
            "type": "choropleth",
            "colorbar": {
             "outlinewidth": 0,
             "tickcolor": "rgb(237,237,237)",
             "ticklen": 6,
             "ticks": "inside"
            }
           }
          ],
          "histogram2d": [
           {
            "type": "histogram2d",
            "colorbar": {
             "outlinewidth": 0,
             "tickcolor": "rgb(237,237,237)",
             "ticklen": 6,
             "ticks": "inside"
            },
            "colorscale": [
             [
              0,
              "rgb(20,44,66)"
             ],
             [
              1,
              "rgb(90,179,244)"
             ]
            ]
           }
          ],
          "heatmap": [
           {
            "type": "heatmap",
            "colorbar": {
             "outlinewidth": 0,
             "tickcolor": "rgb(237,237,237)",
             "ticklen": 6,
             "ticks": "inside"
            },
            "colorscale": [
             [
              0,
              "rgb(20,44,66)"
             ],
             [
              1,
              "rgb(90,179,244)"
             ]
            ]
           }
          ],
          "heatmapgl": [
           {
            "type": "heatmapgl",
            "colorbar": {
             "outlinewidth": 0,
             "tickcolor": "rgb(237,237,237)",
             "ticklen": 6,
             "ticks": "inside"
            },
            "colorscale": [
             [
              0,
              "rgb(20,44,66)"
             ],
             [
              1,
              "rgb(90,179,244)"
             ]
            ]
           }
          ],
          "contourcarpet": [
           {
            "type": "contourcarpet",
            "colorbar": {
             "outlinewidth": 0,
             "tickcolor": "rgb(237,237,237)",
             "ticklen": 6,
             "ticks": "inside"
            }
           }
          ],
          "contour": [
           {
            "type": "contour",
            "colorbar": {
             "outlinewidth": 0,
             "tickcolor": "rgb(237,237,237)",
             "ticklen": 6,
             "ticks": "inside"
            },
            "colorscale": [
             [
              0,
              "rgb(20,44,66)"
             ],
             [
              1,
              "rgb(90,179,244)"
             ]
            ]
           }
          ],
          "surface": [
           {
            "type": "surface",
            "colorbar": {
             "outlinewidth": 0,
             "tickcolor": "rgb(237,237,237)",
             "ticklen": 6,
             "ticks": "inside"
            },
            "colorscale": [
             [
              0,
              "rgb(20,44,66)"
             ],
             [
              1,
              "rgb(90,179,244)"
             ]
            ]
           }
          ],
          "mesh3d": [
           {
            "type": "mesh3d",
            "colorbar": {
             "outlinewidth": 0,
             "tickcolor": "rgb(237,237,237)",
             "ticklen": 6,
             "ticks": "inside"
            }
           }
          ],
          "scatter": [
           {
            "fillpattern": {
             "fillmode": "overlay",
             "size": 10,
             "solidity": 0.2
            },
            "type": "scatter"
           }
          ],
          "parcoords": [
           {
            "type": "parcoords",
            "line": {
             "colorbar": {
              "outlinewidth": 0,
              "tickcolor": "rgb(237,237,237)",
              "ticklen": 6,
              "ticks": "inside"
             }
            }
           }
          ],
          "scatterpolargl": [
           {
            "type": "scatterpolargl",
            "marker": {
             "colorbar": {
              "outlinewidth": 0,
              "tickcolor": "rgb(237,237,237)",
              "ticklen": 6,
              "ticks": "inside"
             }
            }
           }
          ],
          "bar": [
           {
            "error_x": {
             "color": "rgb(51,51,51)"
            },
            "error_y": {
             "color": "rgb(51,51,51)"
            },
            "marker": {
             "line": {
              "color": "rgb(237,237,237)",
              "width": 0.5
             },
             "pattern": {
              "fillmode": "overlay",
              "size": 10,
              "solidity": 0.2
             }
            },
            "type": "bar"
           }
          ],
          "scattergeo": [
           {
            "type": "scattergeo",
            "marker": {
             "colorbar": {
              "outlinewidth": 0,
              "tickcolor": "rgb(237,237,237)",
              "ticklen": 6,
              "ticks": "inside"
             }
            }
           }
          ],
          "scatterpolar": [
           {
            "type": "scatterpolar",
            "marker": {
             "colorbar": {
              "outlinewidth": 0,
              "tickcolor": "rgb(237,237,237)",
              "ticklen": 6,
              "ticks": "inside"
             }
            }
           }
          ],
          "histogram": [
           {
            "marker": {
             "pattern": {
              "fillmode": "overlay",
              "size": 10,
              "solidity": 0.2
             }
            },
            "type": "histogram"
           }
          ],
          "scattergl": [
           {
            "type": "scattergl",
            "marker": {
             "colorbar": {
              "outlinewidth": 0,
              "tickcolor": "rgb(237,237,237)",
              "ticklen": 6,
              "ticks": "inside"
             }
            }
           }
          ],
          "scatter3d": [
           {
            "type": "scatter3d",
            "line": {
             "colorbar": {
              "outlinewidth": 0,
              "tickcolor": "rgb(237,237,237)",
              "ticklen": 6,
              "ticks": "inside"
             }
            },
            "marker": {
             "colorbar": {
              "outlinewidth": 0,
              "tickcolor": "rgb(237,237,237)",
              "ticklen": 6,
              "ticks": "inside"
             }
            }
           }
          ],
          "scattermapbox": [
           {
            "type": "scattermapbox",
            "marker": {
             "colorbar": {
              "outlinewidth": 0,
              "tickcolor": "rgb(237,237,237)",
              "ticklen": 6,
              "ticks": "inside"
             }
            }
           }
          ],
          "scatterternary": [
           {
            "type": "scatterternary",
            "marker": {
             "colorbar": {
              "outlinewidth": 0,
              "tickcolor": "rgb(237,237,237)",
              "ticklen": 6,
              "ticks": "inside"
             }
            }
           }
          ],
          "scattercarpet": [
           {
            "type": "scattercarpet",
            "marker": {
             "colorbar": {
              "outlinewidth": 0,
              "tickcolor": "rgb(237,237,237)",
              "ticklen": 6,
              "ticks": "inside"
             }
            }
           }
          ],
          "carpet": [
           {
            "aaxis": {
             "endlinecolor": "rgb(51,51,51)",
             "gridcolor": "white",
             "linecolor": "white",
             "minorgridcolor": "white",
             "startlinecolor": "rgb(51,51,51)"
            },
            "baxis": {
             "endlinecolor": "rgb(51,51,51)",
             "gridcolor": "white",
             "linecolor": "white",
             "minorgridcolor": "white",
             "startlinecolor": "rgb(51,51,51)"
            },
            "type": "carpet"
           }
          ],
          "table": [
           {
            "cells": {
             "fill": {
              "color": "rgb(237,237,237)"
             },
             "line": {
              "color": "white"
             }
            },
            "header": {
             "fill": {
              "color": "rgb(217,217,217)"
             },
             "line": {
              "color": "white"
             }
            },
            "type": "table"
           }
          ],
          "barpolar": [
           {
            "marker": {
             "line": {
              "color": "rgb(237,237,237)",
              "width": 0.5
             },
             "pattern": {
              "fillmode": "overlay",
              "size": 10,
              "solidity": 0.2
             }
            },
            "type": "barpolar"
           }
          ],
          "pie": [
           {
            "automargin": true,
            "type": "pie"
           }
          ]
         },
         "layout": {
          "autotypenumbers": "strict",
          "colorway": [
           "#F8766D",
           "#A3A500",
           "#00BF7D",
           "#00B0F6",
           "#E76BF3"
          ],
          "font": {
           "color": "rgb(51,51,51)"
          },
          "hovermode": "closest",
          "hoverlabel": {
           "align": "left"
          },
          "paper_bgcolor": "white",
          "plot_bgcolor": "rgb(237,237,237)",
          "polar": {
           "bgcolor": "rgb(237,237,237)",
           "angularaxis": {
            "gridcolor": "white",
            "linecolor": "white",
            "showgrid": true,
            "tickcolor": "rgb(51,51,51)",
            "ticks": "outside"
           },
           "radialaxis": {
            "gridcolor": "white",
            "linecolor": "white",
            "showgrid": true,
            "tickcolor": "rgb(51,51,51)",
            "ticks": "outside"
           }
          },
          "ternary": {
           "bgcolor": "rgb(237,237,237)",
           "aaxis": {
            "gridcolor": "white",
            "linecolor": "white",
            "showgrid": true,
            "tickcolor": "rgb(51,51,51)",
            "ticks": "outside"
           },
           "baxis": {
            "gridcolor": "white",
            "linecolor": "white",
            "showgrid": true,
            "tickcolor": "rgb(51,51,51)",
            "ticks": "outside"
           },
           "caxis": {
            "gridcolor": "white",
            "linecolor": "white",
            "showgrid": true,
            "tickcolor": "rgb(51,51,51)",
            "ticks": "outside"
           }
          },
          "coloraxis": {
           "colorbar": {
            "outlinewidth": 0,
            "tickcolor": "rgb(237,237,237)",
            "ticklen": 6,
            "ticks": "inside"
           }
          },
          "colorscale": {
           "sequential": [
            [
             0,
             "rgb(20,44,66)"
            ],
            [
             1,
             "rgb(90,179,244)"
            ]
           ],
           "sequentialminus": [
            [
             0,
             "rgb(20,44,66)"
            ],
            [
             1,
             "rgb(90,179,244)"
            ]
           ]
          },
          "xaxis": {
           "gridcolor": "white",
           "linecolor": "white",
           "showgrid": true,
           "tickcolor": "rgb(51,51,51)",
           "ticks": "outside",
           "title": {
            "standoff": 15
           },
           "zerolinecolor": "white",
           "automargin": true
          },
          "yaxis": {
           "gridcolor": "white",
           "linecolor": "white",
           "showgrid": true,
           "tickcolor": "rgb(51,51,51)",
           "ticks": "outside",
           "title": {
            "standoff": 15
           },
           "zerolinecolor": "white",
           "automargin": true
          },
          "scene": {
           "xaxis": {
            "backgroundcolor": "rgb(237,237,237)",
            "gridcolor": "white",
            "linecolor": "white",
            "showbackground": true,
            "showgrid": true,
            "tickcolor": "rgb(51,51,51)",
            "ticks": "outside",
            "zerolinecolor": "white",
            "gridwidth": 2
           },
           "yaxis": {
            "backgroundcolor": "rgb(237,237,237)",
            "gridcolor": "white",
            "linecolor": "white",
            "showbackground": true,
            "showgrid": true,
            "tickcolor": "rgb(51,51,51)",
            "ticks": "outside",
            "zerolinecolor": "white",
            "gridwidth": 2
           },
           "zaxis": {
            "backgroundcolor": "rgb(237,237,237)",
            "gridcolor": "white",
            "linecolor": "white",
            "showbackground": true,
            "showgrid": true,
            "tickcolor": "rgb(51,51,51)",
            "ticks": "outside",
            "zerolinecolor": "white",
            "gridwidth": 2
           }
          },
          "shapedefaults": {
           "fillcolor": "black",
           "line": {
            "width": 0
           },
           "opacity": 0.3
          },
          "annotationdefaults": {
           "arrowhead": 0,
           "arrowwidth": 1
          },
          "geo": {
           "bgcolor": "white",
           "landcolor": "rgb(237,237,237)",
           "subunitcolor": "white",
           "showland": true,
           "showlakes": true,
           "lakecolor": "white"
          }
         }
        },
        "xaxis": {
         "anchor": "y",
         "domain": [
          0.0,
          1.0
         ],
         "title": {
          "text": "x"
         }
        },
        "yaxis": {
         "anchor": "x",
         "domain": [
          0.0,
          1.0
         ],
         "title": {
          "text": "y"
         }
        },
        "legend": {
         "tracegroupgap": 0
        },
        "margin": {
         "t": 60
        }
       },
       "config": {
        "plotlyServerURL": "https://plot.ly"
       }
      },
      "text/html": "<div>                            <div id=\"0462064b-540d-4763-991a-59a96e640265\" class=\"plotly-graph-div\" style=\"height:525px; width:100%;\"></div>            <script type=\"text/javascript\">                require([\"plotly\"], function(Plotly) {                    window.PLOTLYENV=window.PLOTLYENV || {};                                    if (document.getElementById(\"0462064b-540d-4763-991a-59a96e640265\")) {                    Plotly.newPlot(                        \"0462064b-540d-4763-991a-59a96e640265\",                        [{\"hovertemplate\":\"x=%{x}<br>y=%{y}<extra></extra>\",\"legendgroup\":\"\",\"marker\":{\"color\":\"black\",\"symbol\":\"x-thin\",\"line\":{\"width\":2},\"size\":12},\"mode\":\"markers\",\"name\":\"\",\"orientation\":\"v\",\"showlegend\":false,\"x\":[1.2742162742793608,-0.18497847729148165,-1.0394143658102333],\"xaxis\":\"x\",\"y\":[0.052725731687348835,1.0944503625597852,-1.211908669805686],\"yaxis\":\"y\",\"type\":\"scatter\"},{\"marker\":{\"color\":[2,0,1,0,2,0,1,0,0,1,1,2,2,1,1,2,2,1,2,2,1,2,2,1,1,1,0,2,2,2,2,0,0,2,1,1,1,1,0,0,2,1,0,1,1,0,2,2,2,0,1,0,1,2,2,2,1,1,0,1,2,0,2,0,2,2,0,2,0,0,0,2,2,1,0,2,0,2,0,0,1,0,1,2,1,1,1,0,1,0,0,0,1,0,1,1,1,0,2,1]},\"mode\":\"markers\",\"x\":[-1.3501115777186532,1.6256978651283616,-0.322409758322535,1.862026871389091,-0.8670155057166598,0.9021839434181248,-0.0012746340948291913,1.211338377581949,1.3383704318412721,-0.5957323683989515,-0.35245167478755324,-0.919283193279782,-0.8011816210668095,-0.5778220788567525,0.1620337933047887,-1.4399861758629438,-0.8995392027784538,-0.1630071009910234,-1.3649759458915662,-0.820714289336833,-0.31998072742604916,-1.0414273449221692,-1.1895801672342343,0.01080984507536227,-0.14849550984647855,-0.31886624351501824,0.7318045129733591,-0.7595824968410246,-1.4014009167688386,-1.5065836608915097,-1.283229033588135,1.4181963245464855,1.222291396758236,-0.5458521471076764,0.49921425479781073,-0.3750130750911847,-0.10704539071533756,-0.00415395036308959,1.6665587054892235,1.3362381452667227,-1.5630187416928942,-0.32629987451383735,1.2855164533858383,-0.666795237052805,-0.18050814301585796,0.8734017018990585,-1.655185369774067,-0.9410517370420476,-1.0052913831032944,0.9751920004308424,0.24879134437380931,1.3014883217472895,0.19173518056659458,-0.9062800368979645,-0.6808193501691581,-1.1001253123183428,-0.5403224491222602,-0.03708877754745408,1.8921455467193389,-0.8259041336946802,-0.8929693483378709,1.0178798632312702,-1.1089184448996177,0.5299162419156661,-1.1166461452392429,-0.9246436909924567,1.3235928421462304,-1.3672446776121876,1.0869777595352426,1.40272790907562,1.1619922508050697,-0.9100458647836241,-1.4882768901646917,0.0036802697771865277,1.339402658144787,-0.6241447179015802,1.6166801692942445,-0.9871612291983145,2.0558905993560965,0.6775455113958233,0.010906265098149324,0.9853146024745343,0.195753326767107,-0.2622387229559639,-0.1395405605210567,-0.05036296964769472,0.4536695041709945,0.9307033784314067,-0.7270873204216184,1.1421829807994996,1.3343477171304972,1.757765555149107,-0.4982896855544056,1.534796042629382,-0.3754413642970292,-0.40560642266043395,0.27935384588186424,1.2347540968498825,-0.5761491296490837,-0.47069488455758823],\"y\":[-1.7341845982974609,-0.3027612390366807,1.305928537362038,-0.35471921708024956,-1.1034595202156872,-0.10081847527004995,1.4375003108633084,0.17977948435173305,0.3656066825244176,1.255223944003838,1.1747662699411612,-0.8766626178561585,-1.1836207448077019,0.7775671159908919,1.1931339854374836,-1.1272563292493758,-1.022508573560436,1.4460049933027956,-1.2271532267701606,-1.2959965083398182,0.9995381284094634,-1.1701995660626088,-1.0136308055877359,1.6084253590179995,1.6165104918928686,1.462289256287385,-0.05655887785896221,-1.534331533242813,-1.0346934041166835,-1.6751148554981856,-1.2032906356333275,0.15059042054470576,0.16289480165490489,-1.5232477524302266,1.3742615176899766,1.0524226885032901,0.7081198768320536,1.0240445871183765,0.1711612478885114,-0.5327021071705866,-1.5588440725227828,1.0846436210109458,-0.28386460887050446,1.2008805646764928,1.0495632753179212,0.21517437952197355,-1.217760941564076,-1.1567789636616244,-0.8321784850113668,-0.08120640814512295,0.3210158412093799,-2.1119669775595644e-05,1.5531825947363869,-1.0362922938536872,-0.6974847910852533,-1.0569015731439448,1.236550839514848,0.5596689675841706,-0.08622428927450829,0.9701969841682526,-1.490936835343827,-0.028303952090549037,-1.502904732439404,0.06320638770739453,-0.44728433638525017,-1.6524102442902342,0.8197719678480232,-1.521767280936951,0.2272304771526024,0.0486412126197741,-0.17252590288875522,-1.168590191938034,-1.0743580373254245,0.6053226303803377,-0.08172864469369406,-1.1484335777577144,-0.20507362245637645,-1.6211818445052886,0.12431239590381611,0.09209752110355397,0.9450266417970882,-0.026602080821926426,0.7700806290114443,-1.129881624287376,0.8196519935599496,0.5455724111118451,1.0724531145843286,0.5422438972677104,0.9223200191376889,-0.3734571068220321,-0.01959657973582777,0.29975412150807645,0.7119013995865029,0.7368799625486439,1.7039143921646738,1.3269309859721918,1.424049441933019,0.19404268573492311,-0.9536456058670203,1.0470992794820768],\"type\":\"scatter\"}],                        {\"template\":{\"data\":{\"histogram2dcontour\":[{\"type\":\"histogram2dcontour\",\"colorbar\":{\"outlinewidth\":0,\"tickcolor\":\"rgb(237,237,237)\",\"ticklen\":6,\"ticks\":\"inside\"},\"colorscale\":[[0,\"rgb(20,44,66)\"],[1,\"rgb(90,179,244)\"]]}],\"choropleth\":[{\"type\":\"choropleth\",\"colorbar\":{\"outlinewidth\":0,\"tickcolor\":\"rgb(237,237,237)\",\"ticklen\":6,\"ticks\":\"inside\"}}],\"histogram2d\":[{\"type\":\"histogram2d\",\"colorbar\":{\"outlinewidth\":0,\"tickcolor\":\"rgb(237,237,237)\",\"ticklen\":6,\"ticks\":\"inside\"},\"colorscale\":[[0,\"rgb(20,44,66)\"],[1,\"rgb(90,179,244)\"]]}],\"heatmap\":[{\"type\":\"heatmap\",\"colorbar\":{\"outlinewidth\":0,\"tickcolor\":\"rgb(237,237,237)\",\"ticklen\":6,\"ticks\":\"inside\"},\"colorscale\":[[0,\"rgb(20,44,66)\"],[1,\"rgb(90,179,244)\"]]}],\"heatmapgl\":[{\"type\":\"heatmapgl\",\"colorbar\":{\"outlinewidth\":0,\"tickcolor\":\"rgb(237,237,237)\",\"ticklen\":6,\"ticks\":\"inside\"},\"colorscale\":[[0,\"rgb(20,44,66)\"],[1,\"rgb(90,179,244)\"]]}],\"contourcarpet\":[{\"type\":\"contourcarpet\",\"colorbar\":{\"outlinewidth\":0,\"tickcolor\":\"rgb(237,237,237)\",\"ticklen\":6,\"ticks\":\"inside\"}}],\"contour\":[{\"type\":\"contour\",\"colorbar\":{\"outlinewidth\":0,\"tickcolor\":\"rgb(237,237,237)\",\"ticklen\":6,\"ticks\":\"inside\"},\"colorscale\":[[0,\"rgb(20,44,66)\"],[1,\"rgb(90,179,244)\"]]}],\"surface\":[{\"type\":\"surface\",\"colorbar\":{\"outlinewidth\":0,\"tickcolor\":\"rgb(237,237,237)\",\"ticklen\":6,\"ticks\":\"inside\"},\"colorscale\":[[0,\"rgb(20,44,66)\"],[1,\"rgb(90,179,244)\"]]}],\"mesh3d\":[{\"type\":\"mesh3d\",\"colorbar\":{\"outlinewidth\":0,\"tickcolor\":\"rgb(237,237,237)\",\"ticklen\":6,\"ticks\":\"inside\"}}],\"scatter\":[{\"fillpattern\":{\"fillmode\":\"overlay\",\"size\":10,\"solidity\":0.2},\"type\":\"scatter\"}],\"parcoords\":[{\"type\":\"parcoords\",\"line\":{\"colorbar\":{\"outlinewidth\":0,\"tickcolor\":\"rgb(237,237,237)\",\"ticklen\":6,\"ticks\":\"inside\"}}}],\"scatterpolargl\":[{\"type\":\"scatterpolargl\",\"marker\":{\"colorbar\":{\"outlinewidth\":0,\"tickcolor\":\"rgb(237,237,237)\",\"ticklen\":6,\"ticks\":\"inside\"}}}],\"bar\":[{\"error_x\":{\"color\":\"rgb(51,51,51)\"},\"error_y\":{\"color\":\"rgb(51,51,51)\"},\"marker\":{\"line\":{\"color\":\"rgb(237,237,237)\",\"width\":0.5},\"pattern\":{\"fillmode\":\"overlay\",\"size\":10,\"solidity\":0.2}},\"type\":\"bar\"}],\"scattergeo\":[{\"type\":\"scattergeo\",\"marker\":{\"colorbar\":{\"outlinewidth\":0,\"tickcolor\":\"rgb(237,237,237)\",\"ticklen\":6,\"ticks\":\"inside\"}}}],\"scatterpolar\":[{\"type\":\"scatterpolar\",\"marker\":{\"colorbar\":{\"outlinewidth\":0,\"tickcolor\":\"rgb(237,237,237)\",\"ticklen\":6,\"ticks\":\"inside\"}}}],\"histogram\":[{\"marker\":{\"pattern\":{\"fillmode\":\"overlay\",\"size\":10,\"solidity\":0.2}},\"type\":\"histogram\"}],\"scattergl\":[{\"type\":\"scattergl\",\"marker\":{\"colorbar\":{\"outlinewidth\":0,\"tickcolor\":\"rgb(237,237,237)\",\"ticklen\":6,\"ticks\":\"inside\"}}}],\"scatter3d\":[{\"type\":\"scatter3d\",\"line\":{\"colorbar\":{\"outlinewidth\":0,\"tickcolor\":\"rgb(237,237,237)\",\"ticklen\":6,\"ticks\":\"inside\"}},\"marker\":{\"colorbar\":{\"outlinewidth\":0,\"tickcolor\":\"rgb(237,237,237)\",\"ticklen\":6,\"ticks\":\"inside\"}}}],\"scattermapbox\":[{\"type\":\"scattermapbox\",\"marker\":{\"colorbar\":{\"outlinewidth\":0,\"tickcolor\":\"rgb(237,237,237)\",\"ticklen\":6,\"ticks\":\"inside\"}}}],\"scatterternary\":[{\"type\":\"scatterternary\",\"marker\":{\"colorbar\":{\"outlinewidth\":0,\"tickcolor\":\"rgb(237,237,237)\",\"ticklen\":6,\"ticks\":\"inside\"}}}],\"scattercarpet\":[{\"type\":\"scattercarpet\",\"marker\":{\"colorbar\":{\"outlinewidth\":0,\"tickcolor\":\"rgb(237,237,237)\",\"ticklen\":6,\"ticks\":\"inside\"}}}],\"carpet\":[{\"aaxis\":{\"endlinecolor\":\"rgb(51,51,51)\",\"gridcolor\":\"white\",\"linecolor\":\"white\",\"minorgridcolor\":\"white\",\"startlinecolor\":\"rgb(51,51,51)\"},\"baxis\":{\"endlinecolor\":\"rgb(51,51,51)\",\"gridcolor\":\"white\",\"linecolor\":\"white\",\"minorgridcolor\":\"white\",\"startlinecolor\":\"rgb(51,51,51)\"},\"type\":\"carpet\"}],\"table\":[{\"cells\":{\"fill\":{\"color\":\"rgb(237,237,237)\"},\"line\":{\"color\":\"white\"}},\"header\":{\"fill\":{\"color\":\"rgb(217,217,217)\"},\"line\":{\"color\":\"white\"}},\"type\":\"table\"}],\"barpolar\":[{\"marker\":{\"line\":{\"color\":\"rgb(237,237,237)\",\"width\":0.5},\"pattern\":{\"fillmode\":\"overlay\",\"size\":10,\"solidity\":0.2}},\"type\":\"barpolar\"}],\"pie\":[{\"automargin\":true,\"type\":\"pie\"}]},\"layout\":{\"autotypenumbers\":\"strict\",\"colorway\":[\"#F8766D\",\"#A3A500\",\"#00BF7D\",\"#00B0F6\",\"#E76BF3\"],\"font\":{\"color\":\"rgb(51,51,51)\"},\"hovermode\":\"closest\",\"hoverlabel\":{\"align\":\"left\"},\"paper_bgcolor\":\"white\",\"plot_bgcolor\":\"rgb(237,237,237)\",\"polar\":{\"bgcolor\":\"rgb(237,237,237)\",\"angularaxis\":{\"gridcolor\":\"white\",\"linecolor\":\"white\",\"showgrid\":true,\"tickcolor\":\"rgb(51,51,51)\",\"ticks\":\"outside\"},\"radialaxis\":{\"gridcolor\":\"white\",\"linecolor\":\"white\",\"showgrid\":true,\"tickcolor\":\"rgb(51,51,51)\",\"ticks\":\"outside\"}},\"ternary\":{\"bgcolor\":\"rgb(237,237,237)\",\"aaxis\":{\"gridcolor\":\"white\",\"linecolor\":\"white\",\"showgrid\":true,\"tickcolor\":\"rgb(51,51,51)\",\"ticks\":\"outside\"},\"baxis\":{\"gridcolor\":\"white\",\"linecolor\":\"white\",\"showgrid\":true,\"tickcolor\":\"rgb(51,51,51)\",\"ticks\":\"outside\"},\"caxis\":{\"gridcolor\":\"white\",\"linecolor\":\"white\",\"showgrid\":true,\"tickcolor\":\"rgb(51,51,51)\",\"ticks\":\"outside\"}},\"coloraxis\":{\"colorbar\":{\"outlinewidth\":0,\"tickcolor\":\"rgb(237,237,237)\",\"ticklen\":6,\"ticks\":\"inside\"}},\"colorscale\":{\"sequential\":[[0,\"rgb(20,44,66)\"],[1,\"rgb(90,179,244)\"]],\"sequentialminus\":[[0,\"rgb(20,44,66)\"],[1,\"rgb(90,179,244)\"]]},\"xaxis\":{\"gridcolor\":\"white\",\"linecolor\":\"white\",\"showgrid\":true,\"tickcolor\":\"rgb(51,51,51)\",\"ticks\":\"outside\",\"title\":{\"standoff\":15},\"zerolinecolor\":\"white\",\"automargin\":true},\"yaxis\":{\"gridcolor\":\"white\",\"linecolor\":\"white\",\"showgrid\":true,\"tickcolor\":\"rgb(51,51,51)\",\"ticks\":\"outside\",\"title\":{\"standoff\":15},\"zerolinecolor\":\"white\",\"automargin\":true},\"scene\":{\"xaxis\":{\"backgroundcolor\":\"rgb(237,237,237)\",\"gridcolor\":\"white\",\"linecolor\":\"white\",\"showbackground\":true,\"showgrid\":true,\"tickcolor\":\"rgb(51,51,51)\",\"ticks\":\"outside\",\"zerolinecolor\":\"white\",\"gridwidth\":2},\"yaxis\":{\"backgroundcolor\":\"rgb(237,237,237)\",\"gridcolor\":\"white\",\"linecolor\":\"white\",\"showbackground\":true,\"showgrid\":true,\"tickcolor\":\"rgb(51,51,51)\",\"ticks\":\"outside\",\"zerolinecolor\":\"white\",\"gridwidth\":2},\"zaxis\":{\"backgroundcolor\":\"rgb(237,237,237)\",\"gridcolor\":\"white\",\"linecolor\":\"white\",\"showbackground\":true,\"showgrid\":true,\"tickcolor\":\"rgb(51,51,51)\",\"ticks\":\"outside\",\"zerolinecolor\":\"white\",\"gridwidth\":2}},\"shapedefaults\":{\"fillcolor\":\"black\",\"line\":{\"width\":0},\"opacity\":0.3},\"annotationdefaults\":{\"arrowhead\":0,\"arrowwidth\":1},\"geo\":{\"bgcolor\":\"white\",\"landcolor\":\"rgb(237,237,237)\",\"subunitcolor\":\"white\",\"showland\":true,\"showlakes\":true,\"lakecolor\":\"white\"}}},\"xaxis\":{\"anchor\":\"y\",\"domain\":[0.0,1.0],\"title\":{\"text\":\"x\"}},\"yaxis\":{\"anchor\":\"x\",\"domain\":[0.0,1.0],\"title\":{\"text\":\"y\"}},\"legend\":{\"tracegroupgap\":0},\"margin\":{\"t\":60}},                        {\"responsive\": true}                    ).then(function(){\n                            \nvar gd = document.getElementById('0462064b-540d-4763-991a-59a96e640265');\nvar x = new MutationObserver(function (mutations, observer) {{\n        var display = window.getComputedStyle(gd).display;\n        if (!display || display === 'none') {{\n            console.log([gd, 'removed!']);\n            Plotly.purge(gd);\n            observer.disconnect();\n        }}\n}});\n\n// Listen for the removal of the full notebook cells\nvar notebookContainer = gd.closest('#notebook-container');\nif (notebookContainer) {{\n    x.observe(notebookContainer, {childList: true});\n}}\n\n// Listen for the clearing of the current output cell\nvar outputEl = gd.closest('.output');\nif (outputEl) {{\n    x.observe(outputEl, {childList: true});\n}}\n\n                        })                };                });            </script>        </div>"
     },
     "metadata": {},
     "output_type": "display_data"
    }
   ],
   "source": [
    "fig = px.scatter(x=kmeans.centroids[:, 0], y=kmeans.centroids[:, 1])\n",
    "fig.update_traces(mode='markers', marker_size=12, marker_color='black', marker_symbol='x-thin', marker_line_width=2)\n",
    "fig.add_scatter(x=x_train_scaled[:, 0], y=x_train_scaled[:, 1], marker_color=kmeans.labels, mode='markers')\n",
    "fig.show()"
   ],
   "metadata": {
    "collapsed": false
   }
  },
  {
   "cell_type": "code",
   "execution_count": 23,
   "outputs": [],
   "source": [
    "kmeans = RobustKMeans(n_clusters=n_clusters, max_iter=300)\n",
    "kmeans.fit(x_train_scaled, n=1000)"
   ],
   "metadata": {
    "collapsed": false
   }
  },
  {
   "cell_type": "code",
   "execution_count": 24,
   "outputs": [
    {
     "data": {
      "text/plain": "(20.713221582332622, 0.99)"
     },
     "execution_count": 24,
     "metadata": {},
     "output_type": "execute_result"
    }
   ],
   "source": [
    "kmeans.inertia, kmeans.score(true_labels)"
   ],
   "metadata": {
    "collapsed": false
   }
  },
  {
   "cell_type": "code",
   "execution_count": 25,
   "outputs": [
    {
     "data": {
      "application/vnd.plotly.v1+json": {
       "data": [
        {
         "hovertemplate": "x=%{x}<br>y=%{y}<extra></extra>",
         "legendgroup": "",
         "marker": {
          "color": "black",
          "symbol": "x-thin",
          "line": {
           "width": 2
          },
          "size": 12
         },
         "mode": "markers",
         "name": "",
         "orientation": "v",
         "showlegend": false,
         "x": [
          -0.18486851134180388,
          1.275003008222221,
          -1.0400274776084066
         ],
         "xaxis": "x",
         "y": [
          1.0951463528023528,
          0.052756981091970384,
          -1.2125073119142946
         ],
         "yaxis": "y",
         "type": "scatter"
        },
        {
         "marker": {
          "color": [
           2,
           1,
           0,
           1,
           2,
           1,
           0,
           1,
           1,
           0,
           0,
           2,
           2,
           0,
           0,
           2,
           2,
           0,
           2,
           2,
           0,
           2,
           2,
           0,
           0,
           0,
           1,
           2,
           2,
           2,
           2,
           1,
           1,
           2,
           0,
           0,
           0,
           0,
           1,
           1,
           2,
           0,
           1,
           0,
           0,
           1,
           2,
           2,
           2,
           1,
           0,
           1,
           0,
           2,
           2,
           2,
           0,
           0,
           1,
           0,
           2,
           1,
           2,
           1,
           2,
           2,
           1,
           2,
           1,
           1,
           1,
           2,
           2,
           0,
           1,
           2,
           1,
           2,
           1,
           1,
           0,
           1,
           0,
           2,
           0,
           0,
           0,
           1,
           0,
           1,
           1,
           1,
           0,
           1,
           0,
           0,
           0,
           1,
           2,
           0
          ]
         },
         "mode": "markers",
         "x": [
          -1.3501115777186532,
          1.6256978651283616,
          -0.322409758322535,
          1.862026871389091,
          -0.8670155057166598,
          0.9021839434181248,
          -0.0012746340948291913,
          1.211338377581949,
          1.3383704318412721,
          -0.5957323683989515,
          -0.35245167478755324,
          -0.919283193279782,
          -0.8011816210668095,
          -0.5778220788567525,
          0.1620337933047887,
          -1.4399861758629438,
          -0.8995392027784538,
          -0.1630071009910234,
          -1.3649759458915662,
          -0.820714289336833,
          -0.31998072742604916,
          -1.0414273449221692,
          -1.1895801672342343,
          0.01080984507536227,
          -0.14849550984647855,
          -0.31886624351501824,
          0.7318045129733591,
          -0.7595824968410246,
          -1.4014009167688386,
          -1.5065836608915097,
          -1.283229033588135,
          1.4181963245464855,
          1.222291396758236,
          -0.5458521471076764,
          0.49921425479781073,
          -0.3750130750911847,
          -0.10704539071533756,
          -0.00415395036308959,
          1.6665587054892235,
          1.3362381452667227,
          -1.5630187416928942,
          -0.32629987451383735,
          1.2855164533858383,
          -0.666795237052805,
          -0.18050814301585796,
          0.8734017018990585,
          -1.655185369774067,
          -0.9410517370420476,
          -1.0052913831032944,
          0.9751920004308424,
          0.24879134437380931,
          1.3014883217472895,
          0.19173518056659458,
          -0.9062800368979645,
          -0.6808193501691581,
          -1.1001253123183428,
          -0.5403224491222602,
          -0.03708877754745408,
          1.8921455467193389,
          -0.8259041336946802,
          -0.8929693483378709,
          1.0178798632312702,
          -1.1089184448996177,
          0.5299162419156661,
          -1.1166461452392429,
          -0.9246436909924567,
          1.3235928421462304,
          -1.3672446776121876,
          1.0869777595352426,
          1.40272790907562,
          1.1619922508050697,
          -0.9100458647836241,
          -1.4882768901646917,
          0.0036802697771865277,
          1.339402658144787,
          -0.6241447179015802,
          1.6166801692942445,
          -0.9871612291983145,
          2.0558905993560965,
          0.6775455113958233,
          0.010906265098149324,
          0.9853146024745343,
          0.195753326767107,
          -0.2622387229559639,
          -0.1395405605210567,
          -0.05036296964769472,
          0.4536695041709945,
          0.9307033784314067,
          -0.7270873204216184,
          1.1421829807994996,
          1.3343477171304972,
          1.757765555149107,
          -0.4982896855544056,
          1.534796042629382,
          -0.3754413642970292,
          -0.40560642266043395,
          0.27935384588186424,
          1.2347540968498825,
          -0.5761491296490837,
          -0.47069488455758823
         ],
         "y": [
          -1.7341845982974609,
          -0.3027612390366807,
          1.305928537362038,
          -0.35471921708024956,
          -1.1034595202156872,
          -0.10081847527004995,
          1.4375003108633084,
          0.17977948435173305,
          0.3656066825244176,
          1.255223944003838,
          1.1747662699411612,
          -0.8766626178561585,
          -1.1836207448077019,
          0.7775671159908919,
          1.1931339854374836,
          -1.1272563292493758,
          -1.022508573560436,
          1.4460049933027956,
          -1.2271532267701606,
          -1.2959965083398182,
          0.9995381284094634,
          -1.1701995660626088,
          -1.0136308055877359,
          1.6084253590179995,
          1.6165104918928686,
          1.462289256287385,
          -0.05655887785896221,
          -1.534331533242813,
          -1.0346934041166835,
          -1.6751148554981856,
          -1.2032906356333275,
          0.15059042054470576,
          0.16289480165490489,
          -1.5232477524302266,
          1.3742615176899766,
          1.0524226885032901,
          0.7081198768320536,
          1.0240445871183765,
          0.1711612478885114,
          -0.5327021071705866,
          -1.5588440725227828,
          1.0846436210109458,
          -0.28386460887050446,
          1.2008805646764928,
          1.0495632753179212,
          0.21517437952197355,
          -1.217760941564076,
          -1.1567789636616244,
          -0.8321784850113668,
          -0.08120640814512295,
          0.3210158412093799,
          -2.1119669775595644E-5,
          1.5531825947363869,
          -1.0362922938536872,
          -0.6974847910852533,
          -1.0569015731439448,
          1.236550839514848,
          0.5596689675841706,
          -0.08622428927450829,
          0.9701969841682526,
          -1.490936835343827,
          -0.028303952090549037,
          -1.502904732439404,
          0.06320638770739453,
          -0.44728433638525017,
          -1.6524102442902342,
          0.8197719678480232,
          -1.521767280936951,
          0.2272304771526024,
          0.0486412126197741,
          -0.17252590288875522,
          -1.168590191938034,
          -1.0743580373254245,
          0.6053226303803377,
          -0.08172864469369406,
          -1.1484335777577144,
          -0.20507362245637645,
          -1.6211818445052886,
          0.12431239590381611,
          0.09209752110355397,
          0.9450266417970882,
          -0.026602080821926426,
          0.7700806290114443,
          -1.129881624287376,
          0.8196519935599496,
          0.5455724111118451,
          1.0724531145843286,
          0.5422438972677104,
          0.9223200191376889,
          -0.3734571068220321,
          -0.01959657973582777,
          0.29975412150807645,
          0.7119013995865029,
          0.7368799625486439,
          1.7039143921646738,
          1.3269309859721918,
          1.424049441933019,
          0.19404268573492311,
          -0.9536456058670203,
          1.0470992794820768
         ],
         "type": "scatter"
        }
       ],
       "layout": {
        "template": {
         "data": {
          "histogram2dcontour": [
           {
            "type": "histogram2dcontour",
            "colorbar": {
             "outlinewidth": 0,
             "tickcolor": "rgb(237,237,237)",
             "ticklen": 6,
             "ticks": "inside"
            },
            "colorscale": [
             [
              0,
              "rgb(20,44,66)"
             ],
             [
              1,
              "rgb(90,179,244)"
             ]
            ]
           }
          ],
          "choropleth": [
           {
            "type": "choropleth",
            "colorbar": {
             "outlinewidth": 0,
             "tickcolor": "rgb(237,237,237)",
             "ticklen": 6,
             "ticks": "inside"
            }
           }
          ],
          "histogram2d": [
           {
            "type": "histogram2d",
            "colorbar": {
             "outlinewidth": 0,
             "tickcolor": "rgb(237,237,237)",
             "ticklen": 6,
             "ticks": "inside"
            },
            "colorscale": [
             [
              0,
              "rgb(20,44,66)"
             ],
             [
              1,
              "rgb(90,179,244)"
             ]
            ]
           }
          ],
          "heatmap": [
           {
            "type": "heatmap",
            "colorbar": {
             "outlinewidth": 0,
             "tickcolor": "rgb(237,237,237)",
             "ticklen": 6,
             "ticks": "inside"
            },
            "colorscale": [
             [
              0,
              "rgb(20,44,66)"
             ],
             [
              1,
              "rgb(90,179,244)"
             ]
            ]
           }
          ],
          "heatmapgl": [
           {
            "type": "heatmapgl",
            "colorbar": {
             "outlinewidth": 0,
             "tickcolor": "rgb(237,237,237)",
             "ticklen": 6,
             "ticks": "inside"
            },
            "colorscale": [
             [
              0,
              "rgb(20,44,66)"
             ],
             [
              1,
              "rgb(90,179,244)"
             ]
            ]
           }
          ],
          "contourcarpet": [
           {
            "type": "contourcarpet",
            "colorbar": {
             "outlinewidth": 0,
             "tickcolor": "rgb(237,237,237)",
             "ticklen": 6,
             "ticks": "inside"
            }
           }
          ],
          "contour": [
           {
            "type": "contour",
            "colorbar": {
             "outlinewidth": 0,
             "tickcolor": "rgb(237,237,237)",
             "ticklen": 6,
             "ticks": "inside"
            },
            "colorscale": [
             [
              0,
              "rgb(20,44,66)"
             ],
             [
              1,
              "rgb(90,179,244)"
             ]
            ]
           }
          ],
          "surface": [
           {
            "type": "surface",
            "colorbar": {
             "outlinewidth": 0,
             "tickcolor": "rgb(237,237,237)",
             "ticklen": 6,
             "ticks": "inside"
            },
            "colorscale": [
             [
              0,
              "rgb(20,44,66)"
             ],
             [
              1,
              "rgb(90,179,244)"
             ]
            ]
           }
          ],
          "mesh3d": [
           {
            "type": "mesh3d",
            "colorbar": {
             "outlinewidth": 0,
             "tickcolor": "rgb(237,237,237)",
             "ticklen": 6,
             "ticks": "inside"
            }
           }
          ],
          "scatter": [
           {
            "fillpattern": {
             "fillmode": "overlay",
             "size": 10,
             "solidity": 0.2
            },
            "type": "scatter"
           }
          ],
          "parcoords": [
           {
            "type": "parcoords",
            "line": {
             "colorbar": {
              "outlinewidth": 0,
              "tickcolor": "rgb(237,237,237)",
              "ticklen": 6,
              "ticks": "inside"
             }
            }
           }
          ],
          "scatterpolargl": [
           {
            "type": "scatterpolargl",
            "marker": {
             "colorbar": {
              "outlinewidth": 0,
              "tickcolor": "rgb(237,237,237)",
              "ticklen": 6,
              "ticks": "inside"
             }
            }
           }
          ],
          "bar": [
           {
            "error_x": {
             "color": "rgb(51,51,51)"
            },
            "error_y": {
             "color": "rgb(51,51,51)"
            },
            "marker": {
             "line": {
              "color": "rgb(237,237,237)",
              "width": 0.5
             },
             "pattern": {
              "fillmode": "overlay",
              "size": 10,
              "solidity": 0.2
             }
            },
            "type": "bar"
           }
          ],
          "scattergeo": [
           {
            "type": "scattergeo",
            "marker": {
             "colorbar": {
              "outlinewidth": 0,
              "tickcolor": "rgb(237,237,237)",
              "ticklen": 6,
              "ticks": "inside"
             }
            }
           }
          ],
          "scatterpolar": [
           {
            "type": "scatterpolar",
            "marker": {
             "colorbar": {
              "outlinewidth": 0,
              "tickcolor": "rgb(237,237,237)",
              "ticklen": 6,
              "ticks": "inside"
             }
            }
           }
          ],
          "histogram": [
           {
            "marker": {
             "pattern": {
              "fillmode": "overlay",
              "size": 10,
              "solidity": 0.2
             }
            },
            "type": "histogram"
           }
          ],
          "scattergl": [
           {
            "type": "scattergl",
            "marker": {
             "colorbar": {
              "outlinewidth": 0,
              "tickcolor": "rgb(237,237,237)",
              "ticklen": 6,
              "ticks": "inside"
             }
            }
           }
          ],
          "scatter3d": [
           {
            "type": "scatter3d",
            "line": {
             "colorbar": {
              "outlinewidth": 0,
              "tickcolor": "rgb(237,237,237)",
              "ticklen": 6,
              "ticks": "inside"
             }
            },
            "marker": {
             "colorbar": {
              "outlinewidth": 0,
              "tickcolor": "rgb(237,237,237)",
              "ticklen": 6,
              "ticks": "inside"
             }
            }
           }
          ],
          "scattermapbox": [
           {
            "type": "scattermapbox",
            "marker": {
             "colorbar": {
              "outlinewidth": 0,
              "tickcolor": "rgb(237,237,237)",
              "ticklen": 6,
              "ticks": "inside"
             }
            }
           }
          ],
          "scatterternary": [
           {
            "type": "scatterternary",
            "marker": {
             "colorbar": {
              "outlinewidth": 0,
              "tickcolor": "rgb(237,237,237)",
              "ticklen": 6,
              "ticks": "inside"
             }
            }
           }
          ],
          "scattercarpet": [
           {
            "type": "scattercarpet",
            "marker": {
             "colorbar": {
              "outlinewidth": 0,
              "tickcolor": "rgb(237,237,237)",
              "ticklen": 6,
              "ticks": "inside"
             }
            }
           }
          ],
          "carpet": [
           {
            "aaxis": {
             "endlinecolor": "rgb(51,51,51)",
             "gridcolor": "white",
             "linecolor": "white",
             "minorgridcolor": "white",
             "startlinecolor": "rgb(51,51,51)"
            },
            "baxis": {
             "endlinecolor": "rgb(51,51,51)",
             "gridcolor": "white",
             "linecolor": "white",
             "minorgridcolor": "white",
             "startlinecolor": "rgb(51,51,51)"
            },
            "type": "carpet"
           }
          ],
          "table": [
           {
            "cells": {
             "fill": {
              "color": "rgb(237,237,237)"
             },
             "line": {
              "color": "white"
             }
            },
            "header": {
             "fill": {
              "color": "rgb(217,217,217)"
             },
             "line": {
              "color": "white"
             }
            },
            "type": "table"
           }
          ],
          "barpolar": [
           {
            "marker": {
             "line": {
              "color": "rgb(237,237,237)",
              "width": 0.5
             },
             "pattern": {
              "fillmode": "overlay",
              "size": 10,
              "solidity": 0.2
             }
            },
            "type": "barpolar"
           }
          ],
          "pie": [
           {
            "automargin": true,
            "type": "pie"
           }
          ]
         },
         "layout": {
          "autotypenumbers": "strict",
          "colorway": [
           "#F8766D",
           "#A3A500",
           "#00BF7D",
           "#00B0F6",
           "#E76BF3"
          ],
          "font": {
           "color": "rgb(51,51,51)"
          },
          "hovermode": "closest",
          "hoverlabel": {
           "align": "left"
          },
          "paper_bgcolor": "white",
          "plot_bgcolor": "rgb(237,237,237)",
          "polar": {
           "bgcolor": "rgb(237,237,237)",
           "angularaxis": {
            "gridcolor": "white",
            "linecolor": "white",
            "showgrid": true,
            "tickcolor": "rgb(51,51,51)",
            "ticks": "outside"
           },
           "radialaxis": {
            "gridcolor": "white",
            "linecolor": "white",
            "showgrid": true,
            "tickcolor": "rgb(51,51,51)",
            "ticks": "outside"
           }
          },
          "ternary": {
           "bgcolor": "rgb(237,237,237)",
           "aaxis": {
            "gridcolor": "white",
            "linecolor": "white",
            "showgrid": true,
            "tickcolor": "rgb(51,51,51)",
            "ticks": "outside"
           },
           "baxis": {
            "gridcolor": "white",
            "linecolor": "white",
            "showgrid": true,
            "tickcolor": "rgb(51,51,51)",
            "ticks": "outside"
           },
           "caxis": {
            "gridcolor": "white",
            "linecolor": "white",
            "showgrid": true,
            "tickcolor": "rgb(51,51,51)",
            "ticks": "outside"
           }
          },
          "coloraxis": {
           "colorbar": {
            "outlinewidth": 0,
            "tickcolor": "rgb(237,237,237)",
            "ticklen": 6,
            "ticks": "inside"
           }
          },
          "colorscale": {
           "sequential": [
            [
             0,
             "rgb(20,44,66)"
            ],
            [
             1,
             "rgb(90,179,244)"
            ]
           ],
           "sequentialminus": [
            [
             0,
             "rgb(20,44,66)"
            ],
            [
             1,
             "rgb(90,179,244)"
            ]
           ]
          },
          "xaxis": {
           "gridcolor": "white",
           "linecolor": "white",
           "showgrid": true,
           "tickcolor": "rgb(51,51,51)",
           "ticks": "outside",
           "title": {
            "standoff": 15
           },
           "zerolinecolor": "white",
           "automargin": true
          },
          "yaxis": {
           "gridcolor": "white",
           "linecolor": "white",
           "showgrid": true,
           "tickcolor": "rgb(51,51,51)",
           "ticks": "outside",
           "title": {
            "standoff": 15
           },
           "zerolinecolor": "white",
           "automargin": true
          },
          "scene": {
           "xaxis": {
            "backgroundcolor": "rgb(237,237,237)",
            "gridcolor": "white",
            "linecolor": "white",
            "showbackground": true,
            "showgrid": true,
            "tickcolor": "rgb(51,51,51)",
            "ticks": "outside",
            "zerolinecolor": "white",
            "gridwidth": 2
           },
           "yaxis": {
            "backgroundcolor": "rgb(237,237,237)",
            "gridcolor": "white",
            "linecolor": "white",
            "showbackground": true,
            "showgrid": true,
            "tickcolor": "rgb(51,51,51)",
            "ticks": "outside",
            "zerolinecolor": "white",
            "gridwidth": 2
           },
           "zaxis": {
            "backgroundcolor": "rgb(237,237,237)",
            "gridcolor": "white",
            "linecolor": "white",
            "showbackground": true,
            "showgrid": true,
            "tickcolor": "rgb(51,51,51)",
            "ticks": "outside",
            "zerolinecolor": "white",
            "gridwidth": 2
           }
          },
          "shapedefaults": {
           "fillcolor": "black",
           "line": {
            "width": 0
           },
           "opacity": 0.3
          },
          "annotationdefaults": {
           "arrowhead": 0,
           "arrowwidth": 1
          },
          "geo": {
           "bgcolor": "white",
           "landcolor": "rgb(237,237,237)",
           "subunitcolor": "white",
           "showland": true,
           "showlakes": true,
           "lakecolor": "white"
          }
         }
        },
        "xaxis": {
         "anchor": "y",
         "domain": [
          0.0,
          1.0
         ],
         "title": {
          "text": "x"
         }
        },
        "yaxis": {
         "anchor": "x",
         "domain": [
          0.0,
          1.0
         ],
         "title": {
          "text": "y"
         }
        },
        "legend": {
         "tracegroupgap": 0
        },
        "margin": {
         "t": 60
        }
       },
       "config": {
        "plotlyServerURL": "https://plot.ly"
       }
      },
      "text/html": "<div>                            <div id=\"4e5e09d8-81ff-4150-95c1-b9413bfa28e2\" class=\"plotly-graph-div\" style=\"height:525px; width:100%;\"></div>            <script type=\"text/javascript\">                require([\"plotly\"], function(Plotly) {                    window.PLOTLYENV=window.PLOTLYENV || {};                                    if (document.getElementById(\"4e5e09d8-81ff-4150-95c1-b9413bfa28e2\")) {                    Plotly.newPlot(                        \"4e5e09d8-81ff-4150-95c1-b9413bfa28e2\",                        [{\"hovertemplate\":\"x=%{x}<br>y=%{y}<extra></extra>\",\"legendgroup\":\"\",\"marker\":{\"color\":\"black\",\"symbol\":\"x-thin\",\"line\":{\"width\":2},\"size\":12},\"mode\":\"markers\",\"name\":\"\",\"orientation\":\"v\",\"showlegend\":false,\"x\":[-0.18486851134180388,1.275003008222221,-1.0400274776084066],\"xaxis\":\"x\",\"y\":[1.0951463528023528,0.052756981091970384,-1.2125073119142946],\"yaxis\":\"y\",\"type\":\"scatter\"},{\"marker\":{\"color\":[2,1,0,1,2,1,0,1,1,0,0,2,2,0,0,2,2,0,2,2,0,2,2,0,0,0,1,2,2,2,2,1,1,2,0,0,0,0,1,1,2,0,1,0,0,1,2,2,2,1,0,1,0,2,2,2,0,0,1,0,2,1,2,1,2,2,1,2,1,1,1,2,2,0,1,2,1,2,1,1,0,1,0,2,0,0,0,1,0,1,1,1,0,1,0,0,0,1,2,0]},\"mode\":\"markers\",\"x\":[-1.3501115777186532,1.6256978651283616,-0.322409758322535,1.862026871389091,-0.8670155057166598,0.9021839434181248,-0.0012746340948291913,1.211338377581949,1.3383704318412721,-0.5957323683989515,-0.35245167478755324,-0.919283193279782,-0.8011816210668095,-0.5778220788567525,0.1620337933047887,-1.4399861758629438,-0.8995392027784538,-0.1630071009910234,-1.3649759458915662,-0.820714289336833,-0.31998072742604916,-1.0414273449221692,-1.1895801672342343,0.01080984507536227,-0.14849550984647855,-0.31886624351501824,0.7318045129733591,-0.7595824968410246,-1.4014009167688386,-1.5065836608915097,-1.283229033588135,1.4181963245464855,1.222291396758236,-0.5458521471076764,0.49921425479781073,-0.3750130750911847,-0.10704539071533756,-0.00415395036308959,1.6665587054892235,1.3362381452667227,-1.5630187416928942,-0.32629987451383735,1.2855164533858383,-0.666795237052805,-0.18050814301585796,0.8734017018990585,-1.655185369774067,-0.9410517370420476,-1.0052913831032944,0.9751920004308424,0.24879134437380931,1.3014883217472895,0.19173518056659458,-0.9062800368979645,-0.6808193501691581,-1.1001253123183428,-0.5403224491222602,-0.03708877754745408,1.8921455467193389,-0.8259041336946802,-0.8929693483378709,1.0178798632312702,-1.1089184448996177,0.5299162419156661,-1.1166461452392429,-0.9246436909924567,1.3235928421462304,-1.3672446776121876,1.0869777595352426,1.40272790907562,1.1619922508050697,-0.9100458647836241,-1.4882768901646917,0.0036802697771865277,1.339402658144787,-0.6241447179015802,1.6166801692942445,-0.9871612291983145,2.0558905993560965,0.6775455113958233,0.010906265098149324,0.9853146024745343,0.195753326767107,-0.2622387229559639,-0.1395405605210567,-0.05036296964769472,0.4536695041709945,0.9307033784314067,-0.7270873204216184,1.1421829807994996,1.3343477171304972,1.757765555149107,-0.4982896855544056,1.534796042629382,-0.3754413642970292,-0.40560642266043395,0.27935384588186424,1.2347540968498825,-0.5761491296490837,-0.47069488455758823],\"y\":[-1.7341845982974609,-0.3027612390366807,1.305928537362038,-0.35471921708024956,-1.1034595202156872,-0.10081847527004995,1.4375003108633084,0.17977948435173305,0.3656066825244176,1.255223944003838,1.1747662699411612,-0.8766626178561585,-1.1836207448077019,0.7775671159908919,1.1931339854374836,-1.1272563292493758,-1.022508573560436,1.4460049933027956,-1.2271532267701606,-1.2959965083398182,0.9995381284094634,-1.1701995660626088,-1.0136308055877359,1.6084253590179995,1.6165104918928686,1.462289256287385,-0.05655887785896221,-1.534331533242813,-1.0346934041166835,-1.6751148554981856,-1.2032906356333275,0.15059042054470576,0.16289480165490489,-1.5232477524302266,1.3742615176899766,1.0524226885032901,0.7081198768320536,1.0240445871183765,0.1711612478885114,-0.5327021071705866,-1.5588440725227828,1.0846436210109458,-0.28386460887050446,1.2008805646764928,1.0495632753179212,0.21517437952197355,-1.217760941564076,-1.1567789636616244,-0.8321784850113668,-0.08120640814512295,0.3210158412093799,-2.1119669775595644e-05,1.5531825947363869,-1.0362922938536872,-0.6974847910852533,-1.0569015731439448,1.236550839514848,0.5596689675841706,-0.08622428927450829,0.9701969841682526,-1.490936835343827,-0.028303952090549037,-1.502904732439404,0.06320638770739453,-0.44728433638525017,-1.6524102442902342,0.8197719678480232,-1.521767280936951,0.2272304771526024,0.0486412126197741,-0.17252590288875522,-1.168590191938034,-1.0743580373254245,0.6053226303803377,-0.08172864469369406,-1.1484335777577144,-0.20507362245637645,-1.6211818445052886,0.12431239590381611,0.09209752110355397,0.9450266417970882,-0.026602080821926426,0.7700806290114443,-1.129881624287376,0.8196519935599496,0.5455724111118451,1.0724531145843286,0.5422438972677104,0.9223200191376889,-0.3734571068220321,-0.01959657973582777,0.29975412150807645,0.7119013995865029,0.7368799625486439,1.7039143921646738,1.3269309859721918,1.424049441933019,0.19404268573492311,-0.9536456058670203,1.0470992794820768],\"type\":\"scatter\"}],                        {\"template\":{\"data\":{\"histogram2dcontour\":[{\"type\":\"histogram2dcontour\",\"colorbar\":{\"outlinewidth\":0,\"tickcolor\":\"rgb(237,237,237)\",\"ticklen\":6,\"ticks\":\"inside\"},\"colorscale\":[[0,\"rgb(20,44,66)\"],[1,\"rgb(90,179,244)\"]]}],\"choropleth\":[{\"type\":\"choropleth\",\"colorbar\":{\"outlinewidth\":0,\"tickcolor\":\"rgb(237,237,237)\",\"ticklen\":6,\"ticks\":\"inside\"}}],\"histogram2d\":[{\"type\":\"histogram2d\",\"colorbar\":{\"outlinewidth\":0,\"tickcolor\":\"rgb(237,237,237)\",\"ticklen\":6,\"ticks\":\"inside\"},\"colorscale\":[[0,\"rgb(20,44,66)\"],[1,\"rgb(90,179,244)\"]]}],\"heatmap\":[{\"type\":\"heatmap\",\"colorbar\":{\"outlinewidth\":0,\"tickcolor\":\"rgb(237,237,237)\",\"ticklen\":6,\"ticks\":\"inside\"},\"colorscale\":[[0,\"rgb(20,44,66)\"],[1,\"rgb(90,179,244)\"]]}],\"heatmapgl\":[{\"type\":\"heatmapgl\",\"colorbar\":{\"outlinewidth\":0,\"tickcolor\":\"rgb(237,237,237)\",\"ticklen\":6,\"ticks\":\"inside\"},\"colorscale\":[[0,\"rgb(20,44,66)\"],[1,\"rgb(90,179,244)\"]]}],\"contourcarpet\":[{\"type\":\"contourcarpet\",\"colorbar\":{\"outlinewidth\":0,\"tickcolor\":\"rgb(237,237,237)\",\"ticklen\":6,\"ticks\":\"inside\"}}],\"contour\":[{\"type\":\"contour\",\"colorbar\":{\"outlinewidth\":0,\"tickcolor\":\"rgb(237,237,237)\",\"ticklen\":6,\"ticks\":\"inside\"},\"colorscale\":[[0,\"rgb(20,44,66)\"],[1,\"rgb(90,179,244)\"]]}],\"surface\":[{\"type\":\"surface\",\"colorbar\":{\"outlinewidth\":0,\"tickcolor\":\"rgb(237,237,237)\",\"ticklen\":6,\"ticks\":\"inside\"},\"colorscale\":[[0,\"rgb(20,44,66)\"],[1,\"rgb(90,179,244)\"]]}],\"mesh3d\":[{\"type\":\"mesh3d\",\"colorbar\":{\"outlinewidth\":0,\"tickcolor\":\"rgb(237,237,237)\",\"ticklen\":6,\"ticks\":\"inside\"}}],\"scatter\":[{\"fillpattern\":{\"fillmode\":\"overlay\",\"size\":10,\"solidity\":0.2},\"type\":\"scatter\"}],\"parcoords\":[{\"type\":\"parcoords\",\"line\":{\"colorbar\":{\"outlinewidth\":0,\"tickcolor\":\"rgb(237,237,237)\",\"ticklen\":6,\"ticks\":\"inside\"}}}],\"scatterpolargl\":[{\"type\":\"scatterpolargl\",\"marker\":{\"colorbar\":{\"outlinewidth\":0,\"tickcolor\":\"rgb(237,237,237)\",\"ticklen\":6,\"ticks\":\"inside\"}}}],\"bar\":[{\"error_x\":{\"color\":\"rgb(51,51,51)\"},\"error_y\":{\"color\":\"rgb(51,51,51)\"},\"marker\":{\"line\":{\"color\":\"rgb(237,237,237)\",\"width\":0.5},\"pattern\":{\"fillmode\":\"overlay\",\"size\":10,\"solidity\":0.2}},\"type\":\"bar\"}],\"scattergeo\":[{\"type\":\"scattergeo\",\"marker\":{\"colorbar\":{\"outlinewidth\":0,\"tickcolor\":\"rgb(237,237,237)\",\"ticklen\":6,\"ticks\":\"inside\"}}}],\"scatterpolar\":[{\"type\":\"scatterpolar\",\"marker\":{\"colorbar\":{\"outlinewidth\":0,\"tickcolor\":\"rgb(237,237,237)\",\"ticklen\":6,\"ticks\":\"inside\"}}}],\"histogram\":[{\"marker\":{\"pattern\":{\"fillmode\":\"overlay\",\"size\":10,\"solidity\":0.2}},\"type\":\"histogram\"}],\"scattergl\":[{\"type\":\"scattergl\",\"marker\":{\"colorbar\":{\"outlinewidth\":0,\"tickcolor\":\"rgb(237,237,237)\",\"ticklen\":6,\"ticks\":\"inside\"}}}],\"scatter3d\":[{\"type\":\"scatter3d\",\"line\":{\"colorbar\":{\"outlinewidth\":0,\"tickcolor\":\"rgb(237,237,237)\",\"ticklen\":6,\"ticks\":\"inside\"}},\"marker\":{\"colorbar\":{\"outlinewidth\":0,\"tickcolor\":\"rgb(237,237,237)\",\"ticklen\":6,\"ticks\":\"inside\"}}}],\"scattermapbox\":[{\"type\":\"scattermapbox\",\"marker\":{\"colorbar\":{\"outlinewidth\":0,\"tickcolor\":\"rgb(237,237,237)\",\"ticklen\":6,\"ticks\":\"inside\"}}}],\"scatterternary\":[{\"type\":\"scatterternary\",\"marker\":{\"colorbar\":{\"outlinewidth\":0,\"tickcolor\":\"rgb(237,237,237)\",\"ticklen\":6,\"ticks\":\"inside\"}}}],\"scattercarpet\":[{\"type\":\"scattercarpet\",\"marker\":{\"colorbar\":{\"outlinewidth\":0,\"tickcolor\":\"rgb(237,237,237)\",\"ticklen\":6,\"ticks\":\"inside\"}}}],\"carpet\":[{\"aaxis\":{\"endlinecolor\":\"rgb(51,51,51)\",\"gridcolor\":\"white\",\"linecolor\":\"white\",\"minorgridcolor\":\"white\",\"startlinecolor\":\"rgb(51,51,51)\"},\"baxis\":{\"endlinecolor\":\"rgb(51,51,51)\",\"gridcolor\":\"white\",\"linecolor\":\"white\",\"minorgridcolor\":\"white\",\"startlinecolor\":\"rgb(51,51,51)\"},\"type\":\"carpet\"}],\"table\":[{\"cells\":{\"fill\":{\"color\":\"rgb(237,237,237)\"},\"line\":{\"color\":\"white\"}},\"header\":{\"fill\":{\"color\":\"rgb(217,217,217)\"},\"line\":{\"color\":\"white\"}},\"type\":\"table\"}],\"barpolar\":[{\"marker\":{\"line\":{\"color\":\"rgb(237,237,237)\",\"width\":0.5},\"pattern\":{\"fillmode\":\"overlay\",\"size\":10,\"solidity\":0.2}},\"type\":\"barpolar\"}],\"pie\":[{\"automargin\":true,\"type\":\"pie\"}]},\"layout\":{\"autotypenumbers\":\"strict\",\"colorway\":[\"#F8766D\",\"#A3A500\",\"#00BF7D\",\"#00B0F6\",\"#E76BF3\"],\"font\":{\"color\":\"rgb(51,51,51)\"},\"hovermode\":\"closest\",\"hoverlabel\":{\"align\":\"left\"},\"paper_bgcolor\":\"white\",\"plot_bgcolor\":\"rgb(237,237,237)\",\"polar\":{\"bgcolor\":\"rgb(237,237,237)\",\"angularaxis\":{\"gridcolor\":\"white\",\"linecolor\":\"white\",\"showgrid\":true,\"tickcolor\":\"rgb(51,51,51)\",\"ticks\":\"outside\"},\"radialaxis\":{\"gridcolor\":\"white\",\"linecolor\":\"white\",\"showgrid\":true,\"tickcolor\":\"rgb(51,51,51)\",\"ticks\":\"outside\"}},\"ternary\":{\"bgcolor\":\"rgb(237,237,237)\",\"aaxis\":{\"gridcolor\":\"white\",\"linecolor\":\"white\",\"showgrid\":true,\"tickcolor\":\"rgb(51,51,51)\",\"ticks\":\"outside\"},\"baxis\":{\"gridcolor\":\"white\",\"linecolor\":\"white\",\"showgrid\":true,\"tickcolor\":\"rgb(51,51,51)\",\"ticks\":\"outside\"},\"caxis\":{\"gridcolor\":\"white\",\"linecolor\":\"white\",\"showgrid\":true,\"tickcolor\":\"rgb(51,51,51)\",\"ticks\":\"outside\"}},\"coloraxis\":{\"colorbar\":{\"outlinewidth\":0,\"tickcolor\":\"rgb(237,237,237)\",\"ticklen\":6,\"ticks\":\"inside\"}},\"colorscale\":{\"sequential\":[[0,\"rgb(20,44,66)\"],[1,\"rgb(90,179,244)\"]],\"sequentialminus\":[[0,\"rgb(20,44,66)\"],[1,\"rgb(90,179,244)\"]]},\"xaxis\":{\"gridcolor\":\"white\",\"linecolor\":\"white\",\"showgrid\":true,\"tickcolor\":\"rgb(51,51,51)\",\"ticks\":\"outside\",\"title\":{\"standoff\":15},\"zerolinecolor\":\"white\",\"automargin\":true},\"yaxis\":{\"gridcolor\":\"white\",\"linecolor\":\"white\",\"showgrid\":true,\"tickcolor\":\"rgb(51,51,51)\",\"ticks\":\"outside\",\"title\":{\"standoff\":15},\"zerolinecolor\":\"white\",\"automargin\":true},\"scene\":{\"xaxis\":{\"backgroundcolor\":\"rgb(237,237,237)\",\"gridcolor\":\"white\",\"linecolor\":\"white\",\"showbackground\":true,\"showgrid\":true,\"tickcolor\":\"rgb(51,51,51)\",\"ticks\":\"outside\",\"zerolinecolor\":\"white\",\"gridwidth\":2},\"yaxis\":{\"backgroundcolor\":\"rgb(237,237,237)\",\"gridcolor\":\"white\",\"linecolor\":\"white\",\"showbackground\":true,\"showgrid\":true,\"tickcolor\":\"rgb(51,51,51)\",\"ticks\":\"outside\",\"zerolinecolor\":\"white\",\"gridwidth\":2},\"zaxis\":{\"backgroundcolor\":\"rgb(237,237,237)\",\"gridcolor\":\"white\",\"linecolor\":\"white\",\"showbackground\":true,\"showgrid\":true,\"tickcolor\":\"rgb(51,51,51)\",\"ticks\":\"outside\",\"zerolinecolor\":\"white\",\"gridwidth\":2}},\"shapedefaults\":{\"fillcolor\":\"black\",\"line\":{\"width\":0},\"opacity\":0.3},\"annotationdefaults\":{\"arrowhead\":0,\"arrowwidth\":1},\"geo\":{\"bgcolor\":\"white\",\"landcolor\":\"rgb(237,237,237)\",\"subunitcolor\":\"white\",\"showland\":true,\"showlakes\":true,\"lakecolor\":\"white\"}}},\"xaxis\":{\"anchor\":\"y\",\"domain\":[0.0,1.0],\"title\":{\"text\":\"x\"}},\"yaxis\":{\"anchor\":\"x\",\"domain\":[0.0,1.0],\"title\":{\"text\":\"y\"}},\"legend\":{\"tracegroupgap\":0},\"margin\":{\"t\":60}},                        {\"responsive\": true}                    ).then(function(){\n                            \nvar gd = document.getElementById('4e5e09d8-81ff-4150-95c1-b9413bfa28e2');\nvar x = new MutationObserver(function (mutations, observer) {{\n        var display = window.getComputedStyle(gd).display;\n        if (!display || display === 'none') {{\n            console.log([gd, 'removed!']);\n            Plotly.purge(gd);\n            observer.disconnect();\n        }}\n}});\n\n// Listen for the removal of the full notebook cells\nvar notebookContainer = gd.closest('#notebook-container');\nif (notebookContainer) {{\n    x.observe(notebookContainer, {childList: true});\n}}\n\n// Listen for the clearing of the current output cell\nvar outputEl = gd.closest('.output');\nif (outputEl) {{\n    x.observe(outputEl, {childList: true});\n}}\n\n                        })                };                });            </script>        </div>"
     },
     "metadata": {},
     "output_type": "display_data"
    }
   ],
   "source": [
    "fig = px.scatter(x=kmeans.centroids[:, 0], y=kmeans.centroids[:, 1])\n",
    "fig.update_traces(mode='markers', marker_size=12, marker_color='black', marker_symbol='x-thin', marker_line_width=2)\n",
    "fig.add_scatter(x=x_train_scaled[:, 0], y=x_train_scaled[:, 1], marker_color=kmeans.labels, mode='markers')\n",
    "fig.show()"
   ],
   "metadata": {
    "collapsed": false
   }
  },
  {
   "cell_type": "code",
   "execution_count": 26,
   "outputs": [],
   "source": [
    "noise, noise_labels = make_blobs(n_samples=2, centers=[[100, 1]])\n",
    "x_train = np.append(x_train, noise, axis=0)\n",
    "true_labels = np.append(true_labels, noise_labels)\n",
    "x_train_scaled = StandardScaler().fit_transform(x_train)"
   ],
   "metadata": {
    "collapsed": false
   }
  },
  {
   "cell_type": "code",
   "execution_count": null,
   "outputs": [],
   "source": [
    "px.scatter(x=x_train_scaled[:, 0], y=x_train_scaled[:, 1], color=true_labels)"
   ],
   "metadata": {
    "collapsed": false,
    "pycharm": {
     "is_executing": true
    }
   }
  },
  {
   "cell_type": "code",
   "execution_count": 28,
   "outputs": [],
   "source": [
    "kmeans = KMeans(n_clusters=n_clusters)\n",
    "kmeans.fit(x_train_scaled)"
   ],
   "metadata": {
    "collapsed": false
   }
  },
  {
   "cell_type": "code",
   "execution_count": 29,
   "outputs": [
    {
     "data": {
      "text/plain": "(98.00706380389678, 0.9509803921568627)"
     },
     "execution_count": 29,
     "metadata": {},
     "output_type": "execute_result"
    }
   ],
   "source": [
    "kmeans.inertia, kmeans.score(true_labels)"
   ],
   "metadata": {
    "collapsed": false
   }
  },
  {
   "cell_type": "code",
   "execution_count": 30,
   "outputs": [
    {
     "data": {
      "application/vnd.plotly.v1+json": {
       "data": [
        {
         "hovertemplate": "x=%{x}<br>y=%{y}<extra></extra>",
         "legendgroup": "",
         "marker": {
          "color": "black",
          "symbol": "x-thin",
          "line": {
           "width": 2
          },
          "size": 12
         },
         "mode": "markers",
         "name": "",
         "orientation": "v",
         "showlegend": false,
         "x": [
          0.5094127529479524,
          -0.32220754442048877,
          -0.15319889536373915
         ],
         "xaxis": "x",
         "y": [
          -0.003012644896976089,
          -1.2217020200928752,
          1.0922316567504893
         ],
         "yaxis": "y",
         "type": "scatter"
        },
        {
         "marker": {
          "color": [
           1,
           0,
           2,
           0,
           1,
           0,
           2,
           0,
           0,
           2,
           2,
           1,
           1,
           2,
           2,
           1,
           1,
           2,
           1,
           1,
           2,
           1,
           1,
           2,
           2,
           2,
           0,
           1,
           1,
           1,
           1,
           0,
           0,
           1,
           2,
           2,
           2,
           2,
           0,
           0,
           1,
           2,
           0,
           2,
           2,
           0,
           1,
           1,
           1,
           0,
           0,
           0,
           2,
           1,
           1,
           1,
           2,
           2,
           0,
           2,
           1,
           0,
           1,
           0,
           1,
           1,
           2,
           1,
           0,
           0,
           0,
           1,
           1,
           2,
           0,
           1,
           0,
           1,
           0,
           0,
           2,
           0,
           2,
           1,
           2,
           2,
           2,
           2,
           2,
           0,
           0,
           0,
           2,
           2,
           2,
           2,
           2,
           0,
           1,
           2,
           0,
           0
          ]
         },
         "mode": "markers",
         "x": [
          -0.3768992457101762,
          0.14692934014527825,
          -0.19599398242816096,
          0.18853008492540926,
          -0.2918603555899062,
          0.019569950461504244,
          -0.13946490648310458,
          0.0739900782180868,
          0.09635139624566572,
          -0.24410667212433768,
          -0.20128222917933816,
          -0.3010609812979592,
          -0.28027168657065976,
          -0.24095394281712237,
          -0.11071789689596623,
          -0.3927197760749194,
          -0.2975854675521733,
          -0.1679345014112308,
          -0.3795158047033496,
          -0.28371000148778736,
          -0.19556640269096917,
          -0.3225618870025033,
          -0.348641071470705,
          -0.13733768840812433,
          -0.16538004138489026,
          -0.19537022126796935,
          -0.010421760305886998,
          -0.2729490367725025,
          -0.3859276537652348,
          -0.4044428608604384,
          -0.36512598227272103,
          0.11040306363012557,
          0.0759181265881709,
          -0.23532630957660416,
          -0.0513643772186448,
          -0.20525368858994586,
          -0.15808362079579746,
          -0.13997174947759097,
          0.15412203061628438,
          0.09597605209731319,
          -0.41437706838837224,
          -0.19667875546300748,
          0.08704756637252155,
          -0.2566157936620953,
          -0.17101519131121823,
          0.014503442957496115,
          -0.4306010623564257,
          -0.30489287501095536,
          -0.31620091189920574,
          0.03242148144678056,
          -0.09544605702799125,
          0.08985907745141779,
          -0.10548959313992602,
          -0.29877204944598273,
          -0.2590844434472065,
          -0.3328944280620916,
          -0.23435292269429858,
          -0.1457692322400873,
          0.19383184345837137,
          -0.2846235642958213,
          -0.29642898303023624,
          0.03993578074362881,
          -0.33444227388144016,
          -0.04595993892923872,
          -0.3358025727912211,
          -0.3020045840353795,
          0.09375011277608308,
          -0.3799151671463162,
          0.05209901027887345,
          0.10768017483057393,
          0.06530373176229808,
          -0.29943494414196603,
          -0.4012203393900332,
          -0.13859270000006965,
          0.09653309794909726,
          -0.249108067928282,
          0.14534196469426788,
          -0.3130094801009716,
          0.22265571172376594,
          -0.019972914911773713,
          -0.1373207156935891,
          0.03420335236814292,
          -0.10478228311809841,
          -0.18540213877322104,
          -0.16380371113537834,
          -0.14810587422264324,
          -0.05938157145510081,
          0.024590196414521755,
          -0.2672289452687213,
          0.061816726934489266,
          0.09564328203381309,
          0.1701770758049167,
          -0.22695393982183315,
          0.13092798856485985,
          -0.20532907988543825,
          -0.2106390031746231,
          -0.09006617224281059,
          0.07811192249154766,
          -0.24065945533918,
          -0.22209645621586133,
          7.069164502025662,
          6.854888897253865
         ],
         "y": [
          -1.748229268983381,
          -0.3051541390886014,
          1.316630354658825,
          -0.3575350545104472,
          -1.1123700956003295,
          -0.10156756341308869,
          1.449273120970732,
          0.18131446055955808,
          0.3686542901118123,
          1.2655130264601058,
          1.1844004278023688,
          -0.8837270689130831,
          -1.193183831691925,
          0.78396807704285,
          1.2029176563038053,
          -1.1363606104016988,
          -1.0307602091164596,
          1.4578470314331229,
          -1.237070667585856,
          -1.3064743327215298,
          1.0077459310973116,
          -1.179653404697274,
          -1.0218101762086578,
          1.6215894971653204,
          1.6297404429341833,
          1.4742638481419563,
          -0.05694769335865561,
          -1.5467494021447235,
          -1.0430442240614044,
          -1.6886786991177778,
          -1.2130138352157358,
          0.15188779808942368,
          0.16429233672853402,
          -1.5355753994764223,
          1.3855195647062017,
          1.061060970937264,
          0.713955538109764,
          1.0324518721145721,
          0.17262607174490988,
          -0.5369667233975617,
          -1.5714614732288232,
          1.0935441814863978,
          -0.2861036905576295,
          1.210727292613881,
          1.0581782821595496,
          0.21699746979295814,
          -1.2276019292799654,
          -1.1661235587381662,
          -0.8388808357089486,
          -0.08179585427427402,
          0.32370047983164035,
          5.028156956837474E-5,
          1.565897057381046,
          -1.0446561287435425,
          -0.7030907365737684,
          -1.0654331673439081,
          1.2466879231029104,
          0.5642962400691632,
          -0.08685458090168062,
          0.9781659502599074,
          -1.5030014718750488,
          -0.02846277280064767,
          -1.515066787523304,
          0.06379246017167838,
          -0.4508536528835885,
          -1.6657892726206127,
          0.8265164759367819,
          -1.5340828769612334,
          0.2291517039276648,
          0.049108724716667655,
          -0.1738586887156146,
          -1.178030930284764,
          -1.083031726954673,
          0.6103215231858047,
          -0.08232234182269174,
          -1.1577102414834262,
          -0.20667134636784099,
          -1.6343066739997971,
          0.12539587061269633,
          0.09291876708062873,
          0.9527907215745781,
          -0.026747048318339326,
          0.7764206501405105,
          -1.1390072753128615,
          0.8263955250593035,
          0.5500849377798981,
          1.0812544444695598,
          0.5467293298691388,
          0.9298992672527722,
          -0.3764254704716909,
          -0.01968452252930889,
          0.3022656899623526,
          0.7177678424184591,
          0.7429497306124534,
          1.7178558100071242,
          1.3378037629730906,
          1.4357127621130987,
          0.19569376424745646,
          -0.9613366976121936,
          1.0556942294243006,
          0.4238263603922539,
          -0.43098367571496565
         ],
         "type": "scatter"
        }
       ],
       "layout": {
        "template": {
         "data": {
          "histogram2dcontour": [
           {
            "type": "histogram2dcontour",
            "colorbar": {
             "outlinewidth": 0,
             "tickcolor": "rgb(237,237,237)",
             "ticklen": 6,
             "ticks": "inside"
            },
            "colorscale": [
             [
              0,
              "rgb(20,44,66)"
             ],
             [
              1,
              "rgb(90,179,244)"
             ]
            ]
           }
          ],
          "choropleth": [
           {
            "type": "choropleth",
            "colorbar": {
             "outlinewidth": 0,
             "tickcolor": "rgb(237,237,237)",
             "ticklen": 6,
             "ticks": "inside"
            }
           }
          ],
          "histogram2d": [
           {
            "type": "histogram2d",
            "colorbar": {
             "outlinewidth": 0,
             "tickcolor": "rgb(237,237,237)",
             "ticklen": 6,
             "ticks": "inside"
            },
            "colorscale": [
             [
              0,
              "rgb(20,44,66)"
             ],
             [
              1,
              "rgb(90,179,244)"
             ]
            ]
           }
          ],
          "heatmap": [
           {
            "type": "heatmap",
            "colorbar": {
             "outlinewidth": 0,
             "tickcolor": "rgb(237,237,237)",
             "ticklen": 6,
             "ticks": "inside"
            },
            "colorscale": [
             [
              0,
              "rgb(20,44,66)"
             ],
             [
              1,
              "rgb(90,179,244)"
             ]
            ]
           }
          ],
          "heatmapgl": [
           {
            "type": "heatmapgl",
            "colorbar": {
             "outlinewidth": 0,
             "tickcolor": "rgb(237,237,237)",
             "ticklen": 6,
             "ticks": "inside"
            },
            "colorscale": [
             [
              0,
              "rgb(20,44,66)"
             ],
             [
              1,
              "rgb(90,179,244)"
             ]
            ]
           }
          ],
          "contourcarpet": [
           {
            "type": "contourcarpet",
            "colorbar": {
             "outlinewidth": 0,
             "tickcolor": "rgb(237,237,237)",
             "ticklen": 6,
             "ticks": "inside"
            }
           }
          ],
          "contour": [
           {
            "type": "contour",
            "colorbar": {
             "outlinewidth": 0,
             "tickcolor": "rgb(237,237,237)",
             "ticklen": 6,
             "ticks": "inside"
            },
            "colorscale": [
             [
              0,
              "rgb(20,44,66)"
             ],
             [
              1,
              "rgb(90,179,244)"
             ]
            ]
           }
          ],
          "surface": [
           {
            "type": "surface",
            "colorbar": {
             "outlinewidth": 0,
             "tickcolor": "rgb(237,237,237)",
             "ticklen": 6,
             "ticks": "inside"
            },
            "colorscale": [
             [
              0,
              "rgb(20,44,66)"
             ],
             [
              1,
              "rgb(90,179,244)"
             ]
            ]
           }
          ],
          "mesh3d": [
           {
            "type": "mesh3d",
            "colorbar": {
             "outlinewidth": 0,
             "tickcolor": "rgb(237,237,237)",
             "ticklen": 6,
             "ticks": "inside"
            }
           }
          ],
          "scatter": [
           {
            "fillpattern": {
             "fillmode": "overlay",
             "size": 10,
             "solidity": 0.2
            },
            "type": "scatter"
           }
          ],
          "parcoords": [
           {
            "type": "parcoords",
            "line": {
             "colorbar": {
              "outlinewidth": 0,
              "tickcolor": "rgb(237,237,237)",
              "ticklen": 6,
              "ticks": "inside"
             }
            }
           }
          ],
          "scatterpolargl": [
           {
            "type": "scatterpolargl",
            "marker": {
             "colorbar": {
              "outlinewidth": 0,
              "tickcolor": "rgb(237,237,237)",
              "ticklen": 6,
              "ticks": "inside"
             }
            }
           }
          ],
          "bar": [
           {
            "error_x": {
             "color": "rgb(51,51,51)"
            },
            "error_y": {
             "color": "rgb(51,51,51)"
            },
            "marker": {
             "line": {
              "color": "rgb(237,237,237)",
              "width": 0.5
             },
             "pattern": {
              "fillmode": "overlay",
              "size": 10,
              "solidity": 0.2
             }
            },
            "type": "bar"
           }
          ],
          "scattergeo": [
           {
            "type": "scattergeo",
            "marker": {
             "colorbar": {
              "outlinewidth": 0,
              "tickcolor": "rgb(237,237,237)",
              "ticklen": 6,
              "ticks": "inside"
             }
            }
           }
          ],
          "scatterpolar": [
           {
            "type": "scatterpolar",
            "marker": {
             "colorbar": {
              "outlinewidth": 0,
              "tickcolor": "rgb(237,237,237)",
              "ticklen": 6,
              "ticks": "inside"
             }
            }
           }
          ],
          "histogram": [
           {
            "marker": {
             "pattern": {
              "fillmode": "overlay",
              "size": 10,
              "solidity": 0.2
             }
            },
            "type": "histogram"
           }
          ],
          "scattergl": [
           {
            "type": "scattergl",
            "marker": {
             "colorbar": {
              "outlinewidth": 0,
              "tickcolor": "rgb(237,237,237)",
              "ticklen": 6,
              "ticks": "inside"
             }
            }
           }
          ],
          "scatter3d": [
           {
            "type": "scatter3d",
            "line": {
             "colorbar": {
              "outlinewidth": 0,
              "tickcolor": "rgb(237,237,237)",
              "ticklen": 6,
              "ticks": "inside"
             }
            },
            "marker": {
             "colorbar": {
              "outlinewidth": 0,
              "tickcolor": "rgb(237,237,237)",
              "ticklen": 6,
              "ticks": "inside"
             }
            }
           }
          ],
          "scattermapbox": [
           {
            "type": "scattermapbox",
            "marker": {
             "colorbar": {
              "outlinewidth": 0,
              "tickcolor": "rgb(237,237,237)",
              "ticklen": 6,
              "ticks": "inside"
             }
            }
           }
          ],
          "scatterternary": [
           {
            "type": "scatterternary",
            "marker": {
             "colorbar": {
              "outlinewidth": 0,
              "tickcolor": "rgb(237,237,237)",
              "ticklen": 6,
              "ticks": "inside"
             }
            }
           }
          ],
          "scattercarpet": [
           {
            "type": "scattercarpet",
            "marker": {
             "colorbar": {
              "outlinewidth": 0,
              "tickcolor": "rgb(237,237,237)",
              "ticklen": 6,
              "ticks": "inside"
             }
            }
           }
          ],
          "carpet": [
           {
            "aaxis": {
             "endlinecolor": "rgb(51,51,51)",
             "gridcolor": "white",
             "linecolor": "white",
             "minorgridcolor": "white",
             "startlinecolor": "rgb(51,51,51)"
            },
            "baxis": {
             "endlinecolor": "rgb(51,51,51)",
             "gridcolor": "white",
             "linecolor": "white",
             "minorgridcolor": "white",
             "startlinecolor": "rgb(51,51,51)"
            },
            "type": "carpet"
           }
          ],
          "table": [
           {
            "cells": {
             "fill": {
              "color": "rgb(237,237,237)"
             },
             "line": {
              "color": "white"
             }
            },
            "header": {
             "fill": {
              "color": "rgb(217,217,217)"
             },
             "line": {
              "color": "white"
             }
            },
            "type": "table"
           }
          ],
          "barpolar": [
           {
            "marker": {
             "line": {
              "color": "rgb(237,237,237)",
              "width": 0.5
             },
             "pattern": {
              "fillmode": "overlay",
              "size": 10,
              "solidity": 0.2
             }
            },
            "type": "barpolar"
           }
          ],
          "pie": [
           {
            "automargin": true,
            "type": "pie"
           }
          ]
         },
         "layout": {
          "autotypenumbers": "strict",
          "colorway": [
           "#F8766D",
           "#A3A500",
           "#00BF7D",
           "#00B0F6",
           "#E76BF3"
          ],
          "font": {
           "color": "rgb(51,51,51)"
          },
          "hovermode": "closest",
          "hoverlabel": {
           "align": "left"
          },
          "paper_bgcolor": "white",
          "plot_bgcolor": "rgb(237,237,237)",
          "polar": {
           "bgcolor": "rgb(237,237,237)",
           "angularaxis": {
            "gridcolor": "white",
            "linecolor": "white",
            "showgrid": true,
            "tickcolor": "rgb(51,51,51)",
            "ticks": "outside"
           },
           "radialaxis": {
            "gridcolor": "white",
            "linecolor": "white",
            "showgrid": true,
            "tickcolor": "rgb(51,51,51)",
            "ticks": "outside"
           }
          },
          "ternary": {
           "bgcolor": "rgb(237,237,237)",
           "aaxis": {
            "gridcolor": "white",
            "linecolor": "white",
            "showgrid": true,
            "tickcolor": "rgb(51,51,51)",
            "ticks": "outside"
           },
           "baxis": {
            "gridcolor": "white",
            "linecolor": "white",
            "showgrid": true,
            "tickcolor": "rgb(51,51,51)",
            "ticks": "outside"
           },
           "caxis": {
            "gridcolor": "white",
            "linecolor": "white",
            "showgrid": true,
            "tickcolor": "rgb(51,51,51)",
            "ticks": "outside"
           }
          },
          "coloraxis": {
           "colorbar": {
            "outlinewidth": 0,
            "tickcolor": "rgb(237,237,237)",
            "ticklen": 6,
            "ticks": "inside"
           }
          },
          "colorscale": {
           "sequential": [
            [
             0,
             "rgb(20,44,66)"
            ],
            [
             1,
             "rgb(90,179,244)"
            ]
           ],
           "sequentialminus": [
            [
             0,
             "rgb(20,44,66)"
            ],
            [
             1,
             "rgb(90,179,244)"
            ]
           ]
          },
          "xaxis": {
           "gridcolor": "white",
           "linecolor": "white",
           "showgrid": true,
           "tickcolor": "rgb(51,51,51)",
           "ticks": "outside",
           "title": {
            "standoff": 15
           },
           "zerolinecolor": "white",
           "automargin": true
          },
          "yaxis": {
           "gridcolor": "white",
           "linecolor": "white",
           "showgrid": true,
           "tickcolor": "rgb(51,51,51)",
           "ticks": "outside",
           "title": {
            "standoff": 15
           },
           "zerolinecolor": "white",
           "automargin": true
          },
          "scene": {
           "xaxis": {
            "backgroundcolor": "rgb(237,237,237)",
            "gridcolor": "white",
            "linecolor": "white",
            "showbackground": true,
            "showgrid": true,
            "tickcolor": "rgb(51,51,51)",
            "ticks": "outside",
            "zerolinecolor": "white",
            "gridwidth": 2
           },
           "yaxis": {
            "backgroundcolor": "rgb(237,237,237)",
            "gridcolor": "white",
            "linecolor": "white",
            "showbackground": true,
            "showgrid": true,
            "tickcolor": "rgb(51,51,51)",
            "ticks": "outside",
            "zerolinecolor": "white",
            "gridwidth": 2
           },
           "zaxis": {
            "backgroundcolor": "rgb(237,237,237)",
            "gridcolor": "white",
            "linecolor": "white",
            "showbackground": true,
            "showgrid": true,
            "tickcolor": "rgb(51,51,51)",
            "ticks": "outside",
            "zerolinecolor": "white",
            "gridwidth": 2
           }
          },
          "shapedefaults": {
           "fillcolor": "black",
           "line": {
            "width": 0
           },
           "opacity": 0.3
          },
          "annotationdefaults": {
           "arrowhead": 0,
           "arrowwidth": 1
          },
          "geo": {
           "bgcolor": "white",
           "landcolor": "rgb(237,237,237)",
           "subunitcolor": "white",
           "showland": true,
           "showlakes": true,
           "lakecolor": "white"
          }
         }
        },
        "xaxis": {
         "anchor": "y",
         "domain": [
          0.0,
          1.0
         ],
         "title": {
          "text": "x"
         }
        },
        "yaxis": {
         "anchor": "x",
         "domain": [
          0.0,
          1.0
         ],
         "title": {
          "text": "y"
         }
        },
        "legend": {
         "tracegroupgap": 0
        },
        "margin": {
         "t": 60
        }
       },
       "config": {
        "plotlyServerURL": "https://plot.ly"
       }
      },
      "text/html": "<div>                            <div id=\"c9b77443-96da-4fdc-b8ee-203a6fbb2c1b\" class=\"plotly-graph-div\" style=\"height:525px; width:100%;\"></div>            <script type=\"text/javascript\">                require([\"plotly\"], function(Plotly) {                    window.PLOTLYENV=window.PLOTLYENV || {};                                    if (document.getElementById(\"c9b77443-96da-4fdc-b8ee-203a6fbb2c1b\")) {                    Plotly.newPlot(                        \"c9b77443-96da-4fdc-b8ee-203a6fbb2c1b\",                        [{\"hovertemplate\":\"x=%{x}<br>y=%{y}<extra></extra>\",\"legendgroup\":\"\",\"marker\":{\"color\":\"black\",\"symbol\":\"x-thin\",\"line\":{\"width\":2},\"size\":12},\"mode\":\"markers\",\"name\":\"\",\"orientation\":\"v\",\"showlegend\":false,\"x\":[0.5094127529479524,-0.32220754442048877,-0.15319889536373915],\"xaxis\":\"x\",\"y\":[-0.003012644896976089,-1.2217020200928752,1.0922316567504893],\"yaxis\":\"y\",\"type\":\"scatter\"},{\"marker\":{\"color\":[1,0,2,0,1,0,2,0,0,2,2,1,1,2,2,1,1,2,1,1,2,1,1,2,2,2,0,1,1,1,1,0,0,1,2,2,2,2,0,0,1,2,0,2,2,0,1,1,1,0,0,0,2,1,1,1,2,2,0,2,1,0,1,0,1,1,2,1,0,0,0,1,1,2,0,1,0,1,0,0,2,0,2,1,2,2,2,2,2,0,0,0,2,2,2,2,2,0,1,2,0,0]},\"mode\":\"markers\",\"x\":[-0.3768992457101762,0.14692934014527825,-0.19599398242816096,0.18853008492540926,-0.2918603555899062,0.019569950461504244,-0.13946490648310458,0.0739900782180868,0.09635139624566572,-0.24410667212433768,-0.20128222917933816,-0.3010609812979592,-0.28027168657065976,-0.24095394281712237,-0.11071789689596623,-0.3927197760749194,-0.2975854675521733,-0.1679345014112308,-0.3795158047033496,-0.28371000148778736,-0.19556640269096917,-0.3225618870025033,-0.348641071470705,-0.13733768840812433,-0.16538004138489026,-0.19537022126796935,-0.010421760305886998,-0.2729490367725025,-0.3859276537652348,-0.4044428608604384,-0.36512598227272103,0.11040306363012557,0.0759181265881709,-0.23532630957660416,-0.0513643772186448,-0.20525368858994586,-0.15808362079579746,-0.13997174947759097,0.15412203061628438,0.09597605209731319,-0.41437706838837224,-0.19667875546300748,0.08704756637252155,-0.2566157936620953,-0.17101519131121823,0.014503442957496115,-0.4306010623564257,-0.30489287501095536,-0.31620091189920574,0.03242148144678056,-0.09544605702799125,0.08985907745141779,-0.10548959313992602,-0.29877204944598273,-0.2590844434472065,-0.3328944280620916,-0.23435292269429858,-0.1457692322400873,0.19383184345837137,-0.2846235642958213,-0.29642898303023624,0.03993578074362881,-0.33444227388144016,-0.04595993892923872,-0.3358025727912211,-0.3020045840353795,0.09375011277608308,-0.3799151671463162,0.05209901027887345,0.10768017483057393,0.06530373176229808,-0.29943494414196603,-0.4012203393900332,-0.13859270000006965,0.09653309794909726,-0.249108067928282,0.14534196469426788,-0.3130094801009716,0.22265571172376594,-0.019972914911773713,-0.1373207156935891,0.03420335236814292,-0.10478228311809841,-0.18540213877322104,-0.16380371113537834,-0.14810587422264324,-0.05938157145510081,0.024590196414521755,-0.2672289452687213,0.061816726934489266,0.09564328203381309,0.1701770758049167,-0.22695393982183315,0.13092798856485985,-0.20532907988543825,-0.2106390031746231,-0.09006617224281059,0.07811192249154766,-0.24065945533918,-0.22209645621586133,7.069164502025662,6.854888897253865],\"y\":[-1.748229268983381,-0.3051541390886014,1.316630354658825,-0.3575350545104472,-1.1123700956003295,-0.10156756341308869,1.449273120970732,0.18131446055955808,0.3686542901118123,1.2655130264601058,1.1844004278023688,-0.8837270689130831,-1.193183831691925,0.78396807704285,1.2029176563038053,-1.1363606104016988,-1.0307602091164596,1.4578470314331229,-1.237070667585856,-1.3064743327215298,1.0077459310973116,-1.179653404697274,-1.0218101762086578,1.6215894971653204,1.6297404429341833,1.4742638481419563,-0.05694769335865561,-1.5467494021447235,-1.0430442240614044,-1.6886786991177778,-1.2130138352157358,0.15188779808942368,0.16429233672853402,-1.5355753994764223,1.3855195647062017,1.061060970937264,0.713955538109764,1.0324518721145721,0.17262607174490988,-0.5369667233975617,-1.5714614732288232,1.0935441814863978,-0.2861036905576295,1.210727292613881,1.0581782821595496,0.21699746979295814,-1.2276019292799654,-1.1661235587381662,-0.8388808357089486,-0.08179585427427402,0.32370047983164035,5.028156956837474e-05,1.565897057381046,-1.0446561287435425,-0.7030907365737684,-1.0654331673439081,1.2466879231029104,0.5642962400691632,-0.08685458090168062,0.9781659502599074,-1.5030014718750488,-0.02846277280064767,-1.515066787523304,0.06379246017167838,-0.4508536528835885,-1.6657892726206127,0.8265164759367819,-1.5340828769612334,0.2291517039276648,0.049108724716667655,-0.1738586887156146,-1.178030930284764,-1.083031726954673,0.6103215231858047,-0.08232234182269174,-1.1577102414834262,-0.20667134636784099,-1.6343066739997971,0.12539587061269633,0.09291876708062873,0.9527907215745781,-0.026747048318339326,0.7764206501405105,-1.1390072753128615,0.8263955250593035,0.5500849377798981,1.0812544444695598,0.5467293298691388,0.9298992672527722,-0.3764254704716909,-0.01968452252930889,0.3022656899623526,0.7177678424184591,0.7429497306124534,1.7178558100071242,1.3378037629730906,1.4357127621130987,0.19569376424745646,-0.9613366976121936,1.0556942294243006,0.4238263603922539,-0.43098367571496565],\"type\":\"scatter\"}],                        {\"template\":{\"data\":{\"histogram2dcontour\":[{\"type\":\"histogram2dcontour\",\"colorbar\":{\"outlinewidth\":0,\"tickcolor\":\"rgb(237,237,237)\",\"ticklen\":6,\"ticks\":\"inside\"},\"colorscale\":[[0,\"rgb(20,44,66)\"],[1,\"rgb(90,179,244)\"]]}],\"choropleth\":[{\"type\":\"choropleth\",\"colorbar\":{\"outlinewidth\":0,\"tickcolor\":\"rgb(237,237,237)\",\"ticklen\":6,\"ticks\":\"inside\"}}],\"histogram2d\":[{\"type\":\"histogram2d\",\"colorbar\":{\"outlinewidth\":0,\"tickcolor\":\"rgb(237,237,237)\",\"ticklen\":6,\"ticks\":\"inside\"},\"colorscale\":[[0,\"rgb(20,44,66)\"],[1,\"rgb(90,179,244)\"]]}],\"heatmap\":[{\"type\":\"heatmap\",\"colorbar\":{\"outlinewidth\":0,\"tickcolor\":\"rgb(237,237,237)\",\"ticklen\":6,\"ticks\":\"inside\"},\"colorscale\":[[0,\"rgb(20,44,66)\"],[1,\"rgb(90,179,244)\"]]}],\"heatmapgl\":[{\"type\":\"heatmapgl\",\"colorbar\":{\"outlinewidth\":0,\"tickcolor\":\"rgb(237,237,237)\",\"ticklen\":6,\"ticks\":\"inside\"},\"colorscale\":[[0,\"rgb(20,44,66)\"],[1,\"rgb(90,179,244)\"]]}],\"contourcarpet\":[{\"type\":\"contourcarpet\",\"colorbar\":{\"outlinewidth\":0,\"tickcolor\":\"rgb(237,237,237)\",\"ticklen\":6,\"ticks\":\"inside\"}}],\"contour\":[{\"type\":\"contour\",\"colorbar\":{\"outlinewidth\":0,\"tickcolor\":\"rgb(237,237,237)\",\"ticklen\":6,\"ticks\":\"inside\"},\"colorscale\":[[0,\"rgb(20,44,66)\"],[1,\"rgb(90,179,244)\"]]}],\"surface\":[{\"type\":\"surface\",\"colorbar\":{\"outlinewidth\":0,\"tickcolor\":\"rgb(237,237,237)\",\"ticklen\":6,\"ticks\":\"inside\"},\"colorscale\":[[0,\"rgb(20,44,66)\"],[1,\"rgb(90,179,244)\"]]}],\"mesh3d\":[{\"type\":\"mesh3d\",\"colorbar\":{\"outlinewidth\":0,\"tickcolor\":\"rgb(237,237,237)\",\"ticklen\":6,\"ticks\":\"inside\"}}],\"scatter\":[{\"fillpattern\":{\"fillmode\":\"overlay\",\"size\":10,\"solidity\":0.2},\"type\":\"scatter\"}],\"parcoords\":[{\"type\":\"parcoords\",\"line\":{\"colorbar\":{\"outlinewidth\":0,\"tickcolor\":\"rgb(237,237,237)\",\"ticklen\":6,\"ticks\":\"inside\"}}}],\"scatterpolargl\":[{\"type\":\"scatterpolargl\",\"marker\":{\"colorbar\":{\"outlinewidth\":0,\"tickcolor\":\"rgb(237,237,237)\",\"ticklen\":6,\"ticks\":\"inside\"}}}],\"bar\":[{\"error_x\":{\"color\":\"rgb(51,51,51)\"},\"error_y\":{\"color\":\"rgb(51,51,51)\"},\"marker\":{\"line\":{\"color\":\"rgb(237,237,237)\",\"width\":0.5},\"pattern\":{\"fillmode\":\"overlay\",\"size\":10,\"solidity\":0.2}},\"type\":\"bar\"}],\"scattergeo\":[{\"type\":\"scattergeo\",\"marker\":{\"colorbar\":{\"outlinewidth\":0,\"tickcolor\":\"rgb(237,237,237)\",\"ticklen\":6,\"ticks\":\"inside\"}}}],\"scatterpolar\":[{\"type\":\"scatterpolar\",\"marker\":{\"colorbar\":{\"outlinewidth\":0,\"tickcolor\":\"rgb(237,237,237)\",\"ticklen\":6,\"ticks\":\"inside\"}}}],\"histogram\":[{\"marker\":{\"pattern\":{\"fillmode\":\"overlay\",\"size\":10,\"solidity\":0.2}},\"type\":\"histogram\"}],\"scattergl\":[{\"type\":\"scattergl\",\"marker\":{\"colorbar\":{\"outlinewidth\":0,\"tickcolor\":\"rgb(237,237,237)\",\"ticklen\":6,\"ticks\":\"inside\"}}}],\"scatter3d\":[{\"type\":\"scatter3d\",\"line\":{\"colorbar\":{\"outlinewidth\":0,\"tickcolor\":\"rgb(237,237,237)\",\"ticklen\":6,\"ticks\":\"inside\"}},\"marker\":{\"colorbar\":{\"outlinewidth\":0,\"tickcolor\":\"rgb(237,237,237)\",\"ticklen\":6,\"ticks\":\"inside\"}}}],\"scattermapbox\":[{\"type\":\"scattermapbox\",\"marker\":{\"colorbar\":{\"outlinewidth\":0,\"tickcolor\":\"rgb(237,237,237)\",\"ticklen\":6,\"ticks\":\"inside\"}}}],\"scatterternary\":[{\"type\":\"scatterternary\",\"marker\":{\"colorbar\":{\"outlinewidth\":0,\"tickcolor\":\"rgb(237,237,237)\",\"ticklen\":6,\"ticks\":\"inside\"}}}],\"scattercarpet\":[{\"type\":\"scattercarpet\",\"marker\":{\"colorbar\":{\"outlinewidth\":0,\"tickcolor\":\"rgb(237,237,237)\",\"ticklen\":6,\"ticks\":\"inside\"}}}],\"carpet\":[{\"aaxis\":{\"endlinecolor\":\"rgb(51,51,51)\",\"gridcolor\":\"white\",\"linecolor\":\"white\",\"minorgridcolor\":\"white\",\"startlinecolor\":\"rgb(51,51,51)\"},\"baxis\":{\"endlinecolor\":\"rgb(51,51,51)\",\"gridcolor\":\"white\",\"linecolor\":\"white\",\"minorgridcolor\":\"white\",\"startlinecolor\":\"rgb(51,51,51)\"},\"type\":\"carpet\"}],\"table\":[{\"cells\":{\"fill\":{\"color\":\"rgb(237,237,237)\"},\"line\":{\"color\":\"white\"}},\"header\":{\"fill\":{\"color\":\"rgb(217,217,217)\"},\"line\":{\"color\":\"white\"}},\"type\":\"table\"}],\"barpolar\":[{\"marker\":{\"line\":{\"color\":\"rgb(237,237,237)\",\"width\":0.5},\"pattern\":{\"fillmode\":\"overlay\",\"size\":10,\"solidity\":0.2}},\"type\":\"barpolar\"}],\"pie\":[{\"automargin\":true,\"type\":\"pie\"}]},\"layout\":{\"autotypenumbers\":\"strict\",\"colorway\":[\"#F8766D\",\"#A3A500\",\"#00BF7D\",\"#00B0F6\",\"#E76BF3\"],\"font\":{\"color\":\"rgb(51,51,51)\"},\"hovermode\":\"closest\",\"hoverlabel\":{\"align\":\"left\"},\"paper_bgcolor\":\"white\",\"plot_bgcolor\":\"rgb(237,237,237)\",\"polar\":{\"bgcolor\":\"rgb(237,237,237)\",\"angularaxis\":{\"gridcolor\":\"white\",\"linecolor\":\"white\",\"showgrid\":true,\"tickcolor\":\"rgb(51,51,51)\",\"ticks\":\"outside\"},\"radialaxis\":{\"gridcolor\":\"white\",\"linecolor\":\"white\",\"showgrid\":true,\"tickcolor\":\"rgb(51,51,51)\",\"ticks\":\"outside\"}},\"ternary\":{\"bgcolor\":\"rgb(237,237,237)\",\"aaxis\":{\"gridcolor\":\"white\",\"linecolor\":\"white\",\"showgrid\":true,\"tickcolor\":\"rgb(51,51,51)\",\"ticks\":\"outside\"},\"baxis\":{\"gridcolor\":\"white\",\"linecolor\":\"white\",\"showgrid\":true,\"tickcolor\":\"rgb(51,51,51)\",\"ticks\":\"outside\"},\"caxis\":{\"gridcolor\":\"white\",\"linecolor\":\"white\",\"showgrid\":true,\"tickcolor\":\"rgb(51,51,51)\",\"ticks\":\"outside\"}},\"coloraxis\":{\"colorbar\":{\"outlinewidth\":0,\"tickcolor\":\"rgb(237,237,237)\",\"ticklen\":6,\"ticks\":\"inside\"}},\"colorscale\":{\"sequential\":[[0,\"rgb(20,44,66)\"],[1,\"rgb(90,179,244)\"]],\"sequentialminus\":[[0,\"rgb(20,44,66)\"],[1,\"rgb(90,179,244)\"]]},\"xaxis\":{\"gridcolor\":\"white\",\"linecolor\":\"white\",\"showgrid\":true,\"tickcolor\":\"rgb(51,51,51)\",\"ticks\":\"outside\",\"title\":{\"standoff\":15},\"zerolinecolor\":\"white\",\"automargin\":true},\"yaxis\":{\"gridcolor\":\"white\",\"linecolor\":\"white\",\"showgrid\":true,\"tickcolor\":\"rgb(51,51,51)\",\"ticks\":\"outside\",\"title\":{\"standoff\":15},\"zerolinecolor\":\"white\",\"automargin\":true},\"scene\":{\"xaxis\":{\"backgroundcolor\":\"rgb(237,237,237)\",\"gridcolor\":\"white\",\"linecolor\":\"white\",\"showbackground\":true,\"showgrid\":true,\"tickcolor\":\"rgb(51,51,51)\",\"ticks\":\"outside\",\"zerolinecolor\":\"white\",\"gridwidth\":2},\"yaxis\":{\"backgroundcolor\":\"rgb(237,237,237)\",\"gridcolor\":\"white\",\"linecolor\":\"white\",\"showbackground\":true,\"showgrid\":true,\"tickcolor\":\"rgb(51,51,51)\",\"ticks\":\"outside\",\"zerolinecolor\":\"white\",\"gridwidth\":2},\"zaxis\":{\"backgroundcolor\":\"rgb(237,237,237)\",\"gridcolor\":\"white\",\"linecolor\":\"white\",\"showbackground\":true,\"showgrid\":true,\"tickcolor\":\"rgb(51,51,51)\",\"ticks\":\"outside\",\"zerolinecolor\":\"white\",\"gridwidth\":2}},\"shapedefaults\":{\"fillcolor\":\"black\",\"line\":{\"width\":0},\"opacity\":0.3},\"annotationdefaults\":{\"arrowhead\":0,\"arrowwidth\":1},\"geo\":{\"bgcolor\":\"white\",\"landcolor\":\"rgb(237,237,237)\",\"subunitcolor\":\"white\",\"showland\":true,\"showlakes\":true,\"lakecolor\":\"white\"}}},\"xaxis\":{\"anchor\":\"y\",\"domain\":[0.0,1.0],\"title\":{\"text\":\"x\"}},\"yaxis\":{\"anchor\":\"x\",\"domain\":[0.0,1.0],\"title\":{\"text\":\"y\"}},\"legend\":{\"tracegroupgap\":0},\"margin\":{\"t\":60}},                        {\"responsive\": true}                    ).then(function(){\n                            \nvar gd = document.getElementById('c9b77443-96da-4fdc-b8ee-203a6fbb2c1b');\nvar x = new MutationObserver(function (mutations, observer) {{\n        var display = window.getComputedStyle(gd).display;\n        if (!display || display === 'none') {{\n            console.log([gd, 'removed!']);\n            Plotly.purge(gd);\n            observer.disconnect();\n        }}\n}});\n\n// Listen for the removal of the full notebook cells\nvar notebookContainer = gd.closest('#notebook-container');\nif (notebookContainer) {{\n    x.observe(notebookContainer, {childList: true});\n}}\n\n// Listen for the clearing of the current output cell\nvar outputEl = gd.closest('.output');\nif (outputEl) {{\n    x.observe(outputEl, {childList: true});\n}}\n\n                        })                };                });            </script>        </div>"
     },
     "metadata": {},
     "output_type": "display_data"
    }
   ],
   "source": [
    "fig = px.scatter(x=kmeans.centroids[:, 0], y=kmeans.centroids[:, 1])\n",
    "fig.update_traces(mode='markers', marker_size=12, marker_color='black', marker_symbol='x-thin', marker_line_width=2)\n",
    "fig.add_scatter(x=x_train_scaled[:, 0], y=x_train_scaled[:, 1], marker_color=kmeans.labels, mode='markers')\n",
    "fig.show()"
   ],
   "metadata": {
    "collapsed": false
   }
  },
  {
   "cell_type": "code",
   "execution_count": 31,
   "outputs": [],
   "source": [
    "kmeans = RobustKMeans(n_clusters=n_clusters, max_iter=300)\n",
    "kmeans.fit(x_train_scaled, n=10000)"
   ],
   "metadata": {
    "collapsed": false
   }
  },
  {
   "cell_type": "code",
   "execution_count": 32,
   "outputs": [
    {
     "data": {
      "text/plain": "(98.0070654753607, 0.9509803921568627)"
     },
     "execution_count": 32,
     "metadata": {},
     "output_type": "execute_result"
    }
   ],
   "source": [
    "kmeans.inertia, kmeans.score(true_labels)"
   ],
   "metadata": {
    "collapsed": false
   }
  },
  {
   "cell_type": "code",
   "execution_count": 33,
   "outputs": [
    {
     "data": {
      "application/vnd.plotly.v1+json": {
       "data": [
        {
         "hovertemplate": "x=%{x}<br>y=%{y}<br>color=%{marker.color}<extra></extra>",
         "legendgroup": "",
         "marker": {
          "color": [
           0,
           1,
           2,
           1,
           0,
           1,
           2,
           1,
           1,
           2,
           2,
           0,
           0,
           2,
           2,
           0,
           0,
           2,
           0,
           0,
           2,
           0,
           0,
           2,
           2,
           2,
           1,
           0,
           0,
           0,
           0,
           1,
           1,
           0,
           2,
           2,
           2,
           2,
           1,
           1,
           0,
           2,
           1,
           2,
           2,
           1,
           0,
           0,
           0,
           1,
           1,
           1,
           2,
           0,
           0,
           0,
           2,
           2,
           1,
           2,
           0,
           1,
           0,
           1,
           0,
           0,
           2,
           0,
           1,
           1,
           1,
           0,
           0,
           2,
           1,
           0,
           1,
           0,
           1,
           1,
           2,
           1,
           2,
           0,
           2,
           2,
           2,
           2,
           2,
           1,
           1,
           1,
           2,
           2,
           2,
           2,
           2,
           1,
           0,
           2,
           1,
           1
          ],
          "coloraxis": "coloraxis",
          "symbol": "circle"
         },
         "mode": "markers",
         "name": "",
         "orientation": "v",
         "showlegend": false,
         "x": [
          -0.3768992457101762,
          0.14692934014527825,
          -0.19599398242816096,
          0.18853008492540926,
          -0.2918603555899062,
          0.019569950461504244,
          -0.13946490648310458,
          0.0739900782180868,
          0.09635139624566572,
          -0.24410667212433768,
          -0.20128222917933816,
          -0.3010609812979592,
          -0.28027168657065976,
          -0.24095394281712237,
          -0.11071789689596623,
          -0.3927197760749194,
          -0.2975854675521733,
          -0.1679345014112308,
          -0.3795158047033496,
          -0.28371000148778736,
          -0.19556640269096917,
          -0.3225618870025033,
          -0.348641071470705,
          -0.13733768840812433,
          -0.16538004138489026,
          -0.19537022126796935,
          -0.010421760305886998,
          -0.2729490367725025,
          -0.3859276537652348,
          -0.4044428608604384,
          -0.36512598227272103,
          0.11040306363012557,
          0.0759181265881709,
          -0.23532630957660416,
          -0.0513643772186448,
          -0.20525368858994586,
          -0.15808362079579746,
          -0.13997174947759097,
          0.15412203061628438,
          0.09597605209731319,
          -0.41437706838837224,
          -0.19667875546300748,
          0.08704756637252155,
          -0.2566157936620953,
          -0.17101519131121823,
          0.014503442957496115,
          -0.4306010623564257,
          -0.30489287501095536,
          -0.31620091189920574,
          0.03242148144678056,
          -0.09544605702799125,
          0.08985907745141779,
          -0.10548959313992602,
          -0.29877204944598273,
          -0.2590844434472065,
          -0.3328944280620916,
          -0.23435292269429858,
          -0.1457692322400873,
          0.19383184345837137,
          -0.2846235642958213,
          -0.29642898303023624,
          0.03993578074362881,
          -0.33444227388144016,
          -0.04595993892923872,
          -0.3358025727912211,
          -0.3020045840353795,
          0.09375011277608308,
          -0.3799151671463162,
          0.05209901027887345,
          0.10768017483057393,
          0.06530373176229808,
          -0.29943494414196603,
          -0.4012203393900332,
          -0.13859270000006965,
          0.09653309794909726,
          -0.249108067928282,
          0.14534196469426788,
          -0.3130094801009716,
          0.22265571172376594,
          -0.019972914911773713,
          -0.1373207156935891,
          0.03420335236814292,
          -0.10478228311809841,
          -0.18540213877322104,
          -0.16380371113537834,
          -0.14810587422264324,
          -0.05938157145510081,
          0.024590196414521755,
          -0.2672289452687213,
          0.061816726934489266,
          0.09564328203381309,
          0.1701770758049167,
          -0.22695393982183315,
          0.13092798856485985,
          -0.20532907988543825,
          -0.2106390031746231,
          -0.09006617224281059,
          0.07811192249154766,
          -0.24065945533918,
          -0.22209645621586133,
          7.069164502025662,
          6.854888897253865
         ],
         "xaxis": "x",
         "y": [
          -1.748229268983381,
          -0.3051541390886014,
          1.316630354658825,
          -0.3575350545104472,
          -1.1123700956003295,
          -0.10156756341308869,
          1.449273120970732,
          0.18131446055955808,
          0.3686542901118123,
          1.2655130264601058,
          1.1844004278023688,
          -0.8837270689130831,
          -1.193183831691925,
          0.78396807704285,
          1.2029176563038053,
          -1.1363606104016988,
          -1.0307602091164596,
          1.4578470314331229,
          -1.237070667585856,
          -1.3064743327215298,
          1.0077459310973116,
          -1.179653404697274,
          -1.0218101762086578,
          1.6215894971653204,
          1.6297404429341833,
          1.4742638481419563,
          -0.05694769335865561,
          -1.5467494021447235,
          -1.0430442240614044,
          -1.6886786991177778,
          -1.2130138352157358,
          0.15188779808942368,
          0.16429233672853402,
          -1.5355753994764223,
          1.3855195647062017,
          1.061060970937264,
          0.713955538109764,
          1.0324518721145721,
          0.17262607174490988,
          -0.5369667233975617,
          -1.5714614732288232,
          1.0935441814863978,
          -0.2861036905576295,
          1.210727292613881,
          1.0581782821595496,
          0.21699746979295814,
          -1.2276019292799654,
          -1.1661235587381662,
          -0.8388808357089486,
          -0.08179585427427402,
          0.32370047983164035,
          5.028156956837474E-5,
          1.565897057381046,
          -1.0446561287435425,
          -0.7030907365737684,
          -1.0654331673439081,
          1.2466879231029104,
          0.5642962400691632,
          -0.08685458090168062,
          0.9781659502599074,
          -1.5030014718750488,
          -0.02846277280064767,
          -1.515066787523304,
          0.06379246017167838,
          -0.4508536528835885,
          -1.6657892726206127,
          0.8265164759367819,
          -1.5340828769612334,
          0.2291517039276648,
          0.049108724716667655,
          -0.1738586887156146,
          -1.178030930284764,
          -1.083031726954673,
          0.6103215231858047,
          -0.08232234182269174,
          -1.1577102414834262,
          -0.20667134636784099,
          -1.6343066739997971,
          0.12539587061269633,
          0.09291876708062873,
          0.9527907215745781,
          -0.026747048318339326,
          0.7764206501405105,
          -1.1390072753128615,
          0.8263955250593035,
          0.5500849377798981,
          1.0812544444695598,
          0.5467293298691388,
          0.9298992672527722,
          -0.3764254704716909,
          -0.01968452252930889,
          0.3022656899623526,
          0.7177678424184591,
          0.7429497306124534,
          1.7178558100071242,
          1.3378037629730906,
          1.4357127621130987,
          0.19569376424745646,
          -0.9613366976121936,
          1.0556942294243006,
          0.4238263603922539,
          -0.43098367571496565
         ],
         "yaxis": "y",
         "type": "scatter"
        },
        {
         "marker": {
          "color": "black",
          "line": {
           "width": 2
          },
          "size": 12,
          "symbol": "x-thin"
         },
         "mode": "markers",
         "showlegend": false,
         "x": [
          -0.32221824406709504,
          0.509208448105522,
          -0.1531966069435662
         ],
         "y": [
          -1.2217723642229101,
          -0.0030388120086862203,
          1.0922946008446
         ],
         "type": "scatter"
        }
       ],
       "layout": {
        "template": {
         "data": {
          "histogram2dcontour": [
           {
            "type": "histogram2dcontour",
            "colorbar": {
             "outlinewidth": 0,
             "tickcolor": "rgb(237,237,237)",
             "ticklen": 6,
             "ticks": "inside"
            },
            "colorscale": [
             [
              0,
              "rgb(20,44,66)"
             ],
             [
              1,
              "rgb(90,179,244)"
             ]
            ]
           }
          ],
          "choropleth": [
           {
            "type": "choropleth",
            "colorbar": {
             "outlinewidth": 0,
             "tickcolor": "rgb(237,237,237)",
             "ticklen": 6,
             "ticks": "inside"
            }
           }
          ],
          "histogram2d": [
           {
            "type": "histogram2d",
            "colorbar": {
             "outlinewidth": 0,
             "tickcolor": "rgb(237,237,237)",
             "ticklen": 6,
             "ticks": "inside"
            },
            "colorscale": [
             [
              0,
              "rgb(20,44,66)"
             ],
             [
              1,
              "rgb(90,179,244)"
             ]
            ]
           }
          ],
          "heatmap": [
           {
            "type": "heatmap",
            "colorbar": {
             "outlinewidth": 0,
             "tickcolor": "rgb(237,237,237)",
             "ticklen": 6,
             "ticks": "inside"
            },
            "colorscale": [
             [
              0,
              "rgb(20,44,66)"
             ],
             [
              1,
              "rgb(90,179,244)"
             ]
            ]
           }
          ],
          "heatmapgl": [
           {
            "type": "heatmapgl",
            "colorbar": {
             "outlinewidth": 0,
             "tickcolor": "rgb(237,237,237)",
             "ticklen": 6,
             "ticks": "inside"
            },
            "colorscale": [
             [
              0,
              "rgb(20,44,66)"
             ],
             [
              1,
              "rgb(90,179,244)"
             ]
            ]
           }
          ],
          "contourcarpet": [
           {
            "type": "contourcarpet",
            "colorbar": {
             "outlinewidth": 0,
             "tickcolor": "rgb(237,237,237)",
             "ticklen": 6,
             "ticks": "inside"
            }
           }
          ],
          "contour": [
           {
            "type": "contour",
            "colorbar": {
             "outlinewidth": 0,
             "tickcolor": "rgb(237,237,237)",
             "ticklen": 6,
             "ticks": "inside"
            },
            "colorscale": [
             [
              0,
              "rgb(20,44,66)"
             ],
             [
              1,
              "rgb(90,179,244)"
             ]
            ]
           }
          ],
          "surface": [
           {
            "type": "surface",
            "colorbar": {
             "outlinewidth": 0,
             "tickcolor": "rgb(237,237,237)",
             "ticklen": 6,
             "ticks": "inside"
            },
            "colorscale": [
             [
              0,
              "rgb(20,44,66)"
             ],
             [
              1,
              "rgb(90,179,244)"
             ]
            ]
           }
          ],
          "mesh3d": [
           {
            "type": "mesh3d",
            "colorbar": {
             "outlinewidth": 0,
             "tickcolor": "rgb(237,237,237)",
             "ticklen": 6,
             "ticks": "inside"
            }
           }
          ],
          "scatter": [
           {
            "fillpattern": {
             "fillmode": "overlay",
             "size": 10,
             "solidity": 0.2
            },
            "type": "scatter"
           }
          ],
          "parcoords": [
           {
            "type": "parcoords",
            "line": {
             "colorbar": {
              "outlinewidth": 0,
              "tickcolor": "rgb(237,237,237)",
              "ticklen": 6,
              "ticks": "inside"
             }
            }
           }
          ],
          "scatterpolargl": [
           {
            "type": "scatterpolargl",
            "marker": {
             "colorbar": {
              "outlinewidth": 0,
              "tickcolor": "rgb(237,237,237)",
              "ticklen": 6,
              "ticks": "inside"
             }
            }
           }
          ],
          "bar": [
           {
            "error_x": {
             "color": "rgb(51,51,51)"
            },
            "error_y": {
             "color": "rgb(51,51,51)"
            },
            "marker": {
             "line": {
              "color": "rgb(237,237,237)",
              "width": 0.5
             },
             "pattern": {
              "fillmode": "overlay",
              "size": 10,
              "solidity": 0.2
             }
            },
            "type": "bar"
           }
          ],
          "scattergeo": [
           {
            "type": "scattergeo",
            "marker": {
             "colorbar": {
              "outlinewidth": 0,
              "tickcolor": "rgb(237,237,237)",
              "ticklen": 6,
              "ticks": "inside"
             }
            }
           }
          ],
          "scatterpolar": [
           {
            "type": "scatterpolar",
            "marker": {
             "colorbar": {
              "outlinewidth": 0,
              "tickcolor": "rgb(237,237,237)",
              "ticklen": 6,
              "ticks": "inside"
             }
            }
           }
          ],
          "histogram": [
           {
            "marker": {
             "pattern": {
              "fillmode": "overlay",
              "size": 10,
              "solidity": 0.2
             }
            },
            "type": "histogram"
           }
          ],
          "scattergl": [
           {
            "type": "scattergl",
            "marker": {
             "colorbar": {
              "outlinewidth": 0,
              "tickcolor": "rgb(237,237,237)",
              "ticklen": 6,
              "ticks": "inside"
             }
            }
           }
          ],
          "scatter3d": [
           {
            "type": "scatter3d",
            "line": {
             "colorbar": {
              "outlinewidth": 0,
              "tickcolor": "rgb(237,237,237)",
              "ticklen": 6,
              "ticks": "inside"
             }
            },
            "marker": {
             "colorbar": {
              "outlinewidth": 0,
              "tickcolor": "rgb(237,237,237)",
              "ticklen": 6,
              "ticks": "inside"
             }
            }
           }
          ],
          "scattermapbox": [
           {
            "type": "scattermapbox",
            "marker": {
             "colorbar": {
              "outlinewidth": 0,
              "tickcolor": "rgb(237,237,237)",
              "ticklen": 6,
              "ticks": "inside"
             }
            }
           }
          ],
          "scatterternary": [
           {
            "type": "scatterternary",
            "marker": {
             "colorbar": {
              "outlinewidth": 0,
              "tickcolor": "rgb(237,237,237)",
              "ticklen": 6,
              "ticks": "inside"
             }
            }
           }
          ],
          "scattercarpet": [
           {
            "type": "scattercarpet",
            "marker": {
             "colorbar": {
              "outlinewidth": 0,
              "tickcolor": "rgb(237,237,237)",
              "ticklen": 6,
              "ticks": "inside"
             }
            }
           }
          ],
          "carpet": [
           {
            "aaxis": {
             "endlinecolor": "rgb(51,51,51)",
             "gridcolor": "white",
             "linecolor": "white",
             "minorgridcolor": "white",
             "startlinecolor": "rgb(51,51,51)"
            },
            "baxis": {
             "endlinecolor": "rgb(51,51,51)",
             "gridcolor": "white",
             "linecolor": "white",
             "minorgridcolor": "white",
             "startlinecolor": "rgb(51,51,51)"
            },
            "type": "carpet"
           }
          ],
          "table": [
           {
            "cells": {
             "fill": {
              "color": "rgb(237,237,237)"
             },
             "line": {
              "color": "white"
             }
            },
            "header": {
             "fill": {
              "color": "rgb(217,217,217)"
             },
             "line": {
              "color": "white"
             }
            },
            "type": "table"
           }
          ],
          "barpolar": [
           {
            "marker": {
             "line": {
              "color": "rgb(237,237,237)",
              "width": 0.5
             },
             "pattern": {
              "fillmode": "overlay",
              "size": 10,
              "solidity": 0.2
             }
            },
            "type": "barpolar"
           }
          ],
          "pie": [
           {
            "automargin": true,
            "type": "pie"
           }
          ]
         },
         "layout": {
          "autotypenumbers": "strict",
          "colorway": [
           "#F8766D",
           "#A3A500",
           "#00BF7D",
           "#00B0F6",
           "#E76BF3"
          ],
          "font": {
           "color": "rgb(51,51,51)"
          },
          "hovermode": "closest",
          "hoverlabel": {
           "align": "left"
          },
          "paper_bgcolor": "white",
          "plot_bgcolor": "rgb(237,237,237)",
          "polar": {
           "bgcolor": "rgb(237,237,237)",
           "angularaxis": {
            "gridcolor": "white",
            "linecolor": "white",
            "showgrid": true,
            "tickcolor": "rgb(51,51,51)",
            "ticks": "outside"
           },
           "radialaxis": {
            "gridcolor": "white",
            "linecolor": "white",
            "showgrid": true,
            "tickcolor": "rgb(51,51,51)",
            "ticks": "outside"
           }
          },
          "ternary": {
           "bgcolor": "rgb(237,237,237)",
           "aaxis": {
            "gridcolor": "white",
            "linecolor": "white",
            "showgrid": true,
            "tickcolor": "rgb(51,51,51)",
            "ticks": "outside"
           },
           "baxis": {
            "gridcolor": "white",
            "linecolor": "white",
            "showgrid": true,
            "tickcolor": "rgb(51,51,51)",
            "ticks": "outside"
           },
           "caxis": {
            "gridcolor": "white",
            "linecolor": "white",
            "showgrid": true,
            "tickcolor": "rgb(51,51,51)",
            "ticks": "outside"
           }
          },
          "coloraxis": {
           "colorbar": {
            "outlinewidth": 0,
            "tickcolor": "rgb(237,237,237)",
            "ticklen": 6,
            "ticks": "inside"
           }
          },
          "colorscale": {
           "sequential": [
            [
             0,
             "rgb(20,44,66)"
            ],
            [
             1,
             "rgb(90,179,244)"
            ]
           ],
           "sequentialminus": [
            [
             0,
             "rgb(20,44,66)"
            ],
            [
             1,
             "rgb(90,179,244)"
            ]
           ]
          },
          "xaxis": {
           "gridcolor": "white",
           "linecolor": "white",
           "showgrid": true,
           "tickcolor": "rgb(51,51,51)",
           "ticks": "outside",
           "title": {
            "standoff": 15
           },
           "zerolinecolor": "white",
           "automargin": true
          },
          "yaxis": {
           "gridcolor": "white",
           "linecolor": "white",
           "showgrid": true,
           "tickcolor": "rgb(51,51,51)",
           "ticks": "outside",
           "title": {
            "standoff": 15
           },
           "zerolinecolor": "white",
           "automargin": true
          },
          "scene": {
           "xaxis": {
            "backgroundcolor": "rgb(237,237,237)",
            "gridcolor": "white",
            "linecolor": "white",
            "showbackground": true,
            "showgrid": true,
            "tickcolor": "rgb(51,51,51)",
            "ticks": "outside",
            "zerolinecolor": "white",
            "gridwidth": 2
           },
           "yaxis": {
            "backgroundcolor": "rgb(237,237,237)",
            "gridcolor": "white",
            "linecolor": "white",
            "showbackground": true,
            "showgrid": true,
            "tickcolor": "rgb(51,51,51)",
            "ticks": "outside",
            "zerolinecolor": "white",
            "gridwidth": 2
           },
           "zaxis": {
            "backgroundcolor": "rgb(237,237,237)",
            "gridcolor": "white",
            "linecolor": "white",
            "showbackground": true,
            "showgrid": true,
            "tickcolor": "rgb(51,51,51)",
            "ticks": "outside",
            "zerolinecolor": "white",
            "gridwidth": 2
           }
          },
          "shapedefaults": {
           "fillcolor": "black",
           "line": {
            "width": 0
           },
           "opacity": 0.3
          },
          "annotationdefaults": {
           "arrowhead": 0,
           "arrowwidth": 1
          },
          "geo": {
           "bgcolor": "white",
           "landcolor": "rgb(237,237,237)",
           "subunitcolor": "white",
           "showland": true,
           "showlakes": true,
           "lakecolor": "white"
          }
         }
        },
        "xaxis": {
         "anchor": "y",
         "domain": [
          0.0,
          1.0
         ],
         "title": {
          "text": "x"
         }
        },
        "yaxis": {
         "anchor": "x",
         "domain": [
          0.0,
          1.0
         ],
         "title": {
          "text": "y"
         }
        },
        "coloraxis": {
         "colorbar": {
          "title": {
           "text": "color"
          }
         },
         "colorscale": [
          [
           0.0,
           "rgb(20,44,66)"
          ],
          [
           1.0,
           "rgb(90,179,244)"
          ]
         ]
        },
        "legend": {
         "tracegroupgap": 0
        },
        "margin": {
         "t": 60
        }
       },
       "config": {
        "plotlyServerURL": "https://plot.ly"
       }
      },
      "text/html": "<div>                            <div id=\"a3bc54e1-07da-441f-8345-92f993545812\" class=\"plotly-graph-div\" style=\"height:525px; width:100%;\"></div>            <script type=\"text/javascript\">                require([\"plotly\"], function(Plotly) {                    window.PLOTLYENV=window.PLOTLYENV || {};                                    if (document.getElementById(\"a3bc54e1-07da-441f-8345-92f993545812\")) {                    Plotly.newPlot(                        \"a3bc54e1-07da-441f-8345-92f993545812\",                        [{\"hovertemplate\":\"x=%{x}<br>y=%{y}<br>color=%{marker.color}<extra></extra>\",\"legendgroup\":\"\",\"marker\":{\"color\":[0,1,2,1,0,1,2,1,1,2,2,0,0,2,2,0,0,2,0,0,2,0,0,2,2,2,1,0,0,0,0,1,1,0,2,2,2,2,1,1,0,2,1,2,2,1,0,0,0,1,1,1,2,0,0,0,2,2,1,2,0,1,0,1,0,0,2,0,1,1,1,0,0,2,1,0,1,0,1,1,2,1,2,0,2,2,2,2,2,1,1,1,2,2,2,2,2,1,0,2,1,1],\"coloraxis\":\"coloraxis\",\"symbol\":\"circle\"},\"mode\":\"markers\",\"name\":\"\",\"orientation\":\"v\",\"showlegend\":false,\"x\":[-0.3768992457101762,0.14692934014527825,-0.19599398242816096,0.18853008492540926,-0.2918603555899062,0.019569950461504244,-0.13946490648310458,0.0739900782180868,0.09635139624566572,-0.24410667212433768,-0.20128222917933816,-0.3010609812979592,-0.28027168657065976,-0.24095394281712237,-0.11071789689596623,-0.3927197760749194,-0.2975854675521733,-0.1679345014112308,-0.3795158047033496,-0.28371000148778736,-0.19556640269096917,-0.3225618870025033,-0.348641071470705,-0.13733768840812433,-0.16538004138489026,-0.19537022126796935,-0.010421760305886998,-0.2729490367725025,-0.3859276537652348,-0.4044428608604384,-0.36512598227272103,0.11040306363012557,0.0759181265881709,-0.23532630957660416,-0.0513643772186448,-0.20525368858994586,-0.15808362079579746,-0.13997174947759097,0.15412203061628438,0.09597605209731319,-0.41437706838837224,-0.19667875546300748,0.08704756637252155,-0.2566157936620953,-0.17101519131121823,0.014503442957496115,-0.4306010623564257,-0.30489287501095536,-0.31620091189920574,0.03242148144678056,-0.09544605702799125,0.08985907745141779,-0.10548959313992602,-0.29877204944598273,-0.2590844434472065,-0.3328944280620916,-0.23435292269429858,-0.1457692322400873,0.19383184345837137,-0.2846235642958213,-0.29642898303023624,0.03993578074362881,-0.33444227388144016,-0.04595993892923872,-0.3358025727912211,-0.3020045840353795,0.09375011277608308,-0.3799151671463162,0.05209901027887345,0.10768017483057393,0.06530373176229808,-0.29943494414196603,-0.4012203393900332,-0.13859270000006965,0.09653309794909726,-0.249108067928282,0.14534196469426788,-0.3130094801009716,0.22265571172376594,-0.019972914911773713,-0.1373207156935891,0.03420335236814292,-0.10478228311809841,-0.18540213877322104,-0.16380371113537834,-0.14810587422264324,-0.05938157145510081,0.024590196414521755,-0.2672289452687213,0.061816726934489266,0.09564328203381309,0.1701770758049167,-0.22695393982183315,0.13092798856485985,-0.20532907988543825,-0.2106390031746231,-0.09006617224281059,0.07811192249154766,-0.24065945533918,-0.22209645621586133,7.069164502025662,6.854888897253865],\"xaxis\":\"x\",\"y\":[-1.748229268983381,-0.3051541390886014,1.316630354658825,-0.3575350545104472,-1.1123700956003295,-0.10156756341308869,1.449273120970732,0.18131446055955808,0.3686542901118123,1.2655130264601058,1.1844004278023688,-0.8837270689130831,-1.193183831691925,0.78396807704285,1.2029176563038053,-1.1363606104016988,-1.0307602091164596,1.4578470314331229,-1.237070667585856,-1.3064743327215298,1.0077459310973116,-1.179653404697274,-1.0218101762086578,1.6215894971653204,1.6297404429341833,1.4742638481419563,-0.05694769335865561,-1.5467494021447235,-1.0430442240614044,-1.6886786991177778,-1.2130138352157358,0.15188779808942368,0.16429233672853402,-1.5355753994764223,1.3855195647062017,1.061060970937264,0.713955538109764,1.0324518721145721,0.17262607174490988,-0.5369667233975617,-1.5714614732288232,1.0935441814863978,-0.2861036905576295,1.210727292613881,1.0581782821595496,0.21699746979295814,-1.2276019292799654,-1.1661235587381662,-0.8388808357089486,-0.08179585427427402,0.32370047983164035,5.028156956837474e-05,1.565897057381046,-1.0446561287435425,-0.7030907365737684,-1.0654331673439081,1.2466879231029104,0.5642962400691632,-0.08685458090168062,0.9781659502599074,-1.5030014718750488,-0.02846277280064767,-1.515066787523304,0.06379246017167838,-0.4508536528835885,-1.6657892726206127,0.8265164759367819,-1.5340828769612334,0.2291517039276648,0.049108724716667655,-0.1738586887156146,-1.178030930284764,-1.083031726954673,0.6103215231858047,-0.08232234182269174,-1.1577102414834262,-0.20667134636784099,-1.6343066739997971,0.12539587061269633,0.09291876708062873,0.9527907215745781,-0.026747048318339326,0.7764206501405105,-1.1390072753128615,0.8263955250593035,0.5500849377798981,1.0812544444695598,0.5467293298691388,0.9298992672527722,-0.3764254704716909,-0.01968452252930889,0.3022656899623526,0.7177678424184591,0.7429497306124534,1.7178558100071242,1.3378037629730906,1.4357127621130987,0.19569376424745646,-0.9613366976121936,1.0556942294243006,0.4238263603922539,-0.43098367571496565],\"yaxis\":\"y\",\"type\":\"scatter\"},{\"marker\":{\"color\":\"black\",\"line\":{\"width\":2},\"size\":12,\"symbol\":\"x-thin\"},\"mode\":\"markers\",\"showlegend\":false,\"x\":[-0.32221824406709504,0.509208448105522,-0.1531966069435662],\"y\":[-1.2217723642229101,-0.0030388120086862203,1.0922946008446],\"type\":\"scatter\"}],                        {\"template\":{\"data\":{\"histogram2dcontour\":[{\"type\":\"histogram2dcontour\",\"colorbar\":{\"outlinewidth\":0,\"tickcolor\":\"rgb(237,237,237)\",\"ticklen\":6,\"ticks\":\"inside\"},\"colorscale\":[[0,\"rgb(20,44,66)\"],[1,\"rgb(90,179,244)\"]]}],\"choropleth\":[{\"type\":\"choropleth\",\"colorbar\":{\"outlinewidth\":0,\"tickcolor\":\"rgb(237,237,237)\",\"ticklen\":6,\"ticks\":\"inside\"}}],\"histogram2d\":[{\"type\":\"histogram2d\",\"colorbar\":{\"outlinewidth\":0,\"tickcolor\":\"rgb(237,237,237)\",\"ticklen\":6,\"ticks\":\"inside\"},\"colorscale\":[[0,\"rgb(20,44,66)\"],[1,\"rgb(90,179,244)\"]]}],\"heatmap\":[{\"type\":\"heatmap\",\"colorbar\":{\"outlinewidth\":0,\"tickcolor\":\"rgb(237,237,237)\",\"ticklen\":6,\"ticks\":\"inside\"},\"colorscale\":[[0,\"rgb(20,44,66)\"],[1,\"rgb(90,179,244)\"]]}],\"heatmapgl\":[{\"type\":\"heatmapgl\",\"colorbar\":{\"outlinewidth\":0,\"tickcolor\":\"rgb(237,237,237)\",\"ticklen\":6,\"ticks\":\"inside\"},\"colorscale\":[[0,\"rgb(20,44,66)\"],[1,\"rgb(90,179,244)\"]]}],\"contourcarpet\":[{\"type\":\"contourcarpet\",\"colorbar\":{\"outlinewidth\":0,\"tickcolor\":\"rgb(237,237,237)\",\"ticklen\":6,\"ticks\":\"inside\"}}],\"contour\":[{\"type\":\"contour\",\"colorbar\":{\"outlinewidth\":0,\"tickcolor\":\"rgb(237,237,237)\",\"ticklen\":6,\"ticks\":\"inside\"},\"colorscale\":[[0,\"rgb(20,44,66)\"],[1,\"rgb(90,179,244)\"]]}],\"surface\":[{\"type\":\"surface\",\"colorbar\":{\"outlinewidth\":0,\"tickcolor\":\"rgb(237,237,237)\",\"ticklen\":6,\"ticks\":\"inside\"},\"colorscale\":[[0,\"rgb(20,44,66)\"],[1,\"rgb(90,179,244)\"]]}],\"mesh3d\":[{\"type\":\"mesh3d\",\"colorbar\":{\"outlinewidth\":0,\"tickcolor\":\"rgb(237,237,237)\",\"ticklen\":6,\"ticks\":\"inside\"}}],\"scatter\":[{\"fillpattern\":{\"fillmode\":\"overlay\",\"size\":10,\"solidity\":0.2},\"type\":\"scatter\"}],\"parcoords\":[{\"type\":\"parcoords\",\"line\":{\"colorbar\":{\"outlinewidth\":0,\"tickcolor\":\"rgb(237,237,237)\",\"ticklen\":6,\"ticks\":\"inside\"}}}],\"scatterpolargl\":[{\"type\":\"scatterpolargl\",\"marker\":{\"colorbar\":{\"outlinewidth\":0,\"tickcolor\":\"rgb(237,237,237)\",\"ticklen\":6,\"ticks\":\"inside\"}}}],\"bar\":[{\"error_x\":{\"color\":\"rgb(51,51,51)\"},\"error_y\":{\"color\":\"rgb(51,51,51)\"},\"marker\":{\"line\":{\"color\":\"rgb(237,237,237)\",\"width\":0.5},\"pattern\":{\"fillmode\":\"overlay\",\"size\":10,\"solidity\":0.2}},\"type\":\"bar\"}],\"scattergeo\":[{\"type\":\"scattergeo\",\"marker\":{\"colorbar\":{\"outlinewidth\":0,\"tickcolor\":\"rgb(237,237,237)\",\"ticklen\":6,\"ticks\":\"inside\"}}}],\"scatterpolar\":[{\"type\":\"scatterpolar\",\"marker\":{\"colorbar\":{\"outlinewidth\":0,\"tickcolor\":\"rgb(237,237,237)\",\"ticklen\":6,\"ticks\":\"inside\"}}}],\"histogram\":[{\"marker\":{\"pattern\":{\"fillmode\":\"overlay\",\"size\":10,\"solidity\":0.2}},\"type\":\"histogram\"}],\"scattergl\":[{\"type\":\"scattergl\",\"marker\":{\"colorbar\":{\"outlinewidth\":0,\"tickcolor\":\"rgb(237,237,237)\",\"ticklen\":6,\"ticks\":\"inside\"}}}],\"scatter3d\":[{\"type\":\"scatter3d\",\"line\":{\"colorbar\":{\"outlinewidth\":0,\"tickcolor\":\"rgb(237,237,237)\",\"ticklen\":6,\"ticks\":\"inside\"}},\"marker\":{\"colorbar\":{\"outlinewidth\":0,\"tickcolor\":\"rgb(237,237,237)\",\"ticklen\":6,\"ticks\":\"inside\"}}}],\"scattermapbox\":[{\"type\":\"scattermapbox\",\"marker\":{\"colorbar\":{\"outlinewidth\":0,\"tickcolor\":\"rgb(237,237,237)\",\"ticklen\":6,\"ticks\":\"inside\"}}}],\"scatterternary\":[{\"type\":\"scatterternary\",\"marker\":{\"colorbar\":{\"outlinewidth\":0,\"tickcolor\":\"rgb(237,237,237)\",\"ticklen\":6,\"ticks\":\"inside\"}}}],\"scattercarpet\":[{\"type\":\"scattercarpet\",\"marker\":{\"colorbar\":{\"outlinewidth\":0,\"tickcolor\":\"rgb(237,237,237)\",\"ticklen\":6,\"ticks\":\"inside\"}}}],\"carpet\":[{\"aaxis\":{\"endlinecolor\":\"rgb(51,51,51)\",\"gridcolor\":\"white\",\"linecolor\":\"white\",\"minorgridcolor\":\"white\",\"startlinecolor\":\"rgb(51,51,51)\"},\"baxis\":{\"endlinecolor\":\"rgb(51,51,51)\",\"gridcolor\":\"white\",\"linecolor\":\"white\",\"minorgridcolor\":\"white\",\"startlinecolor\":\"rgb(51,51,51)\"},\"type\":\"carpet\"}],\"table\":[{\"cells\":{\"fill\":{\"color\":\"rgb(237,237,237)\"},\"line\":{\"color\":\"white\"}},\"header\":{\"fill\":{\"color\":\"rgb(217,217,217)\"},\"line\":{\"color\":\"white\"}},\"type\":\"table\"}],\"barpolar\":[{\"marker\":{\"line\":{\"color\":\"rgb(237,237,237)\",\"width\":0.5},\"pattern\":{\"fillmode\":\"overlay\",\"size\":10,\"solidity\":0.2}},\"type\":\"barpolar\"}],\"pie\":[{\"automargin\":true,\"type\":\"pie\"}]},\"layout\":{\"autotypenumbers\":\"strict\",\"colorway\":[\"#F8766D\",\"#A3A500\",\"#00BF7D\",\"#00B0F6\",\"#E76BF3\"],\"font\":{\"color\":\"rgb(51,51,51)\"},\"hovermode\":\"closest\",\"hoverlabel\":{\"align\":\"left\"},\"paper_bgcolor\":\"white\",\"plot_bgcolor\":\"rgb(237,237,237)\",\"polar\":{\"bgcolor\":\"rgb(237,237,237)\",\"angularaxis\":{\"gridcolor\":\"white\",\"linecolor\":\"white\",\"showgrid\":true,\"tickcolor\":\"rgb(51,51,51)\",\"ticks\":\"outside\"},\"radialaxis\":{\"gridcolor\":\"white\",\"linecolor\":\"white\",\"showgrid\":true,\"tickcolor\":\"rgb(51,51,51)\",\"ticks\":\"outside\"}},\"ternary\":{\"bgcolor\":\"rgb(237,237,237)\",\"aaxis\":{\"gridcolor\":\"white\",\"linecolor\":\"white\",\"showgrid\":true,\"tickcolor\":\"rgb(51,51,51)\",\"ticks\":\"outside\"},\"baxis\":{\"gridcolor\":\"white\",\"linecolor\":\"white\",\"showgrid\":true,\"tickcolor\":\"rgb(51,51,51)\",\"ticks\":\"outside\"},\"caxis\":{\"gridcolor\":\"white\",\"linecolor\":\"white\",\"showgrid\":true,\"tickcolor\":\"rgb(51,51,51)\",\"ticks\":\"outside\"}},\"coloraxis\":{\"colorbar\":{\"outlinewidth\":0,\"tickcolor\":\"rgb(237,237,237)\",\"ticklen\":6,\"ticks\":\"inside\"}},\"colorscale\":{\"sequential\":[[0,\"rgb(20,44,66)\"],[1,\"rgb(90,179,244)\"]],\"sequentialminus\":[[0,\"rgb(20,44,66)\"],[1,\"rgb(90,179,244)\"]]},\"xaxis\":{\"gridcolor\":\"white\",\"linecolor\":\"white\",\"showgrid\":true,\"tickcolor\":\"rgb(51,51,51)\",\"ticks\":\"outside\",\"title\":{\"standoff\":15},\"zerolinecolor\":\"white\",\"automargin\":true},\"yaxis\":{\"gridcolor\":\"white\",\"linecolor\":\"white\",\"showgrid\":true,\"tickcolor\":\"rgb(51,51,51)\",\"ticks\":\"outside\",\"title\":{\"standoff\":15},\"zerolinecolor\":\"white\",\"automargin\":true},\"scene\":{\"xaxis\":{\"backgroundcolor\":\"rgb(237,237,237)\",\"gridcolor\":\"white\",\"linecolor\":\"white\",\"showbackground\":true,\"showgrid\":true,\"tickcolor\":\"rgb(51,51,51)\",\"ticks\":\"outside\",\"zerolinecolor\":\"white\",\"gridwidth\":2},\"yaxis\":{\"backgroundcolor\":\"rgb(237,237,237)\",\"gridcolor\":\"white\",\"linecolor\":\"white\",\"showbackground\":true,\"showgrid\":true,\"tickcolor\":\"rgb(51,51,51)\",\"ticks\":\"outside\",\"zerolinecolor\":\"white\",\"gridwidth\":2},\"zaxis\":{\"backgroundcolor\":\"rgb(237,237,237)\",\"gridcolor\":\"white\",\"linecolor\":\"white\",\"showbackground\":true,\"showgrid\":true,\"tickcolor\":\"rgb(51,51,51)\",\"ticks\":\"outside\",\"zerolinecolor\":\"white\",\"gridwidth\":2}},\"shapedefaults\":{\"fillcolor\":\"black\",\"line\":{\"width\":0},\"opacity\":0.3},\"annotationdefaults\":{\"arrowhead\":0,\"arrowwidth\":1},\"geo\":{\"bgcolor\":\"white\",\"landcolor\":\"rgb(237,237,237)\",\"subunitcolor\":\"white\",\"showland\":true,\"showlakes\":true,\"lakecolor\":\"white\"}}},\"xaxis\":{\"anchor\":\"y\",\"domain\":[0.0,1.0],\"title\":{\"text\":\"x\"}},\"yaxis\":{\"anchor\":\"x\",\"domain\":[0.0,1.0],\"title\":{\"text\":\"y\"}},\"coloraxis\":{\"colorbar\":{\"title\":{\"text\":\"color\"}},\"colorscale\":[[0.0,\"rgb(20,44,66)\"],[1.0,\"rgb(90,179,244)\"]]},\"legend\":{\"tracegroupgap\":0},\"margin\":{\"t\":60}},                        {\"responsive\": true}                    ).then(function(){\n                            \nvar gd = document.getElementById('a3bc54e1-07da-441f-8345-92f993545812');\nvar x = new MutationObserver(function (mutations, observer) {{\n        var display = window.getComputedStyle(gd).display;\n        if (!display || display === 'none') {{\n            console.log([gd, 'removed!']);\n            Plotly.purge(gd);\n            observer.disconnect();\n        }}\n}});\n\n// Listen for the removal of the full notebook cells\nvar notebookContainer = gd.closest('#notebook-container');\nif (notebookContainer) {{\n    x.observe(notebookContainer, {childList: true});\n}}\n\n// Listen for the clearing of the current output cell\nvar outputEl = gd.closest('.output');\nif (outputEl) {{\n    x.observe(outputEl, {childList: true});\n}}\n\n                        })                };                });            </script>        </div>"
     },
     "metadata": {},
     "output_type": "display_data"
    }
   ],
   "source": [
    "fig = px.scatter(x=x_train_scaled[:, 0], y=x_train_scaled[:, 1], color=kmeans.labels)\n",
    "fig.add_scatter(x=kmeans.centroids[:, 0], y=kmeans.centroids[:, 1],\n",
    "                mode='markers', marker_size=12, marker_color='black', marker_symbol='x-thin', marker_line_width=2, showlegend=False)\n",
    "fig.show()"
   ],
   "metadata": {
    "collapsed": false
   }
  },
  {
   "cell_type": "markdown",
   "source": [
    "# Aún más cerca"
   ],
   "metadata": {
    "collapsed": false
   }
  },
  {
   "cell_type": "code",
   "execution_count": 38,
   "outputs": [],
   "source": [
    "# Create a dataset of 2D distributions\n",
    "n_clusters = 3\n",
    "x_train, true_labels = make_blobs(n_samples=100, centers=n_clusters, random_state=42, center_box=[-2, 2])\n",
    "x_train_scaled = StandardScaler().fit_transform(x_train)"
   ],
   "metadata": {
    "collapsed": false
   }
  },
  {
   "cell_type": "code",
   "execution_count": 39,
   "outputs": [
    {
     "data": {
      "application/vnd.plotly.v1+json": {
       "data": [
        {
         "hovertemplate": "x=%{x}<br>y=%{y}<br>color=%{marker.color}<extra></extra>",
         "legendgroup": "",
         "marker": {
          "color": [
           2,
           1,
           0,
           1,
           2,
           1,
           0,
           1,
           1,
           0,
           0,
           2,
           2,
           0,
           0,
           2,
           2,
           0,
           2,
           2,
           0,
           2,
           2,
           0,
           0,
           0,
           1,
           2,
           2,
           2,
           2,
           1,
           1,
           2,
           0,
           0,
           0,
           0,
           1,
           1,
           2,
           0,
           1,
           0,
           0,
           1,
           2,
           2,
           2,
           1,
           1,
           1,
           0,
           2,
           2,
           2,
           0,
           0,
           1,
           0,
           2,
           1,
           2,
           1,
           2,
           2,
           1,
           2,
           1,
           1,
           1,
           2,
           2,
           0,
           1,
           2,
           1,
           2,
           1,
           1,
           0,
           1,
           0,
           2,
           0,
           0,
           0,
           1,
           0,
           1,
           1,
           1,
           0,
           1,
           0,
           0,
           0,
           1,
           2,
           0
          ],
          "coloraxis": "coloraxis",
          "symbol": "circle"
         },
         "mode": "markers",
         "name": "",
         "orientation": "v",
         "showlegend": false,
         "x": [
          -1.4089664241100899,
          1.7285075355782258,
          -0.4185422913938499,
          2.1948906327449773,
          -0.4556012580889037,
          0.3006901508674825,
          0.2152013028271304,
          0.9107904715580717,
          1.1614816746495595,
          -0.9579303564902916,
          -0.477828463106189,
          -0.5587488420149302,
          -0.3256814843492299,
          -0.9225853244097668,
          0.5374820561259339,
          -1.5863293052153729,
          -0.5197850957269213,
          -0.10396937375181264,
          -1.4383004875650922,
          -0.36422819711987514,
          -0.4137487242793377,
          -0.7997940215513534,
          -1.0921659703745399,
          0.23904939880237897,
          -0.07533149755584667,
          -0.41154934779824803,
          -0.035544862013969246,
          -0.2435877595762251,
          -1.5101832877373624,
          -1.7177560048938378,
          -1.276977175005518,
          1.3190139541738297,
          0.9324056896287973,
          0.17819805522638166,
          1.2028902953572156,
          -0.5223522222355187,
          0.006468173352872887,
          0.20951912077017043,
          1.8091442952458505,
          1.1572737171397298,
          -1.8291277243008404,
          -0.42621923493262365,
          1.0571770759054055,
          -1.0981692602995599,
          -0.13850677697764838,
          0.24388988265049474,
          -2.011013808197331,
          -0.6017079396783577,
          -0.7284815658403813,
          0.4447677835138656,
          -0.9887464224489889,
          1.088696733825581,
          0.5960962110300835,
          -0.5330877839744924,
          -0.0881527545015717,
          -0.9156314308680001,
          -0.848581740444775,
          0.14452393905324862,
          2.254328284116404,
          -1.4121624563812762,
          -0.5068198270516349,
          0.5290100776752873,
          -0.9329842242129207,
          -0.43396094570726285,
          -0.9482344420147713,
          -0.569327507601305,
          1.1323188640420903,
          -1.4427777125289059,
          0.6653712099621992,
          1.288487834550556,
          0.8134084370650483,
          -0.5405194509564674,
          -1.6816285376574398,
          0.22497954990123162,
          1.1635187199874437,
          0.023691707360966735,
          1.7107115782432918,
          -0.6927026427868747,
          2.5774706947869377,
          -0.14262220137784162,
          0.23923967874121435,
          0.46474421623036016,
          0.6040258151845407,
          0.7378945108024446,
          -0.05765936721754241,
          0.11832800601036754,
          1.1130100805113596,
          0.3569717840084694,
          -1.2171525752175805,
          0.7743158650444238,
          1.1535430547758752,
          1.989136305961071,
          -0.7656322508098612,
          1.5491174802229206,
          -0.523197428879702,
          -0.5827266147732845,
          0.7690071251235893,
          0.9570001850729571,
          0.11840852377597776,
          -0.7111753351809885
         ],
         "xaxis": "x",
         "y": [
          -2.081308121053254,
          -0.7488115153780416,
          1.3145851105821122,
          -0.8597016938190202,
          -0.7351969156279881,
          -0.3178195878213492,
          1.595389291012644,
          0.2810404714854686,
          0.6776381055827144,
          1.2063699409973139,
          1.034654909548729,
          -0.25116058628082993,
          -0.9062792562764631,
          0.18694130103961587,
          1.0738558046881126,
          -0.7859847349280165,
          -0.5624291279354099,
          1.613540223531761,
          -0.9991875039520717,
          -1.146114772201818,
          0.6606780803111236,
          -0.8776353990292922,
          -0.5434819457755342,
          1.960182337308882,
          1.9774378553442726,
          1.6482945557081732,
          -0.2233595098998052,
          -1.654776087275825,
          -0.5884343360965578,
          -1.9552398141999403,
          -0.9482592906369071,
          0.21874435035134382,
          0.24500470666797447,
          -1.6311207704527233,
          1.4604232795658056,
          0.7735457962307,
          0.03872504951229019,
          0.7129804539121348,
          0.262647188774355,
          -1.2395577849280437,
          -1.707091438202646,
          0.8423126168393194,
          -0.7084817956706401,
          1.0903887720295395,
          0.7674431561684523,
          0.35658125249962724,
          -0.9791422246381245,
          -0.8489927718319316,
          -0.15622129851996372,
          -0.2759629624296537,
          0.5824710776026887,
          -0.10269503583203866,
          1.842281675669891,
          -0.5918467315538084,
          0.13124577230824772,
          -0.6358316352026817,
          1.1665172760784674,
          -0.27810305727853635,
          -0.2866722655008118,
          0.5980573848359839,
          -1.562161902224671,
          -0.1630570524471955,
          -1.5877041248912067,
          0.032246889151135445,
          0.6652306214575388,
          -1.9067829942256995,
          1.6469304342603537,
          -1.6279611065426214,
          0.38231171522935936,
          0.0011614827264287669,
          -0.4708595971441523,
          -0.8742006274971373,
          -0.6730877121502794,
          -0.18066772579381052,
          -0.27707753436335925,
          -0.8311818144604303,
          -0.54032385588944,
          -1.8401344648761733,
          0.16266105089998342,
          0.09390715882090143,
          0.5443381320463838,
          -0.15942487090805085,
          0.17096342991555344,
          -0.791587713453854,
          0.2767600306943042,
          -0.3081883246711343,
          0.8162952950759522,
          1.0546222185090566,
          0.4958770191758763,
          -0.8996926252469384,
          -0.14447353340884067,
          0.5370937172738751,
          0.04679568175798408,
          1.4700199846029227,
          2.163977718182096,
          1.3594091272542879,
          1.5666820681369718,
          0.31148139713494793,
          -0.4154598450065224,
          0.7621844269375827
         ],
         "yaxis": "y",
         "type": "scatter"
        }
       ],
       "layout": {
        "template": {
         "data": {
          "histogram2dcontour": [
           {
            "type": "histogram2dcontour",
            "colorbar": {
             "outlinewidth": 0,
             "tickcolor": "rgb(237,237,237)",
             "ticklen": 6,
             "ticks": "inside"
            },
            "colorscale": [
             [
              0,
              "rgb(20,44,66)"
             ],
             [
              1,
              "rgb(90,179,244)"
             ]
            ]
           }
          ],
          "choropleth": [
           {
            "type": "choropleth",
            "colorbar": {
             "outlinewidth": 0,
             "tickcolor": "rgb(237,237,237)",
             "ticklen": 6,
             "ticks": "inside"
            }
           }
          ],
          "histogram2d": [
           {
            "type": "histogram2d",
            "colorbar": {
             "outlinewidth": 0,
             "tickcolor": "rgb(237,237,237)",
             "ticklen": 6,
             "ticks": "inside"
            },
            "colorscale": [
             [
              0,
              "rgb(20,44,66)"
             ],
             [
              1,
              "rgb(90,179,244)"
             ]
            ]
           }
          ],
          "heatmap": [
           {
            "type": "heatmap",
            "colorbar": {
             "outlinewidth": 0,
             "tickcolor": "rgb(237,237,237)",
             "ticklen": 6,
             "ticks": "inside"
            },
            "colorscale": [
             [
              0,
              "rgb(20,44,66)"
             ],
             [
              1,
              "rgb(90,179,244)"
             ]
            ]
           }
          ],
          "heatmapgl": [
           {
            "type": "heatmapgl",
            "colorbar": {
             "outlinewidth": 0,
             "tickcolor": "rgb(237,237,237)",
             "ticklen": 6,
             "ticks": "inside"
            },
            "colorscale": [
             [
              0,
              "rgb(20,44,66)"
             ],
             [
              1,
              "rgb(90,179,244)"
             ]
            ]
           }
          ],
          "contourcarpet": [
           {
            "type": "contourcarpet",
            "colorbar": {
             "outlinewidth": 0,
             "tickcolor": "rgb(237,237,237)",
             "ticklen": 6,
             "ticks": "inside"
            }
           }
          ],
          "contour": [
           {
            "type": "contour",
            "colorbar": {
             "outlinewidth": 0,
             "tickcolor": "rgb(237,237,237)",
             "ticklen": 6,
             "ticks": "inside"
            },
            "colorscale": [
             [
              0,
              "rgb(20,44,66)"
             ],
             [
              1,
              "rgb(90,179,244)"
             ]
            ]
           }
          ],
          "surface": [
           {
            "type": "surface",
            "colorbar": {
             "outlinewidth": 0,
             "tickcolor": "rgb(237,237,237)",
             "ticklen": 6,
             "ticks": "inside"
            },
            "colorscale": [
             [
              0,
              "rgb(20,44,66)"
             ],
             [
              1,
              "rgb(90,179,244)"
             ]
            ]
           }
          ],
          "mesh3d": [
           {
            "type": "mesh3d",
            "colorbar": {
             "outlinewidth": 0,
             "tickcolor": "rgb(237,237,237)",
             "ticklen": 6,
             "ticks": "inside"
            }
           }
          ],
          "scatter": [
           {
            "fillpattern": {
             "fillmode": "overlay",
             "size": 10,
             "solidity": 0.2
            },
            "type": "scatter"
           }
          ],
          "parcoords": [
           {
            "type": "parcoords",
            "line": {
             "colorbar": {
              "outlinewidth": 0,
              "tickcolor": "rgb(237,237,237)",
              "ticklen": 6,
              "ticks": "inside"
             }
            }
           }
          ],
          "scatterpolargl": [
           {
            "type": "scatterpolargl",
            "marker": {
             "colorbar": {
              "outlinewidth": 0,
              "tickcolor": "rgb(237,237,237)",
              "ticklen": 6,
              "ticks": "inside"
             }
            }
           }
          ],
          "bar": [
           {
            "error_x": {
             "color": "rgb(51,51,51)"
            },
            "error_y": {
             "color": "rgb(51,51,51)"
            },
            "marker": {
             "line": {
              "color": "rgb(237,237,237)",
              "width": 0.5
             },
             "pattern": {
              "fillmode": "overlay",
              "size": 10,
              "solidity": 0.2
             }
            },
            "type": "bar"
           }
          ],
          "scattergeo": [
           {
            "type": "scattergeo",
            "marker": {
             "colorbar": {
              "outlinewidth": 0,
              "tickcolor": "rgb(237,237,237)",
              "ticklen": 6,
              "ticks": "inside"
             }
            }
           }
          ],
          "scatterpolar": [
           {
            "type": "scatterpolar",
            "marker": {
             "colorbar": {
              "outlinewidth": 0,
              "tickcolor": "rgb(237,237,237)",
              "ticklen": 6,
              "ticks": "inside"
             }
            }
           }
          ],
          "histogram": [
           {
            "marker": {
             "pattern": {
              "fillmode": "overlay",
              "size": 10,
              "solidity": 0.2
             }
            },
            "type": "histogram"
           }
          ],
          "scattergl": [
           {
            "type": "scattergl",
            "marker": {
             "colorbar": {
              "outlinewidth": 0,
              "tickcolor": "rgb(237,237,237)",
              "ticklen": 6,
              "ticks": "inside"
             }
            }
           }
          ],
          "scatter3d": [
           {
            "type": "scatter3d",
            "line": {
             "colorbar": {
              "outlinewidth": 0,
              "tickcolor": "rgb(237,237,237)",
              "ticklen": 6,
              "ticks": "inside"
             }
            },
            "marker": {
             "colorbar": {
              "outlinewidth": 0,
              "tickcolor": "rgb(237,237,237)",
              "ticklen": 6,
              "ticks": "inside"
             }
            }
           }
          ],
          "scattermapbox": [
           {
            "type": "scattermapbox",
            "marker": {
             "colorbar": {
              "outlinewidth": 0,
              "tickcolor": "rgb(237,237,237)",
              "ticklen": 6,
              "ticks": "inside"
             }
            }
           }
          ],
          "scatterternary": [
           {
            "type": "scatterternary",
            "marker": {
             "colorbar": {
              "outlinewidth": 0,
              "tickcolor": "rgb(237,237,237)",
              "ticklen": 6,
              "ticks": "inside"
             }
            }
           }
          ],
          "scattercarpet": [
           {
            "type": "scattercarpet",
            "marker": {
             "colorbar": {
              "outlinewidth": 0,
              "tickcolor": "rgb(237,237,237)",
              "ticklen": 6,
              "ticks": "inside"
             }
            }
           }
          ],
          "carpet": [
           {
            "aaxis": {
             "endlinecolor": "rgb(51,51,51)",
             "gridcolor": "white",
             "linecolor": "white",
             "minorgridcolor": "white",
             "startlinecolor": "rgb(51,51,51)"
            },
            "baxis": {
             "endlinecolor": "rgb(51,51,51)",
             "gridcolor": "white",
             "linecolor": "white",
             "minorgridcolor": "white",
             "startlinecolor": "rgb(51,51,51)"
            },
            "type": "carpet"
           }
          ],
          "table": [
           {
            "cells": {
             "fill": {
              "color": "rgb(237,237,237)"
             },
             "line": {
              "color": "white"
             }
            },
            "header": {
             "fill": {
              "color": "rgb(217,217,217)"
             },
             "line": {
              "color": "white"
             }
            },
            "type": "table"
           }
          ],
          "barpolar": [
           {
            "marker": {
             "line": {
              "color": "rgb(237,237,237)",
              "width": 0.5
             },
             "pattern": {
              "fillmode": "overlay",
              "size": 10,
              "solidity": 0.2
             }
            },
            "type": "barpolar"
           }
          ],
          "pie": [
           {
            "automargin": true,
            "type": "pie"
           }
          ]
         },
         "layout": {
          "autotypenumbers": "strict",
          "colorway": [
           "#F8766D",
           "#A3A500",
           "#00BF7D",
           "#00B0F6",
           "#E76BF3"
          ],
          "font": {
           "color": "rgb(51,51,51)"
          },
          "hovermode": "closest",
          "hoverlabel": {
           "align": "left"
          },
          "paper_bgcolor": "white",
          "plot_bgcolor": "rgb(237,237,237)",
          "polar": {
           "bgcolor": "rgb(237,237,237)",
           "angularaxis": {
            "gridcolor": "white",
            "linecolor": "white",
            "showgrid": true,
            "tickcolor": "rgb(51,51,51)",
            "ticks": "outside"
           },
           "radialaxis": {
            "gridcolor": "white",
            "linecolor": "white",
            "showgrid": true,
            "tickcolor": "rgb(51,51,51)",
            "ticks": "outside"
           }
          },
          "ternary": {
           "bgcolor": "rgb(237,237,237)",
           "aaxis": {
            "gridcolor": "white",
            "linecolor": "white",
            "showgrid": true,
            "tickcolor": "rgb(51,51,51)",
            "ticks": "outside"
           },
           "baxis": {
            "gridcolor": "white",
            "linecolor": "white",
            "showgrid": true,
            "tickcolor": "rgb(51,51,51)",
            "ticks": "outside"
           },
           "caxis": {
            "gridcolor": "white",
            "linecolor": "white",
            "showgrid": true,
            "tickcolor": "rgb(51,51,51)",
            "ticks": "outside"
           }
          },
          "coloraxis": {
           "colorbar": {
            "outlinewidth": 0,
            "tickcolor": "rgb(237,237,237)",
            "ticklen": 6,
            "ticks": "inside"
           }
          },
          "colorscale": {
           "sequential": [
            [
             0,
             "rgb(20,44,66)"
            ],
            [
             1,
             "rgb(90,179,244)"
            ]
           ],
           "sequentialminus": [
            [
             0,
             "rgb(20,44,66)"
            ],
            [
             1,
             "rgb(90,179,244)"
            ]
           ]
          },
          "xaxis": {
           "gridcolor": "white",
           "linecolor": "white",
           "showgrid": true,
           "tickcolor": "rgb(51,51,51)",
           "ticks": "outside",
           "title": {
            "standoff": 15
           },
           "zerolinecolor": "white",
           "automargin": true
          },
          "yaxis": {
           "gridcolor": "white",
           "linecolor": "white",
           "showgrid": true,
           "tickcolor": "rgb(51,51,51)",
           "ticks": "outside",
           "title": {
            "standoff": 15
           },
           "zerolinecolor": "white",
           "automargin": true
          },
          "scene": {
           "xaxis": {
            "backgroundcolor": "rgb(237,237,237)",
            "gridcolor": "white",
            "linecolor": "white",
            "showbackground": true,
            "showgrid": true,
            "tickcolor": "rgb(51,51,51)",
            "ticks": "outside",
            "zerolinecolor": "white",
            "gridwidth": 2
           },
           "yaxis": {
            "backgroundcolor": "rgb(237,237,237)",
            "gridcolor": "white",
            "linecolor": "white",
            "showbackground": true,
            "showgrid": true,
            "tickcolor": "rgb(51,51,51)",
            "ticks": "outside",
            "zerolinecolor": "white",
            "gridwidth": 2
           },
           "zaxis": {
            "backgroundcolor": "rgb(237,237,237)",
            "gridcolor": "white",
            "linecolor": "white",
            "showbackground": true,
            "showgrid": true,
            "tickcolor": "rgb(51,51,51)",
            "ticks": "outside",
            "zerolinecolor": "white",
            "gridwidth": 2
           }
          },
          "shapedefaults": {
           "fillcolor": "black",
           "line": {
            "width": 0
           },
           "opacity": 0.3
          },
          "annotationdefaults": {
           "arrowhead": 0,
           "arrowwidth": 1
          },
          "geo": {
           "bgcolor": "white",
           "landcolor": "rgb(237,237,237)",
           "subunitcolor": "white",
           "showland": true,
           "showlakes": true,
           "lakecolor": "white"
          }
         }
        },
        "xaxis": {
         "anchor": "y",
         "domain": [
          0.0,
          1.0
         ],
         "title": {
          "text": "x"
         }
        },
        "yaxis": {
         "anchor": "x",
         "domain": [
          0.0,
          1.0
         ],
         "title": {
          "text": "y"
         }
        },
        "coloraxis": {
         "colorbar": {
          "title": {
           "text": "color"
          }
         },
         "colorscale": [
          [
           0.0,
           "rgb(20,44,66)"
          ],
          [
           1.0,
           "rgb(90,179,244)"
          ]
         ]
        },
        "legend": {
         "tracegroupgap": 0
        },
        "margin": {
         "t": 60
        }
       },
       "config": {
        "plotlyServerURL": "https://plot.ly"
       }
      },
      "text/html": "<div>                            <div id=\"e026ee4a-1158-4dd2-87ef-0fc2300e662b\" class=\"plotly-graph-div\" style=\"height:525px; width:100%;\"></div>            <script type=\"text/javascript\">                require([\"plotly\"], function(Plotly) {                    window.PLOTLYENV=window.PLOTLYENV || {};                                    if (document.getElementById(\"e026ee4a-1158-4dd2-87ef-0fc2300e662b\")) {                    Plotly.newPlot(                        \"e026ee4a-1158-4dd2-87ef-0fc2300e662b\",                        [{\"hovertemplate\":\"x=%{x}<br>y=%{y}<br>color=%{marker.color}<extra></extra>\",\"legendgroup\":\"\",\"marker\":{\"color\":[2,1,0,1,2,1,0,1,1,0,0,2,2,0,0,2,2,0,2,2,0,2,2,0,0,0,1,2,2,2,2,1,1,2,0,0,0,0,1,1,2,0,1,0,0,1,2,2,2,1,1,1,0,2,2,2,0,0,1,0,2,1,2,1,2,2,1,2,1,1,1,2,2,0,1,2,1,2,1,1,0,1,0,2,0,0,0,1,0,1,1,1,0,1,0,0,0,1,2,0],\"coloraxis\":\"coloraxis\",\"symbol\":\"circle\"},\"mode\":\"markers\",\"name\":\"\",\"orientation\":\"v\",\"showlegend\":false,\"x\":[-1.4089664241100899,1.7285075355782258,-0.4185422913938499,2.1948906327449773,-0.4556012580889037,0.3006901508674825,0.2152013028271304,0.9107904715580717,1.1614816746495595,-0.9579303564902916,-0.477828463106189,-0.5587488420149302,-0.3256814843492299,-0.9225853244097668,0.5374820561259339,-1.5863293052153729,-0.5197850957269213,-0.10396937375181264,-1.4383004875650922,-0.36422819711987514,-0.4137487242793377,-0.7997940215513534,-1.0921659703745399,0.23904939880237897,-0.07533149755584667,-0.41154934779824803,-0.035544862013969246,-0.2435877595762251,-1.5101832877373624,-1.7177560048938378,-1.276977175005518,1.3190139541738297,0.9324056896287973,0.17819805522638166,1.2028902953572156,-0.5223522222355187,0.006468173352872887,0.20951912077017043,1.8091442952458505,1.1572737171397298,-1.8291277243008404,-0.42621923493262365,1.0571770759054055,-1.0981692602995599,-0.13850677697764838,0.24388988265049474,-2.011013808197331,-0.6017079396783577,-0.7284815658403813,0.4447677835138656,-0.9887464224489889,1.088696733825581,0.5960962110300835,-0.5330877839744924,-0.0881527545015717,-0.9156314308680001,-0.848581740444775,0.14452393905324862,2.254328284116404,-1.4121624563812762,-0.5068198270516349,0.5290100776752873,-0.9329842242129207,-0.43396094570726285,-0.9482344420147713,-0.569327507601305,1.1323188640420903,-1.4427777125289059,0.6653712099621992,1.288487834550556,0.8134084370650483,-0.5405194509564674,-1.6816285376574398,0.22497954990123162,1.1635187199874437,0.023691707360966735,1.7107115782432918,-0.6927026427868747,2.5774706947869377,-0.14262220137784162,0.23923967874121435,0.46474421623036016,0.6040258151845407,0.7378945108024446,-0.05765936721754241,0.11832800601036754,1.1130100805113596,0.3569717840084694,-1.2171525752175805,0.7743158650444238,1.1535430547758752,1.989136305961071,-0.7656322508098612,1.5491174802229206,-0.523197428879702,-0.5827266147732845,0.7690071251235893,0.9570001850729571,0.11840852377597776,-0.7111753351809885],\"xaxis\":\"x\",\"y\":[-2.081308121053254,-0.7488115153780416,1.3145851105821122,-0.8597016938190202,-0.7351969156279881,-0.3178195878213492,1.595389291012644,0.2810404714854686,0.6776381055827144,1.2063699409973139,1.034654909548729,-0.25116058628082993,-0.9062792562764631,0.18694130103961587,1.0738558046881126,-0.7859847349280165,-0.5624291279354099,1.613540223531761,-0.9991875039520717,-1.146114772201818,0.6606780803111236,-0.8776353990292922,-0.5434819457755342,1.960182337308882,1.9774378553442726,1.6482945557081732,-0.2233595098998052,-1.654776087275825,-0.5884343360965578,-1.9552398141999403,-0.9482592906369071,0.21874435035134382,0.24500470666797447,-1.6311207704527233,1.4604232795658056,0.7735457962307,0.03872504951229019,0.7129804539121348,0.262647188774355,-1.2395577849280437,-1.707091438202646,0.8423126168393194,-0.7084817956706401,1.0903887720295395,0.7674431561684523,0.35658125249962724,-0.9791422246381245,-0.8489927718319316,-0.15622129851996372,-0.2759629624296537,0.5824710776026887,-0.10269503583203866,1.842281675669891,-0.5918467315538084,0.13124577230824772,-0.6358316352026817,1.1665172760784674,-0.27810305727853635,-0.2866722655008118,0.5980573848359839,-1.562161902224671,-0.1630570524471955,-1.5877041248912067,0.032246889151135445,0.6652306214575388,-1.9067829942256995,1.6469304342603537,-1.6279611065426214,0.38231171522935936,0.0011614827264287669,-0.4708595971441523,-0.8742006274971373,-0.6730877121502794,-0.18066772579381052,-0.27707753436335925,-0.8311818144604303,-0.54032385588944,-1.8401344648761733,0.16266105089998342,0.09390715882090143,0.5443381320463838,-0.15942487090805085,0.17096342991555344,-0.791587713453854,0.2767600306943042,-0.3081883246711343,0.8162952950759522,1.0546222185090566,0.4958770191758763,-0.8996926252469384,-0.14447353340884067,0.5370937172738751,0.04679568175798408,1.4700199846029227,2.163977718182096,1.3594091272542879,1.5666820681369718,0.31148139713494793,-0.4154598450065224,0.7621844269375827],\"yaxis\":\"y\",\"type\":\"scatter\"}],                        {\"template\":{\"data\":{\"histogram2dcontour\":[{\"type\":\"histogram2dcontour\",\"colorbar\":{\"outlinewidth\":0,\"tickcolor\":\"rgb(237,237,237)\",\"ticklen\":6,\"ticks\":\"inside\"},\"colorscale\":[[0,\"rgb(20,44,66)\"],[1,\"rgb(90,179,244)\"]]}],\"choropleth\":[{\"type\":\"choropleth\",\"colorbar\":{\"outlinewidth\":0,\"tickcolor\":\"rgb(237,237,237)\",\"ticklen\":6,\"ticks\":\"inside\"}}],\"histogram2d\":[{\"type\":\"histogram2d\",\"colorbar\":{\"outlinewidth\":0,\"tickcolor\":\"rgb(237,237,237)\",\"ticklen\":6,\"ticks\":\"inside\"},\"colorscale\":[[0,\"rgb(20,44,66)\"],[1,\"rgb(90,179,244)\"]]}],\"heatmap\":[{\"type\":\"heatmap\",\"colorbar\":{\"outlinewidth\":0,\"tickcolor\":\"rgb(237,237,237)\",\"ticklen\":6,\"ticks\":\"inside\"},\"colorscale\":[[0,\"rgb(20,44,66)\"],[1,\"rgb(90,179,244)\"]]}],\"heatmapgl\":[{\"type\":\"heatmapgl\",\"colorbar\":{\"outlinewidth\":0,\"tickcolor\":\"rgb(237,237,237)\",\"ticklen\":6,\"ticks\":\"inside\"},\"colorscale\":[[0,\"rgb(20,44,66)\"],[1,\"rgb(90,179,244)\"]]}],\"contourcarpet\":[{\"type\":\"contourcarpet\",\"colorbar\":{\"outlinewidth\":0,\"tickcolor\":\"rgb(237,237,237)\",\"ticklen\":6,\"ticks\":\"inside\"}}],\"contour\":[{\"type\":\"contour\",\"colorbar\":{\"outlinewidth\":0,\"tickcolor\":\"rgb(237,237,237)\",\"ticklen\":6,\"ticks\":\"inside\"},\"colorscale\":[[0,\"rgb(20,44,66)\"],[1,\"rgb(90,179,244)\"]]}],\"surface\":[{\"type\":\"surface\",\"colorbar\":{\"outlinewidth\":0,\"tickcolor\":\"rgb(237,237,237)\",\"ticklen\":6,\"ticks\":\"inside\"},\"colorscale\":[[0,\"rgb(20,44,66)\"],[1,\"rgb(90,179,244)\"]]}],\"mesh3d\":[{\"type\":\"mesh3d\",\"colorbar\":{\"outlinewidth\":0,\"tickcolor\":\"rgb(237,237,237)\",\"ticklen\":6,\"ticks\":\"inside\"}}],\"scatter\":[{\"fillpattern\":{\"fillmode\":\"overlay\",\"size\":10,\"solidity\":0.2},\"type\":\"scatter\"}],\"parcoords\":[{\"type\":\"parcoords\",\"line\":{\"colorbar\":{\"outlinewidth\":0,\"tickcolor\":\"rgb(237,237,237)\",\"ticklen\":6,\"ticks\":\"inside\"}}}],\"scatterpolargl\":[{\"type\":\"scatterpolargl\",\"marker\":{\"colorbar\":{\"outlinewidth\":0,\"tickcolor\":\"rgb(237,237,237)\",\"ticklen\":6,\"ticks\":\"inside\"}}}],\"bar\":[{\"error_x\":{\"color\":\"rgb(51,51,51)\"},\"error_y\":{\"color\":\"rgb(51,51,51)\"},\"marker\":{\"line\":{\"color\":\"rgb(237,237,237)\",\"width\":0.5},\"pattern\":{\"fillmode\":\"overlay\",\"size\":10,\"solidity\":0.2}},\"type\":\"bar\"}],\"scattergeo\":[{\"type\":\"scattergeo\",\"marker\":{\"colorbar\":{\"outlinewidth\":0,\"tickcolor\":\"rgb(237,237,237)\",\"ticklen\":6,\"ticks\":\"inside\"}}}],\"scatterpolar\":[{\"type\":\"scatterpolar\",\"marker\":{\"colorbar\":{\"outlinewidth\":0,\"tickcolor\":\"rgb(237,237,237)\",\"ticklen\":6,\"ticks\":\"inside\"}}}],\"histogram\":[{\"marker\":{\"pattern\":{\"fillmode\":\"overlay\",\"size\":10,\"solidity\":0.2}},\"type\":\"histogram\"}],\"scattergl\":[{\"type\":\"scattergl\",\"marker\":{\"colorbar\":{\"outlinewidth\":0,\"tickcolor\":\"rgb(237,237,237)\",\"ticklen\":6,\"ticks\":\"inside\"}}}],\"scatter3d\":[{\"type\":\"scatter3d\",\"line\":{\"colorbar\":{\"outlinewidth\":0,\"tickcolor\":\"rgb(237,237,237)\",\"ticklen\":6,\"ticks\":\"inside\"}},\"marker\":{\"colorbar\":{\"outlinewidth\":0,\"tickcolor\":\"rgb(237,237,237)\",\"ticklen\":6,\"ticks\":\"inside\"}}}],\"scattermapbox\":[{\"type\":\"scattermapbox\",\"marker\":{\"colorbar\":{\"outlinewidth\":0,\"tickcolor\":\"rgb(237,237,237)\",\"ticklen\":6,\"ticks\":\"inside\"}}}],\"scatterternary\":[{\"type\":\"scatterternary\",\"marker\":{\"colorbar\":{\"outlinewidth\":0,\"tickcolor\":\"rgb(237,237,237)\",\"ticklen\":6,\"ticks\":\"inside\"}}}],\"scattercarpet\":[{\"type\":\"scattercarpet\",\"marker\":{\"colorbar\":{\"outlinewidth\":0,\"tickcolor\":\"rgb(237,237,237)\",\"ticklen\":6,\"ticks\":\"inside\"}}}],\"carpet\":[{\"aaxis\":{\"endlinecolor\":\"rgb(51,51,51)\",\"gridcolor\":\"white\",\"linecolor\":\"white\",\"minorgridcolor\":\"white\",\"startlinecolor\":\"rgb(51,51,51)\"},\"baxis\":{\"endlinecolor\":\"rgb(51,51,51)\",\"gridcolor\":\"white\",\"linecolor\":\"white\",\"minorgridcolor\":\"white\",\"startlinecolor\":\"rgb(51,51,51)\"},\"type\":\"carpet\"}],\"table\":[{\"cells\":{\"fill\":{\"color\":\"rgb(237,237,237)\"},\"line\":{\"color\":\"white\"}},\"header\":{\"fill\":{\"color\":\"rgb(217,217,217)\"},\"line\":{\"color\":\"white\"}},\"type\":\"table\"}],\"barpolar\":[{\"marker\":{\"line\":{\"color\":\"rgb(237,237,237)\",\"width\":0.5},\"pattern\":{\"fillmode\":\"overlay\",\"size\":10,\"solidity\":0.2}},\"type\":\"barpolar\"}],\"pie\":[{\"automargin\":true,\"type\":\"pie\"}]},\"layout\":{\"autotypenumbers\":\"strict\",\"colorway\":[\"#F8766D\",\"#A3A500\",\"#00BF7D\",\"#00B0F6\",\"#E76BF3\"],\"font\":{\"color\":\"rgb(51,51,51)\"},\"hovermode\":\"closest\",\"hoverlabel\":{\"align\":\"left\"},\"paper_bgcolor\":\"white\",\"plot_bgcolor\":\"rgb(237,237,237)\",\"polar\":{\"bgcolor\":\"rgb(237,237,237)\",\"angularaxis\":{\"gridcolor\":\"white\",\"linecolor\":\"white\",\"showgrid\":true,\"tickcolor\":\"rgb(51,51,51)\",\"ticks\":\"outside\"},\"radialaxis\":{\"gridcolor\":\"white\",\"linecolor\":\"white\",\"showgrid\":true,\"tickcolor\":\"rgb(51,51,51)\",\"ticks\":\"outside\"}},\"ternary\":{\"bgcolor\":\"rgb(237,237,237)\",\"aaxis\":{\"gridcolor\":\"white\",\"linecolor\":\"white\",\"showgrid\":true,\"tickcolor\":\"rgb(51,51,51)\",\"ticks\":\"outside\"},\"baxis\":{\"gridcolor\":\"white\",\"linecolor\":\"white\",\"showgrid\":true,\"tickcolor\":\"rgb(51,51,51)\",\"ticks\":\"outside\"},\"caxis\":{\"gridcolor\":\"white\",\"linecolor\":\"white\",\"showgrid\":true,\"tickcolor\":\"rgb(51,51,51)\",\"ticks\":\"outside\"}},\"coloraxis\":{\"colorbar\":{\"outlinewidth\":0,\"tickcolor\":\"rgb(237,237,237)\",\"ticklen\":6,\"ticks\":\"inside\"}},\"colorscale\":{\"sequential\":[[0,\"rgb(20,44,66)\"],[1,\"rgb(90,179,244)\"]],\"sequentialminus\":[[0,\"rgb(20,44,66)\"],[1,\"rgb(90,179,244)\"]]},\"xaxis\":{\"gridcolor\":\"white\",\"linecolor\":\"white\",\"showgrid\":true,\"tickcolor\":\"rgb(51,51,51)\",\"ticks\":\"outside\",\"title\":{\"standoff\":15},\"zerolinecolor\":\"white\",\"automargin\":true},\"yaxis\":{\"gridcolor\":\"white\",\"linecolor\":\"white\",\"showgrid\":true,\"tickcolor\":\"rgb(51,51,51)\",\"ticks\":\"outside\",\"title\":{\"standoff\":15},\"zerolinecolor\":\"white\",\"automargin\":true},\"scene\":{\"xaxis\":{\"backgroundcolor\":\"rgb(237,237,237)\",\"gridcolor\":\"white\",\"linecolor\":\"white\",\"showbackground\":true,\"showgrid\":true,\"tickcolor\":\"rgb(51,51,51)\",\"ticks\":\"outside\",\"zerolinecolor\":\"white\",\"gridwidth\":2},\"yaxis\":{\"backgroundcolor\":\"rgb(237,237,237)\",\"gridcolor\":\"white\",\"linecolor\":\"white\",\"showbackground\":true,\"showgrid\":true,\"tickcolor\":\"rgb(51,51,51)\",\"ticks\":\"outside\",\"zerolinecolor\":\"white\",\"gridwidth\":2},\"zaxis\":{\"backgroundcolor\":\"rgb(237,237,237)\",\"gridcolor\":\"white\",\"linecolor\":\"white\",\"showbackground\":true,\"showgrid\":true,\"tickcolor\":\"rgb(51,51,51)\",\"ticks\":\"outside\",\"zerolinecolor\":\"white\",\"gridwidth\":2}},\"shapedefaults\":{\"fillcolor\":\"black\",\"line\":{\"width\":0},\"opacity\":0.3},\"annotationdefaults\":{\"arrowhead\":0,\"arrowwidth\":1},\"geo\":{\"bgcolor\":\"white\",\"landcolor\":\"rgb(237,237,237)\",\"subunitcolor\":\"white\",\"showland\":true,\"showlakes\":true,\"lakecolor\":\"white\"}}},\"xaxis\":{\"anchor\":\"y\",\"domain\":[0.0,1.0],\"title\":{\"text\":\"x\"}},\"yaxis\":{\"anchor\":\"x\",\"domain\":[0.0,1.0],\"title\":{\"text\":\"y\"}},\"coloraxis\":{\"colorbar\":{\"title\":{\"text\":\"color\"}},\"colorscale\":[[0.0,\"rgb(20,44,66)\"],[1.0,\"rgb(90,179,244)\"]]},\"legend\":{\"tracegroupgap\":0},\"margin\":{\"t\":60}},                        {\"responsive\": true}                    ).then(function(){\n                            \nvar gd = document.getElementById('e026ee4a-1158-4dd2-87ef-0fc2300e662b');\nvar x = new MutationObserver(function (mutations, observer) {{\n        var display = window.getComputedStyle(gd).display;\n        if (!display || display === 'none') {{\n            console.log([gd, 'removed!']);\n            Plotly.purge(gd);\n            observer.disconnect();\n        }}\n}});\n\n// Listen for the removal of the full notebook cells\nvar notebookContainer = gd.closest('#notebook-container');\nif (notebookContainer) {{\n    x.observe(notebookContainer, {childList: true});\n}}\n\n// Listen for the clearing of the current output cell\nvar outputEl = gd.closest('.output');\nif (outputEl) {{\n    x.observe(outputEl, {childList: true});\n}}\n\n                        })                };                });            </script>        </div>"
     },
     "metadata": {},
     "output_type": "display_data"
    }
   ],
   "source": [
    "px.scatter(x=x_train_scaled[:, 0], y=x_train_scaled[:, 1], color=true_labels)"
   ],
   "metadata": {
    "collapsed": false
   }
  },
  {
   "cell_type": "code",
   "execution_count": 40,
   "outputs": [],
   "source": [
    "kmeans = KMeans(n_clusters=n_clusters)\n",
    "kmeans.fit(x_train_scaled)"
   ],
   "metadata": {
    "collapsed": false
   }
  },
  {
   "cell_type": "code",
   "execution_count": 41,
   "outputs": [
    {
     "data": {
      "text/plain": "(69.94893654998057, 0.84)"
     },
     "execution_count": 41,
     "metadata": {},
     "output_type": "execute_result"
    }
   ],
   "source": [
    "kmeans.inertia, kmeans.score(true_labels)"
   ],
   "metadata": {
    "collapsed": false
   }
  },
  {
   "cell_type": "code",
   "execution_count": 42,
   "outputs": [
    {
     "data": {
      "application/vnd.plotly.v1+json": {
       "data": [
        {
         "hovertemplate": "x=%{x}<br>y=%{y}<extra></extra>",
         "legendgroup": "",
         "marker": {
          "color": "black",
          "symbol": "x-thin",
          "line": {
           "width": 2
          },
          "size": 12
         },
         "mode": "markers",
         "name": "",
         "orientation": "v",
         "showlegend": false,
         "x": [
          -0.28170816140865856,
          -0.8993801967723051,
          1.0349577004888164
         ],
         "xaxis": "x",
         "y": [
          0.9412067005595708,
          -1.0858258451220693,
          -0.06841404890298726
         ],
         "yaxis": "y",
         "type": "scatter"
        },
        {
         "marker": {
          "color": [
           1,
           2,
           0,
           2,
           1,
           2,
           0,
           2,
           2,
           0,
           0,
           1,
           1,
           0,
           0,
           1,
           1,
           0,
           1,
           1,
           0,
           1,
           1,
           0,
           0,
           0,
           2,
           1,
           1,
           1,
           1,
           2,
           2,
           1,
           2,
           0,
           0,
           0,
           2,
           2,
           1,
           0,
           2,
           0,
           0,
           0,
           1,
           1,
           1,
           2,
           0,
           2,
           0,
           1,
           0,
           1,
           0,
           2,
           2,
           0,
           1,
           2,
           1,
           0,
           0,
           1,
           0,
           1,
           2,
           2,
           2,
           1,
           1,
           2,
           2,
           1,
           2,
           1,
           2,
           0,
           0,
           2,
           2,
           2,
           0,
           2,
           2,
           0,
           0,
           2,
           2,
           2,
           0,
           2,
           0,
           0,
           0,
           2,
           2,
           0
          ]
         },
         "mode": "markers",
         "x": [
          -1.4089664241100899,
          1.7285075355782258,
          -0.4185422913938499,
          2.1948906327449773,
          -0.4556012580889037,
          0.3006901508674825,
          0.2152013028271304,
          0.9107904715580717,
          1.1614816746495595,
          -0.9579303564902916,
          -0.477828463106189,
          -0.5587488420149302,
          -0.3256814843492299,
          -0.9225853244097668,
          0.5374820561259339,
          -1.5863293052153729,
          -0.5197850957269213,
          -0.10396937375181264,
          -1.4383004875650922,
          -0.36422819711987514,
          -0.4137487242793377,
          -0.7997940215513534,
          -1.0921659703745399,
          0.23904939880237897,
          -0.07533149755584667,
          -0.41154934779824803,
          -0.035544862013969246,
          -0.2435877595762251,
          -1.5101832877373624,
          -1.7177560048938378,
          -1.276977175005518,
          1.3190139541738297,
          0.9324056896287973,
          0.17819805522638166,
          1.2028902953572156,
          -0.5223522222355187,
          0.006468173352872887,
          0.20951912077017043,
          1.8091442952458505,
          1.1572737171397298,
          -1.8291277243008404,
          -0.42621923493262365,
          1.0571770759054055,
          -1.0981692602995599,
          -0.13850677697764838,
          0.24388988265049474,
          -2.011013808197331,
          -0.6017079396783577,
          -0.7284815658403813,
          0.4447677835138656,
          -0.9887464224489889,
          1.088696733825581,
          0.5960962110300835,
          -0.5330877839744924,
          -0.0881527545015717,
          -0.9156314308680001,
          -0.848581740444775,
          0.14452393905324862,
          2.254328284116404,
          -1.4121624563812762,
          -0.5068198270516349,
          0.5290100776752873,
          -0.9329842242129207,
          -0.43396094570726285,
          -0.9482344420147713,
          -0.569327507601305,
          1.1323188640420903,
          -1.4427777125289059,
          0.6653712099621992,
          1.288487834550556,
          0.8134084370650483,
          -0.5405194509564674,
          -1.6816285376574398,
          0.22497954990123162,
          1.1635187199874437,
          0.023691707360966735,
          1.7107115782432918,
          -0.6927026427868747,
          2.5774706947869377,
          -0.14262220137784162,
          0.23923967874121435,
          0.46474421623036016,
          0.6040258151845407,
          0.7378945108024446,
          -0.05765936721754241,
          0.11832800601036754,
          1.1130100805113596,
          0.3569717840084694,
          -1.2171525752175805,
          0.7743158650444238,
          1.1535430547758752,
          1.989136305961071,
          -0.7656322508098612,
          1.5491174802229206,
          -0.523197428879702,
          -0.5827266147732845,
          0.7690071251235893,
          0.9570001850729571,
          0.11840852377597776,
          -0.7111753351809885
         ],
         "y": [
          -2.081308121053254,
          -0.7488115153780416,
          1.3145851105821122,
          -0.8597016938190202,
          -0.7351969156279881,
          -0.3178195878213492,
          1.595389291012644,
          0.2810404714854686,
          0.6776381055827144,
          1.2063699409973139,
          1.034654909548729,
          -0.25116058628082993,
          -0.9062792562764631,
          0.18694130103961587,
          1.0738558046881126,
          -0.7859847349280165,
          -0.5624291279354099,
          1.613540223531761,
          -0.9991875039520717,
          -1.146114772201818,
          0.6606780803111236,
          -0.8776353990292922,
          -0.5434819457755342,
          1.960182337308882,
          1.9774378553442726,
          1.6482945557081732,
          -0.2233595098998052,
          -1.654776087275825,
          -0.5884343360965578,
          -1.9552398141999403,
          -0.9482592906369071,
          0.21874435035134382,
          0.24500470666797447,
          -1.6311207704527233,
          1.4604232795658056,
          0.7735457962307,
          0.03872504951229019,
          0.7129804539121348,
          0.262647188774355,
          -1.2395577849280437,
          -1.707091438202646,
          0.8423126168393194,
          -0.7084817956706401,
          1.0903887720295395,
          0.7674431561684523,
          0.35658125249962724,
          -0.9791422246381245,
          -0.8489927718319316,
          -0.15622129851996372,
          -0.2759629624296537,
          0.5824710776026887,
          -0.10269503583203866,
          1.842281675669891,
          -0.5918467315538084,
          0.13124577230824772,
          -0.6358316352026817,
          1.1665172760784674,
          -0.27810305727853635,
          -0.2866722655008118,
          0.5980573848359839,
          -1.562161902224671,
          -0.1630570524471955,
          -1.5877041248912067,
          0.032246889151135445,
          0.6652306214575388,
          -1.9067829942256995,
          1.6469304342603537,
          -1.6279611065426214,
          0.38231171522935936,
          0.0011614827264287669,
          -0.4708595971441523,
          -0.8742006274971373,
          -0.6730877121502794,
          -0.18066772579381052,
          -0.27707753436335925,
          -0.8311818144604303,
          -0.54032385588944,
          -1.8401344648761733,
          0.16266105089998342,
          0.09390715882090143,
          0.5443381320463838,
          -0.15942487090805085,
          0.17096342991555344,
          -0.791587713453854,
          0.2767600306943042,
          -0.3081883246711343,
          0.8162952950759522,
          1.0546222185090566,
          0.4958770191758763,
          -0.8996926252469384,
          -0.14447353340884067,
          0.5370937172738751,
          0.04679568175798408,
          1.4700199846029227,
          2.163977718182096,
          1.3594091272542879,
          1.5666820681369718,
          0.31148139713494793,
          -0.4154598450065224,
          0.7621844269375827
         ],
         "type": "scatter"
        }
       ],
       "layout": {
        "template": {
         "data": {
          "histogram2dcontour": [
           {
            "type": "histogram2dcontour",
            "colorbar": {
             "outlinewidth": 0,
             "tickcolor": "rgb(237,237,237)",
             "ticklen": 6,
             "ticks": "inside"
            },
            "colorscale": [
             [
              0,
              "rgb(20,44,66)"
             ],
             [
              1,
              "rgb(90,179,244)"
             ]
            ]
           }
          ],
          "choropleth": [
           {
            "type": "choropleth",
            "colorbar": {
             "outlinewidth": 0,
             "tickcolor": "rgb(237,237,237)",
             "ticklen": 6,
             "ticks": "inside"
            }
           }
          ],
          "histogram2d": [
           {
            "type": "histogram2d",
            "colorbar": {
             "outlinewidth": 0,
             "tickcolor": "rgb(237,237,237)",
             "ticklen": 6,
             "ticks": "inside"
            },
            "colorscale": [
             [
              0,
              "rgb(20,44,66)"
             ],
             [
              1,
              "rgb(90,179,244)"
             ]
            ]
           }
          ],
          "heatmap": [
           {
            "type": "heatmap",
            "colorbar": {
             "outlinewidth": 0,
             "tickcolor": "rgb(237,237,237)",
             "ticklen": 6,
             "ticks": "inside"
            },
            "colorscale": [
             [
              0,
              "rgb(20,44,66)"
             ],
             [
              1,
              "rgb(90,179,244)"
             ]
            ]
           }
          ],
          "heatmapgl": [
           {
            "type": "heatmapgl",
            "colorbar": {
             "outlinewidth": 0,
             "tickcolor": "rgb(237,237,237)",
             "ticklen": 6,
             "ticks": "inside"
            },
            "colorscale": [
             [
              0,
              "rgb(20,44,66)"
             ],
             [
              1,
              "rgb(90,179,244)"
             ]
            ]
           }
          ],
          "contourcarpet": [
           {
            "type": "contourcarpet",
            "colorbar": {
             "outlinewidth": 0,
             "tickcolor": "rgb(237,237,237)",
             "ticklen": 6,
             "ticks": "inside"
            }
           }
          ],
          "contour": [
           {
            "type": "contour",
            "colorbar": {
             "outlinewidth": 0,
             "tickcolor": "rgb(237,237,237)",
             "ticklen": 6,
             "ticks": "inside"
            },
            "colorscale": [
             [
              0,
              "rgb(20,44,66)"
             ],
             [
              1,
              "rgb(90,179,244)"
             ]
            ]
           }
          ],
          "surface": [
           {
            "type": "surface",
            "colorbar": {
             "outlinewidth": 0,
             "tickcolor": "rgb(237,237,237)",
             "ticklen": 6,
             "ticks": "inside"
            },
            "colorscale": [
             [
              0,
              "rgb(20,44,66)"
             ],
             [
              1,
              "rgb(90,179,244)"
             ]
            ]
           }
          ],
          "mesh3d": [
           {
            "type": "mesh3d",
            "colorbar": {
             "outlinewidth": 0,
             "tickcolor": "rgb(237,237,237)",
             "ticklen": 6,
             "ticks": "inside"
            }
           }
          ],
          "scatter": [
           {
            "fillpattern": {
             "fillmode": "overlay",
             "size": 10,
             "solidity": 0.2
            },
            "type": "scatter"
           }
          ],
          "parcoords": [
           {
            "type": "parcoords",
            "line": {
             "colorbar": {
              "outlinewidth": 0,
              "tickcolor": "rgb(237,237,237)",
              "ticklen": 6,
              "ticks": "inside"
             }
            }
           }
          ],
          "scatterpolargl": [
           {
            "type": "scatterpolargl",
            "marker": {
             "colorbar": {
              "outlinewidth": 0,
              "tickcolor": "rgb(237,237,237)",
              "ticklen": 6,
              "ticks": "inside"
             }
            }
           }
          ],
          "bar": [
           {
            "error_x": {
             "color": "rgb(51,51,51)"
            },
            "error_y": {
             "color": "rgb(51,51,51)"
            },
            "marker": {
             "line": {
              "color": "rgb(237,237,237)",
              "width": 0.5
             },
             "pattern": {
              "fillmode": "overlay",
              "size": 10,
              "solidity": 0.2
             }
            },
            "type": "bar"
           }
          ],
          "scattergeo": [
           {
            "type": "scattergeo",
            "marker": {
             "colorbar": {
              "outlinewidth": 0,
              "tickcolor": "rgb(237,237,237)",
              "ticklen": 6,
              "ticks": "inside"
             }
            }
           }
          ],
          "scatterpolar": [
           {
            "type": "scatterpolar",
            "marker": {
             "colorbar": {
              "outlinewidth": 0,
              "tickcolor": "rgb(237,237,237)",
              "ticklen": 6,
              "ticks": "inside"
             }
            }
           }
          ],
          "histogram": [
           {
            "marker": {
             "pattern": {
              "fillmode": "overlay",
              "size": 10,
              "solidity": 0.2
             }
            },
            "type": "histogram"
           }
          ],
          "scattergl": [
           {
            "type": "scattergl",
            "marker": {
             "colorbar": {
              "outlinewidth": 0,
              "tickcolor": "rgb(237,237,237)",
              "ticklen": 6,
              "ticks": "inside"
             }
            }
           }
          ],
          "scatter3d": [
           {
            "type": "scatter3d",
            "line": {
             "colorbar": {
              "outlinewidth": 0,
              "tickcolor": "rgb(237,237,237)",
              "ticklen": 6,
              "ticks": "inside"
             }
            },
            "marker": {
             "colorbar": {
              "outlinewidth": 0,
              "tickcolor": "rgb(237,237,237)",
              "ticklen": 6,
              "ticks": "inside"
             }
            }
           }
          ],
          "scattermapbox": [
           {
            "type": "scattermapbox",
            "marker": {
             "colorbar": {
              "outlinewidth": 0,
              "tickcolor": "rgb(237,237,237)",
              "ticklen": 6,
              "ticks": "inside"
             }
            }
           }
          ],
          "scatterternary": [
           {
            "type": "scatterternary",
            "marker": {
             "colorbar": {
              "outlinewidth": 0,
              "tickcolor": "rgb(237,237,237)",
              "ticklen": 6,
              "ticks": "inside"
             }
            }
           }
          ],
          "scattercarpet": [
           {
            "type": "scattercarpet",
            "marker": {
             "colorbar": {
              "outlinewidth": 0,
              "tickcolor": "rgb(237,237,237)",
              "ticklen": 6,
              "ticks": "inside"
             }
            }
           }
          ],
          "carpet": [
           {
            "aaxis": {
             "endlinecolor": "rgb(51,51,51)",
             "gridcolor": "white",
             "linecolor": "white",
             "minorgridcolor": "white",
             "startlinecolor": "rgb(51,51,51)"
            },
            "baxis": {
             "endlinecolor": "rgb(51,51,51)",
             "gridcolor": "white",
             "linecolor": "white",
             "minorgridcolor": "white",
             "startlinecolor": "rgb(51,51,51)"
            },
            "type": "carpet"
           }
          ],
          "table": [
           {
            "cells": {
             "fill": {
              "color": "rgb(237,237,237)"
             },
             "line": {
              "color": "white"
             }
            },
            "header": {
             "fill": {
              "color": "rgb(217,217,217)"
             },
             "line": {
              "color": "white"
             }
            },
            "type": "table"
           }
          ],
          "barpolar": [
           {
            "marker": {
             "line": {
              "color": "rgb(237,237,237)",
              "width": 0.5
             },
             "pattern": {
              "fillmode": "overlay",
              "size": 10,
              "solidity": 0.2
             }
            },
            "type": "barpolar"
           }
          ],
          "pie": [
           {
            "automargin": true,
            "type": "pie"
           }
          ]
         },
         "layout": {
          "autotypenumbers": "strict",
          "colorway": [
           "#F8766D",
           "#A3A500",
           "#00BF7D",
           "#00B0F6",
           "#E76BF3"
          ],
          "font": {
           "color": "rgb(51,51,51)"
          },
          "hovermode": "closest",
          "hoverlabel": {
           "align": "left"
          },
          "paper_bgcolor": "white",
          "plot_bgcolor": "rgb(237,237,237)",
          "polar": {
           "bgcolor": "rgb(237,237,237)",
           "angularaxis": {
            "gridcolor": "white",
            "linecolor": "white",
            "showgrid": true,
            "tickcolor": "rgb(51,51,51)",
            "ticks": "outside"
           },
           "radialaxis": {
            "gridcolor": "white",
            "linecolor": "white",
            "showgrid": true,
            "tickcolor": "rgb(51,51,51)",
            "ticks": "outside"
           }
          },
          "ternary": {
           "bgcolor": "rgb(237,237,237)",
           "aaxis": {
            "gridcolor": "white",
            "linecolor": "white",
            "showgrid": true,
            "tickcolor": "rgb(51,51,51)",
            "ticks": "outside"
           },
           "baxis": {
            "gridcolor": "white",
            "linecolor": "white",
            "showgrid": true,
            "tickcolor": "rgb(51,51,51)",
            "ticks": "outside"
           },
           "caxis": {
            "gridcolor": "white",
            "linecolor": "white",
            "showgrid": true,
            "tickcolor": "rgb(51,51,51)",
            "ticks": "outside"
           }
          },
          "coloraxis": {
           "colorbar": {
            "outlinewidth": 0,
            "tickcolor": "rgb(237,237,237)",
            "ticklen": 6,
            "ticks": "inside"
           }
          },
          "colorscale": {
           "sequential": [
            [
             0,
             "rgb(20,44,66)"
            ],
            [
             1,
             "rgb(90,179,244)"
            ]
           ],
           "sequentialminus": [
            [
             0,
             "rgb(20,44,66)"
            ],
            [
             1,
             "rgb(90,179,244)"
            ]
           ]
          },
          "xaxis": {
           "gridcolor": "white",
           "linecolor": "white",
           "showgrid": true,
           "tickcolor": "rgb(51,51,51)",
           "ticks": "outside",
           "title": {
            "standoff": 15
           },
           "zerolinecolor": "white",
           "automargin": true
          },
          "yaxis": {
           "gridcolor": "white",
           "linecolor": "white",
           "showgrid": true,
           "tickcolor": "rgb(51,51,51)",
           "ticks": "outside",
           "title": {
            "standoff": 15
           },
           "zerolinecolor": "white",
           "automargin": true
          },
          "scene": {
           "xaxis": {
            "backgroundcolor": "rgb(237,237,237)",
            "gridcolor": "white",
            "linecolor": "white",
            "showbackground": true,
            "showgrid": true,
            "tickcolor": "rgb(51,51,51)",
            "ticks": "outside",
            "zerolinecolor": "white",
            "gridwidth": 2
           },
           "yaxis": {
            "backgroundcolor": "rgb(237,237,237)",
            "gridcolor": "white",
            "linecolor": "white",
            "showbackground": true,
            "showgrid": true,
            "tickcolor": "rgb(51,51,51)",
            "ticks": "outside",
            "zerolinecolor": "white",
            "gridwidth": 2
           },
           "zaxis": {
            "backgroundcolor": "rgb(237,237,237)",
            "gridcolor": "white",
            "linecolor": "white",
            "showbackground": true,
            "showgrid": true,
            "tickcolor": "rgb(51,51,51)",
            "ticks": "outside",
            "zerolinecolor": "white",
            "gridwidth": 2
           }
          },
          "shapedefaults": {
           "fillcolor": "black",
           "line": {
            "width": 0
           },
           "opacity": 0.3
          },
          "annotationdefaults": {
           "arrowhead": 0,
           "arrowwidth": 1
          },
          "geo": {
           "bgcolor": "white",
           "landcolor": "rgb(237,237,237)",
           "subunitcolor": "white",
           "showland": true,
           "showlakes": true,
           "lakecolor": "white"
          }
         }
        },
        "xaxis": {
         "anchor": "y",
         "domain": [
          0.0,
          1.0
         ],
         "title": {
          "text": "x"
         }
        },
        "yaxis": {
         "anchor": "x",
         "domain": [
          0.0,
          1.0
         ],
         "title": {
          "text": "y"
         }
        },
        "legend": {
         "tracegroupgap": 0
        },
        "margin": {
         "t": 60
        }
       },
       "config": {
        "plotlyServerURL": "https://plot.ly"
       }
      },
      "text/html": "<div>                            <div id=\"c5e09186-1cad-4f7f-b3da-2569e0feaa5d\" class=\"plotly-graph-div\" style=\"height:525px; width:100%;\"></div>            <script type=\"text/javascript\">                require([\"plotly\"], function(Plotly) {                    window.PLOTLYENV=window.PLOTLYENV || {};                                    if (document.getElementById(\"c5e09186-1cad-4f7f-b3da-2569e0feaa5d\")) {                    Plotly.newPlot(                        \"c5e09186-1cad-4f7f-b3da-2569e0feaa5d\",                        [{\"hovertemplate\":\"x=%{x}<br>y=%{y}<extra></extra>\",\"legendgroup\":\"\",\"marker\":{\"color\":\"black\",\"symbol\":\"x-thin\",\"line\":{\"width\":2},\"size\":12},\"mode\":\"markers\",\"name\":\"\",\"orientation\":\"v\",\"showlegend\":false,\"x\":[-0.28170816140865856,-0.8993801967723051,1.0349577004888164],\"xaxis\":\"x\",\"y\":[0.9412067005595708,-1.0858258451220693,-0.06841404890298726],\"yaxis\":\"y\",\"type\":\"scatter\"},{\"marker\":{\"color\":[1,2,0,2,1,2,0,2,2,0,0,1,1,0,0,1,1,0,1,1,0,1,1,0,0,0,2,1,1,1,1,2,2,1,2,0,0,0,2,2,1,0,2,0,0,0,1,1,1,2,0,2,0,1,0,1,0,2,2,0,1,2,1,0,0,1,0,1,2,2,2,1,1,2,2,1,2,1,2,0,0,2,2,2,0,2,2,0,0,2,2,2,0,2,0,0,0,2,2,0]},\"mode\":\"markers\",\"x\":[-1.4089664241100899,1.7285075355782258,-0.4185422913938499,2.1948906327449773,-0.4556012580889037,0.3006901508674825,0.2152013028271304,0.9107904715580717,1.1614816746495595,-0.9579303564902916,-0.477828463106189,-0.5587488420149302,-0.3256814843492299,-0.9225853244097668,0.5374820561259339,-1.5863293052153729,-0.5197850957269213,-0.10396937375181264,-1.4383004875650922,-0.36422819711987514,-0.4137487242793377,-0.7997940215513534,-1.0921659703745399,0.23904939880237897,-0.07533149755584667,-0.41154934779824803,-0.035544862013969246,-0.2435877595762251,-1.5101832877373624,-1.7177560048938378,-1.276977175005518,1.3190139541738297,0.9324056896287973,0.17819805522638166,1.2028902953572156,-0.5223522222355187,0.006468173352872887,0.20951912077017043,1.8091442952458505,1.1572737171397298,-1.8291277243008404,-0.42621923493262365,1.0571770759054055,-1.0981692602995599,-0.13850677697764838,0.24388988265049474,-2.011013808197331,-0.6017079396783577,-0.7284815658403813,0.4447677835138656,-0.9887464224489889,1.088696733825581,0.5960962110300835,-0.5330877839744924,-0.0881527545015717,-0.9156314308680001,-0.848581740444775,0.14452393905324862,2.254328284116404,-1.4121624563812762,-0.5068198270516349,0.5290100776752873,-0.9329842242129207,-0.43396094570726285,-0.9482344420147713,-0.569327507601305,1.1323188640420903,-1.4427777125289059,0.6653712099621992,1.288487834550556,0.8134084370650483,-0.5405194509564674,-1.6816285376574398,0.22497954990123162,1.1635187199874437,0.023691707360966735,1.7107115782432918,-0.6927026427868747,2.5774706947869377,-0.14262220137784162,0.23923967874121435,0.46474421623036016,0.6040258151845407,0.7378945108024446,-0.05765936721754241,0.11832800601036754,1.1130100805113596,0.3569717840084694,-1.2171525752175805,0.7743158650444238,1.1535430547758752,1.989136305961071,-0.7656322508098612,1.5491174802229206,-0.523197428879702,-0.5827266147732845,0.7690071251235893,0.9570001850729571,0.11840852377597776,-0.7111753351809885],\"y\":[-2.081308121053254,-0.7488115153780416,1.3145851105821122,-0.8597016938190202,-0.7351969156279881,-0.3178195878213492,1.595389291012644,0.2810404714854686,0.6776381055827144,1.2063699409973139,1.034654909548729,-0.25116058628082993,-0.9062792562764631,0.18694130103961587,1.0738558046881126,-0.7859847349280165,-0.5624291279354099,1.613540223531761,-0.9991875039520717,-1.146114772201818,0.6606780803111236,-0.8776353990292922,-0.5434819457755342,1.960182337308882,1.9774378553442726,1.6482945557081732,-0.2233595098998052,-1.654776087275825,-0.5884343360965578,-1.9552398141999403,-0.9482592906369071,0.21874435035134382,0.24500470666797447,-1.6311207704527233,1.4604232795658056,0.7735457962307,0.03872504951229019,0.7129804539121348,0.262647188774355,-1.2395577849280437,-1.707091438202646,0.8423126168393194,-0.7084817956706401,1.0903887720295395,0.7674431561684523,0.35658125249962724,-0.9791422246381245,-0.8489927718319316,-0.15622129851996372,-0.2759629624296537,0.5824710776026887,-0.10269503583203866,1.842281675669891,-0.5918467315538084,0.13124577230824772,-0.6358316352026817,1.1665172760784674,-0.27810305727853635,-0.2866722655008118,0.5980573848359839,-1.562161902224671,-0.1630570524471955,-1.5877041248912067,0.032246889151135445,0.6652306214575388,-1.9067829942256995,1.6469304342603537,-1.6279611065426214,0.38231171522935936,0.0011614827264287669,-0.4708595971441523,-0.8742006274971373,-0.6730877121502794,-0.18066772579381052,-0.27707753436335925,-0.8311818144604303,-0.54032385588944,-1.8401344648761733,0.16266105089998342,0.09390715882090143,0.5443381320463838,-0.15942487090805085,0.17096342991555344,-0.791587713453854,0.2767600306943042,-0.3081883246711343,0.8162952950759522,1.0546222185090566,0.4958770191758763,-0.8996926252469384,-0.14447353340884067,0.5370937172738751,0.04679568175798408,1.4700199846029227,2.163977718182096,1.3594091272542879,1.5666820681369718,0.31148139713494793,-0.4154598450065224,0.7621844269375827],\"type\":\"scatter\"}],                        {\"template\":{\"data\":{\"histogram2dcontour\":[{\"type\":\"histogram2dcontour\",\"colorbar\":{\"outlinewidth\":0,\"tickcolor\":\"rgb(237,237,237)\",\"ticklen\":6,\"ticks\":\"inside\"},\"colorscale\":[[0,\"rgb(20,44,66)\"],[1,\"rgb(90,179,244)\"]]}],\"choropleth\":[{\"type\":\"choropleth\",\"colorbar\":{\"outlinewidth\":0,\"tickcolor\":\"rgb(237,237,237)\",\"ticklen\":6,\"ticks\":\"inside\"}}],\"histogram2d\":[{\"type\":\"histogram2d\",\"colorbar\":{\"outlinewidth\":0,\"tickcolor\":\"rgb(237,237,237)\",\"ticklen\":6,\"ticks\":\"inside\"},\"colorscale\":[[0,\"rgb(20,44,66)\"],[1,\"rgb(90,179,244)\"]]}],\"heatmap\":[{\"type\":\"heatmap\",\"colorbar\":{\"outlinewidth\":0,\"tickcolor\":\"rgb(237,237,237)\",\"ticklen\":6,\"ticks\":\"inside\"},\"colorscale\":[[0,\"rgb(20,44,66)\"],[1,\"rgb(90,179,244)\"]]}],\"heatmapgl\":[{\"type\":\"heatmapgl\",\"colorbar\":{\"outlinewidth\":0,\"tickcolor\":\"rgb(237,237,237)\",\"ticklen\":6,\"ticks\":\"inside\"},\"colorscale\":[[0,\"rgb(20,44,66)\"],[1,\"rgb(90,179,244)\"]]}],\"contourcarpet\":[{\"type\":\"contourcarpet\",\"colorbar\":{\"outlinewidth\":0,\"tickcolor\":\"rgb(237,237,237)\",\"ticklen\":6,\"ticks\":\"inside\"}}],\"contour\":[{\"type\":\"contour\",\"colorbar\":{\"outlinewidth\":0,\"tickcolor\":\"rgb(237,237,237)\",\"ticklen\":6,\"ticks\":\"inside\"},\"colorscale\":[[0,\"rgb(20,44,66)\"],[1,\"rgb(90,179,244)\"]]}],\"surface\":[{\"type\":\"surface\",\"colorbar\":{\"outlinewidth\":0,\"tickcolor\":\"rgb(237,237,237)\",\"ticklen\":6,\"ticks\":\"inside\"},\"colorscale\":[[0,\"rgb(20,44,66)\"],[1,\"rgb(90,179,244)\"]]}],\"mesh3d\":[{\"type\":\"mesh3d\",\"colorbar\":{\"outlinewidth\":0,\"tickcolor\":\"rgb(237,237,237)\",\"ticklen\":6,\"ticks\":\"inside\"}}],\"scatter\":[{\"fillpattern\":{\"fillmode\":\"overlay\",\"size\":10,\"solidity\":0.2},\"type\":\"scatter\"}],\"parcoords\":[{\"type\":\"parcoords\",\"line\":{\"colorbar\":{\"outlinewidth\":0,\"tickcolor\":\"rgb(237,237,237)\",\"ticklen\":6,\"ticks\":\"inside\"}}}],\"scatterpolargl\":[{\"type\":\"scatterpolargl\",\"marker\":{\"colorbar\":{\"outlinewidth\":0,\"tickcolor\":\"rgb(237,237,237)\",\"ticklen\":6,\"ticks\":\"inside\"}}}],\"bar\":[{\"error_x\":{\"color\":\"rgb(51,51,51)\"},\"error_y\":{\"color\":\"rgb(51,51,51)\"},\"marker\":{\"line\":{\"color\":\"rgb(237,237,237)\",\"width\":0.5},\"pattern\":{\"fillmode\":\"overlay\",\"size\":10,\"solidity\":0.2}},\"type\":\"bar\"}],\"scattergeo\":[{\"type\":\"scattergeo\",\"marker\":{\"colorbar\":{\"outlinewidth\":0,\"tickcolor\":\"rgb(237,237,237)\",\"ticklen\":6,\"ticks\":\"inside\"}}}],\"scatterpolar\":[{\"type\":\"scatterpolar\",\"marker\":{\"colorbar\":{\"outlinewidth\":0,\"tickcolor\":\"rgb(237,237,237)\",\"ticklen\":6,\"ticks\":\"inside\"}}}],\"histogram\":[{\"marker\":{\"pattern\":{\"fillmode\":\"overlay\",\"size\":10,\"solidity\":0.2}},\"type\":\"histogram\"}],\"scattergl\":[{\"type\":\"scattergl\",\"marker\":{\"colorbar\":{\"outlinewidth\":0,\"tickcolor\":\"rgb(237,237,237)\",\"ticklen\":6,\"ticks\":\"inside\"}}}],\"scatter3d\":[{\"type\":\"scatter3d\",\"line\":{\"colorbar\":{\"outlinewidth\":0,\"tickcolor\":\"rgb(237,237,237)\",\"ticklen\":6,\"ticks\":\"inside\"}},\"marker\":{\"colorbar\":{\"outlinewidth\":0,\"tickcolor\":\"rgb(237,237,237)\",\"ticklen\":6,\"ticks\":\"inside\"}}}],\"scattermapbox\":[{\"type\":\"scattermapbox\",\"marker\":{\"colorbar\":{\"outlinewidth\":0,\"tickcolor\":\"rgb(237,237,237)\",\"ticklen\":6,\"ticks\":\"inside\"}}}],\"scatterternary\":[{\"type\":\"scatterternary\",\"marker\":{\"colorbar\":{\"outlinewidth\":0,\"tickcolor\":\"rgb(237,237,237)\",\"ticklen\":6,\"ticks\":\"inside\"}}}],\"scattercarpet\":[{\"type\":\"scattercarpet\",\"marker\":{\"colorbar\":{\"outlinewidth\":0,\"tickcolor\":\"rgb(237,237,237)\",\"ticklen\":6,\"ticks\":\"inside\"}}}],\"carpet\":[{\"aaxis\":{\"endlinecolor\":\"rgb(51,51,51)\",\"gridcolor\":\"white\",\"linecolor\":\"white\",\"minorgridcolor\":\"white\",\"startlinecolor\":\"rgb(51,51,51)\"},\"baxis\":{\"endlinecolor\":\"rgb(51,51,51)\",\"gridcolor\":\"white\",\"linecolor\":\"white\",\"minorgridcolor\":\"white\",\"startlinecolor\":\"rgb(51,51,51)\"},\"type\":\"carpet\"}],\"table\":[{\"cells\":{\"fill\":{\"color\":\"rgb(237,237,237)\"},\"line\":{\"color\":\"white\"}},\"header\":{\"fill\":{\"color\":\"rgb(217,217,217)\"},\"line\":{\"color\":\"white\"}},\"type\":\"table\"}],\"barpolar\":[{\"marker\":{\"line\":{\"color\":\"rgb(237,237,237)\",\"width\":0.5},\"pattern\":{\"fillmode\":\"overlay\",\"size\":10,\"solidity\":0.2}},\"type\":\"barpolar\"}],\"pie\":[{\"automargin\":true,\"type\":\"pie\"}]},\"layout\":{\"autotypenumbers\":\"strict\",\"colorway\":[\"#F8766D\",\"#A3A500\",\"#00BF7D\",\"#00B0F6\",\"#E76BF3\"],\"font\":{\"color\":\"rgb(51,51,51)\"},\"hovermode\":\"closest\",\"hoverlabel\":{\"align\":\"left\"},\"paper_bgcolor\":\"white\",\"plot_bgcolor\":\"rgb(237,237,237)\",\"polar\":{\"bgcolor\":\"rgb(237,237,237)\",\"angularaxis\":{\"gridcolor\":\"white\",\"linecolor\":\"white\",\"showgrid\":true,\"tickcolor\":\"rgb(51,51,51)\",\"ticks\":\"outside\"},\"radialaxis\":{\"gridcolor\":\"white\",\"linecolor\":\"white\",\"showgrid\":true,\"tickcolor\":\"rgb(51,51,51)\",\"ticks\":\"outside\"}},\"ternary\":{\"bgcolor\":\"rgb(237,237,237)\",\"aaxis\":{\"gridcolor\":\"white\",\"linecolor\":\"white\",\"showgrid\":true,\"tickcolor\":\"rgb(51,51,51)\",\"ticks\":\"outside\"},\"baxis\":{\"gridcolor\":\"white\",\"linecolor\":\"white\",\"showgrid\":true,\"tickcolor\":\"rgb(51,51,51)\",\"ticks\":\"outside\"},\"caxis\":{\"gridcolor\":\"white\",\"linecolor\":\"white\",\"showgrid\":true,\"tickcolor\":\"rgb(51,51,51)\",\"ticks\":\"outside\"}},\"coloraxis\":{\"colorbar\":{\"outlinewidth\":0,\"tickcolor\":\"rgb(237,237,237)\",\"ticklen\":6,\"ticks\":\"inside\"}},\"colorscale\":{\"sequential\":[[0,\"rgb(20,44,66)\"],[1,\"rgb(90,179,244)\"]],\"sequentialminus\":[[0,\"rgb(20,44,66)\"],[1,\"rgb(90,179,244)\"]]},\"xaxis\":{\"gridcolor\":\"white\",\"linecolor\":\"white\",\"showgrid\":true,\"tickcolor\":\"rgb(51,51,51)\",\"ticks\":\"outside\",\"title\":{\"standoff\":15},\"zerolinecolor\":\"white\",\"automargin\":true},\"yaxis\":{\"gridcolor\":\"white\",\"linecolor\":\"white\",\"showgrid\":true,\"tickcolor\":\"rgb(51,51,51)\",\"ticks\":\"outside\",\"title\":{\"standoff\":15},\"zerolinecolor\":\"white\",\"automargin\":true},\"scene\":{\"xaxis\":{\"backgroundcolor\":\"rgb(237,237,237)\",\"gridcolor\":\"white\",\"linecolor\":\"white\",\"showbackground\":true,\"showgrid\":true,\"tickcolor\":\"rgb(51,51,51)\",\"ticks\":\"outside\",\"zerolinecolor\":\"white\",\"gridwidth\":2},\"yaxis\":{\"backgroundcolor\":\"rgb(237,237,237)\",\"gridcolor\":\"white\",\"linecolor\":\"white\",\"showbackground\":true,\"showgrid\":true,\"tickcolor\":\"rgb(51,51,51)\",\"ticks\":\"outside\",\"zerolinecolor\":\"white\",\"gridwidth\":2},\"zaxis\":{\"backgroundcolor\":\"rgb(237,237,237)\",\"gridcolor\":\"white\",\"linecolor\":\"white\",\"showbackground\":true,\"showgrid\":true,\"tickcolor\":\"rgb(51,51,51)\",\"ticks\":\"outside\",\"zerolinecolor\":\"white\",\"gridwidth\":2}},\"shapedefaults\":{\"fillcolor\":\"black\",\"line\":{\"width\":0},\"opacity\":0.3},\"annotationdefaults\":{\"arrowhead\":0,\"arrowwidth\":1},\"geo\":{\"bgcolor\":\"white\",\"landcolor\":\"rgb(237,237,237)\",\"subunitcolor\":\"white\",\"showland\":true,\"showlakes\":true,\"lakecolor\":\"white\"}}},\"xaxis\":{\"anchor\":\"y\",\"domain\":[0.0,1.0],\"title\":{\"text\":\"x\"}},\"yaxis\":{\"anchor\":\"x\",\"domain\":[0.0,1.0],\"title\":{\"text\":\"y\"}},\"legend\":{\"tracegroupgap\":0},\"margin\":{\"t\":60}},                        {\"responsive\": true}                    ).then(function(){\n                            \nvar gd = document.getElementById('c5e09186-1cad-4f7f-b3da-2569e0feaa5d');\nvar x = new MutationObserver(function (mutations, observer) {{\n        var display = window.getComputedStyle(gd).display;\n        if (!display || display === 'none') {{\n            console.log([gd, 'removed!']);\n            Plotly.purge(gd);\n            observer.disconnect();\n        }}\n}});\n\n// Listen for the removal of the full notebook cells\nvar notebookContainer = gd.closest('#notebook-container');\nif (notebookContainer) {{\n    x.observe(notebookContainer, {childList: true});\n}}\n\n// Listen for the clearing of the current output cell\nvar outputEl = gd.closest('.output');\nif (outputEl) {{\n    x.observe(outputEl, {childList: true});\n}}\n\n                        })                };                });            </script>        </div>"
     },
     "metadata": {},
     "output_type": "display_data"
    }
   ],
   "source": [
    "fig = px.scatter(x=kmeans.centroids[:, 0], y=kmeans.centroids[:, 1])\n",
    "fig.update_traces(mode='markers', marker_size=12, marker_color='black', marker_symbol='x-thin', marker_line_width=2)\n",
    "fig.add_scatter(x=x_train_scaled[:, 0], y=x_train_scaled[:, 1], marker_color=kmeans.labels, mode='markers')\n",
    "fig.show()"
   ],
   "metadata": {
    "collapsed": false
   }
  },
  {
   "cell_type": "code",
   "execution_count": 43,
   "outputs": [],
   "source": [
    "kmeans = RobustKMeans(n_clusters=n_clusters, max_iter=300)\n",
    "kmeans.fit(x_train_scaled, n=1000)"
   ],
   "metadata": {
    "collapsed": false
   }
  },
  {
   "cell_type": "code",
   "execution_count": 44,
   "outputs": [
    {
     "data": {
      "text/plain": "(69.94907952139823, 0.84)"
     },
     "execution_count": 44,
     "metadata": {},
     "output_type": "execute_result"
    }
   ],
   "source": [
    "kmeans.inertia, kmeans.score(true_labels)"
   ],
   "metadata": {
    "collapsed": false
   }
  },
  {
   "cell_type": "code",
   "execution_count": 45,
   "outputs": [
    {
     "data": {
      "application/vnd.plotly.v1+json": {
       "data": [
        {
         "hovertemplate": "x=%{x}<br>y=%{y}<extra></extra>",
         "legendgroup": "",
         "marker": {
          "color": "black",
          "symbol": "x-thin",
          "line": {
           "width": 2
          },
          "size": 12
         },
         "mode": "markers",
         "name": "",
         "orientation": "v",
         "showlegend": false,
         "x": [
          -0.2817296356891765,
          1.0351173595666832,
          -0.8990042987523258
         ],
         "xaxis": "x",
         "y": [
          0.9423401810247165,
          -0.0698220955340314,
          -1.0867031864745689
         ],
         "yaxis": "y",
         "type": "scatter"
        },
        {
         "marker": {
          "color": [
           2,
           1,
           0,
           1,
           2,
           1,
           0,
           1,
           1,
           0,
           0,
           2,
           2,
           0,
           0,
           2,
           2,
           0,
           2,
           2,
           0,
           2,
           2,
           0,
           0,
           0,
           1,
           2,
           2,
           2,
           2,
           1,
           1,
           2,
           1,
           0,
           0,
           0,
           1,
           1,
           2,
           0,
           1,
           0,
           0,
           0,
           2,
           2,
           2,
           1,
           0,
           1,
           0,
           2,
           0,
           2,
           0,
           1,
           1,
           0,
           2,
           1,
           2,
           0,
           0,
           2,
           0,
           2,
           1,
           1,
           1,
           2,
           2,
           1,
           1,
           2,
           1,
           2,
           1,
           0,
           0,
           1,
           1,
           1,
           0,
           1,
           1,
           0,
           0,
           1,
           1,
           1,
           0,
           1,
           0,
           0,
           0,
           1,
           1,
           0
          ]
         },
         "mode": "markers",
         "x": [
          -1.4089664241100899,
          1.7285075355782258,
          -0.4185422913938499,
          2.1948906327449773,
          -0.4556012580889037,
          0.3006901508674825,
          0.2152013028271304,
          0.9107904715580717,
          1.1614816746495595,
          -0.9579303564902916,
          -0.477828463106189,
          -0.5587488420149302,
          -0.3256814843492299,
          -0.9225853244097668,
          0.5374820561259339,
          -1.5863293052153729,
          -0.5197850957269213,
          -0.10396937375181264,
          -1.4383004875650922,
          -0.36422819711987514,
          -0.4137487242793377,
          -0.7997940215513534,
          -1.0921659703745399,
          0.23904939880237897,
          -0.07533149755584667,
          -0.41154934779824803,
          -0.035544862013969246,
          -0.2435877595762251,
          -1.5101832877373624,
          -1.7177560048938378,
          -1.276977175005518,
          1.3190139541738297,
          0.9324056896287973,
          0.17819805522638166,
          1.2028902953572156,
          -0.5223522222355187,
          0.006468173352872887,
          0.20951912077017043,
          1.8091442952458505,
          1.1572737171397298,
          -1.8291277243008404,
          -0.42621923493262365,
          1.0571770759054055,
          -1.0981692602995599,
          -0.13850677697764838,
          0.24388988265049474,
          -2.011013808197331,
          -0.6017079396783577,
          -0.7284815658403813,
          0.4447677835138656,
          -0.9887464224489889,
          1.088696733825581,
          0.5960962110300835,
          -0.5330877839744924,
          -0.0881527545015717,
          -0.9156314308680001,
          -0.848581740444775,
          0.14452393905324862,
          2.254328284116404,
          -1.4121624563812762,
          -0.5068198270516349,
          0.5290100776752873,
          -0.9329842242129207,
          -0.43396094570726285,
          -0.9482344420147713,
          -0.569327507601305,
          1.1323188640420903,
          -1.4427777125289059,
          0.6653712099621992,
          1.288487834550556,
          0.8134084370650483,
          -0.5405194509564674,
          -1.6816285376574398,
          0.22497954990123162,
          1.1635187199874437,
          0.023691707360966735,
          1.7107115782432918,
          -0.6927026427868747,
          2.5774706947869377,
          -0.14262220137784162,
          0.23923967874121435,
          0.46474421623036016,
          0.6040258151845407,
          0.7378945108024446,
          -0.05765936721754241,
          0.11832800601036754,
          1.1130100805113596,
          0.3569717840084694,
          -1.2171525752175805,
          0.7743158650444238,
          1.1535430547758752,
          1.989136305961071,
          -0.7656322508098612,
          1.5491174802229206,
          -0.523197428879702,
          -0.5827266147732845,
          0.7690071251235893,
          0.9570001850729571,
          0.11840852377597776,
          -0.7111753351809885
         ],
         "y": [
          -2.081308121053254,
          -0.7488115153780416,
          1.3145851105821122,
          -0.8597016938190202,
          -0.7351969156279881,
          -0.3178195878213492,
          1.595389291012644,
          0.2810404714854686,
          0.6776381055827144,
          1.2063699409973139,
          1.034654909548729,
          -0.25116058628082993,
          -0.9062792562764631,
          0.18694130103961587,
          1.0738558046881126,
          -0.7859847349280165,
          -0.5624291279354099,
          1.613540223531761,
          -0.9991875039520717,
          -1.146114772201818,
          0.6606780803111236,
          -0.8776353990292922,
          -0.5434819457755342,
          1.960182337308882,
          1.9774378553442726,
          1.6482945557081732,
          -0.2233595098998052,
          -1.654776087275825,
          -0.5884343360965578,
          -1.9552398141999403,
          -0.9482592906369071,
          0.21874435035134382,
          0.24500470666797447,
          -1.6311207704527233,
          1.4604232795658056,
          0.7735457962307,
          0.03872504951229019,
          0.7129804539121348,
          0.262647188774355,
          -1.2395577849280437,
          -1.707091438202646,
          0.8423126168393194,
          -0.7084817956706401,
          1.0903887720295395,
          0.7674431561684523,
          0.35658125249962724,
          -0.9791422246381245,
          -0.8489927718319316,
          -0.15622129851996372,
          -0.2759629624296537,
          0.5824710776026887,
          -0.10269503583203866,
          1.842281675669891,
          -0.5918467315538084,
          0.13124577230824772,
          -0.6358316352026817,
          1.1665172760784674,
          -0.27810305727853635,
          -0.2866722655008118,
          0.5980573848359839,
          -1.562161902224671,
          -0.1630570524471955,
          -1.5877041248912067,
          0.032246889151135445,
          0.6652306214575388,
          -1.9067829942256995,
          1.6469304342603537,
          -1.6279611065426214,
          0.38231171522935936,
          0.0011614827264287669,
          -0.4708595971441523,
          -0.8742006274971373,
          -0.6730877121502794,
          -0.18066772579381052,
          -0.27707753436335925,
          -0.8311818144604303,
          -0.54032385588944,
          -1.8401344648761733,
          0.16266105089998342,
          0.09390715882090143,
          0.5443381320463838,
          -0.15942487090805085,
          0.17096342991555344,
          -0.791587713453854,
          0.2767600306943042,
          -0.3081883246711343,
          0.8162952950759522,
          1.0546222185090566,
          0.4958770191758763,
          -0.8996926252469384,
          -0.14447353340884067,
          0.5370937172738751,
          0.04679568175798408,
          1.4700199846029227,
          2.163977718182096,
          1.3594091272542879,
          1.5666820681369718,
          0.31148139713494793,
          -0.4154598450065224,
          0.7621844269375827
         ],
         "type": "scatter"
        }
       ],
       "layout": {
        "template": {
         "data": {
          "histogram2dcontour": [
           {
            "type": "histogram2dcontour",
            "colorbar": {
             "outlinewidth": 0,
             "tickcolor": "rgb(237,237,237)",
             "ticklen": 6,
             "ticks": "inside"
            },
            "colorscale": [
             [
              0,
              "rgb(20,44,66)"
             ],
             [
              1,
              "rgb(90,179,244)"
             ]
            ]
           }
          ],
          "choropleth": [
           {
            "type": "choropleth",
            "colorbar": {
             "outlinewidth": 0,
             "tickcolor": "rgb(237,237,237)",
             "ticklen": 6,
             "ticks": "inside"
            }
           }
          ],
          "histogram2d": [
           {
            "type": "histogram2d",
            "colorbar": {
             "outlinewidth": 0,
             "tickcolor": "rgb(237,237,237)",
             "ticklen": 6,
             "ticks": "inside"
            },
            "colorscale": [
             [
              0,
              "rgb(20,44,66)"
             ],
             [
              1,
              "rgb(90,179,244)"
             ]
            ]
           }
          ],
          "heatmap": [
           {
            "type": "heatmap",
            "colorbar": {
             "outlinewidth": 0,
             "tickcolor": "rgb(237,237,237)",
             "ticklen": 6,
             "ticks": "inside"
            },
            "colorscale": [
             [
              0,
              "rgb(20,44,66)"
             ],
             [
              1,
              "rgb(90,179,244)"
             ]
            ]
           }
          ],
          "heatmapgl": [
           {
            "type": "heatmapgl",
            "colorbar": {
             "outlinewidth": 0,
             "tickcolor": "rgb(237,237,237)",
             "ticklen": 6,
             "ticks": "inside"
            },
            "colorscale": [
             [
              0,
              "rgb(20,44,66)"
             ],
             [
              1,
              "rgb(90,179,244)"
             ]
            ]
           }
          ],
          "contourcarpet": [
           {
            "type": "contourcarpet",
            "colorbar": {
             "outlinewidth": 0,
             "tickcolor": "rgb(237,237,237)",
             "ticklen": 6,
             "ticks": "inside"
            }
           }
          ],
          "contour": [
           {
            "type": "contour",
            "colorbar": {
             "outlinewidth": 0,
             "tickcolor": "rgb(237,237,237)",
             "ticklen": 6,
             "ticks": "inside"
            },
            "colorscale": [
             [
              0,
              "rgb(20,44,66)"
             ],
             [
              1,
              "rgb(90,179,244)"
             ]
            ]
           }
          ],
          "surface": [
           {
            "type": "surface",
            "colorbar": {
             "outlinewidth": 0,
             "tickcolor": "rgb(237,237,237)",
             "ticklen": 6,
             "ticks": "inside"
            },
            "colorscale": [
             [
              0,
              "rgb(20,44,66)"
             ],
             [
              1,
              "rgb(90,179,244)"
             ]
            ]
           }
          ],
          "mesh3d": [
           {
            "type": "mesh3d",
            "colorbar": {
             "outlinewidth": 0,
             "tickcolor": "rgb(237,237,237)",
             "ticklen": 6,
             "ticks": "inside"
            }
           }
          ],
          "scatter": [
           {
            "fillpattern": {
             "fillmode": "overlay",
             "size": 10,
             "solidity": 0.2
            },
            "type": "scatter"
           }
          ],
          "parcoords": [
           {
            "type": "parcoords",
            "line": {
             "colorbar": {
              "outlinewidth": 0,
              "tickcolor": "rgb(237,237,237)",
              "ticklen": 6,
              "ticks": "inside"
             }
            }
           }
          ],
          "scatterpolargl": [
           {
            "type": "scatterpolargl",
            "marker": {
             "colorbar": {
              "outlinewidth": 0,
              "tickcolor": "rgb(237,237,237)",
              "ticklen": 6,
              "ticks": "inside"
             }
            }
           }
          ],
          "bar": [
           {
            "error_x": {
             "color": "rgb(51,51,51)"
            },
            "error_y": {
             "color": "rgb(51,51,51)"
            },
            "marker": {
             "line": {
              "color": "rgb(237,237,237)",
              "width": 0.5
             },
             "pattern": {
              "fillmode": "overlay",
              "size": 10,
              "solidity": 0.2
             }
            },
            "type": "bar"
           }
          ],
          "scattergeo": [
           {
            "type": "scattergeo",
            "marker": {
             "colorbar": {
              "outlinewidth": 0,
              "tickcolor": "rgb(237,237,237)",
              "ticklen": 6,
              "ticks": "inside"
             }
            }
           }
          ],
          "scatterpolar": [
           {
            "type": "scatterpolar",
            "marker": {
             "colorbar": {
              "outlinewidth": 0,
              "tickcolor": "rgb(237,237,237)",
              "ticklen": 6,
              "ticks": "inside"
             }
            }
           }
          ],
          "histogram": [
           {
            "marker": {
             "pattern": {
              "fillmode": "overlay",
              "size": 10,
              "solidity": 0.2
             }
            },
            "type": "histogram"
           }
          ],
          "scattergl": [
           {
            "type": "scattergl",
            "marker": {
             "colorbar": {
              "outlinewidth": 0,
              "tickcolor": "rgb(237,237,237)",
              "ticklen": 6,
              "ticks": "inside"
             }
            }
           }
          ],
          "scatter3d": [
           {
            "type": "scatter3d",
            "line": {
             "colorbar": {
              "outlinewidth": 0,
              "tickcolor": "rgb(237,237,237)",
              "ticklen": 6,
              "ticks": "inside"
             }
            },
            "marker": {
             "colorbar": {
              "outlinewidth": 0,
              "tickcolor": "rgb(237,237,237)",
              "ticklen": 6,
              "ticks": "inside"
             }
            }
           }
          ],
          "scattermapbox": [
           {
            "type": "scattermapbox",
            "marker": {
             "colorbar": {
              "outlinewidth": 0,
              "tickcolor": "rgb(237,237,237)",
              "ticklen": 6,
              "ticks": "inside"
             }
            }
           }
          ],
          "scatterternary": [
           {
            "type": "scatterternary",
            "marker": {
             "colorbar": {
              "outlinewidth": 0,
              "tickcolor": "rgb(237,237,237)",
              "ticklen": 6,
              "ticks": "inside"
             }
            }
           }
          ],
          "scattercarpet": [
           {
            "type": "scattercarpet",
            "marker": {
             "colorbar": {
              "outlinewidth": 0,
              "tickcolor": "rgb(237,237,237)",
              "ticklen": 6,
              "ticks": "inside"
             }
            }
           }
          ],
          "carpet": [
           {
            "aaxis": {
             "endlinecolor": "rgb(51,51,51)",
             "gridcolor": "white",
             "linecolor": "white",
             "minorgridcolor": "white",
             "startlinecolor": "rgb(51,51,51)"
            },
            "baxis": {
             "endlinecolor": "rgb(51,51,51)",
             "gridcolor": "white",
             "linecolor": "white",
             "minorgridcolor": "white",
             "startlinecolor": "rgb(51,51,51)"
            },
            "type": "carpet"
           }
          ],
          "table": [
           {
            "cells": {
             "fill": {
              "color": "rgb(237,237,237)"
             },
             "line": {
              "color": "white"
             }
            },
            "header": {
             "fill": {
              "color": "rgb(217,217,217)"
             },
             "line": {
              "color": "white"
             }
            },
            "type": "table"
           }
          ],
          "barpolar": [
           {
            "marker": {
             "line": {
              "color": "rgb(237,237,237)",
              "width": 0.5
             },
             "pattern": {
              "fillmode": "overlay",
              "size": 10,
              "solidity": 0.2
             }
            },
            "type": "barpolar"
           }
          ],
          "pie": [
           {
            "automargin": true,
            "type": "pie"
           }
          ]
         },
         "layout": {
          "autotypenumbers": "strict",
          "colorway": [
           "#F8766D",
           "#A3A500",
           "#00BF7D",
           "#00B0F6",
           "#E76BF3"
          ],
          "font": {
           "color": "rgb(51,51,51)"
          },
          "hovermode": "closest",
          "hoverlabel": {
           "align": "left"
          },
          "paper_bgcolor": "white",
          "plot_bgcolor": "rgb(237,237,237)",
          "polar": {
           "bgcolor": "rgb(237,237,237)",
           "angularaxis": {
            "gridcolor": "white",
            "linecolor": "white",
            "showgrid": true,
            "tickcolor": "rgb(51,51,51)",
            "ticks": "outside"
           },
           "radialaxis": {
            "gridcolor": "white",
            "linecolor": "white",
            "showgrid": true,
            "tickcolor": "rgb(51,51,51)",
            "ticks": "outside"
           }
          },
          "ternary": {
           "bgcolor": "rgb(237,237,237)",
           "aaxis": {
            "gridcolor": "white",
            "linecolor": "white",
            "showgrid": true,
            "tickcolor": "rgb(51,51,51)",
            "ticks": "outside"
           },
           "baxis": {
            "gridcolor": "white",
            "linecolor": "white",
            "showgrid": true,
            "tickcolor": "rgb(51,51,51)",
            "ticks": "outside"
           },
           "caxis": {
            "gridcolor": "white",
            "linecolor": "white",
            "showgrid": true,
            "tickcolor": "rgb(51,51,51)",
            "ticks": "outside"
           }
          },
          "coloraxis": {
           "colorbar": {
            "outlinewidth": 0,
            "tickcolor": "rgb(237,237,237)",
            "ticklen": 6,
            "ticks": "inside"
           }
          },
          "colorscale": {
           "sequential": [
            [
             0,
             "rgb(20,44,66)"
            ],
            [
             1,
             "rgb(90,179,244)"
            ]
           ],
           "sequentialminus": [
            [
             0,
             "rgb(20,44,66)"
            ],
            [
             1,
             "rgb(90,179,244)"
            ]
           ]
          },
          "xaxis": {
           "gridcolor": "white",
           "linecolor": "white",
           "showgrid": true,
           "tickcolor": "rgb(51,51,51)",
           "ticks": "outside",
           "title": {
            "standoff": 15
           },
           "zerolinecolor": "white",
           "automargin": true
          },
          "yaxis": {
           "gridcolor": "white",
           "linecolor": "white",
           "showgrid": true,
           "tickcolor": "rgb(51,51,51)",
           "ticks": "outside",
           "title": {
            "standoff": 15
           },
           "zerolinecolor": "white",
           "automargin": true
          },
          "scene": {
           "xaxis": {
            "backgroundcolor": "rgb(237,237,237)",
            "gridcolor": "white",
            "linecolor": "white",
            "showbackground": true,
            "showgrid": true,
            "tickcolor": "rgb(51,51,51)",
            "ticks": "outside",
            "zerolinecolor": "white",
            "gridwidth": 2
           },
           "yaxis": {
            "backgroundcolor": "rgb(237,237,237)",
            "gridcolor": "white",
            "linecolor": "white",
            "showbackground": true,
            "showgrid": true,
            "tickcolor": "rgb(51,51,51)",
            "ticks": "outside",
            "zerolinecolor": "white",
            "gridwidth": 2
           },
           "zaxis": {
            "backgroundcolor": "rgb(237,237,237)",
            "gridcolor": "white",
            "linecolor": "white",
            "showbackground": true,
            "showgrid": true,
            "tickcolor": "rgb(51,51,51)",
            "ticks": "outside",
            "zerolinecolor": "white",
            "gridwidth": 2
           }
          },
          "shapedefaults": {
           "fillcolor": "black",
           "line": {
            "width": 0
           },
           "opacity": 0.3
          },
          "annotationdefaults": {
           "arrowhead": 0,
           "arrowwidth": 1
          },
          "geo": {
           "bgcolor": "white",
           "landcolor": "rgb(237,237,237)",
           "subunitcolor": "white",
           "showland": true,
           "showlakes": true,
           "lakecolor": "white"
          }
         }
        },
        "xaxis": {
         "anchor": "y",
         "domain": [
          0.0,
          1.0
         ],
         "title": {
          "text": "x"
         }
        },
        "yaxis": {
         "anchor": "x",
         "domain": [
          0.0,
          1.0
         ],
         "title": {
          "text": "y"
         }
        },
        "legend": {
         "tracegroupgap": 0
        },
        "margin": {
         "t": 60
        }
       },
       "config": {
        "plotlyServerURL": "https://plot.ly"
       }
      },
      "text/html": "<div>                            <div id=\"11b79ae2-9c94-4475-b119-936a27859582\" class=\"plotly-graph-div\" style=\"height:525px; width:100%;\"></div>            <script type=\"text/javascript\">                require([\"plotly\"], function(Plotly) {                    window.PLOTLYENV=window.PLOTLYENV || {};                                    if (document.getElementById(\"11b79ae2-9c94-4475-b119-936a27859582\")) {                    Plotly.newPlot(                        \"11b79ae2-9c94-4475-b119-936a27859582\",                        [{\"hovertemplate\":\"x=%{x}<br>y=%{y}<extra></extra>\",\"legendgroup\":\"\",\"marker\":{\"color\":\"black\",\"symbol\":\"x-thin\",\"line\":{\"width\":2},\"size\":12},\"mode\":\"markers\",\"name\":\"\",\"orientation\":\"v\",\"showlegend\":false,\"x\":[-0.2817296356891765,1.0351173595666832,-0.8990042987523258],\"xaxis\":\"x\",\"y\":[0.9423401810247165,-0.0698220955340314,-1.0867031864745689],\"yaxis\":\"y\",\"type\":\"scatter\"},{\"marker\":{\"color\":[2,1,0,1,2,1,0,1,1,0,0,2,2,0,0,2,2,0,2,2,0,2,2,0,0,0,1,2,2,2,2,1,1,2,1,0,0,0,1,1,2,0,1,0,0,0,2,2,2,1,0,1,0,2,0,2,0,1,1,0,2,1,2,0,0,2,0,2,1,1,1,2,2,1,1,2,1,2,1,0,0,1,1,1,0,1,1,0,0,1,1,1,0,1,0,0,0,1,1,0]},\"mode\":\"markers\",\"x\":[-1.4089664241100899,1.7285075355782258,-0.4185422913938499,2.1948906327449773,-0.4556012580889037,0.3006901508674825,0.2152013028271304,0.9107904715580717,1.1614816746495595,-0.9579303564902916,-0.477828463106189,-0.5587488420149302,-0.3256814843492299,-0.9225853244097668,0.5374820561259339,-1.5863293052153729,-0.5197850957269213,-0.10396937375181264,-1.4383004875650922,-0.36422819711987514,-0.4137487242793377,-0.7997940215513534,-1.0921659703745399,0.23904939880237897,-0.07533149755584667,-0.41154934779824803,-0.035544862013969246,-0.2435877595762251,-1.5101832877373624,-1.7177560048938378,-1.276977175005518,1.3190139541738297,0.9324056896287973,0.17819805522638166,1.2028902953572156,-0.5223522222355187,0.006468173352872887,0.20951912077017043,1.8091442952458505,1.1572737171397298,-1.8291277243008404,-0.42621923493262365,1.0571770759054055,-1.0981692602995599,-0.13850677697764838,0.24388988265049474,-2.011013808197331,-0.6017079396783577,-0.7284815658403813,0.4447677835138656,-0.9887464224489889,1.088696733825581,0.5960962110300835,-0.5330877839744924,-0.0881527545015717,-0.9156314308680001,-0.848581740444775,0.14452393905324862,2.254328284116404,-1.4121624563812762,-0.5068198270516349,0.5290100776752873,-0.9329842242129207,-0.43396094570726285,-0.9482344420147713,-0.569327507601305,1.1323188640420903,-1.4427777125289059,0.6653712099621992,1.288487834550556,0.8134084370650483,-0.5405194509564674,-1.6816285376574398,0.22497954990123162,1.1635187199874437,0.023691707360966735,1.7107115782432918,-0.6927026427868747,2.5774706947869377,-0.14262220137784162,0.23923967874121435,0.46474421623036016,0.6040258151845407,0.7378945108024446,-0.05765936721754241,0.11832800601036754,1.1130100805113596,0.3569717840084694,-1.2171525752175805,0.7743158650444238,1.1535430547758752,1.989136305961071,-0.7656322508098612,1.5491174802229206,-0.523197428879702,-0.5827266147732845,0.7690071251235893,0.9570001850729571,0.11840852377597776,-0.7111753351809885],\"y\":[-2.081308121053254,-0.7488115153780416,1.3145851105821122,-0.8597016938190202,-0.7351969156279881,-0.3178195878213492,1.595389291012644,0.2810404714854686,0.6776381055827144,1.2063699409973139,1.034654909548729,-0.25116058628082993,-0.9062792562764631,0.18694130103961587,1.0738558046881126,-0.7859847349280165,-0.5624291279354099,1.613540223531761,-0.9991875039520717,-1.146114772201818,0.6606780803111236,-0.8776353990292922,-0.5434819457755342,1.960182337308882,1.9774378553442726,1.6482945557081732,-0.2233595098998052,-1.654776087275825,-0.5884343360965578,-1.9552398141999403,-0.9482592906369071,0.21874435035134382,0.24500470666797447,-1.6311207704527233,1.4604232795658056,0.7735457962307,0.03872504951229019,0.7129804539121348,0.262647188774355,-1.2395577849280437,-1.707091438202646,0.8423126168393194,-0.7084817956706401,1.0903887720295395,0.7674431561684523,0.35658125249962724,-0.9791422246381245,-0.8489927718319316,-0.15622129851996372,-0.2759629624296537,0.5824710776026887,-0.10269503583203866,1.842281675669891,-0.5918467315538084,0.13124577230824772,-0.6358316352026817,1.1665172760784674,-0.27810305727853635,-0.2866722655008118,0.5980573848359839,-1.562161902224671,-0.1630570524471955,-1.5877041248912067,0.032246889151135445,0.6652306214575388,-1.9067829942256995,1.6469304342603537,-1.6279611065426214,0.38231171522935936,0.0011614827264287669,-0.4708595971441523,-0.8742006274971373,-0.6730877121502794,-0.18066772579381052,-0.27707753436335925,-0.8311818144604303,-0.54032385588944,-1.8401344648761733,0.16266105089998342,0.09390715882090143,0.5443381320463838,-0.15942487090805085,0.17096342991555344,-0.791587713453854,0.2767600306943042,-0.3081883246711343,0.8162952950759522,1.0546222185090566,0.4958770191758763,-0.8996926252469384,-0.14447353340884067,0.5370937172738751,0.04679568175798408,1.4700199846029227,2.163977718182096,1.3594091272542879,1.5666820681369718,0.31148139713494793,-0.4154598450065224,0.7621844269375827],\"type\":\"scatter\"}],                        {\"template\":{\"data\":{\"histogram2dcontour\":[{\"type\":\"histogram2dcontour\",\"colorbar\":{\"outlinewidth\":0,\"tickcolor\":\"rgb(237,237,237)\",\"ticklen\":6,\"ticks\":\"inside\"},\"colorscale\":[[0,\"rgb(20,44,66)\"],[1,\"rgb(90,179,244)\"]]}],\"choropleth\":[{\"type\":\"choropleth\",\"colorbar\":{\"outlinewidth\":0,\"tickcolor\":\"rgb(237,237,237)\",\"ticklen\":6,\"ticks\":\"inside\"}}],\"histogram2d\":[{\"type\":\"histogram2d\",\"colorbar\":{\"outlinewidth\":0,\"tickcolor\":\"rgb(237,237,237)\",\"ticklen\":6,\"ticks\":\"inside\"},\"colorscale\":[[0,\"rgb(20,44,66)\"],[1,\"rgb(90,179,244)\"]]}],\"heatmap\":[{\"type\":\"heatmap\",\"colorbar\":{\"outlinewidth\":0,\"tickcolor\":\"rgb(237,237,237)\",\"ticklen\":6,\"ticks\":\"inside\"},\"colorscale\":[[0,\"rgb(20,44,66)\"],[1,\"rgb(90,179,244)\"]]}],\"heatmapgl\":[{\"type\":\"heatmapgl\",\"colorbar\":{\"outlinewidth\":0,\"tickcolor\":\"rgb(237,237,237)\",\"ticklen\":6,\"ticks\":\"inside\"},\"colorscale\":[[0,\"rgb(20,44,66)\"],[1,\"rgb(90,179,244)\"]]}],\"contourcarpet\":[{\"type\":\"contourcarpet\",\"colorbar\":{\"outlinewidth\":0,\"tickcolor\":\"rgb(237,237,237)\",\"ticklen\":6,\"ticks\":\"inside\"}}],\"contour\":[{\"type\":\"contour\",\"colorbar\":{\"outlinewidth\":0,\"tickcolor\":\"rgb(237,237,237)\",\"ticklen\":6,\"ticks\":\"inside\"},\"colorscale\":[[0,\"rgb(20,44,66)\"],[1,\"rgb(90,179,244)\"]]}],\"surface\":[{\"type\":\"surface\",\"colorbar\":{\"outlinewidth\":0,\"tickcolor\":\"rgb(237,237,237)\",\"ticklen\":6,\"ticks\":\"inside\"},\"colorscale\":[[0,\"rgb(20,44,66)\"],[1,\"rgb(90,179,244)\"]]}],\"mesh3d\":[{\"type\":\"mesh3d\",\"colorbar\":{\"outlinewidth\":0,\"tickcolor\":\"rgb(237,237,237)\",\"ticklen\":6,\"ticks\":\"inside\"}}],\"scatter\":[{\"fillpattern\":{\"fillmode\":\"overlay\",\"size\":10,\"solidity\":0.2},\"type\":\"scatter\"}],\"parcoords\":[{\"type\":\"parcoords\",\"line\":{\"colorbar\":{\"outlinewidth\":0,\"tickcolor\":\"rgb(237,237,237)\",\"ticklen\":6,\"ticks\":\"inside\"}}}],\"scatterpolargl\":[{\"type\":\"scatterpolargl\",\"marker\":{\"colorbar\":{\"outlinewidth\":0,\"tickcolor\":\"rgb(237,237,237)\",\"ticklen\":6,\"ticks\":\"inside\"}}}],\"bar\":[{\"error_x\":{\"color\":\"rgb(51,51,51)\"},\"error_y\":{\"color\":\"rgb(51,51,51)\"},\"marker\":{\"line\":{\"color\":\"rgb(237,237,237)\",\"width\":0.5},\"pattern\":{\"fillmode\":\"overlay\",\"size\":10,\"solidity\":0.2}},\"type\":\"bar\"}],\"scattergeo\":[{\"type\":\"scattergeo\",\"marker\":{\"colorbar\":{\"outlinewidth\":0,\"tickcolor\":\"rgb(237,237,237)\",\"ticklen\":6,\"ticks\":\"inside\"}}}],\"scatterpolar\":[{\"type\":\"scatterpolar\",\"marker\":{\"colorbar\":{\"outlinewidth\":0,\"tickcolor\":\"rgb(237,237,237)\",\"ticklen\":6,\"ticks\":\"inside\"}}}],\"histogram\":[{\"marker\":{\"pattern\":{\"fillmode\":\"overlay\",\"size\":10,\"solidity\":0.2}},\"type\":\"histogram\"}],\"scattergl\":[{\"type\":\"scattergl\",\"marker\":{\"colorbar\":{\"outlinewidth\":0,\"tickcolor\":\"rgb(237,237,237)\",\"ticklen\":6,\"ticks\":\"inside\"}}}],\"scatter3d\":[{\"type\":\"scatter3d\",\"line\":{\"colorbar\":{\"outlinewidth\":0,\"tickcolor\":\"rgb(237,237,237)\",\"ticklen\":6,\"ticks\":\"inside\"}},\"marker\":{\"colorbar\":{\"outlinewidth\":0,\"tickcolor\":\"rgb(237,237,237)\",\"ticklen\":6,\"ticks\":\"inside\"}}}],\"scattermapbox\":[{\"type\":\"scattermapbox\",\"marker\":{\"colorbar\":{\"outlinewidth\":0,\"tickcolor\":\"rgb(237,237,237)\",\"ticklen\":6,\"ticks\":\"inside\"}}}],\"scatterternary\":[{\"type\":\"scatterternary\",\"marker\":{\"colorbar\":{\"outlinewidth\":0,\"tickcolor\":\"rgb(237,237,237)\",\"ticklen\":6,\"ticks\":\"inside\"}}}],\"scattercarpet\":[{\"type\":\"scattercarpet\",\"marker\":{\"colorbar\":{\"outlinewidth\":0,\"tickcolor\":\"rgb(237,237,237)\",\"ticklen\":6,\"ticks\":\"inside\"}}}],\"carpet\":[{\"aaxis\":{\"endlinecolor\":\"rgb(51,51,51)\",\"gridcolor\":\"white\",\"linecolor\":\"white\",\"minorgridcolor\":\"white\",\"startlinecolor\":\"rgb(51,51,51)\"},\"baxis\":{\"endlinecolor\":\"rgb(51,51,51)\",\"gridcolor\":\"white\",\"linecolor\":\"white\",\"minorgridcolor\":\"white\",\"startlinecolor\":\"rgb(51,51,51)\"},\"type\":\"carpet\"}],\"table\":[{\"cells\":{\"fill\":{\"color\":\"rgb(237,237,237)\"},\"line\":{\"color\":\"white\"}},\"header\":{\"fill\":{\"color\":\"rgb(217,217,217)\"},\"line\":{\"color\":\"white\"}},\"type\":\"table\"}],\"barpolar\":[{\"marker\":{\"line\":{\"color\":\"rgb(237,237,237)\",\"width\":0.5},\"pattern\":{\"fillmode\":\"overlay\",\"size\":10,\"solidity\":0.2}},\"type\":\"barpolar\"}],\"pie\":[{\"automargin\":true,\"type\":\"pie\"}]},\"layout\":{\"autotypenumbers\":\"strict\",\"colorway\":[\"#F8766D\",\"#A3A500\",\"#00BF7D\",\"#00B0F6\",\"#E76BF3\"],\"font\":{\"color\":\"rgb(51,51,51)\"},\"hovermode\":\"closest\",\"hoverlabel\":{\"align\":\"left\"},\"paper_bgcolor\":\"white\",\"plot_bgcolor\":\"rgb(237,237,237)\",\"polar\":{\"bgcolor\":\"rgb(237,237,237)\",\"angularaxis\":{\"gridcolor\":\"white\",\"linecolor\":\"white\",\"showgrid\":true,\"tickcolor\":\"rgb(51,51,51)\",\"ticks\":\"outside\"},\"radialaxis\":{\"gridcolor\":\"white\",\"linecolor\":\"white\",\"showgrid\":true,\"tickcolor\":\"rgb(51,51,51)\",\"ticks\":\"outside\"}},\"ternary\":{\"bgcolor\":\"rgb(237,237,237)\",\"aaxis\":{\"gridcolor\":\"white\",\"linecolor\":\"white\",\"showgrid\":true,\"tickcolor\":\"rgb(51,51,51)\",\"ticks\":\"outside\"},\"baxis\":{\"gridcolor\":\"white\",\"linecolor\":\"white\",\"showgrid\":true,\"tickcolor\":\"rgb(51,51,51)\",\"ticks\":\"outside\"},\"caxis\":{\"gridcolor\":\"white\",\"linecolor\":\"white\",\"showgrid\":true,\"tickcolor\":\"rgb(51,51,51)\",\"ticks\":\"outside\"}},\"coloraxis\":{\"colorbar\":{\"outlinewidth\":0,\"tickcolor\":\"rgb(237,237,237)\",\"ticklen\":6,\"ticks\":\"inside\"}},\"colorscale\":{\"sequential\":[[0,\"rgb(20,44,66)\"],[1,\"rgb(90,179,244)\"]],\"sequentialminus\":[[0,\"rgb(20,44,66)\"],[1,\"rgb(90,179,244)\"]]},\"xaxis\":{\"gridcolor\":\"white\",\"linecolor\":\"white\",\"showgrid\":true,\"tickcolor\":\"rgb(51,51,51)\",\"ticks\":\"outside\",\"title\":{\"standoff\":15},\"zerolinecolor\":\"white\",\"automargin\":true},\"yaxis\":{\"gridcolor\":\"white\",\"linecolor\":\"white\",\"showgrid\":true,\"tickcolor\":\"rgb(51,51,51)\",\"ticks\":\"outside\",\"title\":{\"standoff\":15},\"zerolinecolor\":\"white\",\"automargin\":true},\"scene\":{\"xaxis\":{\"backgroundcolor\":\"rgb(237,237,237)\",\"gridcolor\":\"white\",\"linecolor\":\"white\",\"showbackground\":true,\"showgrid\":true,\"tickcolor\":\"rgb(51,51,51)\",\"ticks\":\"outside\",\"zerolinecolor\":\"white\",\"gridwidth\":2},\"yaxis\":{\"backgroundcolor\":\"rgb(237,237,237)\",\"gridcolor\":\"white\",\"linecolor\":\"white\",\"showbackground\":true,\"showgrid\":true,\"tickcolor\":\"rgb(51,51,51)\",\"ticks\":\"outside\",\"zerolinecolor\":\"white\",\"gridwidth\":2},\"zaxis\":{\"backgroundcolor\":\"rgb(237,237,237)\",\"gridcolor\":\"white\",\"linecolor\":\"white\",\"showbackground\":true,\"showgrid\":true,\"tickcolor\":\"rgb(51,51,51)\",\"ticks\":\"outside\",\"zerolinecolor\":\"white\",\"gridwidth\":2}},\"shapedefaults\":{\"fillcolor\":\"black\",\"line\":{\"width\":0},\"opacity\":0.3},\"annotationdefaults\":{\"arrowhead\":0,\"arrowwidth\":1},\"geo\":{\"bgcolor\":\"white\",\"landcolor\":\"rgb(237,237,237)\",\"subunitcolor\":\"white\",\"showland\":true,\"showlakes\":true,\"lakecolor\":\"white\"}}},\"xaxis\":{\"anchor\":\"y\",\"domain\":[0.0,1.0],\"title\":{\"text\":\"x\"}},\"yaxis\":{\"anchor\":\"x\",\"domain\":[0.0,1.0],\"title\":{\"text\":\"y\"}},\"legend\":{\"tracegroupgap\":0},\"margin\":{\"t\":60}},                        {\"responsive\": true}                    ).then(function(){\n                            \nvar gd = document.getElementById('11b79ae2-9c94-4475-b119-936a27859582');\nvar x = new MutationObserver(function (mutations, observer) {{\n        var display = window.getComputedStyle(gd).display;\n        if (!display || display === 'none') {{\n            console.log([gd, 'removed!']);\n            Plotly.purge(gd);\n            observer.disconnect();\n        }}\n}});\n\n// Listen for the removal of the full notebook cells\nvar notebookContainer = gd.closest('#notebook-container');\nif (notebookContainer) {{\n    x.observe(notebookContainer, {childList: true});\n}}\n\n// Listen for the clearing of the current output cell\nvar outputEl = gd.closest('.output');\nif (outputEl) {{\n    x.observe(outputEl, {childList: true});\n}}\n\n                        })                };                });            </script>        </div>"
     },
     "metadata": {},
     "output_type": "display_data"
    }
   ],
   "source": [
    "fig = px.scatter(x=kmeans.centroids[:, 0], y=kmeans.centroids[:, 1])\n",
    "fig.update_traces(mode='markers', marker_size=12, marker_color='black', marker_symbol='x-thin', marker_line_width=2)\n",
    "fig.add_scatter(x=x_train_scaled[:, 0], y=x_train_scaled[:, 1], marker_color=kmeans.labels, mode='markers')\n",
    "fig.show()"
   ],
   "metadata": {
    "collapsed": false
   }
  },
  {
   "cell_type": "code",
   "execution_count": 46,
   "outputs": [],
   "source": [
    "noise, noise_labels = make_blobs(n_samples=2, centers=[[100, 1]])\n",
    "x_train = np.append(x_train, noise, axis=0)\n",
    "true_labels = np.append(true_labels, noise_labels)\n",
    "x_train_scaled = StandardScaler().fit_transform(x_train)"
   ],
   "metadata": {
    "collapsed": false
   }
  },
  {
   "cell_type": "code",
   "execution_count": 47,
   "outputs": [
    {
     "data": {
      "application/vnd.plotly.v1+json": {
       "data": [
        {
         "hovertemplate": "x=%{x}<br>y=%{y}<br>color=%{marker.color}<extra></extra>",
         "legendgroup": "",
         "marker": {
          "color": [
           2,
           1,
           0,
           1,
           2,
           1,
           0,
           1,
           1,
           0,
           0,
           2,
           2,
           0,
           0,
           2,
           2,
           0,
           2,
           2,
           0,
           2,
           2,
           0,
           0,
           0,
           1,
           2,
           2,
           2,
           2,
           1,
           1,
           2,
           0,
           0,
           0,
           0,
           1,
           1,
           2,
           0,
           1,
           0,
           0,
           1,
           2,
           2,
           2,
           1,
           1,
           1,
           0,
           2,
           2,
           2,
           0,
           0,
           1,
           0,
           2,
           1,
           2,
           1,
           2,
           2,
           1,
           2,
           1,
           1,
           1,
           2,
           2,
           0,
           1,
           2,
           1,
           2,
           1,
           1,
           0,
           1,
           0,
           2,
           0,
           0,
           0,
           1,
           0,
           1,
           1,
           1,
           0,
           1,
           0,
           0,
           0,
           1,
           2,
           0,
           0,
           0
          ],
          "coloraxis": "coloraxis",
          "symbol": "circle"
         },
         "mode": "markers",
         "name": "",
         "orientation": "v",
         "showlegend": false,
         "x": [
          -0.2675880341976451,
          0.014610817474291946,
          -0.17850472816489543,
          0.05655946028397872,
          -0.1818379822348453,
          -0.11381365123512421,
          -0.12150291178603592,
          -0.058938419722232696,
          -0.036390098829171914,
          -0.22701977387730202,
          -0.18383719937970336,
          -0.19111555078542253,
          -0.17015239968344267,
          -0.2238406789768864,
          -0.09251549717625089,
          -0.283540868235544,
          -0.18761097207000108,
          -0.15021059177802562,
          -0.2702264749076664,
          -0.17361946848444865,
          -0.17807357267085522,
          -0.2127962639133148,
          -0.23909354295979524,
          -0.11935790424645275,
          -0.14763476935506356,
          -0.17787575062505268,
          -0.1440561761918798,
          -0.16276851214905325,
          -0.27669194487625004,
          -0.2953619906431957,
          -0.2557163135048456,
          -0.022220920390021458,
          -0.0569942475007035,
          -0.12483115422413443,
          -0.03266561685317483,
          -0.18784187124625903,
          -0.14027733037894016,
          -0.12201399339884532,
          0.021863658859789924,
          -0.036768581899442945,
          -0.3053792757997258,
          -0.17919522780850283,
          -0.045771734618948005,
          -0.23963350649251652,
          -0.1533170448212342,
          -0.11892252884540543,
          -0.3217389475197723,
          -0.1949794897966283,
          -0.20638209335122942,
          -0.10085464567625113,
          -0.22979151271508186,
          -0.04293671148108283,
          -0.08724347024688148,
          -0.188807477091508,
          -0.14878797222895573,
          -0.2232152137786572,
          -0.21718445595070293,
          -0.1278599592555775,
          0.06190555627667973,
          -0.26787550005343336,
          -0.18644481611817687,
          -0.09327750591987066,
          -0.22477600389776417,
          -0.17989155291546768,
          -0.22614767869306884,
          -0.19206704466841656,
          -0.03901313626970307,
          -0.27062917713235374,
          -0.08101255792716304,
          -0.024966580119590596,
          -0.06769740821440753,
          -0.1894759154324369,
          -0.2921125199228268,
          -0.12062341122885839,
          -0.036206877593700136,
          -0.13872816643964822,
          0.013010167145764582,
          -0.2031639722992347,
          0.0909704723172212,
          -0.15368720503763728,
          -0.11934078959277739,
          -0.09905787335382633,
          -0.08653024514434608,
          -0.0744894783798801,
          -0.14604525659666548,
          -0.130216142069573,
          -0.040749857150757164,
          -0.10875142205117727,
          -0.2503354135902001,
          -0.07121357410928515,
          -0.03710413484699953,
          0.038052968918319996,
          -0.20972359698501722,
          -0.0015243499479936722,
          -0.18791789302284698,
          -0.19327222205186087,
          -0.07169106661718579,
          -0.05478210535674699,
          -0.13020889993106083,
          -0.2048254912944157,
          7.028344727496597,
          7.057566039234318
         ],
         "xaxis": "x",
         "y": [
          -2.1006065464385824,
          -0.7563511779030639,
          1.3252541185393136,
          -0.8682199189206907,
          -0.7426164346200236,
          -0.32155591467612615,
          1.6085362863461754,
          0.2825888510936621,
          0.6826863046354348,
          1.2160839922877473,
          1.0428536426569215,
          -0.25430867344457775,
          -0.9152085102011832,
          0.1876592921680851,
          1.0824004704072345,
          -0.7938524366177021,
          -0.5683240385819349,
          1.6268473937657584,
          -1.0089366369275383,
          -1.15716048101673,
          0.6655766137553734,
          -0.886311882085149,
          -0.5492096549290572,
          1.9765484890036504,
          1.9939562802559077,
          1.6619084193691485,
          -0.22626226340714184,
          -1.6703105338141147,
          -0.5945587325628572,
          -1.9734257359449783,
          -0.9575590019922949,
          0.21974299098653485,
          0.24623508470590202,
          -1.6464464680458195,
          1.4723792524861874,
          0.7794403432485904,
          0.03813509002660365,
          0.7183405354050519,
          0.26403325483615636,
          -1.2514280918867111,
          -1.7230875473094422,
          0.8488140042294479,
          -0.7156655641481712,
          1.0990793347374546,
          0.7732838497678738,
          0.3587962500387367,
          -0.9887144658414716,
          -0.8574164948736348,
          -0.15853158349633503,
          -0.27932992088978154,
          0.586679464749419,
          -0.10453297241587743,
          1.8576074000079357,
          -0.5980012410791553,
          0.13147227211738283,
          -0.642374294348251,
          1.1758796431438634,
          -0.28148890124105075,
          -0.2901337293838252,
          0.6024033150652585,
          -1.5768790647001882,
          -0.16542766028597367,
          -1.602646687520076,
          0.03159976242679823,
          0.6701693293018766,
          -1.9245413034330285,
          1.6605322600815708,
          -1.6432589213340063,
          0.3847537740669638,
          2.4003941396099506E-4,
          -0.4759464423943243,
          -0.8828468000338123,
          -0.6799591416447308,
          -0.18319374095656324,
          -0.2804543284861097,
          -0.8394483627497518,
          -0.5460236961313996,
          -1.8573046268054743,
          0.16316477829047024,
          0.09380415992838104,
          0.5482100108207463,
          -0.16176342616132713,
          0.17154042256285565,
          -0.7995048592438219,
          0.2782706370819232,
          -0.31183965938488345,
          0.8225670897484914,
          1.0629971553314073,
          0.4993212475293942,
          -0.9085637547216638,
          -0.1466801489398326,
          0.5409016669132523,
          0.04627694245425198,
          1.482060644702462,
          2.1821422846311744,
          1.3704736896768817,
          1.5795757334246816,
          0.31329840603978343,
          -0.4200578090504447,
          0.7679787143024901,
          -0.2872293456094951,
          0.3803986400635545
         ],
         "yaxis": "y",
         "type": "scatter"
        }
       ],
       "layout": {
        "template": {
         "data": {
          "histogram2dcontour": [
           {
            "type": "histogram2dcontour",
            "colorbar": {
             "outlinewidth": 0,
             "tickcolor": "rgb(237,237,237)",
             "ticklen": 6,
             "ticks": "inside"
            },
            "colorscale": [
             [
              0,
              "rgb(20,44,66)"
             ],
             [
              1,
              "rgb(90,179,244)"
             ]
            ]
           }
          ],
          "choropleth": [
           {
            "type": "choropleth",
            "colorbar": {
             "outlinewidth": 0,
             "tickcolor": "rgb(237,237,237)",
             "ticklen": 6,
             "ticks": "inside"
            }
           }
          ],
          "histogram2d": [
           {
            "type": "histogram2d",
            "colorbar": {
             "outlinewidth": 0,
             "tickcolor": "rgb(237,237,237)",
             "ticklen": 6,
             "ticks": "inside"
            },
            "colorscale": [
             [
              0,
              "rgb(20,44,66)"
             ],
             [
              1,
              "rgb(90,179,244)"
             ]
            ]
           }
          ],
          "heatmap": [
           {
            "type": "heatmap",
            "colorbar": {
             "outlinewidth": 0,
             "tickcolor": "rgb(237,237,237)",
             "ticklen": 6,
             "ticks": "inside"
            },
            "colorscale": [
             [
              0,
              "rgb(20,44,66)"
             ],
             [
              1,
              "rgb(90,179,244)"
             ]
            ]
           }
          ],
          "heatmapgl": [
           {
            "type": "heatmapgl",
            "colorbar": {
             "outlinewidth": 0,
             "tickcolor": "rgb(237,237,237)",
             "ticklen": 6,
             "ticks": "inside"
            },
            "colorscale": [
             [
              0,
              "rgb(20,44,66)"
             ],
             [
              1,
              "rgb(90,179,244)"
             ]
            ]
           }
          ],
          "contourcarpet": [
           {
            "type": "contourcarpet",
            "colorbar": {
             "outlinewidth": 0,
             "tickcolor": "rgb(237,237,237)",
             "ticklen": 6,
             "ticks": "inside"
            }
           }
          ],
          "contour": [
           {
            "type": "contour",
            "colorbar": {
             "outlinewidth": 0,
             "tickcolor": "rgb(237,237,237)",
             "ticklen": 6,
             "ticks": "inside"
            },
            "colorscale": [
             [
              0,
              "rgb(20,44,66)"
             ],
             [
              1,
              "rgb(90,179,244)"
             ]
            ]
           }
          ],
          "surface": [
           {
            "type": "surface",
            "colorbar": {
             "outlinewidth": 0,
             "tickcolor": "rgb(237,237,237)",
             "ticklen": 6,
             "ticks": "inside"
            },
            "colorscale": [
             [
              0,
              "rgb(20,44,66)"
             ],
             [
              1,
              "rgb(90,179,244)"
             ]
            ]
           }
          ],
          "mesh3d": [
           {
            "type": "mesh3d",
            "colorbar": {
             "outlinewidth": 0,
             "tickcolor": "rgb(237,237,237)",
             "ticklen": 6,
             "ticks": "inside"
            }
           }
          ],
          "scatter": [
           {
            "fillpattern": {
             "fillmode": "overlay",
             "size": 10,
             "solidity": 0.2
            },
            "type": "scatter"
           }
          ],
          "parcoords": [
           {
            "type": "parcoords",
            "line": {
             "colorbar": {
              "outlinewidth": 0,
              "tickcolor": "rgb(237,237,237)",
              "ticklen": 6,
              "ticks": "inside"
             }
            }
           }
          ],
          "scatterpolargl": [
           {
            "type": "scatterpolargl",
            "marker": {
             "colorbar": {
              "outlinewidth": 0,
              "tickcolor": "rgb(237,237,237)",
              "ticklen": 6,
              "ticks": "inside"
             }
            }
           }
          ],
          "bar": [
           {
            "error_x": {
             "color": "rgb(51,51,51)"
            },
            "error_y": {
             "color": "rgb(51,51,51)"
            },
            "marker": {
             "line": {
              "color": "rgb(237,237,237)",
              "width": 0.5
             },
             "pattern": {
              "fillmode": "overlay",
              "size": 10,
              "solidity": 0.2
             }
            },
            "type": "bar"
           }
          ],
          "scattergeo": [
           {
            "type": "scattergeo",
            "marker": {
             "colorbar": {
              "outlinewidth": 0,
              "tickcolor": "rgb(237,237,237)",
              "ticklen": 6,
              "ticks": "inside"
             }
            }
           }
          ],
          "scatterpolar": [
           {
            "type": "scatterpolar",
            "marker": {
             "colorbar": {
              "outlinewidth": 0,
              "tickcolor": "rgb(237,237,237)",
              "ticklen": 6,
              "ticks": "inside"
             }
            }
           }
          ],
          "histogram": [
           {
            "marker": {
             "pattern": {
              "fillmode": "overlay",
              "size": 10,
              "solidity": 0.2
             }
            },
            "type": "histogram"
           }
          ],
          "scattergl": [
           {
            "type": "scattergl",
            "marker": {
             "colorbar": {
              "outlinewidth": 0,
              "tickcolor": "rgb(237,237,237)",
              "ticklen": 6,
              "ticks": "inside"
             }
            }
           }
          ],
          "scatter3d": [
           {
            "type": "scatter3d",
            "line": {
             "colorbar": {
              "outlinewidth": 0,
              "tickcolor": "rgb(237,237,237)",
              "ticklen": 6,
              "ticks": "inside"
             }
            },
            "marker": {
             "colorbar": {
              "outlinewidth": 0,
              "tickcolor": "rgb(237,237,237)",
              "ticklen": 6,
              "ticks": "inside"
             }
            }
           }
          ],
          "scattermapbox": [
           {
            "type": "scattermapbox",
            "marker": {
             "colorbar": {
              "outlinewidth": 0,
              "tickcolor": "rgb(237,237,237)",
              "ticklen": 6,
              "ticks": "inside"
             }
            }
           }
          ],
          "scatterternary": [
           {
            "type": "scatterternary",
            "marker": {
             "colorbar": {
              "outlinewidth": 0,
              "tickcolor": "rgb(237,237,237)",
              "ticklen": 6,
              "ticks": "inside"
             }
            }
           }
          ],
          "scattercarpet": [
           {
            "type": "scattercarpet",
            "marker": {
             "colorbar": {
              "outlinewidth": 0,
              "tickcolor": "rgb(237,237,237)",
              "ticklen": 6,
              "ticks": "inside"
             }
            }
           }
          ],
          "carpet": [
           {
            "aaxis": {
             "endlinecolor": "rgb(51,51,51)",
             "gridcolor": "white",
             "linecolor": "white",
             "minorgridcolor": "white",
             "startlinecolor": "rgb(51,51,51)"
            },
            "baxis": {
             "endlinecolor": "rgb(51,51,51)",
             "gridcolor": "white",
             "linecolor": "white",
             "minorgridcolor": "white",
             "startlinecolor": "rgb(51,51,51)"
            },
            "type": "carpet"
           }
          ],
          "table": [
           {
            "cells": {
             "fill": {
              "color": "rgb(237,237,237)"
             },
             "line": {
              "color": "white"
             }
            },
            "header": {
             "fill": {
              "color": "rgb(217,217,217)"
             },
             "line": {
              "color": "white"
             }
            },
            "type": "table"
           }
          ],
          "barpolar": [
           {
            "marker": {
             "line": {
              "color": "rgb(237,237,237)",
              "width": 0.5
             },
             "pattern": {
              "fillmode": "overlay",
              "size": 10,
              "solidity": 0.2
             }
            },
            "type": "barpolar"
           }
          ],
          "pie": [
           {
            "automargin": true,
            "type": "pie"
           }
          ]
         },
         "layout": {
          "autotypenumbers": "strict",
          "colorway": [
           "#F8766D",
           "#A3A500",
           "#00BF7D",
           "#00B0F6",
           "#E76BF3"
          ],
          "font": {
           "color": "rgb(51,51,51)"
          },
          "hovermode": "closest",
          "hoverlabel": {
           "align": "left"
          },
          "paper_bgcolor": "white",
          "plot_bgcolor": "rgb(237,237,237)",
          "polar": {
           "bgcolor": "rgb(237,237,237)",
           "angularaxis": {
            "gridcolor": "white",
            "linecolor": "white",
            "showgrid": true,
            "tickcolor": "rgb(51,51,51)",
            "ticks": "outside"
           },
           "radialaxis": {
            "gridcolor": "white",
            "linecolor": "white",
            "showgrid": true,
            "tickcolor": "rgb(51,51,51)",
            "ticks": "outside"
           }
          },
          "ternary": {
           "bgcolor": "rgb(237,237,237)",
           "aaxis": {
            "gridcolor": "white",
            "linecolor": "white",
            "showgrid": true,
            "tickcolor": "rgb(51,51,51)",
            "ticks": "outside"
           },
           "baxis": {
            "gridcolor": "white",
            "linecolor": "white",
            "showgrid": true,
            "tickcolor": "rgb(51,51,51)",
            "ticks": "outside"
           },
           "caxis": {
            "gridcolor": "white",
            "linecolor": "white",
            "showgrid": true,
            "tickcolor": "rgb(51,51,51)",
            "ticks": "outside"
           }
          },
          "coloraxis": {
           "colorbar": {
            "outlinewidth": 0,
            "tickcolor": "rgb(237,237,237)",
            "ticklen": 6,
            "ticks": "inside"
           }
          },
          "colorscale": {
           "sequential": [
            [
             0,
             "rgb(20,44,66)"
            ],
            [
             1,
             "rgb(90,179,244)"
            ]
           ],
           "sequentialminus": [
            [
             0,
             "rgb(20,44,66)"
            ],
            [
             1,
             "rgb(90,179,244)"
            ]
           ]
          },
          "xaxis": {
           "gridcolor": "white",
           "linecolor": "white",
           "showgrid": true,
           "tickcolor": "rgb(51,51,51)",
           "ticks": "outside",
           "title": {
            "standoff": 15
           },
           "zerolinecolor": "white",
           "automargin": true
          },
          "yaxis": {
           "gridcolor": "white",
           "linecolor": "white",
           "showgrid": true,
           "tickcolor": "rgb(51,51,51)",
           "ticks": "outside",
           "title": {
            "standoff": 15
           },
           "zerolinecolor": "white",
           "automargin": true
          },
          "scene": {
           "xaxis": {
            "backgroundcolor": "rgb(237,237,237)",
            "gridcolor": "white",
            "linecolor": "white",
            "showbackground": true,
            "showgrid": true,
            "tickcolor": "rgb(51,51,51)",
            "ticks": "outside",
            "zerolinecolor": "white",
            "gridwidth": 2
           },
           "yaxis": {
            "backgroundcolor": "rgb(237,237,237)",
            "gridcolor": "white",
            "linecolor": "white",
            "showbackground": true,
            "showgrid": true,
            "tickcolor": "rgb(51,51,51)",
            "ticks": "outside",
            "zerolinecolor": "white",
            "gridwidth": 2
           },
           "zaxis": {
            "backgroundcolor": "rgb(237,237,237)",
            "gridcolor": "white",
            "linecolor": "white",
            "showbackground": true,
            "showgrid": true,
            "tickcolor": "rgb(51,51,51)",
            "ticks": "outside",
            "zerolinecolor": "white",
            "gridwidth": 2
           }
          },
          "shapedefaults": {
           "fillcolor": "black",
           "line": {
            "width": 0
           },
           "opacity": 0.3
          },
          "annotationdefaults": {
           "arrowhead": 0,
           "arrowwidth": 1
          },
          "geo": {
           "bgcolor": "white",
           "landcolor": "rgb(237,237,237)",
           "subunitcolor": "white",
           "showland": true,
           "showlakes": true,
           "lakecolor": "white"
          }
         }
        },
        "xaxis": {
         "anchor": "y",
         "domain": [
          0.0,
          1.0
         ],
         "title": {
          "text": "x"
         }
        },
        "yaxis": {
         "anchor": "x",
         "domain": [
          0.0,
          1.0
         ],
         "title": {
          "text": "y"
         }
        },
        "coloraxis": {
         "colorbar": {
          "title": {
           "text": "color"
          }
         },
         "colorscale": [
          [
           0.0,
           "rgb(20,44,66)"
          ],
          [
           1.0,
           "rgb(90,179,244)"
          ]
         ]
        },
        "legend": {
         "tracegroupgap": 0
        },
        "margin": {
         "t": 60
        }
       },
       "config": {
        "plotlyServerURL": "https://plot.ly"
       }
      },
      "text/html": "<div>                            <div id=\"bd281049-a69a-4c16-a7b7-94b3e5c8b82a\" class=\"plotly-graph-div\" style=\"height:525px; width:100%;\"></div>            <script type=\"text/javascript\">                require([\"plotly\"], function(Plotly) {                    window.PLOTLYENV=window.PLOTLYENV || {};                                    if (document.getElementById(\"bd281049-a69a-4c16-a7b7-94b3e5c8b82a\")) {                    Plotly.newPlot(                        \"bd281049-a69a-4c16-a7b7-94b3e5c8b82a\",                        [{\"hovertemplate\":\"x=%{x}<br>y=%{y}<br>color=%{marker.color}<extra></extra>\",\"legendgroup\":\"\",\"marker\":{\"color\":[2,1,0,1,2,1,0,1,1,0,0,2,2,0,0,2,2,0,2,2,0,2,2,0,0,0,1,2,2,2,2,1,1,2,0,0,0,0,1,1,2,0,1,0,0,1,2,2,2,1,1,1,0,2,2,2,0,0,1,0,2,1,2,1,2,2,1,2,1,1,1,2,2,0,1,2,1,2,1,1,0,1,0,2,0,0,0,1,0,1,1,1,0,1,0,0,0,1,2,0,0,0],\"coloraxis\":\"coloraxis\",\"symbol\":\"circle\"},\"mode\":\"markers\",\"name\":\"\",\"orientation\":\"v\",\"showlegend\":false,\"x\":[-0.2675880341976451,0.014610817474291946,-0.17850472816489543,0.05655946028397872,-0.1818379822348453,-0.11381365123512421,-0.12150291178603592,-0.058938419722232696,-0.036390098829171914,-0.22701977387730202,-0.18383719937970336,-0.19111555078542253,-0.17015239968344267,-0.2238406789768864,-0.09251549717625089,-0.283540868235544,-0.18761097207000108,-0.15021059177802562,-0.2702264749076664,-0.17361946848444865,-0.17807357267085522,-0.2127962639133148,-0.23909354295979524,-0.11935790424645275,-0.14763476935506356,-0.17787575062505268,-0.1440561761918798,-0.16276851214905325,-0.27669194487625004,-0.2953619906431957,-0.2557163135048456,-0.022220920390021458,-0.0569942475007035,-0.12483115422413443,-0.03266561685317483,-0.18784187124625903,-0.14027733037894016,-0.12201399339884532,0.021863658859789924,-0.036768581899442945,-0.3053792757997258,-0.17919522780850283,-0.045771734618948005,-0.23963350649251652,-0.1533170448212342,-0.11892252884540543,-0.3217389475197723,-0.1949794897966283,-0.20638209335122942,-0.10085464567625113,-0.22979151271508186,-0.04293671148108283,-0.08724347024688148,-0.188807477091508,-0.14878797222895573,-0.2232152137786572,-0.21718445595070293,-0.1278599592555775,0.06190555627667973,-0.26787550005343336,-0.18644481611817687,-0.09327750591987066,-0.22477600389776417,-0.17989155291546768,-0.22614767869306884,-0.19206704466841656,-0.03901313626970307,-0.27062917713235374,-0.08101255792716304,-0.024966580119590596,-0.06769740821440753,-0.1894759154324369,-0.2921125199228268,-0.12062341122885839,-0.036206877593700136,-0.13872816643964822,0.013010167145764582,-0.2031639722992347,0.0909704723172212,-0.15368720503763728,-0.11934078959277739,-0.09905787335382633,-0.08653024514434608,-0.0744894783798801,-0.14604525659666548,-0.130216142069573,-0.040749857150757164,-0.10875142205117727,-0.2503354135902001,-0.07121357410928515,-0.03710413484699953,0.038052968918319996,-0.20972359698501722,-0.0015243499479936722,-0.18791789302284698,-0.19327222205186087,-0.07169106661718579,-0.05478210535674699,-0.13020889993106083,-0.2048254912944157,7.028344727496597,7.057566039234318],\"xaxis\":\"x\",\"y\":[-2.1006065464385824,-0.7563511779030639,1.3252541185393136,-0.8682199189206907,-0.7426164346200236,-0.32155591467612615,1.6085362863461754,0.2825888510936621,0.6826863046354348,1.2160839922877473,1.0428536426569215,-0.25430867344457775,-0.9152085102011832,0.1876592921680851,1.0824004704072345,-0.7938524366177021,-0.5683240385819349,1.6268473937657584,-1.0089366369275383,-1.15716048101673,0.6655766137553734,-0.886311882085149,-0.5492096549290572,1.9765484890036504,1.9939562802559077,1.6619084193691485,-0.22626226340714184,-1.6703105338141147,-0.5945587325628572,-1.9734257359449783,-0.9575590019922949,0.21974299098653485,0.24623508470590202,-1.6464464680458195,1.4723792524861874,0.7794403432485904,0.03813509002660365,0.7183405354050519,0.26403325483615636,-1.2514280918867111,-1.7230875473094422,0.8488140042294479,-0.7156655641481712,1.0990793347374546,0.7732838497678738,0.3587962500387367,-0.9887144658414716,-0.8574164948736348,-0.15853158349633503,-0.27932992088978154,0.586679464749419,-0.10453297241587743,1.8576074000079357,-0.5980012410791553,0.13147227211738283,-0.642374294348251,1.1758796431438634,-0.28148890124105075,-0.2901337293838252,0.6024033150652585,-1.5768790647001882,-0.16542766028597367,-1.602646687520076,0.03159976242679823,0.6701693293018766,-1.9245413034330285,1.6605322600815708,-1.6432589213340063,0.3847537740669638,0.00024003941396099506,-0.4759464423943243,-0.8828468000338123,-0.6799591416447308,-0.18319374095656324,-0.2804543284861097,-0.8394483627497518,-0.5460236961313996,-1.8573046268054743,0.16316477829047024,0.09380415992838104,0.5482100108207463,-0.16176342616132713,0.17154042256285565,-0.7995048592438219,0.2782706370819232,-0.31183965938488345,0.8225670897484914,1.0629971553314073,0.4993212475293942,-0.9085637547216638,-0.1466801489398326,0.5409016669132523,0.04627694245425198,1.482060644702462,2.1821422846311744,1.3704736896768817,1.5795757334246816,0.31329840603978343,-0.4200578090504447,0.7679787143024901,-0.2872293456094951,0.3803986400635545],\"yaxis\":\"y\",\"type\":\"scatter\"}],                        {\"template\":{\"data\":{\"histogram2dcontour\":[{\"type\":\"histogram2dcontour\",\"colorbar\":{\"outlinewidth\":0,\"tickcolor\":\"rgb(237,237,237)\",\"ticklen\":6,\"ticks\":\"inside\"},\"colorscale\":[[0,\"rgb(20,44,66)\"],[1,\"rgb(90,179,244)\"]]}],\"choropleth\":[{\"type\":\"choropleth\",\"colorbar\":{\"outlinewidth\":0,\"tickcolor\":\"rgb(237,237,237)\",\"ticklen\":6,\"ticks\":\"inside\"}}],\"histogram2d\":[{\"type\":\"histogram2d\",\"colorbar\":{\"outlinewidth\":0,\"tickcolor\":\"rgb(237,237,237)\",\"ticklen\":6,\"ticks\":\"inside\"},\"colorscale\":[[0,\"rgb(20,44,66)\"],[1,\"rgb(90,179,244)\"]]}],\"heatmap\":[{\"type\":\"heatmap\",\"colorbar\":{\"outlinewidth\":0,\"tickcolor\":\"rgb(237,237,237)\",\"ticklen\":6,\"ticks\":\"inside\"},\"colorscale\":[[0,\"rgb(20,44,66)\"],[1,\"rgb(90,179,244)\"]]}],\"heatmapgl\":[{\"type\":\"heatmapgl\",\"colorbar\":{\"outlinewidth\":0,\"tickcolor\":\"rgb(237,237,237)\",\"ticklen\":6,\"ticks\":\"inside\"},\"colorscale\":[[0,\"rgb(20,44,66)\"],[1,\"rgb(90,179,244)\"]]}],\"contourcarpet\":[{\"type\":\"contourcarpet\",\"colorbar\":{\"outlinewidth\":0,\"tickcolor\":\"rgb(237,237,237)\",\"ticklen\":6,\"ticks\":\"inside\"}}],\"contour\":[{\"type\":\"contour\",\"colorbar\":{\"outlinewidth\":0,\"tickcolor\":\"rgb(237,237,237)\",\"ticklen\":6,\"ticks\":\"inside\"},\"colorscale\":[[0,\"rgb(20,44,66)\"],[1,\"rgb(90,179,244)\"]]}],\"surface\":[{\"type\":\"surface\",\"colorbar\":{\"outlinewidth\":0,\"tickcolor\":\"rgb(237,237,237)\",\"ticklen\":6,\"ticks\":\"inside\"},\"colorscale\":[[0,\"rgb(20,44,66)\"],[1,\"rgb(90,179,244)\"]]}],\"mesh3d\":[{\"type\":\"mesh3d\",\"colorbar\":{\"outlinewidth\":0,\"tickcolor\":\"rgb(237,237,237)\",\"ticklen\":6,\"ticks\":\"inside\"}}],\"scatter\":[{\"fillpattern\":{\"fillmode\":\"overlay\",\"size\":10,\"solidity\":0.2},\"type\":\"scatter\"}],\"parcoords\":[{\"type\":\"parcoords\",\"line\":{\"colorbar\":{\"outlinewidth\":0,\"tickcolor\":\"rgb(237,237,237)\",\"ticklen\":6,\"ticks\":\"inside\"}}}],\"scatterpolargl\":[{\"type\":\"scatterpolargl\",\"marker\":{\"colorbar\":{\"outlinewidth\":0,\"tickcolor\":\"rgb(237,237,237)\",\"ticklen\":6,\"ticks\":\"inside\"}}}],\"bar\":[{\"error_x\":{\"color\":\"rgb(51,51,51)\"},\"error_y\":{\"color\":\"rgb(51,51,51)\"},\"marker\":{\"line\":{\"color\":\"rgb(237,237,237)\",\"width\":0.5},\"pattern\":{\"fillmode\":\"overlay\",\"size\":10,\"solidity\":0.2}},\"type\":\"bar\"}],\"scattergeo\":[{\"type\":\"scattergeo\",\"marker\":{\"colorbar\":{\"outlinewidth\":0,\"tickcolor\":\"rgb(237,237,237)\",\"ticklen\":6,\"ticks\":\"inside\"}}}],\"scatterpolar\":[{\"type\":\"scatterpolar\",\"marker\":{\"colorbar\":{\"outlinewidth\":0,\"tickcolor\":\"rgb(237,237,237)\",\"ticklen\":6,\"ticks\":\"inside\"}}}],\"histogram\":[{\"marker\":{\"pattern\":{\"fillmode\":\"overlay\",\"size\":10,\"solidity\":0.2}},\"type\":\"histogram\"}],\"scattergl\":[{\"type\":\"scattergl\",\"marker\":{\"colorbar\":{\"outlinewidth\":0,\"tickcolor\":\"rgb(237,237,237)\",\"ticklen\":6,\"ticks\":\"inside\"}}}],\"scatter3d\":[{\"type\":\"scatter3d\",\"line\":{\"colorbar\":{\"outlinewidth\":0,\"tickcolor\":\"rgb(237,237,237)\",\"ticklen\":6,\"ticks\":\"inside\"}},\"marker\":{\"colorbar\":{\"outlinewidth\":0,\"tickcolor\":\"rgb(237,237,237)\",\"ticklen\":6,\"ticks\":\"inside\"}}}],\"scattermapbox\":[{\"type\":\"scattermapbox\",\"marker\":{\"colorbar\":{\"outlinewidth\":0,\"tickcolor\":\"rgb(237,237,237)\",\"ticklen\":6,\"ticks\":\"inside\"}}}],\"scatterternary\":[{\"type\":\"scatterternary\",\"marker\":{\"colorbar\":{\"outlinewidth\":0,\"tickcolor\":\"rgb(237,237,237)\",\"ticklen\":6,\"ticks\":\"inside\"}}}],\"scattercarpet\":[{\"type\":\"scattercarpet\",\"marker\":{\"colorbar\":{\"outlinewidth\":0,\"tickcolor\":\"rgb(237,237,237)\",\"ticklen\":6,\"ticks\":\"inside\"}}}],\"carpet\":[{\"aaxis\":{\"endlinecolor\":\"rgb(51,51,51)\",\"gridcolor\":\"white\",\"linecolor\":\"white\",\"minorgridcolor\":\"white\",\"startlinecolor\":\"rgb(51,51,51)\"},\"baxis\":{\"endlinecolor\":\"rgb(51,51,51)\",\"gridcolor\":\"white\",\"linecolor\":\"white\",\"minorgridcolor\":\"white\",\"startlinecolor\":\"rgb(51,51,51)\"},\"type\":\"carpet\"}],\"table\":[{\"cells\":{\"fill\":{\"color\":\"rgb(237,237,237)\"},\"line\":{\"color\":\"white\"}},\"header\":{\"fill\":{\"color\":\"rgb(217,217,217)\"},\"line\":{\"color\":\"white\"}},\"type\":\"table\"}],\"barpolar\":[{\"marker\":{\"line\":{\"color\":\"rgb(237,237,237)\",\"width\":0.5},\"pattern\":{\"fillmode\":\"overlay\",\"size\":10,\"solidity\":0.2}},\"type\":\"barpolar\"}],\"pie\":[{\"automargin\":true,\"type\":\"pie\"}]},\"layout\":{\"autotypenumbers\":\"strict\",\"colorway\":[\"#F8766D\",\"#A3A500\",\"#00BF7D\",\"#00B0F6\",\"#E76BF3\"],\"font\":{\"color\":\"rgb(51,51,51)\"},\"hovermode\":\"closest\",\"hoverlabel\":{\"align\":\"left\"},\"paper_bgcolor\":\"white\",\"plot_bgcolor\":\"rgb(237,237,237)\",\"polar\":{\"bgcolor\":\"rgb(237,237,237)\",\"angularaxis\":{\"gridcolor\":\"white\",\"linecolor\":\"white\",\"showgrid\":true,\"tickcolor\":\"rgb(51,51,51)\",\"ticks\":\"outside\"},\"radialaxis\":{\"gridcolor\":\"white\",\"linecolor\":\"white\",\"showgrid\":true,\"tickcolor\":\"rgb(51,51,51)\",\"ticks\":\"outside\"}},\"ternary\":{\"bgcolor\":\"rgb(237,237,237)\",\"aaxis\":{\"gridcolor\":\"white\",\"linecolor\":\"white\",\"showgrid\":true,\"tickcolor\":\"rgb(51,51,51)\",\"ticks\":\"outside\"},\"baxis\":{\"gridcolor\":\"white\",\"linecolor\":\"white\",\"showgrid\":true,\"tickcolor\":\"rgb(51,51,51)\",\"ticks\":\"outside\"},\"caxis\":{\"gridcolor\":\"white\",\"linecolor\":\"white\",\"showgrid\":true,\"tickcolor\":\"rgb(51,51,51)\",\"ticks\":\"outside\"}},\"coloraxis\":{\"colorbar\":{\"outlinewidth\":0,\"tickcolor\":\"rgb(237,237,237)\",\"ticklen\":6,\"ticks\":\"inside\"}},\"colorscale\":{\"sequential\":[[0,\"rgb(20,44,66)\"],[1,\"rgb(90,179,244)\"]],\"sequentialminus\":[[0,\"rgb(20,44,66)\"],[1,\"rgb(90,179,244)\"]]},\"xaxis\":{\"gridcolor\":\"white\",\"linecolor\":\"white\",\"showgrid\":true,\"tickcolor\":\"rgb(51,51,51)\",\"ticks\":\"outside\",\"title\":{\"standoff\":15},\"zerolinecolor\":\"white\",\"automargin\":true},\"yaxis\":{\"gridcolor\":\"white\",\"linecolor\":\"white\",\"showgrid\":true,\"tickcolor\":\"rgb(51,51,51)\",\"ticks\":\"outside\",\"title\":{\"standoff\":15},\"zerolinecolor\":\"white\",\"automargin\":true},\"scene\":{\"xaxis\":{\"backgroundcolor\":\"rgb(237,237,237)\",\"gridcolor\":\"white\",\"linecolor\":\"white\",\"showbackground\":true,\"showgrid\":true,\"tickcolor\":\"rgb(51,51,51)\",\"ticks\":\"outside\",\"zerolinecolor\":\"white\",\"gridwidth\":2},\"yaxis\":{\"backgroundcolor\":\"rgb(237,237,237)\",\"gridcolor\":\"white\",\"linecolor\":\"white\",\"showbackground\":true,\"showgrid\":true,\"tickcolor\":\"rgb(51,51,51)\",\"ticks\":\"outside\",\"zerolinecolor\":\"white\",\"gridwidth\":2},\"zaxis\":{\"backgroundcolor\":\"rgb(237,237,237)\",\"gridcolor\":\"white\",\"linecolor\":\"white\",\"showbackground\":true,\"showgrid\":true,\"tickcolor\":\"rgb(51,51,51)\",\"ticks\":\"outside\",\"zerolinecolor\":\"white\",\"gridwidth\":2}},\"shapedefaults\":{\"fillcolor\":\"black\",\"line\":{\"width\":0},\"opacity\":0.3},\"annotationdefaults\":{\"arrowhead\":0,\"arrowwidth\":1},\"geo\":{\"bgcolor\":\"white\",\"landcolor\":\"rgb(237,237,237)\",\"subunitcolor\":\"white\",\"showland\":true,\"showlakes\":true,\"lakecolor\":\"white\"}}},\"xaxis\":{\"anchor\":\"y\",\"domain\":[0.0,1.0],\"title\":{\"text\":\"x\"}},\"yaxis\":{\"anchor\":\"x\",\"domain\":[0.0,1.0],\"title\":{\"text\":\"y\"}},\"coloraxis\":{\"colorbar\":{\"title\":{\"text\":\"color\"}},\"colorscale\":[[0.0,\"rgb(20,44,66)\"],[1.0,\"rgb(90,179,244)\"]]},\"legend\":{\"tracegroupgap\":0},\"margin\":{\"t\":60}},                        {\"responsive\": true}                    ).then(function(){\n                            \nvar gd = document.getElementById('bd281049-a69a-4c16-a7b7-94b3e5c8b82a');\nvar x = new MutationObserver(function (mutations, observer) {{\n        var display = window.getComputedStyle(gd).display;\n        if (!display || display === 'none') {{\n            console.log([gd, 'removed!']);\n            Plotly.purge(gd);\n            observer.disconnect();\n        }}\n}});\n\n// Listen for the removal of the full notebook cells\nvar notebookContainer = gd.closest('#notebook-container');\nif (notebookContainer) {{\n    x.observe(notebookContainer, {childList: true});\n}}\n\n// Listen for the clearing of the current output cell\nvar outputEl = gd.closest('.output');\nif (outputEl) {{\n    x.observe(outputEl, {childList: true});\n}}\n\n                        })                };                });            </script>        </div>"
     },
     "metadata": {},
     "output_type": "display_data"
    }
   ],
   "source": [
    "px.scatter(x=x_train_scaled[:, 0], y=x_train_scaled[:, 1], color=true_labels)"
   ],
   "metadata": {
    "collapsed": false
   }
  },
  {
   "cell_type": "code",
   "execution_count": 84,
   "outputs": [],
   "source": [
    "kmeans = KMeans(n_clusters=n_clusters)\n",
    "kmeans.fit(x_train_scaled)"
   ],
   "metadata": {
    "collapsed": false
   }
  },
  {
   "cell_type": "code",
   "execution_count": 85,
   "outputs": [
    {
     "data": {
      "text/plain": "(114.36089420745236, 0.7156862745098039)"
     },
     "execution_count": 85,
     "metadata": {},
     "output_type": "execute_result"
    }
   ],
   "source": [
    "kmeans.inertia, kmeans.score(true_labels)"
   ],
   "metadata": {
    "collapsed": false
   }
  },
  {
   "cell_type": "code",
   "execution_count": 86,
   "outputs": [
    {
     "data": {
      "application/vnd.plotly.v1+json": {
       "data": [
        {
         "hovertemplate": "x=%{x}<br>y=%{y}<extra></extra>",
         "legendgroup": "",
         "marker": {
          "color": "black",
          "symbol": "x-thin",
          "line": {
           "width": 2
          },
          "size": 12
         },
         "mode": "markers",
         "name": "",
         "orientation": "v",
         "showlegend": false,
         "x": [
          0.28780249699658683,
          -0.17843183640855032,
          -0.14678593715248173
         ],
         "xaxis": "x",
         "y": [
          0.03534198637124471,
          -1.077220272880024,
          1.2131685351688262
         ],
         "yaxis": "y",
         "type": "scatter"
        },
        {
         "marker": {
          "color": [
           1,
           1,
           2,
           1,
           1,
           0,
           2,
           0,
           2,
           2,
           2,
           0,
           1,
           0,
           2,
           1,
           1,
           2,
           1,
           1,
           2,
           1,
           1,
           2,
           2,
           2,
           0,
           1,
           1,
           1,
           1,
           0,
           0,
           1,
           2,
           2,
           0,
           2,
           0,
           1,
           1,
           2,
           1,
           2,
           2,
           0,
           1,
           1,
           0,
           0,
           2,
           0,
           2,
           1,
           0,
           1,
           2,
           0,
           0,
           2,
           1,
           0,
           1,
           0,
           2,
           1,
           2,
           1,
           0,
           0,
           1,
           1,
           1,
           0,
           0,
           1,
           1,
           1,
           0,
           0,
           0,
           0,
           0,
           1,
           0,
           0,
           2,
           2,
           0,
           1,
           0,
           0,
           0,
           2,
           2,
           2,
           2,
           0,
           0,
           2,
           0,
           0
          ]
         },
         "mode": "markers",
         "x": [
          -0.2675880341976451,
          0.014610817474291946,
          -0.17850472816489543,
          0.05655946028397872,
          -0.1818379822348453,
          -0.11381365123512421,
          -0.12150291178603592,
          -0.058938419722232696,
          -0.036390098829171914,
          -0.22701977387730202,
          -0.18383719937970336,
          -0.19111555078542253,
          -0.17015239968344267,
          -0.2238406789768864,
          -0.09251549717625089,
          -0.283540868235544,
          -0.18761097207000108,
          -0.15021059177802562,
          -0.2702264749076664,
          -0.17361946848444865,
          -0.17807357267085522,
          -0.2127962639133148,
          -0.23909354295979524,
          -0.11935790424645275,
          -0.14763476935506356,
          -0.17787575062505268,
          -0.1440561761918798,
          -0.16276851214905325,
          -0.27669194487625004,
          -0.2953619906431957,
          -0.2557163135048456,
          -0.022220920390021458,
          -0.0569942475007035,
          -0.12483115422413443,
          -0.03266561685317483,
          -0.18784187124625903,
          -0.14027733037894016,
          -0.12201399339884532,
          0.021863658859789924,
          -0.036768581899442945,
          -0.3053792757997258,
          -0.17919522780850283,
          -0.045771734618948005,
          -0.23963350649251652,
          -0.1533170448212342,
          -0.11892252884540543,
          -0.3217389475197723,
          -0.1949794897966283,
          -0.20638209335122942,
          -0.10085464567625113,
          -0.22979151271508186,
          -0.04293671148108283,
          -0.08724347024688148,
          -0.188807477091508,
          -0.14878797222895573,
          -0.2232152137786572,
          -0.21718445595070293,
          -0.1278599592555775,
          0.06190555627667973,
          -0.26787550005343336,
          -0.18644481611817687,
          -0.09327750591987066,
          -0.22477600389776417,
          -0.17989155291546768,
          -0.22614767869306884,
          -0.19206704466841656,
          -0.03901313626970307,
          -0.27062917713235374,
          -0.08101255792716304,
          -0.024966580119590596,
          -0.06769740821440753,
          -0.1894759154324369,
          -0.2921125199228268,
          -0.12062341122885839,
          -0.036206877593700136,
          -0.13872816643964822,
          0.013010167145764582,
          -0.2031639722992347,
          0.0909704723172212,
          -0.15368720503763728,
          -0.11934078959277739,
          -0.09905787335382633,
          -0.08653024514434608,
          -0.0744894783798801,
          -0.14604525659666548,
          -0.130216142069573,
          -0.040749857150757164,
          -0.10875142205117727,
          -0.2503354135902001,
          -0.07121357410928515,
          -0.03710413484699953,
          0.038052968918319996,
          -0.20972359698501722,
          -0.0015243499479936722,
          -0.18791789302284698,
          -0.19327222205186087,
          -0.07169106661718579,
          -0.05478210535674699,
          -0.13020889993106083,
          -0.2048254912944157,
          7.028344727496597,
          7.057566039234318
         ],
         "y": [
          -2.1006065464385824,
          -0.7563511779030639,
          1.3252541185393136,
          -0.8682199189206907,
          -0.7426164346200236,
          -0.32155591467612615,
          1.6085362863461754,
          0.2825888510936621,
          0.6826863046354348,
          1.2160839922877473,
          1.0428536426569215,
          -0.25430867344457775,
          -0.9152085102011832,
          0.1876592921680851,
          1.0824004704072345,
          -0.7938524366177021,
          -0.5683240385819349,
          1.6268473937657584,
          -1.0089366369275383,
          -1.15716048101673,
          0.6655766137553734,
          -0.886311882085149,
          -0.5492096549290572,
          1.9765484890036504,
          1.9939562802559077,
          1.6619084193691485,
          -0.22626226340714184,
          -1.6703105338141147,
          -0.5945587325628572,
          -1.9734257359449783,
          -0.9575590019922949,
          0.21974299098653485,
          0.24623508470590202,
          -1.6464464680458195,
          1.4723792524861874,
          0.7794403432485904,
          0.03813509002660365,
          0.7183405354050519,
          0.26403325483615636,
          -1.2514280918867111,
          -1.7230875473094422,
          0.8488140042294479,
          -0.7156655641481712,
          1.0990793347374546,
          0.7732838497678738,
          0.3587962500387367,
          -0.9887144658414716,
          -0.8574164948736348,
          -0.15853158349633503,
          -0.27932992088978154,
          0.586679464749419,
          -0.10453297241587743,
          1.8576074000079357,
          -0.5980012410791553,
          0.13147227211738283,
          -0.642374294348251,
          1.1758796431438634,
          -0.28148890124105075,
          -0.2901337293838252,
          0.6024033150652585,
          -1.5768790647001882,
          -0.16542766028597367,
          -1.602646687520076,
          0.03159976242679823,
          0.6701693293018766,
          -1.9245413034330285,
          1.6605322600815708,
          -1.6432589213340063,
          0.3847537740669638,
          2.4003941396099506E-4,
          -0.4759464423943243,
          -0.8828468000338123,
          -0.6799591416447308,
          -0.18319374095656324,
          -0.2804543284861097,
          -0.8394483627497518,
          -0.5460236961313996,
          -1.8573046268054743,
          0.16316477829047024,
          0.09380415992838104,
          0.5482100108207463,
          -0.16176342616132713,
          0.17154042256285565,
          -0.7995048592438219,
          0.2782706370819232,
          -0.31183965938488345,
          0.8225670897484914,
          1.0629971553314073,
          0.4993212475293942,
          -0.9085637547216638,
          -0.1466801489398326,
          0.5409016669132523,
          0.04627694245425198,
          1.482060644702462,
          2.1821422846311744,
          1.3704736896768817,
          1.5795757334246816,
          0.31329840603978343,
          -0.4200578090504447,
          0.7679787143024901,
          -0.2872293456094951,
          0.3803986400635545
         ],
         "type": "scatter"
        }
       ],
       "layout": {
        "template": {
         "data": {
          "histogram2dcontour": [
           {
            "type": "histogram2dcontour",
            "colorbar": {
             "outlinewidth": 0,
             "tickcolor": "rgb(237,237,237)",
             "ticklen": 6,
             "ticks": "inside"
            },
            "colorscale": [
             [
              0,
              "rgb(20,44,66)"
             ],
             [
              1,
              "rgb(90,179,244)"
             ]
            ]
           }
          ],
          "choropleth": [
           {
            "type": "choropleth",
            "colorbar": {
             "outlinewidth": 0,
             "tickcolor": "rgb(237,237,237)",
             "ticklen": 6,
             "ticks": "inside"
            }
           }
          ],
          "histogram2d": [
           {
            "type": "histogram2d",
            "colorbar": {
             "outlinewidth": 0,
             "tickcolor": "rgb(237,237,237)",
             "ticklen": 6,
             "ticks": "inside"
            },
            "colorscale": [
             [
              0,
              "rgb(20,44,66)"
             ],
             [
              1,
              "rgb(90,179,244)"
             ]
            ]
           }
          ],
          "heatmap": [
           {
            "type": "heatmap",
            "colorbar": {
             "outlinewidth": 0,
             "tickcolor": "rgb(237,237,237)",
             "ticklen": 6,
             "ticks": "inside"
            },
            "colorscale": [
             [
              0,
              "rgb(20,44,66)"
             ],
             [
              1,
              "rgb(90,179,244)"
             ]
            ]
           }
          ],
          "heatmapgl": [
           {
            "type": "heatmapgl",
            "colorbar": {
             "outlinewidth": 0,
             "tickcolor": "rgb(237,237,237)",
             "ticklen": 6,
             "ticks": "inside"
            },
            "colorscale": [
             [
              0,
              "rgb(20,44,66)"
             ],
             [
              1,
              "rgb(90,179,244)"
             ]
            ]
           }
          ],
          "contourcarpet": [
           {
            "type": "contourcarpet",
            "colorbar": {
             "outlinewidth": 0,
             "tickcolor": "rgb(237,237,237)",
             "ticklen": 6,
             "ticks": "inside"
            }
           }
          ],
          "contour": [
           {
            "type": "contour",
            "colorbar": {
             "outlinewidth": 0,
             "tickcolor": "rgb(237,237,237)",
             "ticklen": 6,
             "ticks": "inside"
            },
            "colorscale": [
             [
              0,
              "rgb(20,44,66)"
             ],
             [
              1,
              "rgb(90,179,244)"
             ]
            ]
           }
          ],
          "surface": [
           {
            "type": "surface",
            "colorbar": {
             "outlinewidth": 0,
             "tickcolor": "rgb(237,237,237)",
             "ticklen": 6,
             "ticks": "inside"
            },
            "colorscale": [
             [
              0,
              "rgb(20,44,66)"
             ],
             [
              1,
              "rgb(90,179,244)"
             ]
            ]
           }
          ],
          "mesh3d": [
           {
            "type": "mesh3d",
            "colorbar": {
             "outlinewidth": 0,
             "tickcolor": "rgb(237,237,237)",
             "ticklen": 6,
             "ticks": "inside"
            }
           }
          ],
          "scatter": [
           {
            "fillpattern": {
             "fillmode": "overlay",
             "size": 10,
             "solidity": 0.2
            },
            "type": "scatter"
           }
          ],
          "parcoords": [
           {
            "type": "parcoords",
            "line": {
             "colorbar": {
              "outlinewidth": 0,
              "tickcolor": "rgb(237,237,237)",
              "ticklen": 6,
              "ticks": "inside"
             }
            }
           }
          ],
          "scatterpolargl": [
           {
            "type": "scatterpolargl",
            "marker": {
             "colorbar": {
              "outlinewidth": 0,
              "tickcolor": "rgb(237,237,237)",
              "ticklen": 6,
              "ticks": "inside"
             }
            }
           }
          ],
          "bar": [
           {
            "error_x": {
             "color": "rgb(51,51,51)"
            },
            "error_y": {
             "color": "rgb(51,51,51)"
            },
            "marker": {
             "line": {
              "color": "rgb(237,237,237)",
              "width": 0.5
             },
             "pattern": {
              "fillmode": "overlay",
              "size": 10,
              "solidity": 0.2
             }
            },
            "type": "bar"
           }
          ],
          "scattergeo": [
           {
            "type": "scattergeo",
            "marker": {
             "colorbar": {
              "outlinewidth": 0,
              "tickcolor": "rgb(237,237,237)",
              "ticklen": 6,
              "ticks": "inside"
             }
            }
           }
          ],
          "scatterpolar": [
           {
            "type": "scatterpolar",
            "marker": {
             "colorbar": {
              "outlinewidth": 0,
              "tickcolor": "rgb(237,237,237)",
              "ticklen": 6,
              "ticks": "inside"
             }
            }
           }
          ],
          "histogram": [
           {
            "marker": {
             "pattern": {
              "fillmode": "overlay",
              "size": 10,
              "solidity": 0.2
             }
            },
            "type": "histogram"
           }
          ],
          "scattergl": [
           {
            "type": "scattergl",
            "marker": {
             "colorbar": {
              "outlinewidth": 0,
              "tickcolor": "rgb(237,237,237)",
              "ticklen": 6,
              "ticks": "inside"
             }
            }
           }
          ],
          "scatter3d": [
           {
            "type": "scatter3d",
            "line": {
             "colorbar": {
              "outlinewidth": 0,
              "tickcolor": "rgb(237,237,237)",
              "ticklen": 6,
              "ticks": "inside"
             }
            },
            "marker": {
             "colorbar": {
              "outlinewidth": 0,
              "tickcolor": "rgb(237,237,237)",
              "ticklen": 6,
              "ticks": "inside"
             }
            }
           }
          ],
          "scattermapbox": [
           {
            "type": "scattermapbox",
            "marker": {
             "colorbar": {
              "outlinewidth": 0,
              "tickcolor": "rgb(237,237,237)",
              "ticklen": 6,
              "ticks": "inside"
             }
            }
           }
          ],
          "scatterternary": [
           {
            "type": "scatterternary",
            "marker": {
             "colorbar": {
              "outlinewidth": 0,
              "tickcolor": "rgb(237,237,237)",
              "ticklen": 6,
              "ticks": "inside"
             }
            }
           }
          ],
          "scattercarpet": [
           {
            "type": "scattercarpet",
            "marker": {
             "colorbar": {
              "outlinewidth": 0,
              "tickcolor": "rgb(237,237,237)",
              "ticklen": 6,
              "ticks": "inside"
             }
            }
           }
          ],
          "carpet": [
           {
            "aaxis": {
             "endlinecolor": "rgb(51,51,51)",
             "gridcolor": "white",
             "linecolor": "white",
             "minorgridcolor": "white",
             "startlinecolor": "rgb(51,51,51)"
            },
            "baxis": {
             "endlinecolor": "rgb(51,51,51)",
             "gridcolor": "white",
             "linecolor": "white",
             "minorgridcolor": "white",
             "startlinecolor": "rgb(51,51,51)"
            },
            "type": "carpet"
           }
          ],
          "table": [
           {
            "cells": {
             "fill": {
              "color": "rgb(237,237,237)"
             },
             "line": {
              "color": "white"
             }
            },
            "header": {
             "fill": {
              "color": "rgb(217,217,217)"
             },
             "line": {
              "color": "white"
             }
            },
            "type": "table"
           }
          ],
          "barpolar": [
           {
            "marker": {
             "line": {
              "color": "rgb(237,237,237)",
              "width": 0.5
             },
             "pattern": {
              "fillmode": "overlay",
              "size": 10,
              "solidity": 0.2
             }
            },
            "type": "barpolar"
           }
          ],
          "pie": [
           {
            "automargin": true,
            "type": "pie"
           }
          ]
         },
         "layout": {
          "autotypenumbers": "strict",
          "colorway": [
           "#F8766D",
           "#A3A500",
           "#00BF7D",
           "#00B0F6",
           "#E76BF3"
          ],
          "font": {
           "color": "rgb(51,51,51)"
          },
          "hovermode": "closest",
          "hoverlabel": {
           "align": "left"
          },
          "paper_bgcolor": "white",
          "plot_bgcolor": "rgb(237,237,237)",
          "polar": {
           "bgcolor": "rgb(237,237,237)",
           "angularaxis": {
            "gridcolor": "white",
            "linecolor": "white",
            "showgrid": true,
            "tickcolor": "rgb(51,51,51)",
            "ticks": "outside"
           },
           "radialaxis": {
            "gridcolor": "white",
            "linecolor": "white",
            "showgrid": true,
            "tickcolor": "rgb(51,51,51)",
            "ticks": "outside"
           }
          },
          "ternary": {
           "bgcolor": "rgb(237,237,237)",
           "aaxis": {
            "gridcolor": "white",
            "linecolor": "white",
            "showgrid": true,
            "tickcolor": "rgb(51,51,51)",
            "ticks": "outside"
           },
           "baxis": {
            "gridcolor": "white",
            "linecolor": "white",
            "showgrid": true,
            "tickcolor": "rgb(51,51,51)",
            "ticks": "outside"
           },
           "caxis": {
            "gridcolor": "white",
            "linecolor": "white",
            "showgrid": true,
            "tickcolor": "rgb(51,51,51)",
            "ticks": "outside"
           }
          },
          "coloraxis": {
           "colorbar": {
            "outlinewidth": 0,
            "tickcolor": "rgb(237,237,237)",
            "ticklen": 6,
            "ticks": "inside"
           }
          },
          "colorscale": {
           "sequential": [
            [
             0,
             "rgb(20,44,66)"
            ],
            [
             1,
             "rgb(90,179,244)"
            ]
           ],
           "sequentialminus": [
            [
             0,
             "rgb(20,44,66)"
            ],
            [
             1,
             "rgb(90,179,244)"
            ]
           ]
          },
          "xaxis": {
           "gridcolor": "white",
           "linecolor": "white",
           "showgrid": true,
           "tickcolor": "rgb(51,51,51)",
           "ticks": "outside",
           "title": {
            "standoff": 15
           },
           "zerolinecolor": "white",
           "automargin": true
          },
          "yaxis": {
           "gridcolor": "white",
           "linecolor": "white",
           "showgrid": true,
           "tickcolor": "rgb(51,51,51)",
           "ticks": "outside",
           "title": {
            "standoff": 15
           },
           "zerolinecolor": "white",
           "automargin": true
          },
          "scene": {
           "xaxis": {
            "backgroundcolor": "rgb(237,237,237)",
            "gridcolor": "white",
            "linecolor": "white",
            "showbackground": true,
            "showgrid": true,
            "tickcolor": "rgb(51,51,51)",
            "ticks": "outside",
            "zerolinecolor": "white",
            "gridwidth": 2
           },
           "yaxis": {
            "backgroundcolor": "rgb(237,237,237)",
            "gridcolor": "white",
            "linecolor": "white",
            "showbackground": true,
            "showgrid": true,
            "tickcolor": "rgb(51,51,51)",
            "ticks": "outside",
            "zerolinecolor": "white",
            "gridwidth": 2
           },
           "zaxis": {
            "backgroundcolor": "rgb(237,237,237)",
            "gridcolor": "white",
            "linecolor": "white",
            "showbackground": true,
            "showgrid": true,
            "tickcolor": "rgb(51,51,51)",
            "ticks": "outside",
            "zerolinecolor": "white",
            "gridwidth": 2
           }
          },
          "shapedefaults": {
           "fillcolor": "black",
           "line": {
            "width": 0
           },
           "opacity": 0.3
          },
          "annotationdefaults": {
           "arrowhead": 0,
           "arrowwidth": 1
          },
          "geo": {
           "bgcolor": "white",
           "landcolor": "rgb(237,237,237)",
           "subunitcolor": "white",
           "showland": true,
           "showlakes": true,
           "lakecolor": "white"
          }
         }
        },
        "xaxis": {
         "anchor": "y",
         "domain": [
          0.0,
          1.0
         ],
         "title": {
          "text": "x"
         }
        },
        "yaxis": {
         "anchor": "x",
         "domain": [
          0.0,
          1.0
         ],
         "title": {
          "text": "y"
         }
        },
        "legend": {
         "tracegroupgap": 0
        },
        "margin": {
         "t": 60
        }
       },
       "config": {
        "plotlyServerURL": "https://plot.ly"
       }
      },
      "text/html": "<div>                            <div id=\"59412eec-151c-4903-a6dc-d44c64845d72\" class=\"plotly-graph-div\" style=\"height:525px; width:100%;\"></div>            <script type=\"text/javascript\">                require([\"plotly\"], function(Plotly) {                    window.PLOTLYENV=window.PLOTLYENV || {};                                    if (document.getElementById(\"59412eec-151c-4903-a6dc-d44c64845d72\")) {                    Plotly.newPlot(                        \"59412eec-151c-4903-a6dc-d44c64845d72\",                        [{\"hovertemplate\":\"x=%{x}<br>y=%{y}<extra></extra>\",\"legendgroup\":\"\",\"marker\":{\"color\":\"black\",\"symbol\":\"x-thin\",\"line\":{\"width\":2},\"size\":12},\"mode\":\"markers\",\"name\":\"\",\"orientation\":\"v\",\"showlegend\":false,\"x\":[0.28780249699658683,-0.17843183640855032,-0.14678593715248173],\"xaxis\":\"x\",\"y\":[0.03534198637124471,-1.077220272880024,1.2131685351688262],\"yaxis\":\"y\",\"type\":\"scatter\"},{\"marker\":{\"color\":[1,1,2,1,1,0,2,0,2,2,2,0,1,0,2,1,1,2,1,1,2,1,1,2,2,2,0,1,1,1,1,0,0,1,2,2,0,2,0,1,1,2,1,2,2,0,1,1,0,0,2,0,2,1,0,1,2,0,0,2,1,0,1,0,2,1,2,1,0,0,1,1,1,0,0,1,1,1,0,0,0,0,0,1,0,0,2,2,0,1,0,0,0,2,2,2,2,0,0,2,0,0]},\"mode\":\"markers\",\"x\":[-0.2675880341976451,0.014610817474291946,-0.17850472816489543,0.05655946028397872,-0.1818379822348453,-0.11381365123512421,-0.12150291178603592,-0.058938419722232696,-0.036390098829171914,-0.22701977387730202,-0.18383719937970336,-0.19111555078542253,-0.17015239968344267,-0.2238406789768864,-0.09251549717625089,-0.283540868235544,-0.18761097207000108,-0.15021059177802562,-0.2702264749076664,-0.17361946848444865,-0.17807357267085522,-0.2127962639133148,-0.23909354295979524,-0.11935790424645275,-0.14763476935506356,-0.17787575062505268,-0.1440561761918798,-0.16276851214905325,-0.27669194487625004,-0.2953619906431957,-0.2557163135048456,-0.022220920390021458,-0.0569942475007035,-0.12483115422413443,-0.03266561685317483,-0.18784187124625903,-0.14027733037894016,-0.12201399339884532,0.021863658859789924,-0.036768581899442945,-0.3053792757997258,-0.17919522780850283,-0.045771734618948005,-0.23963350649251652,-0.1533170448212342,-0.11892252884540543,-0.3217389475197723,-0.1949794897966283,-0.20638209335122942,-0.10085464567625113,-0.22979151271508186,-0.04293671148108283,-0.08724347024688148,-0.188807477091508,-0.14878797222895573,-0.2232152137786572,-0.21718445595070293,-0.1278599592555775,0.06190555627667973,-0.26787550005343336,-0.18644481611817687,-0.09327750591987066,-0.22477600389776417,-0.17989155291546768,-0.22614767869306884,-0.19206704466841656,-0.03901313626970307,-0.27062917713235374,-0.08101255792716304,-0.024966580119590596,-0.06769740821440753,-0.1894759154324369,-0.2921125199228268,-0.12062341122885839,-0.036206877593700136,-0.13872816643964822,0.013010167145764582,-0.2031639722992347,0.0909704723172212,-0.15368720503763728,-0.11934078959277739,-0.09905787335382633,-0.08653024514434608,-0.0744894783798801,-0.14604525659666548,-0.130216142069573,-0.040749857150757164,-0.10875142205117727,-0.2503354135902001,-0.07121357410928515,-0.03710413484699953,0.038052968918319996,-0.20972359698501722,-0.0015243499479936722,-0.18791789302284698,-0.19327222205186087,-0.07169106661718579,-0.05478210535674699,-0.13020889993106083,-0.2048254912944157,7.028344727496597,7.057566039234318],\"y\":[-2.1006065464385824,-0.7563511779030639,1.3252541185393136,-0.8682199189206907,-0.7426164346200236,-0.32155591467612615,1.6085362863461754,0.2825888510936621,0.6826863046354348,1.2160839922877473,1.0428536426569215,-0.25430867344457775,-0.9152085102011832,0.1876592921680851,1.0824004704072345,-0.7938524366177021,-0.5683240385819349,1.6268473937657584,-1.0089366369275383,-1.15716048101673,0.6655766137553734,-0.886311882085149,-0.5492096549290572,1.9765484890036504,1.9939562802559077,1.6619084193691485,-0.22626226340714184,-1.6703105338141147,-0.5945587325628572,-1.9734257359449783,-0.9575590019922949,0.21974299098653485,0.24623508470590202,-1.6464464680458195,1.4723792524861874,0.7794403432485904,0.03813509002660365,0.7183405354050519,0.26403325483615636,-1.2514280918867111,-1.7230875473094422,0.8488140042294479,-0.7156655641481712,1.0990793347374546,0.7732838497678738,0.3587962500387367,-0.9887144658414716,-0.8574164948736348,-0.15853158349633503,-0.27932992088978154,0.586679464749419,-0.10453297241587743,1.8576074000079357,-0.5980012410791553,0.13147227211738283,-0.642374294348251,1.1758796431438634,-0.28148890124105075,-0.2901337293838252,0.6024033150652585,-1.5768790647001882,-0.16542766028597367,-1.602646687520076,0.03159976242679823,0.6701693293018766,-1.9245413034330285,1.6605322600815708,-1.6432589213340063,0.3847537740669638,0.00024003941396099506,-0.4759464423943243,-0.8828468000338123,-0.6799591416447308,-0.18319374095656324,-0.2804543284861097,-0.8394483627497518,-0.5460236961313996,-1.8573046268054743,0.16316477829047024,0.09380415992838104,0.5482100108207463,-0.16176342616132713,0.17154042256285565,-0.7995048592438219,0.2782706370819232,-0.31183965938488345,0.8225670897484914,1.0629971553314073,0.4993212475293942,-0.9085637547216638,-0.1466801489398326,0.5409016669132523,0.04627694245425198,1.482060644702462,2.1821422846311744,1.3704736896768817,1.5795757334246816,0.31329840603978343,-0.4200578090504447,0.7679787143024901,-0.2872293456094951,0.3803986400635545],\"type\":\"scatter\"}],                        {\"template\":{\"data\":{\"histogram2dcontour\":[{\"type\":\"histogram2dcontour\",\"colorbar\":{\"outlinewidth\":0,\"tickcolor\":\"rgb(237,237,237)\",\"ticklen\":6,\"ticks\":\"inside\"},\"colorscale\":[[0,\"rgb(20,44,66)\"],[1,\"rgb(90,179,244)\"]]}],\"choropleth\":[{\"type\":\"choropleth\",\"colorbar\":{\"outlinewidth\":0,\"tickcolor\":\"rgb(237,237,237)\",\"ticklen\":6,\"ticks\":\"inside\"}}],\"histogram2d\":[{\"type\":\"histogram2d\",\"colorbar\":{\"outlinewidth\":0,\"tickcolor\":\"rgb(237,237,237)\",\"ticklen\":6,\"ticks\":\"inside\"},\"colorscale\":[[0,\"rgb(20,44,66)\"],[1,\"rgb(90,179,244)\"]]}],\"heatmap\":[{\"type\":\"heatmap\",\"colorbar\":{\"outlinewidth\":0,\"tickcolor\":\"rgb(237,237,237)\",\"ticklen\":6,\"ticks\":\"inside\"},\"colorscale\":[[0,\"rgb(20,44,66)\"],[1,\"rgb(90,179,244)\"]]}],\"heatmapgl\":[{\"type\":\"heatmapgl\",\"colorbar\":{\"outlinewidth\":0,\"tickcolor\":\"rgb(237,237,237)\",\"ticklen\":6,\"ticks\":\"inside\"},\"colorscale\":[[0,\"rgb(20,44,66)\"],[1,\"rgb(90,179,244)\"]]}],\"contourcarpet\":[{\"type\":\"contourcarpet\",\"colorbar\":{\"outlinewidth\":0,\"tickcolor\":\"rgb(237,237,237)\",\"ticklen\":6,\"ticks\":\"inside\"}}],\"contour\":[{\"type\":\"contour\",\"colorbar\":{\"outlinewidth\":0,\"tickcolor\":\"rgb(237,237,237)\",\"ticklen\":6,\"ticks\":\"inside\"},\"colorscale\":[[0,\"rgb(20,44,66)\"],[1,\"rgb(90,179,244)\"]]}],\"surface\":[{\"type\":\"surface\",\"colorbar\":{\"outlinewidth\":0,\"tickcolor\":\"rgb(237,237,237)\",\"ticklen\":6,\"ticks\":\"inside\"},\"colorscale\":[[0,\"rgb(20,44,66)\"],[1,\"rgb(90,179,244)\"]]}],\"mesh3d\":[{\"type\":\"mesh3d\",\"colorbar\":{\"outlinewidth\":0,\"tickcolor\":\"rgb(237,237,237)\",\"ticklen\":6,\"ticks\":\"inside\"}}],\"scatter\":[{\"fillpattern\":{\"fillmode\":\"overlay\",\"size\":10,\"solidity\":0.2},\"type\":\"scatter\"}],\"parcoords\":[{\"type\":\"parcoords\",\"line\":{\"colorbar\":{\"outlinewidth\":0,\"tickcolor\":\"rgb(237,237,237)\",\"ticklen\":6,\"ticks\":\"inside\"}}}],\"scatterpolargl\":[{\"type\":\"scatterpolargl\",\"marker\":{\"colorbar\":{\"outlinewidth\":0,\"tickcolor\":\"rgb(237,237,237)\",\"ticklen\":6,\"ticks\":\"inside\"}}}],\"bar\":[{\"error_x\":{\"color\":\"rgb(51,51,51)\"},\"error_y\":{\"color\":\"rgb(51,51,51)\"},\"marker\":{\"line\":{\"color\":\"rgb(237,237,237)\",\"width\":0.5},\"pattern\":{\"fillmode\":\"overlay\",\"size\":10,\"solidity\":0.2}},\"type\":\"bar\"}],\"scattergeo\":[{\"type\":\"scattergeo\",\"marker\":{\"colorbar\":{\"outlinewidth\":0,\"tickcolor\":\"rgb(237,237,237)\",\"ticklen\":6,\"ticks\":\"inside\"}}}],\"scatterpolar\":[{\"type\":\"scatterpolar\",\"marker\":{\"colorbar\":{\"outlinewidth\":0,\"tickcolor\":\"rgb(237,237,237)\",\"ticklen\":6,\"ticks\":\"inside\"}}}],\"histogram\":[{\"marker\":{\"pattern\":{\"fillmode\":\"overlay\",\"size\":10,\"solidity\":0.2}},\"type\":\"histogram\"}],\"scattergl\":[{\"type\":\"scattergl\",\"marker\":{\"colorbar\":{\"outlinewidth\":0,\"tickcolor\":\"rgb(237,237,237)\",\"ticklen\":6,\"ticks\":\"inside\"}}}],\"scatter3d\":[{\"type\":\"scatter3d\",\"line\":{\"colorbar\":{\"outlinewidth\":0,\"tickcolor\":\"rgb(237,237,237)\",\"ticklen\":6,\"ticks\":\"inside\"}},\"marker\":{\"colorbar\":{\"outlinewidth\":0,\"tickcolor\":\"rgb(237,237,237)\",\"ticklen\":6,\"ticks\":\"inside\"}}}],\"scattermapbox\":[{\"type\":\"scattermapbox\",\"marker\":{\"colorbar\":{\"outlinewidth\":0,\"tickcolor\":\"rgb(237,237,237)\",\"ticklen\":6,\"ticks\":\"inside\"}}}],\"scatterternary\":[{\"type\":\"scatterternary\",\"marker\":{\"colorbar\":{\"outlinewidth\":0,\"tickcolor\":\"rgb(237,237,237)\",\"ticklen\":6,\"ticks\":\"inside\"}}}],\"scattercarpet\":[{\"type\":\"scattercarpet\",\"marker\":{\"colorbar\":{\"outlinewidth\":0,\"tickcolor\":\"rgb(237,237,237)\",\"ticklen\":6,\"ticks\":\"inside\"}}}],\"carpet\":[{\"aaxis\":{\"endlinecolor\":\"rgb(51,51,51)\",\"gridcolor\":\"white\",\"linecolor\":\"white\",\"minorgridcolor\":\"white\",\"startlinecolor\":\"rgb(51,51,51)\"},\"baxis\":{\"endlinecolor\":\"rgb(51,51,51)\",\"gridcolor\":\"white\",\"linecolor\":\"white\",\"minorgridcolor\":\"white\",\"startlinecolor\":\"rgb(51,51,51)\"},\"type\":\"carpet\"}],\"table\":[{\"cells\":{\"fill\":{\"color\":\"rgb(237,237,237)\"},\"line\":{\"color\":\"white\"}},\"header\":{\"fill\":{\"color\":\"rgb(217,217,217)\"},\"line\":{\"color\":\"white\"}},\"type\":\"table\"}],\"barpolar\":[{\"marker\":{\"line\":{\"color\":\"rgb(237,237,237)\",\"width\":0.5},\"pattern\":{\"fillmode\":\"overlay\",\"size\":10,\"solidity\":0.2}},\"type\":\"barpolar\"}],\"pie\":[{\"automargin\":true,\"type\":\"pie\"}]},\"layout\":{\"autotypenumbers\":\"strict\",\"colorway\":[\"#F8766D\",\"#A3A500\",\"#00BF7D\",\"#00B0F6\",\"#E76BF3\"],\"font\":{\"color\":\"rgb(51,51,51)\"},\"hovermode\":\"closest\",\"hoverlabel\":{\"align\":\"left\"},\"paper_bgcolor\":\"white\",\"plot_bgcolor\":\"rgb(237,237,237)\",\"polar\":{\"bgcolor\":\"rgb(237,237,237)\",\"angularaxis\":{\"gridcolor\":\"white\",\"linecolor\":\"white\",\"showgrid\":true,\"tickcolor\":\"rgb(51,51,51)\",\"ticks\":\"outside\"},\"radialaxis\":{\"gridcolor\":\"white\",\"linecolor\":\"white\",\"showgrid\":true,\"tickcolor\":\"rgb(51,51,51)\",\"ticks\":\"outside\"}},\"ternary\":{\"bgcolor\":\"rgb(237,237,237)\",\"aaxis\":{\"gridcolor\":\"white\",\"linecolor\":\"white\",\"showgrid\":true,\"tickcolor\":\"rgb(51,51,51)\",\"ticks\":\"outside\"},\"baxis\":{\"gridcolor\":\"white\",\"linecolor\":\"white\",\"showgrid\":true,\"tickcolor\":\"rgb(51,51,51)\",\"ticks\":\"outside\"},\"caxis\":{\"gridcolor\":\"white\",\"linecolor\":\"white\",\"showgrid\":true,\"tickcolor\":\"rgb(51,51,51)\",\"ticks\":\"outside\"}},\"coloraxis\":{\"colorbar\":{\"outlinewidth\":0,\"tickcolor\":\"rgb(237,237,237)\",\"ticklen\":6,\"ticks\":\"inside\"}},\"colorscale\":{\"sequential\":[[0,\"rgb(20,44,66)\"],[1,\"rgb(90,179,244)\"]],\"sequentialminus\":[[0,\"rgb(20,44,66)\"],[1,\"rgb(90,179,244)\"]]},\"xaxis\":{\"gridcolor\":\"white\",\"linecolor\":\"white\",\"showgrid\":true,\"tickcolor\":\"rgb(51,51,51)\",\"ticks\":\"outside\",\"title\":{\"standoff\":15},\"zerolinecolor\":\"white\",\"automargin\":true},\"yaxis\":{\"gridcolor\":\"white\",\"linecolor\":\"white\",\"showgrid\":true,\"tickcolor\":\"rgb(51,51,51)\",\"ticks\":\"outside\",\"title\":{\"standoff\":15},\"zerolinecolor\":\"white\",\"automargin\":true},\"scene\":{\"xaxis\":{\"backgroundcolor\":\"rgb(237,237,237)\",\"gridcolor\":\"white\",\"linecolor\":\"white\",\"showbackground\":true,\"showgrid\":true,\"tickcolor\":\"rgb(51,51,51)\",\"ticks\":\"outside\",\"zerolinecolor\":\"white\",\"gridwidth\":2},\"yaxis\":{\"backgroundcolor\":\"rgb(237,237,237)\",\"gridcolor\":\"white\",\"linecolor\":\"white\",\"showbackground\":true,\"showgrid\":true,\"tickcolor\":\"rgb(51,51,51)\",\"ticks\":\"outside\",\"zerolinecolor\":\"white\",\"gridwidth\":2},\"zaxis\":{\"backgroundcolor\":\"rgb(237,237,237)\",\"gridcolor\":\"white\",\"linecolor\":\"white\",\"showbackground\":true,\"showgrid\":true,\"tickcolor\":\"rgb(51,51,51)\",\"ticks\":\"outside\",\"zerolinecolor\":\"white\",\"gridwidth\":2}},\"shapedefaults\":{\"fillcolor\":\"black\",\"line\":{\"width\":0},\"opacity\":0.3},\"annotationdefaults\":{\"arrowhead\":0,\"arrowwidth\":1},\"geo\":{\"bgcolor\":\"white\",\"landcolor\":\"rgb(237,237,237)\",\"subunitcolor\":\"white\",\"showland\":true,\"showlakes\":true,\"lakecolor\":\"white\"}}},\"xaxis\":{\"anchor\":\"y\",\"domain\":[0.0,1.0],\"title\":{\"text\":\"x\"}},\"yaxis\":{\"anchor\":\"x\",\"domain\":[0.0,1.0],\"title\":{\"text\":\"y\"}},\"legend\":{\"tracegroupgap\":0},\"margin\":{\"t\":60}},                        {\"responsive\": true}                    ).then(function(){\n                            \nvar gd = document.getElementById('59412eec-151c-4903-a6dc-d44c64845d72');\nvar x = new MutationObserver(function (mutations, observer) {{\n        var display = window.getComputedStyle(gd).display;\n        if (!display || display === 'none') {{\n            console.log([gd, 'removed!']);\n            Plotly.purge(gd);\n            observer.disconnect();\n        }}\n}});\n\n// Listen for the removal of the full notebook cells\nvar notebookContainer = gd.closest('#notebook-container');\nif (notebookContainer) {{\n    x.observe(notebookContainer, {childList: true});\n}}\n\n// Listen for the clearing of the current output cell\nvar outputEl = gd.closest('.output');\nif (outputEl) {{\n    x.observe(outputEl, {childList: true});\n}}\n\n                        })                };                });            </script>        </div>"
     },
     "metadata": {},
     "output_type": "display_data"
    }
   ],
   "source": [
    "fig = px.scatter(x=kmeans.centroids[:, 0], y=kmeans.centroids[:, 1])\n",
    "fig.update_traces(mode='markers', marker_size=12, marker_color='black', marker_symbol='x-thin', marker_line_width=2)\n",
    "fig.add_scatter(x=x_train_scaled[:, 0], y=x_train_scaled[:, 1], marker_color=kmeans.labels, mode='markers')\n",
    "fig.show()"
   ],
   "metadata": {
    "collapsed": false
   }
  },
  {
   "cell_type": "code",
   "execution_count": 81,
   "outputs": [],
   "source": [
    "kmeans = RobustKMeans(n_clusters=n_clusters, max_iter=300)\n",
    "kmeans.fit(x_train_scaled, n=10000)"
   ],
   "metadata": {
    "collapsed": false
   }
  },
  {
   "cell_type": "code",
   "execution_count": 82,
   "outputs": [
    {
     "data": {
      "text/plain": "(114.2794758875863, 0.7549019607843137)"
     },
     "execution_count": 82,
     "metadata": {},
     "output_type": "execute_result"
    }
   ],
   "source": [
    "kmeans.inertia, kmeans.score(true_labels)"
   ],
   "metadata": {
    "collapsed": false
   }
  },
  {
   "cell_type": "code",
   "execution_count": 83,
   "outputs": [
    {
     "data": {
      "application/vnd.plotly.v1+json": {
       "data": [
        {
         "hovertemplate": "x=%{x}<br>y=%{y}<br>color=%{marker.color}<extra></extra>",
         "legendgroup": "",
         "marker": {
          "color": [
           0,
           0,
           1,
           0,
           0,
           2,
           1,
           2,
           1,
           1,
           1,
           2,
           0,
           2,
           1,
           0,
           0,
           1,
           0,
           0,
           1,
           0,
           0,
           1,
           1,
           1,
           2,
           0,
           0,
           0,
           0,
           2,
           2,
           0,
           1,
           1,
           2,
           1,
           2,
           0,
           0,
           1,
           0,
           1,
           1,
           2,
           0,
           0,
           2,
           2,
           1,
           2,
           1,
           0,
           2,
           0,
           1,
           2,
           2,
           1,
           0,
           2,
           0,
           2,
           1,
           0,
           1,
           0,
           2,
           2,
           2,
           0,
           0,
           2,
           2,
           0,
           2,
           0,
           2,
           2,
           1,
           2,
           2,
           0,
           2,
           2,
           1,
           1,
           1,
           0,
           2,
           2,
           2,
           1,
           1,
           1,
           1,
           2,
           2,
           1,
           2,
           2
          ],
          "coloraxis": "coloraxis",
          "symbol": "circle"
         },
         "mode": "markers",
         "name": "",
         "orientation": "v",
         "showlegend": false,
         "x": [
          -0.2675880341976451,
          0.014610817474291946,
          -0.17850472816489543,
          0.05655946028397872,
          -0.1818379822348453,
          -0.11381365123512421,
          -0.12150291178603592,
          -0.058938419722232696,
          -0.036390098829171914,
          -0.22701977387730202,
          -0.18383719937970336,
          -0.19111555078542253,
          -0.17015239968344267,
          -0.2238406789768864,
          -0.09251549717625089,
          -0.283540868235544,
          -0.18761097207000108,
          -0.15021059177802562,
          -0.2702264749076664,
          -0.17361946848444865,
          -0.17807357267085522,
          -0.2127962639133148,
          -0.23909354295979524,
          -0.11935790424645275,
          -0.14763476935506356,
          -0.17787575062505268,
          -0.1440561761918798,
          -0.16276851214905325,
          -0.27669194487625004,
          -0.2953619906431957,
          -0.2557163135048456,
          -0.022220920390021458,
          -0.0569942475007035,
          -0.12483115422413443,
          -0.03266561685317483,
          -0.18784187124625903,
          -0.14027733037894016,
          -0.12201399339884532,
          0.021863658859789924,
          -0.036768581899442945,
          -0.3053792757997258,
          -0.17919522780850283,
          -0.045771734618948005,
          -0.23963350649251652,
          -0.1533170448212342,
          -0.11892252884540543,
          -0.3217389475197723,
          -0.1949794897966283,
          -0.20638209335122942,
          -0.10085464567625113,
          -0.22979151271508186,
          -0.04293671148108283,
          -0.08724347024688148,
          -0.188807477091508,
          -0.14878797222895573,
          -0.2232152137786572,
          -0.21718445595070293,
          -0.1278599592555775,
          0.06190555627667973,
          -0.26787550005343336,
          -0.18644481611817687,
          -0.09327750591987066,
          -0.22477600389776417,
          -0.17989155291546768,
          -0.22614767869306884,
          -0.19206704466841656,
          -0.03901313626970307,
          -0.27062917713235374,
          -0.08101255792716304,
          -0.024966580119590596,
          -0.06769740821440753,
          -0.1894759154324369,
          -0.2921125199228268,
          -0.12062341122885839,
          -0.036206877593700136,
          -0.13872816643964822,
          0.013010167145764582,
          -0.2031639722992347,
          0.0909704723172212,
          -0.15368720503763728,
          -0.11934078959277739,
          -0.09905787335382633,
          -0.08653024514434608,
          -0.0744894783798801,
          -0.14604525659666548,
          -0.130216142069573,
          -0.040749857150757164,
          -0.10875142205117727,
          -0.2503354135902001,
          -0.07121357410928515,
          -0.03710413484699953,
          0.038052968918319996,
          -0.20972359698501722,
          -0.0015243499479936722,
          -0.18791789302284698,
          -0.19327222205186087,
          -0.07169106661718579,
          -0.05478210535674699,
          -0.13020889993106083,
          -0.2048254912944157,
          7.028344727496597,
          7.057566039234318
         ],
         "xaxis": "x",
         "y": [
          -2.1006065464385824,
          -0.7563511779030639,
          1.3252541185393136,
          -0.8682199189206907,
          -0.7426164346200236,
          -0.32155591467612615,
          1.6085362863461754,
          0.2825888510936621,
          0.6826863046354348,
          1.2160839922877473,
          1.0428536426569215,
          -0.25430867344457775,
          -0.9152085102011832,
          0.1876592921680851,
          1.0824004704072345,
          -0.7938524366177021,
          -0.5683240385819349,
          1.6268473937657584,
          -1.0089366369275383,
          -1.15716048101673,
          0.6655766137553734,
          -0.886311882085149,
          -0.5492096549290572,
          1.9765484890036504,
          1.9939562802559077,
          1.6619084193691485,
          -0.22626226340714184,
          -1.6703105338141147,
          -0.5945587325628572,
          -1.9734257359449783,
          -0.9575590019922949,
          0.21974299098653485,
          0.24623508470590202,
          -1.6464464680458195,
          1.4723792524861874,
          0.7794403432485904,
          0.03813509002660365,
          0.7183405354050519,
          0.26403325483615636,
          -1.2514280918867111,
          -1.7230875473094422,
          0.8488140042294479,
          -0.7156655641481712,
          1.0990793347374546,
          0.7732838497678738,
          0.3587962500387367,
          -0.9887144658414716,
          -0.8574164948736348,
          -0.15853158349633503,
          -0.27932992088978154,
          0.586679464749419,
          -0.10453297241587743,
          1.8576074000079357,
          -0.5980012410791553,
          0.13147227211738283,
          -0.642374294348251,
          1.1758796431438634,
          -0.28148890124105075,
          -0.2901337293838252,
          0.6024033150652585,
          -1.5768790647001882,
          -0.16542766028597367,
          -1.602646687520076,
          0.03159976242679823,
          0.6701693293018766,
          -1.9245413034330285,
          1.6605322600815708,
          -1.6432589213340063,
          0.3847537740669638,
          2.4003941396099506E-4,
          -0.4759464423943243,
          -0.8828468000338123,
          -0.6799591416447308,
          -0.18319374095656324,
          -0.2804543284861097,
          -0.8394483627497518,
          -0.5460236961313996,
          -1.8573046268054743,
          0.16316477829047024,
          0.09380415992838104,
          0.5482100108207463,
          -0.16176342616132713,
          0.17154042256285565,
          -0.7995048592438219,
          0.2782706370819232,
          -0.31183965938488345,
          0.8225670897484914,
          1.0629971553314073,
          0.4993212475293942,
          -0.9085637547216638,
          -0.1466801489398326,
          0.5409016669132523,
          0.04627694245425198,
          1.482060644702462,
          2.1821422846311744,
          1.3704736896768817,
          1.5795757334246816,
          0.31329840603978343,
          -0.4200578090504447,
          0.7679787143024901,
          -0.2872293456094951,
          0.3803986400635545
         ],
         "yaxis": "y",
         "type": "scatter"
        },
        {
         "marker": {
          "color": "black",
          "line": {
           "width": 2
          },
          "size": 12,
          "symbol": "x-thin"
         },
         "mode": "markers",
         "showlegend": false,
         "x": [
          -0.18760203796907676,
          -0.1491775577722023,
          0.2962648030458437
         ],
         "y": [
          -1.111609658479388,
          1.1701607968729375,
          -0.020641895542947514
         ],
         "type": "scatter"
        }
       ],
       "layout": {
        "template": {
         "data": {
          "histogram2dcontour": [
           {
            "type": "histogram2dcontour",
            "colorbar": {
             "outlinewidth": 0,
             "tickcolor": "rgb(237,237,237)",
             "ticklen": 6,
             "ticks": "inside"
            },
            "colorscale": [
             [
              0,
              "rgb(20,44,66)"
             ],
             [
              1,
              "rgb(90,179,244)"
             ]
            ]
           }
          ],
          "choropleth": [
           {
            "type": "choropleth",
            "colorbar": {
             "outlinewidth": 0,
             "tickcolor": "rgb(237,237,237)",
             "ticklen": 6,
             "ticks": "inside"
            }
           }
          ],
          "histogram2d": [
           {
            "type": "histogram2d",
            "colorbar": {
             "outlinewidth": 0,
             "tickcolor": "rgb(237,237,237)",
             "ticklen": 6,
             "ticks": "inside"
            },
            "colorscale": [
             [
              0,
              "rgb(20,44,66)"
             ],
             [
              1,
              "rgb(90,179,244)"
             ]
            ]
           }
          ],
          "heatmap": [
           {
            "type": "heatmap",
            "colorbar": {
             "outlinewidth": 0,
             "tickcolor": "rgb(237,237,237)",
             "ticklen": 6,
             "ticks": "inside"
            },
            "colorscale": [
             [
              0,
              "rgb(20,44,66)"
             ],
             [
              1,
              "rgb(90,179,244)"
             ]
            ]
           }
          ],
          "heatmapgl": [
           {
            "type": "heatmapgl",
            "colorbar": {
             "outlinewidth": 0,
             "tickcolor": "rgb(237,237,237)",
             "ticklen": 6,
             "ticks": "inside"
            },
            "colorscale": [
             [
              0,
              "rgb(20,44,66)"
             ],
             [
              1,
              "rgb(90,179,244)"
             ]
            ]
           }
          ],
          "contourcarpet": [
           {
            "type": "contourcarpet",
            "colorbar": {
             "outlinewidth": 0,
             "tickcolor": "rgb(237,237,237)",
             "ticklen": 6,
             "ticks": "inside"
            }
           }
          ],
          "contour": [
           {
            "type": "contour",
            "colorbar": {
             "outlinewidth": 0,
             "tickcolor": "rgb(237,237,237)",
             "ticklen": 6,
             "ticks": "inside"
            },
            "colorscale": [
             [
              0,
              "rgb(20,44,66)"
             ],
             [
              1,
              "rgb(90,179,244)"
             ]
            ]
           }
          ],
          "surface": [
           {
            "type": "surface",
            "colorbar": {
             "outlinewidth": 0,
             "tickcolor": "rgb(237,237,237)",
             "ticklen": 6,
             "ticks": "inside"
            },
            "colorscale": [
             [
              0,
              "rgb(20,44,66)"
             ],
             [
              1,
              "rgb(90,179,244)"
             ]
            ]
           }
          ],
          "mesh3d": [
           {
            "type": "mesh3d",
            "colorbar": {
             "outlinewidth": 0,
             "tickcolor": "rgb(237,237,237)",
             "ticklen": 6,
             "ticks": "inside"
            }
           }
          ],
          "scatter": [
           {
            "fillpattern": {
             "fillmode": "overlay",
             "size": 10,
             "solidity": 0.2
            },
            "type": "scatter"
           }
          ],
          "parcoords": [
           {
            "type": "parcoords",
            "line": {
             "colorbar": {
              "outlinewidth": 0,
              "tickcolor": "rgb(237,237,237)",
              "ticklen": 6,
              "ticks": "inside"
             }
            }
           }
          ],
          "scatterpolargl": [
           {
            "type": "scatterpolargl",
            "marker": {
             "colorbar": {
              "outlinewidth": 0,
              "tickcolor": "rgb(237,237,237)",
              "ticklen": 6,
              "ticks": "inside"
             }
            }
           }
          ],
          "bar": [
           {
            "error_x": {
             "color": "rgb(51,51,51)"
            },
            "error_y": {
             "color": "rgb(51,51,51)"
            },
            "marker": {
             "line": {
              "color": "rgb(237,237,237)",
              "width": 0.5
             },
             "pattern": {
              "fillmode": "overlay",
              "size": 10,
              "solidity": 0.2
             }
            },
            "type": "bar"
           }
          ],
          "scattergeo": [
           {
            "type": "scattergeo",
            "marker": {
             "colorbar": {
              "outlinewidth": 0,
              "tickcolor": "rgb(237,237,237)",
              "ticklen": 6,
              "ticks": "inside"
             }
            }
           }
          ],
          "scatterpolar": [
           {
            "type": "scatterpolar",
            "marker": {
             "colorbar": {
              "outlinewidth": 0,
              "tickcolor": "rgb(237,237,237)",
              "ticklen": 6,
              "ticks": "inside"
             }
            }
           }
          ],
          "histogram": [
           {
            "marker": {
             "pattern": {
              "fillmode": "overlay",
              "size": 10,
              "solidity": 0.2
             }
            },
            "type": "histogram"
           }
          ],
          "scattergl": [
           {
            "type": "scattergl",
            "marker": {
             "colorbar": {
              "outlinewidth": 0,
              "tickcolor": "rgb(237,237,237)",
              "ticklen": 6,
              "ticks": "inside"
             }
            }
           }
          ],
          "scatter3d": [
           {
            "type": "scatter3d",
            "line": {
             "colorbar": {
              "outlinewidth": 0,
              "tickcolor": "rgb(237,237,237)",
              "ticklen": 6,
              "ticks": "inside"
             }
            },
            "marker": {
             "colorbar": {
              "outlinewidth": 0,
              "tickcolor": "rgb(237,237,237)",
              "ticklen": 6,
              "ticks": "inside"
             }
            }
           }
          ],
          "scattermapbox": [
           {
            "type": "scattermapbox",
            "marker": {
             "colorbar": {
              "outlinewidth": 0,
              "tickcolor": "rgb(237,237,237)",
              "ticklen": 6,
              "ticks": "inside"
             }
            }
           }
          ],
          "scatterternary": [
           {
            "type": "scatterternary",
            "marker": {
             "colorbar": {
              "outlinewidth": 0,
              "tickcolor": "rgb(237,237,237)",
              "ticklen": 6,
              "ticks": "inside"
             }
            }
           }
          ],
          "scattercarpet": [
           {
            "type": "scattercarpet",
            "marker": {
             "colorbar": {
              "outlinewidth": 0,
              "tickcolor": "rgb(237,237,237)",
              "ticklen": 6,
              "ticks": "inside"
             }
            }
           }
          ],
          "carpet": [
           {
            "aaxis": {
             "endlinecolor": "rgb(51,51,51)",
             "gridcolor": "white",
             "linecolor": "white",
             "minorgridcolor": "white",
             "startlinecolor": "rgb(51,51,51)"
            },
            "baxis": {
             "endlinecolor": "rgb(51,51,51)",
             "gridcolor": "white",
             "linecolor": "white",
             "minorgridcolor": "white",
             "startlinecolor": "rgb(51,51,51)"
            },
            "type": "carpet"
           }
          ],
          "table": [
           {
            "cells": {
             "fill": {
              "color": "rgb(237,237,237)"
             },
             "line": {
              "color": "white"
             }
            },
            "header": {
             "fill": {
              "color": "rgb(217,217,217)"
             },
             "line": {
              "color": "white"
             }
            },
            "type": "table"
           }
          ],
          "barpolar": [
           {
            "marker": {
             "line": {
              "color": "rgb(237,237,237)",
              "width": 0.5
             },
             "pattern": {
              "fillmode": "overlay",
              "size": 10,
              "solidity": 0.2
             }
            },
            "type": "barpolar"
           }
          ],
          "pie": [
           {
            "automargin": true,
            "type": "pie"
           }
          ]
         },
         "layout": {
          "autotypenumbers": "strict",
          "colorway": [
           "#F8766D",
           "#A3A500",
           "#00BF7D",
           "#00B0F6",
           "#E76BF3"
          ],
          "font": {
           "color": "rgb(51,51,51)"
          },
          "hovermode": "closest",
          "hoverlabel": {
           "align": "left"
          },
          "paper_bgcolor": "white",
          "plot_bgcolor": "rgb(237,237,237)",
          "polar": {
           "bgcolor": "rgb(237,237,237)",
           "angularaxis": {
            "gridcolor": "white",
            "linecolor": "white",
            "showgrid": true,
            "tickcolor": "rgb(51,51,51)",
            "ticks": "outside"
           },
           "radialaxis": {
            "gridcolor": "white",
            "linecolor": "white",
            "showgrid": true,
            "tickcolor": "rgb(51,51,51)",
            "ticks": "outside"
           }
          },
          "ternary": {
           "bgcolor": "rgb(237,237,237)",
           "aaxis": {
            "gridcolor": "white",
            "linecolor": "white",
            "showgrid": true,
            "tickcolor": "rgb(51,51,51)",
            "ticks": "outside"
           },
           "baxis": {
            "gridcolor": "white",
            "linecolor": "white",
            "showgrid": true,
            "tickcolor": "rgb(51,51,51)",
            "ticks": "outside"
           },
           "caxis": {
            "gridcolor": "white",
            "linecolor": "white",
            "showgrid": true,
            "tickcolor": "rgb(51,51,51)",
            "ticks": "outside"
           }
          },
          "coloraxis": {
           "colorbar": {
            "outlinewidth": 0,
            "tickcolor": "rgb(237,237,237)",
            "ticklen": 6,
            "ticks": "inside"
           }
          },
          "colorscale": {
           "sequential": [
            [
             0,
             "rgb(20,44,66)"
            ],
            [
             1,
             "rgb(90,179,244)"
            ]
           ],
           "sequentialminus": [
            [
             0,
             "rgb(20,44,66)"
            ],
            [
             1,
             "rgb(90,179,244)"
            ]
           ]
          },
          "xaxis": {
           "gridcolor": "white",
           "linecolor": "white",
           "showgrid": true,
           "tickcolor": "rgb(51,51,51)",
           "ticks": "outside",
           "title": {
            "standoff": 15
           },
           "zerolinecolor": "white",
           "automargin": true
          },
          "yaxis": {
           "gridcolor": "white",
           "linecolor": "white",
           "showgrid": true,
           "tickcolor": "rgb(51,51,51)",
           "ticks": "outside",
           "title": {
            "standoff": 15
           },
           "zerolinecolor": "white",
           "automargin": true
          },
          "scene": {
           "xaxis": {
            "backgroundcolor": "rgb(237,237,237)",
            "gridcolor": "white",
            "linecolor": "white",
            "showbackground": true,
            "showgrid": true,
            "tickcolor": "rgb(51,51,51)",
            "ticks": "outside",
            "zerolinecolor": "white",
            "gridwidth": 2
           },
           "yaxis": {
            "backgroundcolor": "rgb(237,237,237)",
            "gridcolor": "white",
            "linecolor": "white",
            "showbackground": true,
            "showgrid": true,
            "tickcolor": "rgb(51,51,51)",
            "ticks": "outside",
            "zerolinecolor": "white",
            "gridwidth": 2
           },
           "zaxis": {
            "backgroundcolor": "rgb(237,237,237)",
            "gridcolor": "white",
            "linecolor": "white",
            "showbackground": true,
            "showgrid": true,
            "tickcolor": "rgb(51,51,51)",
            "ticks": "outside",
            "zerolinecolor": "white",
            "gridwidth": 2
           }
          },
          "shapedefaults": {
           "fillcolor": "black",
           "line": {
            "width": 0
           },
           "opacity": 0.3
          },
          "annotationdefaults": {
           "arrowhead": 0,
           "arrowwidth": 1
          },
          "geo": {
           "bgcolor": "white",
           "landcolor": "rgb(237,237,237)",
           "subunitcolor": "white",
           "showland": true,
           "showlakes": true,
           "lakecolor": "white"
          }
         }
        },
        "xaxis": {
         "anchor": "y",
         "domain": [
          0.0,
          1.0
         ],
         "title": {
          "text": "x"
         }
        },
        "yaxis": {
         "anchor": "x",
         "domain": [
          0.0,
          1.0
         ],
         "title": {
          "text": "y"
         }
        },
        "coloraxis": {
         "colorbar": {
          "title": {
           "text": "color"
          }
         },
         "colorscale": [
          [
           0.0,
           "rgb(20,44,66)"
          ],
          [
           1.0,
           "rgb(90,179,244)"
          ]
         ]
        },
        "legend": {
         "tracegroupgap": 0
        },
        "margin": {
         "t": 60
        }
       },
       "config": {
        "plotlyServerURL": "https://plot.ly"
       }
      },
      "text/html": "<div>                            <div id=\"a5cf1b42-9036-4652-bfe9-f878c87ec5ec\" class=\"plotly-graph-div\" style=\"height:525px; width:100%;\"></div>            <script type=\"text/javascript\">                require([\"plotly\"], function(Plotly) {                    window.PLOTLYENV=window.PLOTLYENV || {};                                    if (document.getElementById(\"a5cf1b42-9036-4652-bfe9-f878c87ec5ec\")) {                    Plotly.newPlot(                        \"a5cf1b42-9036-4652-bfe9-f878c87ec5ec\",                        [{\"hovertemplate\":\"x=%{x}<br>y=%{y}<br>color=%{marker.color}<extra></extra>\",\"legendgroup\":\"\",\"marker\":{\"color\":[0,0,1,0,0,2,1,2,1,1,1,2,0,2,1,0,0,1,0,0,1,0,0,1,1,1,2,0,0,0,0,2,2,0,1,1,2,1,2,0,0,1,0,1,1,2,0,0,2,2,1,2,1,0,2,0,1,2,2,1,0,2,0,2,1,0,1,0,2,2,2,0,0,2,2,0,2,0,2,2,1,2,2,0,2,2,1,1,1,0,2,2,2,1,1,1,1,2,2,1,2,2],\"coloraxis\":\"coloraxis\",\"symbol\":\"circle\"},\"mode\":\"markers\",\"name\":\"\",\"orientation\":\"v\",\"showlegend\":false,\"x\":[-0.2675880341976451,0.014610817474291946,-0.17850472816489543,0.05655946028397872,-0.1818379822348453,-0.11381365123512421,-0.12150291178603592,-0.058938419722232696,-0.036390098829171914,-0.22701977387730202,-0.18383719937970336,-0.19111555078542253,-0.17015239968344267,-0.2238406789768864,-0.09251549717625089,-0.283540868235544,-0.18761097207000108,-0.15021059177802562,-0.2702264749076664,-0.17361946848444865,-0.17807357267085522,-0.2127962639133148,-0.23909354295979524,-0.11935790424645275,-0.14763476935506356,-0.17787575062505268,-0.1440561761918798,-0.16276851214905325,-0.27669194487625004,-0.2953619906431957,-0.2557163135048456,-0.022220920390021458,-0.0569942475007035,-0.12483115422413443,-0.03266561685317483,-0.18784187124625903,-0.14027733037894016,-0.12201399339884532,0.021863658859789924,-0.036768581899442945,-0.3053792757997258,-0.17919522780850283,-0.045771734618948005,-0.23963350649251652,-0.1533170448212342,-0.11892252884540543,-0.3217389475197723,-0.1949794897966283,-0.20638209335122942,-0.10085464567625113,-0.22979151271508186,-0.04293671148108283,-0.08724347024688148,-0.188807477091508,-0.14878797222895573,-0.2232152137786572,-0.21718445595070293,-0.1278599592555775,0.06190555627667973,-0.26787550005343336,-0.18644481611817687,-0.09327750591987066,-0.22477600389776417,-0.17989155291546768,-0.22614767869306884,-0.19206704466841656,-0.03901313626970307,-0.27062917713235374,-0.08101255792716304,-0.024966580119590596,-0.06769740821440753,-0.1894759154324369,-0.2921125199228268,-0.12062341122885839,-0.036206877593700136,-0.13872816643964822,0.013010167145764582,-0.2031639722992347,0.0909704723172212,-0.15368720503763728,-0.11934078959277739,-0.09905787335382633,-0.08653024514434608,-0.0744894783798801,-0.14604525659666548,-0.130216142069573,-0.040749857150757164,-0.10875142205117727,-0.2503354135902001,-0.07121357410928515,-0.03710413484699953,0.038052968918319996,-0.20972359698501722,-0.0015243499479936722,-0.18791789302284698,-0.19327222205186087,-0.07169106661718579,-0.05478210535674699,-0.13020889993106083,-0.2048254912944157,7.028344727496597,7.057566039234318],\"xaxis\":\"x\",\"y\":[-2.1006065464385824,-0.7563511779030639,1.3252541185393136,-0.8682199189206907,-0.7426164346200236,-0.32155591467612615,1.6085362863461754,0.2825888510936621,0.6826863046354348,1.2160839922877473,1.0428536426569215,-0.25430867344457775,-0.9152085102011832,0.1876592921680851,1.0824004704072345,-0.7938524366177021,-0.5683240385819349,1.6268473937657584,-1.0089366369275383,-1.15716048101673,0.6655766137553734,-0.886311882085149,-0.5492096549290572,1.9765484890036504,1.9939562802559077,1.6619084193691485,-0.22626226340714184,-1.6703105338141147,-0.5945587325628572,-1.9734257359449783,-0.9575590019922949,0.21974299098653485,0.24623508470590202,-1.6464464680458195,1.4723792524861874,0.7794403432485904,0.03813509002660365,0.7183405354050519,0.26403325483615636,-1.2514280918867111,-1.7230875473094422,0.8488140042294479,-0.7156655641481712,1.0990793347374546,0.7732838497678738,0.3587962500387367,-0.9887144658414716,-0.8574164948736348,-0.15853158349633503,-0.27932992088978154,0.586679464749419,-0.10453297241587743,1.8576074000079357,-0.5980012410791553,0.13147227211738283,-0.642374294348251,1.1758796431438634,-0.28148890124105075,-0.2901337293838252,0.6024033150652585,-1.5768790647001882,-0.16542766028597367,-1.602646687520076,0.03159976242679823,0.6701693293018766,-1.9245413034330285,1.6605322600815708,-1.6432589213340063,0.3847537740669638,0.00024003941396099506,-0.4759464423943243,-0.8828468000338123,-0.6799591416447308,-0.18319374095656324,-0.2804543284861097,-0.8394483627497518,-0.5460236961313996,-1.8573046268054743,0.16316477829047024,0.09380415992838104,0.5482100108207463,-0.16176342616132713,0.17154042256285565,-0.7995048592438219,0.2782706370819232,-0.31183965938488345,0.8225670897484914,1.0629971553314073,0.4993212475293942,-0.9085637547216638,-0.1466801489398326,0.5409016669132523,0.04627694245425198,1.482060644702462,2.1821422846311744,1.3704736896768817,1.5795757334246816,0.31329840603978343,-0.4200578090504447,0.7679787143024901,-0.2872293456094951,0.3803986400635545],\"yaxis\":\"y\",\"type\":\"scatter\"},{\"marker\":{\"color\":\"black\",\"line\":{\"width\":2},\"size\":12,\"symbol\":\"x-thin\"},\"mode\":\"markers\",\"showlegend\":false,\"x\":[-0.18760203796907676,-0.1491775577722023,0.2962648030458437],\"y\":[-1.111609658479388,1.1701607968729375,-0.020641895542947514],\"type\":\"scatter\"}],                        {\"template\":{\"data\":{\"histogram2dcontour\":[{\"type\":\"histogram2dcontour\",\"colorbar\":{\"outlinewidth\":0,\"tickcolor\":\"rgb(237,237,237)\",\"ticklen\":6,\"ticks\":\"inside\"},\"colorscale\":[[0,\"rgb(20,44,66)\"],[1,\"rgb(90,179,244)\"]]}],\"choropleth\":[{\"type\":\"choropleth\",\"colorbar\":{\"outlinewidth\":0,\"tickcolor\":\"rgb(237,237,237)\",\"ticklen\":6,\"ticks\":\"inside\"}}],\"histogram2d\":[{\"type\":\"histogram2d\",\"colorbar\":{\"outlinewidth\":0,\"tickcolor\":\"rgb(237,237,237)\",\"ticklen\":6,\"ticks\":\"inside\"},\"colorscale\":[[0,\"rgb(20,44,66)\"],[1,\"rgb(90,179,244)\"]]}],\"heatmap\":[{\"type\":\"heatmap\",\"colorbar\":{\"outlinewidth\":0,\"tickcolor\":\"rgb(237,237,237)\",\"ticklen\":6,\"ticks\":\"inside\"},\"colorscale\":[[0,\"rgb(20,44,66)\"],[1,\"rgb(90,179,244)\"]]}],\"heatmapgl\":[{\"type\":\"heatmapgl\",\"colorbar\":{\"outlinewidth\":0,\"tickcolor\":\"rgb(237,237,237)\",\"ticklen\":6,\"ticks\":\"inside\"},\"colorscale\":[[0,\"rgb(20,44,66)\"],[1,\"rgb(90,179,244)\"]]}],\"contourcarpet\":[{\"type\":\"contourcarpet\",\"colorbar\":{\"outlinewidth\":0,\"tickcolor\":\"rgb(237,237,237)\",\"ticklen\":6,\"ticks\":\"inside\"}}],\"contour\":[{\"type\":\"contour\",\"colorbar\":{\"outlinewidth\":0,\"tickcolor\":\"rgb(237,237,237)\",\"ticklen\":6,\"ticks\":\"inside\"},\"colorscale\":[[0,\"rgb(20,44,66)\"],[1,\"rgb(90,179,244)\"]]}],\"surface\":[{\"type\":\"surface\",\"colorbar\":{\"outlinewidth\":0,\"tickcolor\":\"rgb(237,237,237)\",\"ticklen\":6,\"ticks\":\"inside\"},\"colorscale\":[[0,\"rgb(20,44,66)\"],[1,\"rgb(90,179,244)\"]]}],\"mesh3d\":[{\"type\":\"mesh3d\",\"colorbar\":{\"outlinewidth\":0,\"tickcolor\":\"rgb(237,237,237)\",\"ticklen\":6,\"ticks\":\"inside\"}}],\"scatter\":[{\"fillpattern\":{\"fillmode\":\"overlay\",\"size\":10,\"solidity\":0.2},\"type\":\"scatter\"}],\"parcoords\":[{\"type\":\"parcoords\",\"line\":{\"colorbar\":{\"outlinewidth\":0,\"tickcolor\":\"rgb(237,237,237)\",\"ticklen\":6,\"ticks\":\"inside\"}}}],\"scatterpolargl\":[{\"type\":\"scatterpolargl\",\"marker\":{\"colorbar\":{\"outlinewidth\":0,\"tickcolor\":\"rgb(237,237,237)\",\"ticklen\":6,\"ticks\":\"inside\"}}}],\"bar\":[{\"error_x\":{\"color\":\"rgb(51,51,51)\"},\"error_y\":{\"color\":\"rgb(51,51,51)\"},\"marker\":{\"line\":{\"color\":\"rgb(237,237,237)\",\"width\":0.5},\"pattern\":{\"fillmode\":\"overlay\",\"size\":10,\"solidity\":0.2}},\"type\":\"bar\"}],\"scattergeo\":[{\"type\":\"scattergeo\",\"marker\":{\"colorbar\":{\"outlinewidth\":0,\"tickcolor\":\"rgb(237,237,237)\",\"ticklen\":6,\"ticks\":\"inside\"}}}],\"scatterpolar\":[{\"type\":\"scatterpolar\",\"marker\":{\"colorbar\":{\"outlinewidth\":0,\"tickcolor\":\"rgb(237,237,237)\",\"ticklen\":6,\"ticks\":\"inside\"}}}],\"histogram\":[{\"marker\":{\"pattern\":{\"fillmode\":\"overlay\",\"size\":10,\"solidity\":0.2}},\"type\":\"histogram\"}],\"scattergl\":[{\"type\":\"scattergl\",\"marker\":{\"colorbar\":{\"outlinewidth\":0,\"tickcolor\":\"rgb(237,237,237)\",\"ticklen\":6,\"ticks\":\"inside\"}}}],\"scatter3d\":[{\"type\":\"scatter3d\",\"line\":{\"colorbar\":{\"outlinewidth\":0,\"tickcolor\":\"rgb(237,237,237)\",\"ticklen\":6,\"ticks\":\"inside\"}},\"marker\":{\"colorbar\":{\"outlinewidth\":0,\"tickcolor\":\"rgb(237,237,237)\",\"ticklen\":6,\"ticks\":\"inside\"}}}],\"scattermapbox\":[{\"type\":\"scattermapbox\",\"marker\":{\"colorbar\":{\"outlinewidth\":0,\"tickcolor\":\"rgb(237,237,237)\",\"ticklen\":6,\"ticks\":\"inside\"}}}],\"scatterternary\":[{\"type\":\"scatterternary\",\"marker\":{\"colorbar\":{\"outlinewidth\":0,\"tickcolor\":\"rgb(237,237,237)\",\"ticklen\":6,\"ticks\":\"inside\"}}}],\"scattercarpet\":[{\"type\":\"scattercarpet\",\"marker\":{\"colorbar\":{\"outlinewidth\":0,\"tickcolor\":\"rgb(237,237,237)\",\"ticklen\":6,\"ticks\":\"inside\"}}}],\"carpet\":[{\"aaxis\":{\"endlinecolor\":\"rgb(51,51,51)\",\"gridcolor\":\"white\",\"linecolor\":\"white\",\"minorgridcolor\":\"white\",\"startlinecolor\":\"rgb(51,51,51)\"},\"baxis\":{\"endlinecolor\":\"rgb(51,51,51)\",\"gridcolor\":\"white\",\"linecolor\":\"white\",\"minorgridcolor\":\"white\",\"startlinecolor\":\"rgb(51,51,51)\"},\"type\":\"carpet\"}],\"table\":[{\"cells\":{\"fill\":{\"color\":\"rgb(237,237,237)\"},\"line\":{\"color\":\"white\"}},\"header\":{\"fill\":{\"color\":\"rgb(217,217,217)\"},\"line\":{\"color\":\"white\"}},\"type\":\"table\"}],\"barpolar\":[{\"marker\":{\"line\":{\"color\":\"rgb(237,237,237)\",\"width\":0.5},\"pattern\":{\"fillmode\":\"overlay\",\"size\":10,\"solidity\":0.2}},\"type\":\"barpolar\"}],\"pie\":[{\"automargin\":true,\"type\":\"pie\"}]},\"layout\":{\"autotypenumbers\":\"strict\",\"colorway\":[\"#F8766D\",\"#A3A500\",\"#00BF7D\",\"#00B0F6\",\"#E76BF3\"],\"font\":{\"color\":\"rgb(51,51,51)\"},\"hovermode\":\"closest\",\"hoverlabel\":{\"align\":\"left\"},\"paper_bgcolor\":\"white\",\"plot_bgcolor\":\"rgb(237,237,237)\",\"polar\":{\"bgcolor\":\"rgb(237,237,237)\",\"angularaxis\":{\"gridcolor\":\"white\",\"linecolor\":\"white\",\"showgrid\":true,\"tickcolor\":\"rgb(51,51,51)\",\"ticks\":\"outside\"},\"radialaxis\":{\"gridcolor\":\"white\",\"linecolor\":\"white\",\"showgrid\":true,\"tickcolor\":\"rgb(51,51,51)\",\"ticks\":\"outside\"}},\"ternary\":{\"bgcolor\":\"rgb(237,237,237)\",\"aaxis\":{\"gridcolor\":\"white\",\"linecolor\":\"white\",\"showgrid\":true,\"tickcolor\":\"rgb(51,51,51)\",\"ticks\":\"outside\"},\"baxis\":{\"gridcolor\":\"white\",\"linecolor\":\"white\",\"showgrid\":true,\"tickcolor\":\"rgb(51,51,51)\",\"ticks\":\"outside\"},\"caxis\":{\"gridcolor\":\"white\",\"linecolor\":\"white\",\"showgrid\":true,\"tickcolor\":\"rgb(51,51,51)\",\"ticks\":\"outside\"}},\"coloraxis\":{\"colorbar\":{\"outlinewidth\":0,\"tickcolor\":\"rgb(237,237,237)\",\"ticklen\":6,\"ticks\":\"inside\"}},\"colorscale\":{\"sequential\":[[0,\"rgb(20,44,66)\"],[1,\"rgb(90,179,244)\"]],\"sequentialminus\":[[0,\"rgb(20,44,66)\"],[1,\"rgb(90,179,244)\"]]},\"xaxis\":{\"gridcolor\":\"white\",\"linecolor\":\"white\",\"showgrid\":true,\"tickcolor\":\"rgb(51,51,51)\",\"ticks\":\"outside\",\"title\":{\"standoff\":15},\"zerolinecolor\":\"white\",\"automargin\":true},\"yaxis\":{\"gridcolor\":\"white\",\"linecolor\":\"white\",\"showgrid\":true,\"tickcolor\":\"rgb(51,51,51)\",\"ticks\":\"outside\",\"title\":{\"standoff\":15},\"zerolinecolor\":\"white\",\"automargin\":true},\"scene\":{\"xaxis\":{\"backgroundcolor\":\"rgb(237,237,237)\",\"gridcolor\":\"white\",\"linecolor\":\"white\",\"showbackground\":true,\"showgrid\":true,\"tickcolor\":\"rgb(51,51,51)\",\"ticks\":\"outside\",\"zerolinecolor\":\"white\",\"gridwidth\":2},\"yaxis\":{\"backgroundcolor\":\"rgb(237,237,237)\",\"gridcolor\":\"white\",\"linecolor\":\"white\",\"showbackground\":true,\"showgrid\":true,\"tickcolor\":\"rgb(51,51,51)\",\"ticks\":\"outside\",\"zerolinecolor\":\"white\",\"gridwidth\":2},\"zaxis\":{\"backgroundcolor\":\"rgb(237,237,237)\",\"gridcolor\":\"white\",\"linecolor\":\"white\",\"showbackground\":true,\"showgrid\":true,\"tickcolor\":\"rgb(51,51,51)\",\"ticks\":\"outside\",\"zerolinecolor\":\"white\",\"gridwidth\":2}},\"shapedefaults\":{\"fillcolor\":\"black\",\"line\":{\"width\":0},\"opacity\":0.3},\"annotationdefaults\":{\"arrowhead\":0,\"arrowwidth\":1},\"geo\":{\"bgcolor\":\"white\",\"landcolor\":\"rgb(237,237,237)\",\"subunitcolor\":\"white\",\"showland\":true,\"showlakes\":true,\"lakecolor\":\"white\"}}},\"xaxis\":{\"anchor\":\"y\",\"domain\":[0.0,1.0],\"title\":{\"text\":\"x\"}},\"yaxis\":{\"anchor\":\"x\",\"domain\":[0.0,1.0],\"title\":{\"text\":\"y\"}},\"coloraxis\":{\"colorbar\":{\"title\":{\"text\":\"color\"}},\"colorscale\":[[0.0,\"rgb(20,44,66)\"],[1.0,\"rgb(90,179,244)\"]]},\"legend\":{\"tracegroupgap\":0},\"margin\":{\"t\":60}},                        {\"responsive\": true}                    ).then(function(){\n                            \nvar gd = document.getElementById('a5cf1b42-9036-4652-bfe9-f878c87ec5ec');\nvar x = new MutationObserver(function (mutations, observer) {{\n        var display = window.getComputedStyle(gd).display;\n        if (!display || display === 'none') {{\n            console.log([gd, 'removed!']);\n            Plotly.purge(gd);\n            observer.disconnect();\n        }}\n}});\n\n// Listen for the removal of the full notebook cells\nvar notebookContainer = gd.closest('#notebook-container');\nif (notebookContainer) {{\n    x.observe(notebookContainer, {childList: true});\n}}\n\n// Listen for the clearing of the current output cell\nvar outputEl = gd.closest('.output');\nif (outputEl) {{\n    x.observe(outputEl, {childList: true});\n}}\n\n                        })                };                });            </script>        </div>"
     },
     "metadata": {},
     "output_type": "display_data"
    }
   ],
   "source": [
    "fig = px.scatter(x=x_train_scaled[:, 0], y=x_train_scaled[:, 1], color=kmeans.labels)\n",
    "fig.add_scatter(x=kmeans.centroids[:, 0], y=kmeans.centroids[:, 1],\n",
    "                mode='markers', marker_size=12, marker_color='black', marker_symbol='x-thin', marker_line_width=2, showlegend=False)\n",
    "fig.show()"
   ],
   "metadata": {
    "collapsed": false
   }
  },
  {
   "cell_type": "code",
   "execution_count": null,
   "outputs": [],
   "source": [],
   "metadata": {
    "collapsed": false
   }
  }
 ],
 "metadata": {
  "kernelspec": {
   "display_name": "Python 3",
   "language": "python",
   "name": "python3"
  },
  "language_info": {
   "codemirror_mode": {
    "name": "ipython",
    "version": 2
   },
   "file_extension": ".py",
   "mimetype": "text/x-python",
   "name": "python",
   "nbconvert_exporter": "python",
   "pygments_lexer": "ipython2",
   "version": "2.7.6"
  }
 },
 "nbformat": 4,
 "nbformat_minor": 0
}
