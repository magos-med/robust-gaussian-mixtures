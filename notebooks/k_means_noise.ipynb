{
 "cells": [
  {
   "cell_type": "code",
   "execution_count": 1,
   "outputs": [],
   "source": [
    "import numpy as np\n",
    "from sklearn.preprocessing import StandardScaler\n",
    "from sklearn.datasets import make_blobs\n",
    "import plotly.express as px\n",
    "import plotly.io as pio\n",
    "\n",
    "from clustering import KMeans, RobustKMeans\n",
    "\n",
    "pio.templates.default = 'ggplot2'"
   ],
   "metadata": {
    "collapsed": false
   }
  },
  {
   "cell_type": "code",
   "execution_count": 2,
   "outputs": [],
   "source": [
    "# Create a dataset of 2D distributions\n",
    "n_clusters = 3\n",
    "x_train, true_labels = make_blobs(n_samples=100, centers=n_clusters, random_state=42, center_box=[-10, 10])\n",
    "x_train_scaled = StandardScaler().fit_transform(x_train)"
   ],
   "metadata": {
    "collapsed": false
   }
  },
  {
   "cell_type": "code",
   "execution_count": null,
   "outputs": [],
   "source": [
    "px.scatter(x=x_train_scaled[:, 0], y=x_train_scaled[:, 1], color=true_labels)"
   ],
   "metadata": {
    "collapsed": false,
    "pycharm": {
     "is_executing": true
    }
   }
  },
  {
   "cell_type": "code",
   "execution_count": 4,
   "outputs": [],
   "source": [
    "kmeans = KMeans(n_clusters=n_clusters)\n",
    "kmeans.fit(x_train_scaled)"
   ],
   "metadata": {
    "collapsed": false
   }
  },
  {
   "cell_type": "code",
   "execution_count": 5,
   "outputs": [
    {
     "data": {
      "text/plain": "(5.5901093412274685, 1.0)"
     },
     "execution_count": 5,
     "metadata": {},
     "output_type": "execute_result"
    }
   ],
   "source": [
    "kmeans.inertia, kmeans.score(true_labels)"
   ],
   "metadata": {
    "collapsed": false
   }
  },
  {
   "cell_type": "code",
   "execution_count": 6,
   "outputs": [
    {
     "data": {
      "application/vnd.plotly.v1+json": {
       "data": [
        {
         "hovertemplate": "x=%{x}<br>y=%{y}<extra></extra>",
         "legendgroup": "",
         "marker": {
          "color": "black",
          "symbol": "x-thin",
          "line": {
           "width": 2
          },
          "size": 12
         },
         "mode": "markers",
         "name": "",
         "orientation": "v",
         "showlegend": false,
         "x": [
          -1.095234155038226,
          -0.1990557196347161,
          1.3003218661770244
         ],
         "xaxis": "x",
         "y": [
          -1.2593241347084017,
          1.1526961319442959,
          0.07169781694761139
         ],
         "yaxis": "y",
         "type": "scatter"
        },
        {
         "marker": {
          "color": [
           0,
           2,
           1,
           2,
           0,
           2,
           1,
           2,
           2,
           1,
           1,
           0,
           0,
           1,
           1,
           0,
           0,
           1,
           0,
           0,
           1,
           0,
           0,
           1,
           1,
           1,
           2,
           0,
           0,
           0,
           0,
           2,
           2,
           0,
           1,
           1,
           1,
           1,
           2,
           2,
           0,
           1,
           2,
           1,
           1,
           2,
           0,
           0,
           0,
           2,
           2,
           2,
           1,
           0,
           0,
           0,
           1,
           1,
           2,
           1,
           0,
           2,
           0,
           2,
           0,
           0,
           2,
           0,
           2,
           2,
           2,
           0,
           0,
           1,
           2,
           0,
           2,
           0,
           2,
           2,
           1,
           2,
           1,
           0,
           1,
           1,
           1,
           2,
           1,
           2,
           2,
           2,
           1,
           2,
           1,
           1,
           1,
           2,
           0,
           1
          ]
         },
         "mode": "markers",
         "x": [
          -1.2573011106971093,
          1.4998715684903412,
          -0.26408826166498317,
          1.6231463231728998,
          -1.0053068645974528,
          1.1224697310288583,
          -0.09657664603432181,
          1.2837319376177734,
          1.3499948376883761,
          -0.40665974808334665,
          -0.2797588301703713,
          -1.0325709167936523,
          -0.9709663656954407,
          -0.3973173208267774,
          -0.011391138576671839,
          -1.3041818098280817,
          -1.0222719880924467,
          -0.18094009551642798,
          -1.2650547139006258,
          -0.9811550637625178,
          -0.2628212221567212,
          -1.0962841721737921,
          -1.1735641604199214,
          -0.09027309815950728,
          -0.17337050908815962,
          -0.2622398811994524,
          1.0335958224750326,
          -0.949267286453829,
          -1.2840548333538477,
          -1.338920620604083,
          -1.2224136064051525,
          1.3916338962882964,
          1.2894452894121804,
          -0.8377805212510501,
          0.16449010144532888,
          -0.2915273859296959,
          -0.1517491544000393,
          -0.09807856495760328,
          1.5211855415455626,
          1.348882586980985,
          -1.3683584828934279,
          -0.26611743754464817,
          1.3224249624065303,
          -0.443727807730151,
          -0.19006904966571447,
          1.1074562385311892,
          -1.4164347586176622,
          -1.0439258999781087,
          -1.077434806626486,
          1.1605524465638433,
          0.7816448207352634,
          1.3307562636938035,
          0.004101801906441477,
          -1.0257881653302157,
          -0.9081825811202451,
          -1.1269024092053697,
          -0.3777566340987746,
          -0.11525814357092755,
          1.6388569309033947,
          -0.5267227414104482,
          -1.0188449978669243,
          1.1828194373911978,
          -1.1314891134741294,
          0.9282861633616452,
          -1.1355200632872755,
          -1.0353670781746103,
          1.3422865001750113,
          -1.2662381375976373,
          1.2188625213559128,
          1.3835652078413303,
          1.2579918400766232,
          -1.0277525095134652,
          -1.3293713794589286,
          -0.09399205191715058,
          1.350533271147544,
          -0.8786197631655078,
          1.495167726759943,
          -1.0679776929595852,
          1.7242701923293287,
          1.0052930541664655,
          -0.09022280321330656,
          1.1658326332977078,
          0.006197761242894448,
          -0.6898411047563574,
          -0.16869939740892628,
          -0.12218227362443868,
          0.14073289089621463,
          1.1373461374868485,
          -0.4751775730559993,
          1.247658860054344,
          1.3478964953097787,
          1.5687611743258516,
          -0.3558313584018054,
          1.4524550450340694,
          -0.2917507916284675,
          -0.30748559383734775,
          0.04980575354256323,
          1.2959461261938703,
          -0.8535841382065299,
          -0.34143726274160646
         ],
         "y": [
          -1.5248661551026996,
          -0.11317684540920024,
          1.24865263596926,
          -0.1395939665373649,
          -1.2041850698555872,
          -0.01050259494267867,
          1.3155479927269065,
          0.13216250802627696,
          0.22664308228801694,
          1.2228727762646598,
          1.1819654853839052,
          -1.0888741692639545,
          -1.2449416362110663,
          0.9800165536315942,
          1.1913042276403332,
          -1.2162841393416939,
          -1.1630269831910491,
          1.3198720491013118,
          -1.267074961877581,
          -1.3020771189392162,
          1.092873815264941,
          -1.2381178736640603,
          -1.1585132380317225,
          1.402451830615932,
          1.4065625743849373,
          1.3281514965306567,
          0.012000419799582404,
          -1.4232543752340432,
          -1.1692221462218475,
          -1.494833182125393,
          -1.2549424466368035,
          0.11732184133286994,
          0.12357778774253715,
          -1.4176190216019486,
          1.283395339329617,
          1.1197620407581816,
          0.9447073249441873,
          1.1053336936611493,
          0.12778071710344352,
          -0.23008624016499915,
          -1.4357173451897804,
          1.1361442078279511,
          -0.10356918578096352,
          1.1952428397609631,
          1.11830822235882,
          0.15015842065103066,
          -1.2622996194700808,
          -1.231294404149091,
          -1.0662569934251098,
          -5.311839617038024E-4,
          0.2039716524021513,
          0.04074604968429828,
          1.3743646176328117,
          -1.1700350736190144,
          -0.9977743510739705,
          -1.1805134996062299,
          1.2133787643400449,
          0.869230068152188,
          -0.0030824374668065153,
          1.077955825946553,
          -1.401191103453984,
          0.02636614041837886,
          -1.4072759704778344,
          0.07289296501680066,
          -0.870564325453084,
          -1.4832894214358339,
          0.45755544274477966,
          -1.41686630188041,
          0.15628813168740383,
          0.06548755762739165,
          -0.04696097674506489,
          -1.2372996156642249,
          -1.1893889321406699,
          0.8924418709482749,
          -7.967059600693054E-4,
          -1.2270513392996467,
          -0.06350929295441378,
          -1.467411890191914,
          0.10396124136177082,
          0.08758215422690266,
          1.065158407565513,
          0.027231426966097216,
          0.9762101808509858,
          -1.2176189244820599,
          1.0014138702760857,
          0.8620629216649408,
          1.1299461590005782,
          0.31645117092653857,
          1.0536136241888028,
          -0.149120917385602,
          0.03079325091928826,
          0.1931615045501423,
          0.9466299737541434,
          0.41541045891353895,
          1.45100155194904,
          1.2593309619899002,
          1.3087091347268405,
          0.1394143821908024,
          -1.128014817065639,
          1.117055446964054
         ],
         "type": "scatter"
        }
       ],
       "layout": {
        "template": {
         "data": {
          "histogram2dcontour": [
           {
            "type": "histogram2dcontour",
            "colorbar": {
             "outlinewidth": 0,
             "tickcolor": "rgb(237,237,237)",
             "ticklen": 6,
             "ticks": "inside"
            },
            "colorscale": [
             [
              0,
              "rgb(20,44,66)"
             ],
             [
              1,
              "rgb(90,179,244)"
             ]
            ]
           }
          ],
          "choropleth": [
           {
            "type": "choropleth",
            "colorbar": {
             "outlinewidth": 0,
             "tickcolor": "rgb(237,237,237)",
             "ticklen": 6,
             "ticks": "inside"
            }
           }
          ],
          "histogram2d": [
           {
            "type": "histogram2d",
            "colorbar": {
             "outlinewidth": 0,
             "tickcolor": "rgb(237,237,237)",
             "ticklen": 6,
             "ticks": "inside"
            },
            "colorscale": [
             [
              0,
              "rgb(20,44,66)"
             ],
             [
              1,
              "rgb(90,179,244)"
             ]
            ]
           }
          ],
          "heatmap": [
           {
            "type": "heatmap",
            "colorbar": {
             "outlinewidth": 0,
             "tickcolor": "rgb(237,237,237)",
             "ticklen": 6,
             "ticks": "inside"
            },
            "colorscale": [
             [
              0,
              "rgb(20,44,66)"
             ],
             [
              1,
              "rgb(90,179,244)"
             ]
            ]
           }
          ],
          "heatmapgl": [
           {
            "type": "heatmapgl",
            "colorbar": {
             "outlinewidth": 0,
             "tickcolor": "rgb(237,237,237)",
             "ticklen": 6,
             "ticks": "inside"
            },
            "colorscale": [
             [
              0,
              "rgb(20,44,66)"
             ],
             [
              1,
              "rgb(90,179,244)"
             ]
            ]
           }
          ],
          "contourcarpet": [
           {
            "type": "contourcarpet",
            "colorbar": {
             "outlinewidth": 0,
             "tickcolor": "rgb(237,237,237)",
             "ticklen": 6,
             "ticks": "inside"
            }
           }
          ],
          "contour": [
           {
            "type": "contour",
            "colorbar": {
             "outlinewidth": 0,
             "tickcolor": "rgb(237,237,237)",
             "ticklen": 6,
             "ticks": "inside"
            },
            "colorscale": [
             [
              0,
              "rgb(20,44,66)"
             ],
             [
              1,
              "rgb(90,179,244)"
             ]
            ]
           }
          ],
          "surface": [
           {
            "type": "surface",
            "colorbar": {
             "outlinewidth": 0,
             "tickcolor": "rgb(237,237,237)",
             "ticklen": 6,
             "ticks": "inside"
            },
            "colorscale": [
             [
              0,
              "rgb(20,44,66)"
             ],
             [
              1,
              "rgb(90,179,244)"
             ]
            ]
           }
          ],
          "mesh3d": [
           {
            "type": "mesh3d",
            "colorbar": {
             "outlinewidth": 0,
             "tickcolor": "rgb(237,237,237)",
             "ticklen": 6,
             "ticks": "inside"
            }
           }
          ],
          "scatter": [
           {
            "fillpattern": {
             "fillmode": "overlay",
             "size": 10,
             "solidity": 0.2
            },
            "type": "scatter"
           }
          ],
          "parcoords": [
           {
            "type": "parcoords",
            "line": {
             "colorbar": {
              "outlinewidth": 0,
              "tickcolor": "rgb(237,237,237)",
              "ticklen": 6,
              "ticks": "inside"
             }
            }
           }
          ],
          "scatterpolargl": [
           {
            "type": "scatterpolargl",
            "marker": {
             "colorbar": {
              "outlinewidth": 0,
              "tickcolor": "rgb(237,237,237)",
              "ticklen": 6,
              "ticks": "inside"
             }
            }
           }
          ],
          "bar": [
           {
            "error_x": {
             "color": "rgb(51,51,51)"
            },
            "error_y": {
             "color": "rgb(51,51,51)"
            },
            "marker": {
             "line": {
              "color": "rgb(237,237,237)",
              "width": 0.5
             },
             "pattern": {
              "fillmode": "overlay",
              "size": 10,
              "solidity": 0.2
             }
            },
            "type": "bar"
           }
          ],
          "scattergeo": [
           {
            "type": "scattergeo",
            "marker": {
             "colorbar": {
              "outlinewidth": 0,
              "tickcolor": "rgb(237,237,237)",
              "ticklen": 6,
              "ticks": "inside"
             }
            }
           }
          ],
          "scatterpolar": [
           {
            "type": "scatterpolar",
            "marker": {
             "colorbar": {
              "outlinewidth": 0,
              "tickcolor": "rgb(237,237,237)",
              "ticklen": 6,
              "ticks": "inside"
             }
            }
           }
          ],
          "histogram": [
           {
            "marker": {
             "pattern": {
              "fillmode": "overlay",
              "size": 10,
              "solidity": 0.2
             }
            },
            "type": "histogram"
           }
          ],
          "scattergl": [
           {
            "type": "scattergl",
            "marker": {
             "colorbar": {
              "outlinewidth": 0,
              "tickcolor": "rgb(237,237,237)",
              "ticklen": 6,
              "ticks": "inside"
             }
            }
           }
          ],
          "scatter3d": [
           {
            "type": "scatter3d",
            "line": {
             "colorbar": {
              "outlinewidth": 0,
              "tickcolor": "rgb(237,237,237)",
              "ticklen": 6,
              "ticks": "inside"
             }
            },
            "marker": {
             "colorbar": {
              "outlinewidth": 0,
              "tickcolor": "rgb(237,237,237)",
              "ticklen": 6,
              "ticks": "inside"
             }
            }
           }
          ],
          "scattermapbox": [
           {
            "type": "scattermapbox",
            "marker": {
             "colorbar": {
              "outlinewidth": 0,
              "tickcolor": "rgb(237,237,237)",
              "ticklen": 6,
              "ticks": "inside"
             }
            }
           }
          ],
          "scatterternary": [
           {
            "type": "scatterternary",
            "marker": {
             "colorbar": {
              "outlinewidth": 0,
              "tickcolor": "rgb(237,237,237)",
              "ticklen": 6,
              "ticks": "inside"
             }
            }
           }
          ],
          "scattercarpet": [
           {
            "type": "scattercarpet",
            "marker": {
             "colorbar": {
              "outlinewidth": 0,
              "tickcolor": "rgb(237,237,237)",
              "ticklen": 6,
              "ticks": "inside"
             }
            }
           }
          ],
          "carpet": [
           {
            "aaxis": {
             "endlinecolor": "rgb(51,51,51)",
             "gridcolor": "white",
             "linecolor": "white",
             "minorgridcolor": "white",
             "startlinecolor": "rgb(51,51,51)"
            },
            "baxis": {
             "endlinecolor": "rgb(51,51,51)",
             "gridcolor": "white",
             "linecolor": "white",
             "minorgridcolor": "white",
             "startlinecolor": "rgb(51,51,51)"
            },
            "type": "carpet"
           }
          ],
          "table": [
           {
            "cells": {
             "fill": {
              "color": "rgb(237,237,237)"
             },
             "line": {
              "color": "white"
             }
            },
            "header": {
             "fill": {
              "color": "rgb(217,217,217)"
             },
             "line": {
              "color": "white"
             }
            },
            "type": "table"
           }
          ],
          "barpolar": [
           {
            "marker": {
             "line": {
              "color": "rgb(237,237,237)",
              "width": 0.5
             },
             "pattern": {
              "fillmode": "overlay",
              "size": 10,
              "solidity": 0.2
             }
            },
            "type": "barpolar"
           }
          ],
          "pie": [
           {
            "automargin": true,
            "type": "pie"
           }
          ]
         },
         "layout": {
          "autotypenumbers": "strict",
          "colorway": [
           "#F8766D",
           "#A3A500",
           "#00BF7D",
           "#00B0F6",
           "#E76BF3"
          ],
          "font": {
           "color": "rgb(51,51,51)"
          },
          "hovermode": "closest",
          "hoverlabel": {
           "align": "left"
          },
          "paper_bgcolor": "white",
          "plot_bgcolor": "rgb(237,237,237)",
          "polar": {
           "bgcolor": "rgb(237,237,237)",
           "angularaxis": {
            "gridcolor": "white",
            "linecolor": "white",
            "showgrid": true,
            "tickcolor": "rgb(51,51,51)",
            "ticks": "outside"
           },
           "radialaxis": {
            "gridcolor": "white",
            "linecolor": "white",
            "showgrid": true,
            "tickcolor": "rgb(51,51,51)",
            "ticks": "outside"
           }
          },
          "ternary": {
           "bgcolor": "rgb(237,237,237)",
           "aaxis": {
            "gridcolor": "white",
            "linecolor": "white",
            "showgrid": true,
            "tickcolor": "rgb(51,51,51)",
            "ticks": "outside"
           },
           "baxis": {
            "gridcolor": "white",
            "linecolor": "white",
            "showgrid": true,
            "tickcolor": "rgb(51,51,51)",
            "ticks": "outside"
           },
           "caxis": {
            "gridcolor": "white",
            "linecolor": "white",
            "showgrid": true,
            "tickcolor": "rgb(51,51,51)",
            "ticks": "outside"
           }
          },
          "coloraxis": {
           "colorbar": {
            "outlinewidth": 0,
            "tickcolor": "rgb(237,237,237)",
            "ticklen": 6,
            "ticks": "inside"
           }
          },
          "colorscale": {
           "sequential": [
            [
             0,
             "rgb(20,44,66)"
            ],
            [
             1,
             "rgb(90,179,244)"
            ]
           ],
           "sequentialminus": [
            [
             0,
             "rgb(20,44,66)"
            ],
            [
             1,
             "rgb(90,179,244)"
            ]
           ]
          },
          "xaxis": {
           "gridcolor": "white",
           "linecolor": "white",
           "showgrid": true,
           "tickcolor": "rgb(51,51,51)",
           "ticks": "outside",
           "title": {
            "standoff": 15
           },
           "zerolinecolor": "white",
           "automargin": true
          },
          "yaxis": {
           "gridcolor": "white",
           "linecolor": "white",
           "showgrid": true,
           "tickcolor": "rgb(51,51,51)",
           "ticks": "outside",
           "title": {
            "standoff": 15
           },
           "zerolinecolor": "white",
           "automargin": true
          },
          "scene": {
           "xaxis": {
            "backgroundcolor": "rgb(237,237,237)",
            "gridcolor": "white",
            "linecolor": "white",
            "showbackground": true,
            "showgrid": true,
            "tickcolor": "rgb(51,51,51)",
            "ticks": "outside",
            "zerolinecolor": "white",
            "gridwidth": 2
           },
           "yaxis": {
            "backgroundcolor": "rgb(237,237,237)",
            "gridcolor": "white",
            "linecolor": "white",
            "showbackground": true,
            "showgrid": true,
            "tickcolor": "rgb(51,51,51)",
            "ticks": "outside",
            "zerolinecolor": "white",
            "gridwidth": 2
           },
           "zaxis": {
            "backgroundcolor": "rgb(237,237,237)",
            "gridcolor": "white",
            "linecolor": "white",
            "showbackground": true,
            "showgrid": true,
            "tickcolor": "rgb(51,51,51)",
            "ticks": "outside",
            "zerolinecolor": "white",
            "gridwidth": 2
           }
          },
          "shapedefaults": {
           "fillcolor": "black",
           "line": {
            "width": 0
           },
           "opacity": 0.3
          },
          "annotationdefaults": {
           "arrowhead": 0,
           "arrowwidth": 1
          },
          "geo": {
           "bgcolor": "white",
           "landcolor": "rgb(237,237,237)",
           "subunitcolor": "white",
           "showland": true,
           "showlakes": true,
           "lakecolor": "white"
          }
         }
        },
        "xaxis": {
         "anchor": "y",
         "domain": [
          0.0,
          1.0
         ],
         "title": {
          "text": "x"
         }
        },
        "yaxis": {
         "anchor": "x",
         "domain": [
          0.0,
          1.0
         ],
         "title": {
          "text": "y"
         }
        },
        "legend": {
         "tracegroupgap": 0
        },
        "margin": {
         "t": 60
        }
       },
       "config": {
        "plotlyServerURL": "https://plot.ly"
       }
      },
      "text/html": "<div>                            <div id=\"0ca373a6-bae8-44ef-82a2-e74651de7c6a\" class=\"plotly-graph-div\" style=\"height:525px; width:100%;\"></div>            <script type=\"text/javascript\">                require([\"plotly\"], function(Plotly) {                    window.PLOTLYENV=window.PLOTLYENV || {};                                    if (document.getElementById(\"0ca373a6-bae8-44ef-82a2-e74651de7c6a\")) {                    Plotly.newPlot(                        \"0ca373a6-bae8-44ef-82a2-e74651de7c6a\",                        [{\"hovertemplate\":\"x=%{x}<br>y=%{y}<extra></extra>\",\"legendgroup\":\"\",\"marker\":{\"color\":\"black\",\"symbol\":\"x-thin\",\"line\":{\"width\":2},\"size\":12},\"mode\":\"markers\",\"name\":\"\",\"orientation\":\"v\",\"showlegend\":false,\"x\":[-1.095234155038226,-0.1990557196347161,1.3003218661770244],\"xaxis\":\"x\",\"y\":[-1.2593241347084017,1.1526961319442959,0.07169781694761139],\"yaxis\":\"y\",\"type\":\"scatter\"},{\"marker\":{\"color\":[0,2,1,2,0,2,1,2,2,1,1,0,0,1,1,0,0,1,0,0,1,0,0,1,1,1,2,0,0,0,0,2,2,0,1,1,1,1,2,2,0,1,2,1,1,2,0,0,0,2,2,2,1,0,0,0,1,1,2,1,0,2,0,2,0,0,2,0,2,2,2,0,0,1,2,0,2,0,2,2,1,2,1,0,1,1,1,2,1,2,2,2,1,2,1,1,1,2,0,1]},\"mode\":\"markers\",\"x\":[-1.2573011106971093,1.4998715684903412,-0.26408826166498317,1.6231463231728998,-1.0053068645974528,1.1224697310288583,-0.09657664603432181,1.2837319376177734,1.3499948376883761,-0.40665974808334665,-0.2797588301703713,-1.0325709167936523,-0.9709663656954407,-0.3973173208267774,-0.011391138576671839,-1.3041818098280817,-1.0222719880924467,-0.18094009551642798,-1.2650547139006258,-0.9811550637625178,-0.2628212221567212,-1.0962841721737921,-1.1735641604199214,-0.09027309815950728,-0.17337050908815962,-0.2622398811994524,1.0335958224750326,-0.949267286453829,-1.2840548333538477,-1.338920620604083,-1.2224136064051525,1.3916338962882964,1.2894452894121804,-0.8377805212510501,0.16449010144532888,-0.2915273859296959,-0.1517491544000393,-0.09807856495760328,1.5211855415455626,1.348882586980985,-1.3683584828934279,-0.26611743754464817,1.3224249624065303,-0.443727807730151,-0.19006904966571447,1.1074562385311892,-1.4164347586176622,-1.0439258999781087,-1.077434806626486,1.1605524465638433,0.7816448207352634,1.3307562636938035,0.004101801906441477,-1.0257881653302157,-0.9081825811202451,-1.1269024092053697,-0.3777566340987746,-0.11525814357092755,1.6388569309033947,-0.5267227414104482,-1.0188449978669243,1.1828194373911978,-1.1314891134741294,0.9282861633616452,-1.1355200632872755,-1.0353670781746103,1.3422865001750113,-1.2662381375976373,1.2188625213559128,1.3835652078413303,1.2579918400766232,-1.0277525095134652,-1.3293713794589286,-0.09399205191715058,1.350533271147544,-0.8786197631655078,1.495167726759943,-1.0679776929595852,1.7242701923293287,1.0052930541664655,-0.09022280321330656,1.1658326332977078,0.006197761242894448,-0.6898411047563574,-0.16869939740892628,-0.12218227362443868,0.14073289089621463,1.1373461374868485,-0.4751775730559993,1.247658860054344,1.3478964953097787,1.5687611743258516,-0.3558313584018054,1.4524550450340694,-0.2917507916284675,-0.30748559383734775,0.04980575354256323,1.2959461261938703,-0.8535841382065299,-0.34143726274160646],\"y\":[-1.5248661551026996,-0.11317684540920024,1.24865263596926,-0.1395939665373649,-1.2041850698555872,-0.01050259494267867,1.3155479927269065,0.13216250802627696,0.22664308228801694,1.2228727762646598,1.1819654853839052,-1.0888741692639545,-1.2449416362110663,0.9800165536315942,1.1913042276403332,-1.2162841393416939,-1.1630269831910491,1.3198720491013118,-1.267074961877581,-1.3020771189392162,1.092873815264941,-1.2381178736640603,-1.1585132380317225,1.402451830615932,1.4065625743849373,1.3281514965306567,0.012000419799582404,-1.4232543752340432,-1.1692221462218475,-1.494833182125393,-1.2549424466368035,0.11732184133286994,0.12357778774253715,-1.4176190216019486,1.283395339329617,1.1197620407581816,0.9447073249441873,1.1053336936611493,0.12778071710344352,-0.23008624016499915,-1.4357173451897804,1.1361442078279511,-0.10356918578096352,1.1952428397609631,1.11830822235882,0.15015842065103066,-1.2622996194700808,-1.231294404149091,-1.0662569934251098,-0.0005311839617038024,0.2039716524021513,0.04074604968429828,1.3743646176328117,-1.1700350736190144,-0.9977743510739705,-1.1805134996062299,1.2133787643400449,0.869230068152188,-0.0030824374668065153,1.077955825946553,-1.401191103453984,0.02636614041837886,-1.4072759704778344,0.07289296501680066,-0.870564325453084,-1.4832894214358339,0.45755544274477966,-1.41686630188041,0.15628813168740383,0.06548755762739165,-0.04696097674506489,-1.2372996156642249,-1.1893889321406699,0.8924418709482749,-0.0007967059600693054,-1.2270513392996467,-0.06350929295441378,-1.467411890191914,0.10396124136177082,0.08758215422690266,1.065158407565513,0.027231426966097216,0.9762101808509858,-1.2176189244820599,1.0014138702760857,0.8620629216649408,1.1299461590005782,0.31645117092653857,1.0536136241888028,-0.149120917385602,0.03079325091928826,0.1931615045501423,0.9466299737541434,0.41541045891353895,1.45100155194904,1.2593309619899002,1.3087091347268405,0.1394143821908024,-1.128014817065639,1.117055446964054],\"type\":\"scatter\"}],                        {\"template\":{\"data\":{\"histogram2dcontour\":[{\"type\":\"histogram2dcontour\",\"colorbar\":{\"outlinewidth\":0,\"tickcolor\":\"rgb(237,237,237)\",\"ticklen\":6,\"ticks\":\"inside\"},\"colorscale\":[[0,\"rgb(20,44,66)\"],[1,\"rgb(90,179,244)\"]]}],\"choropleth\":[{\"type\":\"choropleth\",\"colorbar\":{\"outlinewidth\":0,\"tickcolor\":\"rgb(237,237,237)\",\"ticklen\":6,\"ticks\":\"inside\"}}],\"histogram2d\":[{\"type\":\"histogram2d\",\"colorbar\":{\"outlinewidth\":0,\"tickcolor\":\"rgb(237,237,237)\",\"ticklen\":6,\"ticks\":\"inside\"},\"colorscale\":[[0,\"rgb(20,44,66)\"],[1,\"rgb(90,179,244)\"]]}],\"heatmap\":[{\"type\":\"heatmap\",\"colorbar\":{\"outlinewidth\":0,\"tickcolor\":\"rgb(237,237,237)\",\"ticklen\":6,\"ticks\":\"inside\"},\"colorscale\":[[0,\"rgb(20,44,66)\"],[1,\"rgb(90,179,244)\"]]}],\"heatmapgl\":[{\"type\":\"heatmapgl\",\"colorbar\":{\"outlinewidth\":0,\"tickcolor\":\"rgb(237,237,237)\",\"ticklen\":6,\"ticks\":\"inside\"},\"colorscale\":[[0,\"rgb(20,44,66)\"],[1,\"rgb(90,179,244)\"]]}],\"contourcarpet\":[{\"type\":\"contourcarpet\",\"colorbar\":{\"outlinewidth\":0,\"tickcolor\":\"rgb(237,237,237)\",\"ticklen\":6,\"ticks\":\"inside\"}}],\"contour\":[{\"type\":\"contour\",\"colorbar\":{\"outlinewidth\":0,\"tickcolor\":\"rgb(237,237,237)\",\"ticklen\":6,\"ticks\":\"inside\"},\"colorscale\":[[0,\"rgb(20,44,66)\"],[1,\"rgb(90,179,244)\"]]}],\"surface\":[{\"type\":\"surface\",\"colorbar\":{\"outlinewidth\":0,\"tickcolor\":\"rgb(237,237,237)\",\"ticklen\":6,\"ticks\":\"inside\"},\"colorscale\":[[0,\"rgb(20,44,66)\"],[1,\"rgb(90,179,244)\"]]}],\"mesh3d\":[{\"type\":\"mesh3d\",\"colorbar\":{\"outlinewidth\":0,\"tickcolor\":\"rgb(237,237,237)\",\"ticklen\":6,\"ticks\":\"inside\"}}],\"scatter\":[{\"fillpattern\":{\"fillmode\":\"overlay\",\"size\":10,\"solidity\":0.2},\"type\":\"scatter\"}],\"parcoords\":[{\"type\":\"parcoords\",\"line\":{\"colorbar\":{\"outlinewidth\":0,\"tickcolor\":\"rgb(237,237,237)\",\"ticklen\":6,\"ticks\":\"inside\"}}}],\"scatterpolargl\":[{\"type\":\"scatterpolargl\",\"marker\":{\"colorbar\":{\"outlinewidth\":0,\"tickcolor\":\"rgb(237,237,237)\",\"ticklen\":6,\"ticks\":\"inside\"}}}],\"bar\":[{\"error_x\":{\"color\":\"rgb(51,51,51)\"},\"error_y\":{\"color\":\"rgb(51,51,51)\"},\"marker\":{\"line\":{\"color\":\"rgb(237,237,237)\",\"width\":0.5},\"pattern\":{\"fillmode\":\"overlay\",\"size\":10,\"solidity\":0.2}},\"type\":\"bar\"}],\"scattergeo\":[{\"type\":\"scattergeo\",\"marker\":{\"colorbar\":{\"outlinewidth\":0,\"tickcolor\":\"rgb(237,237,237)\",\"ticklen\":6,\"ticks\":\"inside\"}}}],\"scatterpolar\":[{\"type\":\"scatterpolar\",\"marker\":{\"colorbar\":{\"outlinewidth\":0,\"tickcolor\":\"rgb(237,237,237)\",\"ticklen\":6,\"ticks\":\"inside\"}}}],\"histogram\":[{\"marker\":{\"pattern\":{\"fillmode\":\"overlay\",\"size\":10,\"solidity\":0.2}},\"type\":\"histogram\"}],\"scattergl\":[{\"type\":\"scattergl\",\"marker\":{\"colorbar\":{\"outlinewidth\":0,\"tickcolor\":\"rgb(237,237,237)\",\"ticklen\":6,\"ticks\":\"inside\"}}}],\"scatter3d\":[{\"type\":\"scatter3d\",\"line\":{\"colorbar\":{\"outlinewidth\":0,\"tickcolor\":\"rgb(237,237,237)\",\"ticklen\":6,\"ticks\":\"inside\"}},\"marker\":{\"colorbar\":{\"outlinewidth\":0,\"tickcolor\":\"rgb(237,237,237)\",\"ticklen\":6,\"ticks\":\"inside\"}}}],\"scattermapbox\":[{\"type\":\"scattermapbox\",\"marker\":{\"colorbar\":{\"outlinewidth\":0,\"tickcolor\":\"rgb(237,237,237)\",\"ticklen\":6,\"ticks\":\"inside\"}}}],\"scatterternary\":[{\"type\":\"scatterternary\",\"marker\":{\"colorbar\":{\"outlinewidth\":0,\"tickcolor\":\"rgb(237,237,237)\",\"ticklen\":6,\"ticks\":\"inside\"}}}],\"scattercarpet\":[{\"type\":\"scattercarpet\",\"marker\":{\"colorbar\":{\"outlinewidth\":0,\"tickcolor\":\"rgb(237,237,237)\",\"ticklen\":6,\"ticks\":\"inside\"}}}],\"carpet\":[{\"aaxis\":{\"endlinecolor\":\"rgb(51,51,51)\",\"gridcolor\":\"white\",\"linecolor\":\"white\",\"minorgridcolor\":\"white\",\"startlinecolor\":\"rgb(51,51,51)\"},\"baxis\":{\"endlinecolor\":\"rgb(51,51,51)\",\"gridcolor\":\"white\",\"linecolor\":\"white\",\"minorgridcolor\":\"white\",\"startlinecolor\":\"rgb(51,51,51)\"},\"type\":\"carpet\"}],\"table\":[{\"cells\":{\"fill\":{\"color\":\"rgb(237,237,237)\"},\"line\":{\"color\":\"white\"}},\"header\":{\"fill\":{\"color\":\"rgb(217,217,217)\"},\"line\":{\"color\":\"white\"}},\"type\":\"table\"}],\"barpolar\":[{\"marker\":{\"line\":{\"color\":\"rgb(237,237,237)\",\"width\":0.5},\"pattern\":{\"fillmode\":\"overlay\",\"size\":10,\"solidity\":0.2}},\"type\":\"barpolar\"}],\"pie\":[{\"automargin\":true,\"type\":\"pie\"}]},\"layout\":{\"autotypenumbers\":\"strict\",\"colorway\":[\"#F8766D\",\"#A3A500\",\"#00BF7D\",\"#00B0F6\",\"#E76BF3\"],\"font\":{\"color\":\"rgb(51,51,51)\"},\"hovermode\":\"closest\",\"hoverlabel\":{\"align\":\"left\"},\"paper_bgcolor\":\"white\",\"plot_bgcolor\":\"rgb(237,237,237)\",\"polar\":{\"bgcolor\":\"rgb(237,237,237)\",\"angularaxis\":{\"gridcolor\":\"white\",\"linecolor\":\"white\",\"showgrid\":true,\"tickcolor\":\"rgb(51,51,51)\",\"ticks\":\"outside\"},\"radialaxis\":{\"gridcolor\":\"white\",\"linecolor\":\"white\",\"showgrid\":true,\"tickcolor\":\"rgb(51,51,51)\",\"ticks\":\"outside\"}},\"ternary\":{\"bgcolor\":\"rgb(237,237,237)\",\"aaxis\":{\"gridcolor\":\"white\",\"linecolor\":\"white\",\"showgrid\":true,\"tickcolor\":\"rgb(51,51,51)\",\"ticks\":\"outside\"},\"baxis\":{\"gridcolor\":\"white\",\"linecolor\":\"white\",\"showgrid\":true,\"tickcolor\":\"rgb(51,51,51)\",\"ticks\":\"outside\"},\"caxis\":{\"gridcolor\":\"white\",\"linecolor\":\"white\",\"showgrid\":true,\"tickcolor\":\"rgb(51,51,51)\",\"ticks\":\"outside\"}},\"coloraxis\":{\"colorbar\":{\"outlinewidth\":0,\"tickcolor\":\"rgb(237,237,237)\",\"ticklen\":6,\"ticks\":\"inside\"}},\"colorscale\":{\"sequential\":[[0,\"rgb(20,44,66)\"],[1,\"rgb(90,179,244)\"]],\"sequentialminus\":[[0,\"rgb(20,44,66)\"],[1,\"rgb(90,179,244)\"]]},\"xaxis\":{\"gridcolor\":\"white\",\"linecolor\":\"white\",\"showgrid\":true,\"tickcolor\":\"rgb(51,51,51)\",\"ticks\":\"outside\",\"title\":{\"standoff\":15},\"zerolinecolor\":\"white\",\"automargin\":true},\"yaxis\":{\"gridcolor\":\"white\",\"linecolor\":\"white\",\"showgrid\":true,\"tickcolor\":\"rgb(51,51,51)\",\"ticks\":\"outside\",\"title\":{\"standoff\":15},\"zerolinecolor\":\"white\",\"automargin\":true},\"scene\":{\"xaxis\":{\"backgroundcolor\":\"rgb(237,237,237)\",\"gridcolor\":\"white\",\"linecolor\":\"white\",\"showbackground\":true,\"showgrid\":true,\"tickcolor\":\"rgb(51,51,51)\",\"ticks\":\"outside\",\"zerolinecolor\":\"white\",\"gridwidth\":2},\"yaxis\":{\"backgroundcolor\":\"rgb(237,237,237)\",\"gridcolor\":\"white\",\"linecolor\":\"white\",\"showbackground\":true,\"showgrid\":true,\"tickcolor\":\"rgb(51,51,51)\",\"ticks\":\"outside\",\"zerolinecolor\":\"white\",\"gridwidth\":2},\"zaxis\":{\"backgroundcolor\":\"rgb(237,237,237)\",\"gridcolor\":\"white\",\"linecolor\":\"white\",\"showbackground\":true,\"showgrid\":true,\"tickcolor\":\"rgb(51,51,51)\",\"ticks\":\"outside\",\"zerolinecolor\":\"white\",\"gridwidth\":2}},\"shapedefaults\":{\"fillcolor\":\"black\",\"line\":{\"width\":0},\"opacity\":0.3},\"annotationdefaults\":{\"arrowhead\":0,\"arrowwidth\":1},\"geo\":{\"bgcolor\":\"white\",\"landcolor\":\"rgb(237,237,237)\",\"subunitcolor\":\"white\",\"showland\":true,\"showlakes\":true,\"lakecolor\":\"white\"}}},\"xaxis\":{\"anchor\":\"y\",\"domain\":[0.0,1.0],\"title\":{\"text\":\"x\"}},\"yaxis\":{\"anchor\":\"x\",\"domain\":[0.0,1.0],\"title\":{\"text\":\"y\"}},\"legend\":{\"tracegroupgap\":0},\"margin\":{\"t\":60}},                        {\"responsive\": true}                    ).then(function(){\n                            \nvar gd = document.getElementById('0ca373a6-bae8-44ef-82a2-e74651de7c6a');\nvar x = new MutationObserver(function (mutations, observer) {{\n        var display = window.getComputedStyle(gd).display;\n        if (!display || display === 'none') {{\n            console.log([gd, 'removed!']);\n            Plotly.purge(gd);\n            observer.disconnect();\n        }}\n}});\n\n// Listen for the removal of the full notebook cells\nvar notebookContainer = gd.closest('#notebook-container');\nif (notebookContainer) {{\n    x.observe(notebookContainer, {childList: true});\n}}\n\n// Listen for the clearing of the current output cell\nvar outputEl = gd.closest('.output');\nif (outputEl) {{\n    x.observe(outputEl, {childList: true});\n}}\n\n                        })                };                });            </script>        </div>"
     },
     "metadata": {},
     "output_type": "display_data"
    }
   ],
   "source": [
    "fig = px.scatter(x=kmeans.centroids[:, 0], y=kmeans.centroids[:, 1])\n",
    "fig.update_traces(mode='markers', marker_size=12, marker_color='black', marker_symbol='x-thin', marker_line_width=2)\n",
    "fig.add_scatter(x=x_train_scaled[:, 0], y=x_train_scaled[:, 1], marker_color=kmeans.labels, mode='markers')\n",
    "fig.show()"
   ],
   "metadata": {
    "collapsed": false
   }
  },
  {
   "cell_type": "code",
   "execution_count": 7,
   "outputs": [],
   "source": [
    "kmeans = RobustKMeans(n_clusters=n_clusters, max_iter=300)\n",
    "kmeans.fit(x_train_scaled, n=1000)"
   ],
   "metadata": {
    "collapsed": false
   }
  },
  {
   "cell_type": "code",
   "execution_count": 8,
   "outputs": [
    {
     "data": {
      "text/plain": "(5.590132082655962, 1.0)"
     },
     "execution_count": 8,
     "metadata": {},
     "output_type": "execute_result"
    }
   ],
   "source": [
    "kmeans.inertia, kmeans.score(true_labels)"
   ],
   "metadata": {
    "collapsed": false
   }
  },
  {
   "cell_type": "code",
   "execution_count": 9,
   "outputs": [
    {
     "data": {
      "application/vnd.plotly.v1+json": {
       "data": [
        {
         "hovertemplate": "x=%{x}<br>y=%{y}<extra></extra>",
         "legendgroup": "",
         "marker": {
          "color": "black",
          "symbol": "x-thin",
          "line": {
           "width": 2
          },
          "size": 12
         },
         "mode": "markers",
         "name": "",
         "orientation": "v",
         "showlegend": false,
         "x": [
          -0.19926856730977585,
          -1.0955539685377085,
          1.3008936680112737
         ],
         "xaxis": "x",
         "y": [
          1.1530124069197902,
          -1.2596285037714248,
          0.07156546285872234
         ],
         "yaxis": "y",
         "type": "scatter"
        },
        {
         "marker": {
          "color": [
           1,
           2,
           0,
           2,
           1,
           2,
           0,
           2,
           2,
           0,
           0,
           1,
           1,
           0,
           0,
           1,
           1,
           0,
           1,
           1,
           0,
           1,
           1,
           0,
           0,
           0,
           2,
           1,
           1,
           1,
           1,
           2,
           2,
           1,
           0,
           0,
           0,
           0,
           2,
           2,
           1,
           0,
           2,
           0,
           0,
           2,
           1,
           1,
           1,
           2,
           2,
           2,
           0,
           1,
           1,
           1,
           0,
           0,
           2,
           0,
           1,
           2,
           1,
           2,
           1,
           1,
           2,
           1,
           2,
           2,
           2,
           1,
           1,
           0,
           2,
           1,
           2,
           1,
           2,
           2,
           0,
           2,
           0,
           1,
           0,
           0,
           0,
           2,
           0,
           2,
           2,
           2,
           0,
           2,
           0,
           0,
           0,
           2,
           1,
           0
          ]
         },
         "mode": "markers",
         "x": [
          -1.2573011106971093,
          1.4998715684903412,
          -0.26408826166498317,
          1.6231463231728998,
          -1.0053068645974528,
          1.1224697310288583,
          -0.09657664603432181,
          1.2837319376177734,
          1.3499948376883761,
          -0.40665974808334665,
          -0.2797588301703713,
          -1.0325709167936523,
          -0.9709663656954407,
          -0.3973173208267774,
          -0.011391138576671839,
          -1.3041818098280817,
          -1.0222719880924467,
          -0.18094009551642798,
          -1.2650547139006258,
          -0.9811550637625178,
          -0.2628212221567212,
          -1.0962841721737921,
          -1.1735641604199214,
          -0.09027309815950728,
          -0.17337050908815962,
          -0.2622398811994524,
          1.0335958224750326,
          -0.949267286453829,
          -1.2840548333538477,
          -1.338920620604083,
          -1.2224136064051525,
          1.3916338962882964,
          1.2894452894121804,
          -0.8377805212510501,
          0.16449010144532888,
          -0.2915273859296959,
          -0.1517491544000393,
          -0.09807856495760328,
          1.5211855415455626,
          1.348882586980985,
          -1.3683584828934279,
          -0.26611743754464817,
          1.3224249624065303,
          -0.443727807730151,
          -0.19006904966571447,
          1.1074562385311892,
          -1.4164347586176622,
          -1.0439258999781087,
          -1.077434806626486,
          1.1605524465638433,
          0.7816448207352634,
          1.3307562636938035,
          0.004101801906441477,
          -1.0257881653302157,
          -0.9081825811202451,
          -1.1269024092053697,
          -0.3777566340987746,
          -0.11525814357092755,
          1.6388569309033947,
          -0.5267227414104482,
          -1.0188449978669243,
          1.1828194373911978,
          -1.1314891134741294,
          0.9282861633616452,
          -1.1355200632872755,
          -1.0353670781746103,
          1.3422865001750113,
          -1.2662381375976373,
          1.2188625213559128,
          1.3835652078413303,
          1.2579918400766232,
          -1.0277525095134652,
          -1.3293713794589286,
          -0.09399205191715058,
          1.350533271147544,
          -0.8786197631655078,
          1.495167726759943,
          -1.0679776929595852,
          1.7242701923293287,
          1.0052930541664655,
          -0.09022280321330656,
          1.1658326332977078,
          0.006197761242894448,
          -0.6898411047563574,
          -0.16869939740892628,
          -0.12218227362443868,
          0.14073289089621463,
          1.1373461374868485,
          -0.4751775730559993,
          1.247658860054344,
          1.3478964953097787,
          1.5687611743258516,
          -0.3558313584018054,
          1.4524550450340694,
          -0.2917507916284675,
          -0.30748559383734775,
          0.04980575354256323,
          1.2959461261938703,
          -0.8535841382065299,
          -0.34143726274160646
         ],
         "y": [
          -1.5248661551026996,
          -0.11317684540920024,
          1.24865263596926,
          -0.1395939665373649,
          -1.2041850698555872,
          -0.01050259494267867,
          1.3155479927269065,
          0.13216250802627696,
          0.22664308228801694,
          1.2228727762646598,
          1.1819654853839052,
          -1.0888741692639545,
          -1.2449416362110663,
          0.9800165536315942,
          1.1913042276403332,
          -1.2162841393416939,
          -1.1630269831910491,
          1.3198720491013118,
          -1.267074961877581,
          -1.3020771189392162,
          1.092873815264941,
          -1.2381178736640603,
          -1.1585132380317225,
          1.402451830615932,
          1.4065625743849373,
          1.3281514965306567,
          0.012000419799582404,
          -1.4232543752340432,
          -1.1692221462218475,
          -1.494833182125393,
          -1.2549424466368035,
          0.11732184133286994,
          0.12357778774253715,
          -1.4176190216019486,
          1.283395339329617,
          1.1197620407581816,
          0.9447073249441873,
          1.1053336936611493,
          0.12778071710344352,
          -0.23008624016499915,
          -1.4357173451897804,
          1.1361442078279511,
          -0.10356918578096352,
          1.1952428397609631,
          1.11830822235882,
          0.15015842065103066,
          -1.2622996194700808,
          -1.231294404149091,
          -1.0662569934251098,
          -5.311839617038024E-4,
          0.2039716524021513,
          0.04074604968429828,
          1.3743646176328117,
          -1.1700350736190144,
          -0.9977743510739705,
          -1.1805134996062299,
          1.2133787643400449,
          0.869230068152188,
          -0.0030824374668065153,
          1.077955825946553,
          -1.401191103453984,
          0.02636614041837886,
          -1.4072759704778344,
          0.07289296501680066,
          -0.870564325453084,
          -1.4832894214358339,
          0.45755544274477966,
          -1.41686630188041,
          0.15628813168740383,
          0.06548755762739165,
          -0.04696097674506489,
          -1.2372996156642249,
          -1.1893889321406699,
          0.8924418709482749,
          -7.967059600693054E-4,
          -1.2270513392996467,
          -0.06350929295441378,
          -1.467411890191914,
          0.10396124136177082,
          0.08758215422690266,
          1.065158407565513,
          0.027231426966097216,
          0.9762101808509858,
          -1.2176189244820599,
          1.0014138702760857,
          0.8620629216649408,
          1.1299461590005782,
          0.31645117092653857,
          1.0536136241888028,
          -0.149120917385602,
          0.03079325091928826,
          0.1931615045501423,
          0.9466299737541434,
          0.41541045891353895,
          1.45100155194904,
          1.2593309619899002,
          1.3087091347268405,
          0.1394143821908024,
          -1.128014817065639,
          1.117055446964054
         ],
         "type": "scatter"
        }
       ],
       "layout": {
        "template": {
         "data": {
          "histogram2dcontour": [
           {
            "type": "histogram2dcontour",
            "colorbar": {
             "outlinewidth": 0,
             "tickcolor": "rgb(237,237,237)",
             "ticklen": 6,
             "ticks": "inside"
            },
            "colorscale": [
             [
              0,
              "rgb(20,44,66)"
             ],
             [
              1,
              "rgb(90,179,244)"
             ]
            ]
           }
          ],
          "choropleth": [
           {
            "type": "choropleth",
            "colorbar": {
             "outlinewidth": 0,
             "tickcolor": "rgb(237,237,237)",
             "ticklen": 6,
             "ticks": "inside"
            }
           }
          ],
          "histogram2d": [
           {
            "type": "histogram2d",
            "colorbar": {
             "outlinewidth": 0,
             "tickcolor": "rgb(237,237,237)",
             "ticklen": 6,
             "ticks": "inside"
            },
            "colorscale": [
             [
              0,
              "rgb(20,44,66)"
             ],
             [
              1,
              "rgb(90,179,244)"
             ]
            ]
           }
          ],
          "heatmap": [
           {
            "type": "heatmap",
            "colorbar": {
             "outlinewidth": 0,
             "tickcolor": "rgb(237,237,237)",
             "ticklen": 6,
             "ticks": "inside"
            },
            "colorscale": [
             [
              0,
              "rgb(20,44,66)"
             ],
             [
              1,
              "rgb(90,179,244)"
             ]
            ]
           }
          ],
          "heatmapgl": [
           {
            "type": "heatmapgl",
            "colorbar": {
             "outlinewidth": 0,
             "tickcolor": "rgb(237,237,237)",
             "ticklen": 6,
             "ticks": "inside"
            },
            "colorscale": [
             [
              0,
              "rgb(20,44,66)"
             ],
             [
              1,
              "rgb(90,179,244)"
             ]
            ]
           }
          ],
          "contourcarpet": [
           {
            "type": "contourcarpet",
            "colorbar": {
             "outlinewidth": 0,
             "tickcolor": "rgb(237,237,237)",
             "ticklen": 6,
             "ticks": "inside"
            }
           }
          ],
          "contour": [
           {
            "type": "contour",
            "colorbar": {
             "outlinewidth": 0,
             "tickcolor": "rgb(237,237,237)",
             "ticklen": 6,
             "ticks": "inside"
            },
            "colorscale": [
             [
              0,
              "rgb(20,44,66)"
             ],
             [
              1,
              "rgb(90,179,244)"
             ]
            ]
           }
          ],
          "surface": [
           {
            "type": "surface",
            "colorbar": {
             "outlinewidth": 0,
             "tickcolor": "rgb(237,237,237)",
             "ticklen": 6,
             "ticks": "inside"
            },
            "colorscale": [
             [
              0,
              "rgb(20,44,66)"
             ],
             [
              1,
              "rgb(90,179,244)"
             ]
            ]
           }
          ],
          "mesh3d": [
           {
            "type": "mesh3d",
            "colorbar": {
             "outlinewidth": 0,
             "tickcolor": "rgb(237,237,237)",
             "ticklen": 6,
             "ticks": "inside"
            }
           }
          ],
          "scatter": [
           {
            "fillpattern": {
             "fillmode": "overlay",
             "size": 10,
             "solidity": 0.2
            },
            "type": "scatter"
           }
          ],
          "parcoords": [
           {
            "type": "parcoords",
            "line": {
             "colorbar": {
              "outlinewidth": 0,
              "tickcolor": "rgb(237,237,237)",
              "ticklen": 6,
              "ticks": "inside"
             }
            }
           }
          ],
          "scatterpolargl": [
           {
            "type": "scatterpolargl",
            "marker": {
             "colorbar": {
              "outlinewidth": 0,
              "tickcolor": "rgb(237,237,237)",
              "ticklen": 6,
              "ticks": "inside"
             }
            }
           }
          ],
          "bar": [
           {
            "error_x": {
             "color": "rgb(51,51,51)"
            },
            "error_y": {
             "color": "rgb(51,51,51)"
            },
            "marker": {
             "line": {
              "color": "rgb(237,237,237)",
              "width": 0.5
             },
             "pattern": {
              "fillmode": "overlay",
              "size": 10,
              "solidity": 0.2
             }
            },
            "type": "bar"
           }
          ],
          "scattergeo": [
           {
            "type": "scattergeo",
            "marker": {
             "colorbar": {
              "outlinewidth": 0,
              "tickcolor": "rgb(237,237,237)",
              "ticklen": 6,
              "ticks": "inside"
             }
            }
           }
          ],
          "scatterpolar": [
           {
            "type": "scatterpolar",
            "marker": {
             "colorbar": {
              "outlinewidth": 0,
              "tickcolor": "rgb(237,237,237)",
              "ticklen": 6,
              "ticks": "inside"
             }
            }
           }
          ],
          "histogram": [
           {
            "marker": {
             "pattern": {
              "fillmode": "overlay",
              "size": 10,
              "solidity": 0.2
             }
            },
            "type": "histogram"
           }
          ],
          "scattergl": [
           {
            "type": "scattergl",
            "marker": {
             "colorbar": {
              "outlinewidth": 0,
              "tickcolor": "rgb(237,237,237)",
              "ticklen": 6,
              "ticks": "inside"
             }
            }
           }
          ],
          "scatter3d": [
           {
            "type": "scatter3d",
            "line": {
             "colorbar": {
              "outlinewidth": 0,
              "tickcolor": "rgb(237,237,237)",
              "ticklen": 6,
              "ticks": "inside"
             }
            },
            "marker": {
             "colorbar": {
              "outlinewidth": 0,
              "tickcolor": "rgb(237,237,237)",
              "ticklen": 6,
              "ticks": "inside"
             }
            }
           }
          ],
          "scattermapbox": [
           {
            "type": "scattermapbox",
            "marker": {
             "colorbar": {
              "outlinewidth": 0,
              "tickcolor": "rgb(237,237,237)",
              "ticklen": 6,
              "ticks": "inside"
             }
            }
           }
          ],
          "scatterternary": [
           {
            "type": "scatterternary",
            "marker": {
             "colorbar": {
              "outlinewidth": 0,
              "tickcolor": "rgb(237,237,237)",
              "ticklen": 6,
              "ticks": "inside"
             }
            }
           }
          ],
          "scattercarpet": [
           {
            "type": "scattercarpet",
            "marker": {
             "colorbar": {
              "outlinewidth": 0,
              "tickcolor": "rgb(237,237,237)",
              "ticklen": 6,
              "ticks": "inside"
             }
            }
           }
          ],
          "carpet": [
           {
            "aaxis": {
             "endlinecolor": "rgb(51,51,51)",
             "gridcolor": "white",
             "linecolor": "white",
             "minorgridcolor": "white",
             "startlinecolor": "rgb(51,51,51)"
            },
            "baxis": {
             "endlinecolor": "rgb(51,51,51)",
             "gridcolor": "white",
             "linecolor": "white",
             "minorgridcolor": "white",
             "startlinecolor": "rgb(51,51,51)"
            },
            "type": "carpet"
           }
          ],
          "table": [
           {
            "cells": {
             "fill": {
              "color": "rgb(237,237,237)"
             },
             "line": {
              "color": "white"
             }
            },
            "header": {
             "fill": {
              "color": "rgb(217,217,217)"
             },
             "line": {
              "color": "white"
             }
            },
            "type": "table"
           }
          ],
          "barpolar": [
           {
            "marker": {
             "line": {
              "color": "rgb(237,237,237)",
              "width": 0.5
             },
             "pattern": {
              "fillmode": "overlay",
              "size": 10,
              "solidity": 0.2
             }
            },
            "type": "barpolar"
           }
          ],
          "pie": [
           {
            "automargin": true,
            "type": "pie"
           }
          ]
         },
         "layout": {
          "autotypenumbers": "strict",
          "colorway": [
           "#F8766D",
           "#A3A500",
           "#00BF7D",
           "#00B0F6",
           "#E76BF3"
          ],
          "font": {
           "color": "rgb(51,51,51)"
          },
          "hovermode": "closest",
          "hoverlabel": {
           "align": "left"
          },
          "paper_bgcolor": "white",
          "plot_bgcolor": "rgb(237,237,237)",
          "polar": {
           "bgcolor": "rgb(237,237,237)",
           "angularaxis": {
            "gridcolor": "white",
            "linecolor": "white",
            "showgrid": true,
            "tickcolor": "rgb(51,51,51)",
            "ticks": "outside"
           },
           "radialaxis": {
            "gridcolor": "white",
            "linecolor": "white",
            "showgrid": true,
            "tickcolor": "rgb(51,51,51)",
            "ticks": "outside"
           }
          },
          "ternary": {
           "bgcolor": "rgb(237,237,237)",
           "aaxis": {
            "gridcolor": "white",
            "linecolor": "white",
            "showgrid": true,
            "tickcolor": "rgb(51,51,51)",
            "ticks": "outside"
           },
           "baxis": {
            "gridcolor": "white",
            "linecolor": "white",
            "showgrid": true,
            "tickcolor": "rgb(51,51,51)",
            "ticks": "outside"
           },
           "caxis": {
            "gridcolor": "white",
            "linecolor": "white",
            "showgrid": true,
            "tickcolor": "rgb(51,51,51)",
            "ticks": "outside"
           }
          },
          "coloraxis": {
           "colorbar": {
            "outlinewidth": 0,
            "tickcolor": "rgb(237,237,237)",
            "ticklen": 6,
            "ticks": "inside"
           }
          },
          "colorscale": {
           "sequential": [
            [
             0,
             "rgb(20,44,66)"
            ],
            [
             1,
             "rgb(90,179,244)"
            ]
           ],
           "sequentialminus": [
            [
             0,
             "rgb(20,44,66)"
            ],
            [
             1,
             "rgb(90,179,244)"
            ]
           ]
          },
          "xaxis": {
           "gridcolor": "white",
           "linecolor": "white",
           "showgrid": true,
           "tickcolor": "rgb(51,51,51)",
           "ticks": "outside",
           "title": {
            "standoff": 15
           },
           "zerolinecolor": "white",
           "automargin": true
          },
          "yaxis": {
           "gridcolor": "white",
           "linecolor": "white",
           "showgrid": true,
           "tickcolor": "rgb(51,51,51)",
           "ticks": "outside",
           "title": {
            "standoff": 15
           },
           "zerolinecolor": "white",
           "automargin": true
          },
          "scene": {
           "xaxis": {
            "backgroundcolor": "rgb(237,237,237)",
            "gridcolor": "white",
            "linecolor": "white",
            "showbackground": true,
            "showgrid": true,
            "tickcolor": "rgb(51,51,51)",
            "ticks": "outside",
            "zerolinecolor": "white",
            "gridwidth": 2
           },
           "yaxis": {
            "backgroundcolor": "rgb(237,237,237)",
            "gridcolor": "white",
            "linecolor": "white",
            "showbackground": true,
            "showgrid": true,
            "tickcolor": "rgb(51,51,51)",
            "ticks": "outside",
            "zerolinecolor": "white",
            "gridwidth": 2
           },
           "zaxis": {
            "backgroundcolor": "rgb(237,237,237)",
            "gridcolor": "white",
            "linecolor": "white",
            "showbackground": true,
            "showgrid": true,
            "tickcolor": "rgb(51,51,51)",
            "ticks": "outside",
            "zerolinecolor": "white",
            "gridwidth": 2
           }
          },
          "shapedefaults": {
           "fillcolor": "black",
           "line": {
            "width": 0
           },
           "opacity": 0.3
          },
          "annotationdefaults": {
           "arrowhead": 0,
           "arrowwidth": 1
          },
          "geo": {
           "bgcolor": "white",
           "landcolor": "rgb(237,237,237)",
           "subunitcolor": "white",
           "showland": true,
           "showlakes": true,
           "lakecolor": "white"
          }
         }
        },
        "xaxis": {
         "anchor": "y",
         "domain": [
          0.0,
          1.0
         ],
         "title": {
          "text": "x"
         }
        },
        "yaxis": {
         "anchor": "x",
         "domain": [
          0.0,
          1.0
         ],
         "title": {
          "text": "y"
         }
        },
        "legend": {
         "tracegroupgap": 0
        },
        "margin": {
         "t": 60
        }
       },
       "config": {
        "plotlyServerURL": "https://plot.ly"
       }
      },
      "text/html": "<div>                            <div id=\"139d1e85-6c48-4586-b2c3-957ad94a36b3\" class=\"plotly-graph-div\" style=\"height:525px; width:100%;\"></div>            <script type=\"text/javascript\">                require([\"plotly\"], function(Plotly) {                    window.PLOTLYENV=window.PLOTLYENV || {};                                    if (document.getElementById(\"139d1e85-6c48-4586-b2c3-957ad94a36b3\")) {                    Plotly.newPlot(                        \"139d1e85-6c48-4586-b2c3-957ad94a36b3\",                        [{\"hovertemplate\":\"x=%{x}<br>y=%{y}<extra></extra>\",\"legendgroup\":\"\",\"marker\":{\"color\":\"black\",\"symbol\":\"x-thin\",\"line\":{\"width\":2},\"size\":12},\"mode\":\"markers\",\"name\":\"\",\"orientation\":\"v\",\"showlegend\":false,\"x\":[-0.19926856730977585,-1.0955539685377085,1.3008936680112737],\"xaxis\":\"x\",\"y\":[1.1530124069197902,-1.2596285037714248,0.07156546285872234],\"yaxis\":\"y\",\"type\":\"scatter\"},{\"marker\":{\"color\":[1,2,0,2,1,2,0,2,2,0,0,1,1,0,0,1,1,0,1,1,0,1,1,0,0,0,2,1,1,1,1,2,2,1,0,0,0,0,2,2,1,0,2,0,0,2,1,1,1,2,2,2,0,1,1,1,0,0,2,0,1,2,1,2,1,1,2,1,2,2,2,1,1,0,2,1,2,1,2,2,0,2,0,1,0,0,0,2,0,2,2,2,0,2,0,0,0,2,1,0]},\"mode\":\"markers\",\"x\":[-1.2573011106971093,1.4998715684903412,-0.26408826166498317,1.6231463231728998,-1.0053068645974528,1.1224697310288583,-0.09657664603432181,1.2837319376177734,1.3499948376883761,-0.40665974808334665,-0.2797588301703713,-1.0325709167936523,-0.9709663656954407,-0.3973173208267774,-0.011391138576671839,-1.3041818098280817,-1.0222719880924467,-0.18094009551642798,-1.2650547139006258,-0.9811550637625178,-0.2628212221567212,-1.0962841721737921,-1.1735641604199214,-0.09027309815950728,-0.17337050908815962,-0.2622398811994524,1.0335958224750326,-0.949267286453829,-1.2840548333538477,-1.338920620604083,-1.2224136064051525,1.3916338962882964,1.2894452894121804,-0.8377805212510501,0.16449010144532888,-0.2915273859296959,-0.1517491544000393,-0.09807856495760328,1.5211855415455626,1.348882586980985,-1.3683584828934279,-0.26611743754464817,1.3224249624065303,-0.443727807730151,-0.19006904966571447,1.1074562385311892,-1.4164347586176622,-1.0439258999781087,-1.077434806626486,1.1605524465638433,0.7816448207352634,1.3307562636938035,0.004101801906441477,-1.0257881653302157,-0.9081825811202451,-1.1269024092053697,-0.3777566340987746,-0.11525814357092755,1.6388569309033947,-0.5267227414104482,-1.0188449978669243,1.1828194373911978,-1.1314891134741294,0.9282861633616452,-1.1355200632872755,-1.0353670781746103,1.3422865001750113,-1.2662381375976373,1.2188625213559128,1.3835652078413303,1.2579918400766232,-1.0277525095134652,-1.3293713794589286,-0.09399205191715058,1.350533271147544,-0.8786197631655078,1.495167726759943,-1.0679776929595852,1.7242701923293287,1.0052930541664655,-0.09022280321330656,1.1658326332977078,0.006197761242894448,-0.6898411047563574,-0.16869939740892628,-0.12218227362443868,0.14073289089621463,1.1373461374868485,-0.4751775730559993,1.247658860054344,1.3478964953097787,1.5687611743258516,-0.3558313584018054,1.4524550450340694,-0.2917507916284675,-0.30748559383734775,0.04980575354256323,1.2959461261938703,-0.8535841382065299,-0.34143726274160646],\"y\":[-1.5248661551026996,-0.11317684540920024,1.24865263596926,-0.1395939665373649,-1.2041850698555872,-0.01050259494267867,1.3155479927269065,0.13216250802627696,0.22664308228801694,1.2228727762646598,1.1819654853839052,-1.0888741692639545,-1.2449416362110663,0.9800165536315942,1.1913042276403332,-1.2162841393416939,-1.1630269831910491,1.3198720491013118,-1.267074961877581,-1.3020771189392162,1.092873815264941,-1.2381178736640603,-1.1585132380317225,1.402451830615932,1.4065625743849373,1.3281514965306567,0.012000419799582404,-1.4232543752340432,-1.1692221462218475,-1.494833182125393,-1.2549424466368035,0.11732184133286994,0.12357778774253715,-1.4176190216019486,1.283395339329617,1.1197620407581816,0.9447073249441873,1.1053336936611493,0.12778071710344352,-0.23008624016499915,-1.4357173451897804,1.1361442078279511,-0.10356918578096352,1.1952428397609631,1.11830822235882,0.15015842065103066,-1.2622996194700808,-1.231294404149091,-1.0662569934251098,-0.0005311839617038024,0.2039716524021513,0.04074604968429828,1.3743646176328117,-1.1700350736190144,-0.9977743510739705,-1.1805134996062299,1.2133787643400449,0.869230068152188,-0.0030824374668065153,1.077955825946553,-1.401191103453984,0.02636614041837886,-1.4072759704778344,0.07289296501680066,-0.870564325453084,-1.4832894214358339,0.45755544274477966,-1.41686630188041,0.15628813168740383,0.06548755762739165,-0.04696097674506489,-1.2372996156642249,-1.1893889321406699,0.8924418709482749,-0.0007967059600693054,-1.2270513392996467,-0.06350929295441378,-1.467411890191914,0.10396124136177082,0.08758215422690266,1.065158407565513,0.027231426966097216,0.9762101808509858,-1.2176189244820599,1.0014138702760857,0.8620629216649408,1.1299461590005782,0.31645117092653857,1.0536136241888028,-0.149120917385602,0.03079325091928826,0.1931615045501423,0.9466299737541434,0.41541045891353895,1.45100155194904,1.2593309619899002,1.3087091347268405,0.1394143821908024,-1.128014817065639,1.117055446964054],\"type\":\"scatter\"}],                        {\"template\":{\"data\":{\"histogram2dcontour\":[{\"type\":\"histogram2dcontour\",\"colorbar\":{\"outlinewidth\":0,\"tickcolor\":\"rgb(237,237,237)\",\"ticklen\":6,\"ticks\":\"inside\"},\"colorscale\":[[0,\"rgb(20,44,66)\"],[1,\"rgb(90,179,244)\"]]}],\"choropleth\":[{\"type\":\"choropleth\",\"colorbar\":{\"outlinewidth\":0,\"tickcolor\":\"rgb(237,237,237)\",\"ticklen\":6,\"ticks\":\"inside\"}}],\"histogram2d\":[{\"type\":\"histogram2d\",\"colorbar\":{\"outlinewidth\":0,\"tickcolor\":\"rgb(237,237,237)\",\"ticklen\":6,\"ticks\":\"inside\"},\"colorscale\":[[0,\"rgb(20,44,66)\"],[1,\"rgb(90,179,244)\"]]}],\"heatmap\":[{\"type\":\"heatmap\",\"colorbar\":{\"outlinewidth\":0,\"tickcolor\":\"rgb(237,237,237)\",\"ticklen\":6,\"ticks\":\"inside\"},\"colorscale\":[[0,\"rgb(20,44,66)\"],[1,\"rgb(90,179,244)\"]]}],\"heatmapgl\":[{\"type\":\"heatmapgl\",\"colorbar\":{\"outlinewidth\":0,\"tickcolor\":\"rgb(237,237,237)\",\"ticklen\":6,\"ticks\":\"inside\"},\"colorscale\":[[0,\"rgb(20,44,66)\"],[1,\"rgb(90,179,244)\"]]}],\"contourcarpet\":[{\"type\":\"contourcarpet\",\"colorbar\":{\"outlinewidth\":0,\"tickcolor\":\"rgb(237,237,237)\",\"ticklen\":6,\"ticks\":\"inside\"}}],\"contour\":[{\"type\":\"contour\",\"colorbar\":{\"outlinewidth\":0,\"tickcolor\":\"rgb(237,237,237)\",\"ticklen\":6,\"ticks\":\"inside\"},\"colorscale\":[[0,\"rgb(20,44,66)\"],[1,\"rgb(90,179,244)\"]]}],\"surface\":[{\"type\":\"surface\",\"colorbar\":{\"outlinewidth\":0,\"tickcolor\":\"rgb(237,237,237)\",\"ticklen\":6,\"ticks\":\"inside\"},\"colorscale\":[[0,\"rgb(20,44,66)\"],[1,\"rgb(90,179,244)\"]]}],\"mesh3d\":[{\"type\":\"mesh3d\",\"colorbar\":{\"outlinewidth\":0,\"tickcolor\":\"rgb(237,237,237)\",\"ticklen\":6,\"ticks\":\"inside\"}}],\"scatter\":[{\"fillpattern\":{\"fillmode\":\"overlay\",\"size\":10,\"solidity\":0.2},\"type\":\"scatter\"}],\"parcoords\":[{\"type\":\"parcoords\",\"line\":{\"colorbar\":{\"outlinewidth\":0,\"tickcolor\":\"rgb(237,237,237)\",\"ticklen\":6,\"ticks\":\"inside\"}}}],\"scatterpolargl\":[{\"type\":\"scatterpolargl\",\"marker\":{\"colorbar\":{\"outlinewidth\":0,\"tickcolor\":\"rgb(237,237,237)\",\"ticklen\":6,\"ticks\":\"inside\"}}}],\"bar\":[{\"error_x\":{\"color\":\"rgb(51,51,51)\"},\"error_y\":{\"color\":\"rgb(51,51,51)\"},\"marker\":{\"line\":{\"color\":\"rgb(237,237,237)\",\"width\":0.5},\"pattern\":{\"fillmode\":\"overlay\",\"size\":10,\"solidity\":0.2}},\"type\":\"bar\"}],\"scattergeo\":[{\"type\":\"scattergeo\",\"marker\":{\"colorbar\":{\"outlinewidth\":0,\"tickcolor\":\"rgb(237,237,237)\",\"ticklen\":6,\"ticks\":\"inside\"}}}],\"scatterpolar\":[{\"type\":\"scatterpolar\",\"marker\":{\"colorbar\":{\"outlinewidth\":0,\"tickcolor\":\"rgb(237,237,237)\",\"ticklen\":6,\"ticks\":\"inside\"}}}],\"histogram\":[{\"marker\":{\"pattern\":{\"fillmode\":\"overlay\",\"size\":10,\"solidity\":0.2}},\"type\":\"histogram\"}],\"scattergl\":[{\"type\":\"scattergl\",\"marker\":{\"colorbar\":{\"outlinewidth\":0,\"tickcolor\":\"rgb(237,237,237)\",\"ticklen\":6,\"ticks\":\"inside\"}}}],\"scatter3d\":[{\"type\":\"scatter3d\",\"line\":{\"colorbar\":{\"outlinewidth\":0,\"tickcolor\":\"rgb(237,237,237)\",\"ticklen\":6,\"ticks\":\"inside\"}},\"marker\":{\"colorbar\":{\"outlinewidth\":0,\"tickcolor\":\"rgb(237,237,237)\",\"ticklen\":6,\"ticks\":\"inside\"}}}],\"scattermapbox\":[{\"type\":\"scattermapbox\",\"marker\":{\"colorbar\":{\"outlinewidth\":0,\"tickcolor\":\"rgb(237,237,237)\",\"ticklen\":6,\"ticks\":\"inside\"}}}],\"scatterternary\":[{\"type\":\"scatterternary\",\"marker\":{\"colorbar\":{\"outlinewidth\":0,\"tickcolor\":\"rgb(237,237,237)\",\"ticklen\":6,\"ticks\":\"inside\"}}}],\"scattercarpet\":[{\"type\":\"scattercarpet\",\"marker\":{\"colorbar\":{\"outlinewidth\":0,\"tickcolor\":\"rgb(237,237,237)\",\"ticklen\":6,\"ticks\":\"inside\"}}}],\"carpet\":[{\"aaxis\":{\"endlinecolor\":\"rgb(51,51,51)\",\"gridcolor\":\"white\",\"linecolor\":\"white\",\"minorgridcolor\":\"white\",\"startlinecolor\":\"rgb(51,51,51)\"},\"baxis\":{\"endlinecolor\":\"rgb(51,51,51)\",\"gridcolor\":\"white\",\"linecolor\":\"white\",\"minorgridcolor\":\"white\",\"startlinecolor\":\"rgb(51,51,51)\"},\"type\":\"carpet\"}],\"table\":[{\"cells\":{\"fill\":{\"color\":\"rgb(237,237,237)\"},\"line\":{\"color\":\"white\"}},\"header\":{\"fill\":{\"color\":\"rgb(217,217,217)\"},\"line\":{\"color\":\"white\"}},\"type\":\"table\"}],\"barpolar\":[{\"marker\":{\"line\":{\"color\":\"rgb(237,237,237)\",\"width\":0.5},\"pattern\":{\"fillmode\":\"overlay\",\"size\":10,\"solidity\":0.2}},\"type\":\"barpolar\"}],\"pie\":[{\"automargin\":true,\"type\":\"pie\"}]},\"layout\":{\"autotypenumbers\":\"strict\",\"colorway\":[\"#F8766D\",\"#A3A500\",\"#00BF7D\",\"#00B0F6\",\"#E76BF3\"],\"font\":{\"color\":\"rgb(51,51,51)\"},\"hovermode\":\"closest\",\"hoverlabel\":{\"align\":\"left\"},\"paper_bgcolor\":\"white\",\"plot_bgcolor\":\"rgb(237,237,237)\",\"polar\":{\"bgcolor\":\"rgb(237,237,237)\",\"angularaxis\":{\"gridcolor\":\"white\",\"linecolor\":\"white\",\"showgrid\":true,\"tickcolor\":\"rgb(51,51,51)\",\"ticks\":\"outside\"},\"radialaxis\":{\"gridcolor\":\"white\",\"linecolor\":\"white\",\"showgrid\":true,\"tickcolor\":\"rgb(51,51,51)\",\"ticks\":\"outside\"}},\"ternary\":{\"bgcolor\":\"rgb(237,237,237)\",\"aaxis\":{\"gridcolor\":\"white\",\"linecolor\":\"white\",\"showgrid\":true,\"tickcolor\":\"rgb(51,51,51)\",\"ticks\":\"outside\"},\"baxis\":{\"gridcolor\":\"white\",\"linecolor\":\"white\",\"showgrid\":true,\"tickcolor\":\"rgb(51,51,51)\",\"ticks\":\"outside\"},\"caxis\":{\"gridcolor\":\"white\",\"linecolor\":\"white\",\"showgrid\":true,\"tickcolor\":\"rgb(51,51,51)\",\"ticks\":\"outside\"}},\"coloraxis\":{\"colorbar\":{\"outlinewidth\":0,\"tickcolor\":\"rgb(237,237,237)\",\"ticklen\":6,\"ticks\":\"inside\"}},\"colorscale\":{\"sequential\":[[0,\"rgb(20,44,66)\"],[1,\"rgb(90,179,244)\"]],\"sequentialminus\":[[0,\"rgb(20,44,66)\"],[1,\"rgb(90,179,244)\"]]},\"xaxis\":{\"gridcolor\":\"white\",\"linecolor\":\"white\",\"showgrid\":true,\"tickcolor\":\"rgb(51,51,51)\",\"ticks\":\"outside\",\"title\":{\"standoff\":15},\"zerolinecolor\":\"white\",\"automargin\":true},\"yaxis\":{\"gridcolor\":\"white\",\"linecolor\":\"white\",\"showgrid\":true,\"tickcolor\":\"rgb(51,51,51)\",\"ticks\":\"outside\",\"title\":{\"standoff\":15},\"zerolinecolor\":\"white\",\"automargin\":true},\"scene\":{\"xaxis\":{\"backgroundcolor\":\"rgb(237,237,237)\",\"gridcolor\":\"white\",\"linecolor\":\"white\",\"showbackground\":true,\"showgrid\":true,\"tickcolor\":\"rgb(51,51,51)\",\"ticks\":\"outside\",\"zerolinecolor\":\"white\",\"gridwidth\":2},\"yaxis\":{\"backgroundcolor\":\"rgb(237,237,237)\",\"gridcolor\":\"white\",\"linecolor\":\"white\",\"showbackground\":true,\"showgrid\":true,\"tickcolor\":\"rgb(51,51,51)\",\"ticks\":\"outside\",\"zerolinecolor\":\"white\",\"gridwidth\":2},\"zaxis\":{\"backgroundcolor\":\"rgb(237,237,237)\",\"gridcolor\":\"white\",\"linecolor\":\"white\",\"showbackground\":true,\"showgrid\":true,\"tickcolor\":\"rgb(51,51,51)\",\"ticks\":\"outside\",\"zerolinecolor\":\"white\",\"gridwidth\":2}},\"shapedefaults\":{\"fillcolor\":\"black\",\"line\":{\"width\":0},\"opacity\":0.3},\"annotationdefaults\":{\"arrowhead\":0,\"arrowwidth\":1},\"geo\":{\"bgcolor\":\"white\",\"landcolor\":\"rgb(237,237,237)\",\"subunitcolor\":\"white\",\"showland\":true,\"showlakes\":true,\"lakecolor\":\"white\"}}},\"xaxis\":{\"anchor\":\"y\",\"domain\":[0.0,1.0],\"title\":{\"text\":\"x\"}},\"yaxis\":{\"anchor\":\"x\",\"domain\":[0.0,1.0],\"title\":{\"text\":\"y\"}},\"legend\":{\"tracegroupgap\":0},\"margin\":{\"t\":60}},                        {\"responsive\": true}                    ).then(function(){\n                            \nvar gd = document.getElementById('139d1e85-6c48-4586-b2c3-957ad94a36b3');\nvar x = new MutationObserver(function (mutations, observer) {{\n        var display = window.getComputedStyle(gd).display;\n        if (!display || display === 'none') {{\n            console.log([gd, 'removed!']);\n            Plotly.purge(gd);\n            observer.disconnect();\n        }}\n}});\n\n// Listen for the removal of the full notebook cells\nvar notebookContainer = gd.closest('#notebook-container');\nif (notebookContainer) {{\n    x.observe(notebookContainer, {childList: true});\n}}\n\n// Listen for the clearing of the current output cell\nvar outputEl = gd.closest('.output');\nif (outputEl) {{\n    x.observe(outputEl, {childList: true});\n}}\n\n                        })                };                });            </script>        </div>"
     },
     "metadata": {},
     "output_type": "display_data"
    }
   ],
   "source": [
    "fig = px.scatter(x=kmeans.centroids[:, 0], y=kmeans.centroids[:, 1])\n",
    "fig.update_traces(mode='markers', marker_size=12, marker_color='black', marker_symbol='x-thin', marker_line_width=2)\n",
    "fig.add_scatter(x=x_train_scaled[:, 0], y=x_train_scaled[:, 1], marker_color=kmeans.labels, mode='markers')\n",
    "fig.show()"
   ],
   "metadata": {
    "collapsed": false
   }
  },
  {
   "cell_type": "code",
   "execution_count": 10,
   "outputs": [],
   "source": [
    "noise, noise_labels = make_blobs(n_samples=2, centers=[[100, 1]])\n",
    "x_train = np.append(x_train, noise, axis=0)\n",
    "true_labels = np.append(true_labels, noise_labels)\n",
    "x_train_scaled = StandardScaler().fit_transform(x_train)"
   ],
   "metadata": {
    "collapsed": false
   }
  },
  {
   "cell_type": "code",
   "execution_count": null,
   "outputs": [],
   "source": [
    "px.scatter(x=x_train_scaled[:, 0], y=x_train_scaled[:, 1], color=true_labels)"
   ],
   "metadata": {
    "collapsed": false,
    "pycharm": {
     "is_executing": true
    }
   }
  },
  {
   "cell_type": "code",
   "execution_count": 12,
   "outputs": [],
   "source": [
    "kmeans = KMeans(n_clusters=n_clusters)\n",
    "kmeans.fit(x_train_scaled)"
   ],
   "metadata": {
    "collapsed": false
   }
  },
  {
   "cell_type": "code",
   "execution_count": 13,
   "outputs": [
    {
     "data": {
      "text/plain": "(80.31090761509898, 0.9803921568627451)"
     },
     "execution_count": 13,
     "metadata": {},
     "output_type": "execute_result"
    }
   ],
   "source": [
    "kmeans.inertia, kmeans.score(true_labels)"
   ],
   "metadata": {
    "collapsed": false
   }
  },
  {
   "cell_type": "code",
   "execution_count": 14,
   "outputs": [
    {
     "data": {
      "application/vnd.plotly.v1+json": {
       "data": [
        {
         "hovertemplate": "x=%{x}<br>y=%{y}<extra></extra>",
         "legendgroup": "",
         "marker": {
          "color": "black",
          "symbol": "x-thin",
          "line": {
           "width": 2
          },
          "size": 12
         },
         "mode": "markers",
         "name": "",
         "orientation": "v",
         "showlegend": false,
         "x": [
          -0.1985207324659042,
          -0.48936539142845314,
          0.6542503663137056
         ],
         "xaxis": "x",
         "y": [
          1.168020251423971,
          -1.2667631789902594,
          0.05972846737895863
         ],
         "yaxis": "y",
         "type": "scatter"
        },
        {
         "marker": {
          "color": [
           1,
           2,
           0,
           2,
           1,
           2,
           0,
           2,
           2,
           0,
           0,
           1,
           1,
           0,
           0,
           1,
           1,
           0,
           1,
           1,
           0,
           1,
           1,
           0,
           0,
           0,
           2,
           1,
           1,
           1,
           1,
           2,
           2,
           1,
           0,
           0,
           0,
           0,
           2,
           2,
           1,
           0,
           2,
           0,
           0,
           2,
           1,
           1,
           1,
           2,
           2,
           2,
           0,
           1,
           1,
           1,
           0,
           0,
           2,
           0,
           1,
           2,
           1,
           2,
           1,
           1,
           2,
           1,
           2,
           2,
           2,
           1,
           1,
           0,
           2,
           1,
           2,
           1,
           2,
           2,
           0,
           2,
           0,
           1,
           0,
           0,
           0,
           2,
           0,
           2,
           2,
           2,
           0,
           2,
           0,
           0,
           0,
           2,
           1,
           0,
           2,
           2
          ]
         },
         "mode": "markers",
         "x": [
          -0.5419624040161116,
          0.3528470623800163,
          -0.21962631452528988,
          0.39285450126488214,
          -0.46018049801166794,
          0.23036552927003714,
          -0.16526229861541267,
          0.2827013695737408,
          0.3042062505344464,
          -0.26589629124757314,
          -0.22471202176019645,
          -0.4690287403367251,
          -0.44903567428327457,
          -0.26286431127352267,
          -0.13761629767820374,
          -0.5571770090679887,
          -0.4656863385476962,
          -0.1926415098575127,
          -0.5444787489652537,
          -0.4523423019564312,
          -0.21921511106500288,
          -0.48970616271197676,
          -0.5147865160636561,
          -0.1632165528582309,
          -0.19018488548869938,
          -0.21902644337810223,
          0.20152249912909453,
          -0.44199348150948137,
          -0.5506450246133973,
          -0.5684511004473035,
          -0.5306400558240577,
          0.3177197399463654,
          0.2845555738131333,
          -0.40581170238684455,
          -0.0805360140524584,
          -0.22853137452643588,
          -0.18316791734692162,
          -0.16574972955525058,
          0.3597642732606728,
          0.30384528204324823,
          -0.578004828454914,
          -0.22028486079619014,
          0.295258756757297,
          -0.2779263142212057,
          -0.1956042095290781,
          0.22549306868315047,
          -0.5936074444795995,
          -0.4727138727627488,
          -0.48358881255302294,
          0.24272484743099396,
          0.11975462759658934,
          0.2979625871396027,
          -0.13258823762550975,
          -0.4668274744299833,
          -0.42865990123208636,
          -0.4996429681021601,
          -0.2565161098041159,
          -0.17132516909443435,
          0.39795320278118546,
          -0.30486138901018645,
          -0.4645741473098416,
          0.24995134953979348,
          -0.5011315315244754,
          0.16734543050045175,
          -0.5024397310720039,
          -0.4699362031489526,
          0.3017045960573072,
          -0.5448628158519006,
          0.2616487281527435,
          0.31510113761570757,
          0.27434770963809657,
          -0.4674649803010156,
          -0.5653520013455013,
          -0.16442349758554095,
          0.304380993074123,
          -0.41906562026487454,
          0.3513204833084328,
          -0.480519612390913,
          0.425673118714132,
          0.1923371531408318,
          -0.16320023019758942,
          0.2444384728087101,
          -0.13190801753280515,
          -0.35779962416924715,
          -0.1886689285880952,
          -0.17357231783677052,
          -0.08824615025646948,
          0.23519350012041168,
          -0.28813298279221405,
          0.27099425687476,
          0.30352525705214395,
          0.3752044112335089,
          -0.24940050750793516,
          0.3374585615535936,
          -0.22860387834007678,
          -0.23371043190295557,
          -0.11775553277375385,
          0.2866653474720928,
          -0.41094058900385155,
          -0.24472906521700355,
          6.6647798906371,
          6.727163251881298
         ],
         "y": [
          -1.5348112216511915,
          -0.1097992565135265,
          1.2648823339157926,
          -0.13646568618302576,
          -1.2111037455566935,
          -0.006156029620987766,
          1.3324090079064712,
          0.13785545884349487,
          0.23322768265475885,
          1.2388591797512252,
          1.1975658310192026,
          -1.0947046116073456,
          -1.252244947318075,
          0.9937110294578767,
          1.206992706581245,
          -1.2233169986190673,
          -1.1695572341845322,
          1.3367738720654234,
          -1.274587153699109,
          -1.3099196395909851,
          1.1076333685135635,
          -1.245356786297111,
          -1.1650008910745748,
          1.420132990767213,
          1.4242825292075938,
          1.3451314558273253,
          0.01655935473391224,
          -1.4322404923005474,
          -1.175810863353675,
          -1.5044948159467313,
          -1.262340139241603,
          0.12287473506560025,
          0.1291897212497567,
          -1.426551955666902,
          1.2999529175419349,
          1.1347753485413832,
          0.9580685739870896,
          1.1202108355786162,
          0.133432315272956,
          -0.22781197023180708,
          -1.4448210801013666,
          1.1513121204280914,
          -0.10010092570291779,
          1.210968488900623,
          1.1333078098981406,
          0.15602120582319948,
          -1.2697667445470453,
          -1.2384689210736404,
          -1.0718739887736473,
          0.003909485403900661,
          0.21034229375771282,
          0.045576268193455734,
          1.3917807079430227,
          -1.1766314626596246,
          -1.0027450493643058,
          -1.1872087775865425,
          1.229275569181366,
          0.8818790092678389,
          0.0013341547373674466,
          1.0925745923873105,
          -1.409969000931462,
          0.0310606501882601,
          -1.4161112931877808,
          0.07802656634087841,
          -0.8743344937622449,
          -1.4928421123437838,
          0.466319251946667,
          -1.4257921322395926,
          0.1622087653022499,
          0.07055127127123033,
          -0.0429584832070659,
          -1.2445308060815437,
          -1.1961679709944002,
          0.9053098707822761,
          0.0036414575722241173,
          -1.2341858127878476,
          -0.059662972246742524,
          -1.476814738725473,
          0.10938804596942238,
          0.09285438308414692,
          1.0796563998426536,
          0.03193410277822059,
          0.9898687344720777,
          -1.2246643806406272,
          1.015310280816421,
          0.8746442236602046,
          1.1450555782280007,
          0.32388332479730886,
          1.068002663901063,
          -0.1460825465338092,
          0.035529541035178976,
          0.19943012637906726,
          0.9600093675739871,
          0.42377652967933555,
          1.4691408945097153,
          1.275661435409702,
          1.325505608970846,
          0.14517577173611368,
          -1.1342146447694934,
          1.1320432115797192,
          -0.25983221761258357,
          -0.18473601770040105
         ],
         "type": "scatter"
        }
       ],
       "layout": {
        "template": {
         "data": {
          "histogram2dcontour": [
           {
            "type": "histogram2dcontour",
            "colorbar": {
             "outlinewidth": 0,
             "tickcolor": "rgb(237,237,237)",
             "ticklen": 6,
             "ticks": "inside"
            },
            "colorscale": [
             [
              0,
              "rgb(20,44,66)"
             ],
             [
              1,
              "rgb(90,179,244)"
             ]
            ]
           }
          ],
          "choropleth": [
           {
            "type": "choropleth",
            "colorbar": {
             "outlinewidth": 0,
             "tickcolor": "rgb(237,237,237)",
             "ticklen": 6,
             "ticks": "inside"
            }
           }
          ],
          "histogram2d": [
           {
            "type": "histogram2d",
            "colorbar": {
             "outlinewidth": 0,
             "tickcolor": "rgb(237,237,237)",
             "ticklen": 6,
             "ticks": "inside"
            },
            "colorscale": [
             [
              0,
              "rgb(20,44,66)"
             ],
             [
              1,
              "rgb(90,179,244)"
             ]
            ]
           }
          ],
          "heatmap": [
           {
            "type": "heatmap",
            "colorbar": {
             "outlinewidth": 0,
             "tickcolor": "rgb(237,237,237)",
             "ticklen": 6,
             "ticks": "inside"
            },
            "colorscale": [
             [
              0,
              "rgb(20,44,66)"
             ],
             [
              1,
              "rgb(90,179,244)"
             ]
            ]
           }
          ],
          "heatmapgl": [
           {
            "type": "heatmapgl",
            "colorbar": {
             "outlinewidth": 0,
             "tickcolor": "rgb(237,237,237)",
             "ticklen": 6,
             "ticks": "inside"
            },
            "colorscale": [
             [
              0,
              "rgb(20,44,66)"
             ],
             [
              1,
              "rgb(90,179,244)"
             ]
            ]
           }
          ],
          "contourcarpet": [
           {
            "type": "contourcarpet",
            "colorbar": {
             "outlinewidth": 0,
             "tickcolor": "rgb(237,237,237)",
             "ticklen": 6,
             "ticks": "inside"
            }
           }
          ],
          "contour": [
           {
            "type": "contour",
            "colorbar": {
             "outlinewidth": 0,
             "tickcolor": "rgb(237,237,237)",
             "ticklen": 6,
             "ticks": "inside"
            },
            "colorscale": [
             [
              0,
              "rgb(20,44,66)"
             ],
             [
              1,
              "rgb(90,179,244)"
             ]
            ]
           }
          ],
          "surface": [
           {
            "type": "surface",
            "colorbar": {
             "outlinewidth": 0,
             "tickcolor": "rgb(237,237,237)",
             "ticklen": 6,
             "ticks": "inside"
            },
            "colorscale": [
             [
              0,
              "rgb(20,44,66)"
             ],
             [
              1,
              "rgb(90,179,244)"
             ]
            ]
           }
          ],
          "mesh3d": [
           {
            "type": "mesh3d",
            "colorbar": {
             "outlinewidth": 0,
             "tickcolor": "rgb(237,237,237)",
             "ticklen": 6,
             "ticks": "inside"
            }
           }
          ],
          "scatter": [
           {
            "fillpattern": {
             "fillmode": "overlay",
             "size": 10,
             "solidity": 0.2
            },
            "type": "scatter"
           }
          ],
          "parcoords": [
           {
            "type": "parcoords",
            "line": {
             "colorbar": {
              "outlinewidth": 0,
              "tickcolor": "rgb(237,237,237)",
              "ticklen": 6,
              "ticks": "inside"
             }
            }
           }
          ],
          "scatterpolargl": [
           {
            "type": "scatterpolargl",
            "marker": {
             "colorbar": {
              "outlinewidth": 0,
              "tickcolor": "rgb(237,237,237)",
              "ticklen": 6,
              "ticks": "inside"
             }
            }
           }
          ],
          "bar": [
           {
            "error_x": {
             "color": "rgb(51,51,51)"
            },
            "error_y": {
             "color": "rgb(51,51,51)"
            },
            "marker": {
             "line": {
              "color": "rgb(237,237,237)",
              "width": 0.5
             },
             "pattern": {
              "fillmode": "overlay",
              "size": 10,
              "solidity": 0.2
             }
            },
            "type": "bar"
           }
          ],
          "scattergeo": [
           {
            "type": "scattergeo",
            "marker": {
             "colorbar": {
              "outlinewidth": 0,
              "tickcolor": "rgb(237,237,237)",
              "ticklen": 6,
              "ticks": "inside"
             }
            }
           }
          ],
          "scatterpolar": [
           {
            "type": "scatterpolar",
            "marker": {
             "colorbar": {
              "outlinewidth": 0,
              "tickcolor": "rgb(237,237,237)",
              "ticklen": 6,
              "ticks": "inside"
             }
            }
           }
          ],
          "histogram": [
           {
            "marker": {
             "pattern": {
              "fillmode": "overlay",
              "size": 10,
              "solidity": 0.2
             }
            },
            "type": "histogram"
           }
          ],
          "scattergl": [
           {
            "type": "scattergl",
            "marker": {
             "colorbar": {
              "outlinewidth": 0,
              "tickcolor": "rgb(237,237,237)",
              "ticklen": 6,
              "ticks": "inside"
             }
            }
           }
          ],
          "scatter3d": [
           {
            "type": "scatter3d",
            "line": {
             "colorbar": {
              "outlinewidth": 0,
              "tickcolor": "rgb(237,237,237)",
              "ticklen": 6,
              "ticks": "inside"
             }
            },
            "marker": {
             "colorbar": {
              "outlinewidth": 0,
              "tickcolor": "rgb(237,237,237)",
              "ticklen": 6,
              "ticks": "inside"
             }
            }
           }
          ],
          "scattermapbox": [
           {
            "type": "scattermapbox",
            "marker": {
             "colorbar": {
              "outlinewidth": 0,
              "tickcolor": "rgb(237,237,237)",
              "ticklen": 6,
              "ticks": "inside"
             }
            }
           }
          ],
          "scatterternary": [
           {
            "type": "scatterternary",
            "marker": {
             "colorbar": {
              "outlinewidth": 0,
              "tickcolor": "rgb(237,237,237)",
              "ticklen": 6,
              "ticks": "inside"
             }
            }
           }
          ],
          "scattercarpet": [
           {
            "type": "scattercarpet",
            "marker": {
             "colorbar": {
              "outlinewidth": 0,
              "tickcolor": "rgb(237,237,237)",
              "ticklen": 6,
              "ticks": "inside"
             }
            }
           }
          ],
          "carpet": [
           {
            "aaxis": {
             "endlinecolor": "rgb(51,51,51)",
             "gridcolor": "white",
             "linecolor": "white",
             "minorgridcolor": "white",
             "startlinecolor": "rgb(51,51,51)"
            },
            "baxis": {
             "endlinecolor": "rgb(51,51,51)",
             "gridcolor": "white",
             "linecolor": "white",
             "minorgridcolor": "white",
             "startlinecolor": "rgb(51,51,51)"
            },
            "type": "carpet"
           }
          ],
          "table": [
           {
            "cells": {
             "fill": {
              "color": "rgb(237,237,237)"
             },
             "line": {
              "color": "white"
             }
            },
            "header": {
             "fill": {
              "color": "rgb(217,217,217)"
             },
             "line": {
              "color": "white"
             }
            },
            "type": "table"
           }
          ],
          "barpolar": [
           {
            "marker": {
             "line": {
              "color": "rgb(237,237,237)",
              "width": 0.5
             },
             "pattern": {
              "fillmode": "overlay",
              "size": 10,
              "solidity": 0.2
             }
            },
            "type": "barpolar"
           }
          ],
          "pie": [
           {
            "automargin": true,
            "type": "pie"
           }
          ]
         },
         "layout": {
          "autotypenumbers": "strict",
          "colorway": [
           "#F8766D",
           "#A3A500",
           "#00BF7D",
           "#00B0F6",
           "#E76BF3"
          ],
          "font": {
           "color": "rgb(51,51,51)"
          },
          "hovermode": "closest",
          "hoverlabel": {
           "align": "left"
          },
          "paper_bgcolor": "white",
          "plot_bgcolor": "rgb(237,237,237)",
          "polar": {
           "bgcolor": "rgb(237,237,237)",
           "angularaxis": {
            "gridcolor": "white",
            "linecolor": "white",
            "showgrid": true,
            "tickcolor": "rgb(51,51,51)",
            "ticks": "outside"
           },
           "radialaxis": {
            "gridcolor": "white",
            "linecolor": "white",
            "showgrid": true,
            "tickcolor": "rgb(51,51,51)",
            "ticks": "outside"
           }
          },
          "ternary": {
           "bgcolor": "rgb(237,237,237)",
           "aaxis": {
            "gridcolor": "white",
            "linecolor": "white",
            "showgrid": true,
            "tickcolor": "rgb(51,51,51)",
            "ticks": "outside"
           },
           "baxis": {
            "gridcolor": "white",
            "linecolor": "white",
            "showgrid": true,
            "tickcolor": "rgb(51,51,51)",
            "ticks": "outside"
           },
           "caxis": {
            "gridcolor": "white",
            "linecolor": "white",
            "showgrid": true,
            "tickcolor": "rgb(51,51,51)",
            "ticks": "outside"
           }
          },
          "coloraxis": {
           "colorbar": {
            "outlinewidth": 0,
            "tickcolor": "rgb(237,237,237)",
            "ticklen": 6,
            "ticks": "inside"
           }
          },
          "colorscale": {
           "sequential": [
            [
             0,
             "rgb(20,44,66)"
            ],
            [
             1,
             "rgb(90,179,244)"
            ]
           ],
           "sequentialminus": [
            [
             0,
             "rgb(20,44,66)"
            ],
            [
             1,
             "rgb(90,179,244)"
            ]
           ]
          },
          "xaxis": {
           "gridcolor": "white",
           "linecolor": "white",
           "showgrid": true,
           "tickcolor": "rgb(51,51,51)",
           "ticks": "outside",
           "title": {
            "standoff": 15
           },
           "zerolinecolor": "white",
           "automargin": true
          },
          "yaxis": {
           "gridcolor": "white",
           "linecolor": "white",
           "showgrid": true,
           "tickcolor": "rgb(51,51,51)",
           "ticks": "outside",
           "title": {
            "standoff": 15
           },
           "zerolinecolor": "white",
           "automargin": true
          },
          "scene": {
           "xaxis": {
            "backgroundcolor": "rgb(237,237,237)",
            "gridcolor": "white",
            "linecolor": "white",
            "showbackground": true,
            "showgrid": true,
            "tickcolor": "rgb(51,51,51)",
            "ticks": "outside",
            "zerolinecolor": "white",
            "gridwidth": 2
           },
           "yaxis": {
            "backgroundcolor": "rgb(237,237,237)",
            "gridcolor": "white",
            "linecolor": "white",
            "showbackground": true,
            "showgrid": true,
            "tickcolor": "rgb(51,51,51)",
            "ticks": "outside",
            "zerolinecolor": "white",
            "gridwidth": 2
           },
           "zaxis": {
            "backgroundcolor": "rgb(237,237,237)",
            "gridcolor": "white",
            "linecolor": "white",
            "showbackground": true,
            "showgrid": true,
            "tickcolor": "rgb(51,51,51)",
            "ticks": "outside",
            "zerolinecolor": "white",
            "gridwidth": 2
           }
          },
          "shapedefaults": {
           "fillcolor": "black",
           "line": {
            "width": 0
           },
           "opacity": 0.3
          },
          "annotationdefaults": {
           "arrowhead": 0,
           "arrowwidth": 1
          },
          "geo": {
           "bgcolor": "white",
           "landcolor": "rgb(237,237,237)",
           "subunitcolor": "white",
           "showland": true,
           "showlakes": true,
           "lakecolor": "white"
          }
         }
        },
        "xaxis": {
         "anchor": "y",
         "domain": [
          0.0,
          1.0
         ],
         "title": {
          "text": "x"
         }
        },
        "yaxis": {
         "anchor": "x",
         "domain": [
          0.0,
          1.0
         ],
         "title": {
          "text": "y"
         }
        },
        "legend": {
         "tracegroupgap": 0
        },
        "margin": {
         "t": 60
        }
       },
       "config": {
        "plotlyServerURL": "https://plot.ly"
       }
      },
      "text/html": "<div>                            <div id=\"610f14e1-3684-411f-8b3f-10f87043dbeb\" class=\"plotly-graph-div\" style=\"height:525px; width:100%;\"></div>            <script type=\"text/javascript\">                require([\"plotly\"], function(Plotly) {                    window.PLOTLYENV=window.PLOTLYENV || {};                                    if (document.getElementById(\"610f14e1-3684-411f-8b3f-10f87043dbeb\")) {                    Plotly.newPlot(                        \"610f14e1-3684-411f-8b3f-10f87043dbeb\",                        [{\"hovertemplate\":\"x=%{x}<br>y=%{y}<extra></extra>\",\"legendgroup\":\"\",\"marker\":{\"color\":\"black\",\"symbol\":\"x-thin\",\"line\":{\"width\":2},\"size\":12},\"mode\":\"markers\",\"name\":\"\",\"orientation\":\"v\",\"showlegend\":false,\"x\":[-0.1985207324659042,-0.48936539142845314,0.6542503663137056],\"xaxis\":\"x\",\"y\":[1.168020251423971,-1.2667631789902594,0.05972846737895863],\"yaxis\":\"y\",\"type\":\"scatter\"},{\"marker\":{\"color\":[1,2,0,2,1,2,0,2,2,0,0,1,1,0,0,1,1,0,1,1,0,1,1,0,0,0,2,1,1,1,1,2,2,1,0,0,0,0,2,2,1,0,2,0,0,2,1,1,1,2,2,2,0,1,1,1,0,0,2,0,1,2,1,2,1,1,2,1,2,2,2,1,1,0,2,1,2,1,2,2,0,2,0,1,0,0,0,2,0,2,2,2,0,2,0,0,0,2,1,0,2,2]},\"mode\":\"markers\",\"x\":[-0.5419624040161116,0.3528470623800163,-0.21962631452528988,0.39285450126488214,-0.46018049801166794,0.23036552927003714,-0.16526229861541267,0.2827013695737408,0.3042062505344464,-0.26589629124757314,-0.22471202176019645,-0.4690287403367251,-0.44903567428327457,-0.26286431127352267,-0.13761629767820374,-0.5571770090679887,-0.4656863385476962,-0.1926415098575127,-0.5444787489652537,-0.4523423019564312,-0.21921511106500288,-0.48970616271197676,-0.5147865160636561,-0.1632165528582309,-0.19018488548869938,-0.21902644337810223,0.20152249912909453,-0.44199348150948137,-0.5506450246133973,-0.5684511004473035,-0.5306400558240577,0.3177197399463654,0.2845555738131333,-0.40581170238684455,-0.0805360140524584,-0.22853137452643588,-0.18316791734692162,-0.16574972955525058,0.3597642732606728,0.30384528204324823,-0.578004828454914,-0.22028486079619014,0.295258756757297,-0.2779263142212057,-0.1956042095290781,0.22549306868315047,-0.5936074444795995,-0.4727138727627488,-0.48358881255302294,0.24272484743099396,0.11975462759658934,0.2979625871396027,-0.13258823762550975,-0.4668274744299833,-0.42865990123208636,-0.4996429681021601,-0.2565161098041159,-0.17132516909443435,0.39795320278118546,-0.30486138901018645,-0.4645741473098416,0.24995134953979348,-0.5011315315244754,0.16734543050045175,-0.5024397310720039,-0.4699362031489526,0.3017045960573072,-0.5448628158519006,0.2616487281527435,0.31510113761570757,0.27434770963809657,-0.4674649803010156,-0.5653520013455013,-0.16442349758554095,0.304380993074123,-0.41906562026487454,0.3513204833084328,-0.480519612390913,0.425673118714132,0.1923371531408318,-0.16320023019758942,0.2444384728087101,-0.13190801753280515,-0.35779962416924715,-0.1886689285880952,-0.17357231783677052,-0.08824615025646948,0.23519350012041168,-0.28813298279221405,0.27099425687476,0.30352525705214395,0.3752044112335089,-0.24940050750793516,0.3374585615535936,-0.22860387834007678,-0.23371043190295557,-0.11775553277375385,0.2866653474720928,-0.41094058900385155,-0.24472906521700355,6.6647798906371,6.727163251881298],\"y\":[-1.5348112216511915,-0.1097992565135265,1.2648823339157926,-0.13646568618302576,-1.2111037455566935,-0.006156029620987766,1.3324090079064712,0.13785545884349487,0.23322768265475885,1.2388591797512252,1.1975658310192026,-1.0947046116073456,-1.252244947318075,0.9937110294578767,1.206992706581245,-1.2233169986190673,-1.1695572341845322,1.3367738720654234,-1.274587153699109,-1.3099196395909851,1.1076333685135635,-1.245356786297111,-1.1650008910745748,1.420132990767213,1.4242825292075938,1.3451314558273253,0.01655935473391224,-1.4322404923005474,-1.175810863353675,-1.5044948159467313,-1.262340139241603,0.12287473506560025,0.1291897212497567,-1.426551955666902,1.2999529175419349,1.1347753485413832,0.9580685739870896,1.1202108355786162,0.133432315272956,-0.22781197023180708,-1.4448210801013666,1.1513121204280914,-0.10010092570291779,1.210968488900623,1.1333078098981406,0.15602120582319948,-1.2697667445470453,-1.2384689210736404,-1.0718739887736473,0.003909485403900661,0.21034229375771282,0.045576268193455734,1.3917807079430227,-1.1766314626596246,-1.0027450493643058,-1.1872087775865425,1.229275569181366,0.8818790092678389,0.0013341547373674466,1.0925745923873105,-1.409969000931462,0.0310606501882601,-1.4161112931877808,0.07802656634087841,-0.8743344937622449,-1.4928421123437838,0.466319251946667,-1.4257921322395926,0.1622087653022499,0.07055127127123033,-0.0429584832070659,-1.2445308060815437,-1.1961679709944002,0.9053098707822761,0.0036414575722241173,-1.2341858127878476,-0.059662972246742524,-1.476814738725473,0.10938804596942238,0.09285438308414692,1.0796563998426536,0.03193410277822059,0.9898687344720777,-1.2246643806406272,1.015310280816421,0.8746442236602046,1.1450555782280007,0.32388332479730886,1.068002663901063,-0.1460825465338092,0.035529541035178976,0.19943012637906726,0.9600093675739871,0.42377652967933555,1.4691408945097153,1.275661435409702,1.325505608970846,0.14517577173611368,-1.1342146447694934,1.1320432115797192,-0.25983221761258357,-0.18473601770040105],\"type\":\"scatter\"}],                        {\"template\":{\"data\":{\"histogram2dcontour\":[{\"type\":\"histogram2dcontour\",\"colorbar\":{\"outlinewidth\":0,\"tickcolor\":\"rgb(237,237,237)\",\"ticklen\":6,\"ticks\":\"inside\"},\"colorscale\":[[0,\"rgb(20,44,66)\"],[1,\"rgb(90,179,244)\"]]}],\"choropleth\":[{\"type\":\"choropleth\",\"colorbar\":{\"outlinewidth\":0,\"tickcolor\":\"rgb(237,237,237)\",\"ticklen\":6,\"ticks\":\"inside\"}}],\"histogram2d\":[{\"type\":\"histogram2d\",\"colorbar\":{\"outlinewidth\":0,\"tickcolor\":\"rgb(237,237,237)\",\"ticklen\":6,\"ticks\":\"inside\"},\"colorscale\":[[0,\"rgb(20,44,66)\"],[1,\"rgb(90,179,244)\"]]}],\"heatmap\":[{\"type\":\"heatmap\",\"colorbar\":{\"outlinewidth\":0,\"tickcolor\":\"rgb(237,237,237)\",\"ticklen\":6,\"ticks\":\"inside\"},\"colorscale\":[[0,\"rgb(20,44,66)\"],[1,\"rgb(90,179,244)\"]]}],\"heatmapgl\":[{\"type\":\"heatmapgl\",\"colorbar\":{\"outlinewidth\":0,\"tickcolor\":\"rgb(237,237,237)\",\"ticklen\":6,\"ticks\":\"inside\"},\"colorscale\":[[0,\"rgb(20,44,66)\"],[1,\"rgb(90,179,244)\"]]}],\"contourcarpet\":[{\"type\":\"contourcarpet\",\"colorbar\":{\"outlinewidth\":0,\"tickcolor\":\"rgb(237,237,237)\",\"ticklen\":6,\"ticks\":\"inside\"}}],\"contour\":[{\"type\":\"contour\",\"colorbar\":{\"outlinewidth\":0,\"tickcolor\":\"rgb(237,237,237)\",\"ticklen\":6,\"ticks\":\"inside\"},\"colorscale\":[[0,\"rgb(20,44,66)\"],[1,\"rgb(90,179,244)\"]]}],\"surface\":[{\"type\":\"surface\",\"colorbar\":{\"outlinewidth\":0,\"tickcolor\":\"rgb(237,237,237)\",\"ticklen\":6,\"ticks\":\"inside\"},\"colorscale\":[[0,\"rgb(20,44,66)\"],[1,\"rgb(90,179,244)\"]]}],\"mesh3d\":[{\"type\":\"mesh3d\",\"colorbar\":{\"outlinewidth\":0,\"tickcolor\":\"rgb(237,237,237)\",\"ticklen\":6,\"ticks\":\"inside\"}}],\"scatter\":[{\"fillpattern\":{\"fillmode\":\"overlay\",\"size\":10,\"solidity\":0.2},\"type\":\"scatter\"}],\"parcoords\":[{\"type\":\"parcoords\",\"line\":{\"colorbar\":{\"outlinewidth\":0,\"tickcolor\":\"rgb(237,237,237)\",\"ticklen\":6,\"ticks\":\"inside\"}}}],\"scatterpolargl\":[{\"type\":\"scatterpolargl\",\"marker\":{\"colorbar\":{\"outlinewidth\":0,\"tickcolor\":\"rgb(237,237,237)\",\"ticklen\":6,\"ticks\":\"inside\"}}}],\"bar\":[{\"error_x\":{\"color\":\"rgb(51,51,51)\"},\"error_y\":{\"color\":\"rgb(51,51,51)\"},\"marker\":{\"line\":{\"color\":\"rgb(237,237,237)\",\"width\":0.5},\"pattern\":{\"fillmode\":\"overlay\",\"size\":10,\"solidity\":0.2}},\"type\":\"bar\"}],\"scattergeo\":[{\"type\":\"scattergeo\",\"marker\":{\"colorbar\":{\"outlinewidth\":0,\"tickcolor\":\"rgb(237,237,237)\",\"ticklen\":6,\"ticks\":\"inside\"}}}],\"scatterpolar\":[{\"type\":\"scatterpolar\",\"marker\":{\"colorbar\":{\"outlinewidth\":0,\"tickcolor\":\"rgb(237,237,237)\",\"ticklen\":6,\"ticks\":\"inside\"}}}],\"histogram\":[{\"marker\":{\"pattern\":{\"fillmode\":\"overlay\",\"size\":10,\"solidity\":0.2}},\"type\":\"histogram\"}],\"scattergl\":[{\"type\":\"scattergl\",\"marker\":{\"colorbar\":{\"outlinewidth\":0,\"tickcolor\":\"rgb(237,237,237)\",\"ticklen\":6,\"ticks\":\"inside\"}}}],\"scatter3d\":[{\"type\":\"scatter3d\",\"line\":{\"colorbar\":{\"outlinewidth\":0,\"tickcolor\":\"rgb(237,237,237)\",\"ticklen\":6,\"ticks\":\"inside\"}},\"marker\":{\"colorbar\":{\"outlinewidth\":0,\"tickcolor\":\"rgb(237,237,237)\",\"ticklen\":6,\"ticks\":\"inside\"}}}],\"scattermapbox\":[{\"type\":\"scattermapbox\",\"marker\":{\"colorbar\":{\"outlinewidth\":0,\"tickcolor\":\"rgb(237,237,237)\",\"ticklen\":6,\"ticks\":\"inside\"}}}],\"scatterternary\":[{\"type\":\"scatterternary\",\"marker\":{\"colorbar\":{\"outlinewidth\":0,\"tickcolor\":\"rgb(237,237,237)\",\"ticklen\":6,\"ticks\":\"inside\"}}}],\"scattercarpet\":[{\"type\":\"scattercarpet\",\"marker\":{\"colorbar\":{\"outlinewidth\":0,\"tickcolor\":\"rgb(237,237,237)\",\"ticklen\":6,\"ticks\":\"inside\"}}}],\"carpet\":[{\"aaxis\":{\"endlinecolor\":\"rgb(51,51,51)\",\"gridcolor\":\"white\",\"linecolor\":\"white\",\"minorgridcolor\":\"white\",\"startlinecolor\":\"rgb(51,51,51)\"},\"baxis\":{\"endlinecolor\":\"rgb(51,51,51)\",\"gridcolor\":\"white\",\"linecolor\":\"white\",\"minorgridcolor\":\"white\",\"startlinecolor\":\"rgb(51,51,51)\"},\"type\":\"carpet\"}],\"table\":[{\"cells\":{\"fill\":{\"color\":\"rgb(237,237,237)\"},\"line\":{\"color\":\"white\"}},\"header\":{\"fill\":{\"color\":\"rgb(217,217,217)\"},\"line\":{\"color\":\"white\"}},\"type\":\"table\"}],\"barpolar\":[{\"marker\":{\"line\":{\"color\":\"rgb(237,237,237)\",\"width\":0.5},\"pattern\":{\"fillmode\":\"overlay\",\"size\":10,\"solidity\":0.2}},\"type\":\"barpolar\"}],\"pie\":[{\"automargin\":true,\"type\":\"pie\"}]},\"layout\":{\"autotypenumbers\":\"strict\",\"colorway\":[\"#F8766D\",\"#A3A500\",\"#00BF7D\",\"#00B0F6\",\"#E76BF3\"],\"font\":{\"color\":\"rgb(51,51,51)\"},\"hovermode\":\"closest\",\"hoverlabel\":{\"align\":\"left\"},\"paper_bgcolor\":\"white\",\"plot_bgcolor\":\"rgb(237,237,237)\",\"polar\":{\"bgcolor\":\"rgb(237,237,237)\",\"angularaxis\":{\"gridcolor\":\"white\",\"linecolor\":\"white\",\"showgrid\":true,\"tickcolor\":\"rgb(51,51,51)\",\"ticks\":\"outside\"},\"radialaxis\":{\"gridcolor\":\"white\",\"linecolor\":\"white\",\"showgrid\":true,\"tickcolor\":\"rgb(51,51,51)\",\"ticks\":\"outside\"}},\"ternary\":{\"bgcolor\":\"rgb(237,237,237)\",\"aaxis\":{\"gridcolor\":\"white\",\"linecolor\":\"white\",\"showgrid\":true,\"tickcolor\":\"rgb(51,51,51)\",\"ticks\":\"outside\"},\"baxis\":{\"gridcolor\":\"white\",\"linecolor\":\"white\",\"showgrid\":true,\"tickcolor\":\"rgb(51,51,51)\",\"ticks\":\"outside\"},\"caxis\":{\"gridcolor\":\"white\",\"linecolor\":\"white\",\"showgrid\":true,\"tickcolor\":\"rgb(51,51,51)\",\"ticks\":\"outside\"}},\"coloraxis\":{\"colorbar\":{\"outlinewidth\":0,\"tickcolor\":\"rgb(237,237,237)\",\"ticklen\":6,\"ticks\":\"inside\"}},\"colorscale\":{\"sequential\":[[0,\"rgb(20,44,66)\"],[1,\"rgb(90,179,244)\"]],\"sequentialminus\":[[0,\"rgb(20,44,66)\"],[1,\"rgb(90,179,244)\"]]},\"xaxis\":{\"gridcolor\":\"white\",\"linecolor\":\"white\",\"showgrid\":true,\"tickcolor\":\"rgb(51,51,51)\",\"ticks\":\"outside\",\"title\":{\"standoff\":15},\"zerolinecolor\":\"white\",\"automargin\":true},\"yaxis\":{\"gridcolor\":\"white\",\"linecolor\":\"white\",\"showgrid\":true,\"tickcolor\":\"rgb(51,51,51)\",\"ticks\":\"outside\",\"title\":{\"standoff\":15},\"zerolinecolor\":\"white\",\"automargin\":true},\"scene\":{\"xaxis\":{\"backgroundcolor\":\"rgb(237,237,237)\",\"gridcolor\":\"white\",\"linecolor\":\"white\",\"showbackground\":true,\"showgrid\":true,\"tickcolor\":\"rgb(51,51,51)\",\"ticks\":\"outside\",\"zerolinecolor\":\"white\",\"gridwidth\":2},\"yaxis\":{\"backgroundcolor\":\"rgb(237,237,237)\",\"gridcolor\":\"white\",\"linecolor\":\"white\",\"showbackground\":true,\"showgrid\":true,\"tickcolor\":\"rgb(51,51,51)\",\"ticks\":\"outside\",\"zerolinecolor\":\"white\",\"gridwidth\":2},\"zaxis\":{\"backgroundcolor\":\"rgb(237,237,237)\",\"gridcolor\":\"white\",\"linecolor\":\"white\",\"showbackground\":true,\"showgrid\":true,\"tickcolor\":\"rgb(51,51,51)\",\"ticks\":\"outside\",\"zerolinecolor\":\"white\",\"gridwidth\":2}},\"shapedefaults\":{\"fillcolor\":\"black\",\"line\":{\"width\":0},\"opacity\":0.3},\"annotationdefaults\":{\"arrowhead\":0,\"arrowwidth\":1},\"geo\":{\"bgcolor\":\"white\",\"landcolor\":\"rgb(237,237,237)\",\"subunitcolor\":\"white\",\"showland\":true,\"showlakes\":true,\"lakecolor\":\"white\"}}},\"xaxis\":{\"anchor\":\"y\",\"domain\":[0.0,1.0],\"title\":{\"text\":\"x\"}},\"yaxis\":{\"anchor\":\"x\",\"domain\":[0.0,1.0],\"title\":{\"text\":\"y\"}},\"legend\":{\"tracegroupgap\":0},\"margin\":{\"t\":60}},                        {\"responsive\": true}                    ).then(function(){\n                            \nvar gd = document.getElementById('610f14e1-3684-411f-8b3f-10f87043dbeb');\nvar x = new MutationObserver(function (mutations, observer) {{\n        var display = window.getComputedStyle(gd).display;\n        if (!display || display === 'none') {{\n            console.log([gd, 'removed!']);\n            Plotly.purge(gd);\n            observer.disconnect();\n        }}\n}});\n\n// Listen for the removal of the full notebook cells\nvar notebookContainer = gd.closest('#notebook-container');\nif (notebookContainer) {{\n    x.observe(notebookContainer, {childList: true});\n}}\n\n// Listen for the clearing of the current output cell\nvar outputEl = gd.closest('.output');\nif (outputEl) {{\n    x.observe(outputEl, {childList: true});\n}}\n\n                        })                };                });            </script>        </div>"
     },
     "metadata": {},
     "output_type": "display_data"
    }
   ],
   "source": [
    "fig = px.scatter(x=kmeans.centroids[:, 0], y=kmeans.centroids[:, 1])\n",
    "fig.update_traces(mode='markers', marker_size=12, marker_color='black', marker_symbol='x-thin', marker_line_width=2)\n",
    "fig.add_scatter(x=x_train_scaled[:, 0], y=x_train_scaled[:, 1], marker_color=kmeans.labels, mode='markers')\n",
    "fig.show()"
   ],
   "metadata": {
    "collapsed": false
   }
  },
  {
   "cell_type": "code",
   "execution_count": 15,
   "outputs": [],
   "source": [
    "kmeans = RobustKMeans(n_clusters=n_clusters, max_iter=300)\n",
    "kmeans.fit(x_train_scaled, n=10000)"
   ],
   "metadata": {
    "collapsed": false
   }
  },
  {
   "cell_type": "code",
   "execution_count": 16,
   "outputs": [
    {
     "data": {
      "text/plain": "(80.31091183298457, 0.9803921568627451)"
     },
     "execution_count": 16,
     "metadata": {},
     "output_type": "execute_result"
    }
   ],
   "source": [
    "kmeans.inertia, kmeans.score(true_labels)"
   ],
   "metadata": {
    "collapsed": false
   }
  },
  {
   "cell_type": "code",
   "execution_count": 17,
   "outputs": [
    {
     "data": {
      "application/vnd.plotly.v1+json": {
       "data": [
        {
         "hovertemplate": "x=%{x}<br>y=%{y}<br>color=%{marker.color}<extra></extra>",
         "legendgroup": "",
         "marker": {
          "color": [
           2,
           0,
           1,
           0,
           2,
           0,
           1,
           0,
           0,
           1,
           1,
           2,
           2,
           1,
           1,
           2,
           2,
           1,
           2,
           2,
           1,
           2,
           2,
           1,
           1,
           1,
           0,
           2,
           2,
           2,
           2,
           0,
           0,
           2,
           1,
           1,
           1,
           1,
           0,
           0,
           2,
           1,
           0,
           1,
           1,
           0,
           2,
           2,
           2,
           0,
           0,
           0,
           1,
           2,
           2,
           2,
           1,
           1,
           0,
           1,
           2,
           0,
           2,
           0,
           2,
           2,
           0,
           2,
           0,
           0,
           0,
           2,
           2,
           1,
           0,
           2,
           0,
           2,
           0,
           0,
           1,
           0,
           1,
           2,
           1,
           1,
           1,
           0,
           1,
           0,
           0,
           0,
           1,
           0,
           1,
           1,
           1,
           0,
           2,
           1,
           0,
           0
          ],
          "coloraxis": "coloraxis",
          "symbol": "circle"
         },
         "mode": "markers",
         "name": "",
         "orientation": "v",
         "showlegend": false,
         "x": [
          -0.5419624040161116,
          0.3528470623800163,
          -0.21962631452528988,
          0.39285450126488214,
          -0.46018049801166794,
          0.23036552927003714,
          -0.16526229861541267,
          0.2827013695737408,
          0.3042062505344464,
          -0.26589629124757314,
          -0.22471202176019645,
          -0.4690287403367251,
          -0.44903567428327457,
          -0.26286431127352267,
          -0.13761629767820374,
          -0.5571770090679887,
          -0.4656863385476962,
          -0.1926415098575127,
          -0.5444787489652537,
          -0.4523423019564312,
          -0.21921511106500288,
          -0.48970616271197676,
          -0.5147865160636561,
          -0.1632165528582309,
          -0.19018488548869938,
          -0.21902644337810223,
          0.20152249912909453,
          -0.44199348150948137,
          -0.5506450246133973,
          -0.5684511004473035,
          -0.5306400558240577,
          0.3177197399463654,
          0.2845555738131333,
          -0.40581170238684455,
          -0.0805360140524584,
          -0.22853137452643588,
          -0.18316791734692162,
          -0.16574972955525058,
          0.3597642732606728,
          0.30384528204324823,
          -0.578004828454914,
          -0.22028486079619014,
          0.295258756757297,
          -0.2779263142212057,
          -0.1956042095290781,
          0.22549306868315047,
          -0.5936074444795995,
          -0.4727138727627488,
          -0.48358881255302294,
          0.24272484743099396,
          0.11975462759658934,
          0.2979625871396027,
          -0.13258823762550975,
          -0.4668274744299833,
          -0.42865990123208636,
          -0.4996429681021601,
          -0.2565161098041159,
          -0.17132516909443435,
          0.39795320278118546,
          -0.30486138901018645,
          -0.4645741473098416,
          0.24995134953979348,
          -0.5011315315244754,
          0.16734543050045175,
          -0.5024397310720039,
          -0.4699362031489526,
          0.3017045960573072,
          -0.5448628158519006,
          0.2616487281527435,
          0.31510113761570757,
          0.27434770963809657,
          -0.4674649803010156,
          -0.5653520013455013,
          -0.16442349758554095,
          0.304380993074123,
          -0.41906562026487454,
          0.3513204833084328,
          -0.480519612390913,
          0.425673118714132,
          0.1923371531408318,
          -0.16320023019758942,
          0.2444384728087101,
          -0.13190801753280515,
          -0.35779962416924715,
          -0.1886689285880952,
          -0.17357231783677052,
          -0.08824615025646948,
          0.23519350012041168,
          -0.28813298279221405,
          0.27099425687476,
          0.30352525705214395,
          0.3752044112335089,
          -0.24940050750793516,
          0.3374585615535936,
          -0.22860387834007678,
          -0.23371043190295557,
          -0.11775553277375385,
          0.2866653474720928,
          -0.41094058900385155,
          -0.24472906521700355,
          6.6647798906371,
          6.727163251881298
         ],
         "xaxis": "x",
         "y": [
          -1.5348112216511915,
          -0.1097992565135265,
          1.2648823339157926,
          -0.13646568618302576,
          -1.2111037455566935,
          -0.006156029620987766,
          1.3324090079064712,
          0.13785545884349487,
          0.23322768265475885,
          1.2388591797512252,
          1.1975658310192026,
          -1.0947046116073456,
          -1.252244947318075,
          0.9937110294578767,
          1.206992706581245,
          -1.2233169986190673,
          -1.1695572341845322,
          1.3367738720654234,
          -1.274587153699109,
          -1.3099196395909851,
          1.1076333685135635,
          -1.245356786297111,
          -1.1650008910745748,
          1.420132990767213,
          1.4242825292075938,
          1.3451314558273253,
          0.01655935473391224,
          -1.4322404923005474,
          -1.175810863353675,
          -1.5044948159467313,
          -1.262340139241603,
          0.12287473506560025,
          0.1291897212497567,
          -1.426551955666902,
          1.2999529175419349,
          1.1347753485413832,
          0.9580685739870896,
          1.1202108355786162,
          0.133432315272956,
          -0.22781197023180708,
          -1.4448210801013666,
          1.1513121204280914,
          -0.10010092570291779,
          1.210968488900623,
          1.1333078098981406,
          0.15602120582319948,
          -1.2697667445470453,
          -1.2384689210736404,
          -1.0718739887736473,
          0.003909485403900661,
          0.21034229375771282,
          0.045576268193455734,
          1.3917807079430227,
          -1.1766314626596246,
          -1.0027450493643058,
          -1.1872087775865425,
          1.229275569181366,
          0.8818790092678389,
          0.0013341547373674466,
          1.0925745923873105,
          -1.409969000931462,
          0.0310606501882601,
          -1.4161112931877808,
          0.07802656634087841,
          -0.8743344937622449,
          -1.4928421123437838,
          0.466319251946667,
          -1.4257921322395926,
          0.1622087653022499,
          0.07055127127123033,
          -0.0429584832070659,
          -1.2445308060815437,
          -1.1961679709944002,
          0.9053098707822761,
          0.0036414575722241173,
          -1.2341858127878476,
          -0.059662972246742524,
          -1.476814738725473,
          0.10938804596942238,
          0.09285438308414692,
          1.0796563998426536,
          0.03193410277822059,
          0.9898687344720777,
          -1.2246643806406272,
          1.015310280816421,
          0.8746442236602046,
          1.1450555782280007,
          0.32388332479730886,
          1.068002663901063,
          -0.1460825465338092,
          0.035529541035178976,
          0.19943012637906726,
          0.9600093675739871,
          0.42377652967933555,
          1.4691408945097153,
          1.275661435409702,
          1.325505608970846,
          0.14517577173611368,
          -1.1342146447694934,
          1.1320432115797192,
          -0.25983221761258357,
          -0.18473601770040105
         ],
         "yaxis": "y",
         "type": "scatter"
        },
        {
         "marker": {
          "color": "black",
          "line": {
           "width": 2
          },
          "size": 12,
          "symbol": "x-thin"
         },
         "mode": "markers",
         "showlegend": false,
         "x": [
          0.6545928871616573,
          -0.19853174458445377,
          -0.4893756812796029
         ],
         "y": [
          0.05975786813915049,
          1.1680506772912649,
          -1.2667989902539738
         ],
         "type": "scatter"
        }
       ],
       "layout": {
        "template": {
         "data": {
          "histogram2dcontour": [
           {
            "type": "histogram2dcontour",
            "colorbar": {
             "outlinewidth": 0,
             "tickcolor": "rgb(237,237,237)",
             "ticklen": 6,
             "ticks": "inside"
            },
            "colorscale": [
             [
              0,
              "rgb(20,44,66)"
             ],
             [
              1,
              "rgb(90,179,244)"
             ]
            ]
           }
          ],
          "choropleth": [
           {
            "type": "choropleth",
            "colorbar": {
             "outlinewidth": 0,
             "tickcolor": "rgb(237,237,237)",
             "ticklen": 6,
             "ticks": "inside"
            }
           }
          ],
          "histogram2d": [
           {
            "type": "histogram2d",
            "colorbar": {
             "outlinewidth": 0,
             "tickcolor": "rgb(237,237,237)",
             "ticklen": 6,
             "ticks": "inside"
            },
            "colorscale": [
             [
              0,
              "rgb(20,44,66)"
             ],
             [
              1,
              "rgb(90,179,244)"
             ]
            ]
           }
          ],
          "heatmap": [
           {
            "type": "heatmap",
            "colorbar": {
             "outlinewidth": 0,
             "tickcolor": "rgb(237,237,237)",
             "ticklen": 6,
             "ticks": "inside"
            },
            "colorscale": [
             [
              0,
              "rgb(20,44,66)"
             ],
             [
              1,
              "rgb(90,179,244)"
             ]
            ]
           }
          ],
          "heatmapgl": [
           {
            "type": "heatmapgl",
            "colorbar": {
             "outlinewidth": 0,
             "tickcolor": "rgb(237,237,237)",
             "ticklen": 6,
             "ticks": "inside"
            },
            "colorscale": [
             [
              0,
              "rgb(20,44,66)"
             ],
             [
              1,
              "rgb(90,179,244)"
             ]
            ]
           }
          ],
          "contourcarpet": [
           {
            "type": "contourcarpet",
            "colorbar": {
             "outlinewidth": 0,
             "tickcolor": "rgb(237,237,237)",
             "ticklen": 6,
             "ticks": "inside"
            }
           }
          ],
          "contour": [
           {
            "type": "contour",
            "colorbar": {
             "outlinewidth": 0,
             "tickcolor": "rgb(237,237,237)",
             "ticklen": 6,
             "ticks": "inside"
            },
            "colorscale": [
             [
              0,
              "rgb(20,44,66)"
             ],
             [
              1,
              "rgb(90,179,244)"
             ]
            ]
           }
          ],
          "surface": [
           {
            "type": "surface",
            "colorbar": {
             "outlinewidth": 0,
             "tickcolor": "rgb(237,237,237)",
             "ticklen": 6,
             "ticks": "inside"
            },
            "colorscale": [
             [
              0,
              "rgb(20,44,66)"
             ],
             [
              1,
              "rgb(90,179,244)"
             ]
            ]
           }
          ],
          "mesh3d": [
           {
            "type": "mesh3d",
            "colorbar": {
             "outlinewidth": 0,
             "tickcolor": "rgb(237,237,237)",
             "ticklen": 6,
             "ticks": "inside"
            }
           }
          ],
          "scatter": [
           {
            "fillpattern": {
             "fillmode": "overlay",
             "size": 10,
             "solidity": 0.2
            },
            "type": "scatter"
           }
          ],
          "parcoords": [
           {
            "type": "parcoords",
            "line": {
             "colorbar": {
              "outlinewidth": 0,
              "tickcolor": "rgb(237,237,237)",
              "ticklen": 6,
              "ticks": "inside"
             }
            }
           }
          ],
          "scatterpolargl": [
           {
            "type": "scatterpolargl",
            "marker": {
             "colorbar": {
              "outlinewidth": 0,
              "tickcolor": "rgb(237,237,237)",
              "ticklen": 6,
              "ticks": "inside"
             }
            }
           }
          ],
          "bar": [
           {
            "error_x": {
             "color": "rgb(51,51,51)"
            },
            "error_y": {
             "color": "rgb(51,51,51)"
            },
            "marker": {
             "line": {
              "color": "rgb(237,237,237)",
              "width": 0.5
             },
             "pattern": {
              "fillmode": "overlay",
              "size": 10,
              "solidity": 0.2
             }
            },
            "type": "bar"
           }
          ],
          "scattergeo": [
           {
            "type": "scattergeo",
            "marker": {
             "colorbar": {
              "outlinewidth": 0,
              "tickcolor": "rgb(237,237,237)",
              "ticklen": 6,
              "ticks": "inside"
             }
            }
           }
          ],
          "scatterpolar": [
           {
            "type": "scatterpolar",
            "marker": {
             "colorbar": {
              "outlinewidth": 0,
              "tickcolor": "rgb(237,237,237)",
              "ticklen": 6,
              "ticks": "inside"
             }
            }
           }
          ],
          "histogram": [
           {
            "marker": {
             "pattern": {
              "fillmode": "overlay",
              "size": 10,
              "solidity": 0.2
             }
            },
            "type": "histogram"
           }
          ],
          "scattergl": [
           {
            "type": "scattergl",
            "marker": {
             "colorbar": {
              "outlinewidth": 0,
              "tickcolor": "rgb(237,237,237)",
              "ticklen": 6,
              "ticks": "inside"
             }
            }
           }
          ],
          "scatter3d": [
           {
            "type": "scatter3d",
            "line": {
             "colorbar": {
              "outlinewidth": 0,
              "tickcolor": "rgb(237,237,237)",
              "ticklen": 6,
              "ticks": "inside"
             }
            },
            "marker": {
             "colorbar": {
              "outlinewidth": 0,
              "tickcolor": "rgb(237,237,237)",
              "ticklen": 6,
              "ticks": "inside"
             }
            }
           }
          ],
          "scattermapbox": [
           {
            "type": "scattermapbox",
            "marker": {
             "colorbar": {
              "outlinewidth": 0,
              "tickcolor": "rgb(237,237,237)",
              "ticklen": 6,
              "ticks": "inside"
             }
            }
           }
          ],
          "scatterternary": [
           {
            "type": "scatterternary",
            "marker": {
             "colorbar": {
              "outlinewidth": 0,
              "tickcolor": "rgb(237,237,237)",
              "ticklen": 6,
              "ticks": "inside"
             }
            }
           }
          ],
          "scattercarpet": [
           {
            "type": "scattercarpet",
            "marker": {
             "colorbar": {
              "outlinewidth": 0,
              "tickcolor": "rgb(237,237,237)",
              "ticklen": 6,
              "ticks": "inside"
             }
            }
           }
          ],
          "carpet": [
           {
            "aaxis": {
             "endlinecolor": "rgb(51,51,51)",
             "gridcolor": "white",
             "linecolor": "white",
             "minorgridcolor": "white",
             "startlinecolor": "rgb(51,51,51)"
            },
            "baxis": {
             "endlinecolor": "rgb(51,51,51)",
             "gridcolor": "white",
             "linecolor": "white",
             "minorgridcolor": "white",
             "startlinecolor": "rgb(51,51,51)"
            },
            "type": "carpet"
           }
          ],
          "table": [
           {
            "cells": {
             "fill": {
              "color": "rgb(237,237,237)"
             },
             "line": {
              "color": "white"
             }
            },
            "header": {
             "fill": {
              "color": "rgb(217,217,217)"
             },
             "line": {
              "color": "white"
             }
            },
            "type": "table"
           }
          ],
          "barpolar": [
           {
            "marker": {
             "line": {
              "color": "rgb(237,237,237)",
              "width": 0.5
             },
             "pattern": {
              "fillmode": "overlay",
              "size": 10,
              "solidity": 0.2
             }
            },
            "type": "barpolar"
           }
          ],
          "pie": [
           {
            "automargin": true,
            "type": "pie"
           }
          ]
         },
         "layout": {
          "autotypenumbers": "strict",
          "colorway": [
           "#F8766D",
           "#A3A500",
           "#00BF7D",
           "#00B0F6",
           "#E76BF3"
          ],
          "font": {
           "color": "rgb(51,51,51)"
          },
          "hovermode": "closest",
          "hoverlabel": {
           "align": "left"
          },
          "paper_bgcolor": "white",
          "plot_bgcolor": "rgb(237,237,237)",
          "polar": {
           "bgcolor": "rgb(237,237,237)",
           "angularaxis": {
            "gridcolor": "white",
            "linecolor": "white",
            "showgrid": true,
            "tickcolor": "rgb(51,51,51)",
            "ticks": "outside"
           },
           "radialaxis": {
            "gridcolor": "white",
            "linecolor": "white",
            "showgrid": true,
            "tickcolor": "rgb(51,51,51)",
            "ticks": "outside"
           }
          },
          "ternary": {
           "bgcolor": "rgb(237,237,237)",
           "aaxis": {
            "gridcolor": "white",
            "linecolor": "white",
            "showgrid": true,
            "tickcolor": "rgb(51,51,51)",
            "ticks": "outside"
           },
           "baxis": {
            "gridcolor": "white",
            "linecolor": "white",
            "showgrid": true,
            "tickcolor": "rgb(51,51,51)",
            "ticks": "outside"
           },
           "caxis": {
            "gridcolor": "white",
            "linecolor": "white",
            "showgrid": true,
            "tickcolor": "rgb(51,51,51)",
            "ticks": "outside"
           }
          },
          "coloraxis": {
           "colorbar": {
            "outlinewidth": 0,
            "tickcolor": "rgb(237,237,237)",
            "ticklen": 6,
            "ticks": "inside"
           }
          },
          "colorscale": {
           "sequential": [
            [
             0,
             "rgb(20,44,66)"
            ],
            [
             1,
             "rgb(90,179,244)"
            ]
           ],
           "sequentialminus": [
            [
             0,
             "rgb(20,44,66)"
            ],
            [
             1,
             "rgb(90,179,244)"
            ]
           ]
          },
          "xaxis": {
           "gridcolor": "white",
           "linecolor": "white",
           "showgrid": true,
           "tickcolor": "rgb(51,51,51)",
           "ticks": "outside",
           "title": {
            "standoff": 15
           },
           "zerolinecolor": "white",
           "automargin": true
          },
          "yaxis": {
           "gridcolor": "white",
           "linecolor": "white",
           "showgrid": true,
           "tickcolor": "rgb(51,51,51)",
           "ticks": "outside",
           "title": {
            "standoff": 15
           },
           "zerolinecolor": "white",
           "automargin": true
          },
          "scene": {
           "xaxis": {
            "backgroundcolor": "rgb(237,237,237)",
            "gridcolor": "white",
            "linecolor": "white",
            "showbackground": true,
            "showgrid": true,
            "tickcolor": "rgb(51,51,51)",
            "ticks": "outside",
            "zerolinecolor": "white",
            "gridwidth": 2
           },
           "yaxis": {
            "backgroundcolor": "rgb(237,237,237)",
            "gridcolor": "white",
            "linecolor": "white",
            "showbackground": true,
            "showgrid": true,
            "tickcolor": "rgb(51,51,51)",
            "ticks": "outside",
            "zerolinecolor": "white",
            "gridwidth": 2
           },
           "zaxis": {
            "backgroundcolor": "rgb(237,237,237)",
            "gridcolor": "white",
            "linecolor": "white",
            "showbackground": true,
            "showgrid": true,
            "tickcolor": "rgb(51,51,51)",
            "ticks": "outside",
            "zerolinecolor": "white",
            "gridwidth": 2
           }
          },
          "shapedefaults": {
           "fillcolor": "black",
           "line": {
            "width": 0
           },
           "opacity": 0.3
          },
          "annotationdefaults": {
           "arrowhead": 0,
           "arrowwidth": 1
          },
          "geo": {
           "bgcolor": "white",
           "landcolor": "rgb(237,237,237)",
           "subunitcolor": "white",
           "showland": true,
           "showlakes": true,
           "lakecolor": "white"
          }
         }
        },
        "xaxis": {
         "anchor": "y",
         "domain": [
          0.0,
          1.0
         ],
         "title": {
          "text": "x"
         }
        },
        "yaxis": {
         "anchor": "x",
         "domain": [
          0.0,
          1.0
         ],
         "title": {
          "text": "y"
         }
        },
        "coloraxis": {
         "colorbar": {
          "title": {
           "text": "color"
          }
         },
         "colorscale": [
          [
           0.0,
           "rgb(20,44,66)"
          ],
          [
           1.0,
           "rgb(90,179,244)"
          ]
         ]
        },
        "legend": {
         "tracegroupgap": 0
        },
        "margin": {
         "t": 60
        }
       },
       "config": {
        "plotlyServerURL": "https://plot.ly"
       }
      },
      "text/html": "<div>                            <div id=\"ebbb9d0e-506d-4ebc-9dbe-0c92381cdaa0\" class=\"plotly-graph-div\" style=\"height:525px; width:100%;\"></div>            <script type=\"text/javascript\">                require([\"plotly\"], function(Plotly) {                    window.PLOTLYENV=window.PLOTLYENV || {};                                    if (document.getElementById(\"ebbb9d0e-506d-4ebc-9dbe-0c92381cdaa0\")) {                    Plotly.newPlot(                        \"ebbb9d0e-506d-4ebc-9dbe-0c92381cdaa0\",                        [{\"hovertemplate\":\"x=%{x}<br>y=%{y}<br>color=%{marker.color}<extra></extra>\",\"legendgroup\":\"\",\"marker\":{\"color\":[2,0,1,0,2,0,1,0,0,1,1,2,2,1,1,2,2,1,2,2,1,2,2,1,1,1,0,2,2,2,2,0,0,2,1,1,1,1,0,0,2,1,0,1,1,0,2,2,2,0,0,0,1,2,2,2,1,1,0,1,2,0,2,0,2,2,0,2,0,0,0,2,2,1,0,2,0,2,0,0,1,0,1,2,1,1,1,0,1,0,0,0,1,0,1,1,1,0,2,1,0,0],\"coloraxis\":\"coloraxis\",\"symbol\":\"circle\"},\"mode\":\"markers\",\"name\":\"\",\"orientation\":\"v\",\"showlegend\":false,\"x\":[-0.5419624040161116,0.3528470623800163,-0.21962631452528988,0.39285450126488214,-0.46018049801166794,0.23036552927003714,-0.16526229861541267,0.2827013695737408,0.3042062505344464,-0.26589629124757314,-0.22471202176019645,-0.4690287403367251,-0.44903567428327457,-0.26286431127352267,-0.13761629767820374,-0.5571770090679887,-0.4656863385476962,-0.1926415098575127,-0.5444787489652537,-0.4523423019564312,-0.21921511106500288,-0.48970616271197676,-0.5147865160636561,-0.1632165528582309,-0.19018488548869938,-0.21902644337810223,0.20152249912909453,-0.44199348150948137,-0.5506450246133973,-0.5684511004473035,-0.5306400558240577,0.3177197399463654,0.2845555738131333,-0.40581170238684455,-0.0805360140524584,-0.22853137452643588,-0.18316791734692162,-0.16574972955525058,0.3597642732606728,0.30384528204324823,-0.578004828454914,-0.22028486079619014,0.295258756757297,-0.2779263142212057,-0.1956042095290781,0.22549306868315047,-0.5936074444795995,-0.4727138727627488,-0.48358881255302294,0.24272484743099396,0.11975462759658934,0.2979625871396027,-0.13258823762550975,-0.4668274744299833,-0.42865990123208636,-0.4996429681021601,-0.2565161098041159,-0.17132516909443435,0.39795320278118546,-0.30486138901018645,-0.4645741473098416,0.24995134953979348,-0.5011315315244754,0.16734543050045175,-0.5024397310720039,-0.4699362031489526,0.3017045960573072,-0.5448628158519006,0.2616487281527435,0.31510113761570757,0.27434770963809657,-0.4674649803010156,-0.5653520013455013,-0.16442349758554095,0.304380993074123,-0.41906562026487454,0.3513204833084328,-0.480519612390913,0.425673118714132,0.1923371531408318,-0.16320023019758942,0.2444384728087101,-0.13190801753280515,-0.35779962416924715,-0.1886689285880952,-0.17357231783677052,-0.08824615025646948,0.23519350012041168,-0.28813298279221405,0.27099425687476,0.30352525705214395,0.3752044112335089,-0.24940050750793516,0.3374585615535936,-0.22860387834007678,-0.23371043190295557,-0.11775553277375385,0.2866653474720928,-0.41094058900385155,-0.24472906521700355,6.6647798906371,6.727163251881298],\"xaxis\":\"x\",\"y\":[-1.5348112216511915,-0.1097992565135265,1.2648823339157926,-0.13646568618302576,-1.2111037455566935,-0.006156029620987766,1.3324090079064712,0.13785545884349487,0.23322768265475885,1.2388591797512252,1.1975658310192026,-1.0947046116073456,-1.252244947318075,0.9937110294578767,1.206992706581245,-1.2233169986190673,-1.1695572341845322,1.3367738720654234,-1.274587153699109,-1.3099196395909851,1.1076333685135635,-1.245356786297111,-1.1650008910745748,1.420132990767213,1.4242825292075938,1.3451314558273253,0.01655935473391224,-1.4322404923005474,-1.175810863353675,-1.5044948159467313,-1.262340139241603,0.12287473506560025,0.1291897212497567,-1.426551955666902,1.2999529175419349,1.1347753485413832,0.9580685739870896,1.1202108355786162,0.133432315272956,-0.22781197023180708,-1.4448210801013666,1.1513121204280914,-0.10010092570291779,1.210968488900623,1.1333078098981406,0.15602120582319948,-1.2697667445470453,-1.2384689210736404,-1.0718739887736473,0.003909485403900661,0.21034229375771282,0.045576268193455734,1.3917807079430227,-1.1766314626596246,-1.0027450493643058,-1.1872087775865425,1.229275569181366,0.8818790092678389,0.0013341547373674466,1.0925745923873105,-1.409969000931462,0.0310606501882601,-1.4161112931877808,0.07802656634087841,-0.8743344937622449,-1.4928421123437838,0.466319251946667,-1.4257921322395926,0.1622087653022499,0.07055127127123033,-0.0429584832070659,-1.2445308060815437,-1.1961679709944002,0.9053098707822761,0.0036414575722241173,-1.2341858127878476,-0.059662972246742524,-1.476814738725473,0.10938804596942238,0.09285438308414692,1.0796563998426536,0.03193410277822059,0.9898687344720777,-1.2246643806406272,1.015310280816421,0.8746442236602046,1.1450555782280007,0.32388332479730886,1.068002663901063,-0.1460825465338092,0.035529541035178976,0.19943012637906726,0.9600093675739871,0.42377652967933555,1.4691408945097153,1.275661435409702,1.325505608970846,0.14517577173611368,-1.1342146447694934,1.1320432115797192,-0.25983221761258357,-0.18473601770040105],\"yaxis\":\"y\",\"type\":\"scatter\"},{\"marker\":{\"color\":\"black\",\"line\":{\"width\":2},\"size\":12,\"symbol\":\"x-thin\"},\"mode\":\"markers\",\"showlegend\":false,\"x\":[0.6545928871616573,-0.19853174458445377,-0.4893756812796029],\"y\":[0.05975786813915049,1.1680506772912649,-1.2667989902539738],\"type\":\"scatter\"}],                        {\"template\":{\"data\":{\"histogram2dcontour\":[{\"type\":\"histogram2dcontour\",\"colorbar\":{\"outlinewidth\":0,\"tickcolor\":\"rgb(237,237,237)\",\"ticklen\":6,\"ticks\":\"inside\"},\"colorscale\":[[0,\"rgb(20,44,66)\"],[1,\"rgb(90,179,244)\"]]}],\"choropleth\":[{\"type\":\"choropleth\",\"colorbar\":{\"outlinewidth\":0,\"tickcolor\":\"rgb(237,237,237)\",\"ticklen\":6,\"ticks\":\"inside\"}}],\"histogram2d\":[{\"type\":\"histogram2d\",\"colorbar\":{\"outlinewidth\":0,\"tickcolor\":\"rgb(237,237,237)\",\"ticklen\":6,\"ticks\":\"inside\"},\"colorscale\":[[0,\"rgb(20,44,66)\"],[1,\"rgb(90,179,244)\"]]}],\"heatmap\":[{\"type\":\"heatmap\",\"colorbar\":{\"outlinewidth\":0,\"tickcolor\":\"rgb(237,237,237)\",\"ticklen\":6,\"ticks\":\"inside\"},\"colorscale\":[[0,\"rgb(20,44,66)\"],[1,\"rgb(90,179,244)\"]]}],\"heatmapgl\":[{\"type\":\"heatmapgl\",\"colorbar\":{\"outlinewidth\":0,\"tickcolor\":\"rgb(237,237,237)\",\"ticklen\":6,\"ticks\":\"inside\"},\"colorscale\":[[0,\"rgb(20,44,66)\"],[1,\"rgb(90,179,244)\"]]}],\"contourcarpet\":[{\"type\":\"contourcarpet\",\"colorbar\":{\"outlinewidth\":0,\"tickcolor\":\"rgb(237,237,237)\",\"ticklen\":6,\"ticks\":\"inside\"}}],\"contour\":[{\"type\":\"contour\",\"colorbar\":{\"outlinewidth\":0,\"tickcolor\":\"rgb(237,237,237)\",\"ticklen\":6,\"ticks\":\"inside\"},\"colorscale\":[[0,\"rgb(20,44,66)\"],[1,\"rgb(90,179,244)\"]]}],\"surface\":[{\"type\":\"surface\",\"colorbar\":{\"outlinewidth\":0,\"tickcolor\":\"rgb(237,237,237)\",\"ticklen\":6,\"ticks\":\"inside\"},\"colorscale\":[[0,\"rgb(20,44,66)\"],[1,\"rgb(90,179,244)\"]]}],\"mesh3d\":[{\"type\":\"mesh3d\",\"colorbar\":{\"outlinewidth\":0,\"tickcolor\":\"rgb(237,237,237)\",\"ticklen\":6,\"ticks\":\"inside\"}}],\"scatter\":[{\"fillpattern\":{\"fillmode\":\"overlay\",\"size\":10,\"solidity\":0.2},\"type\":\"scatter\"}],\"parcoords\":[{\"type\":\"parcoords\",\"line\":{\"colorbar\":{\"outlinewidth\":0,\"tickcolor\":\"rgb(237,237,237)\",\"ticklen\":6,\"ticks\":\"inside\"}}}],\"scatterpolargl\":[{\"type\":\"scatterpolargl\",\"marker\":{\"colorbar\":{\"outlinewidth\":0,\"tickcolor\":\"rgb(237,237,237)\",\"ticklen\":6,\"ticks\":\"inside\"}}}],\"bar\":[{\"error_x\":{\"color\":\"rgb(51,51,51)\"},\"error_y\":{\"color\":\"rgb(51,51,51)\"},\"marker\":{\"line\":{\"color\":\"rgb(237,237,237)\",\"width\":0.5},\"pattern\":{\"fillmode\":\"overlay\",\"size\":10,\"solidity\":0.2}},\"type\":\"bar\"}],\"scattergeo\":[{\"type\":\"scattergeo\",\"marker\":{\"colorbar\":{\"outlinewidth\":0,\"tickcolor\":\"rgb(237,237,237)\",\"ticklen\":6,\"ticks\":\"inside\"}}}],\"scatterpolar\":[{\"type\":\"scatterpolar\",\"marker\":{\"colorbar\":{\"outlinewidth\":0,\"tickcolor\":\"rgb(237,237,237)\",\"ticklen\":6,\"ticks\":\"inside\"}}}],\"histogram\":[{\"marker\":{\"pattern\":{\"fillmode\":\"overlay\",\"size\":10,\"solidity\":0.2}},\"type\":\"histogram\"}],\"scattergl\":[{\"type\":\"scattergl\",\"marker\":{\"colorbar\":{\"outlinewidth\":0,\"tickcolor\":\"rgb(237,237,237)\",\"ticklen\":6,\"ticks\":\"inside\"}}}],\"scatter3d\":[{\"type\":\"scatter3d\",\"line\":{\"colorbar\":{\"outlinewidth\":0,\"tickcolor\":\"rgb(237,237,237)\",\"ticklen\":6,\"ticks\":\"inside\"}},\"marker\":{\"colorbar\":{\"outlinewidth\":0,\"tickcolor\":\"rgb(237,237,237)\",\"ticklen\":6,\"ticks\":\"inside\"}}}],\"scattermapbox\":[{\"type\":\"scattermapbox\",\"marker\":{\"colorbar\":{\"outlinewidth\":0,\"tickcolor\":\"rgb(237,237,237)\",\"ticklen\":6,\"ticks\":\"inside\"}}}],\"scatterternary\":[{\"type\":\"scatterternary\",\"marker\":{\"colorbar\":{\"outlinewidth\":0,\"tickcolor\":\"rgb(237,237,237)\",\"ticklen\":6,\"ticks\":\"inside\"}}}],\"scattercarpet\":[{\"type\":\"scattercarpet\",\"marker\":{\"colorbar\":{\"outlinewidth\":0,\"tickcolor\":\"rgb(237,237,237)\",\"ticklen\":6,\"ticks\":\"inside\"}}}],\"carpet\":[{\"aaxis\":{\"endlinecolor\":\"rgb(51,51,51)\",\"gridcolor\":\"white\",\"linecolor\":\"white\",\"minorgridcolor\":\"white\",\"startlinecolor\":\"rgb(51,51,51)\"},\"baxis\":{\"endlinecolor\":\"rgb(51,51,51)\",\"gridcolor\":\"white\",\"linecolor\":\"white\",\"minorgridcolor\":\"white\",\"startlinecolor\":\"rgb(51,51,51)\"},\"type\":\"carpet\"}],\"table\":[{\"cells\":{\"fill\":{\"color\":\"rgb(237,237,237)\"},\"line\":{\"color\":\"white\"}},\"header\":{\"fill\":{\"color\":\"rgb(217,217,217)\"},\"line\":{\"color\":\"white\"}},\"type\":\"table\"}],\"barpolar\":[{\"marker\":{\"line\":{\"color\":\"rgb(237,237,237)\",\"width\":0.5},\"pattern\":{\"fillmode\":\"overlay\",\"size\":10,\"solidity\":0.2}},\"type\":\"barpolar\"}],\"pie\":[{\"automargin\":true,\"type\":\"pie\"}]},\"layout\":{\"autotypenumbers\":\"strict\",\"colorway\":[\"#F8766D\",\"#A3A500\",\"#00BF7D\",\"#00B0F6\",\"#E76BF3\"],\"font\":{\"color\":\"rgb(51,51,51)\"},\"hovermode\":\"closest\",\"hoverlabel\":{\"align\":\"left\"},\"paper_bgcolor\":\"white\",\"plot_bgcolor\":\"rgb(237,237,237)\",\"polar\":{\"bgcolor\":\"rgb(237,237,237)\",\"angularaxis\":{\"gridcolor\":\"white\",\"linecolor\":\"white\",\"showgrid\":true,\"tickcolor\":\"rgb(51,51,51)\",\"ticks\":\"outside\"},\"radialaxis\":{\"gridcolor\":\"white\",\"linecolor\":\"white\",\"showgrid\":true,\"tickcolor\":\"rgb(51,51,51)\",\"ticks\":\"outside\"}},\"ternary\":{\"bgcolor\":\"rgb(237,237,237)\",\"aaxis\":{\"gridcolor\":\"white\",\"linecolor\":\"white\",\"showgrid\":true,\"tickcolor\":\"rgb(51,51,51)\",\"ticks\":\"outside\"},\"baxis\":{\"gridcolor\":\"white\",\"linecolor\":\"white\",\"showgrid\":true,\"tickcolor\":\"rgb(51,51,51)\",\"ticks\":\"outside\"},\"caxis\":{\"gridcolor\":\"white\",\"linecolor\":\"white\",\"showgrid\":true,\"tickcolor\":\"rgb(51,51,51)\",\"ticks\":\"outside\"}},\"coloraxis\":{\"colorbar\":{\"outlinewidth\":0,\"tickcolor\":\"rgb(237,237,237)\",\"ticklen\":6,\"ticks\":\"inside\"}},\"colorscale\":{\"sequential\":[[0,\"rgb(20,44,66)\"],[1,\"rgb(90,179,244)\"]],\"sequentialminus\":[[0,\"rgb(20,44,66)\"],[1,\"rgb(90,179,244)\"]]},\"xaxis\":{\"gridcolor\":\"white\",\"linecolor\":\"white\",\"showgrid\":true,\"tickcolor\":\"rgb(51,51,51)\",\"ticks\":\"outside\",\"title\":{\"standoff\":15},\"zerolinecolor\":\"white\",\"automargin\":true},\"yaxis\":{\"gridcolor\":\"white\",\"linecolor\":\"white\",\"showgrid\":true,\"tickcolor\":\"rgb(51,51,51)\",\"ticks\":\"outside\",\"title\":{\"standoff\":15},\"zerolinecolor\":\"white\",\"automargin\":true},\"scene\":{\"xaxis\":{\"backgroundcolor\":\"rgb(237,237,237)\",\"gridcolor\":\"white\",\"linecolor\":\"white\",\"showbackground\":true,\"showgrid\":true,\"tickcolor\":\"rgb(51,51,51)\",\"ticks\":\"outside\",\"zerolinecolor\":\"white\",\"gridwidth\":2},\"yaxis\":{\"backgroundcolor\":\"rgb(237,237,237)\",\"gridcolor\":\"white\",\"linecolor\":\"white\",\"showbackground\":true,\"showgrid\":true,\"tickcolor\":\"rgb(51,51,51)\",\"ticks\":\"outside\",\"zerolinecolor\":\"white\",\"gridwidth\":2},\"zaxis\":{\"backgroundcolor\":\"rgb(237,237,237)\",\"gridcolor\":\"white\",\"linecolor\":\"white\",\"showbackground\":true,\"showgrid\":true,\"tickcolor\":\"rgb(51,51,51)\",\"ticks\":\"outside\",\"zerolinecolor\":\"white\",\"gridwidth\":2}},\"shapedefaults\":{\"fillcolor\":\"black\",\"line\":{\"width\":0},\"opacity\":0.3},\"annotationdefaults\":{\"arrowhead\":0,\"arrowwidth\":1},\"geo\":{\"bgcolor\":\"white\",\"landcolor\":\"rgb(237,237,237)\",\"subunitcolor\":\"white\",\"showland\":true,\"showlakes\":true,\"lakecolor\":\"white\"}}},\"xaxis\":{\"anchor\":\"y\",\"domain\":[0.0,1.0],\"title\":{\"text\":\"x\"}},\"yaxis\":{\"anchor\":\"x\",\"domain\":[0.0,1.0],\"title\":{\"text\":\"y\"}},\"coloraxis\":{\"colorbar\":{\"title\":{\"text\":\"color\"}},\"colorscale\":[[0.0,\"rgb(20,44,66)\"],[1.0,\"rgb(90,179,244)\"]]},\"legend\":{\"tracegroupgap\":0},\"margin\":{\"t\":60}},                        {\"responsive\": true}                    ).then(function(){\n                            \nvar gd = document.getElementById('ebbb9d0e-506d-4ebc-9dbe-0c92381cdaa0');\nvar x = new MutationObserver(function (mutations, observer) {{\n        var display = window.getComputedStyle(gd).display;\n        if (!display || display === 'none') {{\n            console.log([gd, 'removed!']);\n            Plotly.purge(gd);\n            observer.disconnect();\n        }}\n}});\n\n// Listen for the removal of the full notebook cells\nvar notebookContainer = gd.closest('#notebook-container');\nif (notebookContainer) {{\n    x.observe(notebookContainer, {childList: true});\n}}\n\n// Listen for the clearing of the current output cell\nvar outputEl = gd.closest('.output');\nif (outputEl) {{\n    x.observe(outputEl, {childList: true});\n}}\n\n                        })                };                });            </script>        </div>"
     },
     "metadata": {},
     "output_type": "display_data"
    }
   ],
   "source": [
    "fig = px.scatter(x=x_train_scaled[:, 0], y=x_train_scaled[:, 1], color=kmeans.labels)\n",
    "fig.add_scatter(x=kmeans.centroids[:, 0], y=kmeans.centroids[:, 1],\n",
    "                mode='markers', marker_size=12, marker_color='black', marker_symbol='x-thin', marker_line_width=2, showlegend=False)\n",
    "fig.show()"
   ],
   "metadata": {
    "collapsed": false
   }
  },
  {
   "cell_type": "markdown",
   "source": [
    "# Más cerca"
   ],
   "metadata": {
    "collapsed": false
   }
  },
  {
   "cell_type": "code",
   "execution_count": 18,
   "outputs": [],
   "source": [
    "# Create a dataset of 2D distributions\n",
    "n_clusters = 3\n",
    "x_train, true_labels = make_blobs(n_samples=100, centers=n_clusters, random_state=42, center_box=[-5, 5])\n",
    "x_train_scaled = StandardScaler().fit_transform(x_train)"
   ],
   "metadata": {
    "collapsed": false
   }
  },
  {
   "cell_type": "code",
   "execution_count": 19,
   "outputs": [
    {
     "data": {
      "application/vnd.plotly.v1+json": {
       "data": [
        {
         "hovertemplate": "x=%{x}<br>y=%{y}<br>color=%{marker.color}<extra></extra>",
         "legendgroup": "",
         "marker": {
          "color": [
           2,
           1,
           0,
           1,
           2,
           1,
           0,
           1,
           1,
           0,
           0,
           2,
           2,
           0,
           0,
           2,
           2,
           0,
           2,
           2,
           0,
           2,
           2,
           0,
           0,
           0,
           1,
           2,
           2,
           2,
           2,
           1,
           1,
           2,
           0,
           0,
           0,
           0,
           1,
           1,
           2,
           0,
           1,
           0,
           0,
           1,
           2,
           2,
           2,
           1,
           1,
           1,
           0,
           2,
           2,
           2,
           0,
           0,
           1,
           0,
           2,
           1,
           2,
           1,
           2,
           2,
           1,
           2,
           1,
           1,
           1,
           2,
           2,
           0,
           1,
           2,
           1,
           2,
           1,
           1,
           0,
           1,
           0,
           2,
           0,
           0,
           0,
           1,
           0,
           1,
           1,
           1,
           0,
           1,
           0,
           0,
           0,
           1,
           2,
           0
          ],
          "coloraxis": "coloraxis",
          "symbol": "circle"
         },
         "mode": "markers",
         "name": "",
         "orientation": "v",
         "showlegend": false,
         "x": [
          -1.3501115777186532,
          1.6256978651283616,
          -0.322409758322535,
          1.862026871389091,
          -0.8670155057166598,
          0.9021839434181248,
          -0.0012746340948291913,
          1.211338377581949,
          1.3383704318412721,
          -0.5957323683989515,
          -0.35245167478755324,
          -0.919283193279782,
          -0.8011816210668095,
          -0.5778220788567525,
          0.1620337933047887,
          -1.4399861758629438,
          -0.8995392027784538,
          -0.1630071009910234,
          -1.3649759458915662,
          -0.820714289336833,
          -0.31998072742604916,
          -1.0414273449221692,
          -1.1895801672342343,
          0.01080984507536227,
          -0.14849550984647855,
          -0.31886624351501824,
          0.7318045129733591,
          -0.7595824968410246,
          -1.4014009167688386,
          -1.5065836608915097,
          -1.283229033588135,
          1.4181963245464855,
          1.222291396758236,
          -0.5458521471076764,
          0.49921425479781073,
          -0.3750130750911847,
          -0.10704539071533756,
          -0.00415395036308959,
          1.6665587054892235,
          1.3362381452667227,
          -1.5630187416928942,
          -0.32629987451383735,
          1.2855164533858383,
          -0.666795237052805,
          -0.18050814301585796,
          0.8734017018990585,
          -1.655185369774067,
          -0.9410517370420476,
          -1.0052913831032944,
          0.9751920004308424,
          0.24879134437380931,
          1.3014883217472895,
          0.19173518056659458,
          -0.9062800368979645,
          -0.6808193501691581,
          -1.1001253123183428,
          -0.5403224491222602,
          -0.03708877754745408,
          1.8921455467193389,
          -0.8259041336946802,
          -0.8929693483378709,
          1.0178798632312702,
          -1.1089184448996177,
          0.5299162419156661,
          -1.1166461452392429,
          -0.9246436909924567,
          1.3235928421462304,
          -1.3672446776121876,
          1.0869777595352426,
          1.40272790907562,
          1.1619922508050697,
          -0.9100458647836241,
          -1.4882768901646917,
          0.0036802697771865277,
          1.339402658144787,
          -0.6241447179015802,
          1.6166801692942445,
          -0.9871612291983145,
          2.0558905993560965,
          0.6775455113958233,
          0.010906265098149324,
          0.9853146024745343,
          0.195753326767107,
          -0.2622387229559639,
          -0.1395405605210567,
          -0.05036296964769472,
          0.4536695041709945,
          0.9307033784314067,
          -0.7270873204216184,
          1.1421829807994996,
          1.3343477171304972,
          1.757765555149107,
          -0.4982896855544056,
          1.534796042629382,
          -0.3754413642970292,
          -0.40560642266043395,
          0.27935384588186424,
          1.2347540968498825,
          -0.5761491296490837,
          -0.47069488455758823
         ],
         "xaxis": "x",
         "y": [
          -1.7341845982974609,
          -0.3027612390366807,
          1.305928537362038,
          -0.35471921708024956,
          -1.1034595202156872,
          -0.10081847527004995,
          1.4375003108633084,
          0.17977948435173305,
          0.3656066825244176,
          1.255223944003838,
          1.1747662699411612,
          -0.8766626178561585,
          -1.1836207448077019,
          0.7775671159908919,
          1.1931339854374836,
          -1.1272563292493758,
          -1.022508573560436,
          1.4460049933027956,
          -1.2271532267701606,
          -1.2959965083398182,
          0.9995381284094634,
          -1.1701995660626088,
          -1.0136308055877359,
          1.6084253590179995,
          1.6165104918928686,
          1.462289256287385,
          -0.05655887785896221,
          -1.534331533242813,
          -1.0346934041166835,
          -1.6751148554981856,
          -1.2032906356333275,
          0.15059042054470576,
          0.16289480165490489,
          -1.5232477524302266,
          1.3742615176899766,
          1.0524226885032901,
          0.7081198768320536,
          1.0240445871183765,
          0.1711612478885114,
          -0.5327021071705866,
          -1.5588440725227828,
          1.0846436210109458,
          -0.28386460887050446,
          1.2008805646764928,
          1.0495632753179212,
          0.21517437952197355,
          -1.217760941564076,
          -1.1567789636616244,
          -0.8321784850113668,
          -0.08120640814512295,
          0.3210158412093799,
          -2.1119669775595644E-5,
          1.5531825947363869,
          -1.0362922938536872,
          -0.6974847910852533,
          -1.0569015731439448,
          1.236550839514848,
          0.5596689675841706,
          -0.08622428927450829,
          0.9701969841682526,
          -1.490936835343827,
          -0.028303952090549037,
          -1.502904732439404,
          0.06320638770739453,
          -0.44728433638525017,
          -1.6524102442902342,
          0.8197719678480232,
          -1.521767280936951,
          0.2272304771526024,
          0.0486412126197741,
          -0.17252590288875522,
          -1.168590191938034,
          -1.0743580373254245,
          0.6053226303803377,
          -0.08172864469369406,
          -1.1484335777577144,
          -0.20507362245637645,
          -1.6211818445052886,
          0.12431239590381611,
          0.09209752110355397,
          0.9450266417970882,
          -0.026602080821926426,
          0.7700806290114443,
          -1.129881624287376,
          0.8196519935599496,
          0.5455724111118451,
          1.0724531145843286,
          0.5422438972677104,
          0.9223200191376889,
          -0.3734571068220321,
          -0.01959657973582777,
          0.29975412150807645,
          0.7119013995865029,
          0.7368799625486439,
          1.7039143921646738,
          1.3269309859721918,
          1.424049441933019,
          0.19404268573492311,
          -0.9536456058670203,
          1.0470992794820768
         ],
         "yaxis": "y",
         "type": "scatter"
        }
       ],
       "layout": {
        "template": {
         "data": {
          "histogram2dcontour": [
           {
            "type": "histogram2dcontour",
            "colorbar": {
             "outlinewidth": 0,
             "tickcolor": "rgb(237,237,237)",
             "ticklen": 6,
             "ticks": "inside"
            },
            "colorscale": [
             [
              0,
              "rgb(20,44,66)"
             ],
             [
              1,
              "rgb(90,179,244)"
             ]
            ]
           }
          ],
          "choropleth": [
           {
            "type": "choropleth",
            "colorbar": {
             "outlinewidth": 0,
             "tickcolor": "rgb(237,237,237)",
             "ticklen": 6,
             "ticks": "inside"
            }
           }
          ],
          "histogram2d": [
           {
            "type": "histogram2d",
            "colorbar": {
             "outlinewidth": 0,
             "tickcolor": "rgb(237,237,237)",
             "ticklen": 6,
             "ticks": "inside"
            },
            "colorscale": [
             [
              0,
              "rgb(20,44,66)"
             ],
             [
              1,
              "rgb(90,179,244)"
             ]
            ]
           }
          ],
          "heatmap": [
           {
            "type": "heatmap",
            "colorbar": {
             "outlinewidth": 0,
             "tickcolor": "rgb(237,237,237)",
             "ticklen": 6,
             "ticks": "inside"
            },
            "colorscale": [
             [
              0,
              "rgb(20,44,66)"
             ],
             [
              1,
              "rgb(90,179,244)"
             ]
            ]
           }
          ],
          "heatmapgl": [
           {
            "type": "heatmapgl",
            "colorbar": {
             "outlinewidth": 0,
             "tickcolor": "rgb(237,237,237)",
             "ticklen": 6,
             "ticks": "inside"
            },
            "colorscale": [
             [
              0,
              "rgb(20,44,66)"
             ],
             [
              1,
              "rgb(90,179,244)"
             ]
            ]
           }
          ],
          "contourcarpet": [
           {
            "type": "contourcarpet",
            "colorbar": {
             "outlinewidth": 0,
             "tickcolor": "rgb(237,237,237)",
             "ticklen": 6,
             "ticks": "inside"
            }
           }
          ],
          "contour": [
           {
            "type": "contour",
            "colorbar": {
             "outlinewidth": 0,
             "tickcolor": "rgb(237,237,237)",
             "ticklen": 6,
             "ticks": "inside"
            },
            "colorscale": [
             [
              0,
              "rgb(20,44,66)"
             ],
             [
              1,
              "rgb(90,179,244)"
             ]
            ]
           }
          ],
          "surface": [
           {
            "type": "surface",
            "colorbar": {
             "outlinewidth": 0,
             "tickcolor": "rgb(237,237,237)",
             "ticklen": 6,
             "ticks": "inside"
            },
            "colorscale": [
             [
              0,
              "rgb(20,44,66)"
             ],
             [
              1,
              "rgb(90,179,244)"
             ]
            ]
           }
          ],
          "mesh3d": [
           {
            "type": "mesh3d",
            "colorbar": {
             "outlinewidth": 0,
             "tickcolor": "rgb(237,237,237)",
             "ticklen": 6,
             "ticks": "inside"
            }
           }
          ],
          "scatter": [
           {
            "fillpattern": {
             "fillmode": "overlay",
             "size": 10,
             "solidity": 0.2
            },
            "type": "scatter"
           }
          ],
          "parcoords": [
           {
            "type": "parcoords",
            "line": {
             "colorbar": {
              "outlinewidth": 0,
              "tickcolor": "rgb(237,237,237)",
              "ticklen": 6,
              "ticks": "inside"
             }
            }
           }
          ],
          "scatterpolargl": [
           {
            "type": "scatterpolargl",
            "marker": {
             "colorbar": {
              "outlinewidth": 0,
              "tickcolor": "rgb(237,237,237)",
              "ticklen": 6,
              "ticks": "inside"
             }
            }
           }
          ],
          "bar": [
           {
            "error_x": {
             "color": "rgb(51,51,51)"
            },
            "error_y": {
             "color": "rgb(51,51,51)"
            },
            "marker": {
             "line": {
              "color": "rgb(237,237,237)",
              "width": 0.5
             },
             "pattern": {
              "fillmode": "overlay",
              "size": 10,
              "solidity": 0.2
             }
            },
            "type": "bar"
           }
          ],
          "scattergeo": [
           {
            "type": "scattergeo",
            "marker": {
             "colorbar": {
              "outlinewidth": 0,
              "tickcolor": "rgb(237,237,237)",
              "ticklen": 6,
              "ticks": "inside"
             }
            }
           }
          ],
          "scatterpolar": [
           {
            "type": "scatterpolar",
            "marker": {
             "colorbar": {
              "outlinewidth": 0,
              "tickcolor": "rgb(237,237,237)",
              "ticklen": 6,
              "ticks": "inside"
             }
            }
           }
          ],
          "histogram": [
           {
            "marker": {
             "pattern": {
              "fillmode": "overlay",
              "size": 10,
              "solidity": 0.2
             }
            },
            "type": "histogram"
           }
          ],
          "scattergl": [
           {
            "type": "scattergl",
            "marker": {
             "colorbar": {
              "outlinewidth": 0,
              "tickcolor": "rgb(237,237,237)",
              "ticklen": 6,
              "ticks": "inside"
             }
            }
           }
          ],
          "scatter3d": [
           {
            "type": "scatter3d",
            "line": {
             "colorbar": {
              "outlinewidth": 0,
              "tickcolor": "rgb(237,237,237)",
              "ticklen": 6,
              "ticks": "inside"
             }
            },
            "marker": {
             "colorbar": {
              "outlinewidth": 0,
              "tickcolor": "rgb(237,237,237)",
              "ticklen": 6,
              "ticks": "inside"
             }
            }
           }
          ],
          "scattermapbox": [
           {
            "type": "scattermapbox",
            "marker": {
             "colorbar": {
              "outlinewidth": 0,
              "tickcolor": "rgb(237,237,237)",
              "ticklen": 6,
              "ticks": "inside"
             }
            }
           }
          ],
          "scatterternary": [
           {
            "type": "scatterternary",
            "marker": {
             "colorbar": {
              "outlinewidth": 0,
              "tickcolor": "rgb(237,237,237)",
              "ticklen": 6,
              "ticks": "inside"
             }
            }
           }
          ],
          "scattercarpet": [
           {
            "type": "scattercarpet",
            "marker": {
             "colorbar": {
              "outlinewidth": 0,
              "tickcolor": "rgb(237,237,237)",
              "ticklen": 6,
              "ticks": "inside"
             }
            }
           }
          ],
          "carpet": [
           {
            "aaxis": {
             "endlinecolor": "rgb(51,51,51)",
             "gridcolor": "white",
             "linecolor": "white",
             "minorgridcolor": "white",
             "startlinecolor": "rgb(51,51,51)"
            },
            "baxis": {
             "endlinecolor": "rgb(51,51,51)",
             "gridcolor": "white",
             "linecolor": "white",
             "minorgridcolor": "white",
             "startlinecolor": "rgb(51,51,51)"
            },
            "type": "carpet"
           }
          ],
          "table": [
           {
            "cells": {
             "fill": {
              "color": "rgb(237,237,237)"
             },
             "line": {
              "color": "white"
             }
            },
            "header": {
             "fill": {
              "color": "rgb(217,217,217)"
             },
             "line": {
              "color": "white"
             }
            },
            "type": "table"
           }
          ],
          "barpolar": [
           {
            "marker": {
             "line": {
              "color": "rgb(237,237,237)",
              "width": 0.5
             },
             "pattern": {
              "fillmode": "overlay",
              "size": 10,
              "solidity": 0.2
             }
            },
            "type": "barpolar"
           }
          ],
          "pie": [
           {
            "automargin": true,
            "type": "pie"
           }
          ]
         },
         "layout": {
          "autotypenumbers": "strict",
          "colorway": [
           "#F8766D",
           "#A3A500",
           "#00BF7D",
           "#00B0F6",
           "#E76BF3"
          ],
          "font": {
           "color": "rgb(51,51,51)"
          },
          "hovermode": "closest",
          "hoverlabel": {
           "align": "left"
          },
          "paper_bgcolor": "white",
          "plot_bgcolor": "rgb(237,237,237)",
          "polar": {
           "bgcolor": "rgb(237,237,237)",
           "angularaxis": {
            "gridcolor": "white",
            "linecolor": "white",
            "showgrid": true,
            "tickcolor": "rgb(51,51,51)",
            "ticks": "outside"
           },
           "radialaxis": {
            "gridcolor": "white",
            "linecolor": "white",
            "showgrid": true,
            "tickcolor": "rgb(51,51,51)",
            "ticks": "outside"
           }
          },
          "ternary": {
           "bgcolor": "rgb(237,237,237)",
           "aaxis": {
            "gridcolor": "white",
            "linecolor": "white",
            "showgrid": true,
            "tickcolor": "rgb(51,51,51)",
            "ticks": "outside"
           },
           "baxis": {
            "gridcolor": "white",
            "linecolor": "white",
            "showgrid": true,
            "tickcolor": "rgb(51,51,51)",
            "ticks": "outside"
           },
           "caxis": {
            "gridcolor": "white",
            "linecolor": "white",
            "showgrid": true,
            "tickcolor": "rgb(51,51,51)",
            "ticks": "outside"
           }
          },
          "coloraxis": {
           "colorbar": {
            "outlinewidth": 0,
            "tickcolor": "rgb(237,237,237)",
            "ticklen": 6,
            "ticks": "inside"
           }
          },
          "colorscale": {
           "sequential": [
            [
             0,
             "rgb(20,44,66)"
            ],
            [
             1,
             "rgb(90,179,244)"
            ]
           ],
           "sequentialminus": [
            [
             0,
             "rgb(20,44,66)"
            ],
            [
             1,
             "rgb(90,179,244)"
            ]
           ]
          },
          "xaxis": {
           "gridcolor": "white",
           "linecolor": "white",
           "showgrid": true,
           "tickcolor": "rgb(51,51,51)",
           "ticks": "outside",
           "title": {
            "standoff": 15
           },
           "zerolinecolor": "white",
           "automargin": true
          },
          "yaxis": {
           "gridcolor": "white",
           "linecolor": "white",
           "showgrid": true,
           "tickcolor": "rgb(51,51,51)",
           "ticks": "outside",
           "title": {
            "standoff": 15
           },
           "zerolinecolor": "white",
           "automargin": true
          },
          "scene": {
           "xaxis": {
            "backgroundcolor": "rgb(237,237,237)",
            "gridcolor": "white",
            "linecolor": "white",
            "showbackground": true,
            "showgrid": true,
            "tickcolor": "rgb(51,51,51)",
            "ticks": "outside",
            "zerolinecolor": "white",
            "gridwidth": 2
           },
           "yaxis": {
            "backgroundcolor": "rgb(237,237,237)",
            "gridcolor": "white",
            "linecolor": "white",
            "showbackground": true,
            "showgrid": true,
            "tickcolor": "rgb(51,51,51)",
            "ticks": "outside",
            "zerolinecolor": "white",
            "gridwidth": 2
           },
           "zaxis": {
            "backgroundcolor": "rgb(237,237,237)",
            "gridcolor": "white",
            "linecolor": "white",
            "showbackground": true,
            "showgrid": true,
            "tickcolor": "rgb(51,51,51)",
            "ticks": "outside",
            "zerolinecolor": "white",
            "gridwidth": 2
           }
          },
          "shapedefaults": {
           "fillcolor": "black",
           "line": {
            "width": 0
           },
           "opacity": 0.3
          },
          "annotationdefaults": {
           "arrowhead": 0,
           "arrowwidth": 1
          },
          "geo": {
           "bgcolor": "white",
           "landcolor": "rgb(237,237,237)",
           "subunitcolor": "white",
           "showland": true,
           "showlakes": true,
           "lakecolor": "white"
          }
         }
        },
        "xaxis": {
         "anchor": "y",
         "domain": [
          0.0,
          1.0
         ],
         "title": {
          "text": "x"
         }
        },
        "yaxis": {
         "anchor": "x",
         "domain": [
          0.0,
          1.0
         ],
         "title": {
          "text": "y"
         }
        },
        "coloraxis": {
         "colorbar": {
          "title": {
           "text": "color"
          }
         },
         "colorscale": [
          [
           0.0,
           "rgb(20,44,66)"
          ],
          [
           1.0,
           "rgb(90,179,244)"
          ]
         ]
        },
        "legend": {
         "tracegroupgap": 0
        },
        "margin": {
         "t": 60
        }
       },
       "config": {
        "plotlyServerURL": "https://plot.ly"
       }
      },
      "text/html": "<div>                            <div id=\"5ef94c39-a8a0-42c6-ad3a-e0d3ca2b447c\" class=\"plotly-graph-div\" style=\"height:525px; width:100%;\"></div>            <script type=\"text/javascript\">                require([\"plotly\"], function(Plotly) {                    window.PLOTLYENV=window.PLOTLYENV || {};                                    if (document.getElementById(\"5ef94c39-a8a0-42c6-ad3a-e0d3ca2b447c\")) {                    Plotly.newPlot(                        \"5ef94c39-a8a0-42c6-ad3a-e0d3ca2b447c\",                        [{\"hovertemplate\":\"x=%{x}<br>y=%{y}<br>color=%{marker.color}<extra></extra>\",\"legendgroup\":\"\",\"marker\":{\"color\":[2,1,0,1,2,1,0,1,1,0,0,2,2,0,0,2,2,0,2,2,0,2,2,0,0,0,1,2,2,2,2,1,1,2,0,0,0,0,1,1,2,0,1,0,0,1,2,2,2,1,1,1,0,2,2,2,0,0,1,0,2,1,2,1,2,2,1,2,1,1,1,2,2,0,1,2,1,2,1,1,0,1,0,2,0,0,0,1,0,1,1,1,0,1,0,0,0,1,2,0],\"coloraxis\":\"coloraxis\",\"symbol\":\"circle\"},\"mode\":\"markers\",\"name\":\"\",\"orientation\":\"v\",\"showlegend\":false,\"x\":[-1.3501115777186532,1.6256978651283616,-0.322409758322535,1.862026871389091,-0.8670155057166598,0.9021839434181248,-0.0012746340948291913,1.211338377581949,1.3383704318412721,-0.5957323683989515,-0.35245167478755324,-0.919283193279782,-0.8011816210668095,-0.5778220788567525,0.1620337933047887,-1.4399861758629438,-0.8995392027784538,-0.1630071009910234,-1.3649759458915662,-0.820714289336833,-0.31998072742604916,-1.0414273449221692,-1.1895801672342343,0.01080984507536227,-0.14849550984647855,-0.31886624351501824,0.7318045129733591,-0.7595824968410246,-1.4014009167688386,-1.5065836608915097,-1.283229033588135,1.4181963245464855,1.222291396758236,-0.5458521471076764,0.49921425479781073,-0.3750130750911847,-0.10704539071533756,-0.00415395036308959,1.6665587054892235,1.3362381452667227,-1.5630187416928942,-0.32629987451383735,1.2855164533858383,-0.666795237052805,-0.18050814301585796,0.8734017018990585,-1.655185369774067,-0.9410517370420476,-1.0052913831032944,0.9751920004308424,0.24879134437380931,1.3014883217472895,0.19173518056659458,-0.9062800368979645,-0.6808193501691581,-1.1001253123183428,-0.5403224491222602,-0.03708877754745408,1.8921455467193389,-0.8259041336946802,-0.8929693483378709,1.0178798632312702,-1.1089184448996177,0.5299162419156661,-1.1166461452392429,-0.9246436909924567,1.3235928421462304,-1.3672446776121876,1.0869777595352426,1.40272790907562,1.1619922508050697,-0.9100458647836241,-1.4882768901646917,0.0036802697771865277,1.339402658144787,-0.6241447179015802,1.6166801692942445,-0.9871612291983145,2.0558905993560965,0.6775455113958233,0.010906265098149324,0.9853146024745343,0.195753326767107,-0.2622387229559639,-0.1395405605210567,-0.05036296964769472,0.4536695041709945,0.9307033784314067,-0.7270873204216184,1.1421829807994996,1.3343477171304972,1.757765555149107,-0.4982896855544056,1.534796042629382,-0.3754413642970292,-0.40560642266043395,0.27935384588186424,1.2347540968498825,-0.5761491296490837,-0.47069488455758823],\"xaxis\":\"x\",\"y\":[-1.7341845982974609,-0.3027612390366807,1.305928537362038,-0.35471921708024956,-1.1034595202156872,-0.10081847527004995,1.4375003108633084,0.17977948435173305,0.3656066825244176,1.255223944003838,1.1747662699411612,-0.8766626178561585,-1.1836207448077019,0.7775671159908919,1.1931339854374836,-1.1272563292493758,-1.022508573560436,1.4460049933027956,-1.2271532267701606,-1.2959965083398182,0.9995381284094634,-1.1701995660626088,-1.0136308055877359,1.6084253590179995,1.6165104918928686,1.462289256287385,-0.05655887785896221,-1.534331533242813,-1.0346934041166835,-1.6751148554981856,-1.2032906356333275,0.15059042054470576,0.16289480165490489,-1.5232477524302266,1.3742615176899766,1.0524226885032901,0.7081198768320536,1.0240445871183765,0.1711612478885114,-0.5327021071705866,-1.5588440725227828,1.0846436210109458,-0.28386460887050446,1.2008805646764928,1.0495632753179212,0.21517437952197355,-1.217760941564076,-1.1567789636616244,-0.8321784850113668,-0.08120640814512295,0.3210158412093799,-2.1119669775595644e-05,1.5531825947363869,-1.0362922938536872,-0.6974847910852533,-1.0569015731439448,1.236550839514848,0.5596689675841706,-0.08622428927450829,0.9701969841682526,-1.490936835343827,-0.028303952090549037,-1.502904732439404,0.06320638770739453,-0.44728433638525017,-1.6524102442902342,0.8197719678480232,-1.521767280936951,0.2272304771526024,0.0486412126197741,-0.17252590288875522,-1.168590191938034,-1.0743580373254245,0.6053226303803377,-0.08172864469369406,-1.1484335777577144,-0.20507362245637645,-1.6211818445052886,0.12431239590381611,0.09209752110355397,0.9450266417970882,-0.026602080821926426,0.7700806290114443,-1.129881624287376,0.8196519935599496,0.5455724111118451,1.0724531145843286,0.5422438972677104,0.9223200191376889,-0.3734571068220321,-0.01959657973582777,0.29975412150807645,0.7119013995865029,0.7368799625486439,1.7039143921646738,1.3269309859721918,1.424049441933019,0.19404268573492311,-0.9536456058670203,1.0470992794820768],\"yaxis\":\"y\",\"type\":\"scatter\"}],                        {\"template\":{\"data\":{\"histogram2dcontour\":[{\"type\":\"histogram2dcontour\",\"colorbar\":{\"outlinewidth\":0,\"tickcolor\":\"rgb(237,237,237)\",\"ticklen\":6,\"ticks\":\"inside\"},\"colorscale\":[[0,\"rgb(20,44,66)\"],[1,\"rgb(90,179,244)\"]]}],\"choropleth\":[{\"type\":\"choropleth\",\"colorbar\":{\"outlinewidth\":0,\"tickcolor\":\"rgb(237,237,237)\",\"ticklen\":6,\"ticks\":\"inside\"}}],\"histogram2d\":[{\"type\":\"histogram2d\",\"colorbar\":{\"outlinewidth\":0,\"tickcolor\":\"rgb(237,237,237)\",\"ticklen\":6,\"ticks\":\"inside\"},\"colorscale\":[[0,\"rgb(20,44,66)\"],[1,\"rgb(90,179,244)\"]]}],\"heatmap\":[{\"type\":\"heatmap\",\"colorbar\":{\"outlinewidth\":0,\"tickcolor\":\"rgb(237,237,237)\",\"ticklen\":6,\"ticks\":\"inside\"},\"colorscale\":[[0,\"rgb(20,44,66)\"],[1,\"rgb(90,179,244)\"]]}],\"heatmapgl\":[{\"type\":\"heatmapgl\",\"colorbar\":{\"outlinewidth\":0,\"tickcolor\":\"rgb(237,237,237)\",\"ticklen\":6,\"ticks\":\"inside\"},\"colorscale\":[[0,\"rgb(20,44,66)\"],[1,\"rgb(90,179,244)\"]]}],\"contourcarpet\":[{\"type\":\"contourcarpet\",\"colorbar\":{\"outlinewidth\":0,\"tickcolor\":\"rgb(237,237,237)\",\"ticklen\":6,\"ticks\":\"inside\"}}],\"contour\":[{\"type\":\"contour\",\"colorbar\":{\"outlinewidth\":0,\"tickcolor\":\"rgb(237,237,237)\",\"ticklen\":6,\"ticks\":\"inside\"},\"colorscale\":[[0,\"rgb(20,44,66)\"],[1,\"rgb(90,179,244)\"]]}],\"surface\":[{\"type\":\"surface\",\"colorbar\":{\"outlinewidth\":0,\"tickcolor\":\"rgb(237,237,237)\",\"ticklen\":6,\"ticks\":\"inside\"},\"colorscale\":[[0,\"rgb(20,44,66)\"],[1,\"rgb(90,179,244)\"]]}],\"mesh3d\":[{\"type\":\"mesh3d\",\"colorbar\":{\"outlinewidth\":0,\"tickcolor\":\"rgb(237,237,237)\",\"ticklen\":6,\"ticks\":\"inside\"}}],\"scatter\":[{\"fillpattern\":{\"fillmode\":\"overlay\",\"size\":10,\"solidity\":0.2},\"type\":\"scatter\"}],\"parcoords\":[{\"type\":\"parcoords\",\"line\":{\"colorbar\":{\"outlinewidth\":0,\"tickcolor\":\"rgb(237,237,237)\",\"ticklen\":6,\"ticks\":\"inside\"}}}],\"scatterpolargl\":[{\"type\":\"scatterpolargl\",\"marker\":{\"colorbar\":{\"outlinewidth\":0,\"tickcolor\":\"rgb(237,237,237)\",\"ticklen\":6,\"ticks\":\"inside\"}}}],\"bar\":[{\"error_x\":{\"color\":\"rgb(51,51,51)\"},\"error_y\":{\"color\":\"rgb(51,51,51)\"},\"marker\":{\"line\":{\"color\":\"rgb(237,237,237)\",\"width\":0.5},\"pattern\":{\"fillmode\":\"overlay\",\"size\":10,\"solidity\":0.2}},\"type\":\"bar\"}],\"scattergeo\":[{\"type\":\"scattergeo\",\"marker\":{\"colorbar\":{\"outlinewidth\":0,\"tickcolor\":\"rgb(237,237,237)\",\"ticklen\":6,\"ticks\":\"inside\"}}}],\"scatterpolar\":[{\"type\":\"scatterpolar\",\"marker\":{\"colorbar\":{\"outlinewidth\":0,\"tickcolor\":\"rgb(237,237,237)\",\"ticklen\":6,\"ticks\":\"inside\"}}}],\"histogram\":[{\"marker\":{\"pattern\":{\"fillmode\":\"overlay\",\"size\":10,\"solidity\":0.2}},\"type\":\"histogram\"}],\"scattergl\":[{\"type\":\"scattergl\",\"marker\":{\"colorbar\":{\"outlinewidth\":0,\"tickcolor\":\"rgb(237,237,237)\",\"ticklen\":6,\"ticks\":\"inside\"}}}],\"scatter3d\":[{\"type\":\"scatter3d\",\"line\":{\"colorbar\":{\"outlinewidth\":0,\"tickcolor\":\"rgb(237,237,237)\",\"ticklen\":6,\"ticks\":\"inside\"}},\"marker\":{\"colorbar\":{\"outlinewidth\":0,\"tickcolor\":\"rgb(237,237,237)\",\"ticklen\":6,\"ticks\":\"inside\"}}}],\"scattermapbox\":[{\"type\":\"scattermapbox\",\"marker\":{\"colorbar\":{\"outlinewidth\":0,\"tickcolor\":\"rgb(237,237,237)\",\"ticklen\":6,\"ticks\":\"inside\"}}}],\"scatterternary\":[{\"type\":\"scatterternary\",\"marker\":{\"colorbar\":{\"outlinewidth\":0,\"tickcolor\":\"rgb(237,237,237)\",\"ticklen\":6,\"ticks\":\"inside\"}}}],\"scattercarpet\":[{\"type\":\"scattercarpet\",\"marker\":{\"colorbar\":{\"outlinewidth\":0,\"tickcolor\":\"rgb(237,237,237)\",\"ticklen\":6,\"ticks\":\"inside\"}}}],\"carpet\":[{\"aaxis\":{\"endlinecolor\":\"rgb(51,51,51)\",\"gridcolor\":\"white\",\"linecolor\":\"white\",\"minorgridcolor\":\"white\",\"startlinecolor\":\"rgb(51,51,51)\"},\"baxis\":{\"endlinecolor\":\"rgb(51,51,51)\",\"gridcolor\":\"white\",\"linecolor\":\"white\",\"minorgridcolor\":\"white\",\"startlinecolor\":\"rgb(51,51,51)\"},\"type\":\"carpet\"}],\"table\":[{\"cells\":{\"fill\":{\"color\":\"rgb(237,237,237)\"},\"line\":{\"color\":\"white\"}},\"header\":{\"fill\":{\"color\":\"rgb(217,217,217)\"},\"line\":{\"color\":\"white\"}},\"type\":\"table\"}],\"barpolar\":[{\"marker\":{\"line\":{\"color\":\"rgb(237,237,237)\",\"width\":0.5},\"pattern\":{\"fillmode\":\"overlay\",\"size\":10,\"solidity\":0.2}},\"type\":\"barpolar\"}],\"pie\":[{\"automargin\":true,\"type\":\"pie\"}]},\"layout\":{\"autotypenumbers\":\"strict\",\"colorway\":[\"#F8766D\",\"#A3A500\",\"#00BF7D\",\"#00B0F6\",\"#E76BF3\"],\"font\":{\"color\":\"rgb(51,51,51)\"},\"hovermode\":\"closest\",\"hoverlabel\":{\"align\":\"left\"},\"paper_bgcolor\":\"white\",\"plot_bgcolor\":\"rgb(237,237,237)\",\"polar\":{\"bgcolor\":\"rgb(237,237,237)\",\"angularaxis\":{\"gridcolor\":\"white\",\"linecolor\":\"white\",\"showgrid\":true,\"tickcolor\":\"rgb(51,51,51)\",\"ticks\":\"outside\"},\"radialaxis\":{\"gridcolor\":\"white\",\"linecolor\":\"white\",\"showgrid\":true,\"tickcolor\":\"rgb(51,51,51)\",\"ticks\":\"outside\"}},\"ternary\":{\"bgcolor\":\"rgb(237,237,237)\",\"aaxis\":{\"gridcolor\":\"white\",\"linecolor\":\"white\",\"showgrid\":true,\"tickcolor\":\"rgb(51,51,51)\",\"ticks\":\"outside\"},\"baxis\":{\"gridcolor\":\"white\",\"linecolor\":\"white\",\"showgrid\":true,\"tickcolor\":\"rgb(51,51,51)\",\"ticks\":\"outside\"},\"caxis\":{\"gridcolor\":\"white\",\"linecolor\":\"white\",\"showgrid\":true,\"tickcolor\":\"rgb(51,51,51)\",\"ticks\":\"outside\"}},\"coloraxis\":{\"colorbar\":{\"outlinewidth\":0,\"tickcolor\":\"rgb(237,237,237)\",\"ticklen\":6,\"ticks\":\"inside\"}},\"colorscale\":{\"sequential\":[[0,\"rgb(20,44,66)\"],[1,\"rgb(90,179,244)\"]],\"sequentialminus\":[[0,\"rgb(20,44,66)\"],[1,\"rgb(90,179,244)\"]]},\"xaxis\":{\"gridcolor\":\"white\",\"linecolor\":\"white\",\"showgrid\":true,\"tickcolor\":\"rgb(51,51,51)\",\"ticks\":\"outside\",\"title\":{\"standoff\":15},\"zerolinecolor\":\"white\",\"automargin\":true},\"yaxis\":{\"gridcolor\":\"white\",\"linecolor\":\"white\",\"showgrid\":true,\"tickcolor\":\"rgb(51,51,51)\",\"ticks\":\"outside\",\"title\":{\"standoff\":15},\"zerolinecolor\":\"white\",\"automargin\":true},\"scene\":{\"xaxis\":{\"backgroundcolor\":\"rgb(237,237,237)\",\"gridcolor\":\"white\",\"linecolor\":\"white\",\"showbackground\":true,\"showgrid\":true,\"tickcolor\":\"rgb(51,51,51)\",\"ticks\":\"outside\",\"zerolinecolor\":\"white\",\"gridwidth\":2},\"yaxis\":{\"backgroundcolor\":\"rgb(237,237,237)\",\"gridcolor\":\"white\",\"linecolor\":\"white\",\"showbackground\":true,\"showgrid\":true,\"tickcolor\":\"rgb(51,51,51)\",\"ticks\":\"outside\",\"zerolinecolor\":\"white\",\"gridwidth\":2},\"zaxis\":{\"backgroundcolor\":\"rgb(237,237,237)\",\"gridcolor\":\"white\",\"linecolor\":\"white\",\"showbackground\":true,\"showgrid\":true,\"tickcolor\":\"rgb(51,51,51)\",\"ticks\":\"outside\",\"zerolinecolor\":\"white\",\"gridwidth\":2}},\"shapedefaults\":{\"fillcolor\":\"black\",\"line\":{\"width\":0},\"opacity\":0.3},\"annotationdefaults\":{\"arrowhead\":0,\"arrowwidth\":1},\"geo\":{\"bgcolor\":\"white\",\"landcolor\":\"rgb(237,237,237)\",\"subunitcolor\":\"white\",\"showland\":true,\"showlakes\":true,\"lakecolor\":\"white\"}}},\"xaxis\":{\"anchor\":\"y\",\"domain\":[0.0,1.0],\"title\":{\"text\":\"x\"}},\"yaxis\":{\"anchor\":\"x\",\"domain\":[0.0,1.0],\"title\":{\"text\":\"y\"}},\"coloraxis\":{\"colorbar\":{\"title\":{\"text\":\"color\"}},\"colorscale\":[[0.0,\"rgb(20,44,66)\"],[1.0,\"rgb(90,179,244)\"]]},\"legend\":{\"tracegroupgap\":0},\"margin\":{\"t\":60}},                        {\"responsive\": true}                    ).then(function(){\n                            \nvar gd = document.getElementById('5ef94c39-a8a0-42c6-ad3a-e0d3ca2b447c');\nvar x = new MutationObserver(function (mutations, observer) {{\n        var display = window.getComputedStyle(gd).display;\n        if (!display || display === 'none') {{\n            console.log([gd, 'removed!']);\n            Plotly.purge(gd);\n            observer.disconnect();\n        }}\n}});\n\n// Listen for the removal of the full notebook cells\nvar notebookContainer = gd.closest('#notebook-container');\nif (notebookContainer) {{\n    x.observe(notebookContainer, {childList: true});\n}}\n\n// Listen for the clearing of the current output cell\nvar outputEl = gd.closest('.output');\nif (outputEl) {{\n    x.observe(outputEl, {childList: true});\n}}\n\n                        })                };                });            </script>        </div>"
     },
     "metadata": {},
     "output_type": "display_data"
    }
   ],
   "source": [
    "px.scatter(x=x_train_scaled[:, 0], y=x_train_scaled[:, 1], color=true_labels)"
   ],
   "metadata": {
    "collapsed": false
   }
  },
  {
   "cell_type": "code",
   "execution_count": 20,
   "outputs": [],
   "source": [
    "kmeans = KMeans(n_clusters=n_clusters)\n",
    "kmeans.fit(x_train_scaled)"
   ],
   "metadata": {
    "collapsed": false
   }
  },
  {
   "cell_type": "code",
   "execution_count": 21,
   "outputs": [
    {
     "data": {
      "text/plain": "(20.713160136162955, 0.99)"
     },
     "execution_count": 21,
     "metadata": {},
     "output_type": "execute_result"
    }
   ],
   "source": [
    "kmeans.inertia, kmeans.score(true_labels)"
   ],
   "metadata": {
    "collapsed": false
   }
  },
  {
   "cell_type": "code",
   "execution_count": 22,
   "outputs": [
    {
     "data": {
      "application/vnd.plotly.v1+json": {
       "data": [
        {
         "hovertemplate": "x=%{x}<br>y=%{y}<extra></extra>",
         "legendgroup": "",
         "marker": {
          "color": "black",
          "symbol": "x-thin",
          "line": {
           "width": 2
          },
          "size": 12
         },
         "mode": "markers",
         "name": "",
         "orientation": "v",
         "showlegend": false,
         "x": [
          -1.0394143658102333,
          1.2742162742793608,
          -0.18497847729148165
         ],
         "xaxis": "x",
         "y": [
          -1.211908669805686,
          0.052725731687348835,
          1.0944503625597852
         ],
         "yaxis": "y",
         "type": "scatter"
        },
        {
         "marker": {
          "color": [
           0,
           1,
           2,
           1,
           0,
           1,
           2,
           1,
           1,
           2,
           2,
           0,
           0,
           2,
           2,
           0,
           0,
           2,
           0,
           0,
           2,
           0,
           0,
           2,
           2,
           2,
           1,
           0,
           0,
           0,
           0,
           1,
           1,
           0,
           2,
           2,
           2,
           2,
           1,
           1,
           0,
           2,
           1,
           2,
           2,
           1,
           0,
           0,
           0,
           1,
           2,
           1,
           2,
           0,
           0,
           0,
           2,
           2,
           1,
           2,
           0,
           1,
           0,
           1,
           0,
           0,
           1,
           0,
           1,
           1,
           1,
           0,
           0,
           2,
           1,
           0,
           1,
           0,
           1,
           1,
           2,
           1,
           2,
           0,
           2,
           2,
           2,
           1,
           2,
           1,
           1,
           1,
           2,
           1,
           2,
           2,
           2,
           1,
           0,
           2
          ]
         },
         "mode": "markers",
         "x": [
          -1.3501115777186532,
          1.6256978651283616,
          -0.322409758322535,
          1.862026871389091,
          -0.8670155057166598,
          0.9021839434181248,
          -0.0012746340948291913,
          1.211338377581949,
          1.3383704318412721,
          -0.5957323683989515,
          -0.35245167478755324,
          -0.919283193279782,
          -0.8011816210668095,
          -0.5778220788567525,
          0.1620337933047887,
          -1.4399861758629438,
          -0.8995392027784538,
          -0.1630071009910234,
          -1.3649759458915662,
          -0.820714289336833,
          -0.31998072742604916,
          -1.0414273449221692,
          -1.1895801672342343,
          0.01080984507536227,
          -0.14849550984647855,
          -0.31886624351501824,
          0.7318045129733591,
          -0.7595824968410246,
          -1.4014009167688386,
          -1.5065836608915097,
          -1.283229033588135,
          1.4181963245464855,
          1.222291396758236,
          -0.5458521471076764,
          0.49921425479781073,
          -0.3750130750911847,
          -0.10704539071533756,
          -0.00415395036308959,
          1.6665587054892235,
          1.3362381452667227,
          -1.5630187416928942,
          -0.32629987451383735,
          1.2855164533858383,
          -0.666795237052805,
          -0.18050814301585796,
          0.8734017018990585,
          -1.655185369774067,
          -0.9410517370420476,
          -1.0052913831032944,
          0.9751920004308424,
          0.24879134437380931,
          1.3014883217472895,
          0.19173518056659458,
          -0.9062800368979645,
          -0.6808193501691581,
          -1.1001253123183428,
          -0.5403224491222602,
          -0.03708877754745408,
          1.8921455467193389,
          -0.8259041336946802,
          -0.8929693483378709,
          1.0178798632312702,
          -1.1089184448996177,
          0.5299162419156661,
          -1.1166461452392429,
          -0.9246436909924567,
          1.3235928421462304,
          -1.3672446776121876,
          1.0869777595352426,
          1.40272790907562,
          1.1619922508050697,
          -0.9100458647836241,
          -1.4882768901646917,
          0.0036802697771865277,
          1.339402658144787,
          -0.6241447179015802,
          1.6166801692942445,
          -0.9871612291983145,
          2.0558905993560965,
          0.6775455113958233,
          0.010906265098149324,
          0.9853146024745343,
          0.195753326767107,
          -0.2622387229559639,
          -0.1395405605210567,
          -0.05036296964769472,
          0.4536695041709945,
          0.9307033784314067,
          -0.7270873204216184,
          1.1421829807994996,
          1.3343477171304972,
          1.757765555149107,
          -0.4982896855544056,
          1.534796042629382,
          -0.3754413642970292,
          -0.40560642266043395,
          0.27935384588186424,
          1.2347540968498825,
          -0.5761491296490837,
          -0.47069488455758823
         ],
         "y": [
          -1.7341845982974609,
          -0.3027612390366807,
          1.305928537362038,
          -0.35471921708024956,
          -1.1034595202156872,
          -0.10081847527004995,
          1.4375003108633084,
          0.17977948435173305,
          0.3656066825244176,
          1.255223944003838,
          1.1747662699411612,
          -0.8766626178561585,
          -1.1836207448077019,
          0.7775671159908919,
          1.1931339854374836,
          -1.1272563292493758,
          -1.022508573560436,
          1.4460049933027956,
          -1.2271532267701606,
          -1.2959965083398182,
          0.9995381284094634,
          -1.1701995660626088,
          -1.0136308055877359,
          1.6084253590179995,
          1.6165104918928686,
          1.462289256287385,
          -0.05655887785896221,
          -1.534331533242813,
          -1.0346934041166835,
          -1.6751148554981856,
          -1.2032906356333275,
          0.15059042054470576,
          0.16289480165490489,
          -1.5232477524302266,
          1.3742615176899766,
          1.0524226885032901,
          0.7081198768320536,
          1.0240445871183765,
          0.1711612478885114,
          -0.5327021071705866,
          -1.5588440725227828,
          1.0846436210109458,
          -0.28386460887050446,
          1.2008805646764928,
          1.0495632753179212,
          0.21517437952197355,
          -1.217760941564076,
          -1.1567789636616244,
          -0.8321784850113668,
          -0.08120640814512295,
          0.3210158412093799,
          -2.1119669775595644E-5,
          1.5531825947363869,
          -1.0362922938536872,
          -0.6974847910852533,
          -1.0569015731439448,
          1.236550839514848,
          0.5596689675841706,
          -0.08622428927450829,
          0.9701969841682526,
          -1.490936835343827,
          -0.028303952090549037,
          -1.502904732439404,
          0.06320638770739453,
          -0.44728433638525017,
          -1.6524102442902342,
          0.8197719678480232,
          -1.521767280936951,
          0.2272304771526024,
          0.0486412126197741,
          -0.17252590288875522,
          -1.168590191938034,
          -1.0743580373254245,
          0.6053226303803377,
          -0.08172864469369406,
          -1.1484335777577144,
          -0.20507362245637645,
          -1.6211818445052886,
          0.12431239590381611,
          0.09209752110355397,
          0.9450266417970882,
          -0.026602080821926426,
          0.7700806290114443,
          -1.129881624287376,
          0.8196519935599496,
          0.5455724111118451,
          1.0724531145843286,
          0.5422438972677104,
          0.9223200191376889,
          -0.3734571068220321,
          -0.01959657973582777,
          0.29975412150807645,
          0.7119013995865029,
          0.7368799625486439,
          1.7039143921646738,
          1.3269309859721918,
          1.424049441933019,
          0.19404268573492311,
          -0.9536456058670203,
          1.0470992794820768
         ],
         "type": "scatter"
        }
       ],
       "layout": {
        "template": {
         "data": {
          "histogram2dcontour": [
           {
            "type": "histogram2dcontour",
            "colorbar": {
             "outlinewidth": 0,
             "tickcolor": "rgb(237,237,237)",
             "ticklen": 6,
             "ticks": "inside"
            },
            "colorscale": [
             [
              0,
              "rgb(20,44,66)"
             ],
             [
              1,
              "rgb(90,179,244)"
             ]
            ]
           }
          ],
          "choropleth": [
           {
            "type": "choropleth",
            "colorbar": {
             "outlinewidth": 0,
             "tickcolor": "rgb(237,237,237)",
             "ticklen": 6,
             "ticks": "inside"
            }
           }
          ],
          "histogram2d": [
           {
            "type": "histogram2d",
            "colorbar": {
             "outlinewidth": 0,
             "tickcolor": "rgb(237,237,237)",
             "ticklen": 6,
             "ticks": "inside"
            },
            "colorscale": [
             [
              0,
              "rgb(20,44,66)"
             ],
             [
              1,
              "rgb(90,179,244)"
             ]
            ]
           }
          ],
          "heatmap": [
           {
            "type": "heatmap",
            "colorbar": {
             "outlinewidth": 0,
             "tickcolor": "rgb(237,237,237)",
             "ticklen": 6,
             "ticks": "inside"
            },
            "colorscale": [
             [
              0,
              "rgb(20,44,66)"
             ],
             [
              1,
              "rgb(90,179,244)"
             ]
            ]
           }
          ],
          "heatmapgl": [
           {
            "type": "heatmapgl",
            "colorbar": {
             "outlinewidth": 0,
             "tickcolor": "rgb(237,237,237)",
             "ticklen": 6,
             "ticks": "inside"
            },
            "colorscale": [
             [
              0,
              "rgb(20,44,66)"
             ],
             [
              1,
              "rgb(90,179,244)"
             ]
            ]
           }
          ],
          "contourcarpet": [
           {
            "type": "contourcarpet",
            "colorbar": {
             "outlinewidth": 0,
             "tickcolor": "rgb(237,237,237)",
             "ticklen": 6,
             "ticks": "inside"
            }
           }
          ],
          "contour": [
           {
            "type": "contour",
            "colorbar": {
             "outlinewidth": 0,
             "tickcolor": "rgb(237,237,237)",
             "ticklen": 6,
             "ticks": "inside"
            },
            "colorscale": [
             [
              0,
              "rgb(20,44,66)"
             ],
             [
              1,
              "rgb(90,179,244)"
             ]
            ]
           }
          ],
          "surface": [
           {
            "type": "surface",
            "colorbar": {
             "outlinewidth": 0,
             "tickcolor": "rgb(237,237,237)",
             "ticklen": 6,
             "ticks": "inside"
            },
            "colorscale": [
             [
              0,
              "rgb(20,44,66)"
             ],
             [
              1,
              "rgb(90,179,244)"
             ]
            ]
           }
          ],
          "mesh3d": [
           {
            "type": "mesh3d",
            "colorbar": {
             "outlinewidth": 0,
             "tickcolor": "rgb(237,237,237)",
             "ticklen": 6,
             "ticks": "inside"
            }
           }
          ],
          "scatter": [
           {
            "fillpattern": {
             "fillmode": "overlay",
             "size": 10,
             "solidity": 0.2
            },
            "type": "scatter"
           }
          ],
          "parcoords": [
           {
            "type": "parcoords",
            "line": {
             "colorbar": {
              "outlinewidth": 0,
              "tickcolor": "rgb(237,237,237)",
              "ticklen": 6,
              "ticks": "inside"
             }
            }
           }
          ],
          "scatterpolargl": [
           {
            "type": "scatterpolargl",
            "marker": {
             "colorbar": {
              "outlinewidth": 0,
              "tickcolor": "rgb(237,237,237)",
              "ticklen": 6,
              "ticks": "inside"
             }
            }
           }
          ],
          "bar": [
           {
            "error_x": {
             "color": "rgb(51,51,51)"
            },
            "error_y": {
             "color": "rgb(51,51,51)"
            },
            "marker": {
             "line": {
              "color": "rgb(237,237,237)",
              "width": 0.5
             },
             "pattern": {
              "fillmode": "overlay",
              "size": 10,
              "solidity": 0.2
             }
            },
            "type": "bar"
           }
          ],
          "scattergeo": [
           {
            "type": "scattergeo",
            "marker": {
             "colorbar": {
              "outlinewidth": 0,
              "tickcolor": "rgb(237,237,237)",
              "ticklen": 6,
              "ticks": "inside"
             }
            }
           }
          ],
          "scatterpolar": [
           {
            "type": "scatterpolar",
            "marker": {
             "colorbar": {
              "outlinewidth": 0,
              "tickcolor": "rgb(237,237,237)",
              "ticklen": 6,
              "ticks": "inside"
             }
            }
           }
          ],
          "histogram": [
           {
            "marker": {
             "pattern": {
              "fillmode": "overlay",
              "size": 10,
              "solidity": 0.2
             }
            },
            "type": "histogram"
           }
          ],
          "scattergl": [
           {
            "type": "scattergl",
            "marker": {
             "colorbar": {
              "outlinewidth": 0,
              "tickcolor": "rgb(237,237,237)",
              "ticklen": 6,
              "ticks": "inside"
             }
            }
           }
          ],
          "scatter3d": [
           {
            "type": "scatter3d",
            "line": {
             "colorbar": {
              "outlinewidth": 0,
              "tickcolor": "rgb(237,237,237)",
              "ticklen": 6,
              "ticks": "inside"
             }
            },
            "marker": {
             "colorbar": {
              "outlinewidth": 0,
              "tickcolor": "rgb(237,237,237)",
              "ticklen": 6,
              "ticks": "inside"
             }
            }
           }
          ],
          "scattermapbox": [
           {
            "type": "scattermapbox",
            "marker": {
             "colorbar": {
              "outlinewidth": 0,
              "tickcolor": "rgb(237,237,237)",
              "ticklen": 6,
              "ticks": "inside"
             }
            }
           }
          ],
          "scatterternary": [
           {
            "type": "scatterternary",
            "marker": {
             "colorbar": {
              "outlinewidth": 0,
              "tickcolor": "rgb(237,237,237)",
              "ticklen": 6,
              "ticks": "inside"
             }
            }
           }
          ],
          "scattercarpet": [
           {
            "type": "scattercarpet",
            "marker": {
             "colorbar": {
              "outlinewidth": 0,
              "tickcolor": "rgb(237,237,237)",
              "ticklen": 6,
              "ticks": "inside"
             }
            }
           }
          ],
          "carpet": [
           {
            "aaxis": {
             "endlinecolor": "rgb(51,51,51)",
             "gridcolor": "white",
             "linecolor": "white",
             "minorgridcolor": "white",
             "startlinecolor": "rgb(51,51,51)"
            },
            "baxis": {
             "endlinecolor": "rgb(51,51,51)",
             "gridcolor": "white",
             "linecolor": "white",
             "minorgridcolor": "white",
             "startlinecolor": "rgb(51,51,51)"
            },
            "type": "carpet"
           }
          ],
          "table": [
           {
            "cells": {
             "fill": {
              "color": "rgb(237,237,237)"
             },
             "line": {
              "color": "white"
             }
            },
            "header": {
             "fill": {
              "color": "rgb(217,217,217)"
             },
             "line": {
              "color": "white"
             }
            },
            "type": "table"
           }
          ],
          "barpolar": [
           {
            "marker": {
             "line": {
              "color": "rgb(237,237,237)",
              "width": 0.5
             },
             "pattern": {
              "fillmode": "overlay",
              "size": 10,
              "solidity": 0.2
             }
            },
            "type": "barpolar"
           }
          ],
          "pie": [
           {
            "automargin": true,
            "type": "pie"
           }
          ]
         },
         "layout": {
          "autotypenumbers": "strict",
          "colorway": [
           "#F8766D",
           "#A3A500",
           "#00BF7D",
           "#00B0F6",
           "#E76BF3"
          ],
          "font": {
           "color": "rgb(51,51,51)"
          },
          "hovermode": "closest",
          "hoverlabel": {
           "align": "left"
          },
          "paper_bgcolor": "white",
          "plot_bgcolor": "rgb(237,237,237)",
          "polar": {
           "bgcolor": "rgb(237,237,237)",
           "angularaxis": {
            "gridcolor": "white",
            "linecolor": "white",
            "showgrid": true,
            "tickcolor": "rgb(51,51,51)",
            "ticks": "outside"
           },
           "radialaxis": {
            "gridcolor": "white",
            "linecolor": "white",
            "showgrid": true,
            "tickcolor": "rgb(51,51,51)",
            "ticks": "outside"
           }
          },
          "ternary": {
           "bgcolor": "rgb(237,237,237)",
           "aaxis": {
            "gridcolor": "white",
            "linecolor": "white",
            "showgrid": true,
            "tickcolor": "rgb(51,51,51)",
            "ticks": "outside"
           },
           "baxis": {
            "gridcolor": "white",
            "linecolor": "white",
            "showgrid": true,
            "tickcolor": "rgb(51,51,51)",
            "ticks": "outside"
           },
           "caxis": {
            "gridcolor": "white",
            "linecolor": "white",
            "showgrid": true,
            "tickcolor": "rgb(51,51,51)",
            "ticks": "outside"
           }
          },
          "coloraxis": {
           "colorbar": {
            "outlinewidth": 0,
            "tickcolor": "rgb(237,237,237)",
            "ticklen": 6,
            "ticks": "inside"
           }
          },
          "colorscale": {
           "sequential": [
            [
             0,
             "rgb(20,44,66)"
            ],
            [
             1,
             "rgb(90,179,244)"
            ]
           ],
           "sequentialminus": [
            [
             0,
             "rgb(20,44,66)"
            ],
            [
             1,
             "rgb(90,179,244)"
            ]
           ]
          },
          "xaxis": {
           "gridcolor": "white",
           "linecolor": "white",
           "showgrid": true,
           "tickcolor": "rgb(51,51,51)",
           "ticks": "outside",
           "title": {
            "standoff": 15
           },
           "zerolinecolor": "white",
           "automargin": true
          },
          "yaxis": {
           "gridcolor": "white",
           "linecolor": "white",
           "showgrid": true,
           "tickcolor": "rgb(51,51,51)",
           "ticks": "outside",
           "title": {
            "standoff": 15
           },
           "zerolinecolor": "white",
           "automargin": true
          },
          "scene": {
           "xaxis": {
            "backgroundcolor": "rgb(237,237,237)",
            "gridcolor": "white",
            "linecolor": "white",
            "showbackground": true,
            "showgrid": true,
            "tickcolor": "rgb(51,51,51)",
            "ticks": "outside",
            "zerolinecolor": "white",
            "gridwidth": 2
           },
           "yaxis": {
            "backgroundcolor": "rgb(237,237,237)",
            "gridcolor": "white",
            "linecolor": "white",
            "showbackground": true,
            "showgrid": true,
            "tickcolor": "rgb(51,51,51)",
            "ticks": "outside",
            "zerolinecolor": "white",
            "gridwidth": 2
           },
           "zaxis": {
            "backgroundcolor": "rgb(237,237,237)",
            "gridcolor": "white",
            "linecolor": "white",
            "showbackground": true,
            "showgrid": true,
            "tickcolor": "rgb(51,51,51)",
            "ticks": "outside",
            "zerolinecolor": "white",
            "gridwidth": 2
           }
          },
          "shapedefaults": {
           "fillcolor": "black",
           "line": {
            "width": 0
           },
           "opacity": 0.3
          },
          "annotationdefaults": {
           "arrowhead": 0,
           "arrowwidth": 1
          },
          "geo": {
           "bgcolor": "white",
           "landcolor": "rgb(237,237,237)",
           "subunitcolor": "white",
           "showland": true,
           "showlakes": true,
           "lakecolor": "white"
          }
         }
        },
        "xaxis": {
         "anchor": "y",
         "domain": [
          0.0,
          1.0
         ],
         "title": {
          "text": "x"
         }
        },
        "yaxis": {
         "anchor": "x",
         "domain": [
          0.0,
          1.0
         ],
         "title": {
          "text": "y"
         }
        },
        "legend": {
         "tracegroupgap": 0
        },
        "margin": {
         "t": 60
        }
       },
       "config": {
        "plotlyServerURL": "https://plot.ly"
       }
      },
      "text/html": "<div>                            <div id=\"82f8b161-6680-487e-bcb8-d9d84f217a37\" class=\"plotly-graph-div\" style=\"height:525px; width:100%;\"></div>            <script type=\"text/javascript\">                require([\"plotly\"], function(Plotly) {                    window.PLOTLYENV=window.PLOTLYENV || {};                                    if (document.getElementById(\"82f8b161-6680-487e-bcb8-d9d84f217a37\")) {                    Plotly.newPlot(                        \"82f8b161-6680-487e-bcb8-d9d84f217a37\",                        [{\"hovertemplate\":\"x=%{x}<br>y=%{y}<extra></extra>\",\"legendgroup\":\"\",\"marker\":{\"color\":\"black\",\"symbol\":\"x-thin\",\"line\":{\"width\":2},\"size\":12},\"mode\":\"markers\",\"name\":\"\",\"orientation\":\"v\",\"showlegend\":false,\"x\":[-1.0394143658102333,1.2742162742793608,-0.18497847729148165],\"xaxis\":\"x\",\"y\":[-1.211908669805686,0.052725731687348835,1.0944503625597852],\"yaxis\":\"y\",\"type\":\"scatter\"},{\"marker\":{\"color\":[0,1,2,1,0,1,2,1,1,2,2,0,0,2,2,0,0,2,0,0,2,0,0,2,2,2,1,0,0,0,0,1,1,0,2,2,2,2,1,1,0,2,1,2,2,1,0,0,0,1,2,1,2,0,0,0,2,2,1,2,0,1,0,1,0,0,1,0,1,1,1,0,0,2,1,0,1,0,1,1,2,1,2,0,2,2,2,1,2,1,1,1,2,1,2,2,2,1,0,2]},\"mode\":\"markers\",\"x\":[-1.3501115777186532,1.6256978651283616,-0.322409758322535,1.862026871389091,-0.8670155057166598,0.9021839434181248,-0.0012746340948291913,1.211338377581949,1.3383704318412721,-0.5957323683989515,-0.35245167478755324,-0.919283193279782,-0.8011816210668095,-0.5778220788567525,0.1620337933047887,-1.4399861758629438,-0.8995392027784538,-0.1630071009910234,-1.3649759458915662,-0.820714289336833,-0.31998072742604916,-1.0414273449221692,-1.1895801672342343,0.01080984507536227,-0.14849550984647855,-0.31886624351501824,0.7318045129733591,-0.7595824968410246,-1.4014009167688386,-1.5065836608915097,-1.283229033588135,1.4181963245464855,1.222291396758236,-0.5458521471076764,0.49921425479781073,-0.3750130750911847,-0.10704539071533756,-0.00415395036308959,1.6665587054892235,1.3362381452667227,-1.5630187416928942,-0.32629987451383735,1.2855164533858383,-0.666795237052805,-0.18050814301585796,0.8734017018990585,-1.655185369774067,-0.9410517370420476,-1.0052913831032944,0.9751920004308424,0.24879134437380931,1.3014883217472895,0.19173518056659458,-0.9062800368979645,-0.6808193501691581,-1.1001253123183428,-0.5403224491222602,-0.03708877754745408,1.8921455467193389,-0.8259041336946802,-0.8929693483378709,1.0178798632312702,-1.1089184448996177,0.5299162419156661,-1.1166461452392429,-0.9246436909924567,1.3235928421462304,-1.3672446776121876,1.0869777595352426,1.40272790907562,1.1619922508050697,-0.9100458647836241,-1.4882768901646917,0.0036802697771865277,1.339402658144787,-0.6241447179015802,1.6166801692942445,-0.9871612291983145,2.0558905993560965,0.6775455113958233,0.010906265098149324,0.9853146024745343,0.195753326767107,-0.2622387229559639,-0.1395405605210567,-0.05036296964769472,0.4536695041709945,0.9307033784314067,-0.7270873204216184,1.1421829807994996,1.3343477171304972,1.757765555149107,-0.4982896855544056,1.534796042629382,-0.3754413642970292,-0.40560642266043395,0.27935384588186424,1.2347540968498825,-0.5761491296490837,-0.47069488455758823],\"y\":[-1.7341845982974609,-0.3027612390366807,1.305928537362038,-0.35471921708024956,-1.1034595202156872,-0.10081847527004995,1.4375003108633084,0.17977948435173305,0.3656066825244176,1.255223944003838,1.1747662699411612,-0.8766626178561585,-1.1836207448077019,0.7775671159908919,1.1931339854374836,-1.1272563292493758,-1.022508573560436,1.4460049933027956,-1.2271532267701606,-1.2959965083398182,0.9995381284094634,-1.1701995660626088,-1.0136308055877359,1.6084253590179995,1.6165104918928686,1.462289256287385,-0.05655887785896221,-1.534331533242813,-1.0346934041166835,-1.6751148554981856,-1.2032906356333275,0.15059042054470576,0.16289480165490489,-1.5232477524302266,1.3742615176899766,1.0524226885032901,0.7081198768320536,1.0240445871183765,0.1711612478885114,-0.5327021071705866,-1.5588440725227828,1.0846436210109458,-0.28386460887050446,1.2008805646764928,1.0495632753179212,0.21517437952197355,-1.217760941564076,-1.1567789636616244,-0.8321784850113668,-0.08120640814512295,0.3210158412093799,-2.1119669775595644e-05,1.5531825947363869,-1.0362922938536872,-0.6974847910852533,-1.0569015731439448,1.236550839514848,0.5596689675841706,-0.08622428927450829,0.9701969841682526,-1.490936835343827,-0.028303952090549037,-1.502904732439404,0.06320638770739453,-0.44728433638525017,-1.6524102442902342,0.8197719678480232,-1.521767280936951,0.2272304771526024,0.0486412126197741,-0.17252590288875522,-1.168590191938034,-1.0743580373254245,0.6053226303803377,-0.08172864469369406,-1.1484335777577144,-0.20507362245637645,-1.6211818445052886,0.12431239590381611,0.09209752110355397,0.9450266417970882,-0.026602080821926426,0.7700806290114443,-1.129881624287376,0.8196519935599496,0.5455724111118451,1.0724531145843286,0.5422438972677104,0.9223200191376889,-0.3734571068220321,-0.01959657973582777,0.29975412150807645,0.7119013995865029,0.7368799625486439,1.7039143921646738,1.3269309859721918,1.424049441933019,0.19404268573492311,-0.9536456058670203,1.0470992794820768],\"type\":\"scatter\"}],                        {\"template\":{\"data\":{\"histogram2dcontour\":[{\"type\":\"histogram2dcontour\",\"colorbar\":{\"outlinewidth\":0,\"tickcolor\":\"rgb(237,237,237)\",\"ticklen\":6,\"ticks\":\"inside\"},\"colorscale\":[[0,\"rgb(20,44,66)\"],[1,\"rgb(90,179,244)\"]]}],\"choropleth\":[{\"type\":\"choropleth\",\"colorbar\":{\"outlinewidth\":0,\"tickcolor\":\"rgb(237,237,237)\",\"ticklen\":6,\"ticks\":\"inside\"}}],\"histogram2d\":[{\"type\":\"histogram2d\",\"colorbar\":{\"outlinewidth\":0,\"tickcolor\":\"rgb(237,237,237)\",\"ticklen\":6,\"ticks\":\"inside\"},\"colorscale\":[[0,\"rgb(20,44,66)\"],[1,\"rgb(90,179,244)\"]]}],\"heatmap\":[{\"type\":\"heatmap\",\"colorbar\":{\"outlinewidth\":0,\"tickcolor\":\"rgb(237,237,237)\",\"ticklen\":6,\"ticks\":\"inside\"},\"colorscale\":[[0,\"rgb(20,44,66)\"],[1,\"rgb(90,179,244)\"]]}],\"heatmapgl\":[{\"type\":\"heatmapgl\",\"colorbar\":{\"outlinewidth\":0,\"tickcolor\":\"rgb(237,237,237)\",\"ticklen\":6,\"ticks\":\"inside\"},\"colorscale\":[[0,\"rgb(20,44,66)\"],[1,\"rgb(90,179,244)\"]]}],\"contourcarpet\":[{\"type\":\"contourcarpet\",\"colorbar\":{\"outlinewidth\":0,\"tickcolor\":\"rgb(237,237,237)\",\"ticklen\":6,\"ticks\":\"inside\"}}],\"contour\":[{\"type\":\"contour\",\"colorbar\":{\"outlinewidth\":0,\"tickcolor\":\"rgb(237,237,237)\",\"ticklen\":6,\"ticks\":\"inside\"},\"colorscale\":[[0,\"rgb(20,44,66)\"],[1,\"rgb(90,179,244)\"]]}],\"surface\":[{\"type\":\"surface\",\"colorbar\":{\"outlinewidth\":0,\"tickcolor\":\"rgb(237,237,237)\",\"ticklen\":6,\"ticks\":\"inside\"},\"colorscale\":[[0,\"rgb(20,44,66)\"],[1,\"rgb(90,179,244)\"]]}],\"mesh3d\":[{\"type\":\"mesh3d\",\"colorbar\":{\"outlinewidth\":0,\"tickcolor\":\"rgb(237,237,237)\",\"ticklen\":6,\"ticks\":\"inside\"}}],\"scatter\":[{\"fillpattern\":{\"fillmode\":\"overlay\",\"size\":10,\"solidity\":0.2},\"type\":\"scatter\"}],\"parcoords\":[{\"type\":\"parcoords\",\"line\":{\"colorbar\":{\"outlinewidth\":0,\"tickcolor\":\"rgb(237,237,237)\",\"ticklen\":6,\"ticks\":\"inside\"}}}],\"scatterpolargl\":[{\"type\":\"scatterpolargl\",\"marker\":{\"colorbar\":{\"outlinewidth\":0,\"tickcolor\":\"rgb(237,237,237)\",\"ticklen\":6,\"ticks\":\"inside\"}}}],\"bar\":[{\"error_x\":{\"color\":\"rgb(51,51,51)\"},\"error_y\":{\"color\":\"rgb(51,51,51)\"},\"marker\":{\"line\":{\"color\":\"rgb(237,237,237)\",\"width\":0.5},\"pattern\":{\"fillmode\":\"overlay\",\"size\":10,\"solidity\":0.2}},\"type\":\"bar\"}],\"scattergeo\":[{\"type\":\"scattergeo\",\"marker\":{\"colorbar\":{\"outlinewidth\":0,\"tickcolor\":\"rgb(237,237,237)\",\"ticklen\":6,\"ticks\":\"inside\"}}}],\"scatterpolar\":[{\"type\":\"scatterpolar\",\"marker\":{\"colorbar\":{\"outlinewidth\":0,\"tickcolor\":\"rgb(237,237,237)\",\"ticklen\":6,\"ticks\":\"inside\"}}}],\"histogram\":[{\"marker\":{\"pattern\":{\"fillmode\":\"overlay\",\"size\":10,\"solidity\":0.2}},\"type\":\"histogram\"}],\"scattergl\":[{\"type\":\"scattergl\",\"marker\":{\"colorbar\":{\"outlinewidth\":0,\"tickcolor\":\"rgb(237,237,237)\",\"ticklen\":6,\"ticks\":\"inside\"}}}],\"scatter3d\":[{\"type\":\"scatter3d\",\"line\":{\"colorbar\":{\"outlinewidth\":0,\"tickcolor\":\"rgb(237,237,237)\",\"ticklen\":6,\"ticks\":\"inside\"}},\"marker\":{\"colorbar\":{\"outlinewidth\":0,\"tickcolor\":\"rgb(237,237,237)\",\"ticklen\":6,\"ticks\":\"inside\"}}}],\"scattermapbox\":[{\"type\":\"scattermapbox\",\"marker\":{\"colorbar\":{\"outlinewidth\":0,\"tickcolor\":\"rgb(237,237,237)\",\"ticklen\":6,\"ticks\":\"inside\"}}}],\"scatterternary\":[{\"type\":\"scatterternary\",\"marker\":{\"colorbar\":{\"outlinewidth\":0,\"tickcolor\":\"rgb(237,237,237)\",\"ticklen\":6,\"ticks\":\"inside\"}}}],\"scattercarpet\":[{\"type\":\"scattercarpet\",\"marker\":{\"colorbar\":{\"outlinewidth\":0,\"tickcolor\":\"rgb(237,237,237)\",\"ticklen\":6,\"ticks\":\"inside\"}}}],\"carpet\":[{\"aaxis\":{\"endlinecolor\":\"rgb(51,51,51)\",\"gridcolor\":\"white\",\"linecolor\":\"white\",\"minorgridcolor\":\"white\",\"startlinecolor\":\"rgb(51,51,51)\"},\"baxis\":{\"endlinecolor\":\"rgb(51,51,51)\",\"gridcolor\":\"white\",\"linecolor\":\"white\",\"minorgridcolor\":\"white\",\"startlinecolor\":\"rgb(51,51,51)\"},\"type\":\"carpet\"}],\"table\":[{\"cells\":{\"fill\":{\"color\":\"rgb(237,237,237)\"},\"line\":{\"color\":\"white\"}},\"header\":{\"fill\":{\"color\":\"rgb(217,217,217)\"},\"line\":{\"color\":\"white\"}},\"type\":\"table\"}],\"barpolar\":[{\"marker\":{\"line\":{\"color\":\"rgb(237,237,237)\",\"width\":0.5},\"pattern\":{\"fillmode\":\"overlay\",\"size\":10,\"solidity\":0.2}},\"type\":\"barpolar\"}],\"pie\":[{\"automargin\":true,\"type\":\"pie\"}]},\"layout\":{\"autotypenumbers\":\"strict\",\"colorway\":[\"#F8766D\",\"#A3A500\",\"#00BF7D\",\"#00B0F6\",\"#E76BF3\"],\"font\":{\"color\":\"rgb(51,51,51)\"},\"hovermode\":\"closest\",\"hoverlabel\":{\"align\":\"left\"},\"paper_bgcolor\":\"white\",\"plot_bgcolor\":\"rgb(237,237,237)\",\"polar\":{\"bgcolor\":\"rgb(237,237,237)\",\"angularaxis\":{\"gridcolor\":\"white\",\"linecolor\":\"white\",\"showgrid\":true,\"tickcolor\":\"rgb(51,51,51)\",\"ticks\":\"outside\"},\"radialaxis\":{\"gridcolor\":\"white\",\"linecolor\":\"white\",\"showgrid\":true,\"tickcolor\":\"rgb(51,51,51)\",\"ticks\":\"outside\"}},\"ternary\":{\"bgcolor\":\"rgb(237,237,237)\",\"aaxis\":{\"gridcolor\":\"white\",\"linecolor\":\"white\",\"showgrid\":true,\"tickcolor\":\"rgb(51,51,51)\",\"ticks\":\"outside\"},\"baxis\":{\"gridcolor\":\"white\",\"linecolor\":\"white\",\"showgrid\":true,\"tickcolor\":\"rgb(51,51,51)\",\"ticks\":\"outside\"},\"caxis\":{\"gridcolor\":\"white\",\"linecolor\":\"white\",\"showgrid\":true,\"tickcolor\":\"rgb(51,51,51)\",\"ticks\":\"outside\"}},\"coloraxis\":{\"colorbar\":{\"outlinewidth\":0,\"tickcolor\":\"rgb(237,237,237)\",\"ticklen\":6,\"ticks\":\"inside\"}},\"colorscale\":{\"sequential\":[[0,\"rgb(20,44,66)\"],[1,\"rgb(90,179,244)\"]],\"sequentialminus\":[[0,\"rgb(20,44,66)\"],[1,\"rgb(90,179,244)\"]]},\"xaxis\":{\"gridcolor\":\"white\",\"linecolor\":\"white\",\"showgrid\":true,\"tickcolor\":\"rgb(51,51,51)\",\"ticks\":\"outside\",\"title\":{\"standoff\":15},\"zerolinecolor\":\"white\",\"automargin\":true},\"yaxis\":{\"gridcolor\":\"white\",\"linecolor\":\"white\",\"showgrid\":true,\"tickcolor\":\"rgb(51,51,51)\",\"ticks\":\"outside\",\"title\":{\"standoff\":15},\"zerolinecolor\":\"white\",\"automargin\":true},\"scene\":{\"xaxis\":{\"backgroundcolor\":\"rgb(237,237,237)\",\"gridcolor\":\"white\",\"linecolor\":\"white\",\"showbackground\":true,\"showgrid\":true,\"tickcolor\":\"rgb(51,51,51)\",\"ticks\":\"outside\",\"zerolinecolor\":\"white\",\"gridwidth\":2},\"yaxis\":{\"backgroundcolor\":\"rgb(237,237,237)\",\"gridcolor\":\"white\",\"linecolor\":\"white\",\"showbackground\":true,\"showgrid\":true,\"tickcolor\":\"rgb(51,51,51)\",\"ticks\":\"outside\",\"zerolinecolor\":\"white\",\"gridwidth\":2},\"zaxis\":{\"backgroundcolor\":\"rgb(237,237,237)\",\"gridcolor\":\"white\",\"linecolor\":\"white\",\"showbackground\":true,\"showgrid\":true,\"tickcolor\":\"rgb(51,51,51)\",\"ticks\":\"outside\",\"zerolinecolor\":\"white\",\"gridwidth\":2}},\"shapedefaults\":{\"fillcolor\":\"black\",\"line\":{\"width\":0},\"opacity\":0.3},\"annotationdefaults\":{\"arrowhead\":0,\"arrowwidth\":1},\"geo\":{\"bgcolor\":\"white\",\"landcolor\":\"rgb(237,237,237)\",\"subunitcolor\":\"white\",\"showland\":true,\"showlakes\":true,\"lakecolor\":\"white\"}}},\"xaxis\":{\"anchor\":\"y\",\"domain\":[0.0,1.0],\"title\":{\"text\":\"x\"}},\"yaxis\":{\"anchor\":\"x\",\"domain\":[0.0,1.0],\"title\":{\"text\":\"y\"}},\"legend\":{\"tracegroupgap\":0},\"margin\":{\"t\":60}},                        {\"responsive\": true}                    ).then(function(){\n                            \nvar gd = document.getElementById('82f8b161-6680-487e-bcb8-d9d84f217a37');\nvar x = new MutationObserver(function (mutations, observer) {{\n        var display = window.getComputedStyle(gd).display;\n        if (!display || display === 'none') {{\n            console.log([gd, 'removed!']);\n            Plotly.purge(gd);\n            observer.disconnect();\n        }}\n}});\n\n// Listen for the removal of the full notebook cells\nvar notebookContainer = gd.closest('#notebook-container');\nif (notebookContainer) {{\n    x.observe(notebookContainer, {childList: true});\n}}\n\n// Listen for the clearing of the current output cell\nvar outputEl = gd.closest('.output');\nif (outputEl) {{\n    x.observe(outputEl, {childList: true});\n}}\n\n                        })                };                });            </script>        </div>"
     },
     "metadata": {},
     "output_type": "display_data"
    }
   ],
   "source": [
    "fig = px.scatter(x=kmeans.centroids[:, 0], y=kmeans.centroids[:, 1])\n",
    "fig.update_traces(mode='markers', marker_size=12, marker_color='black', marker_symbol='x-thin', marker_line_width=2)\n",
    "fig.add_scatter(x=x_train_scaled[:, 0], y=x_train_scaled[:, 1], marker_color=kmeans.labels, mode='markers')\n",
    "fig.show()"
   ],
   "metadata": {
    "collapsed": false
   }
  },
  {
   "cell_type": "code",
   "execution_count": 23,
   "outputs": [],
   "source": [
    "kmeans = RobustKMeans(n_clusters=n_clusters, max_iter=300)\n",
    "kmeans.fit(x_train_scaled, n=1000)"
   ],
   "metadata": {
    "collapsed": false
   }
  },
  {
   "cell_type": "code",
   "execution_count": 24,
   "outputs": [
    {
     "data": {
      "text/plain": "(20.713221582332622, 0.99)"
     },
     "execution_count": 24,
     "metadata": {},
     "output_type": "execute_result"
    }
   ],
   "source": [
    "kmeans.inertia, kmeans.score(true_labels)"
   ],
   "metadata": {
    "collapsed": false
   }
  },
  {
   "cell_type": "code",
   "execution_count": 25,
   "outputs": [
    {
     "data": {
      "application/vnd.plotly.v1+json": {
       "data": [
        {
         "hovertemplate": "x=%{x}<br>y=%{y}<extra></extra>",
         "legendgroup": "",
         "marker": {
          "color": "black",
          "symbol": "x-thin",
          "line": {
           "width": 2
          },
          "size": 12
         },
         "mode": "markers",
         "name": "",
         "orientation": "v",
         "showlegend": false,
         "x": [
          -0.18486851134180388,
          1.275003008222221,
          -1.0400274776084066
         ],
         "xaxis": "x",
         "y": [
          1.0951463528023528,
          0.052756981091970384,
          -1.2125073119142946
         ],
         "yaxis": "y",
         "type": "scatter"
        },
        {
         "marker": {
          "color": [
           2,
           1,
           0,
           1,
           2,
           1,
           0,
           1,
           1,
           0,
           0,
           2,
           2,
           0,
           0,
           2,
           2,
           0,
           2,
           2,
           0,
           2,
           2,
           0,
           0,
           0,
           1,
           2,
           2,
           2,
           2,
           1,
           1,
           2,
           0,
           0,
           0,
           0,
           1,
           1,
           2,
           0,
           1,
           0,
           0,
           1,
           2,
           2,
           2,
           1,
           0,
           1,
           0,
           2,
           2,
           2,
           0,
           0,
           1,
           0,
           2,
           1,
           2,
           1,
           2,
           2,
           1,
           2,
           1,
           1,
           1,
           2,
           2,
           0,
           1,
           2,
           1,
           2,
           1,
           1,
           0,
           1,
           0,
           2,
           0,
           0,
           0,
           1,
           0,
           1,
           1,
           1,
           0,
           1,
           0,
           0,
           0,
           1,
           2,
           0
          ]
         },
         "mode": "markers",
         "x": [
          -1.3501115777186532,
          1.6256978651283616,
          -0.322409758322535,
          1.862026871389091,
          -0.8670155057166598,
          0.9021839434181248,
          -0.0012746340948291913,
          1.211338377581949,
          1.3383704318412721,
          -0.5957323683989515,
          -0.35245167478755324,
          -0.919283193279782,
          -0.8011816210668095,
          -0.5778220788567525,
          0.1620337933047887,
          -1.4399861758629438,
          -0.8995392027784538,
          -0.1630071009910234,
          -1.3649759458915662,
          -0.820714289336833,
          -0.31998072742604916,
          -1.0414273449221692,
          -1.1895801672342343,
          0.01080984507536227,
          -0.14849550984647855,
          -0.31886624351501824,
          0.7318045129733591,
          -0.7595824968410246,
          -1.4014009167688386,
          -1.5065836608915097,
          -1.283229033588135,
          1.4181963245464855,
          1.222291396758236,
          -0.5458521471076764,
          0.49921425479781073,
          -0.3750130750911847,
          -0.10704539071533756,
          -0.00415395036308959,
          1.6665587054892235,
          1.3362381452667227,
          -1.5630187416928942,
          -0.32629987451383735,
          1.2855164533858383,
          -0.666795237052805,
          -0.18050814301585796,
          0.8734017018990585,
          -1.655185369774067,
          -0.9410517370420476,
          -1.0052913831032944,
          0.9751920004308424,
          0.24879134437380931,
          1.3014883217472895,
          0.19173518056659458,
          -0.9062800368979645,
          -0.6808193501691581,
          -1.1001253123183428,
          -0.5403224491222602,
          -0.03708877754745408,
          1.8921455467193389,
          -0.8259041336946802,
          -0.8929693483378709,
          1.0178798632312702,
          -1.1089184448996177,
          0.5299162419156661,
          -1.1166461452392429,
          -0.9246436909924567,
          1.3235928421462304,
          -1.3672446776121876,
          1.0869777595352426,
          1.40272790907562,
          1.1619922508050697,
          -0.9100458647836241,
          -1.4882768901646917,
          0.0036802697771865277,
          1.339402658144787,
          -0.6241447179015802,
          1.6166801692942445,
          -0.9871612291983145,
          2.0558905993560965,
          0.6775455113958233,
          0.010906265098149324,
          0.9853146024745343,
          0.195753326767107,
          -0.2622387229559639,
          -0.1395405605210567,
          -0.05036296964769472,
          0.4536695041709945,
          0.9307033784314067,
          -0.7270873204216184,
          1.1421829807994996,
          1.3343477171304972,
          1.757765555149107,
          -0.4982896855544056,
          1.534796042629382,
          -0.3754413642970292,
          -0.40560642266043395,
          0.27935384588186424,
          1.2347540968498825,
          -0.5761491296490837,
          -0.47069488455758823
         ],
         "y": [
          -1.7341845982974609,
          -0.3027612390366807,
          1.305928537362038,
          -0.35471921708024956,
          -1.1034595202156872,
          -0.10081847527004995,
          1.4375003108633084,
          0.17977948435173305,
          0.3656066825244176,
          1.255223944003838,
          1.1747662699411612,
          -0.8766626178561585,
          -1.1836207448077019,
          0.7775671159908919,
          1.1931339854374836,
          -1.1272563292493758,
          -1.022508573560436,
          1.4460049933027956,
          -1.2271532267701606,
          -1.2959965083398182,
          0.9995381284094634,
          -1.1701995660626088,
          -1.0136308055877359,
          1.6084253590179995,
          1.6165104918928686,
          1.462289256287385,
          -0.05655887785896221,
          -1.534331533242813,
          -1.0346934041166835,
          -1.6751148554981856,
          -1.2032906356333275,
          0.15059042054470576,
          0.16289480165490489,
          -1.5232477524302266,
          1.3742615176899766,
          1.0524226885032901,
          0.7081198768320536,
          1.0240445871183765,
          0.1711612478885114,
          -0.5327021071705866,
          -1.5588440725227828,
          1.0846436210109458,
          -0.28386460887050446,
          1.2008805646764928,
          1.0495632753179212,
          0.21517437952197355,
          -1.217760941564076,
          -1.1567789636616244,
          -0.8321784850113668,
          -0.08120640814512295,
          0.3210158412093799,
          -2.1119669775595644E-5,
          1.5531825947363869,
          -1.0362922938536872,
          -0.6974847910852533,
          -1.0569015731439448,
          1.236550839514848,
          0.5596689675841706,
          -0.08622428927450829,
          0.9701969841682526,
          -1.490936835343827,
          -0.028303952090549037,
          -1.502904732439404,
          0.06320638770739453,
          -0.44728433638525017,
          -1.6524102442902342,
          0.8197719678480232,
          -1.521767280936951,
          0.2272304771526024,
          0.0486412126197741,
          -0.17252590288875522,
          -1.168590191938034,
          -1.0743580373254245,
          0.6053226303803377,
          -0.08172864469369406,
          -1.1484335777577144,
          -0.20507362245637645,
          -1.6211818445052886,
          0.12431239590381611,
          0.09209752110355397,
          0.9450266417970882,
          -0.026602080821926426,
          0.7700806290114443,
          -1.129881624287376,
          0.8196519935599496,
          0.5455724111118451,
          1.0724531145843286,
          0.5422438972677104,
          0.9223200191376889,
          -0.3734571068220321,
          -0.01959657973582777,
          0.29975412150807645,
          0.7119013995865029,
          0.7368799625486439,
          1.7039143921646738,
          1.3269309859721918,
          1.424049441933019,
          0.19404268573492311,
          -0.9536456058670203,
          1.0470992794820768
         ],
         "type": "scatter"
        }
       ],
       "layout": {
        "template": {
         "data": {
          "histogram2dcontour": [
           {
            "type": "histogram2dcontour",
            "colorbar": {
             "outlinewidth": 0,
             "tickcolor": "rgb(237,237,237)",
             "ticklen": 6,
             "ticks": "inside"
            },
            "colorscale": [
             [
              0,
              "rgb(20,44,66)"
             ],
             [
              1,
              "rgb(90,179,244)"
             ]
            ]
           }
          ],
          "choropleth": [
           {
            "type": "choropleth",
            "colorbar": {
             "outlinewidth": 0,
             "tickcolor": "rgb(237,237,237)",
             "ticklen": 6,
             "ticks": "inside"
            }
           }
          ],
          "histogram2d": [
           {
            "type": "histogram2d",
            "colorbar": {
             "outlinewidth": 0,
             "tickcolor": "rgb(237,237,237)",
             "ticklen": 6,
             "ticks": "inside"
            },
            "colorscale": [
             [
              0,
              "rgb(20,44,66)"
             ],
             [
              1,
              "rgb(90,179,244)"
             ]
            ]
           }
          ],
          "heatmap": [
           {
            "type": "heatmap",
            "colorbar": {
             "outlinewidth": 0,
             "tickcolor": "rgb(237,237,237)",
             "ticklen": 6,
             "ticks": "inside"
            },
            "colorscale": [
             [
              0,
              "rgb(20,44,66)"
             ],
             [
              1,
              "rgb(90,179,244)"
             ]
            ]
           }
          ],
          "heatmapgl": [
           {
            "type": "heatmapgl",
            "colorbar": {
             "outlinewidth": 0,
             "tickcolor": "rgb(237,237,237)",
             "ticklen": 6,
             "ticks": "inside"
            },
            "colorscale": [
             [
              0,
              "rgb(20,44,66)"
             ],
             [
              1,
              "rgb(90,179,244)"
             ]
            ]
           }
          ],
          "contourcarpet": [
           {
            "type": "contourcarpet",
            "colorbar": {
             "outlinewidth": 0,
             "tickcolor": "rgb(237,237,237)",
             "ticklen": 6,
             "ticks": "inside"
            }
           }
          ],
          "contour": [
           {
            "type": "contour",
            "colorbar": {
             "outlinewidth": 0,
             "tickcolor": "rgb(237,237,237)",
             "ticklen": 6,
             "ticks": "inside"
            },
            "colorscale": [
             [
              0,
              "rgb(20,44,66)"
             ],
             [
              1,
              "rgb(90,179,244)"
             ]
            ]
           }
          ],
          "surface": [
           {
            "type": "surface",
            "colorbar": {
             "outlinewidth": 0,
             "tickcolor": "rgb(237,237,237)",
             "ticklen": 6,
             "ticks": "inside"
            },
            "colorscale": [
             [
              0,
              "rgb(20,44,66)"
             ],
             [
              1,
              "rgb(90,179,244)"
             ]
            ]
           }
          ],
          "mesh3d": [
           {
            "type": "mesh3d",
            "colorbar": {
             "outlinewidth": 0,
             "tickcolor": "rgb(237,237,237)",
             "ticklen": 6,
             "ticks": "inside"
            }
           }
          ],
          "scatter": [
           {
            "fillpattern": {
             "fillmode": "overlay",
             "size": 10,
             "solidity": 0.2
            },
            "type": "scatter"
           }
          ],
          "parcoords": [
           {
            "type": "parcoords",
            "line": {
             "colorbar": {
              "outlinewidth": 0,
              "tickcolor": "rgb(237,237,237)",
              "ticklen": 6,
              "ticks": "inside"
             }
            }
           }
          ],
          "scatterpolargl": [
           {
            "type": "scatterpolargl",
            "marker": {
             "colorbar": {
              "outlinewidth": 0,
              "tickcolor": "rgb(237,237,237)",
              "ticklen": 6,
              "ticks": "inside"
             }
            }
           }
          ],
          "bar": [
           {
            "error_x": {
             "color": "rgb(51,51,51)"
            },
            "error_y": {
             "color": "rgb(51,51,51)"
            },
            "marker": {
             "line": {
              "color": "rgb(237,237,237)",
              "width": 0.5
             },
             "pattern": {
              "fillmode": "overlay",
              "size": 10,
              "solidity": 0.2
             }
            },
            "type": "bar"
           }
          ],
          "scattergeo": [
           {
            "type": "scattergeo",
            "marker": {
             "colorbar": {
              "outlinewidth": 0,
              "tickcolor": "rgb(237,237,237)",
              "ticklen": 6,
              "ticks": "inside"
             }
            }
           }
          ],
          "scatterpolar": [
           {
            "type": "scatterpolar",
            "marker": {
             "colorbar": {
              "outlinewidth": 0,
              "tickcolor": "rgb(237,237,237)",
              "ticklen": 6,
              "ticks": "inside"
             }
            }
           }
          ],
          "histogram": [
           {
            "marker": {
             "pattern": {
              "fillmode": "overlay",
              "size": 10,
              "solidity": 0.2
             }
            },
            "type": "histogram"
           }
          ],
          "scattergl": [
           {
            "type": "scattergl",
            "marker": {
             "colorbar": {
              "outlinewidth": 0,
              "tickcolor": "rgb(237,237,237)",
              "ticklen": 6,
              "ticks": "inside"
             }
            }
           }
          ],
          "scatter3d": [
           {
            "type": "scatter3d",
            "line": {
             "colorbar": {
              "outlinewidth": 0,
              "tickcolor": "rgb(237,237,237)",
              "ticklen": 6,
              "ticks": "inside"
             }
            },
            "marker": {
             "colorbar": {
              "outlinewidth": 0,
              "tickcolor": "rgb(237,237,237)",
              "ticklen": 6,
              "ticks": "inside"
             }
            }
           }
          ],
          "scattermapbox": [
           {
            "type": "scattermapbox",
            "marker": {
             "colorbar": {
              "outlinewidth": 0,
              "tickcolor": "rgb(237,237,237)",
              "ticklen": 6,
              "ticks": "inside"
             }
            }
           }
          ],
          "scatterternary": [
           {
            "type": "scatterternary",
            "marker": {
             "colorbar": {
              "outlinewidth": 0,
              "tickcolor": "rgb(237,237,237)",
              "ticklen": 6,
              "ticks": "inside"
             }
            }
           }
          ],
          "scattercarpet": [
           {
            "type": "scattercarpet",
            "marker": {
             "colorbar": {
              "outlinewidth": 0,
              "tickcolor": "rgb(237,237,237)",
              "ticklen": 6,
              "ticks": "inside"
             }
            }
           }
          ],
          "carpet": [
           {
            "aaxis": {
             "endlinecolor": "rgb(51,51,51)",
             "gridcolor": "white",
             "linecolor": "white",
             "minorgridcolor": "white",
             "startlinecolor": "rgb(51,51,51)"
            },
            "baxis": {
             "endlinecolor": "rgb(51,51,51)",
             "gridcolor": "white",
             "linecolor": "white",
             "minorgridcolor": "white",
             "startlinecolor": "rgb(51,51,51)"
            },
            "type": "carpet"
           }
          ],
          "table": [
           {
            "cells": {
             "fill": {
              "color": "rgb(237,237,237)"
             },
             "line": {
              "color": "white"
             }
            },
            "header": {
             "fill": {
              "color": "rgb(217,217,217)"
             },
             "line": {
              "color": "white"
             }
            },
            "type": "table"
           }
          ],
          "barpolar": [
           {
            "marker": {
             "line": {
              "color": "rgb(237,237,237)",
              "width": 0.5
             },
             "pattern": {
              "fillmode": "overlay",
              "size": 10,
              "solidity": 0.2
             }
            },
            "type": "barpolar"
           }
          ],
          "pie": [
           {
            "automargin": true,
            "type": "pie"
           }
          ]
         },
         "layout": {
          "autotypenumbers": "strict",
          "colorway": [
           "#F8766D",
           "#A3A500",
           "#00BF7D",
           "#00B0F6",
           "#E76BF3"
          ],
          "font": {
           "color": "rgb(51,51,51)"
          },
          "hovermode": "closest",
          "hoverlabel": {
           "align": "left"
          },
          "paper_bgcolor": "white",
          "plot_bgcolor": "rgb(237,237,237)",
          "polar": {
           "bgcolor": "rgb(237,237,237)",
           "angularaxis": {
            "gridcolor": "white",
            "linecolor": "white",
            "showgrid": true,
            "tickcolor": "rgb(51,51,51)",
            "ticks": "outside"
           },
           "radialaxis": {
            "gridcolor": "white",
            "linecolor": "white",
            "showgrid": true,
            "tickcolor": "rgb(51,51,51)",
            "ticks": "outside"
           }
          },
          "ternary": {
           "bgcolor": "rgb(237,237,237)",
           "aaxis": {
            "gridcolor": "white",
            "linecolor": "white",
            "showgrid": true,
            "tickcolor": "rgb(51,51,51)",
            "ticks": "outside"
           },
           "baxis": {
            "gridcolor": "white",
            "linecolor": "white",
            "showgrid": true,
            "tickcolor": "rgb(51,51,51)",
            "ticks": "outside"
           },
           "caxis": {
            "gridcolor": "white",
            "linecolor": "white",
            "showgrid": true,
            "tickcolor": "rgb(51,51,51)",
            "ticks": "outside"
           }
          },
          "coloraxis": {
           "colorbar": {
            "outlinewidth": 0,
            "tickcolor": "rgb(237,237,237)",
            "ticklen": 6,
            "ticks": "inside"
           }
          },
          "colorscale": {
           "sequential": [
            [
             0,
             "rgb(20,44,66)"
            ],
            [
             1,
             "rgb(90,179,244)"
            ]
           ],
           "sequentialminus": [
            [
             0,
             "rgb(20,44,66)"
            ],
            [
             1,
             "rgb(90,179,244)"
            ]
           ]
          },
          "xaxis": {
           "gridcolor": "white",
           "linecolor": "white",
           "showgrid": true,
           "tickcolor": "rgb(51,51,51)",
           "ticks": "outside",
           "title": {
            "standoff": 15
           },
           "zerolinecolor": "white",
           "automargin": true
          },
          "yaxis": {
           "gridcolor": "white",
           "linecolor": "white",
           "showgrid": true,
           "tickcolor": "rgb(51,51,51)",
           "ticks": "outside",
           "title": {
            "standoff": 15
           },
           "zerolinecolor": "white",
           "automargin": true
          },
          "scene": {
           "xaxis": {
            "backgroundcolor": "rgb(237,237,237)",
            "gridcolor": "white",
            "linecolor": "white",
            "showbackground": true,
            "showgrid": true,
            "tickcolor": "rgb(51,51,51)",
            "ticks": "outside",
            "zerolinecolor": "white",
            "gridwidth": 2
           },
           "yaxis": {
            "backgroundcolor": "rgb(237,237,237)",
            "gridcolor": "white",
            "linecolor": "white",
            "showbackground": true,
            "showgrid": true,
            "tickcolor": "rgb(51,51,51)",
            "ticks": "outside",
            "zerolinecolor": "white",
            "gridwidth": 2
           },
           "zaxis": {
            "backgroundcolor": "rgb(237,237,237)",
            "gridcolor": "white",
            "linecolor": "white",
            "showbackground": true,
            "showgrid": true,
            "tickcolor": "rgb(51,51,51)",
            "ticks": "outside",
            "zerolinecolor": "white",
            "gridwidth": 2
           }
          },
          "shapedefaults": {
           "fillcolor": "black",
           "line": {
            "width": 0
           },
           "opacity": 0.3
          },
          "annotationdefaults": {
           "arrowhead": 0,
           "arrowwidth": 1
          },
          "geo": {
           "bgcolor": "white",
           "landcolor": "rgb(237,237,237)",
           "subunitcolor": "white",
           "showland": true,
           "showlakes": true,
           "lakecolor": "white"
          }
         }
        },
        "xaxis": {
         "anchor": "y",
         "domain": [
          0.0,
          1.0
         ],
         "title": {
          "text": "x"
         }
        },
        "yaxis": {
         "anchor": "x",
         "domain": [
          0.0,
          1.0
         ],
         "title": {
          "text": "y"
         }
        },
        "legend": {
         "tracegroupgap": 0
        },
        "margin": {
         "t": 60
        }
       },
       "config": {
        "plotlyServerURL": "https://plot.ly"
       }
      },
      "text/html": "<div>                            <div id=\"b102fce2-4d46-4a86-8c6e-cd55851ae5ad\" class=\"plotly-graph-div\" style=\"height:525px; width:100%;\"></div>            <script type=\"text/javascript\">                require([\"plotly\"], function(Plotly) {                    window.PLOTLYENV=window.PLOTLYENV || {};                                    if (document.getElementById(\"b102fce2-4d46-4a86-8c6e-cd55851ae5ad\")) {                    Plotly.newPlot(                        \"b102fce2-4d46-4a86-8c6e-cd55851ae5ad\",                        [{\"hovertemplate\":\"x=%{x}<br>y=%{y}<extra></extra>\",\"legendgroup\":\"\",\"marker\":{\"color\":\"black\",\"symbol\":\"x-thin\",\"line\":{\"width\":2},\"size\":12},\"mode\":\"markers\",\"name\":\"\",\"orientation\":\"v\",\"showlegend\":false,\"x\":[-0.18486851134180388,1.275003008222221,-1.0400274776084066],\"xaxis\":\"x\",\"y\":[1.0951463528023528,0.052756981091970384,-1.2125073119142946],\"yaxis\":\"y\",\"type\":\"scatter\"},{\"marker\":{\"color\":[2,1,0,1,2,1,0,1,1,0,0,2,2,0,0,2,2,0,2,2,0,2,2,0,0,0,1,2,2,2,2,1,1,2,0,0,0,0,1,1,2,0,1,0,0,1,2,2,2,1,0,1,0,2,2,2,0,0,1,0,2,1,2,1,2,2,1,2,1,1,1,2,2,0,1,2,1,2,1,1,0,1,0,2,0,0,0,1,0,1,1,1,0,1,0,0,0,1,2,0]},\"mode\":\"markers\",\"x\":[-1.3501115777186532,1.6256978651283616,-0.322409758322535,1.862026871389091,-0.8670155057166598,0.9021839434181248,-0.0012746340948291913,1.211338377581949,1.3383704318412721,-0.5957323683989515,-0.35245167478755324,-0.919283193279782,-0.8011816210668095,-0.5778220788567525,0.1620337933047887,-1.4399861758629438,-0.8995392027784538,-0.1630071009910234,-1.3649759458915662,-0.820714289336833,-0.31998072742604916,-1.0414273449221692,-1.1895801672342343,0.01080984507536227,-0.14849550984647855,-0.31886624351501824,0.7318045129733591,-0.7595824968410246,-1.4014009167688386,-1.5065836608915097,-1.283229033588135,1.4181963245464855,1.222291396758236,-0.5458521471076764,0.49921425479781073,-0.3750130750911847,-0.10704539071533756,-0.00415395036308959,1.6665587054892235,1.3362381452667227,-1.5630187416928942,-0.32629987451383735,1.2855164533858383,-0.666795237052805,-0.18050814301585796,0.8734017018990585,-1.655185369774067,-0.9410517370420476,-1.0052913831032944,0.9751920004308424,0.24879134437380931,1.3014883217472895,0.19173518056659458,-0.9062800368979645,-0.6808193501691581,-1.1001253123183428,-0.5403224491222602,-0.03708877754745408,1.8921455467193389,-0.8259041336946802,-0.8929693483378709,1.0178798632312702,-1.1089184448996177,0.5299162419156661,-1.1166461452392429,-0.9246436909924567,1.3235928421462304,-1.3672446776121876,1.0869777595352426,1.40272790907562,1.1619922508050697,-0.9100458647836241,-1.4882768901646917,0.0036802697771865277,1.339402658144787,-0.6241447179015802,1.6166801692942445,-0.9871612291983145,2.0558905993560965,0.6775455113958233,0.010906265098149324,0.9853146024745343,0.195753326767107,-0.2622387229559639,-0.1395405605210567,-0.05036296964769472,0.4536695041709945,0.9307033784314067,-0.7270873204216184,1.1421829807994996,1.3343477171304972,1.757765555149107,-0.4982896855544056,1.534796042629382,-0.3754413642970292,-0.40560642266043395,0.27935384588186424,1.2347540968498825,-0.5761491296490837,-0.47069488455758823],\"y\":[-1.7341845982974609,-0.3027612390366807,1.305928537362038,-0.35471921708024956,-1.1034595202156872,-0.10081847527004995,1.4375003108633084,0.17977948435173305,0.3656066825244176,1.255223944003838,1.1747662699411612,-0.8766626178561585,-1.1836207448077019,0.7775671159908919,1.1931339854374836,-1.1272563292493758,-1.022508573560436,1.4460049933027956,-1.2271532267701606,-1.2959965083398182,0.9995381284094634,-1.1701995660626088,-1.0136308055877359,1.6084253590179995,1.6165104918928686,1.462289256287385,-0.05655887785896221,-1.534331533242813,-1.0346934041166835,-1.6751148554981856,-1.2032906356333275,0.15059042054470576,0.16289480165490489,-1.5232477524302266,1.3742615176899766,1.0524226885032901,0.7081198768320536,1.0240445871183765,0.1711612478885114,-0.5327021071705866,-1.5588440725227828,1.0846436210109458,-0.28386460887050446,1.2008805646764928,1.0495632753179212,0.21517437952197355,-1.217760941564076,-1.1567789636616244,-0.8321784850113668,-0.08120640814512295,0.3210158412093799,-2.1119669775595644e-05,1.5531825947363869,-1.0362922938536872,-0.6974847910852533,-1.0569015731439448,1.236550839514848,0.5596689675841706,-0.08622428927450829,0.9701969841682526,-1.490936835343827,-0.028303952090549037,-1.502904732439404,0.06320638770739453,-0.44728433638525017,-1.6524102442902342,0.8197719678480232,-1.521767280936951,0.2272304771526024,0.0486412126197741,-0.17252590288875522,-1.168590191938034,-1.0743580373254245,0.6053226303803377,-0.08172864469369406,-1.1484335777577144,-0.20507362245637645,-1.6211818445052886,0.12431239590381611,0.09209752110355397,0.9450266417970882,-0.026602080821926426,0.7700806290114443,-1.129881624287376,0.8196519935599496,0.5455724111118451,1.0724531145843286,0.5422438972677104,0.9223200191376889,-0.3734571068220321,-0.01959657973582777,0.29975412150807645,0.7119013995865029,0.7368799625486439,1.7039143921646738,1.3269309859721918,1.424049441933019,0.19404268573492311,-0.9536456058670203,1.0470992794820768],\"type\":\"scatter\"}],                        {\"template\":{\"data\":{\"histogram2dcontour\":[{\"type\":\"histogram2dcontour\",\"colorbar\":{\"outlinewidth\":0,\"tickcolor\":\"rgb(237,237,237)\",\"ticklen\":6,\"ticks\":\"inside\"},\"colorscale\":[[0,\"rgb(20,44,66)\"],[1,\"rgb(90,179,244)\"]]}],\"choropleth\":[{\"type\":\"choropleth\",\"colorbar\":{\"outlinewidth\":0,\"tickcolor\":\"rgb(237,237,237)\",\"ticklen\":6,\"ticks\":\"inside\"}}],\"histogram2d\":[{\"type\":\"histogram2d\",\"colorbar\":{\"outlinewidth\":0,\"tickcolor\":\"rgb(237,237,237)\",\"ticklen\":6,\"ticks\":\"inside\"},\"colorscale\":[[0,\"rgb(20,44,66)\"],[1,\"rgb(90,179,244)\"]]}],\"heatmap\":[{\"type\":\"heatmap\",\"colorbar\":{\"outlinewidth\":0,\"tickcolor\":\"rgb(237,237,237)\",\"ticklen\":6,\"ticks\":\"inside\"},\"colorscale\":[[0,\"rgb(20,44,66)\"],[1,\"rgb(90,179,244)\"]]}],\"heatmapgl\":[{\"type\":\"heatmapgl\",\"colorbar\":{\"outlinewidth\":0,\"tickcolor\":\"rgb(237,237,237)\",\"ticklen\":6,\"ticks\":\"inside\"},\"colorscale\":[[0,\"rgb(20,44,66)\"],[1,\"rgb(90,179,244)\"]]}],\"contourcarpet\":[{\"type\":\"contourcarpet\",\"colorbar\":{\"outlinewidth\":0,\"tickcolor\":\"rgb(237,237,237)\",\"ticklen\":6,\"ticks\":\"inside\"}}],\"contour\":[{\"type\":\"contour\",\"colorbar\":{\"outlinewidth\":0,\"tickcolor\":\"rgb(237,237,237)\",\"ticklen\":6,\"ticks\":\"inside\"},\"colorscale\":[[0,\"rgb(20,44,66)\"],[1,\"rgb(90,179,244)\"]]}],\"surface\":[{\"type\":\"surface\",\"colorbar\":{\"outlinewidth\":0,\"tickcolor\":\"rgb(237,237,237)\",\"ticklen\":6,\"ticks\":\"inside\"},\"colorscale\":[[0,\"rgb(20,44,66)\"],[1,\"rgb(90,179,244)\"]]}],\"mesh3d\":[{\"type\":\"mesh3d\",\"colorbar\":{\"outlinewidth\":0,\"tickcolor\":\"rgb(237,237,237)\",\"ticklen\":6,\"ticks\":\"inside\"}}],\"scatter\":[{\"fillpattern\":{\"fillmode\":\"overlay\",\"size\":10,\"solidity\":0.2},\"type\":\"scatter\"}],\"parcoords\":[{\"type\":\"parcoords\",\"line\":{\"colorbar\":{\"outlinewidth\":0,\"tickcolor\":\"rgb(237,237,237)\",\"ticklen\":6,\"ticks\":\"inside\"}}}],\"scatterpolargl\":[{\"type\":\"scatterpolargl\",\"marker\":{\"colorbar\":{\"outlinewidth\":0,\"tickcolor\":\"rgb(237,237,237)\",\"ticklen\":6,\"ticks\":\"inside\"}}}],\"bar\":[{\"error_x\":{\"color\":\"rgb(51,51,51)\"},\"error_y\":{\"color\":\"rgb(51,51,51)\"},\"marker\":{\"line\":{\"color\":\"rgb(237,237,237)\",\"width\":0.5},\"pattern\":{\"fillmode\":\"overlay\",\"size\":10,\"solidity\":0.2}},\"type\":\"bar\"}],\"scattergeo\":[{\"type\":\"scattergeo\",\"marker\":{\"colorbar\":{\"outlinewidth\":0,\"tickcolor\":\"rgb(237,237,237)\",\"ticklen\":6,\"ticks\":\"inside\"}}}],\"scatterpolar\":[{\"type\":\"scatterpolar\",\"marker\":{\"colorbar\":{\"outlinewidth\":0,\"tickcolor\":\"rgb(237,237,237)\",\"ticklen\":6,\"ticks\":\"inside\"}}}],\"histogram\":[{\"marker\":{\"pattern\":{\"fillmode\":\"overlay\",\"size\":10,\"solidity\":0.2}},\"type\":\"histogram\"}],\"scattergl\":[{\"type\":\"scattergl\",\"marker\":{\"colorbar\":{\"outlinewidth\":0,\"tickcolor\":\"rgb(237,237,237)\",\"ticklen\":6,\"ticks\":\"inside\"}}}],\"scatter3d\":[{\"type\":\"scatter3d\",\"line\":{\"colorbar\":{\"outlinewidth\":0,\"tickcolor\":\"rgb(237,237,237)\",\"ticklen\":6,\"ticks\":\"inside\"}},\"marker\":{\"colorbar\":{\"outlinewidth\":0,\"tickcolor\":\"rgb(237,237,237)\",\"ticklen\":6,\"ticks\":\"inside\"}}}],\"scattermapbox\":[{\"type\":\"scattermapbox\",\"marker\":{\"colorbar\":{\"outlinewidth\":0,\"tickcolor\":\"rgb(237,237,237)\",\"ticklen\":6,\"ticks\":\"inside\"}}}],\"scatterternary\":[{\"type\":\"scatterternary\",\"marker\":{\"colorbar\":{\"outlinewidth\":0,\"tickcolor\":\"rgb(237,237,237)\",\"ticklen\":6,\"ticks\":\"inside\"}}}],\"scattercarpet\":[{\"type\":\"scattercarpet\",\"marker\":{\"colorbar\":{\"outlinewidth\":0,\"tickcolor\":\"rgb(237,237,237)\",\"ticklen\":6,\"ticks\":\"inside\"}}}],\"carpet\":[{\"aaxis\":{\"endlinecolor\":\"rgb(51,51,51)\",\"gridcolor\":\"white\",\"linecolor\":\"white\",\"minorgridcolor\":\"white\",\"startlinecolor\":\"rgb(51,51,51)\"},\"baxis\":{\"endlinecolor\":\"rgb(51,51,51)\",\"gridcolor\":\"white\",\"linecolor\":\"white\",\"minorgridcolor\":\"white\",\"startlinecolor\":\"rgb(51,51,51)\"},\"type\":\"carpet\"}],\"table\":[{\"cells\":{\"fill\":{\"color\":\"rgb(237,237,237)\"},\"line\":{\"color\":\"white\"}},\"header\":{\"fill\":{\"color\":\"rgb(217,217,217)\"},\"line\":{\"color\":\"white\"}},\"type\":\"table\"}],\"barpolar\":[{\"marker\":{\"line\":{\"color\":\"rgb(237,237,237)\",\"width\":0.5},\"pattern\":{\"fillmode\":\"overlay\",\"size\":10,\"solidity\":0.2}},\"type\":\"barpolar\"}],\"pie\":[{\"automargin\":true,\"type\":\"pie\"}]},\"layout\":{\"autotypenumbers\":\"strict\",\"colorway\":[\"#F8766D\",\"#A3A500\",\"#00BF7D\",\"#00B0F6\",\"#E76BF3\"],\"font\":{\"color\":\"rgb(51,51,51)\"},\"hovermode\":\"closest\",\"hoverlabel\":{\"align\":\"left\"},\"paper_bgcolor\":\"white\",\"plot_bgcolor\":\"rgb(237,237,237)\",\"polar\":{\"bgcolor\":\"rgb(237,237,237)\",\"angularaxis\":{\"gridcolor\":\"white\",\"linecolor\":\"white\",\"showgrid\":true,\"tickcolor\":\"rgb(51,51,51)\",\"ticks\":\"outside\"},\"radialaxis\":{\"gridcolor\":\"white\",\"linecolor\":\"white\",\"showgrid\":true,\"tickcolor\":\"rgb(51,51,51)\",\"ticks\":\"outside\"}},\"ternary\":{\"bgcolor\":\"rgb(237,237,237)\",\"aaxis\":{\"gridcolor\":\"white\",\"linecolor\":\"white\",\"showgrid\":true,\"tickcolor\":\"rgb(51,51,51)\",\"ticks\":\"outside\"},\"baxis\":{\"gridcolor\":\"white\",\"linecolor\":\"white\",\"showgrid\":true,\"tickcolor\":\"rgb(51,51,51)\",\"ticks\":\"outside\"},\"caxis\":{\"gridcolor\":\"white\",\"linecolor\":\"white\",\"showgrid\":true,\"tickcolor\":\"rgb(51,51,51)\",\"ticks\":\"outside\"}},\"coloraxis\":{\"colorbar\":{\"outlinewidth\":0,\"tickcolor\":\"rgb(237,237,237)\",\"ticklen\":6,\"ticks\":\"inside\"}},\"colorscale\":{\"sequential\":[[0,\"rgb(20,44,66)\"],[1,\"rgb(90,179,244)\"]],\"sequentialminus\":[[0,\"rgb(20,44,66)\"],[1,\"rgb(90,179,244)\"]]},\"xaxis\":{\"gridcolor\":\"white\",\"linecolor\":\"white\",\"showgrid\":true,\"tickcolor\":\"rgb(51,51,51)\",\"ticks\":\"outside\",\"title\":{\"standoff\":15},\"zerolinecolor\":\"white\",\"automargin\":true},\"yaxis\":{\"gridcolor\":\"white\",\"linecolor\":\"white\",\"showgrid\":true,\"tickcolor\":\"rgb(51,51,51)\",\"ticks\":\"outside\",\"title\":{\"standoff\":15},\"zerolinecolor\":\"white\",\"automargin\":true},\"scene\":{\"xaxis\":{\"backgroundcolor\":\"rgb(237,237,237)\",\"gridcolor\":\"white\",\"linecolor\":\"white\",\"showbackground\":true,\"showgrid\":true,\"tickcolor\":\"rgb(51,51,51)\",\"ticks\":\"outside\",\"zerolinecolor\":\"white\",\"gridwidth\":2},\"yaxis\":{\"backgroundcolor\":\"rgb(237,237,237)\",\"gridcolor\":\"white\",\"linecolor\":\"white\",\"showbackground\":true,\"showgrid\":true,\"tickcolor\":\"rgb(51,51,51)\",\"ticks\":\"outside\",\"zerolinecolor\":\"white\",\"gridwidth\":2},\"zaxis\":{\"backgroundcolor\":\"rgb(237,237,237)\",\"gridcolor\":\"white\",\"linecolor\":\"white\",\"showbackground\":true,\"showgrid\":true,\"tickcolor\":\"rgb(51,51,51)\",\"ticks\":\"outside\",\"zerolinecolor\":\"white\",\"gridwidth\":2}},\"shapedefaults\":{\"fillcolor\":\"black\",\"line\":{\"width\":0},\"opacity\":0.3},\"annotationdefaults\":{\"arrowhead\":0,\"arrowwidth\":1},\"geo\":{\"bgcolor\":\"white\",\"landcolor\":\"rgb(237,237,237)\",\"subunitcolor\":\"white\",\"showland\":true,\"showlakes\":true,\"lakecolor\":\"white\"}}},\"xaxis\":{\"anchor\":\"y\",\"domain\":[0.0,1.0],\"title\":{\"text\":\"x\"}},\"yaxis\":{\"anchor\":\"x\",\"domain\":[0.0,1.0],\"title\":{\"text\":\"y\"}},\"legend\":{\"tracegroupgap\":0},\"margin\":{\"t\":60}},                        {\"responsive\": true}                    ).then(function(){\n                            \nvar gd = document.getElementById('b102fce2-4d46-4a86-8c6e-cd55851ae5ad');\nvar x = new MutationObserver(function (mutations, observer) {{\n        var display = window.getComputedStyle(gd).display;\n        if (!display || display === 'none') {{\n            console.log([gd, 'removed!']);\n            Plotly.purge(gd);\n            observer.disconnect();\n        }}\n}});\n\n// Listen for the removal of the full notebook cells\nvar notebookContainer = gd.closest('#notebook-container');\nif (notebookContainer) {{\n    x.observe(notebookContainer, {childList: true});\n}}\n\n// Listen for the clearing of the current output cell\nvar outputEl = gd.closest('.output');\nif (outputEl) {{\n    x.observe(outputEl, {childList: true});\n}}\n\n                        })                };                });            </script>        </div>"
     },
     "metadata": {},
     "output_type": "display_data"
    }
   ],
   "source": [
    "fig = px.scatter(x=kmeans.centroids[:, 0], y=kmeans.centroids[:, 1])\n",
    "fig.update_traces(mode='markers', marker_size=12, marker_color='black', marker_symbol='x-thin', marker_line_width=2)\n",
    "fig.add_scatter(x=x_train_scaled[:, 0], y=x_train_scaled[:, 1], marker_color=kmeans.labels, mode='markers')\n",
    "fig.show()"
   ],
   "metadata": {
    "collapsed": false
   }
  },
  {
   "cell_type": "code",
   "execution_count": 26,
   "outputs": [],
   "source": [
    "noise, noise_labels = make_blobs(n_samples=2, centers=[[100, 1]])\n",
    "x_train = np.append(x_train, noise, axis=0)\n",
    "true_labels = np.append(true_labels, noise_labels)\n",
    "x_train_scaled = StandardScaler().fit_transform(x_train)"
   ],
   "metadata": {
    "collapsed": false
   }
  },
  {
   "cell_type": "code",
   "execution_count": 27,
   "outputs": [
    {
     "data": {
      "application/vnd.plotly.v1+json": {
       "data": [
        {
         "hovertemplate": "x=%{x}<br>y=%{y}<br>color=%{marker.color}<extra></extra>",
         "legendgroup": "",
         "marker": {
          "color": [
           2,
           1,
           0,
           1,
           2,
           1,
           0,
           1,
           1,
           0,
           0,
           2,
           2,
           0,
           0,
           2,
           2,
           0,
           2,
           2,
           0,
           2,
           2,
           0,
           0,
           0,
           1,
           2,
           2,
           2,
           2,
           1,
           1,
           2,
           0,
           0,
           0,
           0,
           1,
           1,
           2,
           0,
           1,
           0,
           0,
           1,
           2,
           2,
           2,
           1,
           1,
           1,
           0,
           2,
           2,
           2,
           0,
           0,
           1,
           0,
           2,
           1,
           2,
           1,
           2,
           2,
           1,
           2,
           1,
           1,
           1,
           2,
           2,
           0,
           1,
           2,
           1,
           2,
           1,
           1,
           0,
           1,
           0,
           2,
           0,
           0,
           0,
           1,
           0,
           1,
           1,
           1,
           0,
           1,
           0,
           0,
           0,
           1,
           2,
           0,
           0,
           0
          ],
          "coloraxis": "coloraxis",
          "symbol": "circle"
         },
         "mode": "markers",
         "name": "",
         "orientation": "v",
         "showlegend": false,
         "x": [
          -0.37874488852129934,
          0.14922447554129903,
          -0.19640959909717792,
          0.1911540673184018,
          -0.2930337800599958,
          0.020858330977173288,
          -0.13943367016993655,
          0.07570864082982538,
          0.0982467213726084,
          -0.24490261163628557,
          -0.20173964856300752,
          -0.30230713519033064,
          -0.28135350453163466,
          -0.2417249605260972,
          -0.11045942023350609,
          -0.3946904775581515,
          -0.298804148084049,
          -0.1681283125304248,
          -0.3813821309799216,
          -0.2848189987586789,
          -0.19597863941298557,
          -0.3239780019931792,
          -0.3502633380949914,
          -0.1372896367884141,
          -0.1655536599206825,
          -0.19578090720833136,
          -0.009370459296174595,
          -0.2739729703997058,
          -0.3878446646466181,
          -0.4065062313871537,
          -0.36687855938642877,
          0.11240946486030265,
          0.07765193010292384,
          -0.23605284177694244,
          -0.05063672081412118,
          -0.20574250170244576,
          -0.15819956233537133,
          -0.1399445196743437,
          0.15647402303912133,
          0.09786841019093306,
          -0.4165189671801492,
          -0.19709978514944299,
          0.08886934626535148,
          -0.25751061570785805,
          -0.17123335477380333,
          0.015751773570534002,
          -0.4328712091332682,
          -0.30616931938843456,
          -0.3175667444352864,
          0.03381145118623235,
          -0.0950668590009171,
          0.09170308187364339,
          -0.10518978760226144,
          -0.30000010971119023,
          -0.2599987797606272,
          -0.33439222007841907,
          -0.23507176043255862,
          -0.1457878305778149,
          0.19649773537441328,
          -0.2857397831293928,
          -0.2976385217435197,
          0.041385149774395585,
          -0.335952301362593,
          -0.045189561335198344,
          -0.33732335320994344,
          -0.30325819695109724,
          0.09562487518806079,
          -0.38178465031685166,
          0.05364452762446688,
          0.10966505207579466,
          0.0669536302440616,
          -0.300668244479947,
          -0.40325823641828534,
          -0.13855456903912064,
          0.09842985939790952,
          -0.24994354264565677,
          0.14762455215027243,
          -0.3143500848972982,
          0.2255494515442211,
          -0.018997114197220902,
          -0.13727252990738176,
          0.03560740750208892,
          -0.10447688641186618,
          -0.18573402867251956,
          -0.16396486904164273,
          -0.14814294332821462,
          -0.05871728964309308,
          0.025918261142923883,
          -0.26820766252003125,
          0.06343906122065698,
          0.09753300963519916,
          0.1726559807007017,
          -0.2276142898260126,
          0.13309663592701199,
          -0.20581848895364158,
          -0.2111703863069214,
          -0.08964444711760368,
          0.07986306759954868,
          -0.24142814517341896,
          -0.22271840861670203,
          6.858758823745558,
          7.0619935814799595
         ],
         "xaxis": "x",
         "y": [
          -1.746343902695137,
          -0.3017217565428969,
          1.321801334818714,
          -0.3541588257477714,
          -1.1098030707772657,
          -0.09791693045488237,
          1.4545862978268762,
          0.1852683508333145,
          0.3728090138390621,
          1.2706292074372476,
          1.1894296538412619,
          -0.880914932472396,
          -1.1907034414182134,
          0.7885680285805027,
          1.2079667333213076,
          -1.1338193040708007,
          -1.0281056962489104,
          1.4631693997572655,
          -1.2346373252081342,
          -1.3041153929830522,
          1.0125857786536192,
          -1.1771585094334218,
          -1.0191460686594969,
          1.6270874019194634,
          1.6352470857265315,
          1.479603815745456,
          -0.053249226671664145,
          -1.5446480438938344,
          -1.040402879995973,
          -1.6867294929796088,
          -1.210554703251589,
          0.15581014217109276,
          0.1682279788170383,
          -1.5334620623871273,
          1.390764395995321,
          1.0659579736836868,
          0.7184804342787031,
          1.0373182051196397,
          0.17657064782672371,
          -0.5337828503224875,
          -1.5693866069982945,
          1.098476007128575,
          -0.2826508854067683,
          1.2157847417764547,
          1.0630721945842616,
          0.22098961323472752,
          -1.2251584361541683,
          -1.1636141591070597,
          -0.8360206228719498,
          -0.07812402549968789,
          0.3278070118369919,
          0.003809851654456195,
          1.5713352583068998,
          -1.0420165126842953,
          -0.7000849530131029,
          -1.0628158248418935,
          1.2517839230511238,
          0.5686606973514826,
          -0.083188175221272,
          0.9829740872626181,
          -1.5008532146388227,
          -0.024733769494818536,
          -1.51293146463753,
          0.0676203636264238,
          -0.447577464226806,
          -1.6638155283872458,
          0.8311620405291219,
          -1.5319679398467227,
          0.2331568770429514,
          0.052920886802860216,
          -0.17028555383342409,
          -1.1755342956836856,
          -1.0804332505929317,
          0.6147353208383936,
          -0.07865107745724818,
          -1.15519182254466,
          -0.20313338755776683,
          -1.632299179554203,
          0.12928981461896466,
          0.09677789473803311,
          0.9575716556337278,
          -0.02301620570864273,
          0.7810125106287936,
          -1.1364688062795931,
          0.8310409599889738,
          0.5544341601550212,
          1.0861730951754005,
          0.5510749549402242,
          0.9346556610428401,
          -0.37306949275485246,
          -0.015946108697582322,
          0.3063492432830077,
          0.7222968254825444,
          0.7475057093537717,
          1.7234569148982017,
          1.342997441609455,
          1.4410114018913216,
          0.19966306953053242,
          -0.9586077608295466,
          1.060585478876111,
          -0.3819424457629135,
          -0.0011741605649459525
         ],
         "yaxis": "y",
         "type": "scatter"
        }
       ],
       "layout": {
        "template": {
         "data": {
          "histogram2dcontour": [
           {
            "type": "histogram2dcontour",
            "colorbar": {
             "outlinewidth": 0,
             "tickcolor": "rgb(237,237,237)",
             "ticklen": 6,
             "ticks": "inside"
            },
            "colorscale": [
             [
              0,
              "rgb(20,44,66)"
             ],
             [
              1,
              "rgb(90,179,244)"
             ]
            ]
           }
          ],
          "choropleth": [
           {
            "type": "choropleth",
            "colorbar": {
             "outlinewidth": 0,
             "tickcolor": "rgb(237,237,237)",
             "ticklen": 6,
             "ticks": "inside"
            }
           }
          ],
          "histogram2d": [
           {
            "type": "histogram2d",
            "colorbar": {
             "outlinewidth": 0,
             "tickcolor": "rgb(237,237,237)",
             "ticklen": 6,
             "ticks": "inside"
            },
            "colorscale": [
             [
              0,
              "rgb(20,44,66)"
             ],
             [
              1,
              "rgb(90,179,244)"
             ]
            ]
           }
          ],
          "heatmap": [
           {
            "type": "heatmap",
            "colorbar": {
             "outlinewidth": 0,
             "tickcolor": "rgb(237,237,237)",
             "ticklen": 6,
             "ticks": "inside"
            },
            "colorscale": [
             [
              0,
              "rgb(20,44,66)"
             ],
             [
              1,
              "rgb(90,179,244)"
             ]
            ]
           }
          ],
          "heatmapgl": [
           {
            "type": "heatmapgl",
            "colorbar": {
             "outlinewidth": 0,
             "tickcolor": "rgb(237,237,237)",
             "ticklen": 6,
             "ticks": "inside"
            },
            "colorscale": [
             [
              0,
              "rgb(20,44,66)"
             ],
             [
              1,
              "rgb(90,179,244)"
             ]
            ]
           }
          ],
          "contourcarpet": [
           {
            "type": "contourcarpet",
            "colorbar": {
             "outlinewidth": 0,
             "tickcolor": "rgb(237,237,237)",
             "ticklen": 6,
             "ticks": "inside"
            }
           }
          ],
          "contour": [
           {
            "type": "contour",
            "colorbar": {
             "outlinewidth": 0,
             "tickcolor": "rgb(237,237,237)",
             "ticklen": 6,
             "ticks": "inside"
            },
            "colorscale": [
             [
              0,
              "rgb(20,44,66)"
             ],
             [
              1,
              "rgb(90,179,244)"
             ]
            ]
           }
          ],
          "surface": [
           {
            "type": "surface",
            "colorbar": {
             "outlinewidth": 0,
             "tickcolor": "rgb(237,237,237)",
             "ticklen": 6,
             "ticks": "inside"
            },
            "colorscale": [
             [
              0,
              "rgb(20,44,66)"
             ],
             [
              1,
              "rgb(90,179,244)"
             ]
            ]
           }
          ],
          "mesh3d": [
           {
            "type": "mesh3d",
            "colorbar": {
             "outlinewidth": 0,
             "tickcolor": "rgb(237,237,237)",
             "ticklen": 6,
             "ticks": "inside"
            }
           }
          ],
          "scatter": [
           {
            "fillpattern": {
             "fillmode": "overlay",
             "size": 10,
             "solidity": 0.2
            },
            "type": "scatter"
           }
          ],
          "parcoords": [
           {
            "type": "parcoords",
            "line": {
             "colorbar": {
              "outlinewidth": 0,
              "tickcolor": "rgb(237,237,237)",
              "ticklen": 6,
              "ticks": "inside"
             }
            }
           }
          ],
          "scatterpolargl": [
           {
            "type": "scatterpolargl",
            "marker": {
             "colorbar": {
              "outlinewidth": 0,
              "tickcolor": "rgb(237,237,237)",
              "ticklen": 6,
              "ticks": "inside"
             }
            }
           }
          ],
          "bar": [
           {
            "error_x": {
             "color": "rgb(51,51,51)"
            },
            "error_y": {
             "color": "rgb(51,51,51)"
            },
            "marker": {
             "line": {
              "color": "rgb(237,237,237)",
              "width": 0.5
             },
             "pattern": {
              "fillmode": "overlay",
              "size": 10,
              "solidity": 0.2
             }
            },
            "type": "bar"
           }
          ],
          "scattergeo": [
           {
            "type": "scattergeo",
            "marker": {
             "colorbar": {
              "outlinewidth": 0,
              "tickcolor": "rgb(237,237,237)",
              "ticklen": 6,
              "ticks": "inside"
             }
            }
           }
          ],
          "scatterpolar": [
           {
            "type": "scatterpolar",
            "marker": {
             "colorbar": {
              "outlinewidth": 0,
              "tickcolor": "rgb(237,237,237)",
              "ticklen": 6,
              "ticks": "inside"
             }
            }
           }
          ],
          "histogram": [
           {
            "marker": {
             "pattern": {
              "fillmode": "overlay",
              "size": 10,
              "solidity": 0.2
             }
            },
            "type": "histogram"
           }
          ],
          "scattergl": [
           {
            "type": "scattergl",
            "marker": {
             "colorbar": {
              "outlinewidth": 0,
              "tickcolor": "rgb(237,237,237)",
              "ticklen": 6,
              "ticks": "inside"
             }
            }
           }
          ],
          "scatter3d": [
           {
            "type": "scatter3d",
            "line": {
             "colorbar": {
              "outlinewidth": 0,
              "tickcolor": "rgb(237,237,237)",
              "ticklen": 6,
              "ticks": "inside"
             }
            },
            "marker": {
             "colorbar": {
              "outlinewidth": 0,
              "tickcolor": "rgb(237,237,237)",
              "ticklen": 6,
              "ticks": "inside"
             }
            }
           }
          ],
          "scattermapbox": [
           {
            "type": "scattermapbox",
            "marker": {
             "colorbar": {
              "outlinewidth": 0,
              "tickcolor": "rgb(237,237,237)",
              "ticklen": 6,
              "ticks": "inside"
             }
            }
           }
          ],
          "scatterternary": [
           {
            "type": "scatterternary",
            "marker": {
             "colorbar": {
              "outlinewidth": 0,
              "tickcolor": "rgb(237,237,237)",
              "ticklen": 6,
              "ticks": "inside"
             }
            }
           }
          ],
          "scattercarpet": [
           {
            "type": "scattercarpet",
            "marker": {
             "colorbar": {
              "outlinewidth": 0,
              "tickcolor": "rgb(237,237,237)",
              "ticklen": 6,
              "ticks": "inside"
             }
            }
           }
          ],
          "carpet": [
           {
            "aaxis": {
             "endlinecolor": "rgb(51,51,51)",
             "gridcolor": "white",
             "linecolor": "white",
             "minorgridcolor": "white",
             "startlinecolor": "rgb(51,51,51)"
            },
            "baxis": {
             "endlinecolor": "rgb(51,51,51)",
             "gridcolor": "white",
             "linecolor": "white",
             "minorgridcolor": "white",
             "startlinecolor": "rgb(51,51,51)"
            },
            "type": "carpet"
           }
          ],
          "table": [
           {
            "cells": {
             "fill": {
              "color": "rgb(237,237,237)"
             },
             "line": {
              "color": "white"
             }
            },
            "header": {
             "fill": {
              "color": "rgb(217,217,217)"
             },
             "line": {
              "color": "white"
             }
            },
            "type": "table"
           }
          ],
          "barpolar": [
           {
            "marker": {
             "line": {
              "color": "rgb(237,237,237)",
              "width": 0.5
             },
             "pattern": {
              "fillmode": "overlay",
              "size": 10,
              "solidity": 0.2
             }
            },
            "type": "barpolar"
           }
          ],
          "pie": [
           {
            "automargin": true,
            "type": "pie"
           }
          ]
         },
         "layout": {
          "autotypenumbers": "strict",
          "colorway": [
           "#F8766D",
           "#A3A500",
           "#00BF7D",
           "#00B0F6",
           "#E76BF3"
          ],
          "font": {
           "color": "rgb(51,51,51)"
          },
          "hovermode": "closest",
          "hoverlabel": {
           "align": "left"
          },
          "paper_bgcolor": "white",
          "plot_bgcolor": "rgb(237,237,237)",
          "polar": {
           "bgcolor": "rgb(237,237,237)",
           "angularaxis": {
            "gridcolor": "white",
            "linecolor": "white",
            "showgrid": true,
            "tickcolor": "rgb(51,51,51)",
            "ticks": "outside"
           },
           "radialaxis": {
            "gridcolor": "white",
            "linecolor": "white",
            "showgrid": true,
            "tickcolor": "rgb(51,51,51)",
            "ticks": "outside"
           }
          },
          "ternary": {
           "bgcolor": "rgb(237,237,237)",
           "aaxis": {
            "gridcolor": "white",
            "linecolor": "white",
            "showgrid": true,
            "tickcolor": "rgb(51,51,51)",
            "ticks": "outside"
           },
           "baxis": {
            "gridcolor": "white",
            "linecolor": "white",
            "showgrid": true,
            "tickcolor": "rgb(51,51,51)",
            "ticks": "outside"
           },
           "caxis": {
            "gridcolor": "white",
            "linecolor": "white",
            "showgrid": true,
            "tickcolor": "rgb(51,51,51)",
            "ticks": "outside"
           }
          },
          "coloraxis": {
           "colorbar": {
            "outlinewidth": 0,
            "tickcolor": "rgb(237,237,237)",
            "ticklen": 6,
            "ticks": "inside"
           }
          },
          "colorscale": {
           "sequential": [
            [
             0,
             "rgb(20,44,66)"
            ],
            [
             1,
             "rgb(90,179,244)"
            ]
           ],
           "sequentialminus": [
            [
             0,
             "rgb(20,44,66)"
            ],
            [
             1,
             "rgb(90,179,244)"
            ]
           ]
          },
          "xaxis": {
           "gridcolor": "white",
           "linecolor": "white",
           "showgrid": true,
           "tickcolor": "rgb(51,51,51)",
           "ticks": "outside",
           "title": {
            "standoff": 15
           },
           "zerolinecolor": "white",
           "automargin": true
          },
          "yaxis": {
           "gridcolor": "white",
           "linecolor": "white",
           "showgrid": true,
           "tickcolor": "rgb(51,51,51)",
           "ticks": "outside",
           "title": {
            "standoff": 15
           },
           "zerolinecolor": "white",
           "automargin": true
          },
          "scene": {
           "xaxis": {
            "backgroundcolor": "rgb(237,237,237)",
            "gridcolor": "white",
            "linecolor": "white",
            "showbackground": true,
            "showgrid": true,
            "tickcolor": "rgb(51,51,51)",
            "ticks": "outside",
            "zerolinecolor": "white",
            "gridwidth": 2
           },
           "yaxis": {
            "backgroundcolor": "rgb(237,237,237)",
            "gridcolor": "white",
            "linecolor": "white",
            "showbackground": true,
            "showgrid": true,
            "tickcolor": "rgb(51,51,51)",
            "ticks": "outside",
            "zerolinecolor": "white",
            "gridwidth": 2
           },
           "zaxis": {
            "backgroundcolor": "rgb(237,237,237)",
            "gridcolor": "white",
            "linecolor": "white",
            "showbackground": true,
            "showgrid": true,
            "tickcolor": "rgb(51,51,51)",
            "ticks": "outside",
            "zerolinecolor": "white",
            "gridwidth": 2
           }
          },
          "shapedefaults": {
           "fillcolor": "black",
           "line": {
            "width": 0
           },
           "opacity": 0.3
          },
          "annotationdefaults": {
           "arrowhead": 0,
           "arrowwidth": 1
          },
          "geo": {
           "bgcolor": "white",
           "landcolor": "rgb(237,237,237)",
           "subunitcolor": "white",
           "showland": true,
           "showlakes": true,
           "lakecolor": "white"
          }
         }
        },
        "xaxis": {
         "anchor": "y",
         "domain": [
          0.0,
          1.0
         ],
         "title": {
          "text": "x"
         }
        },
        "yaxis": {
         "anchor": "x",
         "domain": [
          0.0,
          1.0
         ],
         "title": {
          "text": "y"
         }
        },
        "coloraxis": {
         "colorbar": {
          "title": {
           "text": "color"
          }
         },
         "colorscale": [
          [
           0.0,
           "rgb(20,44,66)"
          ],
          [
           1.0,
           "rgb(90,179,244)"
          ]
         ]
        },
        "legend": {
         "tracegroupgap": 0
        },
        "margin": {
         "t": 60
        }
       },
       "config": {
        "plotlyServerURL": "https://plot.ly"
       }
      },
      "text/html": "<div>                            <div id=\"48269ddd-72b0-49f6-81e4-f77b04d37de6\" class=\"plotly-graph-div\" style=\"height:525px; width:100%;\"></div>            <script type=\"text/javascript\">                require([\"plotly\"], function(Plotly) {                    window.PLOTLYENV=window.PLOTLYENV || {};                                    if (document.getElementById(\"48269ddd-72b0-49f6-81e4-f77b04d37de6\")) {                    Plotly.newPlot(                        \"48269ddd-72b0-49f6-81e4-f77b04d37de6\",                        [{\"hovertemplate\":\"x=%{x}<br>y=%{y}<br>color=%{marker.color}<extra></extra>\",\"legendgroup\":\"\",\"marker\":{\"color\":[2,1,0,1,2,1,0,1,1,0,0,2,2,0,0,2,2,0,2,2,0,2,2,0,0,0,1,2,2,2,2,1,1,2,0,0,0,0,1,1,2,0,1,0,0,1,2,2,2,1,1,1,0,2,2,2,0,0,1,0,2,1,2,1,2,2,1,2,1,1,1,2,2,0,1,2,1,2,1,1,0,1,0,2,0,0,0,1,0,1,1,1,0,1,0,0,0,1,2,0,0,0],\"coloraxis\":\"coloraxis\",\"symbol\":\"circle\"},\"mode\":\"markers\",\"name\":\"\",\"orientation\":\"v\",\"showlegend\":false,\"x\":[-0.37874488852129934,0.14922447554129903,-0.19640959909717792,0.1911540673184018,-0.2930337800599958,0.020858330977173288,-0.13943367016993655,0.07570864082982538,0.0982467213726084,-0.24490261163628557,-0.20173964856300752,-0.30230713519033064,-0.28135350453163466,-0.2417249605260972,-0.11045942023350609,-0.3946904775581515,-0.298804148084049,-0.1681283125304248,-0.3813821309799216,-0.2848189987586789,-0.19597863941298557,-0.3239780019931792,-0.3502633380949914,-0.1372896367884141,-0.1655536599206825,-0.19578090720833136,-0.009370459296174595,-0.2739729703997058,-0.3878446646466181,-0.4065062313871537,-0.36687855938642877,0.11240946486030265,0.07765193010292384,-0.23605284177694244,-0.05063672081412118,-0.20574250170244576,-0.15819956233537133,-0.1399445196743437,0.15647402303912133,0.09786841019093306,-0.4165189671801492,-0.19709978514944299,0.08886934626535148,-0.25751061570785805,-0.17123335477380333,0.015751773570534002,-0.4328712091332682,-0.30616931938843456,-0.3175667444352864,0.03381145118623235,-0.0950668590009171,0.09170308187364339,-0.10518978760226144,-0.30000010971119023,-0.2599987797606272,-0.33439222007841907,-0.23507176043255862,-0.1457878305778149,0.19649773537441328,-0.2857397831293928,-0.2976385217435197,0.041385149774395585,-0.335952301362593,-0.045189561335198344,-0.33732335320994344,-0.30325819695109724,0.09562487518806079,-0.38178465031685166,0.05364452762446688,0.10966505207579466,0.0669536302440616,-0.300668244479947,-0.40325823641828534,-0.13855456903912064,0.09842985939790952,-0.24994354264565677,0.14762455215027243,-0.3143500848972982,0.2255494515442211,-0.018997114197220902,-0.13727252990738176,0.03560740750208892,-0.10447688641186618,-0.18573402867251956,-0.16396486904164273,-0.14814294332821462,-0.05871728964309308,0.025918261142923883,-0.26820766252003125,0.06343906122065698,0.09753300963519916,0.1726559807007017,-0.2276142898260126,0.13309663592701199,-0.20581848895364158,-0.2111703863069214,-0.08964444711760368,0.07986306759954868,-0.24142814517341896,-0.22271840861670203,6.858758823745558,7.0619935814799595],\"xaxis\":\"x\",\"y\":[-1.746343902695137,-0.3017217565428969,1.321801334818714,-0.3541588257477714,-1.1098030707772657,-0.09791693045488237,1.4545862978268762,0.1852683508333145,0.3728090138390621,1.2706292074372476,1.1894296538412619,-0.880914932472396,-1.1907034414182134,0.7885680285805027,1.2079667333213076,-1.1338193040708007,-1.0281056962489104,1.4631693997572655,-1.2346373252081342,-1.3041153929830522,1.0125857786536192,-1.1771585094334218,-1.0191460686594969,1.6270874019194634,1.6352470857265315,1.479603815745456,-0.053249226671664145,-1.5446480438938344,-1.040402879995973,-1.6867294929796088,-1.210554703251589,0.15581014217109276,0.1682279788170383,-1.5334620623871273,1.390764395995321,1.0659579736836868,0.7184804342787031,1.0373182051196397,0.17657064782672371,-0.5337828503224875,-1.5693866069982945,1.098476007128575,-0.2826508854067683,1.2157847417764547,1.0630721945842616,0.22098961323472752,-1.2251584361541683,-1.1636141591070597,-0.8360206228719498,-0.07812402549968789,0.3278070118369919,0.003809851654456195,1.5713352583068998,-1.0420165126842953,-0.7000849530131029,-1.0628158248418935,1.2517839230511238,0.5686606973514826,-0.083188175221272,0.9829740872626181,-1.5008532146388227,-0.024733769494818536,-1.51293146463753,0.0676203636264238,-0.447577464226806,-1.6638155283872458,0.8311620405291219,-1.5319679398467227,0.2331568770429514,0.052920886802860216,-0.17028555383342409,-1.1755342956836856,-1.0804332505929317,0.6147353208383936,-0.07865107745724818,-1.15519182254466,-0.20313338755776683,-1.632299179554203,0.12928981461896466,0.09677789473803311,0.9575716556337278,-0.02301620570864273,0.7810125106287936,-1.1364688062795931,0.8310409599889738,0.5544341601550212,1.0861730951754005,0.5510749549402242,0.9346556610428401,-0.37306949275485246,-0.015946108697582322,0.3063492432830077,0.7222968254825444,0.7475057093537717,1.7234569148982017,1.342997441609455,1.4410114018913216,0.19966306953053242,-0.9586077608295466,1.060585478876111,-0.3819424457629135,-0.0011741605649459525],\"yaxis\":\"y\",\"type\":\"scatter\"}],                        {\"template\":{\"data\":{\"histogram2dcontour\":[{\"type\":\"histogram2dcontour\",\"colorbar\":{\"outlinewidth\":0,\"tickcolor\":\"rgb(237,237,237)\",\"ticklen\":6,\"ticks\":\"inside\"},\"colorscale\":[[0,\"rgb(20,44,66)\"],[1,\"rgb(90,179,244)\"]]}],\"choropleth\":[{\"type\":\"choropleth\",\"colorbar\":{\"outlinewidth\":0,\"tickcolor\":\"rgb(237,237,237)\",\"ticklen\":6,\"ticks\":\"inside\"}}],\"histogram2d\":[{\"type\":\"histogram2d\",\"colorbar\":{\"outlinewidth\":0,\"tickcolor\":\"rgb(237,237,237)\",\"ticklen\":6,\"ticks\":\"inside\"},\"colorscale\":[[0,\"rgb(20,44,66)\"],[1,\"rgb(90,179,244)\"]]}],\"heatmap\":[{\"type\":\"heatmap\",\"colorbar\":{\"outlinewidth\":0,\"tickcolor\":\"rgb(237,237,237)\",\"ticklen\":6,\"ticks\":\"inside\"},\"colorscale\":[[0,\"rgb(20,44,66)\"],[1,\"rgb(90,179,244)\"]]}],\"heatmapgl\":[{\"type\":\"heatmapgl\",\"colorbar\":{\"outlinewidth\":0,\"tickcolor\":\"rgb(237,237,237)\",\"ticklen\":6,\"ticks\":\"inside\"},\"colorscale\":[[0,\"rgb(20,44,66)\"],[1,\"rgb(90,179,244)\"]]}],\"contourcarpet\":[{\"type\":\"contourcarpet\",\"colorbar\":{\"outlinewidth\":0,\"tickcolor\":\"rgb(237,237,237)\",\"ticklen\":6,\"ticks\":\"inside\"}}],\"contour\":[{\"type\":\"contour\",\"colorbar\":{\"outlinewidth\":0,\"tickcolor\":\"rgb(237,237,237)\",\"ticklen\":6,\"ticks\":\"inside\"},\"colorscale\":[[0,\"rgb(20,44,66)\"],[1,\"rgb(90,179,244)\"]]}],\"surface\":[{\"type\":\"surface\",\"colorbar\":{\"outlinewidth\":0,\"tickcolor\":\"rgb(237,237,237)\",\"ticklen\":6,\"ticks\":\"inside\"},\"colorscale\":[[0,\"rgb(20,44,66)\"],[1,\"rgb(90,179,244)\"]]}],\"mesh3d\":[{\"type\":\"mesh3d\",\"colorbar\":{\"outlinewidth\":0,\"tickcolor\":\"rgb(237,237,237)\",\"ticklen\":6,\"ticks\":\"inside\"}}],\"scatter\":[{\"fillpattern\":{\"fillmode\":\"overlay\",\"size\":10,\"solidity\":0.2},\"type\":\"scatter\"}],\"parcoords\":[{\"type\":\"parcoords\",\"line\":{\"colorbar\":{\"outlinewidth\":0,\"tickcolor\":\"rgb(237,237,237)\",\"ticklen\":6,\"ticks\":\"inside\"}}}],\"scatterpolargl\":[{\"type\":\"scatterpolargl\",\"marker\":{\"colorbar\":{\"outlinewidth\":0,\"tickcolor\":\"rgb(237,237,237)\",\"ticklen\":6,\"ticks\":\"inside\"}}}],\"bar\":[{\"error_x\":{\"color\":\"rgb(51,51,51)\"},\"error_y\":{\"color\":\"rgb(51,51,51)\"},\"marker\":{\"line\":{\"color\":\"rgb(237,237,237)\",\"width\":0.5},\"pattern\":{\"fillmode\":\"overlay\",\"size\":10,\"solidity\":0.2}},\"type\":\"bar\"}],\"scattergeo\":[{\"type\":\"scattergeo\",\"marker\":{\"colorbar\":{\"outlinewidth\":0,\"tickcolor\":\"rgb(237,237,237)\",\"ticklen\":6,\"ticks\":\"inside\"}}}],\"scatterpolar\":[{\"type\":\"scatterpolar\",\"marker\":{\"colorbar\":{\"outlinewidth\":0,\"tickcolor\":\"rgb(237,237,237)\",\"ticklen\":6,\"ticks\":\"inside\"}}}],\"histogram\":[{\"marker\":{\"pattern\":{\"fillmode\":\"overlay\",\"size\":10,\"solidity\":0.2}},\"type\":\"histogram\"}],\"scattergl\":[{\"type\":\"scattergl\",\"marker\":{\"colorbar\":{\"outlinewidth\":0,\"tickcolor\":\"rgb(237,237,237)\",\"ticklen\":6,\"ticks\":\"inside\"}}}],\"scatter3d\":[{\"type\":\"scatter3d\",\"line\":{\"colorbar\":{\"outlinewidth\":0,\"tickcolor\":\"rgb(237,237,237)\",\"ticklen\":6,\"ticks\":\"inside\"}},\"marker\":{\"colorbar\":{\"outlinewidth\":0,\"tickcolor\":\"rgb(237,237,237)\",\"ticklen\":6,\"ticks\":\"inside\"}}}],\"scattermapbox\":[{\"type\":\"scattermapbox\",\"marker\":{\"colorbar\":{\"outlinewidth\":0,\"tickcolor\":\"rgb(237,237,237)\",\"ticklen\":6,\"ticks\":\"inside\"}}}],\"scatterternary\":[{\"type\":\"scatterternary\",\"marker\":{\"colorbar\":{\"outlinewidth\":0,\"tickcolor\":\"rgb(237,237,237)\",\"ticklen\":6,\"ticks\":\"inside\"}}}],\"scattercarpet\":[{\"type\":\"scattercarpet\",\"marker\":{\"colorbar\":{\"outlinewidth\":0,\"tickcolor\":\"rgb(237,237,237)\",\"ticklen\":6,\"ticks\":\"inside\"}}}],\"carpet\":[{\"aaxis\":{\"endlinecolor\":\"rgb(51,51,51)\",\"gridcolor\":\"white\",\"linecolor\":\"white\",\"minorgridcolor\":\"white\",\"startlinecolor\":\"rgb(51,51,51)\"},\"baxis\":{\"endlinecolor\":\"rgb(51,51,51)\",\"gridcolor\":\"white\",\"linecolor\":\"white\",\"minorgridcolor\":\"white\",\"startlinecolor\":\"rgb(51,51,51)\"},\"type\":\"carpet\"}],\"table\":[{\"cells\":{\"fill\":{\"color\":\"rgb(237,237,237)\"},\"line\":{\"color\":\"white\"}},\"header\":{\"fill\":{\"color\":\"rgb(217,217,217)\"},\"line\":{\"color\":\"white\"}},\"type\":\"table\"}],\"barpolar\":[{\"marker\":{\"line\":{\"color\":\"rgb(237,237,237)\",\"width\":0.5},\"pattern\":{\"fillmode\":\"overlay\",\"size\":10,\"solidity\":0.2}},\"type\":\"barpolar\"}],\"pie\":[{\"automargin\":true,\"type\":\"pie\"}]},\"layout\":{\"autotypenumbers\":\"strict\",\"colorway\":[\"#F8766D\",\"#A3A500\",\"#00BF7D\",\"#00B0F6\",\"#E76BF3\"],\"font\":{\"color\":\"rgb(51,51,51)\"},\"hovermode\":\"closest\",\"hoverlabel\":{\"align\":\"left\"},\"paper_bgcolor\":\"white\",\"plot_bgcolor\":\"rgb(237,237,237)\",\"polar\":{\"bgcolor\":\"rgb(237,237,237)\",\"angularaxis\":{\"gridcolor\":\"white\",\"linecolor\":\"white\",\"showgrid\":true,\"tickcolor\":\"rgb(51,51,51)\",\"ticks\":\"outside\"},\"radialaxis\":{\"gridcolor\":\"white\",\"linecolor\":\"white\",\"showgrid\":true,\"tickcolor\":\"rgb(51,51,51)\",\"ticks\":\"outside\"}},\"ternary\":{\"bgcolor\":\"rgb(237,237,237)\",\"aaxis\":{\"gridcolor\":\"white\",\"linecolor\":\"white\",\"showgrid\":true,\"tickcolor\":\"rgb(51,51,51)\",\"ticks\":\"outside\"},\"baxis\":{\"gridcolor\":\"white\",\"linecolor\":\"white\",\"showgrid\":true,\"tickcolor\":\"rgb(51,51,51)\",\"ticks\":\"outside\"},\"caxis\":{\"gridcolor\":\"white\",\"linecolor\":\"white\",\"showgrid\":true,\"tickcolor\":\"rgb(51,51,51)\",\"ticks\":\"outside\"}},\"coloraxis\":{\"colorbar\":{\"outlinewidth\":0,\"tickcolor\":\"rgb(237,237,237)\",\"ticklen\":6,\"ticks\":\"inside\"}},\"colorscale\":{\"sequential\":[[0,\"rgb(20,44,66)\"],[1,\"rgb(90,179,244)\"]],\"sequentialminus\":[[0,\"rgb(20,44,66)\"],[1,\"rgb(90,179,244)\"]]},\"xaxis\":{\"gridcolor\":\"white\",\"linecolor\":\"white\",\"showgrid\":true,\"tickcolor\":\"rgb(51,51,51)\",\"ticks\":\"outside\",\"title\":{\"standoff\":15},\"zerolinecolor\":\"white\",\"automargin\":true},\"yaxis\":{\"gridcolor\":\"white\",\"linecolor\":\"white\",\"showgrid\":true,\"tickcolor\":\"rgb(51,51,51)\",\"ticks\":\"outside\",\"title\":{\"standoff\":15},\"zerolinecolor\":\"white\",\"automargin\":true},\"scene\":{\"xaxis\":{\"backgroundcolor\":\"rgb(237,237,237)\",\"gridcolor\":\"white\",\"linecolor\":\"white\",\"showbackground\":true,\"showgrid\":true,\"tickcolor\":\"rgb(51,51,51)\",\"ticks\":\"outside\",\"zerolinecolor\":\"white\",\"gridwidth\":2},\"yaxis\":{\"backgroundcolor\":\"rgb(237,237,237)\",\"gridcolor\":\"white\",\"linecolor\":\"white\",\"showbackground\":true,\"showgrid\":true,\"tickcolor\":\"rgb(51,51,51)\",\"ticks\":\"outside\",\"zerolinecolor\":\"white\",\"gridwidth\":2},\"zaxis\":{\"backgroundcolor\":\"rgb(237,237,237)\",\"gridcolor\":\"white\",\"linecolor\":\"white\",\"showbackground\":true,\"showgrid\":true,\"tickcolor\":\"rgb(51,51,51)\",\"ticks\":\"outside\",\"zerolinecolor\":\"white\",\"gridwidth\":2}},\"shapedefaults\":{\"fillcolor\":\"black\",\"line\":{\"width\":0},\"opacity\":0.3},\"annotationdefaults\":{\"arrowhead\":0,\"arrowwidth\":1},\"geo\":{\"bgcolor\":\"white\",\"landcolor\":\"rgb(237,237,237)\",\"subunitcolor\":\"white\",\"showland\":true,\"showlakes\":true,\"lakecolor\":\"white\"}}},\"xaxis\":{\"anchor\":\"y\",\"domain\":[0.0,1.0],\"title\":{\"text\":\"x\"}},\"yaxis\":{\"anchor\":\"x\",\"domain\":[0.0,1.0],\"title\":{\"text\":\"y\"}},\"coloraxis\":{\"colorbar\":{\"title\":{\"text\":\"color\"}},\"colorscale\":[[0.0,\"rgb(20,44,66)\"],[1.0,\"rgb(90,179,244)\"]]},\"legend\":{\"tracegroupgap\":0},\"margin\":{\"t\":60}},                        {\"responsive\": true}                    ).then(function(){\n                            \nvar gd = document.getElementById('48269ddd-72b0-49f6-81e4-f77b04d37de6');\nvar x = new MutationObserver(function (mutations, observer) {{\n        var display = window.getComputedStyle(gd).display;\n        if (!display || display === 'none') {{\n            console.log([gd, 'removed!']);\n            Plotly.purge(gd);\n            observer.disconnect();\n        }}\n}});\n\n// Listen for the removal of the full notebook cells\nvar notebookContainer = gd.closest('#notebook-container');\nif (notebookContainer) {{\n    x.observe(notebookContainer, {childList: true});\n}}\n\n// Listen for the clearing of the current output cell\nvar outputEl = gd.closest('.output');\nif (outputEl) {{\n    x.observe(outputEl, {childList: true});\n}}\n\n                        })                };                });            </script>        </div>"
     },
     "metadata": {},
     "output_type": "display_data"
    }
   ],
   "source": [
    "px.scatter(x=x_train_scaled[:, 0], y=x_train_scaled[:, 1], color=true_labels)"
   ],
   "metadata": {
    "collapsed": false
   }
  },
  {
   "cell_type": "code",
   "execution_count": 28,
   "outputs": [],
   "source": [
    "kmeans = KMeans(n_clusters=n_clusters)\n",
    "kmeans.fit(x_train_scaled)"
   ],
   "metadata": {
    "collapsed": false
   }
  },
  {
   "cell_type": "code",
   "execution_count": 29,
   "outputs": [
    {
     "data": {
      "text/plain": "(97.71973997378439, 0.9509803921568627)"
     },
     "execution_count": 29,
     "metadata": {},
     "output_type": "execute_result"
    }
   ],
   "source": [
    "kmeans.inertia, kmeans.score(true_labels)"
   ],
   "metadata": {
    "collapsed": false
   }
  },
  {
   "cell_type": "code",
   "execution_count": 30,
   "outputs": [
    {
     "data": {
      "application/vnd.plotly.v1+json": {
       "data": [
        {
         "hovertemplate": "x=%{x}<br>y=%{y}<extra></extra>",
         "legendgroup": "",
         "marker": {
          "color": "black",
          "symbol": "x-thin",
          "line": {
           "width": 2
          },
          "size": 12
         },
         "mode": "markers",
         "name": "",
         "orientation": "v",
         "showlegend": false,
         "x": [
          -0.32362085839174504,
          -0.15327622395785137,
          0.5109596441677527
         ],
         "xaxis": "x",
         "y": [
          -1.2192522021020444,
          1.097162075330025,
          -0.011239816182607651
         ],
         "yaxis": "y",
         "type": "scatter"
        },
        {
         "marker": {
          "color": [
           0,
           2,
           1,
           2,
           0,
           2,
           1,
           2,
           2,
           1,
           1,
           0,
           0,
           1,
           1,
           0,
           0,
           1,
           0,
           0,
           1,
           0,
           0,
           1,
           1,
           1,
           2,
           0,
           0,
           0,
           0,
           2,
           2,
           0,
           1,
           1,
           1,
           1,
           2,
           2,
           0,
           1,
           2,
           1,
           1,
           2,
           0,
           0,
           0,
           2,
           2,
           2,
           1,
           0,
           0,
           0,
           1,
           1,
           2,
           1,
           0,
           2,
           0,
           2,
           0,
           0,
           1,
           0,
           2,
           2,
           2,
           0,
           0,
           1,
           2,
           0,
           2,
           0,
           2,
           2,
           1,
           2,
           1,
           0,
           1,
           1,
           1,
           1,
           1,
           2,
           2,
           2,
           1,
           1,
           1,
           1,
           1,
           2,
           0,
           1,
           2,
           2
          ]
         },
         "mode": "markers",
         "x": [
          -0.37874488852129934,
          0.14922447554129903,
          -0.19640959909717792,
          0.1911540673184018,
          -0.2930337800599958,
          0.020858330977173288,
          -0.13943367016993655,
          0.07570864082982538,
          0.0982467213726084,
          -0.24490261163628557,
          -0.20173964856300752,
          -0.30230713519033064,
          -0.28135350453163466,
          -0.2417249605260972,
          -0.11045942023350609,
          -0.3946904775581515,
          -0.298804148084049,
          -0.1681283125304248,
          -0.3813821309799216,
          -0.2848189987586789,
          -0.19597863941298557,
          -0.3239780019931792,
          -0.3502633380949914,
          -0.1372896367884141,
          -0.1655536599206825,
          -0.19578090720833136,
          -0.009370459296174595,
          -0.2739729703997058,
          -0.3878446646466181,
          -0.4065062313871537,
          -0.36687855938642877,
          0.11240946486030265,
          0.07765193010292384,
          -0.23605284177694244,
          -0.05063672081412118,
          -0.20574250170244576,
          -0.15819956233537133,
          -0.1399445196743437,
          0.15647402303912133,
          0.09786841019093306,
          -0.4165189671801492,
          -0.19709978514944299,
          0.08886934626535148,
          -0.25751061570785805,
          -0.17123335477380333,
          0.015751773570534002,
          -0.4328712091332682,
          -0.30616931938843456,
          -0.3175667444352864,
          0.03381145118623235,
          -0.0950668590009171,
          0.09170308187364339,
          -0.10518978760226144,
          -0.30000010971119023,
          -0.2599987797606272,
          -0.33439222007841907,
          -0.23507176043255862,
          -0.1457878305778149,
          0.19649773537441328,
          -0.2857397831293928,
          -0.2976385217435197,
          0.041385149774395585,
          -0.335952301362593,
          -0.045189561335198344,
          -0.33732335320994344,
          -0.30325819695109724,
          0.09562487518806079,
          -0.38178465031685166,
          0.05364452762446688,
          0.10966505207579466,
          0.0669536302440616,
          -0.300668244479947,
          -0.40325823641828534,
          -0.13855456903912064,
          0.09842985939790952,
          -0.24994354264565677,
          0.14762455215027243,
          -0.3143500848972982,
          0.2255494515442211,
          -0.018997114197220902,
          -0.13727252990738176,
          0.03560740750208892,
          -0.10447688641186618,
          -0.18573402867251956,
          -0.16396486904164273,
          -0.14814294332821462,
          -0.05871728964309308,
          0.025918261142923883,
          -0.26820766252003125,
          0.06343906122065698,
          0.09753300963519916,
          0.1726559807007017,
          -0.2276142898260126,
          0.13309663592701199,
          -0.20581848895364158,
          -0.2111703863069214,
          -0.08964444711760368,
          0.07986306759954868,
          -0.24142814517341896,
          -0.22271840861670203,
          6.858758823745558,
          7.0619935814799595
         ],
         "y": [
          -1.746343902695137,
          -0.3017217565428969,
          1.321801334818714,
          -0.3541588257477714,
          -1.1098030707772657,
          -0.09791693045488237,
          1.4545862978268762,
          0.1852683508333145,
          0.3728090138390621,
          1.2706292074372476,
          1.1894296538412619,
          -0.880914932472396,
          -1.1907034414182134,
          0.7885680285805027,
          1.2079667333213076,
          -1.1338193040708007,
          -1.0281056962489104,
          1.4631693997572655,
          -1.2346373252081342,
          -1.3041153929830522,
          1.0125857786536192,
          -1.1771585094334218,
          -1.0191460686594969,
          1.6270874019194634,
          1.6352470857265315,
          1.479603815745456,
          -0.053249226671664145,
          -1.5446480438938344,
          -1.040402879995973,
          -1.6867294929796088,
          -1.210554703251589,
          0.15581014217109276,
          0.1682279788170383,
          -1.5334620623871273,
          1.390764395995321,
          1.0659579736836868,
          0.7184804342787031,
          1.0373182051196397,
          0.17657064782672371,
          -0.5337828503224875,
          -1.5693866069982945,
          1.098476007128575,
          -0.2826508854067683,
          1.2157847417764547,
          1.0630721945842616,
          0.22098961323472752,
          -1.2251584361541683,
          -1.1636141591070597,
          -0.8360206228719498,
          -0.07812402549968789,
          0.3278070118369919,
          0.003809851654456195,
          1.5713352583068998,
          -1.0420165126842953,
          -0.7000849530131029,
          -1.0628158248418935,
          1.2517839230511238,
          0.5686606973514826,
          -0.083188175221272,
          0.9829740872626181,
          -1.5008532146388227,
          -0.024733769494818536,
          -1.51293146463753,
          0.0676203636264238,
          -0.447577464226806,
          -1.6638155283872458,
          0.8311620405291219,
          -1.5319679398467227,
          0.2331568770429514,
          0.052920886802860216,
          -0.17028555383342409,
          -1.1755342956836856,
          -1.0804332505929317,
          0.6147353208383936,
          -0.07865107745724818,
          -1.15519182254466,
          -0.20313338755776683,
          -1.632299179554203,
          0.12928981461896466,
          0.09677789473803311,
          0.9575716556337278,
          -0.02301620570864273,
          0.7810125106287936,
          -1.1364688062795931,
          0.8310409599889738,
          0.5544341601550212,
          1.0861730951754005,
          0.5510749549402242,
          0.9346556610428401,
          -0.37306949275485246,
          -0.015946108697582322,
          0.3063492432830077,
          0.7222968254825444,
          0.7475057093537717,
          1.7234569148982017,
          1.342997441609455,
          1.4410114018913216,
          0.19966306953053242,
          -0.9586077608295466,
          1.060585478876111,
          -0.3819424457629135,
          -0.0011741605649459525
         ],
         "type": "scatter"
        }
       ],
       "layout": {
        "template": {
         "data": {
          "histogram2dcontour": [
           {
            "type": "histogram2dcontour",
            "colorbar": {
             "outlinewidth": 0,
             "tickcolor": "rgb(237,237,237)",
             "ticklen": 6,
             "ticks": "inside"
            },
            "colorscale": [
             [
              0,
              "rgb(20,44,66)"
             ],
             [
              1,
              "rgb(90,179,244)"
             ]
            ]
           }
          ],
          "choropleth": [
           {
            "type": "choropleth",
            "colorbar": {
             "outlinewidth": 0,
             "tickcolor": "rgb(237,237,237)",
             "ticklen": 6,
             "ticks": "inside"
            }
           }
          ],
          "histogram2d": [
           {
            "type": "histogram2d",
            "colorbar": {
             "outlinewidth": 0,
             "tickcolor": "rgb(237,237,237)",
             "ticklen": 6,
             "ticks": "inside"
            },
            "colorscale": [
             [
              0,
              "rgb(20,44,66)"
             ],
             [
              1,
              "rgb(90,179,244)"
             ]
            ]
           }
          ],
          "heatmap": [
           {
            "type": "heatmap",
            "colorbar": {
             "outlinewidth": 0,
             "tickcolor": "rgb(237,237,237)",
             "ticklen": 6,
             "ticks": "inside"
            },
            "colorscale": [
             [
              0,
              "rgb(20,44,66)"
             ],
             [
              1,
              "rgb(90,179,244)"
             ]
            ]
           }
          ],
          "heatmapgl": [
           {
            "type": "heatmapgl",
            "colorbar": {
             "outlinewidth": 0,
             "tickcolor": "rgb(237,237,237)",
             "ticklen": 6,
             "ticks": "inside"
            },
            "colorscale": [
             [
              0,
              "rgb(20,44,66)"
             ],
             [
              1,
              "rgb(90,179,244)"
             ]
            ]
           }
          ],
          "contourcarpet": [
           {
            "type": "contourcarpet",
            "colorbar": {
             "outlinewidth": 0,
             "tickcolor": "rgb(237,237,237)",
             "ticklen": 6,
             "ticks": "inside"
            }
           }
          ],
          "contour": [
           {
            "type": "contour",
            "colorbar": {
             "outlinewidth": 0,
             "tickcolor": "rgb(237,237,237)",
             "ticklen": 6,
             "ticks": "inside"
            },
            "colorscale": [
             [
              0,
              "rgb(20,44,66)"
             ],
             [
              1,
              "rgb(90,179,244)"
             ]
            ]
           }
          ],
          "surface": [
           {
            "type": "surface",
            "colorbar": {
             "outlinewidth": 0,
             "tickcolor": "rgb(237,237,237)",
             "ticklen": 6,
             "ticks": "inside"
            },
            "colorscale": [
             [
              0,
              "rgb(20,44,66)"
             ],
             [
              1,
              "rgb(90,179,244)"
             ]
            ]
           }
          ],
          "mesh3d": [
           {
            "type": "mesh3d",
            "colorbar": {
             "outlinewidth": 0,
             "tickcolor": "rgb(237,237,237)",
             "ticklen": 6,
             "ticks": "inside"
            }
           }
          ],
          "scatter": [
           {
            "fillpattern": {
             "fillmode": "overlay",
             "size": 10,
             "solidity": 0.2
            },
            "type": "scatter"
           }
          ],
          "parcoords": [
           {
            "type": "parcoords",
            "line": {
             "colorbar": {
              "outlinewidth": 0,
              "tickcolor": "rgb(237,237,237)",
              "ticklen": 6,
              "ticks": "inside"
             }
            }
           }
          ],
          "scatterpolargl": [
           {
            "type": "scatterpolargl",
            "marker": {
             "colorbar": {
              "outlinewidth": 0,
              "tickcolor": "rgb(237,237,237)",
              "ticklen": 6,
              "ticks": "inside"
             }
            }
           }
          ],
          "bar": [
           {
            "error_x": {
             "color": "rgb(51,51,51)"
            },
            "error_y": {
             "color": "rgb(51,51,51)"
            },
            "marker": {
             "line": {
              "color": "rgb(237,237,237)",
              "width": 0.5
             },
             "pattern": {
              "fillmode": "overlay",
              "size": 10,
              "solidity": 0.2
             }
            },
            "type": "bar"
           }
          ],
          "scattergeo": [
           {
            "type": "scattergeo",
            "marker": {
             "colorbar": {
              "outlinewidth": 0,
              "tickcolor": "rgb(237,237,237)",
              "ticklen": 6,
              "ticks": "inside"
             }
            }
           }
          ],
          "scatterpolar": [
           {
            "type": "scatterpolar",
            "marker": {
             "colorbar": {
              "outlinewidth": 0,
              "tickcolor": "rgb(237,237,237)",
              "ticklen": 6,
              "ticks": "inside"
             }
            }
           }
          ],
          "histogram": [
           {
            "marker": {
             "pattern": {
              "fillmode": "overlay",
              "size": 10,
              "solidity": 0.2
             }
            },
            "type": "histogram"
           }
          ],
          "scattergl": [
           {
            "type": "scattergl",
            "marker": {
             "colorbar": {
              "outlinewidth": 0,
              "tickcolor": "rgb(237,237,237)",
              "ticklen": 6,
              "ticks": "inside"
             }
            }
           }
          ],
          "scatter3d": [
           {
            "type": "scatter3d",
            "line": {
             "colorbar": {
              "outlinewidth": 0,
              "tickcolor": "rgb(237,237,237)",
              "ticklen": 6,
              "ticks": "inside"
             }
            },
            "marker": {
             "colorbar": {
              "outlinewidth": 0,
              "tickcolor": "rgb(237,237,237)",
              "ticklen": 6,
              "ticks": "inside"
             }
            }
           }
          ],
          "scattermapbox": [
           {
            "type": "scattermapbox",
            "marker": {
             "colorbar": {
              "outlinewidth": 0,
              "tickcolor": "rgb(237,237,237)",
              "ticklen": 6,
              "ticks": "inside"
             }
            }
           }
          ],
          "scatterternary": [
           {
            "type": "scatterternary",
            "marker": {
             "colorbar": {
              "outlinewidth": 0,
              "tickcolor": "rgb(237,237,237)",
              "ticklen": 6,
              "ticks": "inside"
             }
            }
           }
          ],
          "scattercarpet": [
           {
            "type": "scattercarpet",
            "marker": {
             "colorbar": {
              "outlinewidth": 0,
              "tickcolor": "rgb(237,237,237)",
              "ticklen": 6,
              "ticks": "inside"
             }
            }
           }
          ],
          "carpet": [
           {
            "aaxis": {
             "endlinecolor": "rgb(51,51,51)",
             "gridcolor": "white",
             "linecolor": "white",
             "minorgridcolor": "white",
             "startlinecolor": "rgb(51,51,51)"
            },
            "baxis": {
             "endlinecolor": "rgb(51,51,51)",
             "gridcolor": "white",
             "linecolor": "white",
             "minorgridcolor": "white",
             "startlinecolor": "rgb(51,51,51)"
            },
            "type": "carpet"
           }
          ],
          "table": [
           {
            "cells": {
             "fill": {
              "color": "rgb(237,237,237)"
             },
             "line": {
              "color": "white"
             }
            },
            "header": {
             "fill": {
              "color": "rgb(217,217,217)"
             },
             "line": {
              "color": "white"
             }
            },
            "type": "table"
           }
          ],
          "barpolar": [
           {
            "marker": {
             "line": {
              "color": "rgb(237,237,237)",
              "width": 0.5
             },
             "pattern": {
              "fillmode": "overlay",
              "size": 10,
              "solidity": 0.2
             }
            },
            "type": "barpolar"
           }
          ],
          "pie": [
           {
            "automargin": true,
            "type": "pie"
           }
          ]
         },
         "layout": {
          "autotypenumbers": "strict",
          "colorway": [
           "#F8766D",
           "#A3A500",
           "#00BF7D",
           "#00B0F6",
           "#E76BF3"
          ],
          "font": {
           "color": "rgb(51,51,51)"
          },
          "hovermode": "closest",
          "hoverlabel": {
           "align": "left"
          },
          "paper_bgcolor": "white",
          "plot_bgcolor": "rgb(237,237,237)",
          "polar": {
           "bgcolor": "rgb(237,237,237)",
           "angularaxis": {
            "gridcolor": "white",
            "linecolor": "white",
            "showgrid": true,
            "tickcolor": "rgb(51,51,51)",
            "ticks": "outside"
           },
           "radialaxis": {
            "gridcolor": "white",
            "linecolor": "white",
            "showgrid": true,
            "tickcolor": "rgb(51,51,51)",
            "ticks": "outside"
           }
          },
          "ternary": {
           "bgcolor": "rgb(237,237,237)",
           "aaxis": {
            "gridcolor": "white",
            "linecolor": "white",
            "showgrid": true,
            "tickcolor": "rgb(51,51,51)",
            "ticks": "outside"
           },
           "baxis": {
            "gridcolor": "white",
            "linecolor": "white",
            "showgrid": true,
            "tickcolor": "rgb(51,51,51)",
            "ticks": "outside"
           },
           "caxis": {
            "gridcolor": "white",
            "linecolor": "white",
            "showgrid": true,
            "tickcolor": "rgb(51,51,51)",
            "ticks": "outside"
           }
          },
          "coloraxis": {
           "colorbar": {
            "outlinewidth": 0,
            "tickcolor": "rgb(237,237,237)",
            "ticklen": 6,
            "ticks": "inside"
           }
          },
          "colorscale": {
           "sequential": [
            [
             0,
             "rgb(20,44,66)"
            ],
            [
             1,
             "rgb(90,179,244)"
            ]
           ],
           "sequentialminus": [
            [
             0,
             "rgb(20,44,66)"
            ],
            [
             1,
             "rgb(90,179,244)"
            ]
           ]
          },
          "xaxis": {
           "gridcolor": "white",
           "linecolor": "white",
           "showgrid": true,
           "tickcolor": "rgb(51,51,51)",
           "ticks": "outside",
           "title": {
            "standoff": 15
           },
           "zerolinecolor": "white",
           "automargin": true
          },
          "yaxis": {
           "gridcolor": "white",
           "linecolor": "white",
           "showgrid": true,
           "tickcolor": "rgb(51,51,51)",
           "ticks": "outside",
           "title": {
            "standoff": 15
           },
           "zerolinecolor": "white",
           "automargin": true
          },
          "scene": {
           "xaxis": {
            "backgroundcolor": "rgb(237,237,237)",
            "gridcolor": "white",
            "linecolor": "white",
            "showbackground": true,
            "showgrid": true,
            "tickcolor": "rgb(51,51,51)",
            "ticks": "outside",
            "zerolinecolor": "white",
            "gridwidth": 2
           },
           "yaxis": {
            "backgroundcolor": "rgb(237,237,237)",
            "gridcolor": "white",
            "linecolor": "white",
            "showbackground": true,
            "showgrid": true,
            "tickcolor": "rgb(51,51,51)",
            "ticks": "outside",
            "zerolinecolor": "white",
            "gridwidth": 2
           },
           "zaxis": {
            "backgroundcolor": "rgb(237,237,237)",
            "gridcolor": "white",
            "linecolor": "white",
            "showbackground": true,
            "showgrid": true,
            "tickcolor": "rgb(51,51,51)",
            "ticks": "outside",
            "zerolinecolor": "white",
            "gridwidth": 2
           }
          },
          "shapedefaults": {
           "fillcolor": "black",
           "line": {
            "width": 0
           },
           "opacity": 0.3
          },
          "annotationdefaults": {
           "arrowhead": 0,
           "arrowwidth": 1
          },
          "geo": {
           "bgcolor": "white",
           "landcolor": "rgb(237,237,237)",
           "subunitcolor": "white",
           "showland": true,
           "showlakes": true,
           "lakecolor": "white"
          }
         }
        },
        "xaxis": {
         "anchor": "y",
         "domain": [
          0.0,
          1.0
         ],
         "title": {
          "text": "x"
         }
        },
        "yaxis": {
         "anchor": "x",
         "domain": [
          0.0,
          1.0
         ],
         "title": {
          "text": "y"
         }
        },
        "legend": {
         "tracegroupgap": 0
        },
        "margin": {
         "t": 60
        }
       },
       "config": {
        "plotlyServerURL": "https://plot.ly"
       }
      },
      "text/html": "<div>                            <div id=\"1917857d-deeb-4d30-b499-8a257ddb9472\" class=\"plotly-graph-div\" style=\"height:525px; width:100%;\"></div>            <script type=\"text/javascript\">                require([\"plotly\"], function(Plotly) {                    window.PLOTLYENV=window.PLOTLYENV || {};                                    if (document.getElementById(\"1917857d-deeb-4d30-b499-8a257ddb9472\")) {                    Plotly.newPlot(                        \"1917857d-deeb-4d30-b499-8a257ddb9472\",                        [{\"hovertemplate\":\"x=%{x}<br>y=%{y}<extra></extra>\",\"legendgroup\":\"\",\"marker\":{\"color\":\"black\",\"symbol\":\"x-thin\",\"line\":{\"width\":2},\"size\":12},\"mode\":\"markers\",\"name\":\"\",\"orientation\":\"v\",\"showlegend\":false,\"x\":[-0.32362085839174504,-0.15327622395785137,0.5109596441677527],\"xaxis\":\"x\",\"y\":[-1.2192522021020444,1.097162075330025,-0.011239816182607651],\"yaxis\":\"y\",\"type\":\"scatter\"},{\"marker\":{\"color\":[0,2,1,2,0,2,1,2,2,1,1,0,0,1,1,0,0,1,0,0,1,0,0,1,1,1,2,0,0,0,0,2,2,0,1,1,1,1,2,2,0,1,2,1,1,2,0,0,0,2,2,2,1,0,0,0,1,1,2,1,0,2,0,2,0,0,1,0,2,2,2,0,0,1,2,0,2,0,2,2,1,2,1,0,1,1,1,1,1,2,2,2,1,1,1,1,1,2,0,1,2,2]},\"mode\":\"markers\",\"x\":[-0.37874488852129934,0.14922447554129903,-0.19640959909717792,0.1911540673184018,-0.2930337800599958,0.020858330977173288,-0.13943367016993655,0.07570864082982538,0.0982467213726084,-0.24490261163628557,-0.20173964856300752,-0.30230713519033064,-0.28135350453163466,-0.2417249605260972,-0.11045942023350609,-0.3946904775581515,-0.298804148084049,-0.1681283125304248,-0.3813821309799216,-0.2848189987586789,-0.19597863941298557,-0.3239780019931792,-0.3502633380949914,-0.1372896367884141,-0.1655536599206825,-0.19578090720833136,-0.009370459296174595,-0.2739729703997058,-0.3878446646466181,-0.4065062313871537,-0.36687855938642877,0.11240946486030265,0.07765193010292384,-0.23605284177694244,-0.05063672081412118,-0.20574250170244576,-0.15819956233537133,-0.1399445196743437,0.15647402303912133,0.09786841019093306,-0.4165189671801492,-0.19709978514944299,0.08886934626535148,-0.25751061570785805,-0.17123335477380333,0.015751773570534002,-0.4328712091332682,-0.30616931938843456,-0.3175667444352864,0.03381145118623235,-0.0950668590009171,0.09170308187364339,-0.10518978760226144,-0.30000010971119023,-0.2599987797606272,-0.33439222007841907,-0.23507176043255862,-0.1457878305778149,0.19649773537441328,-0.2857397831293928,-0.2976385217435197,0.041385149774395585,-0.335952301362593,-0.045189561335198344,-0.33732335320994344,-0.30325819695109724,0.09562487518806079,-0.38178465031685166,0.05364452762446688,0.10966505207579466,0.0669536302440616,-0.300668244479947,-0.40325823641828534,-0.13855456903912064,0.09842985939790952,-0.24994354264565677,0.14762455215027243,-0.3143500848972982,0.2255494515442211,-0.018997114197220902,-0.13727252990738176,0.03560740750208892,-0.10447688641186618,-0.18573402867251956,-0.16396486904164273,-0.14814294332821462,-0.05871728964309308,0.025918261142923883,-0.26820766252003125,0.06343906122065698,0.09753300963519916,0.1726559807007017,-0.2276142898260126,0.13309663592701199,-0.20581848895364158,-0.2111703863069214,-0.08964444711760368,0.07986306759954868,-0.24142814517341896,-0.22271840861670203,6.858758823745558,7.0619935814799595],\"y\":[-1.746343902695137,-0.3017217565428969,1.321801334818714,-0.3541588257477714,-1.1098030707772657,-0.09791693045488237,1.4545862978268762,0.1852683508333145,0.3728090138390621,1.2706292074372476,1.1894296538412619,-0.880914932472396,-1.1907034414182134,0.7885680285805027,1.2079667333213076,-1.1338193040708007,-1.0281056962489104,1.4631693997572655,-1.2346373252081342,-1.3041153929830522,1.0125857786536192,-1.1771585094334218,-1.0191460686594969,1.6270874019194634,1.6352470857265315,1.479603815745456,-0.053249226671664145,-1.5446480438938344,-1.040402879995973,-1.6867294929796088,-1.210554703251589,0.15581014217109276,0.1682279788170383,-1.5334620623871273,1.390764395995321,1.0659579736836868,0.7184804342787031,1.0373182051196397,0.17657064782672371,-0.5337828503224875,-1.5693866069982945,1.098476007128575,-0.2826508854067683,1.2157847417764547,1.0630721945842616,0.22098961323472752,-1.2251584361541683,-1.1636141591070597,-0.8360206228719498,-0.07812402549968789,0.3278070118369919,0.003809851654456195,1.5713352583068998,-1.0420165126842953,-0.7000849530131029,-1.0628158248418935,1.2517839230511238,0.5686606973514826,-0.083188175221272,0.9829740872626181,-1.5008532146388227,-0.024733769494818536,-1.51293146463753,0.0676203636264238,-0.447577464226806,-1.6638155283872458,0.8311620405291219,-1.5319679398467227,0.2331568770429514,0.052920886802860216,-0.17028555383342409,-1.1755342956836856,-1.0804332505929317,0.6147353208383936,-0.07865107745724818,-1.15519182254466,-0.20313338755776683,-1.632299179554203,0.12928981461896466,0.09677789473803311,0.9575716556337278,-0.02301620570864273,0.7810125106287936,-1.1364688062795931,0.8310409599889738,0.5544341601550212,1.0861730951754005,0.5510749549402242,0.9346556610428401,-0.37306949275485246,-0.015946108697582322,0.3063492432830077,0.7222968254825444,0.7475057093537717,1.7234569148982017,1.342997441609455,1.4410114018913216,0.19966306953053242,-0.9586077608295466,1.060585478876111,-0.3819424457629135,-0.0011741605649459525],\"type\":\"scatter\"}],                        {\"template\":{\"data\":{\"histogram2dcontour\":[{\"type\":\"histogram2dcontour\",\"colorbar\":{\"outlinewidth\":0,\"tickcolor\":\"rgb(237,237,237)\",\"ticklen\":6,\"ticks\":\"inside\"},\"colorscale\":[[0,\"rgb(20,44,66)\"],[1,\"rgb(90,179,244)\"]]}],\"choropleth\":[{\"type\":\"choropleth\",\"colorbar\":{\"outlinewidth\":0,\"tickcolor\":\"rgb(237,237,237)\",\"ticklen\":6,\"ticks\":\"inside\"}}],\"histogram2d\":[{\"type\":\"histogram2d\",\"colorbar\":{\"outlinewidth\":0,\"tickcolor\":\"rgb(237,237,237)\",\"ticklen\":6,\"ticks\":\"inside\"},\"colorscale\":[[0,\"rgb(20,44,66)\"],[1,\"rgb(90,179,244)\"]]}],\"heatmap\":[{\"type\":\"heatmap\",\"colorbar\":{\"outlinewidth\":0,\"tickcolor\":\"rgb(237,237,237)\",\"ticklen\":6,\"ticks\":\"inside\"},\"colorscale\":[[0,\"rgb(20,44,66)\"],[1,\"rgb(90,179,244)\"]]}],\"heatmapgl\":[{\"type\":\"heatmapgl\",\"colorbar\":{\"outlinewidth\":0,\"tickcolor\":\"rgb(237,237,237)\",\"ticklen\":6,\"ticks\":\"inside\"},\"colorscale\":[[0,\"rgb(20,44,66)\"],[1,\"rgb(90,179,244)\"]]}],\"contourcarpet\":[{\"type\":\"contourcarpet\",\"colorbar\":{\"outlinewidth\":0,\"tickcolor\":\"rgb(237,237,237)\",\"ticklen\":6,\"ticks\":\"inside\"}}],\"contour\":[{\"type\":\"contour\",\"colorbar\":{\"outlinewidth\":0,\"tickcolor\":\"rgb(237,237,237)\",\"ticklen\":6,\"ticks\":\"inside\"},\"colorscale\":[[0,\"rgb(20,44,66)\"],[1,\"rgb(90,179,244)\"]]}],\"surface\":[{\"type\":\"surface\",\"colorbar\":{\"outlinewidth\":0,\"tickcolor\":\"rgb(237,237,237)\",\"ticklen\":6,\"ticks\":\"inside\"},\"colorscale\":[[0,\"rgb(20,44,66)\"],[1,\"rgb(90,179,244)\"]]}],\"mesh3d\":[{\"type\":\"mesh3d\",\"colorbar\":{\"outlinewidth\":0,\"tickcolor\":\"rgb(237,237,237)\",\"ticklen\":6,\"ticks\":\"inside\"}}],\"scatter\":[{\"fillpattern\":{\"fillmode\":\"overlay\",\"size\":10,\"solidity\":0.2},\"type\":\"scatter\"}],\"parcoords\":[{\"type\":\"parcoords\",\"line\":{\"colorbar\":{\"outlinewidth\":0,\"tickcolor\":\"rgb(237,237,237)\",\"ticklen\":6,\"ticks\":\"inside\"}}}],\"scatterpolargl\":[{\"type\":\"scatterpolargl\",\"marker\":{\"colorbar\":{\"outlinewidth\":0,\"tickcolor\":\"rgb(237,237,237)\",\"ticklen\":6,\"ticks\":\"inside\"}}}],\"bar\":[{\"error_x\":{\"color\":\"rgb(51,51,51)\"},\"error_y\":{\"color\":\"rgb(51,51,51)\"},\"marker\":{\"line\":{\"color\":\"rgb(237,237,237)\",\"width\":0.5},\"pattern\":{\"fillmode\":\"overlay\",\"size\":10,\"solidity\":0.2}},\"type\":\"bar\"}],\"scattergeo\":[{\"type\":\"scattergeo\",\"marker\":{\"colorbar\":{\"outlinewidth\":0,\"tickcolor\":\"rgb(237,237,237)\",\"ticklen\":6,\"ticks\":\"inside\"}}}],\"scatterpolar\":[{\"type\":\"scatterpolar\",\"marker\":{\"colorbar\":{\"outlinewidth\":0,\"tickcolor\":\"rgb(237,237,237)\",\"ticklen\":6,\"ticks\":\"inside\"}}}],\"histogram\":[{\"marker\":{\"pattern\":{\"fillmode\":\"overlay\",\"size\":10,\"solidity\":0.2}},\"type\":\"histogram\"}],\"scattergl\":[{\"type\":\"scattergl\",\"marker\":{\"colorbar\":{\"outlinewidth\":0,\"tickcolor\":\"rgb(237,237,237)\",\"ticklen\":6,\"ticks\":\"inside\"}}}],\"scatter3d\":[{\"type\":\"scatter3d\",\"line\":{\"colorbar\":{\"outlinewidth\":0,\"tickcolor\":\"rgb(237,237,237)\",\"ticklen\":6,\"ticks\":\"inside\"}},\"marker\":{\"colorbar\":{\"outlinewidth\":0,\"tickcolor\":\"rgb(237,237,237)\",\"ticklen\":6,\"ticks\":\"inside\"}}}],\"scattermapbox\":[{\"type\":\"scattermapbox\",\"marker\":{\"colorbar\":{\"outlinewidth\":0,\"tickcolor\":\"rgb(237,237,237)\",\"ticklen\":6,\"ticks\":\"inside\"}}}],\"scatterternary\":[{\"type\":\"scatterternary\",\"marker\":{\"colorbar\":{\"outlinewidth\":0,\"tickcolor\":\"rgb(237,237,237)\",\"ticklen\":6,\"ticks\":\"inside\"}}}],\"scattercarpet\":[{\"type\":\"scattercarpet\",\"marker\":{\"colorbar\":{\"outlinewidth\":0,\"tickcolor\":\"rgb(237,237,237)\",\"ticklen\":6,\"ticks\":\"inside\"}}}],\"carpet\":[{\"aaxis\":{\"endlinecolor\":\"rgb(51,51,51)\",\"gridcolor\":\"white\",\"linecolor\":\"white\",\"minorgridcolor\":\"white\",\"startlinecolor\":\"rgb(51,51,51)\"},\"baxis\":{\"endlinecolor\":\"rgb(51,51,51)\",\"gridcolor\":\"white\",\"linecolor\":\"white\",\"minorgridcolor\":\"white\",\"startlinecolor\":\"rgb(51,51,51)\"},\"type\":\"carpet\"}],\"table\":[{\"cells\":{\"fill\":{\"color\":\"rgb(237,237,237)\"},\"line\":{\"color\":\"white\"}},\"header\":{\"fill\":{\"color\":\"rgb(217,217,217)\"},\"line\":{\"color\":\"white\"}},\"type\":\"table\"}],\"barpolar\":[{\"marker\":{\"line\":{\"color\":\"rgb(237,237,237)\",\"width\":0.5},\"pattern\":{\"fillmode\":\"overlay\",\"size\":10,\"solidity\":0.2}},\"type\":\"barpolar\"}],\"pie\":[{\"automargin\":true,\"type\":\"pie\"}]},\"layout\":{\"autotypenumbers\":\"strict\",\"colorway\":[\"#F8766D\",\"#A3A500\",\"#00BF7D\",\"#00B0F6\",\"#E76BF3\"],\"font\":{\"color\":\"rgb(51,51,51)\"},\"hovermode\":\"closest\",\"hoverlabel\":{\"align\":\"left\"},\"paper_bgcolor\":\"white\",\"plot_bgcolor\":\"rgb(237,237,237)\",\"polar\":{\"bgcolor\":\"rgb(237,237,237)\",\"angularaxis\":{\"gridcolor\":\"white\",\"linecolor\":\"white\",\"showgrid\":true,\"tickcolor\":\"rgb(51,51,51)\",\"ticks\":\"outside\"},\"radialaxis\":{\"gridcolor\":\"white\",\"linecolor\":\"white\",\"showgrid\":true,\"tickcolor\":\"rgb(51,51,51)\",\"ticks\":\"outside\"}},\"ternary\":{\"bgcolor\":\"rgb(237,237,237)\",\"aaxis\":{\"gridcolor\":\"white\",\"linecolor\":\"white\",\"showgrid\":true,\"tickcolor\":\"rgb(51,51,51)\",\"ticks\":\"outside\"},\"baxis\":{\"gridcolor\":\"white\",\"linecolor\":\"white\",\"showgrid\":true,\"tickcolor\":\"rgb(51,51,51)\",\"ticks\":\"outside\"},\"caxis\":{\"gridcolor\":\"white\",\"linecolor\":\"white\",\"showgrid\":true,\"tickcolor\":\"rgb(51,51,51)\",\"ticks\":\"outside\"}},\"coloraxis\":{\"colorbar\":{\"outlinewidth\":0,\"tickcolor\":\"rgb(237,237,237)\",\"ticklen\":6,\"ticks\":\"inside\"}},\"colorscale\":{\"sequential\":[[0,\"rgb(20,44,66)\"],[1,\"rgb(90,179,244)\"]],\"sequentialminus\":[[0,\"rgb(20,44,66)\"],[1,\"rgb(90,179,244)\"]]},\"xaxis\":{\"gridcolor\":\"white\",\"linecolor\":\"white\",\"showgrid\":true,\"tickcolor\":\"rgb(51,51,51)\",\"ticks\":\"outside\",\"title\":{\"standoff\":15},\"zerolinecolor\":\"white\",\"automargin\":true},\"yaxis\":{\"gridcolor\":\"white\",\"linecolor\":\"white\",\"showgrid\":true,\"tickcolor\":\"rgb(51,51,51)\",\"ticks\":\"outside\",\"title\":{\"standoff\":15},\"zerolinecolor\":\"white\",\"automargin\":true},\"scene\":{\"xaxis\":{\"backgroundcolor\":\"rgb(237,237,237)\",\"gridcolor\":\"white\",\"linecolor\":\"white\",\"showbackground\":true,\"showgrid\":true,\"tickcolor\":\"rgb(51,51,51)\",\"ticks\":\"outside\",\"zerolinecolor\":\"white\",\"gridwidth\":2},\"yaxis\":{\"backgroundcolor\":\"rgb(237,237,237)\",\"gridcolor\":\"white\",\"linecolor\":\"white\",\"showbackground\":true,\"showgrid\":true,\"tickcolor\":\"rgb(51,51,51)\",\"ticks\":\"outside\",\"zerolinecolor\":\"white\",\"gridwidth\":2},\"zaxis\":{\"backgroundcolor\":\"rgb(237,237,237)\",\"gridcolor\":\"white\",\"linecolor\":\"white\",\"showbackground\":true,\"showgrid\":true,\"tickcolor\":\"rgb(51,51,51)\",\"ticks\":\"outside\",\"zerolinecolor\":\"white\",\"gridwidth\":2}},\"shapedefaults\":{\"fillcolor\":\"black\",\"line\":{\"width\":0},\"opacity\":0.3},\"annotationdefaults\":{\"arrowhead\":0,\"arrowwidth\":1},\"geo\":{\"bgcolor\":\"white\",\"landcolor\":\"rgb(237,237,237)\",\"subunitcolor\":\"white\",\"showland\":true,\"showlakes\":true,\"lakecolor\":\"white\"}}},\"xaxis\":{\"anchor\":\"y\",\"domain\":[0.0,1.0],\"title\":{\"text\":\"x\"}},\"yaxis\":{\"anchor\":\"x\",\"domain\":[0.0,1.0],\"title\":{\"text\":\"y\"}},\"legend\":{\"tracegroupgap\":0},\"margin\":{\"t\":60}},                        {\"responsive\": true}                    ).then(function(){\n                            \nvar gd = document.getElementById('1917857d-deeb-4d30-b499-8a257ddb9472');\nvar x = new MutationObserver(function (mutations, observer) {{\n        var display = window.getComputedStyle(gd).display;\n        if (!display || display === 'none') {{\n            console.log([gd, 'removed!']);\n            Plotly.purge(gd);\n            observer.disconnect();\n        }}\n}});\n\n// Listen for the removal of the full notebook cells\nvar notebookContainer = gd.closest('#notebook-container');\nif (notebookContainer) {{\n    x.observe(notebookContainer, {childList: true});\n}}\n\n// Listen for the clearing of the current output cell\nvar outputEl = gd.closest('.output');\nif (outputEl) {{\n    x.observe(outputEl, {childList: true});\n}}\n\n                        })                };                });            </script>        </div>"
     },
     "metadata": {},
     "output_type": "display_data"
    }
   ],
   "source": [
    "fig = px.scatter(x=kmeans.centroids[:, 0], y=kmeans.centroids[:, 1])\n",
    "fig.update_traces(mode='markers', marker_size=12, marker_color='black', marker_symbol='x-thin', marker_line_width=2)\n",
    "fig.add_scatter(x=x_train_scaled[:, 0], y=x_train_scaled[:, 1], marker_color=kmeans.labels, mode='markers')\n",
    "fig.show()"
   ],
   "metadata": {
    "collapsed": false
   }
  },
  {
   "cell_type": "code",
   "execution_count": 31,
   "outputs": [],
   "source": [
    "kmeans = RobustKMeans(n_clusters=n_clusters, max_iter=300)\n",
    "kmeans.fit(x_train_scaled, n=10000)"
   ],
   "metadata": {
    "collapsed": false
   }
  },
  {
   "cell_type": "code",
   "execution_count": 32,
   "outputs": [
    {
     "data": {
      "text/plain": "(97.7197425041262, 0.9509803921568627)"
     },
     "execution_count": 32,
     "metadata": {},
     "output_type": "execute_result"
    }
   ],
   "source": [
    "kmeans.inertia, kmeans.score(true_labels)"
   ],
   "metadata": {
    "collapsed": false
   }
  },
  {
   "cell_type": "code",
   "execution_count": 33,
   "outputs": [
    {
     "data": {
      "application/vnd.plotly.v1+json": {
       "data": [
        {
         "hovertemplate": "x=%{x}<br>y=%{y}<br>color=%{marker.color}<extra></extra>",
         "legendgroup": "",
         "marker": {
          "color": [
           1,
           0,
           2,
           0,
           1,
           0,
           2,
           0,
           0,
           2,
           2,
           1,
           1,
           2,
           2,
           1,
           1,
           2,
           1,
           1,
           2,
           1,
           1,
           2,
           2,
           2,
           0,
           1,
           1,
           1,
           1,
           0,
           0,
           1,
           2,
           2,
           2,
           2,
           0,
           0,
           1,
           2,
           0,
           2,
           2,
           0,
           1,
           1,
           1,
           0,
           0,
           0,
           2,
           1,
           1,
           1,
           2,
           2,
           0,
           2,
           1,
           0,
           1,
           0,
           1,
           1,
           2,
           1,
           0,
           0,
           0,
           1,
           1,
           2,
           0,
           1,
           0,
           1,
           0,
           0,
           2,
           0,
           2,
           1,
           2,
           2,
           2,
           2,
           2,
           0,
           0,
           0,
           2,
           2,
           2,
           2,
           2,
           0,
           1,
           2,
           0,
           0
          ],
          "coloraxis": "coloraxis",
          "symbol": "circle"
         },
         "mode": "markers",
         "name": "",
         "orientation": "v",
         "showlegend": false,
         "x": [
          -0.37874488852129934,
          0.14922447554129903,
          -0.19640959909717792,
          0.1911540673184018,
          -0.2930337800599958,
          0.020858330977173288,
          -0.13943367016993655,
          0.07570864082982538,
          0.0982467213726084,
          -0.24490261163628557,
          -0.20173964856300752,
          -0.30230713519033064,
          -0.28135350453163466,
          -0.2417249605260972,
          -0.11045942023350609,
          -0.3946904775581515,
          -0.298804148084049,
          -0.1681283125304248,
          -0.3813821309799216,
          -0.2848189987586789,
          -0.19597863941298557,
          -0.3239780019931792,
          -0.3502633380949914,
          -0.1372896367884141,
          -0.1655536599206825,
          -0.19578090720833136,
          -0.009370459296174595,
          -0.2739729703997058,
          -0.3878446646466181,
          -0.4065062313871537,
          -0.36687855938642877,
          0.11240946486030265,
          0.07765193010292384,
          -0.23605284177694244,
          -0.05063672081412118,
          -0.20574250170244576,
          -0.15819956233537133,
          -0.1399445196743437,
          0.15647402303912133,
          0.09786841019093306,
          -0.4165189671801492,
          -0.19709978514944299,
          0.08886934626535148,
          -0.25751061570785805,
          -0.17123335477380333,
          0.015751773570534002,
          -0.4328712091332682,
          -0.30616931938843456,
          -0.3175667444352864,
          0.03381145118623235,
          -0.0950668590009171,
          0.09170308187364339,
          -0.10518978760226144,
          -0.30000010971119023,
          -0.2599987797606272,
          -0.33439222007841907,
          -0.23507176043255862,
          -0.1457878305778149,
          0.19649773537441328,
          -0.2857397831293928,
          -0.2976385217435197,
          0.041385149774395585,
          -0.335952301362593,
          -0.045189561335198344,
          -0.33732335320994344,
          -0.30325819695109724,
          0.09562487518806079,
          -0.38178465031685166,
          0.05364452762446688,
          0.10966505207579466,
          0.0669536302440616,
          -0.300668244479947,
          -0.40325823641828534,
          -0.13855456903912064,
          0.09842985939790952,
          -0.24994354264565677,
          0.14762455215027243,
          -0.3143500848972982,
          0.2255494515442211,
          -0.018997114197220902,
          -0.13727252990738176,
          0.03560740750208892,
          -0.10447688641186618,
          -0.18573402867251956,
          -0.16396486904164273,
          -0.14814294332821462,
          -0.05871728964309308,
          0.025918261142923883,
          -0.26820766252003125,
          0.06343906122065698,
          0.09753300963519916,
          0.1726559807007017,
          -0.2276142898260126,
          0.13309663592701199,
          -0.20581848895364158,
          -0.2111703863069214,
          -0.08964444711760368,
          0.07986306759954868,
          -0.24142814517341896,
          -0.22271840861670203,
          6.858758823745558,
          7.0619935814799595
         ],
         "xaxis": "x",
         "y": [
          -1.746343902695137,
          -0.3017217565428969,
          1.321801334818714,
          -0.3541588257477714,
          -1.1098030707772657,
          -0.09791693045488237,
          1.4545862978268762,
          0.1852683508333145,
          0.3728090138390621,
          1.2706292074372476,
          1.1894296538412619,
          -0.880914932472396,
          -1.1907034414182134,
          0.7885680285805027,
          1.2079667333213076,
          -1.1338193040708007,
          -1.0281056962489104,
          1.4631693997572655,
          -1.2346373252081342,
          -1.3041153929830522,
          1.0125857786536192,
          -1.1771585094334218,
          -1.0191460686594969,
          1.6270874019194634,
          1.6352470857265315,
          1.479603815745456,
          -0.053249226671664145,
          -1.5446480438938344,
          -1.040402879995973,
          -1.6867294929796088,
          -1.210554703251589,
          0.15581014217109276,
          0.1682279788170383,
          -1.5334620623871273,
          1.390764395995321,
          1.0659579736836868,
          0.7184804342787031,
          1.0373182051196397,
          0.17657064782672371,
          -0.5337828503224875,
          -1.5693866069982945,
          1.098476007128575,
          -0.2826508854067683,
          1.2157847417764547,
          1.0630721945842616,
          0.22098961323472752,
          -1.2251584361541683,
          -1.1636141591070597,
          -0.8360206228719498,
          -0.07812402549968789,
          0.3278070118369919,
          0.003809851654456195,
          1.5713352583068998,
          -1.0420165126842953,
          -0.7000849530131029,
          -1.0628158248418935,
          1.2517839230511238,
          0.5686606973514826,
          -0.083188175221272,
          0.9829740872626181,
          -1.5008532146388227,
          -0.024733769494818536,
          -1.51293146463753,
          0.0676203636264238,
          -0.447577464226806,
          -1.6638155283872458,
          0.8311620405291219,
          -1.5319679398467227,
          0.2331568770429514,
          0.052920886802860216,
          -0.17028555383342409,
          -1.1755342956836856,
          -1.0804332505929317,
          0.6147353208383936,
          -0.07865107745724818,
          -1.15519182254466,
          -0.20313338755776683,
          -1.632299179554203,
          0.12928981461896466,
          0.09677789473803311,
          0.9575716556337278,
          -0.02301620570864273,
          0.7810125106287936,
          -1.1364688062795931,
          0.8310409599889738,
          0.5544341601550212,
          1.0861730951754005,
          0.5510749549402242,
          0.9346556610428401,
          -0.37306949275485246,
          -0.015946108697582322,
          0.3063492432830077,
          0.7222968254825444,
          0.7475057093537717,
          1.7234569148982017,
          1.342997441609455,
          1.4410114018913216,
          0.19966306953053242,
          -0.9586077608295466,
          1.060585478876111,
          -0.3819424457629135,
          -0.0011741605649459525
         ],
         "yaxis": "y",
         "type": "scatter"
        },
        {
         "marker": {
          "color": "black",
          "line": {
           "width": 2
          },
          "size": 12,
          "symbol": "x-thin"
         },
         "mode": "markers",
         "showlegend": false,
         "x": [
          0.5112217983271992,
          -0.32363164261734056,
          -0.15327662931822073
         ],
         "y": [
          -0.011262697082334738,
          -1.2193226216423732,
          1.0972250869020075
         ],
         "type": "scatter"
        }
       ],
       "layout": {
        "template": {
         "data": {
          "histogram2dcontour": [
           {
            "type": "histogram2dcontour",
            "colorbar": {
             "outlinewidth": 0,
             "tickcolor": "rgb(237,237,237)",
             "ticklen": 6,
             "ticks": "inside"
            },
            "colorscale": [
             [
              0,
              "rgb(20,44,66)"
             ],
             [
              1,
              "rgb(90,179,244)"
             ]
            ]
           }
          ],
          "choropleth": [
           {
            "type": "choropleth",
            "colorbar": {
             "outlinewidth": 0,
             "tickcolor": "rgb(237,237,237)",
             "ticklen": 6,
             "ticks": "inside"
            }
           }
          ],
          "histogram2d": [
           {
            "type": "histogram2d",
            "colorbar": {
             "outlinewidth": 0,
             "tickcolor": "rgb(237,237,237)",
             "ticklen": 6,
             "ticks": "inside"
            },
            "colorscale": [
             [
              0,
              "rgb(20,44,66)"
             ],
             [
              1,
              "rgb(90,179,244)"
             ]
            ]
           }
          ],
          "heatmap": [
           {
            "type": "heatmap",
            "colorbar": {
             "outlinewidth": 0,
             "tickcolor": "rgb(237,237,237)",
             "ticklen": 6,
             "ticks": "inside"
            },
            "colorscale": [
             [
              0,
              "rgb(20,44,66)"
             ],
             [
              1,
              "rgb(90,179,244)"
             ]
            ]
           }
          ],
          "heatmapgl": [
           {
            "type": "heatmapgl",
            "colorbar": {
             "outlinewidth": 0,
             "tickcolor": "rgb(237,237,237)",
             "ticklen": 6,
             "ticks": "inside"
            },
            "colorscale": [
             [
              0,
              "rgb(20,44,66)"
             ],
             [
              1,
              "rgb(90,179,244)"
             ]
            ]
           }
          ],
          "contourcarpet": [
           {
            "type": "contourcarpet",
            "colorbar": {
             "outlinewidth": 0,
             "tickcolor": "rgb(237,237,237)",
             "ticklen": 6,
             "ticks": "inside"
            }
           }
          ],
          "contour": [
           {
            "type": "contour",
            "colorbar": {
             "outlinewidth": 0,
             "tickcolor": "rgb(237,237,237)",
             "ticklen": 6,
             "ticks": "inside"
            },
            "colorscale": [
             [
              0,
              "rgb(20,44,66)"
             ],
             [
              1,
              "rgb(90,179,244)"
             ]
            ]
           }
          ],
          "surface": [
           {
            "type": "surface",
            "colorbar": {
             "outlinewidth": 0,
             "tickcolor": "rgb(237,237,237)",
             "ticklen": 6,
             "ticks": "inside"
            },
            "colorscale": [
             [
              0,
              "rgb(20,44,66)"
             ],
             [
              1,
              "rgb(90,179,244)"
             ]
            ]
           }
          ],
          "mesh3d": [
           {
            "type": "mesh3d",
            "colorbar": {
             "outlinewidth": 0,
             "tickcolor": "rgb(237,237,237)",
             "ticklen": 6,
             "ticks": "inside"
            }
           }
          ],
          "scatter": [
           {
            "fillpattern": {
             "fillmode": "overlay",
             "size": 10,
             "solidity": 0.2
            },
            "type": "scatter"
           }
          ],
          "parcoords": [
           {
            "type": "parcoords",
            "line": {
             "colorbar": {
              "outlinewidth": 0,
              "tickcolor": "rgb(237,237,237)",
              "ticklen": 6,
              "ticks": "inside"
             }
            }
           }
          ],
          "scatterpolargl": [
           {
            "type": "scatterpolargl",
            "marker": {
             "colorbar": {
              "outlinewidth": 0,
              "tickcolor": "rgb(237,237,237)",
              "ticklen": 6,
              "ticks": "inside"
             }
            }
           }
          ],
          "bar": [
           {
            "error_x": {
             "color": "rgb(51,51,51)"
            },
            "error_y": {
             "color": "rgb(51,51,51)"
            },
            "marker": {
             "line": {
              "color": "rgb(237,237,237)",
              "width": 0.5
             },
             "pattern": {
              "fillmode": "overlay",
              "size": 10,
              "solidity": 0.2
             }
            },
            "type": "bar"
           }
          ],
          "scattergeo": [
           {
            "type": "scattergeo",
            "marker": {
             "colorbar": {
              "outlinewidth": 0,
              "tickcolor": "rgb(237,237,237)",
              "ticklen": 6,
              "ticks": "inside"
             }
            }
           }
          ],
          "scatterpolar": [
           {
            "type": "scatterpolar",
            "marker": {
             "colorbar": {
              "outlinewidth": 0,
              "tickcolor": "rgb(237,237,237)",
              "ticklen": 6,
              "ticks": "inside"
             }
            }
           }
          ],
          "histogram": [
           {
            "marker": {
             "pattern": {
              "fillmode": "overlay",
              "size": 10,
              "solidity": 0.2
             }
            },
            "type": "histogram"
           }
          ],
          "scattergl": [
           {
            "type": "scattergl",
            "marker": {
             "colorbar": {
              "outlinewidth": 0,
              "tickcolor": "rgb(237,237,237)",
              "ticklen": 6,
              "ticks": "inside"
             }
            }
           }
          ],
          "scatter3d": [
           {
            "type": "scatter3d",
            "line": {
             "colorbar": {
              "outlinewidth": 0,
              "tickcolor": "rgb(237,237,237)",
              "ticklen": 6,
              "ticks": "inside"
             }
            },
            "marker": {
             "colorbar": {
              "outlinewidth": 0,
              "tickcolor": "rgb(237,237,237)",
              "ticklen": 6,
              "ticks": "inside"
             }
            }
           }
          ],
          "scattermapbox": [
           {
            "type": "scattermapbox",
            "marker": {
             "colorbar": {
              "outlinewidth": 0,
              "tickcolor": "rgb(237,237,237)",
              "ticklen": 6,
              "ticks": "inside"
             }
            }
           }
          ],
          "scatterternary": [
           {
            "type": "scatterternary",
            "marker": {
             "colorbar": {
              "outlinewidth": 0,
              "tickcolor": "rgb(237,237,237)",
              "ticklen": 6,
              "ticks": "inside"
             }
            }
           }
          ],
          "scattercarpet": [
           {
            "type": "scattercarpet",
            "marker": {
             "colorbar": {
              "outlinewidth": 0,
              "tickcolor": "rgb(237,237,237)",
              "ticklen": 6,
              "ticks": "inside"
             }
            }
           }
          ],
          "carpet": [
           {
            "aaxis": {
             "endlinecolor": "rgb(51,51,51)",
             "gridcolor": "white",
             "linecolor": "white",
             "minorgridcolor": "white",
             "startlinecolor": "rgb(51,51,51)"
            },
            "baxis": {
             "endlinecolor": "rgb(51,51,51)",
             "gridcolor": "white",
             "linecolor": "white",
             "minorgridcolor": "white",
             "startlinecolor": "rgb(51,51,51)"
            },
            "type": "carpet"
           }
          ],
          "table": [
           {
            "cells": {
             "fill": {
              "color": "rgb(237,237,237)"
             },
             "line": {
              "color": "white"
             }
            },
            "header": {
             "fill": {
              "color": "rgb(217,217,217)"
             },
             "line": {
              "color": "white"
             }
            },
            "type": "table"
           }
          ],
          "barpolar": [
           {
            "marker": {
             "line": {
              "color": "rgb(237,237,237)",
              "width": 0.5
             },
             "pattern": {
              "fillmode": "overlay",
              "size": 10,
              "solidity": 0.2
             }
            },
            "type": "barpolar"
           }
          ],
          "pie": [
           {
            "automargin": true,
            "type": "pie"
           }
          ]
         },
         "layout": {
          "autotypenumbers": "strict",
          "colorway": [
           "#F8766D",
           "#A3A500",
           "#00BF7D",
           "#00B0F6",
           "#E76BF3"
          ],
          "font": {
           "color": "rgb(51,51,51)"
          },
          "hovermode": "closest",
          "hoverlabel": {
           "align": "left"
          },
          "paper_bgcolor": "white",
          "plot_bgcolor": "rgb(237,237,237)",
          "polar": {
           "bgcolor": "rgb(237,237,237)",
           "angularaxis": {
            "gridcolor": "white",
            "linecolor": "white",
            "showgrid": true,
            "tickcolor": "rgb(51,51,51)",
            "ticks": "outside"
           },
           "radialaxis": {
            "gridcolor": "white",
            "linecolor": "white",
            "showgrid": true,
            "tickcolor": "rgb(51,51,51)",
            "ticks": "outside"
           }
          },
          "ternary": {
           "bgcolor": "rgb(237,237,237)",
           "aaxis": {
            "gridcolor": "white",
            "linecolor": "white",
            "showgrid": true,
            "tickcolor": "rgb(51,51,51)",
            "ticks": "outside"
           },
           "baxis": {
            "gridcolor": "white",
            "linecolor": "white",
            "showgrid": true,
            "tickcolor": "rgb(51,51,51)",
            "ticks": "outside"
           },
           "caxis": {
            "gridcolor": "white",
            "linecolor": "white",
            "showgrid": true,
            "tickcolor": "rgb(51,51,51)",
            "ticks": "outside"
           }
          },
          "coloraxis": {
           "colorbar": {
            "outlinewidth": 0,
            "tickcolor": "rgb(237,237,237)",
            "ticklen": 6,
            "ticks": "inside"
           }
          },
          "colorscale": {
           "sequential": [
            [
             0,
             "rgb(20,44,66)"
            ],
            [
             1,
             "rgb(90,179,244)"
            ]
           ],
           "sequentialminus": [
            [
             0,
             "rgb(20,44,66)"
            ],
            [
             1,
             "rgb(90,179,244)"
            ]
           ]
          },
          "xaxis": {
           "gridcolor": "white",
           "linecolor": "white",
           "showgrid": true,
           "tickcolor": "rgb(51,51,51)",
           "ticks": "outside",
           "title": {
            "standoff": 15
           },
           "zerolinecolor": "white",
           "automargin": true
          },
          "yaxis": {
           "gridcolor": "white",
           "linecolor": "white",
           "showgrid": true,
           "tickcolor": "rgb(51,51,51)",
           "ticks": "outside",
           "title": {
            "standoff": 15
           },
           "zerolinecolor": "white",
           "automargin": true
          },
          "scene": {
           "xaxis": {
            "backgroundcolor": "rgb(237,237,237)",
            "gridcolor": "white",
            "linecolor": "white",
            "showbackground": true,
            "showgrid": true,
            "tickcolor": "rgb(51,51,51)",
            "ticks": "outside",
            "zerolinecolor": "white",
            "gridwidth": 2
           },
           "yaxis": {
            "backgroundcolor": "rgb(237,237,237)",
            "gridcolor": "white",
            "linecolor": "white",
            "showbackground": true,
            "showgrid": true,
            "tickcolor": "rgb(51,51,51)",
            "ticks": "outside",
            "zerolinecolor": "white",
            "gridwidth": 2
           },
           "zaxis": {
            "backgroundcolor": "rgb(237,237,237)",
            "gridcolor": "white",
            "linecolor": "white",
            "showbackground": true,
            "showgrid": true,
            "tickcolor": "rgb(51,51,51)",
            "ticks": "outside",
            "zerolinecolor": "white",
            "gridwidth": 2
           }
          },
          "shapedefaults": {
           "fillcolor": "black",
           "line": {
            "width": 0
           },
           "opacity": 0.3
          },
          "annotationdefaults": {
           "arrowhead": 0,
           "arrowwidth": 1
          },
          "geo": {
           "bgcolor": "white",
           "landcolor": "rgb(237,237,237)",
           "subunitcolor": "white",
           "showland": true,
           "showlakes": true,
           "lakecolor": "white"
          }
         }
        },
        "xaxis": {
         "anchor": "y",
         "domain": [
          0.0,
          1.0
         ],
         "title": {
          "text": "x"
         }
        },
        "yaxis": {
         "anchor": "x",
         "domain": [
          0.0,
          1.0
         ],
         "title": {
          "text": "y"
         }
        },
        "coloraxis": {
         "colorbar": {
          "title": {
           "text": "color"
          }
         },
         "colorscale": [
          [
           0.0,
           "rgb(20,44,66)"
          ],
          [
           1.0,
           "rgb(90,179,244)"
          ]
         ]
        },
        "legend": {
         "tracegroupgap": 0
        },
        "margin": {
         "t": 60
        }
       },
       "config": {
        "plotlyServerURL": "https://plot.ly"
       }
      },
      "text/html": "<div>                            <div id=\"75e4be1d-5f7a-41b6-b61c-df26c442cf8d\" class=\"plotly-graph-div\" style=\"height:525px; width:100%;\"></div>            <script type=\"text/javascript\">                require([\"plotly\"], function(Plotly) {                    window.PLOTLYENV=window.PLOTLYENV || {};                                    if (document.getElementById(\"75e4be1d-5f7a-41b6-b61c-df26c442cf8d\")) {                    Plotly.newPlot(                        \"75e4be1d-5f7a-41b6-b61c-df26c442cf8d\",                        [{\"hovertemplate\":\"x=%{x}<br>y=%{y}<br>color=%{marker.color}<extra></extra>\",\"legendgroup\":\"\",\"marker\":{\"color\":[1,0,2,0,1,0,2,0,0,2,2,1,1,2,2,1,1,2,1,1,2,1,1,2,2,2,0,1,1,1,1,0,0,1,2,2,2,2,0,0,1,2,0,2,2,0,1,1,1,0,0,0,2,1,1,1,2,2,0,2,1,0,1,0,1,1,2,1,0,0,0,1,1,2,0,1,0,1,0,0,2,0,2,1,2,2,2,2,2,0,0,0,2,2,2,2,2,0,1,2,0,0],\"coloraxis\":\"coloraxis\",\"symbol\":\"circle\"},\"mode\":\"markers\",\"name\":\"\",\"orientation\":\"v\",\"showlegend\":false,\"x\":[-0.37874488852129934,0.14922447554129903,-0.19640959909717792,0.1911540673184018,-0.2930337800599958,0.020858330977173288,-0.13943367016993655,0.07570864082982538,0.0982467213726084,-0.24490261163628557,-0.20173964856300752,-0.30230713519033064,-0.28135350453163466,-0.2417249605260972,-0.11045942023350609,-0.3946904775581515,-0.298804148084049,-0.1681283125304248,-0.3813821309799216,-0.2848189987586789,-0.19597863941298557,-0.3239780019931792,-0.3502633380949914,-0.1372896367884141,-0.1655536599206825,-0.19578090720833136,-0.009370459296174595,-0.2739729703997058,-0.3878446646466181,-0.4065062313871537,-0.36687855938642877,0.11240946486030265,0.07765193010292384,-0.23605284177694244,-0.05063672081412118,-0.20574250170244576,-0.15819956233537133,-0.1399445196743437,0.15647402303912133,0.09786841019093306,-0.4165189671801492,-0.19709978514944299,0.08886934626535148,-0.25751061570785805,-0.17123335477380333,0.015751773570534002,-0.4328712091332682,-0.30616931938843456,-0.3175667444352864,0.03381145118623235,-0.0950668590009171,0.09170308187364339,-0.10518978760226144,-0.30000010971119023,-0.2599987797606272,-0.33439222007841907,-0.23507176043255862,-0.1457878305778149,0.19649773537441328,-0.2857397831293928,-0.2976385217435197,0.041385149774395585,-0.335952301362593,-0.045189561335198344,-0.33732335320994344,-0.30325819695109724,0.09562487518806079,-0.38178465031685166,0.05364452762446688,0.10966505207579466,0.0669536302440616,-0.300668244479947,-0.40325823641828534,-0.13855456903912064,0.09842985939790952,-0.24994354264565677,0.14762455215027243,-0.3143500848972982,0.2255494515442211,-0.018997114197220902,-0.13727252990738176,0.03560740750208892,-0.10447688641186618,-0.18573402867251956,-0.16396486904164273,-0.14814294332821462,-0.05871728964309308,0.025918261142923883,-0.26820766252003125,0.06343906122065698,0.09753300963519916,0.1726559807007017,-0.2276142898260126,0.13309663592701199,-0.20581848895364158,-0.2111703863069214,-0.08964444711760368,0.07986306759954868,-0.24142814517341896,-0.22271840861670203,6.858758823745558,7.0619935814799595],\"xaxis\":\"x\",\"y\":[-1.746343902695137,-0.3017217565428969,1.321801334818714,-0.3541588257477714,-1.1098030707772657,-0.09791693045488237,1.4545862978268762,0.1852683508333145,0.3728090138390621,1.2706292074372476,1.1894296538412619,-0.880914932472396,-1.1907034414182134,0.7885680285805027,1.2079667333213076,-1.1338193040708007,-1.0281056962489104,1.4631693997572655,-1.2346373252081342,-1.3041153929830522,1.0125857786536192,-1.1771585094334218,-1.0191460686594969,1.6270874019194634,1.6352470857265315,1.479603815745456,-0.053249226671664145,-1.5446480438938344,-1.040402879995973,-1.6867294929796088,-1.210554703251589,0.15581014217109276,0.1682279788170383,-1.5334620623871273,1.390764395995321,1.0659579736836868,0.7184804342787031,1.0373182051196397,0.17657064782672371,-0.5337828503224875,-1.5693866069982945,1.098476007128575,-0.2826508854067683,1.2157847417764547,1.0630721945842616,0.22098961323472752,-1.2251584361541683,-1.1636141591070597,-0.8360206228719498,-0.07812402549968789,0.3278070118369919,0.003809851654456195,1.5713352583068998,-1.0420165126842953,-0.7000849530131029,-1.0628158248418935,1.2517839230511238,0.5686606973514826,-0.083188175221272,0.9829740872626181,-1.5008532146388227,-0.024733769494818536,-1.51293146463753,0.0676203636264238,-0.447577464226806,-1.6638155283872458,0.8311620405291219,-1.5319679398467227,0.2331568770429514,0.052920886802860216,-0.17028555383342409,-1.1755342956836856,-1.0804332505929317,0.6147353208383936,-0.07865107745724818,-1.15519182254466,-0.20313338755776683,-1.632299179554203,0.12928981461896466,0.09677789473803311,0.9575716556337278,-0.02301620570864273,0.7810125106287936,-1.1364688062795931,0.8310409599889738,0.5544341601550212,1.0861730951754005,0.5510749549402242,0.9346556610428401,-0.37306949275485246,-0.015946108697582322,0.3063492432830077,0.7222968254825444,0.7475057093537717,1.7234569148982017,1.342997441609455,1.4410114018913216,0.19966306953053242,-0.9586077608295466,1.060585478876111,-0.3819424457629135,-0.0011741605649459525],\"yaxis\":\"y\",\"type\":\"scatter\"},{\"marker\":{\"color\":\"black\",\"line\":{\"width\":2},\"size\":12,\"symbol\":\"x-thin\"},\"mode\":\"markers\",\"showlegend\":false,\"x\":[0.5112217983271992,-0.32363164261734056,-0.15327662931822073],\"y\":[-0.011262697082334738,-1.2193226216423732,1.0972250869020075],\"type\":\"scatter\"}],                        {\"template\":{\"data\":{\"histogram2dcontour\":[{\"type\":\"histogram2dcontour\",\"colorbar\":{\"outlinewidth\":0,\"tickcolor\":\"rgb(237,237,237)\",\"ticklen\":6,\"ticks\":\"inside\"},\"colorscale\":[[0,\"rgb(20,44,66)\"],[1,\"rgb(90,179,244)\"]]}],\"choropleth\":[{\"type\":\"choropleth\",\"colorbar\":{\"outlinewidth\":0,\"tickcolor\":\"rgb(237,237,237)\",\"ticklen\":6,\"ticks\":\"inside\"}}],\"histogram2d\":[{\"type\":\"histogram2d\",\"colorbar\":{\"outlinewidth\":0,\"tickcolor\":\"rgb(237,237,237)\",\"ticklen\":6,\"ticks\":\"inside\"},\"colorscale\":[[0,\"rgb(20,44,66)\"],[1,\"rgb(90,179,244)\"]]}],\"heatmap\":[{\"type\":\"heatmap\",\"colorbar\":{\"outlinewidth\":0,\"tickcolor\":\"rgb(237,237,237)\",\"ticklen\":6,\"ticks\":\"inside\"},\"colorscale\":[[0,\"rgb(20,44,66)\"],[1,\"rgb(90,179,244)\"]]}],\"heatmapgl\":[{\"type\":\"heatmapgl\",\"colorbar\":{\"outlinewidth\":0,\"tickcolor\":\"rgb(237,237,237)\",\"ticklen\":6,\"ticks\":\"inside\"},\"colorscale\":[[0,\"rgb(20,44,66)\"],[1,\"rgb(90,179,244)\"]]}],\"contourcarpet\":[{\"type\":\"contourcarpet\",\"colorbar\":{\"outlinewidth\":0,\"tickcolor\":\"rgb(237,237,237)\",\"ticklen\":6,\"ticks\":\"inside\"}}],\"contour\":[{\"type\":\"contour\",\"colorbar\":{\"outlinewidth\":0,\"tickcolor\":\"rgb(237,237,237)\",\"ticklen\":6,\"ticks\":\"inside\"},\"colorscale\":[[0,\"rgb(20,44,66)\"],[1,\"rgb(90,179,244)\"]]}],\"surface\":[{\"type\":\"surface\",\"colorbar\":{\"outlinewidth\":0,\"tickcolor\":\"rgb(237,237,237)\",\"ticklen\":6,\"ticks\":\"inside\"},\"colorscale\":[[0,\"rgb(20,44,66)\"],[1,\"rgb(90,179,244)\"]]}],\"mesh3d\":[{\"type\":\"mesh3d\",\"colorbar\":{\"outlinewidth\":0,\"tickcolor\":\"rgb(237,237,237)\",\"ticklen\":6,\"ticks\":\"inside\"}}],\"scatter\":[{\"fillpattern\":{\"fillmode\":\"overlay\",\"size\":10,\"solidity\":0.2},\"type\":\"scatter\"}],\"parcoords\":[{\"type\":\"parcoords\",\"line\":{\"colorbar\":{\"outlinewidth\":0,\"tickcolor\":\"rgb(237,237,237)\",\"ticklen\":6,\"ticks\":\"inside\"}}}],\"scatterpolargl\":[{\"type\":\"scatterpolargl\",\"marker\":{\"colorbar\":{\"outlinewidth\":0,\"tickcolor\":\"rgb(237,237,237)\",\"ticklen\":6,\"ticks\":\"inside\"}}}],\"bar\":[{\"error_x\":{\"color\":\"rgb(51,51,51)\"},\"error_y\":{\"color\":\"rgb(51,51,51)\"},\"marker\":{\"line\":{\"color\":\"rgb(237,237,237)\",\"width\":0.5},\"pattern\":{\"fillmode\":\"overlay\",\"size\":10,\"solidity\":0.2}},\"type\":\"bar\"}],\"scattergeo\":[{\"type\":\"scattergeo\",\"marker\":{\"colorbar\":{\"outlinewidth\":0,\"tickcolor\":\"rgb(237,237,237)\",\"ticklen\":6,\"ticks\":\"inside\"}}}],\"scatterpolar\":[{\"type\":\"scatterpolar\",\"marker\":{\"colorbar\":{\"outlinewidth\":0,\"tickcolor\":\"rgb(237,237,237)\",\"ticklen\":6,\"ticks\":\"inside\"}}}],\"histogram\":[{\"marker\":{\"pattern\":{\"fillmode\":\"overlay\",\"size\":10,\"solidity\":0.2}},\"type\":\"histogram\"}],\"scattergl\":[{\"type\":\"scattergl\",\"marker\":{\"colorbar\":{\"outlinewidth\":0,\"tickcolor\":\"rgb(237,237,237)\",\"ticklen\":6,\"ticks\":\"inside\"}}}],\"scatter3d\":[{\"type\":\"scatter3d\",\"line\":{\"colorbar\":{\"outlinewidth\":0,\"tickcolor\":\"rgb(237,237,237)\",\"ticklen\":6,\"ticks\":\"inside\"}},\"marker\":{\"colorbar\":{\"outlinewidth\":0,\"tickcolor\":\"rgb(237,237,237)\",\"ticklen\":6,\"ticks\":\"inside\"}}}],\"scattermapbox\":[{\"type\":\"scattermapbox\",\"marker\":{\"colorbar\":{\"outlinewidth\":0,\"tickcolor\":\"rgb(237,237,237)\",\"ticklen\":6,\"ticks\":\"inside\"}}}],\"scatterternary\":[{\"type\":\"scatterternary\",\"marker\":{\"colorbar\":{\"outlinewidth\":0,\"tickcolor\":\"rgb(237,237,237)\",\"ticklen\":6,\"ticks\":\"inside\"}}}],\"scattercarpet\":[{\"type\":\"scattercarpet\",\"marker\":{\"colorbar\":{\"outlinewidth\":0,\"tickcolor\":\"rgb(237,237,237)\",\"ticklen\":6,\"ticks\":\"inside\"}}}],\"carpet\":[{\"aaxis\":{\"endlinecolor\":\"rgb(51,51,51)\",\"gridcolor\":\"white\",\"linecolor\":\"white\",\"minorgridcolor\":\"white\",\"startlinecolor\":\"rgb(51,51,51)\"},\"baxis\":{\"endlinecolor\":\"rgb(51,51,51)\",\"gridcolor\":\"white\",\"linecolor\":\"white\",\"minorgridcolor\":\"white\",\"startlinecolor\":\"rgb(51,51,51)\"},\"type\":\"carpet\"}],\"table\":[{\"cells\":{\"fill\":{\"color\":\"rgb(237,237,237)\"},\"line\":{\"color\":\"white\"}},\"header\":{\"fill\":{\"color\":\"rgb(217,217,217)\"},\"line\":{\"color\":\"white\"}},\"type\":\"table\"}],\"barpolar\":[{\"marker\":{\"line\":{\"color\":\"rgb(237,237,237)\",\"width\":0.5},\"pattern\":{\"fillmode\":\"overlay\",\"size\":10,\"solidity\":0.2}},\"type\":\"barpolar\"}],\"pie\":[{\"automargin\":true,\"type\":\"pie\"}]},\"layout\":{\"autotypenumbers\":\"strict\",\"colorway\":[\"#F8766D\",\"#A3A500\",\"#00BF7D\",\"#00B0F6\",\"#E76BF3\"],\"font\":{\"color\":\"rgb(51,51,51)\"},\"hovermode\":\"closest\",\"hoverlabel\":{\"align\":\"left\"},\"paper_bgcolor\":\"white\",\"plot_bgcolor\":\"rgb(237,237,237)\",\"polar\":{\"bgcolor\":\"rgb(237,237,237)\",\"angularaxis\":{\"gridcolor\":\"white\",\"linecolor\":\"white\",\"showgrid\":true,\"tickcolor\":\"rgb(51,51,51)\",\"ticks\":\"outside\"},\"radialaxis\":{\"gridcolor\":\"white\",\"linecolor\":\"white\",\"showgrid\":true,\"tickcolor\":\"rgb(51,51,51)\",\"ticks\":\"outside\"}},\"ternary\":{\"bgcolor\":\"rgb(237,237,237)\",\"aaxis\":{\"gridcolor\":\"white\",\"linecolor\":\"white\",\"showgrid\":true,\"tickcolor\":\"rgb(51,51,51)\",\"ticks\":\"outside\"},\"baxis\":{\"gridcolor\":\"white\",\"linecolor\":\"white\",\"showgrid\":true,\"tickcolor\":\"rgb(51,51,51)\",\"ticks\":\"outside\"},\"caxis\":{\"gridcolor\":\"white\",\"linecolor\":\"white\",\"showgrid\":true,\"tickcolor\":\"rgb(51,51,51)\",\"ticks\":\"outside\"}},\"coloraxis\":{\"colorbar\":{\"outlinewidth\":0,\"tickcolor\":\"rgb(237,237,237)\",\"ticklen\":6,\"ticks\":\"inside\"}},\"colorscale\":{\"sequential\":[[0,\"rgb(20,44,66)\"],[1,\"rgb(90,179,244)\"]],\"sequentialminus\":[[0,\"rgb(20,44,66)\"],[1,\"rgb(90,179,244)\"]]},\"xaxis\":{\"gridcolor\":\"white\",\"linecolor\":\"white\",\"showgrid\":true,\"tickcolor\":\"rgb(51,51,51)\",\"ticks\":\"outside\",\"title\":{\"standoff\":15},\"zerolinecolor\":\"white\",\"automargin\":true},\"yaxis\":{\"gridcolor\":\"white\",\"linecolor\":\"white\",\"showgrid\":true,\"tickcolor\":\"rgb(51,51,51)\",\"ticks\":\"outside\",\"title\":{\"standoff\":15},\"zerolinecolor\":\"white\",\"automargin\":true},\"scene\":{\"xaxis\":{\"backgroundcolor\":\"rgb(237,237,237)\",\"gridcolor\":\"white\",\"linecolor\":\"white\",\"showbackground\":true,\"showgrid\":true,\"tickcolor\":\"rgb(51,51,51)\",\"ticks\":\"outside\",\"zerolinecolor\":\"white\",\"gridwidth\":2},\"yaxis\":{\"backgroundcolor\":\"rgb(237,237,237)\",\"gridcolor\":\"white\",\"linecolor\":\"white\",\"showbackground\":true,\"showgrid\":true,\"tickcolor\":\"rgb(51,51,51)\",\"ticks\":\"outside\",\"zerolinecolor\":\"white\",\"gridwidth\":2},\"zaxis\":{\"backgroundcolor\":\"rgb(237,237,237)\",\"gridcolor\":\"white\",\"linecolor\":\"white\",\"showbackground\":true,\"showgrid\":true,\"tickcolor\":\"rgb(51,51,51)\",\"ticks\":\"outside\",\"zerolinecolor\":\"white\",\"gridwidth\":2}},\"shapedefaults\":{\"fillcolor\":\"black\",\"line\":{\"width\":0},\"opacity\":0.3},\"annotationdefaults\":{\"arrowhead\":0,\"arrowwidth\":1},\"geo\":{\"bgcolor\":\"white\",\"landcolor\":\"rgb(237,237,237)\",\"subunitcolor\":\"white\",\"showland\":true,\"showlakes\":true,\"lakecolor\":\"white\"}}},\"xaxis\":{\"anchor\":\"y\",\"domain\":[0.0,1.0],\"title\":{\"text\":\"x\"}},\"yaxis\":{\"anchor\":\"x\",\"domain\":[0.0,1.0],\"title\":{\"text\":\"y\"}},\"coloraxis\":{\"colorbar\":{\"title\":{\"text\":\"color\"}},\"colorscale\":[[0.0,\"rgb(20,44,66)\"],[1.0,\"rgb(90,179,244)\"]]},\"legend\":{\"tracegroupgap\":0},\"margin\":{\"t\":60}},                        {\"responsive\": true}                    ).then(function(){\n                            \nvar gd = document.getElementById('75e4be1d-5f7a-41b6-b61c-df26c442cf8d');\nvar x = new MutationObserver(function (mutations, observer) {{\n        var display = window.getComputedStyle(gd).display;\n        if (!display || display === 'none') {{\n            console.log([gd, 'removed!']);\n            Plotly.purge(gd);\n            observer.disconnect();\n        }}\n}});\n\n// Listen for the removal of the full notebook cells\nvar notebookContainer = gd.closest('#notebook-container');\nif (notebookContainer) {{\n    x.observe(notebookContainer, {childList: true});\n}}\n\n// Listen for the clearing of the current output cell\nvar outputEl = gd.closest('.output');\nif (outputEl) {{\n    x.observe(outputEl, {childList: true});\n}}\n\n                        })                };                });            </script>        </div>"
     },
     "metadata": {},
     "output_type": "display_data"
    }
   ],
   "source": [
    "fig = px.scatter(x=x_train_scaled[:, 0], y=x_train_scaled[:, 1], color=kmeans.labels)\n",
    "fig.add_scatter(x=kmeans.centroids[:, 0], y=kmeans.centroids[:, 1],\n",
    "                mode='markers', marker_size=12, marker_color='black', marker_symbol='x-thin', marker_line_width=2, showlegend=False)\n",
    "fig.show()"
   ],
   "metadata": {
    "collapsed": false
   }
  },
  {
   "cell_type": "markdown",
   "source": [
    "# Aún más cerca"
   ],
   "metadata": {
    "collapsed": false
   }
  },
  {
   "cell_type": "code",
   "execution_count": 34,
   "outputs": [],
   "source": [
    "# Create a dataset of 2D distributions\n",
    "n_clusters = 3\n",
    "x_train, true_labels = make_blobs(n_samples=100, centers=n_clusters, random_state=42, center_box=[-2, 2])\n",
    "x_train_scaled = StandardScaler().fit_transform(x_train)"
   ],
   "metadata": {
    "collapsed": false
   }
  },
  {
   "cell_type": "code",
   "execution_count": 35,
   "outputs": [
    {
     "data": {
      "application/vnd.plotly.v1+json": {
       "data": [
        {
         "hovertemplate": "x=%{x}<br>y=%{y}<br>color=%{marker.color}<extra></extra>",
         "legendgroup": "",
         "marker": {
          "color": [
           2,
           1,
           0,
           1,
           2,
           1,
           0,
           1,
           1,
           0,
           0,
           2,
           2,
           0,
           0,
           2,
           2,
           0,
           2,
           2,
           0,
           2,
           2,
           0,
           0,
           0,
           1,
           2,
           2,
           2,
           2,
           1,
           1,
           2,
           0,
           0,
           0,
           0,
           1,
           1,
           2,
           0,
           1,
           0,
           0,
           1,
           2,
           2,
           2,
           1,
           1,
           1,
           0,
           2,
           2,
           2,
           0,
           0,
           1,
           0,
           2,
           1,
           2,
           1,
           2,
           2,
           1,
           2,
           1,
           1,
           1,
           2,
           2,
           0,
           1,
           2,
           1,
           2,
           1,
           1,
           0,
           1,
           0,
           2,
           0,
           0,
           0,
           1,
           0,
           1,
           1,
           1,
           0,
           1,
           0,
           0,
           0,
           1,
           2,
           0
          ],
          "coloraxis": "coloraxis",
          "symbol": "circle"
         },
         "mode": "markers",
         "name": "",
         "orientation": "v",
         "showlegend": false,
         "x": [
          -1.4089664241100899,
          1.7285075355782258,
          -0.4185422913938499,
          2.1948906327449773,
          -0.4556012580889037,
          0.3006901508674825,
          0.2152013028271304,
          0.9107904715580717,
          1.1614816746495595,
          -0.9579303564902916,
          -0.477828463106189,
          -0.5587488420149302,
          -0.3256814843492299,
          -0.9225853244097668,
          0.5374820561259339,
          -1.5863293052153729,
          -0.5197850957269213,
          -0.10396937375181264,
          -1.4383004875650922,
          -0.36422819711987514,
          -0.4137487242793377,
          -0.7997940215513534,
          -1.0921659703745399,
          0.23904939880237897,
          -0.07533149755584667,
          -0.41154934779824803,
          -0.035544862013969246,
          -0.2435877595762251,
          -1.5101832877373624,
          -1.7177560048938378,
          -1.276977175005518,
          1.3190139541738297,
          0.9324056896287973,
          0.17819805522638166,
          1.2028902953572156,
          -0.5223522222355187,
          0.006468173352872887,
          0.20951912077017043,
          1.8091442952458505,
          1.1572737171397298,
          -1.8291277243008404,
          -0.42621923493262365,
          1.0571770759054055,
          -1.0981692602995599,
          -0.13850677697764838,
          0.24388988265049474,
          -2.011013808197331,
          -0.6017079396783577,
          -0.7284815658403813,
          0.4447677835138656,
          -0.9887464224489889,
          1.088696733825581,
          0.5960962110300835,
          -0.5330877839744924,
          -0.0881527545015717,
          -0.9156314308680001,
          -0.848581740444775,
          0.14452393905324862,
          2.254328284116404,
          -1.4121624563812762,
          -0.5068198270516349,
          0.5290100776752873,
          -0.9329842242129207,
          -0.43396094570726285,
          -0.9482344420147713,
          -0.569327507601305,
          1.1323188640420903,
          -1.4427777125289059,
          0.6653712099621992,
          1.288487834550556,
          0.8134084370650483,
          -0.5405194509564674,
          -1.6816285376574398,
          0.22497954990123162,
          1.1635187199874437,
          0.023691707360966735,
          1.7107115782432918,
          -0.6927026427868747,
          2.5774706947869377,
          -0.14262220137784162,
          0.23923967874121435,
          0.46474421623036016,
          0.6040258151845407,
          0.7378945108024446,
          -0.05765936721754241,
          0.11832800601036754,
          1.1130100805113596,
          0.3569717840084694,
          -1.2171525752175805,
          0.7743158650444238,
          1.1535430547758752,
          1.989136305961071,
          -0.7656322508098612,
          1.5491174802229206,
          -0.523197428879702,
          -0.5827266147732845,
          0.7690071251235893,
          0.9570001850729571,
          0.11840852377597776,
          -0.7111753351809885
         ],
         "xaxis": "x",
         "y": [
          -2.081308121053254,
          -0.7488115153780416,
          1.3145851105821122,
          -0.8597016938190202,
          -0.7351969156279881,
          -0.3178195878213492,
          1.595389291012644,
          0.2810404714854686,
          0.6776381055827144,
          1.2063699409973139,
          1.034654909548729,
          -0.25116058628082993,
          -0.9062792562764631,
          0.18694130103961587,
          1.0738558046881126,
          -0.7859847349280165,
          -0.5624291279354099,
          1.613540223531761,
          -0.9991875039520717,
          -1.146114772201818,
          0.6606780803111236,
          -0.8776353990292922,
          -0.5434819457755342,
          1.960182337308882,
          1.9774378553442726,
          1.6482945557081732,
          -0.2233595098998052,
          -1.654776087275825,
          -0.5884343360965578,
          -1.9552398141999403,
          -0.9482592906369071,
          0.21874435035134382,
          0.24500470666797447,
          -1.6311207704527233,
          1.4604232795658056,
          0.7735457962307,
          0.03872504951229019,
          0.7129804539121348,
          0.262647188774355,
          -1.2395577849280437,
          -1.707091438202646,
          0.8423126168393194,
          -0.7084817956706401,
          1.0903887720295395,
          0.7674431561684523,
          0.35658125249962724,
          -0.9791422246381245,
          -0.8489927718319316,
          -0.15622129851996372,
          -0.2759629624296537,
          0.5824710776026887,
          -0.10269503583203866,
          1.842281675669891,
          -0.5918467315538084,
          0.13124577230824772,
          -0.6358316352026817,
          1.1665172760784674,
          -0.27810305727853635,
          -0.2866722655008118,
          0.5980573848359839,
          -1.562161902224671,
          -0.1630570524471955,
          -1.5877041248912067,
          0.032246889151135445,
          0.6652306214575388,
          -1.9067829942256995,
          1.6469304342603537,
          -1.6279611065426214,
          0.38231171522935936,
          0.0011614827264287669,
          -0.4708595971441523,
          -0.8742006274971373,
          -0.6730877121502794,
          -0.18066772579381052,
          -0.27707753436335925,
          -0.8311818144604303,
          -0.54032385588944,
          -1.8401344648761733,
          0.16266105089998342,
          0.09390715882090143,
          0.5443381320463838,
          -0.15942487090805085,
          0.17096342991555344,
          -0.791587713453854,
          0.2767600306943042,
          -0.3081883246711343,
          0.8162952950759522,
          1.0546222185090566,
          0.4958770191758763,
          -0.8996926252469384,
          -0.14447353340884067,
          0.5370937172738751,
          0.04679568175798408,
          1.4700199846029227,
          2.163977718182096,
          1.3594091272542879,
          1.5666820681369718,
          0.31148139713494793,
          -0.4154598450065224,
          0.7621844269375827
         ],
         "yaxis": "y",
         "type": "scatter"
        }
       ],
       "layout": {
        "template": {
         "data": {
          "histogram2dcontour": [
           {
            "type": "histogram2dcontour",
            "colorbar": {
             "outlinewidth": 0,
             "tickcolor": "rgb(237,237,237)",
             "ticklen": 6,
             "ticks": "inside"
            },
            "colorscale": [
             [
              0,
              "rgb(20,44,66)"
             ],
             [
              1,
              "rgb(90,179,244)"
             ]
            ]
           }
          ],
          "choropleth": [
           {
            "type": "choropleth",
            "colorbar": {
             "outlinewidth": 0,
             "tickcolor": "rgb(237,237,237)",
             "ticklen": 6,
             "ticks": "inside"
            }
           }
          ],
          "histogram2d": [
           {
            "type": "histogram2d",
            "colorbar": {
             "outlinewidth": 0,
             "tickcolor": "rgb(237,237,237)",
             "ticklen": 6,
             "ticks": "inside"
            },
            "colorscale": [
             [
              0,
              "rgb(20,44,66)"
             ],
             [
              1,
              "rgb(90,179,244)"
             ]
            ]
           }
          ],
          "heatmap": [
           {
            "type": "heatmap",
            "colorbar": {
             "outlinewidth": 0,
             "tickcolor": "rgb(237,237,237)",
             "ticklen": 6,
             "ticks": "inside"
            },
            "colorscale": [
             [
              0,
              "rgb(20,44,66)"
             ],
             [
              1,
              "rgb(90,179,244)"
             ]
            ]
           }
          ],
          "heatmapgl": [
           {
            "type": "heatmapgl",
            "colorbar": {
             "outlinewidth": 0,
             "tickcolor": "rgb(237,237,237)",
             "ticklen": 6,
             "ticks": "inside"
            },
            "colorscale": [
             [
              0,
              "rgb(20,44,66)"
             ],
             [
              1,
              "rgb(90,179,244)"
             ]
            ]
           }
          ],
          "contourcarpet": [
           {
            "type": "contourcarpet",
            "colorbar": {
             "outlinewidth": 0,
             "tickcolor": "rgb(237,237,237)",
             "ticklen": 6,
             "ticks": "inside"
            }
           }
          ],
          "contour": [
           {
            "type": "contour",
            "colorbar": {
             "outlinewidth": 0,
             "tickcolor": "rgb(237,237,237)",
             "ticklen": 6,
             "ticks": "inside"
            },
            "colorscale": [
             [
              0,
              "rgb(20,44,66)"
             ],
             [
              1,
              "rgb(90,179,244)"
             ]
            ]
           }
          ],
          "surface": [
           {
            "type": "surface",
            "colorbar": {
             "outlinewidth": 0,
             "tickcolor": "rgb(237,237,237)",
             "ticklen": 6,
             "ticks": "inside"
            },
            "colorscale": [
             [
              0,
              "rgb(20,44,66)"
             ],
             [
              1,
              "rgb(90,179,244)"
             ]
            ]
           }
          ],
          "mesh3d": [
           {
            "type": "mesh3d",
            "colorbar": {
             "outlinewidth": 0,
             "tickcolor": "rgb(237,237,237)",
             "ticklen": 6,
             "ticks": "inside"
            }
           }
          ],
          "scatter": [
           {
            "fillpattern": {
             "fillmode": "overlay",
             "size": 10,
             "solidity": 0.2
            },
            "type": "scatter"
           }
          ],
          "parcoords": [
           {
            "type": "parcoords",
            "line": {
             "colorbar": {
              "outlinewidth": 0,
              "tickcolor": "rgb(237,237,237)",
              "ticklen": 6,
              "ticks": "inside"
             }
            }
           }
          ],
          "scatterpolargl": [
           {
            "type": "scatterpolargl",
            "marker": {
             "colorbar": {
              "outlinewidth": 0,
              "tickcolor": "rgb(237,237,237)",
              "ticklen": 6,
              "ticks": "inside"
             }
            }
           }
          ],
          "bar": [
           {
            "error_x": {
             "color": "rgb(51,51,51)"
            },
            "error_y": {
             "color": "rgb(51,51,51)"
            },
            "marker": {
             "line": {
              "color": "rgb(237,237,237)",
              "width": 0.5
             },
             "pattern": {
              "fillmode": "overlay",
              "size": 10,
              "solidity": 0.2
             }
            },
            "type": "bar"
           }
          ],
          "scattergeo": [
           {
            "type": "scattergeo",
            "marker": {
             "colorbar": {
              "outlinewidth": 0,
              "tickcolor": "rgb(237,237,237)",
              "ticklen": 6,
              "ticks": "inside"
             }
            }
           }
          ],
          "scatterpolar": [
           {
            "type": "scatterpolar",
            "marker": {
             "colorbar": {
              "outlinewidth": 0,
              "tickcolor": "rgb(237,237,237)",
              "ticklen": 6,
              "ticks": "inside"
             }
            }
           }
          ],
          "histogram": [
           {
            "marker": {
             "pattern": {
              "fillmode": "overlay",
              "size": 10,
              "solidity": 0.2
             }
            },
            "type": "histogram"
           }
          ],
          "scattergl": [
           {
            "type": "scattergl",
            "marker": {
             "colorbar": {
              "outlinewidth": 0,
              "tickcolor": "rgb(237,237,237)",
              "ticklen": 6,
              "ticks": "inside"
             }
            }
           }
          ],
          "scatter3d": [
           {
            "type": "scatter3d",
            "line": {
             "colorbar": {
              "outlinewidth": 0,
              "tickcolor": "rgb(237,237,237)",
              "ticklen": 6,
              "ticks": "inside"
             }
            },
            "marker": {
             "colorbar": {
              "outlinewidth": 0,
              "tickcolor": "rgb(237,237,237)",
              "ticklen": 6,
              "ticks": "inside"
             }
            }
           }
          ],
          "scattermapbox": [
           {
            "type": "scattermapbox",
            "marker": {
             "colorbar": {
              "outlinewidth": 0,
              "tickcolor": "rgb(237,237,237)",
              "ticklen": 6,
              "ticks": "inside"
             }
            }
           }
          ],
          "scatterternary": [
           {
            "type": "scatterternary",
            "marker": {
             "colorbar": {
              "outlinewidth": 0,
              "tickcolor": "rgb(237,237,237)",
              "ticklen": 6,
              "ticks": "inside"
             }
            }
           }
          ],
          "scattercarpet": [
           {
            "type": "scattercarpet",
            "marker": {
             "colorbar": {
              "outlinewidth": 0,
              "tickcolor": "rgb(237,237,237)",
              "ticklen": 6,
              "ticks": "inside"
             }
            }
           }
          ],
          "carpet": [
           {
            "aaxis": {
             "endlinecolor": "rgb(51,51,51)",
             "gridcolor": "white",
             "linecolor": "white",
             "minorgridcolor": "white",
             "startlinecolor": "rgb(51,51,51)"
            },
            "baxis": {
             "endlinecolor": "rgb(51,51,51)",
             "gridcolor": "white",
             "linecolor": "white",
             "minorgridcolor": "white",
             "startlinecolor": "rgb(51,51,51)"
            },
            "type": "carpet"
           }
          ],
          "table": [
           {
            "cells": {
             "fill": {
              "color": "rgb(237,237,237)"
             },
             "line": {
              "color": "white"
             }
            },
            "header": {
             "fill": {
              "color": "rgb(217,217,217)"
             },
             "line": {
              "color": "white"
             }
            },
            "type": "table"
           }
          ],
          "barpolar": [
           {
            "marker": {
             "line": {
              "color": "rgb(237,237,237)",
              "width": 0.5
             },
             "pattern": {
              "fillmode": "overlay",
              "size": 10,
              "solidity": 0.2
             }
            },
            "type": "barpolar"
           }
          ],
          "pie": [
           {
            "automargin": true,
            "type": "pie"
           }
          ]
         },
         "layout": {
          "autotypenumbers": "strict",
          "colorway": [
           "#F8766D",
           "#A3A500",
           "#00BF7D",
           "#00B0F6",
           "#E76BF3"
          ],
          "font": {
           "color": "rgb(51,51,51)"
          },
          "hovermode": "closest",
          "hoverlabel": {
           "align": "left"
          },
          "paper_bgcolor": "white",
          "plot_bgcolor": "rgb(237,237,237)",
          "polar": {
           "bgcolor": "rgb(237,237,237)",
           "angularaxis": {
            "gridcolor": "white",
            "linecolor": "white",
            "showgrid": true,
            "tickcolor": "rgb(51,51,51)",
            "ticks": "outside"
           },
           "radialaxis": {
            "gridcolor": "white",
            "linecolor": "white",
            "showgrid": true,
            "tickcolor": "rgb(51,51,51)",
            "ticks": "outside"
           }
          },
          "ternary": {
           "bgcolor": "rgb(237,237,237)",
           "aaxis": {
            "gridcolor": "white",
            "linecolor": "white",
            "showgrid": true,
            "tickcolor": "rgb(51,51,51)",
            "ticks": "outside"
           },
           "baxis": {
            "gridcolor": "white",
            "linecolor": "white",
            "showgrid": true,
            "tickcolor": "rgb(51,51,51)",
            "ticks": "outside"
           },
           "caxis": {
            "gridcolor": "white",
            "linecolor": "white",
            "showgrid": true,
            "tickcolor": "rgb(51,51,51)",
            "ticks": "outside"
           }
          },
          "coloraxis": {
           "colorbar": {
            "outlinewidth": 0,
            "tickcolor": "rgb(237,237,237)",
            "ticklen": 6,
            "ticks": "inside"
           }
          },
          "colorscale": {
           "sequential": [
            [
             0,
             "rgb(20,44,66)"
            ],
            [
             1,
             "rgb(90,179,244)"
            ]
           ],
           "sequentialminus": [
            [
             0,
             "rgb(20,44,66)"
            ],
            [
             1,
             "rgb(90,179,244)"
            ]
           ]
          },
          "xaxis": {
           "gridcolor": "white",
           "linecolor": "white",
           "showgrid": true,
           "tickcolor": "rgb(51,51,51)",
           "ticks": "outside",
           "title": {
            "standoff": 15
           },
           "zerolinecolor": "white",
           "automargin": true
          },
          "yaxis": {
           "gridcolor": "white",
           "linecolor": "white",
           "showgrid": true,
           "tickcolor": "rgb(51,51,51)",
           "ticks": "outside",
           "title": {
            "standoff": 15
           },
           "zerolinecolor": "white",
           "automargin": true
          },
          "scene": {
           "xaxis": {
            "backgroundcolor": "rgb(237,237,237)",
            "gridcolor": "white",
            "linecolor": "white",
            "showbackground": true,
            "showgrid": true,
            "tickcolor": "rgb(51,51,51)",
            "ticks": "outside",
            "zerolinecolor": "white",
            "gridwidth": 2
           },
           "yaxis": {
            "backgroundcolor": "rgb(237,237,237)",
            "gridcolor": "white",
            "linecolor": "white",
            "showbackground": true,
            "showgrid": true,
            "tickcolor": "rgb(51,51,51)",
            "ticks": "outside",
            "zerolinecolor": "white",
            "gridwidth": 2
           },
           "zaxis": {
            "backgroundcolor": "rgb(237,237,237)",
            "gridcolor": "white",
            "linecolor": "white",
            "showbackground": true,
            "showgrid": true,
            "tickcolor": "rgb(51,51,51)",
            "ticks": "outside",
            "zerolinecolor": "white",
            "gridwidth": 2
           }
          },
          "shapedefaults": {
           "fillcolor": "black",
           "line": {
            "width": 0
           },
           "opacity": 0.3
          },
          "annotationdefaults": {
           "arrowhead": 0,
           "arrowwidth": 1
          },
          "geo": {
           "bgcolor": "white",
           "landcolor": "rgb(237,237,237)",
           "subunitcolor": "white",
           "showland": true,
           "showlakes": true,
           "lakecolor": "white"
          }
         }
        },
        "xaxis": {
         "anchor": "y",
         "domain": [
          0.0,
          1.0
         ],
         "title": {
          "text": "x"
         }
        },
        "yaxis": {
         "anchor": "x",
         "domain": [
          0.0,
          1.0
         ],
         "title": {
          "text": "y"
         }
        },
        "coloraxis": {
         "colorbar": {
          "title": {
           "text": "color"
          }
         },
         "colorscale": [
          [
           0.0,
           "rgb(20,44,66)"
          ],
          [
           1.0,
           "rgb(90,179,244)"
          ]
         ]
        },
        "legend": {
         "tracegroupgap": 0
        },
        "margin": {
         "t": 60
        }
       },
       "config": {
        "plotlyServerURL": "https://plot.ly"
       }
      },
      "text/html": "<div>                            <div id=\"086d4b72-f9ea-4281-aa04-8c0dc9a5668a\" class=\"plotly-graph-div\" style=\"height:525px; width:100%;\"></div>            <script type=\"text/javascript\">                require([\"plotly\"], function(Plotly) {                    window.PLOTLYENV=window.PLOTLYENV || {};                                    if (document.getElementById(\"086d4b72-f9ea-4281-aa04-8c0dc9a5668a\")) {                    Plotly.newPlot(                        \"086d4b72-f9ea-4281-aa04-8c0dc9a5668a\",                        [{\"hovertemplate\":\"x=%{x}<br>y=%{y}<br>color=%{marker.color}<extra></extra>\",\"legendgroup\":\"\",\"marker\":{\"color\":[2,1,0,1,2,1,0,1,1,0,0,2,2,0,0,2,2,0,2,2,0,2,2,0,0,0,1,2,2,2,2,1,1,2,0,0,0,0,1,1,2,0,1,0,0,1,2,2,2,1,1,1,0,2,2,2,0,0,1,0,2,1,2,1,2,2,1,2,1,1,1,2,2,0,1,2,1,2,1,1,0,1,0,2,0,0,0,1,0,1,1,1,0,1,0,0,0,1,2,0],\"coloraxis\":\"coloraxis\",\"symbol\":\"circle\"},\"mode\":\"markers\",\"name\":\"\",\"orientation\":\"v\",\"showlegend\":false,\"x\":[-1.4089664241100899,1.7285075355782258,-0.4185422913938499,2.1948906327449773,-0.4556012580889037,0.3006901508674825,0.2152013028271304,0.9107904715580717,1.1614816746495595,-0.9579303564902916,-0.477828463106189,-0.5587488420149302,-0.3256814843492299,-0.9225853244097668,0.5374820561259339,-1.5863293052153729,-0.5197850957269213,-0.10396937375181264,-1.4383004875650922,-0.36422819711987514,-0.4137487242793377,-0.7997940215513534,-1.0921659703745399,0.23904939880237897,-0.07533149755584667,-0.41154934779824803,-0.035544862013969246,-0.2435877595762251,-1.5101832877373624,-1.7177560048938378,-1.276977175005518,1.3190139541738297,0.9324056896287973,0.17819805522638166,1.2028902953572156,-0.5223522222355187,0.006468173352872887,0.20951912077017043,1.8091442952458505,1.1572737171397298,-1.8291277243008404,-0.42621923493262365,1.0571770759054055,-1.0981692602995599,-0.13850677697764838,0.24388988265049474,-2.011013808197331,-0.6017079396783577,-0.7284815658403813,0.4447677835138656,-0.9887464224489889,1.088696733825581,0.5960962110300835,-0.5330877839744924,-0.0881527545015717,-0.9156314308680001,-0.848581740444775,0.14452393905324862,2.254328284116404,-1.4121624563812762,-0.5068198270516349,0.5290100776752873,-0.9329842242129207,-0.43396094570726285,-0.9482344420147713,-0.569327507601305,1.1323188640420903,-1.4427777125289059,0.6653712099621992,1.288487834550556,0.8134084370650483,-0.5405194509564674,-1.6816285376574398,0.22497954990123162,1.1635187199874437,0.023691707360966735,1.7107115782432918,-0.6927026427868747,2.5774706947869377,-0.14262220137784162,0.23923967874121435,0.46474421623036016,0.6040258151845407,0.7378945108024446,-0.05765936721754241,0.11832800601036754,1.1130100805113596,0.3569717840084694,-1.2171525752175805,0.7743158650444238,1.1535430547758752,1.989136305961071,-0.7656322508098612,1.5491174802229206,-0.523197428879702,-0.5827266147732845,0.7690071251235893,0.9570001850729571,0.11840852377597776,-0.7111753351809885],\"xaxis\":\"x\",\"y\":[-2.081308121053254,-0.7488115153780416,1.3145851105821122,-0.8597016938190202,-0.7351969156279881,-0.3178195878213492,1.595389291012644,0.2810404714854686,0.6776381055827144,1.2063699409973139,1.034654909548729,-0.25116058628082993,-0.9062792562764631,0.18694130103961587,1.0738558046881126,-0.7859847349280165,-0.5624291279354099,1.613540223531761,-0.9991875039520717,-1.146114772201818,0.6606780803111236,-0.8776353990292922,-0.5434819457755342,1.960182337308882,1.9774378553442726,1.6482945557081732,-0.2233595098998052,-1.654776087275825,-0.5884343360965578,-1.9552398141999403,-0.9482592906369071,0.21874435035134382,0.24500470666797447,-1.6311207704527233,1.4604232795658056,0.7735457962307,0.03872504951229019,0.7129804539121348,0.262647188774355,-1.2395577849280437,-1.707091438202646,0.8423126168393194,-0.7084817956706401,1.0903887720295395,0.7674431561684523,0.35658125249962724,-0.9791422246381245,-0.8489927718319316,-0.15622129851996372,-0.2759629624296537,0.5824710776026887,-0.10269503583203866,1.842281675669891,-0.5918467315538084,0.13124577230824772,-0.6358316352026817,1.1665172760784674,-0.27810305727853635,-0.2866722655008118,0.5980573848359839,-1.562161902224671,-0.1630570524471955,-1.5877041248912067,0.032246889151135445,0.6652306214575388,-1.9067829942256995,1.6469304342603537,-1.6279611065426214,0.38231171522935936,0.0011614827264287669,-0.4708595971441523,-0.8742006274971373,-0.6730877121502794,-0.18066772579381052,-0.27707753436335925,-0.8311818144604303,-0.54032385588944,-1.8401344648761733,0.16266105089998342,0.09390715882090143,0.5443381320463838,-0.15942487090805085,0.17096342991555344,-0.791587713453854,0.2767600306943042,-0.3081883246711343,0.8162952950759522,1.0546222185090566,0.4958770191758763,-0.8996926252469384,-0.14447353340884067,0.5370937172738751,0.04679568175798408,1.4700199846029227,2.163977718182096,1.3594091272542879,1.5666820681369718,0.31148139713494793,-0.4154598450065224,0.7621844269375827],\"yaxis\":\"y\",\"type\":\"scatter\"}],                        {\"template\":{\"data\":{\"histogram2dcontour\":[{\"type\":\"histogram2dcontour\",\"colorbar\":{\"outlinewidth\":0,\"tickcolor\":\"rgb(237,237,237)\",\"ticklen\":6,\"ticks\":\"inside\"},\"colorscale\":[[0,\"rgb(20,44,66)\"],[1,\"rgb(90,179,244)\"]]}],\"choropleth\":[{\"type\":\"choropleth\",\"colorbar\":{\"outlinewidth\":0,\"tickcolor\":\"rgb(237,237,237)\",\"ticklen\":6,\"ticks\":\"inside\"}}],\"histogram2d\":[{\"type\":\"histogram2d\",\"colorbar\":{\"outlinewidth\":0,\"tickcolor\":\"rgb(237,237,237)\",\"ticklen\":6,\"ticks\":\"inside\"},\"colorscale\":[[0,\"rgb(20,44,66)\"],[1,\"rgb(90,179,244)\"]]}],\"heatmap\":[{\"type\":\"heatmap\",\"colorbar\":{\"outlinewidth\":0,\"tickcolor\":\"rgb(237,237,237)\",\"ticklen\":6,\"ticks\":\"inside\"},\"colorscale\":[[0,\"rgb(20,44,66)\"],[1,\"rgb(90,179,244)\"]]}],\"heatmapgl\":[{\"type\":\"heatmapgl\",\"colorbar\":{\"outlinewidth\":0,\"tickcolor\":\"rgb(237,237,237)\",\"ticklen\":6,\"ticks\":\"inside\"},\"colorscale\":[[0,\"rgb(20,44,66)\"],[1,\"rgb(90,179,244)\"]]}],\"contourcarpet\":[{\"type\":\"contourcarpet\",\"colorbar\":{\"outlinewidth\":0,\"tickcolor\":\"rgb(237,237,237)\",\"ticklen\":6,\"ticks\":\"inside\"}}],\"contour\":[{\"type\":\"contour\",\"colorbar\":{\"outlinewidth\":0,\"tickcolor\":\"rgb(237,237,237)\",\"ticklen\":6,\"ticks\":\"inside\"},\"colorscale\":[[0,\"rgb(20,44,66)\"],[1,\"rgb(90,179,244)\"]]}],\"surface\":[{\"type\":\"surface\",\"colorbar\":{\"outlinewidth\":0,\"tickcolor\":\"rgb(237,237,237)\",\"ticklen\":6,\"ticks\":\"inside\"},\"colorscale\":[[0,\"rgb(20,44,66)\"],[1,\"rgb(90,179,244)\"]]}],\"mesh3d\":[{\"type\":\"mesh3d\",\"colorbar\":{\"outlinewidth\":0,\"tickcolor\":\"rgb(237,237,237)\",\"ticklen\":6,\"ticks\":\"inside\"}}],\"scatter\":[{\"fillpattern\":{\"fillmode\":\"overlay\",\"size\":10,\"solidity\":0.2},\"type\":\"scatter\"}],\"parcoords\":[{\"type\":\"parcoords\",\"line\":{\"colorbar\":{\"outlinewidth\":0,\"tickcolor\":\"rgb(237,237,237)\",\"ticklen\":6,\"ticks\":\"inside\"}}}],\"scatterpolargl\":[{\"type\":\"scatterpolargl\",\"marker\":{\"colorbar\":{\"outlinewidth\":0,\"tickcolor\":\"rgb(237,237,237)\",\"ticklen\":6,\"ticks\":\"inside\"}}}],\"bar\":[{\"error_x\":{\"color\":\"rgb(51,51,51)\"},\"error_y\":{\"color\":\"rgb(51,51,51)\"},\"marker\":{\"line\":{\"color\":\"rgb(237,237,237)\",\"width\":0.5},\"pattern\":{\"fillmode\":\"overlay\",\"size\":10,\"solidity\":0.2}},\"type\":\"bar\"}],\"scattergeo\":[{\"type\":\"scattergeo\",\"marker\":{\"colorbar\":{\"outlinewidth\":0,\"tickcolor\":\"rgb(237,237,237)\",\"ticklen\":6,\"ticks\":\"inside\"}}}],\"scatterpolar\":[{\"type\":\"scatterpolar\",\"marker\":{\"colorbar\":{\"outlinewidth\":0,\"tickcolor\":\"rgb(237,237,237)\",\"ticklen\":6,\"ticks\":\"inside\"}}}],\"histogram\":[{\"marker\":{\"pattern\":{\"fillmode\":\"overlay\",\"size\":10,\"solidity\":0.2}},\"type\":\"histogram\"}],\"scattergl\":[{\"type\":\"scattergl\",\"marker\":{\"colorbar\":{\"outlinewidth\":0,\"tickcolor\":\"rgb(237,237,237)\",\"ticklen\":6,\"ticks\":\"inside\"}}}],\"scatter3d\":[{\"type\":\"scatter3d\",\"line\":{\"colorbar\":{\"outlinewidth\":0,\"tickcolor\":\"rgb(237,237,237)\",\"ticklen\":6,\"ticks\":\"inside\"}},\"marker\":{\"colorbar\":{\"outlinewidth\":0,\"tickcolor\":\"rgb(237,237,237)\",\"ticklen\":6,\"ticks\":\"inside\"}}}],\"scattermapbox\":[{\"type\":\"scattermapbox\",\"marker\":{\"colorbar\":{\"outlinewidth\":0,\"tickcolor\":\"rgb(237,237,237)\",\"ticklen\":6,\"ticks\":\"inside\"}}}],\"scatterternary\":[{\"type\":\"scatterternary\",\"marker\":{\"colorbar\":{\"outlinewidth\":0,\"tickcolor\":\"rgb(237,237,237)\",\"ticklen\":6,\"ticks\":\"inside\"}}}],\"scattercarpet\":[{\"type\":\"scattercarpet\",\"marker\":{\"colorbar\":{\"outlinewidth\":0,\"tickcolor\":\"rgb(237,237,237)\",\"ticklen\":6,\"ticks\":\"inside\"}}}],\"carpet\":[{\"aaxis\":{\"endlinecolor\":\"rgb(51,51,51)\",\"gridcolor\":\"white\",\"linecolor\":\"white\",\"minorgridcolor\":\"white\",\"startlinecolor\":\"rgb(51,51,51)\"},\"baxis\":{\"endlinecolor\":\"rgb(51,51,51)\",\"gridcolor\":\"white\",\"linecolor\":\"white\",\"minorgridcolor\":\"white\",\"startlinecolor\":\"rgb(51,51,51)\"},\"type\":\"carpet\"}],\"table\":[{\"cells\":{\"fill\":{\"color\":\"rgb(237,237,237)\"},\"line\":{\"color\":\"white\"}},\"header\":{\"fill\":{\"color\":\"rgb(217,217,217)\"},\"line\":{\"color\":\"white\"}},\"type\":\"table\"}],\"barpolar\":[{\"marker\":{\"line\":{\"color\":\"rgb(237,237,237)\",\"width\":0.5},\"pattern\":{\"fillmode\":\"overlay\",\"size\":10,\"solidity\":0.2}},\"type\":\"barpolar\"}],\"pie\":[{\"automargin\":true,\"type\":\"pie\"}]},\"layout\":{\"autotypenumbers\":\"strict\",\"colorway\":[\"#F8766D\",\"#A3A500\",\"#00BF7D\",\"#00B0F6\",\"#E76BF3\"],\"font\":{\"color\":\"rgb(51,51,51)\"},\"hovermode\":\"closest\",\"hoverlabel\":{\"align\":\"left\"},\"paper_bgcolor\":\"white\",\"plot_bgcolor\":\"rgb(237,237,237)\",\"polar\":{\"bgcolor\":\"rgb(237,237,237)\",\"angularaxis\":{\"gridcolor\":\"white\",\"linecolor\":\"white\",\"showgrid\":true,\"tickcolor\":\"rgb(51,51,51)\",\"ticks\":\"outside\"},\"radialaxis\":{\"gridcolor\":\"white\",\"linecolor\":\"white\",\"showgrid\":true,\"tickcolor\":\"rgb(51,51,51)\",\"ticks\":\"outside\"}},\"ternary\":{\"bgcolor\":\"rgb(237,237,237)\",\"aaxis\":{\"gridcolor\":\"white\",\"linecolor\":\"white\",\"showgrid\":true,\"tickcolor\":\"rgb(51,51,51)\",\"ticks\":\"outside\"},\"baxis\":{\"gridcolor\":\"white\",\"linecolor\":\"white\",\"showgrid\":true,\"tickcolor\":\"rgb(51,51,51)\",\"ticks\":\"outside\"},\"caxis\":{\"gridcolor\":\"white\",\"linecolor\":\"white\",\"showgrid\":true,\"tickcolor\":\"rgb(51,51,51)\",\"ticks\":\"outside\"}},\"coloraxis\":{\"colorbar\":{\"outlinewidth\":0,\"tickcolor\":\"rgb(237,237,237)\",\"ticklen\":6,\"ticks\":\"inside\"}},\"colorscale\":{\"sequential\":[[0,\"rgb(20,44,66)\"],[1,\"rgb(90,179,244)\"]],\"sequentialminus\":[[0,\"rgb(20,44,66)\"],[1,\"rgb(90,179,244)\"]]},\"xaxis\":{\"gridcolor\":\"white\",\"linecolor\":\"white\",\"showgrid\":true,\"tickcolor\":\"rgb(51,51,51)\",\"ticks\":\"outside\",\"title\":{\"standoff\":15},\"zerolinecolor\":\"white\",\"automargin\":true},\"yaxis\":{\"gridcolor\":\"white\",\"linecolor\":\"white\",\"showgrid\":true,\"tickcolor\":\"rgb(51,51,51)\",\"ticks\":\"outside\",\"title\":{\"standoff\":15},\"zerolinecolor\":\"white\",\"automargin\":true},\"scene\":{\"xaxis\":{\"backgroundcolor\":\"rgb(237,237,237)\",\"gridcolor\":\"white\",\"linecolor\":\"white\",\"showbackground\":true,\"showgrid\":true,\"tickcolor\":\"rgb(51,51,51)\",\"ticks\":\"outside\",\"zerolinecolor\":\"white\",\"gridwidth\":2},\"yaxis\":{\"backgroundcolor\":\"rgb(237,237,237)\",\"gridcolor\":\"white\",\"linecolor\":\"white\",\"showbackground\":true,\"showgrid\":true,\"tickcolor\":\"rgb(51,51,51)\",\"ticks\":\"outside\",\"zerolinecolor\":\"white\",\"gridwidth\":2},\"zaxis\":{\"backgroundcolor\":\"rgb(237,237,237)\",\"gridcolor\":\"white\",\"linecolor\":\"white\",\"showbackground\":true,\"showgrid\":true,\"tickcolor\":\"rgb(51,51,51)\",\"ticks\":\"outside\",\"zerolinecolor\":\"white\",\"gridwidth\":2}},\"shapedefaults\":{\"fillcolor\":\"black\",\"line\":{\"width\":0},\"opacity\":0.3},\"annotationdefaults\":{\"arrowhead\":0,\"arrowwidth\":1},\"geo\":{\"bgcolor\":\"white\",\"landcolor\":\"rgb(237,237,237)\",\"subunitcolor\":\"white\",\"showland\":true,\"showlakes\":true,\"lakecolor\":\"white\"}}},\"xaxis\":{\"anchor\":\"y\",\"domain\":[0.0,1.0],\"title\":{\"text\":\"x\"}},\"yaxis\":{\"anchor\":\"x\",\"domain\":[0.0,1.0],\"title\":{\"text\":\"y\"}},\"coloraxis\":{\"colorbar\":{\"title\":{\"text\":\"color\"}},\"colorscale\":[[0.0,\"rgb(20,44,66)\"],[1.0,\"rgb(90,179,244)\"]]},\"legend\":{\"tracegroupgap\":0},\"margin\":{\"t\":60}},                        {\"responsive\": true}                    ).then(function(){\n                            \nvar gd = document.getElementById('086d4b72-f9ea-4281-aa04-8c0dc9a5668a');\nvar x = new MutationObserver(function (mutations, observer) {{\n        var display = window.getComputedStyle(gd).display;\n        if (!display || display === 'none') {{\n            console.log([gd, 'removed!']);\n            Plotly.purge(gd);\n            observer.disconnect();\n        }}\n}});\n\n// Listen for the removal of the full notebook cells\nvar notebookContainer = gd.closest('#notebook-container');\nif (notebookContainer) {{\n    x.observe(notebookContainer, {childList: true});\n}}\n\n// Listen for the clearing of the current output cell\nvar outputEl = gd.closest('.output');\nif (outputEl) {{\n    x.observe(outputEl, {childList: true});\n}}\n\n                        })                };                });            </script>        </div>"
     },
     "metadata": {},
     "output_type": "display_data"
    }
   ],
   "source": [
    "px.scatter(x=x_train_scaled[:, 0], y=x_train_scaled[:, 1], color=true_labels)"
   ],
   "metadata": {
    "collapsed": false
   }
  },
  {
   "cell_type": "code",
   "execution_count": 36,
   "outputs": [],
   "source": [
    "kmeans = KMeans(n_clusters=n_clusters)\n",
    "kmeans.fit(x_train_scaled)"
   ],
   "metadata": {
    "collapsed": false
   }
  },
  {
   "cell_type": "code",
   "execution_count": 37,
   "outputs": [
    {
     "data": {
      "text/plain": "(69.9205806471443, 0.85)"
     },
     "execution_count": 37,
     "metadata": {},
     "output_type": "execute_result"
    }
   ],
   "source": [
    "kmeans.inertia, kmeans.score(true_labels)"
   ],
   "metadata": {
    "collapsed": false
   }
  },
  {
   "cell_type": "code",
   "execution_count": 38,
   "outputs": [
    {
     "data": {
      "application/vnd.plotly.v1+json": {
       "data": [
        {
         "hovertemplate": "x=%{x}<br>y=%{y}<extra></extra>",
         "legendgroup": "",
         "marker": {
          "color": "black",
          "symbol": "x-thin",
          "line": {
           "width": 2
          },
          "size": 12
         },
         "mode": "markers",
         "name": "",
         "orientation": "v",
         "showlegend": false,
         "x": [
          -0.2415838787933647,
          1.0300185065220988,
          -0.8993801967723051
         ],
         "xaxis": "x",
         "y": [
          0.9552395810732529,
          -0.11337985268148117,
          -1.0858258451220693
         ],
         "yaxis": "y",
         "type": "scatter"
        },
        {
         "marker": {
          "color": [
           2,
           1,
           0,
           1,
           2,
           1,
           0,
           1,
           1,
           0,
           0,
           2,
           2,
           0,
           0,
           2,
           2,
           0,
           2,
           2,
           0,
           2,
           2,
           0,
           0,
           0,
           1,
           2,
           2,
           2,
           2,
           1,
           1,
           2,
           0,
           0,
           0,
           0,
           1,
           1,
           2,
           0,
           1,
           0,
           0,
           0,
           2,
           2,
           2,
           1,
           0,
           1,
           0,
           2,
           0,
           2,
           0,
           1,
           1,
           0,
           2,
           1,
           2,
           0,
           0,
           2,
           0,
           2,
           1,
           1,
           1,
           2,
           2,
           1,
           1,
           2,
           1,
           2,
           1,
           0,
           0,
           1,
           1,
           1,
           0,
           1,
           1,
           0,
           0,
           1,
           1,
           1,
           0,
           1,
           0,
           0,
           0,
           1,
           1,
           0
          ]
         },
         "mode": "markers",
         "x": [
          -1.4089664241100899,
          1.7285075355782258,
          -0.4185422913938499,
          2.1948906327449773,
          -0.4556012580889037,
          0.3006901508674825,
          0.2152013028271304,
          0.9107904715580717,
          1.1614816746495595,
          -0.9579303564902916,
          -0.477828463106189,
          -0.5587488420149302,
          -0.3256814843492299,
          -0.9225853244097668,
          0.5374820561259339,
          -1.5863293052153729,
          -0.5197850957269213,
          -0.10396937375181264,
          -1.4383004875650922,
          -0.36422819711987514,
          -0.4137487242793377,
          -0.7997940215513534,
          -1.0921659703745399,
          0.23904939880237897,
          -0.07533149755584667,
          -0.41154934779824803,
          -0.035544862013969246,
          -0.2435877595762251,
          -1.5101832877373624,
          -1.7177560048938378,
          -1.276977175005518,
          1.3190139541738297,
          0.9324056896287973,
          0.17819805522638166,
          1.2028902953572156,
          -0.5223522222355187,
          0.006468173352872887,
          0.20951912077017043,
          1.8091442952458505,
          1.1572737171397298,
          -1.8291277243008404,
          -0.42621923493262365,
          1.0571770759054055,
          -1.0981692602995599,
          -0.13850677697764838,
          0.24388988265049474,
          -2.011013808197331,
          -0.6017079396783577,
          -0.7284815658403813,
          0.4447677835138656,
          -0.9887464224489889,
          1.088696733825581,
          0.5960962110300835,
          -0.5330877839744924,
          -0.0881527545015717,
          -0.9156314308680001,
          -0.848581740444775,
          0.14452393905324862,
          2.254328284116404,
          -1.4121624563812762,
          -0.5068198270516349,
          0.5290100776752873,
          -0.9329842242129207,
          -0.43396094570726285,
          -0.9482344420147713,
          -0.569327507601305,
          1.1323188640420903,
          -1.4427777125289059,
          0.6653712099621992,
          1.288487834550556,
          0.8134084370650483,
          -0.5405194509564674,
          -1.6816285376574398,
          0.22497954990123162,
          1.1635187199874437,
          0.023691707360966735,
          1.7107115782432918,
          -0.6927026427868747,
          2.5774706947869377,
          -0.14262220137784162,
          0.23923967874121435,
          0.46474421623036016,
          0.6040258151845407,
          0.7378945108024446,
          -0.05765936721754241,
          0.11832800601036754,
          1.1130100805113596,
          0.3569717840084694,
          -1.2171525752175805,
          0.7743158650444238,
          1.1535430547758752,
          1.989136305961071,
          -0.7656322508098612,
          1.5491174802229206,
          -0.523197428879702,
          -0.5827266147732845,
          0.7690071251235893,
          0.9570001850729571,
          0.11840852377597776,
          -0.7111753351809885
         ],
         "y": [
          -2.081308121053254,
          -0.7488115153780416,
          1.3145851105821122,
          -0.8597016938190202,
          -0.7351969156279881,
          -0.3178195878213492,
          1.595389291012644,
          0.2810404714854686,
          0.6776381055827144,
          1.2063699409973139,
          1.034654909548729,
          -0.25116058628082993,
          -0.9062792562764631,
          0.18694130103961587,
          1.0738558046881126,
          -0.7859847349280165,
          -0.5624291279354099,
          1.613540223531761,
          -0.9991875039520717,
          -1.146114772201818,
          0.6606780803111236,
          -0.8776353990292922,
          -0.5434819457755342,
          1.960182337308882,
          1.9774378553442726,
          1.6482945557081732,
          -0.2233595098998052,
          -1.654776087275825,
          -0.5884343360965578,
          -1.9552398141999403,
          -0.9482592906369071,
          0.21874435035134382,
          0.24500470666797447,
          -1.6311207704527233,
          1.4604232795658056,
          0.7735457962307,
          0.03872504951229019,
          0.7129804539121348,
          0.262647188774355,
          -1.2395577849280437,
          -1.707091438202646,
          0.8423126168393194,
          -0.7084817956706401,
          1.0903887720295395,
          0.7674431561684523,
          0.35658125249962724,
          -0.9791422246381245,
          -0.8489927718319316,
          -0.15622129851996372,
          -0.2759629624296537,
          0.5824710776026887,
          -0.10269503583203866,
          1.842281675669891,
          -0.5918467315538084,
          0.13124577230824772,
          -0.6358316352026817,
          1.1665172760784674,
          -0.27810305727853635,
          -0.2866722655008118,
          0.5980573848359839,
          -1.562161902224671,
          -0.1630570524471955,
          -1.5877041248912067,
          0.032246889151135445,
          0.6652306214575388,
          -1.9067829942256995,
          1.6469304342603537,
          -1.6279611065426214,
          0.38231171522935936,
          0.0011614827264287669,
          -0.4708595971441523,
          -0.8742006274971373,
          -0.6730877121502794,
          -0.18066772579381052,
          -0.27707753436335925,
          -0.8311818144604303,
          -0.54032385588944,
          -1.8401344648761733,
          0.16266105089998342,
          0.09390715882090143,
          0.5443381320463838,
          -0.15942487090805085,
          0.17096342991555344,
          -0.791587713453854,
          0.2767600306943042,
          -0.3081883246711343,
          0.8162952950759522,
          1.0546222185090566,
          0.4958770191758763,
          -0.8996926252469384,
          -0.14447353340884067,
          0.5370937172738751,
          0.04679568175798408,
          1.4700199846029227,
          2.163977718182096,
          1.3594091272542879,
          1.5666820681369718,
          0.31148139713494793,
          -0.4154598450065224,
          0.7621844269375827
         ],
         "type": "scatter"
        }
       ],
       "layout": {
        "template": {
         "data": {
          "histogram2dcontour": [
           {
            "type": "histogram2dcontour",
            "colorbar": {
             "outlinewidth": 0,
             "tickcolor": "rgb(237,237,237)",
             "ticklen": 6,
             "ticks": "inside"
            },
            "colorscale": [
             [
              0,
              "rgb(20,44,66)"
             ],
             [
              1,
              "rgb(90,179,244)"
             ]
            ]
           }
          ],
          "choropleth": [
           {
            "type": "choropleth",
            "colorbar": {
             "outlinewidth": 0,
             "tickcolor": "rgb(237,237,237)",
             "ticklen": 6,
             "ticks": "inside"
            }
           }
          ],
          "histogram2d": [
           {
            "type": "histogram2d",
            "colorbar": {
             "outlinewidth": 0,
             "tickcolor": "rgb(237,237,237)",
             "ticklen": 6,
             "ticks": "inside"
            },
            "colorscale": [
             [
              0,
              "rgb(20,44,66)"
             ],
             [
              1,
              "rgb(90,179,244)"
             ]
            ]
           }
          ],
          "heatmap": [
           {
            "type": "heatmap",
            "colorbar": {
             "outlinewidth": 0,
             "tickcolor": "rgb(237,237,237)",
             "ticklen": 6,
             "ticks": "inside"
            },
            "colorscale": [
             [
              0,
              "rgb(20,44,66)"
             ],
             [
              1,
              "rgb(90,179,244)"
             ]
            ]
           }
          ],
          "heatmapgl": [
           {
            "type": "heatmapgl",
            "colorbar": {
             "outlinewidth": 0,
             "tickcolor": "rgb(237,237,237)",
             "ticklen": 6,
             "ticks": "inside"
            },
            "colorscale": [
             [
              0,
              "rgb(20,44,66)"
             ],
             [
              1,
              "rgb(90,179,244)"
             ]
            ]
           }
          ],
          "contourcarpet": [
           {
            "type": "contourcarpet",
            "colorbar": {
             "outlinewidth": 0,
             "tickcolor": "rgb(237,237,237)",
             "ticklen": 6,
             "ticks": "inside"
            }
           }
          ],
          "contour": [
           {
            "type": "contour",
            "colorbar": {
             "outlinewidth": 0,
             "tickcolor": "rgb(237,237,237)",
             "ticklen": 6,
             "ticks": "inside"
            },
            "colorscale": [
             [
              0,
              "rgb(20,44,66)"
             ],
             [
              1,
              "rgb(90,179,244)"
             ]
            ]
           }
          ],
          "surface": [
           {
            "type": "surface",
            "colorbar": {
             "outlinewidth": 0,
             "tickcolor": "rgb(237,237,237)",
             "ticklen": 6,
             "ticks": "inside"
            },
            "colorscale": [
             [
              0,
              "rgb(20,44,66)"
             ],
             [
              1,
              "rgb(90,179,244)"
             ]
            ]
           }
          ],
          "mesh3d": [
           {
            "type": "mesh3d",
            "colorbar": {
             "outlinewidth": 0,
             "tickcolor": "rgb(237,237,237)",
             "ticklen": 6,
             "ticks": "inside"
            }
           }
          ],
          "scatter": [
           {
            "fillpattern": {
             "fillmode": "overlay",
             "size": 10,
             "solidity": 0.2
            },
            "type": "scatter"
           }
          ],
          "parcoords": [
           {
            "type": "parcoords",
            "line": {
             "colorbar": {
              "outlinewidth": 0,
              "tickcolor": "rgb(237,237,237)",
              "ticklen": 6,
              "ticks": "inside"
             }
            }
           }
          ],
          "scatterpolargl": [
           {
            "type": "scatterpolargl",
            "marker": {
             "colorbar": {
              "outlinewidth": 0,
              "tickcolor": "rgb(237,237,237)",
              "ticklen": 6,
              "ticks": "inside"
             }
            }
           }
          ],
          "bar": [
           {
            "error_x": {
             "color": "rgb(51,51,51)"
            },
            "error_y": {
             "color": "rgb(51,51,51)"
            },
            "marker": {
             "line": {
              "color": "rgb(237,237,237)",
              "width": 0.5
             },
             "pattern": {
              "fillmode": "overlay",
              "size": 10,
              "solidity": 0.2
             }
            },
            "type": "bar"
           }
          ],
          "scattergeo": [
           {
            "type": "scattergeo",
            "marker": {
             "colorbar": {
              "outlinewidth": 0,
              "tickcolor": "rgb(237,237,237)",
              "ticklen": 6,
              "ticks": "inside"
             }
            }
           }
          ],
          "scatterpolar": [
           {
            "type": "scatterpolar",
            "marker": {
             "colorbar": {
              "outlinewidth": 0,
              "tickcolor": "rgb(237,237,237)",
              "ticklen": 6,
              "ticks": "inside"
             }
            }
           }
          ],
          "histogram": [
           {
            "marker": {
             "pattern": {
              "fillmode": "overlay",
              "size": 10,
              "solidity": 0.2
             }
            },
            "type": "histogram"
           }
          ],
          "scattergl": [
           {
            "type": "scattergl",
            "marker": {
             "colorbar": {
              "outlinewidth": 0,
              "tickcolor": "rgb(237,237,237)",
              "ticklen": 6,
              "ticks": "inside"
             }
            }
           }
          ],
          "scatter3d": [
           {
            "type": "scatter3d",
            "line": {
             "colorbar": {
              "outlinewidth": 0,
              "tickcolor": "rgb(237,237,237)",
              "ticklen": 6,
              "ticks": "inside"
             }
            },
            "marker": {
             "colorbar": {
              "outlinewidth": 0,
              "tickcolor": "rgb(237,237,237)",
              "ticklen": 6,
              "ticks": "inside"
             }
            }
           }
          ],
          "scattermapbox": [
           {
            "type": "scattermapbox",
            "marker": {
             "colorbar": {
              "outlinewidth": 0,
              "tickcolor": "rgb(237,237,237)",
              "ticklen": 6,
              "ticks": "inside"
             }
            }
           }
          ],
          "scatterternary": [
           {
            "type": "scatterternary",
            "marker": {
             "colorbar": {
              "outlinewidth": 0,
              "tickcolor": "rgb(237,237,237)",
              "ticklen": 6,
              "ticks": "inside"
             }
            }
           }
          ],
          "scattercarpet": [
           {
            "type": "scattercarpet",
            "marker": {
             "colorbar": {
              "outlinewidth": 0,
              "tickcolor": "rgb(237,237,237)",
              "ticklen": 6,
              "ticks": "inside"
             }
            }
           }
          ],
          "carpet": [
           {
            "aaxis": {
             "endlinecolor": "rgb(51,51,51)",
             "gridcolor": "white",
             "linecolor": "white",
             "minorgridcolor": "white",
             "startlinecolor": "rgb(51,51,51)"
            },
            "baxis": {
             "endlinecolor": "rgb(51,51,51)",
             "gridcolor": "white",
             "linecolor": "white",
             "minorgridcolor": "white",
             "startlinecolor": "rgb(51,51,51)"
            },
            "type": "carpet"
           }
          ],
          "table": [
           {
            "cells": {
             "fill": {
              "color": "rgb(237,237,237)"
             },
             "line": {
              "color": "white"
             }
            },
            "header": {
             "fill": {
              "color": "rgb(217,217,217)"
             },
             "line": {
              "color": "white"
             }
            },
            "type": "table"
           }
          ],
          "barpolar": [
           {
            "marker": {
             "line": {
              "color": "rgb(237,237,237)",
              "width": 0.5
             },
             "pattern": {
              "fillmode": "overlay",
              "size": 10,
              "solidity": 0.2
             }
            },
            "type": "barpolar"
           }
          ],
          "pie": [
           {
            "automargin": true,
            "type": "pie"
           }
          ]
         },
         "layout": {
          "autotypenumbers": "strict",
          "colorway": [
           "#F8766D",
           "#A3A500",
           "#00BF7D",
           "#00B0F6",
           "#E76BF3"
          ],
          "font": {
           "color": "rgb(51,51,51)"
          },
          "hovermode": "closest",
          "hoverlabel": {
           "align": "left"
          },
          "paper_bgcolor": "white",
          "plot_bgcolor": "rgb(237,237,237)",
          "polar": {
           "bgcolor": "rgb(237,237,237)",
           "angularaxis": {
            "gridcolor": "white",
            "linecolor": "white",
            "showgrid": true,
            "tickcolor": "rgb(51,51,51)",
            "ticks": "outside"
           },
           "radialaxis": {
            "gridcolor": "white",
            "linecolor": "white",
            "showgrid": true,
            "tickcolor": "rgb(51,51,51)",
            "ticks": "outside"
           }
          },
          "ternary": {
           "bgcolor": "rgb(237,237,237)",
           "aaxis": {
            "gridcolor": "white",
            "linecolor": "white",
            "showgrid": true,
            "tickcolor": "rgb(51,51,51)",
            "ticks": "outside"
           },
           "baxis": {
            "gridcolor": "white",
            "linecolor": "white",
            "showgrid": true,
            "tickcolor": "rgb(51,51,51)",
            "ticks": "outside"
           },
           "caxis": {
            "gridcolor": "white",
            "linecolor": "white",
            "showgrid": true,
            "tickcolor": "rgb(51,51,51)",
            "ticks": "outside"
           }
          },
          "coloraxis": {
           "colorbar": {
            "outlinewidth": 0,
            "tickcolor": "rgb(237,237,237)",
            "ticklen": 6,
            "ticks": "inside"
           }
          },
          "colorscale": {
           "sequential": [
            [
             0,
             "rgb(20,44,66)"
            ],
            [
             1,
             "rgb(90,179,244)"
            ]
           ],
           "sequentialminus": [
            [
             0,
             "rgb(20,44,66)"
            ],
            [
             1,
             "rgb(90,179,244)"
            ]
           ]
          },
          "xaxis": {
           "gridcolor": "white",
           "linecolor": "white",
           "showgrid": true,
           "tickcolor": "rgb(51,51,51)",
           "ticks": "outside",
           "title": {
            "standoff": 15
           },
           "zerolinecolor": "white",
           "automargin": true
          },
          "yaxis": {
           "gridcolor": "white",
           "linecolor": "white",
           "showgrid": true,
           "tickcolor": "rgb(51,51,51)",
           "ticks": "outside",
           "title": {
            "standoff": 15
           },
           "zerolinecolor": "white",
           "automargin": true
          },
          "scene": {
           "xaxis": {
            "backgroundcolor": "rgb(237,237,237)",
            "gridcolor": "white",
            "linecolor": "white",
            "showbackground": true,
            "showgrid": true,
            "tickcolor": "rgb(51,51,51)",
            "ticks": "outside",
            "zerolinecolor": "white",
            "gridwidth": 2
           },
           "yaxis": {
            "backgroundcolor": "rgb(237,237,237)",
            "gridcolor": "white",
            "linecolor": "white",
            "showbackground": true,
            "showgrid": true,
            "tickcolor": "rgb(51,51,51)",
            "ticks": "outside",
            "zerolinecolor": "white",
            "gridwidth": 2
           },
           "zaxis": {
            "backgroundcolor": "rgb(237,237,237)",
            "gridcolor": "white",
            "linecolor": "white",
            "showbackground": true,
            "showgrid": true,
            "tickcolor": "rgb(51,51,51)",
            "ticks": "outside",
            "zerolinecolor": "white",
            "gridwidth": 2
           }
          },
          "shapedefaults": {
           "fillcolor": "black",
           "line": {
            "width": 0
           },
           "opacity": 0.3
          },
          "annotationdefaults": {
           "arrowhead": 0,
           "arrowwidth": 1
          },
          "geo": {
           "bgcolor": "white",
           "landcolor": "rgb(237,237,237)",
           "subunitcolor": "white",
           "showland": true,
           "showlakes": true,
           "lakecolor": "white"
          }
         }
        },
        "xaxis": {
         "anchor": "y",
         "domain": [
          0.0,
          1.0
         ],
         "title": {
          "text": "x"
         }
        },
        "yaxis": {
         "anchor": "x",
         "domain": [
          0.0,
          1.0
         ],
         "title": {
          "text": "y"
         }
        },
        "legend": {
         "tracegroupgap": 0
        },
        "margin": {
         "t": 60
        }
       },
       "config": {
        "plotlyServerURL": "https://plot.ly"
       }
      },
      "text/html": "<div>                            <div id=\"032098cb-bf70-4500-b142-980730598891\" class=\"plotly-graph-div\" style=\"height:525px; width:100%;\"></div>            <script type=\"text/javascript\">                require([\"plotly\"], function(Plotly) {                    window.PLOTLYENV=window.PLOTLYENV || {};                                    if (document.getElementById(\"032098cb-bf70-4500-b142-980730598891\")) {                    Plotly.newPlot(                        \"032098cb-bf70-4500-b142-980730598891\",                        [{\"hovertemplate\":\"x=%{x}<br>y=%{y}<extra></extra>\",\"legendgroup\":\"\",\"marker\":{\"color\":\"black\",\"symbol\":\"x-thin\",\"line\":{\"width\":2},\"size\":12},\"mode\":\"markers\",\"name\":\"\",\"orientation\":\"v\",\"showlegend\":false,\"x\":[-0.2415838787933647,1.0300185065220988,-0.8993801967723051],\"xaxis\":\"x\",\"y\":[0.9552395810732529,-0.11337985268148117,-1.0858258451220693],\"yaxis\":\"y\",\"type\":\"scatter\"},{\"marker\":{\"color\":[2,1,0,1,2,1,0,1,1,0,0,2,2,0,0,2,2,0,2,2,0,2,2,0,0,0,1,2,2,2,2,1,1,2,0,0,0,0,1,1,2,0,1,0,0,0,2,2,2,1,0,1,0,2,0,2,0,1,1,0,2,1,2,0,0,2,0,2,1,1,1,2,2,1,1,2,1,2,1,0,0,1,1,1,0,1,1,0,0,1,1,1,0,1,0,0,0,1,1,0]},\"mode\":\"markers\",\"x\":[-1.4089664241100899,1.7285075355782258,-0.4185422913938499,2.1948906327449773,-0.4556012580889037,0.3006901508674825,0.2152013028271304,0.9107904715580717,1.1614816746495595,-0.9579303564902916,-0.477828463106189,-0.5587488420149302,-0.3256814843492299,-0.9225853244097668,0.5374820561259339,-1.5863293052153729,-0.5197850957269213,-0.10396937375181264,-1.4383004875650922,-0.36422819711987514,-0.4137487242793377,-0.7997940215513534,-1.0921659703745399,0.23904939880237897,-0.07533149755584667,-0.41154934779824803,-0.035544862013969246,-0.2435877595762251,-1.5101832877373624,-1.7177560048938378,-1.276977175005518,1.3190139541738297,0.9324056896287973,0.17819805522638166,1.2028902953572156,-0.5223522222355187,0.006468173352872887,0.20951912077017043,1.8091442952458505,1.1572737171397298,-1.8291277243008404,-0.42621923493262365,1.0571770759054055,-1.0981692602995599,-0.13850677697764838,0.24388988265049474,-2.011013808197331,-0.6017079396783577,-0.7284815658403813,0.4447677835138656,-0.9887464224489889,1.088696733825581,0.5960962110300835,-0.5330877839744924,-0.0881527545015717,-0.9156314308680001,-0.848581740444775,0.14452393905324862,2.254328284116404,-1.4121624563812762,-0.5068198270516349,0.5290100776752873,-0.9329842242129207,-0.43396094570726285,-0.9482344420147713,-0.569327507601305,1.1323188640420903,-1.4427777125289059,0.6653712099621992,1.288487834550556,0.8134084370650483,-0.5405194509564674,-1.6816285376574398,0.22497954990123162,1.1635187199874437,0.023691707360966735,1.7107115782432918,-0.6927026427868747,2.5774706947869377,-0.14262220137784162,0.23923967874121435,0.46474421623036016,0.6040258151845407,0.7378945108024446,-0.05765936721754241,0.11832800601036754,1.1130100805113596,0.3569717840084694,-1.2171525752175805,0.7743158650444238,1.1535430547758752,1.989136305961071,-0.7656322508098612,1.5491174802229206,-0.523197428879702,-0.5827266147732845,0.7690071251235893,0.9570001850729571,0.11840852377597776,-0.7111753351809885],\"y\":[-2.081308121053254,-0.7488115153780416,1.3145851105821122,-0.8597016938190202,-0.7351969156279881,-0.3178195878213492,1.595389291012644,0.2810404714854686,0.6776381055827144,1.2063699409973139,1.034654909548729,-0.25116058628082993,-0.9062792562764631,0.18694130103961587,1.0738558046881126,-0.7859847349280165,-0.5624291279354099,1.613540223531761,-0.9991875039520717,-1.146114772201818,0.6606780803111236,-0.8776353990292922,-0.5434819457755342,1.960182337308882,1.9774378553442726,1.6482945557081732,-0.2233595098998052,-1.654776087275825,-0.5884343360965578,-1.9552398141999403,-0.9482592906369071,0.21874435035134382,0.24500470666797447,-1.6311207704527233,1.4604232795658056,0.7735457962307,0.03872504951229019,0.7129804539121348,0.262647188774355,-1.2395577849280437,-1.707091438202646,0.8423126168393194,-0.7084817956706401,1.0903887720295395,0.7674431561684523,0.35658125249962724,-0.9791422246381245,-0.8489927718319316,-0.15622129851996372,-0.2759629624296537,0.5824710776026887,-0.10269503583203866,1.842281675669891,-0.5918467315538084,0.13124577230824772,-0.6358316352026817,1.1665172760784674,-0.27810305727853635,-0.2866722655008118,0.5980573848359839,-1.562161902224671,-0.1630570524471955,-1.5877041248912067,0.032246889151135445,0.6652306214575388,-1.9067829942256995,1.6469304342603537,-1.6279611065426214,0.38231171522935936,0.0011614827264287669,-0.4708595971441523,-0.8742006274971373,-0.6730877121502794,-0.18066772579381052,-0.27707753436335925,-0.8311818144604303,-0.54032385588944,-1.8401344648761733,0.16266105089998342,0.09390715882090143,0.5443381320463838,-0.15942487090805085,0.17096342991555344,-0.791587713453854,0.2767600306943042,-0.3081883246711343,0.8162952950759522,1.0546222185090566,0.4958770191758763,-0.8996926252469384,-0.14447353340884067,0.5370937172738751,0.04679568175798408,1.4700199846029227,2.163977718182096,1.3594091272542879,1.5666820681369718,0.31148139713494793,-0.4154598450065224,0.7621844269375827],\"type\":\"scatter\"}],                        {\"template\":{\"data\":{\"histogram2dcontour\":[{\"type\":\"histogram2dcontour\",\"colorbar\":{\"outlinewidth\":0,\"tickcolor\":\"rgb(237,237,237)\",\"ticklen\":6,\"ticks\":\"inside\"},\"colorscale\":[[0,\"rgb(20,44,66)\"],[1,\"rgb(90,179,244)\"]]}],\"choropleth\":[{\"type\":\"choropleth\",\"colorbar\":{\"outlinewidth\":0,\"tickcolor\":\"rgb(237,237,237)\",\"ticklen\":6,\"ticks\":\"inside\"}}],\"histogram2d\":[{\"type\":\"histogram2d\",\"colorbar\":{\"outlinewidth\":0,\"tickcolor\":\"rgb(237,237,237)\",\"ticklen\":6,\"ticks\":\"inside\"},\"colorscale\":[[0,\"rgb(20,44,66)\"],[1,\"rgb(90,179,244)\"]]}],\"heatmap\":[{\"type\":\"heatmap\",\"colorbar\":{\"outlinewidth\":0,\"tickcolor\":\"rgb(237,237,237)\",\"ticklen\":6,\"ticks\":\"inside\"},\"colorscale\":[[0,\"rgb(20,44,66)\"],[1,\"rgb(90,179,244)\"]]}],\"heatmapgl\":[{\"type\":\"heatmapgl\",\"colorbar\":{\"outlinewidth\":0,\"tickcolor\":\"rgb(237,237,237)\",\"ticklen\":6,\"ticks\":\"inside\"},\"colorscale\":[[0,\"rgb(20,44,66)\"],[1,\"rgb(90,179,244)\"]]}],\"contourcarpet\":[{\"type\":\"contourcarpet\",\"colorbar\":{\"outlinewidth\":0,\"tickcolor\":\"rgb(237,237,237)\",\"ticklen\":6,\"ticks\":\"inside\"}}],\"contour\":[{\"type\":\"contour\",\"colorbar\":{\"outlinewidth\":0,\"tickcolor\":\"rgb(237,237,237)\",\"ticklen\":6,\"ticks\":\"inside\"},\"colorscale\":[[0,\"rgb(20,44,66)\"],[1,\"rgb(90,179,244)\"]]}],\"surface\":[{\"type\":\"surface\",\"colorbar\":{\"outlinewidth\":0,\"tickcolor\":\"rgb(237,237,237)\",\"ticklen\":6,\"ticks\":\"inside\"},\"colorscale\":[[0,\"rgb(20,44,66)\"],[1,\"rgb(90,179,244)\"]]}],\"mesh3d\":[{\"type\":\"mesh3d\",\"colorbar\":{\"outlinewidth\":0,\"tickcolor\":\"rgb(237,237,237)\",\"ticklen\":6,\"ticks\":\"inside\"}}],\"scatter\":[{\"fillpattern\":{\"fillmode\":\"overlay\",\"size\":10,\"solidity\":0.2},\"type\":\"scatter\"}],\"parcoords\":[{\"type\":\"parcoords\",\"line\":{\"colorbar\":{\"outlinewidth\":0,\"tickcolor\":\"rgb(237,237,237)\",\"ticklen\":6,\"ticks\":\"inside\"}}}],\"scatterpolargl\":[{\"type\":\"scatterpolargl\",\"marker\":{\"colorbar\":{\"outlinewidth\":0,\"tickcolor\":\"rgb(237,237,237)\",\"ticklen\":6,\"ticks\":\"inside\"}}}],\"bar\":[{\"error_x\":{\"color\":\"rgb(51,51,51)\"},\"error_y\":{\"color\":\"rgb(51,51,51)\"},\"marker\":{\"line\":{\"color\":\"rgb(237,237,237)\",\"width\":0.5},\"pattern\":{\"fillmode\":\"overlay\",\"size\":10,\"solidity\":0.2}},\"type\":\"bar\"}],\"scattergeo\":[{\"type\":\"scattergeo\",\"marker\":{\"colorbar\":{\"outlinewidth\":0,\"tickcolor\":\"rgb(237,237,237)\",\"ticklen\":6,\"ticks\":\"inside\"}}}],\"scatterpolar\":[{\"type\":\"scatterpolar\",\"marker\":{\"colorbar\":{\"outlinewidth\":0,\"tickcolor\":\"rgb(237,237,237)\",\"ticklen\":6,\"ticks\":\"inside\"}}}],\"histogram\":[{\"marker\":{\"pattern\":{\"fillmode\":\"overlay\",\"size\":10,\"solidity\":0.2}},\"type\":\"histogram\"}],\"scattergl\":[{\"type\":\"scattergl\",\"marker\":{\"colorbar\":{\"outlinewidth\":0,\"tickcolor\":\"rgb(237,237,237)\",\"ticklen\":6,\"ticks\":\"inside\"}}}],\"scatter3d\":[{\"type\":\"scatter3d\",\"line\":{\"colorbar\":{\"outlinewidth\":0,\"tickcolor\":\"rgb(237,237,237)\",\"ticklen\":6,\"ticks\":\"inside\"}},\"marker\":{\"colorbar\":{\"outlinewidth\":0,\"tickcolor\":\"rgb(237,237,237)\",\"ticklen\":6,\"ticks\":\"inside\"}}}],\"scattermapbox\":[{\"type\":\"scattermapbox\",\"marker\":{\"colorbar\":{\"outlinewidth\":0,\"tickcolor\":\"rgb(237,237,237)\",\"ticklen\":6,\"ticks\":\"inside\"}}}],\"scatterternary\":[{\"type\":\"scatterternary\",\"marker\":{\"colorbar\":{\"outlinewidth\":0,\"tickcolor\":\"rgb(237,237,237)\",\"ticklen\":6,\"ticks\":\"inside\"}}}],\"scattercarpet\":[{\"type\":\"scattercarpet\",\"marker\":{\"colorbar\":{\"outlinewidth\":0,\"tickcolor\":\"rgb(237,237,237)\",\"ticklen\":6,\"ticks\":\"inside\"}}}],\"carpet\":[{\"aaxis\":{\"endlinecolor\":\"rgb(51,51,51)\",\"gridcolor\":\"white\",\"linecolor\":\"white\",\"minorgridcolor\":\"white\",\"startlinecolor\":\"rgb(51,51,51)\"},\"baxis\":{\"endlinecolor\":\"rgb(51,51,51)\",\"gridcolor\":\"white\",\"linecolor\":\"white\",\"minorgridcolor\":\"white\",\"startlinecolor\":\"rgb(51,51,51)\"},\"type\":\"carpet\"}],\"table\":[{\"cells\":{\"fill\":{\"color\":\"rgb(237,237,237)\"},\"line\":{\"color\":\"white\"}},\"header\":{\"fill\":{\"color\":\"rgb(217,217,217)\"},\"line\":{\"color\":\"white\"}},\"type\":\"table\"}],\"barpolar\":[{\"marker\":{\"line\":{\"color\":\"rgb(237,237,237)\",\"width\":0.5},\"pattern\":{\"fillmode\":\"overlay\",\"size\":10,\"solidity\":0.2}},\"type\":\"barpolar\"}],\"pie\":[{\"automargin\":true,\"type\":\"pie\"}]},\"layout\":{\"autotypenumbers\":\"strict\",\"colorway\":[\"#F8766D\",\"#A3A500\",\"#00BF7D\",\"#00B0F6\",\"#E76BF3\"],\"font\":{\"color\":\"rgb(51,51,51)\"},\"hovermode\":\"closest\",\"hoverlabel\":{\"align\":\"left\"},\"paper_bgcolor\":\"white\",\"plot_bgcolor\":\"rgb(237,237,237)\",\"polar\":{\"bgcolor\":\"rgb(237,237,237)\",\"angularaxis\":{\"gridcolor\":\"white\",\"linecolor\":\"white\",\"showgrid\":true,\"tickcolor\":\"rgb(51,51,51)\",\"ticks\":\"outside\"},\"radialaxis\":{\"gridcolor\":\"white\",\"linecolor\":\"white\",\"showgrid\":true,\"tickcolor\":\"rgb(51,51,51)\",\"ticks\":\"outside\"}},\"ternary\":{\"bgcolor\":\"rgb(237,237,237)\",\"aaxis\":{\"gridcolor\":\"white\",\"linecolor\":\"white\",\"showgrid\":true,\"tickcolor\":\"rgb(51,51,51)\",\"ticks\":\"outside\"},\"baxis\":{\"gridcolor\":\"white\",\"linecolor\":\"white\",\"showgrid\":true,\"tickcolor\":\"rgb(51,51,51)\",\"ticks\":\"outside\"},\"caxis\":{\"gridcolor\":\"white\",\"linecolor\":\"white\",\"showgrid\":true,\"tickcolor\":\"rgb(51,51,51)\",\"ticks\":\"outside\"}},\"coloraxis\":{\"colorbar\":{\"outlinewidth\":0,\"tickcolor\":\"rgb(237,237,237)\",\"ticklen\":6,\"ticks\":\"inside\"}},\"colorscale\":{\"sequential\":[[0,\"rgb(20,44,66)\"],[1,\"rgb(90,179,244)\"]],\"sequentialminus\":[[0,\"rgb(20,44,66)\"],[1,\"rgb(90,179,244)\"]]},\"xaxis\":{\"gridcolor\":\"white\",\"linecolor\":\"white\",\"showgrid\":true,\"tickcolor\":\"rgb(51,51,51)\",\"ticks\":\"outside\",\"title\":{\"standoff\":15},\"zerolinecolor\":\"white\",\"automargin\":true},\"yaxis\":{\"gridcolor\":\"white\",\"linecolor\":\"white\",\"showgrid\":true,\"tickcolor\":\"rgb(51,51,51)\",\"ticks\":\"outside\",\"title\":{\"standoff\":15},\"zerolinecolor\":\"white\",\"automargin\":true},\"scene\":{\"xaxis\":{\"backgroundcolor\":\"rgb(237,237,237)\",\"gridcolor\":\"white\",\"linecolor\":\"white\",\"showbackground\":true,\"showgrid\":true,\"tickcolor\":\"rgb(51,51,51)\",\"ticks\":\"outside\",\"zerolinecolor\":\"white\",\"gridwidth\":2},\"yaxis\":{\"backgroundcolor\":\"rgb(237,237,237)\",\"gridcolor\":\"white\",\"linecolor\":\"white\",\"showbackground\":true,\"showgrid\":true,\"tickcolor\":\"rgb(51,51,51)\",\"ticks\":\"outside\",\"zerolinecolor\":\"white\",\"gridwidth\":2},\"zaxis\":{\"backgroundcolor\":\"rgb(237,237,237)\",\"gridcolor\":\"white\",\"linecolor\":\"white\",\"showbackground\":true,\"showgrid\":true,\"tickcolor\":\"rgb(51,51,51)\",\"ticks\":\"outside\",\"zerolinecolor\":\"white\",\"gridwidth\":2}},\"shapedefaults\":{\"fillcolor\":\"black\",\"line\":{\"width\":0},\"opacity\":0.3},\"annotationdefaults\":{\"arrowhead\":0,\"arrowwidth\":1},\"geo\":{\"bgcolor\":\"white\",\"landcolor\":\"rgb(237,237,237)\",\"subunitcolor\":\"white\",\"showland\":true,\"showlakes\":true,\"lakecolor\":\"white\"}}},\"xaxis\":{\"anchor\":\"y\",\"domain\":[0.0,1.0],\"title\":{\"text\":\"x\"}},\"yaxis\":{\"anchor\":\"x\",\"domain\":[0.0,1.0],\"title\":{\"text\":\"y\"}},\"legend\":{\"tracegroupgap\":0},\"margin\":{\"t\":60}},                        {\"responsive\": true}                    ).then(function(){\n                            \nvar gd = document.getElementById('032098cb-bf70-4500-b142-980730598891');\nvar x = new MutationObserver(function (mutations, observer) {{\n        var display = window.getComputedStyle(gd).display;\n        if (!display || display === 'none') {{\n            console.log([gd, 'removed!']);\n            Plotly.purge(gd);\n            observer.disconnect();\n        }}\n}});\n\n// Listen for the removal of the full notebook cells\nvar notebookContainer = gd.closest('#notebook-container');\nif (notebookContainer) {{\n    x.observe(notebookContainer, {childList: true});\n}}\n\n// Listen for the clearing of the current output cell\nvar outputEl = gd.closest('.output');\nif (outputEl) {{\n    x.observe(outputEl, {childList: true});\n}}\n\n                        })                };                });            </script>        </div>"
     },
     "metadata": {},
     "output_type": "display_data"
    }
   ],
   "source": [
    "fig = px.scatter(x=kmeans.centroids[:, 0], y=kmeans.centroids[:, 1])\n",
    "fig.update_traces(mode='markers', marker_size=12, marker_color='black', marker_symbol='x-thin', marker_line_width=2)\n",
    "fig.add_scatter(x=x_train_scaled[:, 0], y=x_train_scaled[:, 1], marker_color=kmeans.labels, mode='markers')\n",
    "fig.show()"
   ],
   "metadata": {
    "collapsed": false
   }
  },
  {
   "cell_type": "code",
   "execution_count": 39,
   "outputs": [],
   "source": [
    "kmeans = RobustKMeans(n_clusters=n_clusters, max_iter=300)\n",
    "kmeans.fit(x_train_scaled, n=1000)"
   ],
   "metadata": {
    "collapsed": false
   }
  },
  {
   "cell_type": "code",
   "execution_count": 40,
   "outputs": [
    {
     "data": {
      "text/plain": "(69.92072765127895, 0.85)"
     },
     "execution_count": 40,
     "metadata": {},
     "output_type": "execute_result"
    }
   ],
   "source": [
    "kmeans.inertia, kmeans.score(true_labels)"
   ],
   "metadata": {
    "collapsed": false
   }
  },
  {
   "cell_type": "code",
   "execution_count": 41,
   "outputs": [
    {
     "data": {
      "application/vnd.plotly.v1+json": {
       "data": [
        {
         "hovertemplate": "x=%{x}<br>y=%{y}<extra></extra>",
         "legendgroup": "",
         "marker": {
          "color": "black",
          "symbol": "x-thin",
          "line": {
           "width": 2
          },
          "size": 12
         },
         "mode": "markers",
         "name": "",
         "orientation": "v",
         "showlegend": false,
         "x": [
          1.030174036422321,
          -0.24188689657748386,
          -0.8990042987523258
         ],
         "xaxis": "x",
         "y": [
          -0.11479368811032259,
          0.9563833175901625,
          -1.0867031864745689
         ],
         "yaxis": "y",
         "type": "scatter"
        },
        {
         "marker": {
          "color": [
           2,
           0,
           1,
           0,
           2,
           0,
           1,
           0,
           0,
           1,
           1,
           2,
           2,
           1,
           1,
           2,
           2,
           1,
           2,
           2,
           1,
           2,
           2,
           1,
           1,
           1,
           0,
           2,
           2,
           2,
           2,
           0,
           0,
           2,
           1,
           1,
           1,
           1,
           0,
           0,
           2,
           1,
           0,
           1,
           1,
           1,
           2,
           2,
           2,
           0,
           1,
           0,
           1,
           2,
           1,
           2,
           1,
           0,
           0,
           1,
           2,
           0,
           2,
           1,
           1,
           2,
           1,
           2,
           0,
           0,
           0,
           2,
           2,
           0,
           0,
           2,
           0,
           2,
           0,
           1,
           1,
           0,
           0,
           0,
           1,
           0,
           0,
           1,
           1,
           0,
           0,
           0,
           1,
           0,
           1,
           1,
           1,
           0,
           0,
           1
          ]
         },
         "mode": "markers",
         "x": [
          -1.4089664241100899,
          1.7285075355782258,
          -0.4185422913938499,
          2.1948906327449773,
          -0.4556012580889037,
          0.3006901508674825,
          0.2152013028271304,
          0.9107904715580717,
          1.1614816746495595,
          -0.9579303564902916,
          -0.477828463106189,
          -0.5587488420149302,
          -0.3256814843492299,
          -0.9225853244097668,
          0.5374820561259339,
          -1.5863293052153729,
          -0.5197850957269213,
          -0.10396937375181264,
          -1.4383004875650922,
          -0.36422819711987514,
          -0.4137487242793377,
          -0.7997940215513534,
          -1.0921659703745399,
          0.23904939880237897,
          -0.07533149755584667,
          -0.41154934779824803,
          -0.035544862013969246,
          -0.2435877595762251,
          -1.5101832877373624,
          -1.7177560048938378,
          -1.276977175005518,
          1.3190139541738297,
          0.9324056896287973,
          0.17819805522638166,
          1.2028902953572156,
          -0.5223522222355187,
          0.006468173352872887,
          0.20951912077017043,
          1.8091442952458505,
          1.1572737171397298,
          -1.8291277243008404,
          -0.42621923493262365,
          1.0571770759054055,
          -1.0981692602995599,
          -0.13850677697764838,
          0.24388988265049474,
          -2.011013808197331,
          -0.6017079396783577,
          -0.7284815658403813,
          0.4447677835138656,
          -0.9887464224489889,
          1.088696733825581,
          0.5960962110300835,
          -0.5330877839744924,
          -0.0881527545015717,
          -0.9156314308680001,
          -0.848581740444775,
          0.14452393905324862,
          2.254328284116404,
          -1.4121624563812762,
          -0.5068198270516349,
          0.5290100776752873,
          -0.9329842242129207,
          -0.43396094570726285,
          -0.9482344420147713,
          -0.569327507601305,
          1.1323188640420903,
          -1.4427777125289059,
          0.6653712099621992,
          1.288487834550556,
          0.8134084370650483,
          -0.5405194509564674,
          -1.6816285376574398,
          0.22497954990123162,
          1.1635187199874437,
          0.023691707360966735,
          1.7107115782432918,
          -0.6927026427868747,
          2.5774706947869377,
          -0.14262220137784162,
          0.23923967874121435,
          0.46474421623036016,
          0.6040258151845407,
          0.7378945108024446,
          -0.05765936721754241,
          0.11832800601036754,
          1.1130100805113596,
          0.3569717840084694,
          -1.2171525752175805,
          0.7743158650444238,
          1.1535430547758752,
          1.989136305961071,
          -0.7656322508098612,
          1.5491174802229206,
          -0.523197428879702,
          -0.5827266147732845,
          0.7690071251235893,
          0.9570001850729571,
          0.11840852377597776,
          -0.7111753351809885
         ],
         "y": [
          -2.081308121053254,
          -0.7488115153780416,
          1.3145851105821122,
          -0.8597016938190202,
          -0.7351969156279881,
          -0.3178195878213492,
          1.595389291012644,
          0.2810404714854686,
          0.6776381055827144,
          1.2063699409973139,
          1.034654909548729,
          -0.25116058628082993,
          -0.9062792562764631,
          0.18694130103961587,
          1.0738558046881126,
          -0.7859847349280165,
          -0.5624291279354099,
          1.613540223531761,
          -0.9991875039520717,
          -1.146114772201818,
          0.6606780803111236,
          -0.8776353990292922,
          -0.5434819457755342,
          1.960182337308882,
          1.9774378553442726,
          1.6482945557081732,
          -0.2233595098998052,
          -1.654776087275825,
          -0.5884343360965578,
          -1.9552398141999403,
          -0.9482592906369071,
          0.21874435035134382,
          0.24500470666797447,
          -1.6311207704527233,
          1.4604232795658056,
          0.7735457962307,
          0.03872504951229019,
          0.7129804539121348,
          0.262647188774355,
          -1.2395577849280437,
          -1.707091438202646,
          0.8423126168393194,
          -0.7084817956706401,
          1.0903887720295395,
          0.7674431561684523,
          0.35658125249962724,
          -0.9791422246381245,
          -0.8489927718319316,
          -0.15622129851996372,
          -0.2759629624296537,
          0.5824710776026887,
          -0.10269503583203866,
          1.842281675669891,
          -0.5918467315538084,
          0.13124577230824772,
          -0.6358316352026817,
          1.1665172760784674,
          -0.27810305727853635,
          -0.2866722655008118,
          0.5980573848359839,
          -1.562161902224671,
          -0.1630570524471955,
          -1.5877041248912067,
          0.032246889151135445,
          0.6652306214575388,
          -1.9067829942256995,
          1.6469304342603537,
          -1.6279611065426214,
          0.38231171522935936,
          0.0011614827264287669,
          -0.4708595971441523,
          -0.8742006274971373,
          -0.6730877121502794,
          -0.18066772579381052,
          -0.27707753436335925,
          -0.8311818144604303,
          -0.54032385588944,
          -1.8401344648761733,
          0.16266105089998342,
          0.09390715882090143,
          0.5443381320463838,
          -0.15942487090805085,
          0.17096342991555344,
          -0.791587713453854,
          0.2767600306943042,
          -0.3081883246711343,
          0.8162952950759522,
          1.0546222185090566,
          0.4958770191758763,
          -0.8996926252469384,
          -0.14447353340884067,
          0.5370937172738751,
          0.04679568175798408,
          1.4700199846029227,
          2.163977718182096,
          1.3594091272542879,
          1.5666820681369718,
          0.31148139713494793,
          -0.4154598450065224,
          0.7621844269375827
         ],
         "type": "scatter"
        }
       ],
       "layout": {
        "template": {
         "data": {
          "histogram2dcontour": [
           {
            "type": "histogram2dcontour",
            "colorbar": {
             "outlinewidth": 0,
             "tickcolor": "rgb(237,237,237)",
             "ticklen": 6,
             "ticks": "inside"
            },
            "colorscale": [
             [
              0,
              "rgb(20,44,66)"
             ],
             [
              1,
              "rgb(90,179,244)"
             ]
            ]
           }
          ],
          "choropleth": [
           {
            "type": "choropleth",
            "colorbar": {
             "outlinewidth": 0,
             "tickcolor": "rgb(237,237,237)",
             "ticklen": 6,
             "ticks": "inside"
            }
           }
          ],
          "histogram2d": [
           {
            "type": "histogram2d",
            "colorbar": {
             "outlinewidth": 0,
             "tickcolor": "rgb(237,237,237)",
             "ticklen": 6,
             "ticks": "inside"
            },
            "colorscale": [
             [
              0,
              "rgb(20,44,66)"
             ],
             [
              1,
              "rgb(90,179,244)"
             ]
            ]
           }
          ],
          "heatmap": [
           {
            "type": "heatmap",
            "colorbar": {
             "outlinewidth": 0,
             "tickcolor": "rgb(237,237,237)",
             "ticklen": 6,
             "ticks": "inside"
            },
            "colorscale": [
             [
              0,
              "rgb(20,44,66)"
             ],
             [
              1,
              "rgb(90,179,244)"
             ]
            ]
           }
          ],
          "heatmapgl": [
           {
            "type": "heatmapgl",
            "colorbar": {
             "outlinewidth": 0,
             "tickcolor": "rgb(237,237,237)",
             "ticklen": 6,
             "ticks": "inside"
            },
            "colorscale": [
             [
              0,
              "rgb(20,44,66)"
             ],
             [
              1,
              "rgb(90,179,244)"
             ]
            ]
           }
          ],
          "contourcarpet": [
           {
            "type": "contourcarpet",
            "colorbar": {
             "outlinewidth": 0,
             "tickcolor": "rgb(237,237,237)",
             "ticklen": 6,
             "ticks": "inside"
            }
           }
          ],
          "contour": [
           {
            "type": "contour",
            "colorbar": {
             "outlinewidth": 0,
             "tickcolor": "rgb(237,237,237)",
             "ticklen": 6,
             "ticks": "inside"
            },
            "colorscale": [
             [
              0,
              "rgb(20,44,66)"
             ],
             [
              1,
              "rgb(90,179,244)"
             ]
            ]
           }
          ],
          "surface": [
           {
            "type": "surface",
            "colorbar": {
             "outlinewidth": 0,
             "tickcolor": "rgb(237,237,237)",
             "ticklen": 6,
             "ticks": "inside"
            },
            "colorscale": [
             [
              0,
              "rgb(20,44,66)"
             ],
             [
              1,
              "rgb(90,179,244)"
             ]
            ]
           }
          ],
          "mesh3d": [
           {
            "type": "mesh3d",
            "colorbar": {
             "outlinewidth": 0,
             "tickcolor": "rgb(237,237,237)",
             "ticklen": 6,
             "ticks": "inside"
            }
           }
          ],
          "scatter": [
           {
            "fillpattern": {
             "fillmode": "overlay",
             "size": 10,
             "solidity": 0.2
            },
            "type": "scatter"
           }
          ],
          "parcoords": [
           {
            "type": "parcoords",
            "line": {
             "colorbar": {
              "outlinewidth": 0,
              "tickcolor": "rgb(237,237,237)",
              "ticklen": 6,
              "ticks": "inside"
             }
            }
           }
          ],
          "scatterpolargl": [
           {
            "type": "scatterpolargl",
            "marker": {
             "colorbar": {
              "outlinewidth": 0,
              "tickcolor": "rgb(237,237,237)",
              "ticklen": 6,
              "ticks": "inside"
             }
            }
           }
          ],
          "bar": [
           {
            "error_x": {
             "color": "rgb(51,51,51)"
            },
            "error_y": {
             "color": "rgb(51,51,51)"
            },
            "marker": {
             "line": {
              "color": "rgb(237,237,237)",
              "width": 0.5
             },
             "pattern": {
              "fillmode": "overlay",
              "size": 10,
              "solidity": 0.2
             }
            },
            "type": "bar"
           }
          ],
          "scattergeo": [
           {
            "type": "scattergeo",
            "marker": {
             "colorbar": {
              "outlinewidth": 0,
              "tickcolor": "rgb(237,237,237)",
              "ticklen": 6,
              "ticks": "inside"
             }
            }
           }
          ],
          "scatterpolar": [
           {
            "type": "scatterpolar",
            "marker": {
             "colorbar": {
              "outlinewidth": 0,
              "tickcolor": "rgb(237,237,237)",
              "ticklen": 6,
              "ticks": "inside"
             }
            }
           }
          ],
          "histogram": [
           {
            "marker": {
             "pattern": {
              "fillmode": "overlay",
              "size": 10,
              "solidity": 0.2
             }
            },
            "type": "histogram"
           }
          ],
          "scattergl": [
           {
            "type": "scattergl",
            "marker": {
             "colorbar": {
              "outlinewidth": 0,
              "tickcolor": "rgb(237,237,237)",
              "ticklen": 6,
              "ticks": "inside"
             }
            }
           }
          ],
          "scatter3d": [
           {
            "type": "scatter3d",
            "line": {
             "colorbar": {
              "outlinewidth": 0,
              "tickcolor": "rgb(237,237,237)",
              "ticklen": 6,
              "ticks": "inside"
             }
            },
            "marker": {
             "colorbar": {
              "outlinewidth": 0,
              "tickcolor": "rgb(237,237,237)",
              "ticklen": 6,
              "ticks": "inside"
             }
            }
           }
          ],
          "scattermapbox": [
           {
            "type": "scattermapbox",
            "marker": {
             "colorbar": {
              "outlinewidth": 0,
              "tickcolor": "rgb(237,237,237)",
              "ticklen": 6,
              "ticks": "inside"
             }
            }
           }
          ],
          "scatterternary": [
           {
            "type": "scatterternary",
            "marker": {
             "colorbar": {
              "outlinewidth": 0,
              "tickcolor": "rgb(237,237,237)",
              "ticklen": 6,
              "ticks": "inside"
             }
            }
           }
          ],
          "scattercarpet": [
           {
            "type": "scattercarpet",
            "marker": {
             "colorbar": {
              "outlinewidth": 0,
              "tickcolor": "rgb(237,237,237)",
              "ticklen": 6,
              "ticks": "inside"
             }
            }
           }
          ],
          "carpet": [
           {
            "aaxis": {
             "endlinecolor": "rgb(51,51,51)",
             "gridcolor": "white",
             "linecolor": "white",
             "minorgridcolor": "white",
             "startlinecolor": "rgb(51,51,51)"
            },
            "baxis": {
             "endlinecolor": "rgb(51,51,51)",
             "gridcolor": "white",
             "linecolor": "white",
             "minorgridcolor": "white",
             "startlinecolor": "rgb(51,51,51)"
            },
            "type": "carpet"
           }
          ],
          "table": [
           {
            "cells": {
             "fill": {
              "color": "rgb(237,237,237)"
             },
             "line": {
              "color": "white"
             }
            },
            "header": {
             "fill": {
              "color": "rgb(217,217,217)"
             },
             "line": {
              "color": "white"
             }
            },
            "type": "table"
           }
          ],
          "barpolar": [
           {
            "marker": {
             "line": {
              "color": "rgb(237,237,237)",
              "width": 0.5
             },
             "pattern": {
              "fillmode": "overlay",
              "size": 10,
              "solidity": 0.2
             }
            },
            "type": "barpolar"
           }
          ],
          "pie": [
           {
            "automargin": true,
            "type": "pie"
           }
          ]
         },
         "layout": {
          "autotypenumbers": "strict",
          "colorway": [
           "#F8766D",
           "#A3A500",
           "#00BF7D",
           "#00B0F6",
           "#E76BF3"
          ],
          "font": {
           "color": "rgb(51,51,51)"
          },
          "hovermode": "closest",
          "hoverlabel": {
           "align": "left"
          },
          "paper_bgcolor": "white",
          "plot_bgcolor": "rgb(237,237,237)",
          "polar": {
           "bgcolor": "rgb(237,237,237)",
           "angularaxis": {
            "gridcolor": "white",
            "linecolor": "white",
            "showgrid": true,
            "tickcolor": "rgb(51,51,51)",
            "ticks": "outside"
           },
           "radialaxis": {
            "gridcolor": "white",
            "linecolor": "white",
            "showgrid": true,
            "tickcolor": "rgb(51,51,51)",
            "ticks": "outside"
           }
          },
          "ternary": {
           "bgcolor": "rgb(237,237,237)",
           "aaxis": {
            "gridcolor": "white",
            "linecolor": "white",
            "showgrid": true,
            "tickcolor": "rgb(51,51,51)",
            "ticks": "outside"
           },
           "baxis": {
            "gridcolor": "white",
            "linecolor": "white",
            "showgrid": true,
            "tickcolor": "rgb(51,51,51)",
            "ticks": "outside"
           },
           "caxis": {
            "gridcolor": "white",
            "linecolor": "white",
            "showgrid": true,
            "tickcolor": "rgb(51,51,51)",
            "ticks": "outside"
           }
          },
          "coloraxis": {
           "colorbar": {
            "outlinewidth": 0,
            "tickcolor": "rgb(237,237,237)",
            "ticklen": 6,
            "ticks": "inside"
           }
          },
          "colorscale": {
           "sequential": [
            [
             0,
             "rgb(20,44,66)"
            ],
            [
             1,
             "rgb(90,179,244)"
            ]
           ],
           "sequentialminus": [
            [
             0,
             "rgb(20,44,66)"
            ],
            [
             1,
             "rgb(90,179,244)"
            ]
           ]
          },
          "xaxis": {
           "gridcolor": "white",
           "linecolor": "white",
           "showgrid": true,
           "tickcolor": "rgb(51,51,51)",
           "ticks": "outside",
           "title": {
            "standoff": 15
           },
           "zerolinecolor": "white",
           "automargin": true
          },
          "yaxis": {
           "gridcolor": "white",
           "linecolor": "white",
           "showgrid": true,
           "tickcolor": "rgb(51,51,51)",
           "ticks": "outside",
           "title": {
            "standoff": 15
           },
           "zerolinecolor": "white",
           "automargin": true
          },
          "scene": {
           "xaxis": {
            "backgroundcolor": "rgb(237,237,237)",
            "gridcolor": "white",
            "linecolor": "white",
            "showbackground": true,
            "showgrid": true,
            "tickcolor": "rgb(51,51,51)",
            "ticks": "outside",
            "zerolinecolor": "white",
            "gridwidth": 2
           },
           "yaxis": {
            "backgroundcolor": "rgb(237,237,237)",
            "gridcolor": "white",
            "linecolor": "white",
            "showbackground": true,
            "showgrid": true,
            "tickcolor": "rgb(51,51,51)",
            "ticks": "outside",
            "zerolinecolor": "white",
            "gridwidth": 2
           },
           "zaxis": {
            "backgroundcolor": "rgb(237,237,237)",
            "gridcolor": "white",
            "linecolor": "white",
            "showbackground": true,
            "showgrid": true,
            "tickcolor": "rgb(51,51,51)",
            "ticks": "outside",
            "zerolinecolor": "white",
            "gridwidth": 2
           }
          },
          "shapedefaults": {
           "fillcolor": "black",
           "line": {
            "width": 0
           },
           "opacity": 0.3
          },
          "annotationdefaults": {
           "arrowhead": 0,
           "arrowwidth": 1
          },
          "geo": {
           "bgcolor": "white",
           "landcolor": "rgb(237,237,237)",
           "subunitcolor": "white",
           "showland": true,
           "showlakes": true,
           "lakecolor": "white"
          }
         }
        },
        "xaxis": {
         "anchor": "y",
         "domain": [
          0.0,
          1.0
         ],
         "title": {
          "text": "x"
         }
        },
        "yaxis": {
         "anchor": "x",
         "domain": [
          0.0,
          1.0
         ],
         "title": {
          "text": "y"
         }
        },
        "legend": {
         "tracegroupgap": 0
        },
        "margin": {
         "t": 60
        }
       },
       "config": {
        "plotlyServerURL": "https://plot.ly"
       }
      },
      "text/html": "<div>                            <div id=\"11f907a4-0ae2-4249-8fc7-5c16c740de5a\" class=\"plotly-graph-div\" style=\"height:525px; width:100%;\"></div>            <script type=\"text/javascript\">                require([\"plotly\"], function(Plotly) {                    window.PLOTLYENV=window.PLOTLYENV || {};                                    if (document.getElementById(\"11f907a4-0ae2-4249-8fc7-5c16c740de5a\")) {                    Plotly.newPlot(                        \"11f907a4-0ae2-4249-8fc7-5c16c740de5a\",                        [{\"hovertemplate\":\"x=%{x}<br>y=%{y}<extra></extra>\",\"legendgroup\":\"\",\"marker\":{\"color\":\"black\",\"symbol\":\"x-thin\",\"line\":{\"width\":2},\"size\":12},\"mode\":\"markers\",\"name\":\"\",\"orientation\":\"v\",\"showlegend\":false,\"x\":[1.030174036422321,-0.24188689657748386,-0.8990042987523258],\"xaxis\":\"x\",\"y\":[-0.11479368811032259,0.9563833175901625,-1.0867031864745689],\"yaxis\":\"y\",\"type\":\"scatter\"},{\"marker\":{\"color\":[2,0,1,0,2,0,1,0,0,1,1,2,2,1,1,2,2,1,2,2,1,2,2,1,1,1,0,2,2,2,2,0,0,2,1,1,1,1,0,0,2,1,0,1,1,1,2,2,2,0,1,0,1,2,1,2,1,0,0,1,2,0,2,1,1,2,1,2,0,0,0,2,2,0,0,2,0,2,0,1,1,0,0,0,1,0,0,1,1,0,0,0,1,0,1,1,1,0,0,1]},\"mode\":\"markers\",\"x\":[-1.4089664241100899,1.7285075355782258,-0.4185422913938499,2.1948906327449773,-0.4556012580889037,0.3006901508674825,0.2152013028271304,0.9107904715580717,1.1614816746495595,-0.9579303564902916,-0.477828463106189,-0.5587488420149302,-0.3256814843492299,-0.9225853244097668,0.5374820561259339,-1.5863293052153729,-0.5197850957269213,-0.10396937375181264,-1.4383004875650922,-0.36422819711987514,-0.4137487242793377,-0.7997940215513534,-1.0921659703745399,0.23904939880237897,-0.07533149755584667,-0.41154934779824803,-0.035544862013969246,-0.2435877595762251,-1.5101832877373624,-1.7177560048938378,-1.276977175005518,1.3190139541738297,0.9324056896287973,0.17819805522638166,1.2028902953572156,-0.5223522222355187,0.006468173352872887,0.20951912077017043,1.8091442952458505,1.1572737171397298,-1.8291277243008404,-0.42621923493262365,1.0571770759054055,-1.0981692602995599,-0.13850677697764838,0.24388988265049474,-2.011013808197331,-0.6017079396783577,-0.7284815658403813,0.4447677835138656,-0.9887464224489889,1.088696733825581,0.5960962110300835,-0.5330877839744924,-0.0881527545015717,-0.9156314308680001,-0.848581740444775,0.14452393905324862,2.254328284116404,-1.4121624563812762,-0.5068198270516349,0.5290100776752873,-0.9329842242129207,-0.43396094570726285,-0.9482344420147713,-0.569327507601305,1.1323188640420903,-1.4427777125289059,0.6653712099621992,1.288487834550556,0.8134084370650483,-0.5405194509564674,-1.6816285376574398,0.22497954990123162,1.1635187199874437,0.023691707360966735,1.7107115782432918,-0.6927026427868747,2.5774706947869377,-0.14262220137784162,0.23923967874121435,0.46474421623036016,0.6040258151845407,0.7378945108024446,-0.05765936721754241,0.11832800601036754,1.1130100805113596,0.3569717840084694,-1.2171525752175805,0.7743158650444238,1.1535430547758752,1.989136305961071,-0.7656322508098612,1.5491174802229206,-0.523197428879702,-0.5827266147732845,0.7690071251235893,0.9570001850729571,0.11840852377597776,-0.7111753351809885],\"y\":[-2.081308121053254,-0.7488115153780416,1.3145851105821122,-0.8597016938190202,-0.7351969156279881,-0.3178195878213492,1.595389291012644,0.2810404714854686,0.6776381055827144,1.2063699409973139,1.034654909548729,-0.25116058628082993,-0.9062792562764631,0.18694130103961587,1.0738558046881126,-0.7859847349280165,-0.5624291279354099,1.613540223531761,-0.9991875039520717,-1.146114772201818,0.6606780803111236,-0.8776353990292922,-0.5434819457755342,1.960182337308882,1.9774378553442726,1.6482945557081732,-0.2233595098998052,-1.654776087275825,-0.5884343360965578,-1.9552398141999403,-0.9482592906369071,0.21874435035134382,0.24500470666797447,-1.6311207704527233,1.4604232795658056,0.7735457962307,0.03872504951229019,0.7129804539121348,0.262647188774355,-1.2395577849280437,-1.707091438202646,0.8423126168393194,-0.7084817956706401,1.0903887720295395,0.7674431561684523,0.35658125249962724,-0.9791422246381245,-0.8489927718319316,-0.15622129851996372,-0.2759629624296537,0.5824710776026887,-0.10269503583203866,1.842281675669891,-0.5918467315538084,0.13124577230824772,-0.6358316352026817,1.1665172760784674,-0.27810305727853635,-0.2866722655008118,0.5980573848359839,-1.562161902224671,-0.1630570524471955,-1.5877041248912067,0.032246889151135445,0.6652306214575388,-1.9067829942256995,1.6469304342603537,-1.6279611065426214,0.38231171522935936,0.0011614827264287669,-0.4708595971441523,-0.8742006274971373,-0.6730877121502794,-0.18066772579381052,-0.27707753436335925,-0.8311818144604303,-0.54032385588944,-1.8401344648761733,0.16266105089998342,0.09390715882090143,0.5443381320463838,-0.15942487090805085,0.17096342991555344,-0.791587713453854,0.2767600306943042,-0.3081883246711343,0.8162952950759522,1.0546222185090566,0.4958770191758763,-0.8996926252469384,-0.14447353340884067,0.5370937172738751,0.04679568175798408,1.4700199846029227,2.163977718182096,1.3594091272542879,1.5666820681369718,0.31148139713494793,-0.4154598450065224,0.7621844269375827],\"type\":\"scatter\"}],                        {\"template\":{\"data\":{\"histogram2dcontour\":[{\"type\":\"histogram2dcontour\",\"colorbar\":{\"outlinewidth\":0,\"tickcolor\":\"rgb(237,237,237)\",\"ticklen\":6,\"ticks\":\"inside\"},\"colorscale\":[[0,\"rgb(20,44,66)\"],[1,\"rgb(90,179,244)\"]]}],\"choropleth\":[{\"type\":\"choropleth\",\"colorbar\":{\"outlinewidth\":0,\"tickcolor\":\"rgb(237,237,237)\",\"ticklen\":6,\"ticks\":\"inside\"}}],\"histogram2d\":[{\"type\":\"histogram2d\",\"colorbar\":{\"outlinewidth\":0,\"tickcolor\":\"rgb(237,237,237)\",\"ticklen\":6,\"ticks\":\"inside\"},\"colorscale\":[[0,\"rgb(20,44,66)\"],[1,\"rgb(90,179,244)\"]]}],\"heatmap\":[{\"type\":\"heatmap\",\"colorbar\":{\"outlinewidth\":0,\"tickcolor\":\"rgb(237,237,237)\",\"ticklen\":6,\"ticks\":\"inside\"},\"colorscale\":[[0,\"rgb(20,44,66)\"],[1,\"rgb(90,179,244)\"]]}],\"heatmapgl\":[{\"type\":\"heatmapgl\",\"colorbar\":{\"outlinewidth\":0,\"tickcolor\":\"rgb(237,237,237)\",\"ticklen\":6,\"ticks\":\"inside\"},\"colorscale\":[[0,\"rgb(20,44,66)\"],[1,\"rgb(90,179,244)\"]]}],\"contourcarpet\":[{\"type\":\"contourcarpet\",\"colorbar\":{\"outlinewidth\":0,\"tickcolor\":\"rgb(237,237,237)\",\"ticklen\":6,\"ticks\":\"inside\"}}],\"contour\":[{\"type\":\"contour\",\"colorbar\":{\"outlinewidth\":0,\"tickcolor\":\"rgb(237,237,237)\",\"ticklen\":6,\"ticks\":\"inside\"},\"colorscale\":[[0,\"rgb(20,44,66)\"],[1,\"rgb(90,179,244)\"]]}],\"surface\":[{\"type\":\"surface\",\"colorbar\":{\"outlinewidth\":0,\"tickcolor\":\"rgb(237,237,237)\",\"ticklen\":6,\"ticks\":\"inside\"},\"colorscale\":[[0,\"rgb(20,44,66)\"],[1,\"rgb(90,179,244)\"]]}],\"mesh3d\":[{\"type\":\"mesh3d\",\"colorbar\":{\"outlinewidth\":0,\"tickcolor\":\"rgb(237,237,237)\",\"ticklen\":6,\"ticks\":\"inside\"}}],\"scatter\":[{\"fillpattern\":{\"fillmode\":\"overlay\",\"size\":10,\"solidity\":0.2},\"type\":\"scatter\"}],\"parcoords\":[{\"type\":\"parcoords\",\"line\":{\"colorbar\":{\"outlinewidth\":0,\"tickcolor\":\"rgb(237,237,237)\",\"ticklen\":6,\"ticks\":\"inside\"}}}],\"scatterpolargl\":[{\"type\":\"scatterpolargl\",\"marker\":{\"colorbar\":{\"outlinewidth\":0,\"tickcolor\":\"rgb(237,237,237)\",\"ticklen\":6,\"ticks\":\"inside\"}}}],\"bar\":[{\"error_x\":{\"color\":\"rgb(51,51,51)\"},\"error_y\":{\"color\":\"rgb(51,51,51)\"},\"marker\":{\"line\":{\"color\":\"rgb(237,237,237)\",\"width\":0.5},\"pattern\":{\"fillmode\":\"overlay\",\"size\":10,\"solidity\":0.2}},\"type\":\"bar\"}],\"scattergeo\":[{\"type\":\"scattergeo\",\"marker\":{\"colorbar\":{\"outlinewidth\":0,\"tickcolor\":\"rgb(237,237,237)\",\"ticklen\":6,\"ticks\":\"inside\"}}}],\"scatterpolar\":[{\"type\":\"scatterpolar\",\"marker\":{\"colorbar\":{\"outlinewidth\":0,\"tickcolor\":\"rgb(237,237,237)\",\"ticklen\":6,\"ticks\":\"inside\"}}}],\"histogram\":[{\"marker\":{\"pattern\":{\"fillmode\":\"overlay\",\"size\":10,\"solidity\":0.2}},\"type\":\"histogram\"}],\"scattergl\":[{\"type\":\"scattergl\",\"marker\":{\"colorbar\":{\"outlinewidth\":0,\"tickcolor\":\"rgb(237,237,237)\",\"ticklen\":6,\"ticks\":\"inside\"}}}],\"scatter3d\":[{\"type\":\"scatter3d\",\"line\":{\"colorbar\":{\"outlinewidth\":0,\"tickcolor\":\"rgb(237,237,237)\",\"ticklen\":6,\"ticks\":\"inside\"}},\"marker\":{\"colorbar\":{\"outlinewidth\":0,\"tickcolor\":\"rgb(237,237,237)\",\"ticklen\":6,\"ticks\":\"inside\"}}}],\"scattermapbox\":[{\"type\":\"scattermapbox\",\"marker\":{\"colorbar\":{\"outlinewidth\":0,\"tickcolor\":\"rgb(237,237,237)\",\"ticklen\":6,\"ticks\":\"inside\"}}}],\"scatterternary\":[{\"type\":\"scatterternary\",\"marker\":{\"colorbar\":{\"outlinewidth\":0,\"tickcolor\":\"rgb(237,237,237)\",\"ticklen\":6,\"ticks\":\"inside\"}}}],\"scattercarpet\":[{\"type\":\"scattercarpet\",\"marker\":{\"colorbar\":{\"outlinewidth\":0,\"tickcolor\":\"rgb(237,237,237)\",\"ticklen\":6,\"ticks\":\"inside\"}}}],\"carpet\":[{\"aaxis\":{\"endlinecolor\":\"rgb(51,51,51)\",\"gridcolor\":\"white\",\"linecolor\":\"white\",\"minorgridcolor\":\"white\",\"startlinecolor\":\"rgb(51,51,51)\"},\"baxis\":{\"endlinecolor\":\"rgb(51,51,51)\",\"gridcolor\":\"white\",\"linecolor\":\"white\",\"minorgridcolor\":\"white\",\"startlinecolor\":\"rgb(51,51,51)\"},\"type\":\"carpet\"}],\"table\":[{\"cells\":{\"fill\":{\"color\":\"rgb(237,237,237)\"},\"line\":{\"color\":\"white\"}},\"header\":{\"fill\":{\"color\":\"rgb(217,217,217)\"},\"line\":{\"color\":\"white\"}},\"type\":\"table\"}],\"barpolar\":[{\"marker\":{\"line\":{\"color\":\"rgb(237,237,237)\",\"width\":0.5},\"pattern\":{\"fillmode\":\"overlay\",\"size\":10,\"solidity\":0.2}},\"type\":\"barpolar\"}],\"pie\":[{\"automargin\":true,\"type\":\"pie\"}]},\"layout\":{\"autotypenumbers\":\"strict\",\"colorway\":[\"#F8766D\",\"#A3A500\",\"#00BF7D\",\"#00B0F6\",\"#E76BF3\"],\"font\":{\"color\":\"rgb(51,51,51)\"},\"hovermode\":\"closest\",\"hoverlabel\":{\"align\":\"left\"},\"paper_bgcolor\":\"white\",\"plot_bgcolor\":\"rgb(237,237,237)\",\"polar\":{\"bgcolor\":\"rgb(237,237,237)\",\"angularaxis\":{\"gridcolor\":\"white\",\"linecolor\":\"white\",\"showgrid\":true,\"tickcolor\":\"rgb(51,51,51)\",\"ticks\":\"outside\"},\"radialaxis\":{\"gridcolor\":\"white\",\"linecolor\":\"white\",\"showgrid\":true,\"tickcolor\":\"rgb(51,51,51)\",\"ticks\":\"outside\"}},\"ternary\":{\"bgcolor\":\"rgb(237,237,237)\",\"aaxis\":{\"gridcolor\":\"white\",\"linecolor\":\"white\",\"showgrid\":true,\"tickcolor\":\"rgb(51,51,51)\",\"ticks\":\"outside\"},\"baxis\":{\"gridcolor\":\"white\",\"linecolor\":\"white\",\"showgrid\":true,\"tickcolor\":\"rgb(51,51,51)\",\"ticks\":\"outside\"},\"caxis\":{\"gridcolor\":\"white\",\"linecolor\":\"white\",\"showgrid\":true,\"tickcolor\":\"rgb(51,51,51)\",\"ticks\":\"outside\"}},\"coloraxis\":{\"colorbar\":{\"outlinewidth\":0,\"tickcolor\":\"rgb(237,237,237)\",\"ticklen\":6,\"ticks\":\"inside\"}},\"colorscale\":{\"sequential\":[[0,\"rgb(20,44,66)\"],[1,\"rgb(90,179,244)\"]],\"sequentialminus\":[[0,\"rgb(20,44,66)\"],[1,\"rgb(90,179,244)\"]]},\"xaxis\":{\"gridcolor\":\"white\",\"linecolor\":\"white\",\"showgrid\":true,\"tickcolor\":\"rgb(51,51,51)\",\"ticks\":\"outside\",\"title\":{\"standoff\":15},\"zerolinecolor\":\"white\",\"automargin\":true},\"yaxis\":{\"gridcolor\":\"white\",\"linecolor\":\"white\",\"showgrid\":true,\"tickcolor\":\"rgb(51,51,51)\",\"ticks\":\"outside\",\"title\":{\"standoff\":15},\"zerolinecolor\":\"white\",\"automargin\":true},\"scene\":{\"xaxis\":{\"backgroundcolor\":\"rgb(237,237,237)\",\"gridcolor\":\"white\",\"linecolor\":\"white\",\"showbackground\":true,\"showgrid\":true,\"tickcolor\":\"rgb(51,51,51)\",\"ticks\":\"outside\",\"zerolinecolor\":\"white\",\"gridwidth\":2},\"yaxis\":{\"backgroundcolor\":\"rgb(237,237,237)\",\"gridcolor\":\"white\",\"linecolor\":\"white\",\"showbackground\":true,\"showgrid\":true,\"tickcolor\":\"rgb(51,51,51)\",\"ticks\":\"outside\",\"zerolinecolor\":\"white\",\"gridwidth\":2},\"zaxis\":{\"backgroundcolor\":\"rgb(237,237,237)\",\"gridcolor\":\"white\",\"linecolor\":\"white\",\"showbackground\":true,\"showgrid\":true,\"tickcolor\":\"rgb(51,51,51)\",\"ticks\":\"outside\",\"zerolinecolor\":\"white\",\"gridwidth\":2}},\"shapedefaults\":{\"fillcolor\":\"black\",\"line\":{\"width\":0},\"opacity\":0.3},\"annotationdefaults\":{\"arrowhead\":0,\"arrowwidth\":1},\"geo\":{\"bgcolor\":\"white\",\"landcolor\":\"rgb(237,237,237)\",\"subunitcolor\":\"white\",\"showland\":true,\"showlakes\":true,\"lakecolor\":\"white\"}}},\"xaxis\":{\"anchor\":\"y\",\"domain\":[0.0,1.0],\"title\":{\"text\":\"x\"}},\"yaxis\":{\"anchor\":\"x\",\"domain\":[0.0,1.0],\"title\":{\"text\":\"y\"}},\"legend\":{\"tracegroupgap\":0},\"margin\":{\"t\":60}},                        {\"responsive\": true}                    ).then(function(){\n                            \nvar gd = document.getElementById('11f907a4-0ae2-4249-8fc7-5c16c740de5a');\nvar x = new MutationObserver(function (mutations, observer) {{\n        var display = window.getComputedStyle(gd).display;\n        if (!display || display === 'none') {{\n            console.log([gd, 'removed!']);\n            Plotly.purge(gd);\n            observer.disconnect();\n        }}\n}});\n\n// Listen for the removal of the full notebook cells\nvar notebookContainer = gd.closest('#notebook-container');\nif (notebookContainer) {{\n    x.observe(notebookContainer, {childList: true});\n}}\n\n// Listen for the clearing of the current output cell\nvar outputEl = gd.closest('.output');\nif (outputEl) {{\n    x.observe(outputEl, {childList: true});\n}}\n\n                        })                };                });            </script>        </div>"
     },
     "metadata": {},
     "output_type": "display_data"
    }
   ],
   "source": [
    "fig = px.scatter(x=kmeans.centroids[:, 0], y=kmeans.centroids[:, 1])\n",
    "fig.update_traces(mode='markers', marker_size=12, marker_color='black', marker_symbol='x-thin', marker_line_width=2)\n",
    "fig.add_scatter(x=x_train_scaled[:, 0], y=x_train_scaled[:, 1], marker_color=kmeans.labels, mode='markers')\n",
    "fig.show()"
   ],
   "metadata": {
    "collapsed": false
   }
  },
  {
   "cell_type": "code",
   "execution_count": 42,
   "outputs": [],
   "source": [
    "noise, noise_labels = make_blobs(n_samples=2, centers=[[100, 1]])\n",
    "x_train = np.append(x_train, noise, axis=0)\n",
    "true_labels = np.append(true_labels, noise_labels)\n",
    "x_train_scaled = StandardScaler().fit_transform(x_train)"
   ],
   "metadata": {
    "collapsed": false
   }
  },
  {
   "cell_type": "code",
   "execution_count": 43,
   "outputs": [
    {
     "data": {
      "application/vnd.plotly.v1+json": {
       "data": [
        {
         "hovertemplate": "x=%{x}<br>y=%{y}<br>color=%{marker.color}<extra></extra>",
         "legendgroup": "",
         "marker": {
          "color": [
           2,
           1,
           0,
           1,
           2,
           1,
           0,
           1,
           1,
           0,
           0,
           2,
           2,
           0,
           0,
           2,
           2,
           0,
           2,
           2,
           0,
           2,
           2,
           0,
           0,
           0,
           1,
           2,
           2,
           2,
           2,
           1,
           1,
           2,
           0,
           0,
           0,
           0,
           1,
           1,
           2,
           0,
           1,
           0,
           0,
           1,
           2,
           2,
           2,
           1,
           1,
           1,
           0,
           2,
           2,
           2,
           0,
           0,
           1,
           0,
           2,
           1,
           2,
           1,
           2,
           2,
           1,
           2,
           1,
           1,
           1,
           2,
           2,
           0,
           1,
           2,
           1,
           2,
           1,
           1,
           0,
           1,
           0,
           2,
           0,
           0,
           0,
           1,
           0,
           1,
           1,
           1,
           0,
           1,
           0,
           0,
           0,
           1,
           2,
           0,
           0,
           0
          ],
          "coloraxis": "coloraxis",
          "symbol": "circle"
         },
         "mode": "markers",
         "name": "",
         "orientation": "v",
         "showlegend": false,
         "x": [
          -0.2688853022597714,
          0.016236205632779405,
          -0.17887938482379703,
          0.058619299047518836,
          -0.1822471604932669,
          -0.11351832012729032,
          -0.12128721624386042,
          -0.05807476087036807,
          -0.035292913193154696,
          -0.22789688757777077,
          -0.18426708298256617,
          -0.19162081428046318,
          -0.1704405535637245,
          -0.22468486766213425,
          -0.09199958691978133,
          -0.28500335543077826,
          -0.18807993960308944,
          -0.15029221381531893,
          -0.2715510685776334,
          -0.17394352984677205,
          -0.17844376397038614,
          -0.21352606861649698,
          -0.24009570137999314,
          -0.11911999344864568,
          -0.14768971430496594,
          -0.178243893135833,
          -0.1440740586324649,
          -0.16298019312837594,
          -0.2780834996479753,
          -0.2969469059657404,
          -0.25689062940707963,
          -0.020976988453440582,
          -0.05611045338959337,
          -0.1246499283773804,
          -0.03152985777736075,
          -0.18831323013887927,
          -0.14025607634835788,
          -0.12180359098896312,
          0.023564162710162245,
          -0.0356753161089289,
          -0.3070679374011902,
          -0.17957703578310527,
          -0.04477171201544517,
          -0.24064125716714233,
          -0.15343083954192785,
          -0.11868010898380651,
          -0.32359704176079757,
          -0.1955247710497862,
          -0.207045468246557,
          -0.10042510169694305,
          -0.2306973325555939,
          -0.04190732731937246,
          -0.08667295905136105,
          -0.1892888364994158,
          -0.14885486058519393,
          -0.2240529246921439,
          -0.21795970795701672,
          -0.1277101019130315,
          0.06402076309227425,
          -0.2691757453206995,
          -0.1869017060934488,
          -0.0927694875792665,
          -0.22562987948705895,
          -0.18028057253849952,
          -0.22701576034255627,
          -0.19258216252501656,
          -0.037943116714082896,
          -0.2719579414789733,
          -0.08037751487921505,
          -0.0237510842288716,
          -0.06692446380752122,
          -0.18996419767317563,
          -0.29366378136705734,
          -0.12039860694028212,
          -0.03510779438552617,
          -0.13869086814241816,
          0.01461897780717159,
          -0.20379401799617763,
          0.09338669650820271,
          -0.15380483340631596,
          -0.11910270154318942,
          -0.09860972069565918,
          -0.08595234727177055,
          -0.07378687758354484,
          -0.146083739398251,
          -0.1300906870671408,
          -0.03969782433766414,
          -0.10840366282208429,
          -0.25145400098569193,
          -0.07047704566959535,
          -0.03601434428646502,
          0.03992114101918192,
          -0.21042157891833818,
          -6.606929954034495E-5,
          -0.18839003925218717,
          -0.19379982160055775,
          -0.07095948343662883,
          -0.05387540069529404,
          -0.13008336992378347,
          -0.20547274488854944,
          6.989935935402909,
          7.094451959074132
         ],
         "xaxis": "x",
         "y": [
          -2.1041521973012385,
          -0.7675704248056903,
          1.3021521605585362,
          -0.8788005702497658,
          -0.7539140854287334,
          -0.33525716260935345,
          1.5838172301770934,
          0.2654388812950124,
          0.6632524040398822,
          1.1936052250102358,
          1.0213637497823278,
          -0.2683937979656111,
          -0.925520930153681,
          0.17105122170232856,
          1.0606848269885694,
          -0.8048576099766387,
          -0.5806166264177453,
          1.6020238098077824,
          -1.0187140158462296,
          -1.166091733574571,
          0.6462403827390208,
          -0.8967892565963339,
          -0.5616113560049099,
          1.9497286586460676,
          1.9670370786321618,
          1.6368846917825695,
          -0.2405074890711843,
          -1.676312502022252,
          -0.606701561321223,
          -1.977697390353246,
          -0.9676296668633507,
          0.20295177277224516,
          0.2292926380641768,
          -1.6525846627514391,
          1.4484374400613358,
          0.7594541283942062,
          0.022380568932706867,
          0.6987031049070375,
          0.24698920847533978,
          -1.2598212237999182,
          -1.7287882413019515,
          0.8284317742557333,
          -0.7271170622821491,
          1.0772684810854727,
          0.7533327788638874,
          0.34121125516341694,
          -0.9986072817341172,
          -0.8680588168598826,
          -0.17316344542705223,
          -0.2932722132155306,
          0.5677936130764175,
          -0.11947308197412862,
          1.8314665372712906,
          -0.6101244184972054,
          0.11518494167219881,
          -0.6542441710216531,
          1.1536303798293648,
          -0.29541886916515586,
          -0.30401434885781037,
          0.5834277047955342,
          -1.583414380491071,
          -0.18002015640214183,
          -1.6090349104794492,
          0.015882547833707468,
          0.6508068810617322,
          -1.929092011506634,
          1.635516388212519,
          -1.6494153119467412,
          0.3670206023211976,
          -0.015298160200310646,
          -0.4887663618464923,
          -0.893343954744898,
          -0.6916144676143546,
          -0.19768482053427403,
          -0.2943902022028054,
          -0.8501932546722921,
          -0.5584435840498607,
          -1.8622391511595175,
          0.1466965331950204,
          0.07773185549930405,
          0.5295437595720662,
          -0.17637683932430542,
          0.15502436563624253,
          -0.8104777661086864,
          0.2611453175325608,
          -0.3255963719417763,
          0.8023346886121665,
          1.0413922744993853,
          0.48093407466803006,
          -0.9189141058370401,
          -0.16137966402887777,
          0.5222771348796708,
          0.03047594411502725,
          1.458063566667585,
          2.1541488352032148,
          1.3471135986581912,
          1.5550219967249619,
          0.2959731327052583,
          -0.43319676520169925,
          0.7480579274259671,
          0.7806679900310768,
          0.8656523899061428
         ],
         "yaxis": "y",
         "type": "scatter"
        }
       ],
       "layout": {
        "template": {
         "data": {
          "histogram2dcontour": [
           {
            "type": "histogram2dcontour",
            "colorbar": {
             "outlinewidth": 0,
             "tickcolor": "rgb(237,237,237)",
             "ticklen": 6,
             "ticks": "inside"
            },
            "colorscale": [
             [
              0,
              "rgb(20,44,66)"
             ],
             [
              1,
              "rgb(90,179,244)"
             ]
            ]
           }
          ],
          "choropleth": [
           {
            "type": "choropleth",
            "colorbar": {
             "outlinewidth": 0,
             "tickcolor": "rgb(237,237,237)",
             "ticklen": 6,
             "ticks": "inside"
            }
           }
          ],
          "histogram2d": [
           {
            "type": "histogram2d",
            "colorbar": {
             "outlinewidth": 0,
             "tickcolor": "rgb(237,237,237)",
             "ticklen": 6,
             "ticks": "inside"
            },
            "colorscale": [
             [
              0,
              "rgb(20,44,66)"
             ],
             [
              1,
              "rgb(90,179,244)"
             ]
            ]
           }
          ],
          "heatmap": [
           {
            "type": "heatmap",
            "colorbar": {
             "outlinewidth": 0,
             "tickcolor": "rgb(237,237,237)",
             "ticklen": 6,
             "ticks": "inside"
            },
            "colorscale": [
             [
              0,
              "rgb(20,44,66)"
             ],
             [
              1,
              "rgb(90,179,244)"
             ]
            ]
           }
          ],
          "heatmapgl": [
           {
            "type": "heatmapgl",
            "colorbar": {
             "outlinewidth": 0,
             "tickcolor": "rgb(237,237,237)",
             "ticklen": 6,
             "ticks": "inside"
            },
            "colorscale": [
             [
              0,
              "rgb(20,44,66)"
             ],
             [
              1,
              "rgb(90,179,244)"
             ]
            ]
           }
          ],
          "contourcarpet": [
           {
            "type": "contourcarpet",
            "colorbar": {
             "outlinewidth": 0,
             "tickcolor": "rgb(237,237,237)",
             "ticklen": 6,
             "ticks": "inside"
            }
           }
          ],
          "contour": [
           {
            "type": "contour",
            "colorbar": {
             "outlinewidth": 0,
             "tickcolor": "rgb(237,237,237)",
             "ticklen": 6,
             "ticks": "inside"
            },
            "colorscale": [
             [
              0,
              "rgb(20,44,66)"
             ],
             [
              1,
              "rgb(90,179,244)"
             ]
            ]
           }
          ],
          "surface": [
           {
            "type": "surface",
            "colorbar": {
             "outlinewidth": 0,
             "tickcolor": "rgb(237,237,237)",
             "ticklen": 6,
             "ticks": "inside"
            },
            "colorscale": [
             [
              0,
              "rgb(20,44,66)"
             ],
             [
              1,
              "rgb(90,179,244)"
             ]
            ]
           }
          ],
          "mesh3d": [
           {
            "type": "mesh3d",
            "colorbar": {
             "outlinewidth": 0,
             "tickcolor": "rgb(237,237,237)",
             "ticklen": 6,
             "ticks": "inside"
            }
           }
          ],
          "scatter": [
           {
            "fillpattern": {
             "fillmode": "overlay",
             "size": 10,
             "solidity": 0.2
            },
            "type": "scatter"
           }
          ],
          "parcoords": [
           {
            "type": "parcoords",
            "line": {
             "colorbar": {
              "outlinewidth": 0,
              "tickcolor": "rgb(237,237,237)",
              "ticklen": 6,
              "ticks": "inside"
             }
            }
           }
          ],
          "scatterpolargl": [
           {
            "type": "scatterpolargl",
            "marker": {
             "colorbar": {
              "outlinewidth": 0,
              "tickcolor": "rgb(237,237,237)",
              "ticklen": 6,
              "ticks": "inside"
             }
            }
           }
          ],
          "bar": [
           {
            "error_x": {
             "color": "rgb(51,51,51)"
            },
            "error_y": {
             "color": "rgb(51,51,51)"
            },
            "marker": {
             "line": {
              "color": "rgb(237,237,237)",
              "width": 0.5
             },
             "pattern": {
              "fillmode": "overlay",
              "size": 10,
              "solidity": 0.2
             }
            },
            "type": "bar"
           }
          ],
          "scattergeo": [
           {
            "type": "scattergeo",
            "marker": {
             "colorbar": {
              "outlinewidth": 0,
              "tickcolor": "rgb(237,237,237)",
              "ticklen": 6,
              "ticks": "inside"
             }
            }
           }
          ],
          "scatterpolar": [
           {
            "type": "scatterpolar",
            "marker": {
             "colorbar": {
              "outlinewidth": 0,
              "tickcolor": "rgb(237,237,237)",
              "ticklen": 6,
              "ticks": "inside"
             }
            }
           }
          ],
          "histogram": [
           {
            "marker": {
             "pattern": {
              "fillmode": "overlay",
              "size": 10,
              "solidity": 0.2
             }
            },
            "type": "histogram"
           }
          ],
          "scattergl": [
           {
            "type": "scattergl",
            "marker": {
             "colorbar": {
              "outlinewidth": 0,
              "tickcolor": "rgb(237,237,237)",
              "ticklen": 6,
              "ticks": "inside"
             }
            }
           }
          ],
          "scatter3d": [
           {
            "type": "scatter3d",
            "line": {
             "colorbar": {
              "outlinewidth": 0,
              "tickcolor": "rgb(237,237,237)",
              "ticklen": 6,
              "ticks": "inside"
             }
            },
            "marker": {
             "colorbar": {
              "outlinewidth": 0,
              "tickcolor": "rgb(237,237,237)",
              "ticklen": 6,
              "ticks": "inside"
             }
            }
           }
          ],
          "scattermapbox": [
           {
            "type": "scattermapbox",
            "marker": {
             "colorbar": {
              "outlinewidth": 0,
              "tickcolor": "rgb(237,237,237)",
              "ticklen": 6,
              "ticks": "inside"
             }
            }
           }
          ],
          "scatterternary": [
           {
            "type": "scatterternary",
            "marker": {
             "colorbar": {
              "outlinewidth": 0,
              "tickcolor": "rgb(237,237,237)",
              "ticklen": 6,
              "ticks": "inside"
             }
            }
           }
          ],
          "scattercarpet": [
           {
            "type": "scattercarpet",
            "marker": {
             "colorbar": {
              "outlinewidth": 0,
              "tickcolor": "rgb(237,237,237)",
              "ticklen": 6,
              "ticks": "inside"
             }
            }
           }
          ],
          "carpet": [
           {
            "aaxis": {
             "endlinecolor": "rgb(51,51,51)",
             "gridcolor": "white",
             "linecolor": "white",
             "minorgridcolor": "white",
             "startlinecolor": "rgb(51,51,51)"
            },
            "baxis": {
             "endlinecolor": "rgb(51,51,51)",
             "gridcolor": "white",
             "linecolor": "white",
             "minorgridcolor": "white",
             "startlinecolor": "rgb(51,51,51)"
            },
            "type": "carpet"
           }
          ],
          "table": [
           {
            "cells": {
             "fill": {
              "color": "rgb(237,237,237)"
             },
             "line": {
              "color": "white"
             }
            },
            "header": {
             "fill": {
              "color": "rgb(217,217,217)"
             },
             "line": {
              "color": "white"
             }
            },
            "type": "table"
           }
          ],
          "barpolar": [
           {
            "marker": {
             "line": {
              "color": "rgb(237,237,237)",
              "width": 0.5
             },
             "pattern": {
              "fillmode": "overlay",
              "size": 10,
              "solidity": 0.2
             }
            },
            "type": "barpolar"
           }
          ],
          "pie": [
           {
            "automargin": true,
            "type": "pie"
           }
          ]
         },
         "layout": {
          "autotypenumbers": "strict",
          "colorway": [
           "#F8766D",
           "#A3A500",
           "#00BF7D",
           "#00B0F6",
           "#E76BF3"
          ],
          "font": {
           "color": "rgb(51,51,51)"
          },
          "hovermode": "closest",
          "hoverlabel": {
           "align": "left"
          },
          "paper_bgcolor": "white",
          "plot_bgcolor": "rgb(237,237,237)",
          "polar": {
           "bgcolor": "rgb(237,237,237)",
           "angularaxis": {
            "gridcolor": "white",
            "linecolor": "white",
            "showgrid": true,
            "tickcolor": "rgb(51,51,51)",
            "ticks": "outside"
           },
           "radialaxis": {
            "gridcolor": "white",
            "linecolor": "white",
            "showgrid": true,
            "tickcolor": "rgb(51,51,51)",
            "ticks": "outside"
           }
          },
          "ternary": {
           "bgcolor": "rgb(237,237,237)",
           "aaxis": {
            "gridcolor": "white",
            "linecolor": "white",
            "showgrid": true,
            "tickcolor": "rgb(51,51,51)",
            "ticks": "outside"
           },
           "baxis": {
            "gridcolor": "white",
            "linecolor": "white",
            "showgrid": true,
            "tickcolor": "rgb(51,51,51)",
            "ticks": "outside"
           },
           "caxis": {
            "gridcolor": "white",
            "linecolor": "white",
            "showgrid": true,
            "tickcolor": "rgb(51,51,51)",
            "ticks": "outside"
           }
          },
          "coloraxis": {
           "colorbar": {
            "outlinewidth": 0,
            "tickcolor": "rgb(237,237,237)",
            "ticklen": 6,
            "ticks": "inside"
           }
          },
          "colorscale": {
           "sequential": [
            [
             0,
             "rgb(20,44,66)"
            ],
            [
             1,
             "rgb(90,179,244)"
            ]
           ],
           "sequentialminus": [
            [
             0,
             "rgb(20,44,66)"
            ],
            [
             1,
             "rgb(90,179,244)"
            ]
           ]
          },
          "xaxis": {
           "gridcolor": "white",
           "linecolor": "white",
           "showgrid": true,
           "tickcolor": "rgb(51,51,51)",
           "ticks": "outside",
           "title": {
            "standoff": 15
           },
           "zerolinecolor": "white",
           "automargin": true
          },
          "yaxis": {
           "gridcolor": "white",
           "linecolor": "white",
           "showgrid": true,
           "tickcolor": "rgb(51,51,51)",
           "ticks": "outside",
           "title": {
            "standoff": 15
           },
           "zerolinecolor": "white",
           "automargin": true
          },
          "scene": {
           "xaxis": {
            "backgroundcolor": "rgb(237,237,237)",
            "gridcolor": "white",
            "linecolor": "white",
            "showbackground": true,
            "showgrid": true,
            "tickcolor": "rgb(51,51,51)",
            "ticks": "outside",
            "zerolinecolor": "white",
            "gridwidth": 2
           },
           "yaxis": {
            "backgroundcolor": "rgb(237,237,237)",
            "gridcolor": "white",
            "linecolor": "white",
            "showbackground": true,
            "showgrid": true,
            "tickcolor": "rgb(51,51,51)",
            "ticks": "outside",
            "zerolinecolor": "white",
            "gridwidth": 2
           },
           "zaxis": {
            "backgroundcolor": "rgb(237,237,237)",
            "gridcolor": "white",
            "linecolor": "white",
            "showbackground": true,
            "showgrid": true,
            "tickcolor": "rgb(51,51,51)",
            "ticks": "outside",
            "zerolinecolor": "white",
            "gridwidth": 2
           }
          },
          "shapedefaults": {
           "fillcolor": "black",
           "line": {
            "width": 0
           },
           "opacity": 0.3
          },
          "annotationdefaults": {
           "arrowhead": 0,
           "arrowwidth": 1
          },
          "geo": {
           "bgcolor": "white",
           "landcolor": "rgb(237,237,237)",
           "subunitcolor": "white",
           "showland": true,
           "showlakes": true,
           "lakecolor": "white"
          }
         }
        },
        "xaxis": {
         "anchor": "y",
         "domain": [
          0.0,
          1.0
         ],
         "title": {
          "text": "x"
         }
        },
        "yaxis": {
         "anchor": "x",
         "domain": [
          0.0,
          1.0
         ],
         "title": {
          "text": "y"
         }
        },
        "coloraxis": {
         "colorbar": {
          "title": {
           "text": "color"
          }
         },
         "colorscale": [
          [
           0.0,
           "rgb(20,44,66)"
          ],
          [
           1.0,
           "rgb(90,179,244)"
          ]
         ]
        },
        "legend": {
         "tracegroupgap": 0
        },
        "margin": {
         "t": 60
        }
       },
       "config": {
        "plotlyServerURL": "https://plot.ly"
       }
      },
      "text/html": "<div>                            <div id=\"2cba7db8-4781-42bb-88f2-6eaf7332ee31\" class=\"plotly-graph-div\" style=\"height:525px; width:100%;\"></div>            <script type=\"text/javascript\">                require([\"plotly\"], function(Plotly) {                    window.PLOTLYENV=window.PLOTLYENV || {};                                    if (document.getElementById(\"2cba7db8-4781-42bb-88f2-6eaf7332ee31\")) {                    Plotly.newPlot(                        \"2cba7db8-4781-42bb-88f2-6eaf7332ee31\",                        [{\"hovertemplate\":\"x=%{x}<br>y=%{y}<br>color=%{marker.color}<extra></extra>\",\"legendgroup\":\"\",\"marker\":{\"color\":[2,1,0,1,2,1,0,1,1,0,0,2,2,0,0,2,2,0,2,2,0,2,2,0,0,0,1,2,2,2,2,1,1,2,0,0,0,0,1,1,2,0,1,0,0,1,2,2,2,1,1,1,0,2,2,2,0,0,1,0,2,1,2,1,2,2,1,2,1,1,1,2,2,0,1,2,1,2,1,1,0,1,0,2,0,0,0,1,0,1,1,1,0,1,0,0,0,1,2,0,0,0],\"coloraxis\":\"coloraxis\",\"symbol\":\"circle\"},\"mode\":\"markers\",\"name\":\"\",\"orientation\":\"v\",\"showlegend\":false,\"x\":[-0.2688853022597714,0.016236205632779405,-0.17887938482379703,0.058619299047518836,-0.1822471604932669,-0.11351832012729032,-0.12128721624386042,-0.05807476087036807,-0.035292913193154696,-0.22789688757777077,-0.18426708298256617,-0.19162081428046318,-0.1704405535637245,-0.22468486766213425,-0.09199958691978133,-0.28500335543077826,-0.18807993960308944,-0.15029221381531893,-0.2715510685776334,-0.17394352984677205,-0.17844376397038614,-0.21352606861649698,-0.24009570137999314,-0.11911999344864568,-0.14768971430496594,-0.178243893135833,-0.1440740586324649,-0.16298019312837594,-0.2780834996479753,-0.2969469059657404,-0.25689062940707963,-0.020976988453440582,-0.05611045338959337,-0.1246499283773804,-0.03152985777736075,-0.18831323013887927,-0.14025607634835788,-0.12180359098896312,0.023564162710162245,-0.0356753161089289,-0.3070679374011902,-0.17957703578310527,-0.04477171201544517,-0.24064125716714233,-0.15343083954192785,-0.11868010898380651,-0.32359704176079757,-0.1955247710497862,-0.207045468246557,-0.10042510169694305,-0.2306973325555939,-0.04190732731937246,-0.08667295905136105,-0.1892888364994158,-0.14885486058519393,-0.2240529246921439,-0.21795970795701672,-0.1277101019130315,0.06402076309227425,-0.2691757453206995,-0.1869017060934488,-0.0927694875792665,-0.22562987948705895,-0.18028057253849952,-0.22701576034255627,-0.19258216252501656,-0.037943116714082896,-0.2719579414789733,-0.08037751487921505,-0.0237510842288716,-0.06692446380752122,-0.18996419767317563,-0.29366378136705734,-0.12039860694028212,-0.03510779438552617,-0.13869086814241816,0.01461897780717159,-0.20379401799617763,0.09338669650820271,-0.15380483340631596,-0.11910270154318942,-0.09860972069565918,-0.08595234727177055,-0.07378687758354484,-0.146083739398251,-0.1300906870671408,-0.03969782433766414,-0.10840366282208429,-0.25145400098569193,-0.07047704566959535,-0.03601434428646502,0.03992114101918192,-0.21042157891833818,-6.606929954034495e-05,-0.18839003925218717,-0.19379982160055775,-0.07095948343662883,-0.05387540069529404,-0.13008336992378347,-0.20547274488854944,6.989935935402909,7.094451959074132],\"xaxis\":\"x\",\"y\":[-2.1041521973012385,-0.7675704248056903,1.3021521605585362,-0.8788005702497658,-0.7539140854287334,-0.33525716260935345,1.5838172301770934,0.2654388812950124,0.6632524040398822,1.1936052250102358,1.0213637497823278,-0.2683937979656111,-0.925520930153681,0.17105122170232856,1.0606848269885694,-0.8048576099766387,-0.5806166264177453,1.6020238098077824,-1.0187140158462296,-1.166091733574571,0.6462403827390208,-0.8967892565963339,-0.5616113560049099,1.9497286586460676,1.9670370786321618,1.6368846917825695,-0.2405074890711843,-1.676312502022252,-0.606701561321223,-1.977697390353246,-0.9676296668633507,0.20295177277224516,0.2292926380641768,-1.6525846627514391,1.4484374400613358,0.7594541283942062,0.022380568932706867,0.6987031049070375,0.24698920847533978,-1.2598212237999182,-1.7287882413019515,0.8284317742557333,-0.7271170622821491,1.0772684810854727,0.7533327788638874,0.34121125516341694,-0.9986072817341172,-0.8680588168598826,-0.17316344542705223,-0.2932722132155306,0.5677936130764175,-0.11947308197412862,1.8314665372712906,-0.6101244184972054,0.11518494167219881,-0.6542441710216531,1.1536303798293648,-0.29541886916515586,-0.30401434885781037,0.5834277047955342,-1.583414380491071,-0.18002015640214183,-1.6090349104794492,0.015882547833707468,0.6508068810617322,-1.929092011506634,1.635516388212519,-1.6494153119467412,0.3670206023211976,-0.015298160200310646,-0.4887663618464923,-0.893343954744898,-0.6916144676143546,-0.19768482053427403,-0.2943902022028054,-0.8501932546722921,-0.5584435840498607,-1.8622391511595175,0.1466965331950204,0.07773185549930405,0.5295437595720662,-0.17637683932430542,0.15502436563624253,-0.8104777661086864,0.2611453175325608,-0.3255963719417763,0.8023346886121665,1.0413922744993853,0.48093407466803006,-0.9189141058370401,-0.16137966402887777,0.5222771348796708,0.03047594411502725,1.458063566667585,2.1541488352032148,1.3471135986581912,1.5550219967249619,0.2959731327052583,-0.43319676520169925,0.7480579274259671,0.7806679900310768,0.8656523899061428],\"yaxis\":\"y\",\"type\":\"scatter\"}],                        {\"template\":{\"data\":{\"histogram2dcontour\":[{\"type\":\"histogram2dcontour\",\"colorbar\":{\"outlinewidth\":0,\"tickcolor\":\"rgb(237,237,237)\",\"ticklen\":6,\"ticks\":\"inside\"},\"colorscale\":[[0,\"rgb(20,44,66)\"],[1,\"rgb(90,179,244)\"]]}],\"choropleth\":[{\"type\":\"choropleth\",\"colorbar\":{\"outlinewidth\":0,\"tickcolor\":\"rgb(237,237,237)\",\"ticklen\":6,\"ticks\":\"inside\"}}],\"histogram2d\":[{\"type\":\"histogram2d\",\"colorbar\":{\"outlinewidth\":0,\"tickcolor\":\"rgb(237,237,237)\",\"ticklen\":6,\"ticks\":\"inside\"},\"colorscale\":[[0,\"rgb(20,44,66)\"],[1,\"rgb(90,179,244)\"]]}],\"heatmap\":[{\"type\":\"heatmap\",\"colorbar\":{\"outlinewidth\":0,\"tickcolor\":\"rgb(237,237,237)\",\"ticklen\":6,\"ticks\":\"inside\"},\"colorscale\":[[0,\"rgb(20,44,66)\"],[1,\"rgb(90,179,244)\"]]}],\"heatmapgl\":[{\"type\":\"heatmapgl\",\"colorbar\":{\"outlinewidth\":0,\"tickcolor\":\"rgb(237,237,237)\",\"ticklen\":6,\"ticks\":\"inside\"},\"colorscale\":[[0,\"rgb(20,44,66)\"],[1,\"rgb(90,179,244)\"]]}],\"contourcarpet\":[{\"type\":\"contourcarpet\",\"colorbar\":{\"outlinewidth\":0,\"tickcolor\":\"rgb(237,237,237)\",\"ticklen\":6,\"ticks\":\"inside\"}}],\"contour\":[{\"type\":\"contour\",\"colorbar\":{\"outlinewidth\":0,\"tickcolor\":\"rgb(237,237,237)\",\"ticklen\":6,\"ticks\":\"inside\"},\"colorscale\":[[0,\"rgb(20,44,66)\"],[1,\"rgb(90,179,244)\"]]}],\"surface\":[{\"type\":\"surface\",\"colorbar\":{\"outlinewidth\":0,\"tickcolor\":\"rgb(237,237,237)\",\"ticklen\":6,\"ticks\":\"inside\"},\"colorscale\":[[0,\"rgb(20,44,66)\"],[1,\"rgb(90,179,244)\"]]}],\"mesh3d\":[{\"type\":\"mesh3d\",\"colorbar\":{\"outlinewidth\":0,\"tickcolor\":\"rgb(237,237,237)\",\"ticklen\":6,\"ticks\":\"inside\"}}],\"scatter\":[{\"fillpattern\":{\"fillmode\":\"overlay\",\"size\":10,\"solidity\":0.2},\"type\":\"scatter\"}],\"parcoords\":[{\"type\":\"parcoords\",\"line\":{\"colorbar\":{\"outlinewidth\":0,\"tickcolor\":\"rgb(237,237,237)\",\"ticklen\":6,\"ticks\":\"inside\"}}}],\"scatterpolargl\":[{\"type\":\"scatterpolargl\",\"marker\":{\"colorbar\":{\"outlinewidth\":0,\"tickcolor\":\"rgb(237,237,237)\",\"ticklen\":6,\"ticks\":\"inside\"}}}],\"bar\":[{\"error_x\":{\"color\":\"rgb(51,51,51)\"},\"error_y\":{\"color\":\"rgb(51,51,51)\"},\"marker\":{\"line\":{\"color\":\"rgb(237,237,237)\",\"width\":0.5},\"pattern\":{\"fillmode\":\"overlay\",\"size\":10,\"solidity\":0.2}},\"type\":\"bar\"}],\"scattergeo\":[{\"type\":\"scattergeo\",\"marker\":{\"colorbar\":{\"outlinewidth\":0,\"tickcolor\":\"rgb(237,237,237)\",\"ticklen\":6,\"ticks\":\"inside\"}}}],\"scatterpolar\":[{\"type\":\"scatterpolar\",\"marker\":{\"colorbar\":{\"outlinewidth\":0,\"tickcolor\":\"rgb(237,237,237)\",\"ticklen\":6,\"ticks\":\"inside\"}}}],\"histogram\":[{\"marker\":{\"pattern\":{\"fillmode\":\"overlay\",\"size\":10,\"solidity\":0.2}},\"type\":\"histogram\"}],\"scattergl\":[{\"type\":\"scattergl\",\"marker\":{\"colorbar\":{\"outlinewidth\":0,\"tickcolor\":\"rgb(237,237,237)\",\"ticklen\":6,\"ticks\":\"inside\"}}}],\"scatter3d\":[{\"type\":\"scatter3d\",\"line\":{\"colorbar\":{\"outlinewidth\":0,\"tickcolor\":\"rgb(237,237,237)\",\"ticklen\":6,\"ticks\":\"inside\"}},\"marker\":{\"colorbar\":{\"outlinewidth\":0,\"tickcolor\":\"rgb(237,237,237)\",\"ticklen\":6,\"ticks\":\"inside\"}}}],\"scattermapbox\":[{\"type\":\"scattermapbox\",\"marker\":{\"colorbar\":{\"outlinewidth\":0,\"tickcolor\":\"rgb(237,237,237)\",\"ticklen\":6,\"ticks\":\"inside\"}}}],\"scatterternary\":[{\"type\":\"scatterternary\",\"marker\":{\"colorbar\":{\"outlinewidth\":0,\"tickcolor\":\"rgb(237,237,237)\",\"ticklen\":6,\"ticks\":\"inside\"}}}],\"scattercarpet\":[{\"type\":\"scattercarpet\",\"marker\":{\"colorbar\":{\"outlinewidth\":0,\"tickcolor\":\"rgb(237,237,237)\",\"ticklen\":6,\"ticks\":\"inside\"}}}],\"carpet\":[{\"aaxis\":{\"endlinecolor\":\"rgb(51,51,51)\",\"gridcolor\":\"white\",\"linecolor\":\"white\",\"minorgridcolor\":\"white\",\"startlinecolor\":\"rgb(51,51,51)\"},\"baxis\":{\"endlinecolor\":\"rgb(51,51,51)\",\"gridcolor\":\"white\",\"linecolor\":\"white\",\"minorgridcolor\":\"white\",\"startlinecolor\":\"rgb(51,51,51)\"},\"type\":\"carpet\"}],\"table\":[{\"cells\":{\"fill\":{\"color\":\"rgb(237,237,237)\"},\"line\":{\"color\":\"white\"}},\"header\":{\"fill\":{\"color\":\"rgb(217,217,217)\"},\"line\":{\"color\":\"white\"}},\"type\":\"table\"}],\"barpolar\":[{\"marker\":{\"line\":{\"color\":\"rgb(237,237,237)\",\"width\":0.5},\"pattern\":{\"fillmode\":\"overlay\",\"size\":10,\"solidity\":0.2}},\"type\":\"barpolar\"}],\"pie\":[{\"automargin\":true,\"type\":\"pie\"}]},\"layout\":{\"autotypenumbers\":\"strict\",\"colorway\":[\"#F8766D\",\"#A3A500\",\"#00BF7D\",\"#00B0F6\",\"#E76BF3\"],\"font\":{\"color\":\"rgb(51,51,51)\"},\"hovermode\":\"closest\",\"hoverlabel\":{\"align\":\"left\"},\"paper_bgcolor\":\"white\",\"plot_bgcolor\":\"rgb(237,237,237)\",\"polar\":{\"bgcolor\":\"rgb(237,237,237)\",\"angularaxis\":{\"gridcolor\":\"white\",\"linecolor\":\"white\",\"showgrid\":true,\"tickcolor\":\"rgb(51,51,51)\",\"ticks\":\"outside\"},\"radialaxis\":{\"gridcolor\":\"white\",\"linecolor\":\"white\",\"showgrid\":true,\"tickcolor\":\"rgb(51,51,51)\",\"ticks\":\"outside\"}},\"ternary\":{\"bgcolor\":\"rgb(237,237,237)\",\"aaxis\":{\"gridcolor\":\"white\",\"linecolor\":\"white\",\"showgrid\":true,\"tickcolor\":\"rgb(51,51,51)\",\"ticks\":\"outside\"},\"baxis\":{\"gridcolor\":\"white\",\"linecolor\":\"white\",\"showgrid\":true,\"tickcolor\":\"rgb(51,51,51)\",\"ticks\":\"outside\"},\"caxis\":{\"gridcolor\":\"white\",\"linecolor\":\"white\",\"showgrid\":true,\"tickcolor\":\"rgb(51,51,51)\",\"ticks\":\"outside\"}},\"coloraxis\":{\"colorbar\":{\"outlinewidth\":0,\"tickcolor\":\"rgb(237,237,237)\",\"ticklen\":6,\"ticks\":\"inside\"}},\"colorscale\":{\"sequential\":[[0,\"rgb(20,44,66)\"],[1,\"rgb(90,179,244)\"]],\"sequentialminus\":[[0,\"rgb(20,44,66)\"],[1,\"rgb(90,179,244)\"]]},\"xaxis\":{\"gridcolor\":\"white\",\"linecolor\":\"white\",\"showgrid\":true,\"tickcolor\":\"rgb(51,51,51)\",\"ticks\":\"outside\",\"title\":{\"standoff\":15},\"zerolinecolor\":\"white\",\"automargin\":true},\"yaxis\":{\"gridcolor\":\"white\",\"linecolor\":\"white\",\"showgrid\":true,\"tickcolor\":\"rgb(51,51,51)\",\"ticks\":\"outside\",\"title\":{\"standoff\":15},\"zerolinecolor\":\"white\",\"automargin\":true},\"scene\":{\"xaxis\":{\"backgroundcolor\":\"rgb(237,237,237)\",\"gridcolor\":\"white\",\"linecolor\":\"white\",\"showbackground\":true,\"showgrid\":true,\"tickcolor\":\"rgb(51,51,51)\",\"ticks\":\"outside\",\"zerolinecolor\":\"white\",\"gridwidth\":2},\"yaxis\":{\"backgroundcolor\":\"rgb(237,237,237)\",\"gridcolor\":\"white\",\"linecolor\":\"white\",\"showbackground\":true,\"showgrid\":true,\"tickcolor\":\"rgb(51,51,51)\",\"ticks\":\"outside\",\"zerolinecolor\":\"white\",\"gridwidth\":2},\"zaxis\":{\"backgroundcolor\":\"rgb(237,237,237)\",\"gridcolor\":\"white\",\"linecolor\":\"white\",\"showbackground\":true,\"showgrid\":true,\"tickcolor\":\"rgb(51,51,51)\",\"ticks\":\"outside\",\"zerolinecolor\":\"white\",\"gridwidth\":2}},\"shapedefaults\":{\"fillcolor\":\"black\",\"line\":{\"width\":0},\"opacity\":0.3},\"annotationdefaults\":{\"arrowhead\":0,\"arrowwidth\":1},\"geo\":{\"bgcolor\":\"white\",\"landcolor\":\"rgb(237,237,237)\",\"subunitcolor\":\"white\",\"showland\":true,\"showlakes\":true,\"lakecolor\":\"white\"}}},\"xaxis\":{\"anchor\":\"y\",\"domain\":[0.0,1.0],\"title\":{\"text\":\"x\"}},\"yaxis\":{\"anchor\":\"x\",\"domain\":[0.0,1.0],\"title\":{\"text\":\"y\"}},\"coloraxis\":{\"colorbar\":{\"title\":{\"text\":\"color\"}},\"colorscale\":[[0.0,\"rgb(20,44,66)\"],[1.0,\"rgb(90,179,244)\"]]},\"legend\":{\"tracegroupgap\":0},\"margin\":{\"t\":60}},                        {\"responsive\": true}                    ).then(function(){\n                            \nvar gd = document.getElementById('2cba7db8-4781-42bb-88f2-6eaf7332ee31');\nvar x = new MutationObserver(function (mutations, observer) {{\n        var display = window.getComputedStyle(gd).display;\n        if (!display || display === 'none') {{\n            console.log([gd, 'removed!']);\n            Plotly.purge(gd);\n            observer.disconnect();\n        }}\n}});\n\n// Listen for the removal of the full notebook cells\nvar notebookContainer = gd.closest('#notebook-container');\nif (notebookContainer) {{\n    x.observe(notebookContainer, {childList: true});\n}}\n\n// Listen for the clearing of the current output cell\nvar outputEl = gd.closest('.output');\nif (outputEl) {{\n    x.observe(outputEl, {childList: true});\n}}\n\n                        })                };                });            </script>        </div>"
     },
     "metadata": {},
     "output_type": "display_data"
    }
   ],
   "source": [
    "px.scatter(x=x_train_scaled[:, 0], y=x_train_scaled[:, 1], color=true_labels)"
   ],
   "metadata": {
    "collapsed": false
   }
  },
  {
   "cell_type": "code",
   "execution_count": 50,
   "outputs": [],
   "source": [
    "kmeans = KMeans(n_clusters=n_clusters)\n",
    "kmeans.fit(x_train_scaled)"
   ],
   "metadata": {
    "collapsed": false
   }
  },
  {
   "cell_type": "code",
   "execution_count": 51,
   "outputs": [
    {
     "data": {
      "text/plain": "(115.95123381460229, 0.6764705882352942)"
     },
     "execution_count": 51,
     "metadata": {},
     "output_type": "execute_result"
    }
   ],
   "source": [
    "kmeans.inertia, kmeans.score(true_labels)"
   ],
   "metadata": {
    "collapsed": false
   }
  },
  {
   "cell_type": "code",
   "execution_count": 52,
   "outputs": [
    {
     "data": {
      "application/vnd.plotly.v1+json": {
       "data": [
        {
         "hovertemplate": "x=%{x}<br>y=%{y}<extra></extra>",
         "legendgroup": "",
         "marker": {
          "color": "black",
          "symbol": "x-thin",
          "line": {
           "width": 2
          },
          "size": 12
         },
         "mode": "markers",
         "name": "",
         "orientation": "v",
         "showlegend": false,
         "x": [
          -0.13778094920568035,
          0.19878050411303683,
          -0.17745233903016902
         ],
         "xaxis": "x",
         "y": [
          1.44238943519272,
          0.2090583288471362,
          -1.068457550856185
         ],
         "yaxis": "y",
         "type": "scatter"
        },
        {
         "marker": {
          "color": [
           2,
           2,
           0,
           2,
           2,
           1,
           0,
           1,
           1,
           0,
           0,
           1,
           2,
           1,
           0,
           2,
           2,
           0,
           2,
           2,
           1,
           2,
           2,
           0,
           0,
           0,
           1,
           2,
           2,
           2,
           2,
           1,
           1,
           2,
           0,
           1,
           1,
           1,
           1,
           2,
           2,
           0,
           2,
           0,
           1,
           1,
           2,
           2,
           1,
           1,
           1,
           1,
           0,
           2,
           1,
           2,
           0,
           1,
           1,
           1,
           2,
           1,
           2,
           1,
           1,
           2,
           0,
           2,
           1,
           1,
           2,
           2,
           2,
           1,
           1,
           2,
           2,
           2,
           1,
           1,
           1,
           1,
           1,
           2,
           1,
           1,
           1,
           0,
           1,
           2,
           1,
           1,
           1,
           0,
           0,
           0,
           0,
           1,
           2,
           1,
           1,
           1
          ]
         },
         "mode": "markers",
         "x": [
          -0.2688853022597714,
          0.016236205632779405,
          -0.17887938482379703,
          0.058619299047518836,
          -0.1822471604932669,
          -0.11351832012729032,
          -0.12128721624386042,
          -0.05807476087036807,
          -0.035292913193154696,
          -0.22789688757777077,
          -0.18426708298256617,
          -0.19162081428046318,
          -0.1704405535637245,
          -0.22468486766213425,
          -0.09199958691978133,
          -0.28500335543077826,
          -0.18807993960308944,
          -0.15029221381531893,
          -0.2715510685776334,
          -0.17394352984677205,
          -0.17844376397038614,
          -0.21352606861649698,
          -0.24009570137999314,
          -0.11911999344864568,
          -0.14768971430496594,
          -0.178243893135833,
          -0.1440740586324649,
          -0.16298019312837594,
          -0.2780834996479753,
          -0.2969469059657404,
          -0.25689062940707963,
          -0.020976988453440582,
          -0.05611045338959337,
          -0.1246499283773804,
          -0.03152985777736075,
          -0.18831323013887927,
          -0.14025607634835788,
          -0.12180359098896312,
          0.023564162710162245,
          -0.0356753161089289,
          -0.3070679374011902,
          -0.17957703578310527,
          -0.04477171201544517,
          -0.24064125716714233,
          -0.15343083954192785,
          -0.11868010898380651,
          -0.32359704176079757,
          -0.1955247710497862,
          -0.207045468246557,
          -0.10042510169694305,
          -0.2306973325555939,
          -0.04190732731937246,
          -0.08667295905136105,
          -0.1892888364994158,
          -0.14885486058519393,
          -0.2240529246921439,
          -0.21795970795701672,
          -0.1277101019130315,
          0.06402076309227425,
          -0.2691757453206995,
          -0.1869017060934488,
          -0.0927694875792665,
          -0.22562987948705895,
          -0.18028057253849952,
          -0.22701576034255627,
          -0.19258216252501656,
          -0.037943116714082896,
          -0.2719579414789733,
          -0.08037751487921505,
          -0.0237510842288716,
          -0.06692446380752122,
          -0.18996419767317563,
          -0.29366378136705734,
          -0.12039860694028212,
          -0.03510779438552617,
          -0.13869086814241816,
          0.01461897780717159,
          -0.20379401799617763,
          0.09338669650820271,
          -0.15380483340631596,
          -0.11910270154318942,
          -0.09860972069565918,
          -0.08595234727177055,
          -0.07378687758354484,
          -0.146083739398251,
          -0.1300906870671408,
          -0.03969782433766414,
          -0.10840366282208429,
          -0.25145400098569193,
          -0.07047704566959535,
          -0.03601434428646502,
          0.03992114101918192,
          -0.21042157891833818,
          -6.606929954034495E-5,
          -0.18839003925218717,
          -0.19379982160055775,
          -0.07095948343662883,
          -0.05387540069529404,
          -0.13008336992378347,
          -0.20547274488854944,
          6.989935935402909,
          7.094451959074132
         ],
         "y": [
          -2.1041521973012385,
          -0.7675704248056903,
          1.3021521605585362,
          -0.8788005702497658,
          -0.7539140854287334,
          -0.33525716260935345,
          1.5838172301770934,
          0.2654388812950124,
          0.6632524040398822,
          1.1936052250102358,
          1.0213637497823278,
          -0.2683937979656111,
          -0.925520930153681,
          0.17105122170232856,
          1.0606848269885694,
          -0.8048576099766387,
          -0.5806166264177453,
          1.6020238098077824,
          -1.0187140158462296,
          -1.166091733574571,
          0.6462403827390208,
          -0.8967892565963339,
          -0.5616113560049099,
          1.9497286586460676,
          1.9670370786321618,
          1.6368846917825695,
          -0.2405074890711843,
          -1.676312502022252,
          -0.606701561321223,
          -1.977697390353246,
          -0.9676296668633507,
          0.20295177277224516,
          0.2292926380641768,
          -1.6525846627514391,
          1.4484374400613358,
          0.7594541283942062,
          0.022380568932706867,
          0.6987031049070375,
          0.24698920847533978,
          -1.2598212237999182,
          -1.7287882413019515,
          0.8284317742557333,
          -0.7271170622821491,
          1.0772684810854727,
          0.7533327788638874,
          0.34121125516341694,
          -0.9986072817341172,
          -0.8680588168598826,
          -0.17316344542705223,
          -0.2932722132155306,
          0.5677936130764175,
          -0.11947308197412862,
          1.8314665372712906,
          -0.6101244184972054,
          0.11518494167219881,
          -0.6542441710216531,
          1.1536303798293648,
          -0.29541886916515586,
          -0.30401434885781037,
          0.5834277047955342,
          -1.583414380491071,
          -0.18002015640214183,
          -1.6090349104794492,
          0.015882547833707468,
          0.6508068810617322,
          -1.929092011506634,
          1.635516388212519,
          -1.6494153119467412,
          0.3670206023211976,
          -0.015298160200310646,
          -0.4887663618464923,
          -0.893343954744898,
          -0.6916144676143546,
          -0.19768482053427403,
          -0.2943902022028054,
          -0.8501932546722921,
          -0.5584435840498607,
          -1.8622391511595175,
          0.1466965331950204,
          0.07773185549930405,
          0.5295437595720662,
          -0.17637683932430542,
          0.15502436563624253,
          -0.8104777661086864,
          0.2611453175325608,
          -0.3255963719417763,
          0.8023346886121665,
          1.0413922744993853,
          0.48093407466803006,
          -0.9189141058370401,
          -0.16137966402887777,
          0.5222771348796708,
          0.03047594411502725,
          1.458063566667585,
          2.1541488352032148,
          1.3471135986581912,
          1.5550219967249619,
          0.2959731327052583,
          -0.43319676520169925,
          0.7480579274259671,
          0.7806679900310768,
          0.8656523899061428
         ],
         "type": "scatter"
        }
       ],
       "layout": {
        "template": {
         "data": {
          "histogram2dcontour": [
           {
            "type": "histogram2dcontour",
            "colorbar": {
             "outlinewidth": 0,
             "tickcolor": "rgb(237,237,237)",
             "ticklen": 6,
             "ticks": "inside"
            },
            "colorscale": [
             [
              0,
              "rgb(20,44,66)"
             ],
             [
              1,
              "rgb(90,179,244)"
             ]
            ]
           }
          ],
          "choropleth": [
           {
            "type": "choropleth",
            "colorbar": {
             "outlinewidth": 0,
             "tickcolor": "rgb(237,237,237)",
             "ticklen": 6,
             "ticks": "inside"
            }
           }
          ],
          "histogram2d": [
           {
            "type": "histogram2d",
            "colorbar": {
             "outlinewidth": 0,
             "tickcolor": "rgb(237,237,237)",
             "ticklen": 6,
             "ticks": "inside"
            },
            "colorscale": [
             [
              0,
              "rgb(20,44,66)"
             ],
             [
              1,
              "rgb(90,179,244)"
             ]
            ]
           }
          ],
          "heatmap": [
           {
            "type": "heatmap",
            "colorbar": {
             "outlinewidth": 0,
             "tickcolor": "rgb(237,237,237)",
             "ticklen": 6,
             "ticks": "inside"
            },
            "colorscale": [
             [
              0,
              "rgb(20,44,66)"
             ],
             [
              1,
              "rgb(90,179,244)"
             ]
            ]
           }
          ],
          "heatmapgl": [
           {
            "type": "heatmapgl",
            "colorbar": {
             "outlinewidth": 0,
             "tickcolor": "rgb(237,237,237)",
             "ticklen": 6,
             "ticks": "inside"
            },
            "colorscale": [
             [
              0,
              "rgb(20,44,66)"
             ],
             [
              1,
              "rgb(90,179,244)"
             ]
            ]
           }
          ],
          "contourcarpet": [
           {
            "type": "contourcarpet",
            "colorbar": {
             "outlinewidth": 0,
             "tickcolor": "rgb(237,237,237)",
             "ticklen": 6,
             "ticks": "inside"
            }
           }
          ],
          "contour": [
           {
            "type": "contour",
            "colorbar": {
             "outlinewidth": 0,
             "tickcolor": "rgb(237,237,237)",
             "ticklen": 6,
             "ticks": "inside"
            },
            "colorscale": [
             [
              0,
              "rgb(20,44,66)"
             ],
             [
              1,
              "rgb(90,179,244)"
             ]
            ]
           }
          ],
          "surface": [
           {
            "type": "surface",
            "colorbar": {
             "outlinewidth": 0,
             "tickcolor": "rgb(237,237,237)",
             "ticklen": 6,
             "ticks": "inside"
            },
            "colorscale": [
             [
              0,
              "rgb(20,44,66)"
             ],
             [
              1,
              "rgb(90,179,244)"
             ]
            ]
           }
          ],
          "mesh3d": [
           {
            "type": "mesh3d",
            "colorbar": {
             "outlinewidth": 0,
             "tickcolor": "rgb(237,237,237)",
             "ticklen": 6,
             "ticks": "inside"
            }
           }
          ],
          "scatter": [
           {
            "fillpattern": {
             "fillmode": "overlay",
             "size": 10,
             "solidity": 0.2
            },
            "type": "scatter"
           }
          ],
          "parcoords": [
           {
            "type": "parcoords",
            "line": {
             "colorbar": {
              "outlinewidth": 0,
              "tickcolor": "rgb(237,237,237)",
              "ticklen": 6,
              "ticks": "inside"
             }
            }
           }
          ],
          "scatterpolargl": [
           {
            "type": "scatterpolargl",
            "marker": {
             "colorbar": {
              "outlinewidth": 0,
              "tickcolor": "rgb(237,237,237)",
              "ticklen": 6,
              "ticks": "inside"
             }
            }
           }
          ],
          "bar": [
           {
            "error_x": {
             "color": "rgb(51,51,51)"
            },
            "error_y": {
             "color": "rgb(51,51,51)"
            },
            "marker": {
             "line": {
              "color": "rgb(237,237,237)",
              "width": 0.5
             },
             "pattern": {
              "fillmode": "overlay",
              "size": 10,
              "solidity": 0.2
             }
            },
            "type": "bar"
           }
          ],
          "scattergeo": [
           {
            "type": "scattergeo",
            "marker": {
             "colorbar": {
              "outlinewidth": 0,
              "tickcolor": "rgb(237,237,237)",
              "ticklen": 6,
              "ticks": "inside"
             }
            }
           }
          ],
          "scatterpolar": [
           {
            "type": "scatterpolar",
            "marker": {
             "colorbar": {
              "outlinewidth": 0,
              "tickcolor": "rgb(237,237,237)",
              "ticklen": 6,
              "ticks": "inside"
             }
            }
           }
          ],
          "histogram": [
           {
            "marker": {
             "pattern": {
              "fillmode": "overlay",
              "size": 10,
              "solidity": 0.2
             }
            },
            "type": "histogram"
           }
          ],
          "scattergl": [
           {
            "type": "scattergl",
            "marker": {
             "colorbar": {
              "outlinewidth": 0,
              "tickcolor": "rgb(237,237,237)",
              "ticklen": 6,
              "ticks": "inside"
             }
            }
           }
          ],
          "scatter3d": [
           {
            "type": "scatter3d",
            "line": {
             "colorbar": {
              "outlinewidth": 0,
              "tickcolor": "rgb(237,237,237)",
              "ticklen": 6,
              "ticks": "inside"
             }
            },
            "marker": {
             "colorbar": {
              "outlinewidth": 0,
              "tickcolor": "rgb(237,237,237)",
              "ticklen": 6,
              "ticks": "inside"
             }
            }
           }
          ],
          "scattermapbox": [
           {
            "type": "scattermapbox",
            "marker": {
             "colorbar": {
              "outlinewidth": 0,
              "tickcolor": "rgb(237,237,237)",
              "ticklen": 6,
              "ticks": "inside"
             }
            }
           }
          ],
          "scatterternary": [
           {
            "type": "scatterternary",
            "marker": {
             "colorbar": {
              "outlinewidth": 0,
              "tickcolor": "rgb(237,237,237)",
              "ticklen": 6,
              "ticks": "inside"
             }
            }
           }
          ],
          "scattercarpet": [
           {
            "type": "scattercarpet",
            "marker": {
             "colorbar": {
              "outlinewidth": 0,
              "tickcolor": "rgb(237,237,237)",
              "ticklen": 6,
              "ticks": "inside"
             }
            }
           }
          ],
          "carpet": [
           {
            "aaxis": {
             "endlinecolor": "rgb(51,51,51)",
             "gridcolor": "white",
             "linecolor": "white",
             "minorgridcolor": "white",
             "startlinecolor": "rgb(51,51,51)"
            },
            "baxis": {
             "endlinecolor": "rgb(51,51,51)",
             "gridcolor": "white",
             "linecolor": "white",
             "minorgridcolor": "white",
             "startlinecolor": "rgb(51,51,51)"
            },
            "type": "carpet"
           }
          ],
          "table": [
           {
            "cells": {
             "fill": {
              "color": "rgb(237,237,237)"
             },
             "line": {
              "color": "white"
             }
            },
            "header": {
             "fill": {
              "color": "rgb(217,217,217)"
             },
             "line": {
              "color": "white"
             }
            },
            "type": "table"
           }
          ],
          "barpolar": [
           {
            "marker": {
             "line": {
              "color": "rgb(237,237,237)",
              "width": 0.5
             },
             "pattern": {
              "fillmode": "overlay",
              "size": 10,
              "solidity": 0.2
             }
            },
            "type": "barpolar"
           }
          ],
          "pie": [
           {
            "automargin": true,
            "type": "pie"
           }
          ]
         },
         "layout": {
          "autotypenumbers": "strict",
          "colorway": [
           "#F8766D",
           "#A3A500",
           "#00BF7D",
           "#00B0F6",
           "#E76BF3"
          ],
          "font": {
           "color": "rgb(51,51,51)"
          },
          "hovermode": "closest",
          "hoverlabel": {
           "align": "left"
          },
          "paper_bgcolor": "white",
          "plot_bgcolor": "rgb(237,237,237)",
          "polar": {
           "bgcolor": "rgb(237,237,237)",
           "angularaxis": {
            "gridcolor": "white",
            "linecolor": "white",
            "showgrid": true,
            "tickcolor": "rgb(51,51,51)",
            "ticks": "outside"
           },
           "radialaxis": {
            "gridcolor": "white",
            "linecolor": "white",
            "showgrid": true,
            "tickcolor": "rgb(51,51,51)",
            "ticks": "outside"
           }
          },
          "ternary": {
           "bgcolor": "rgb(237,237,237)",
           "aaxis": {
            "gridcolor": "white",
            "linecolor": "white",
            "showgrid": true,
            "tickcolor": "rgb(51,51,51)",
            "ticks": "outside"
           },
           "baxis": {
            "gridcolor": "white",
            "linecolor": "white",
            "showgrid": true,
            "tickcolor": "rgb(51,51,51)",
            "ticks": "outside"
           },
           "caxis": {
            "gridcolor": "white",
            "linecolor": "white",
            "showgrid": true,
            "tickcolor": "rgb(51,51,51)",
            "ticks": "outside"
           }
          },
          "coloraxis": {
           "colorbar": {
            "outlinewidth": 0,
            "tickcolor": "rgb(237,237,237)",
            "ticklen": 6,
            "ticks": "inside"
           }
          },
          "colorscale": {
           "sequential": [
            [
             0,
             "rgb(20,44,66)"
            ],
            [
             1,
             "rgb(90,179,244)"
            ]
           ],
           "sequentialminus": [
            [
             0,
             "rgb(20,44,66)"
            ],
            [
             1,
             "rgb(90,179,244)"
            ]
           ]
          },
          "xaxis": {
           "gridcolor": "white",
           "linecolor": "white",
           "showgrid": true,
           "tickcolor": "rgb(51,51,51)",
           "ticks": "outside",
           "title": {
            "standoff": 15
           },
           "zerolinecolor": "white",
           "automargin": true
          },
          "yaxis": {
           "gridcolor": "white",
           "linecolor": "white",
           "showgrid": true,
           "tickcolor": "rgb(51,51,51)",
           "ticks": "outside",
           "title": {
            "standoff": 15
           },
           "zerolinecolor": "white",
           "automargin": true
          },
          "scene": {
           "xaxis": {
            "backgroundcolor": "rgb(237,237,237)",
            "gridcolor": "white",
            "linecolor": "white",
            "showbackground": true,
            "showgrid": true,
            "tickcolor": "rgb(51,51,51)",
            "ticks": "outside",
            "zerolinecolor": "white",
            "gridwidth": 2
           },
           "yaxis": {
            "backgroundcolor": "rgb(237,237,237)",
            "gridcolor": "white",
            "linecolor": "white",
            "showbackground": true,
            "showgrid": true,
            "tickcolor": "rgb(51,51,51)",
            "ticks": "outside",
            "zerolinecolor": "white",
            "gridwidth": 2
           },
           "zaxis": {
            "backgroundcolor": "rgb(237,237,237)",
            "gridcolor": "white",
            "linecolor": "white",
            "showbackground": true,
            "showgrid": true,
            "tickcolor": "rgb(51,51,51)",
            "ticks": "outside",
            "zerolinecolor": "white",
            "gridwidth": 2
           }
          },
          "shapedefaults": {
           "fillcolor": "black",
           "line": {
            "width": 0
           },
           "opacity": 0.3
          },
          "annotationdefaults": {
           "arrowhead": 0,
           "arrowwidth": 1
          },
          "geo": {
           "bgcolor": "white",
           "landcolor": "rgb(237,237,237)",
           "subunitcolor": "white",
           "showland": true,
           "showlakes": true,
           "lakecolor": "white"
          }
         }
        },
        "xaxis": {
         "anchor": "y",
         "domain": [
          0.0,
          1.0
         ],
         "title": {
          "text": "x"
         }
        },
        "yaxis": {
         "anchor": "x",
         "domain": [
          0.0,
          1.0
         ],
         "title": {
          "text": "y"
         }
        },
        "legend": {
         "tracegroupgap": 0
        },
        "margin": {
         "t": 60
        }
       },
       "config": {
        "plotlyServerURL": "https://plot.ly"
       }
      },
      "text/html": "<div>                            <div id=\"e0980ce3-5bb1-41d5-bc98-c2b22908c50a\" class=\"plotly-graph-div\" style=\"height:525px; width:100%;\"></div>            <script type=\"text/javascript\">                require([\"plotly\"], function(Plotly) {                    window.PLOTLYENV=window.PLOTLYENV || {};                                    if (document.getElementById(\"e0980ce3-5bb1-41d5-bc98-c2b22908c50a\")) {                    Plotly.newPlot(                        \"e0980ce3-5bb1-41d5-bc98-c2b22908c50a\",                        [{\"hovertemplate\":\"x=%{x}<br>y=%{y}<extra></extra>\",\"legendgroup\":\"\",\"marker\":{\"color\":\"black\",\"symbol\":\"x-thin\",\"line\":{\"width\":2},\"size\":12},\"mode\":\"markers\",\"name\":\"\",\"orientation\":\"v\",\"showlegend\":false,\"x\":[-0.13778094920568035,0.19878050411303683,-0.17745233903016902],\"xaxis\":\"x\",\"y\":[1.44238943519272,0.2090583288471362,-1.068457550856185],\"yaxis\":\"y\",\"type\":\"scatter\"},{\"marker\":{\"color\":[2,2,0,2,2,1,0,1,1,0,0,1,2,1,0,2,2,0,2,2,1,2,2,0,0,0,1,2,2,2,2,1,1,2,0,1,1,1,1,2,2,0,2,0,1,1,2,2,1,1,1,1,0,2,1,2,0,1,1,1,2,1,2,1,1,2,0,2,1,1,2,2,2,1,1,2,2,2,1,1,1,1,1,2,1,1,1,0,1,2,1,1,1,0,0,0,0,1,2,1,1,1]},\"mode\":\"markers\",\"x\":[-0.2688853022597714,0.016236205632779405,-0.17887938482379703,0.058619299047518836,-0.1822471604932669,-0.11351832012729032,-0.12128721624386042,-0.05807476087036807,-0.035292913193154696,-0.22789688757777077,-0.18426708298256617,-0.19162081428046318,-0.1704405535637245,-0.22468486766213425,-0.09199958691978133,-0.28500335543077826,-0.18807993960308944,-0.15029221381531893,-0.2715510685776334,-0.17394352984677205,-0.17844376397038614,-0.21352606861649698,-0.24009570137999314,-0.11911999344864568,-0.14768971430496594,-0.178243893135833,-0.1440740586324649,-0.16298019312837594,-0.2780834996479753,-0.2969469059657404,-0.25689062940707963,-0.020976988453440582,-0.05611045338959337,-0.1246499283773804,-0.03152985777736075,-0.18831323013887927,-0.14025607634835788,-0.12180359098896312,0.023564162710162245,-0.0356753161089289,-0.3070679374011902,-0.17957703578310527,-0.04477171201544517,-0.24064125716714233,-0.15343083954192785,-0.11868010898380651,-0.32359704176079757,-0.1955247710497862,-0.207045468246557,-0.10042510169694305,-0.2306973325555939,-0.04190732731937246,-0.08667295905136105,-0.1892888364994158,-0.14885486058519393,-0.2240529246921439,-0.21795970795701672,-0.1277101019130315,0.06402076309227425,-0.2691757453206995,-0.1869017060934488,-0.0927694875792665,-0.22562987948705895,-0.18028057253849952,-0.22701576034255627,-0.19258216252501656,-0.037943116714082896,-0.2719579414789733,-0.08037751487921505,-0.0237510842288716,-0.06692446380752122,-0.18996419767317563,-0.29366378136705734,-0.12039860694028212,-0.03510779438552617,-0.13869086814241816,0.01461897780717159,-0.20379401799617763,0.09338669650820271,-0.15380483340631596,-0.11910270154318942,-0.09860972069565918,-0.08595234727177055,-0.07378687758354484,-0.146083739398251,-0.1300906870671408,-0.03969782433766414,-0.10840366282208429,-0.25145400098569193,-0.07047704566959535,-0.03601434428646502,0.03992114101918192,-0.21042157891833818,-6.606929954034495e-05,-0.18839003925218717,-0.19379982160055775,-0.07095948343662883,-0.05387540069529404,-0.13008336992378347,-0.20547274488854944,6.989935935402909,7.094451959074132],\"y\":[-2.1041521973012385,-0.7675704248056903,1.3021521605585362,-0.8788005702497658,-0.7539140854287334,-0.33525716260935345,1.5838172301770934,0.2654388812950124,0.6632524040398822,1.1936052250102358,1.0213637497823278,-0.2683937979656111,-0.925520930153681,0.17105122170232856,1.0606848269885694,-0.8048576099766387,-0.5806166264177453,1.6020238098077824,-1.0187140158462296,-1.166091733574571,0.6462403827390208,-0.8967892565963339,-0.5616113560049099,1.9497286586460676,1.9670370786321618,1.6368846917825695,-0.2405074890711843,-1.676312502022252,-0.606701561321223,-1.977697390353246,-0.9676296668633507,0.20295177277224516,0.2292926380641768,-1.6525846627514391,1.4484374400613358,0.7594541283942062,0.022380568932706867,0.6987031049070375,0.24698920847533978,-1.2598212237999182,-1.7287882413019515,0.8284317742557333,-0.7271170622821491,1.0772684810854727,0.7533327788638874,0.34121125516341694,-0.9986072817341172,-0.8680588168598826,-0.17316344542705223,-0.2932722132155306,0.5677936130764175,-0.11947308197412862,1.8314665372712906,-0.6101244184972054,0.11518494167219881,-0.6542441710216531,1.1536303798293648,-0.29541886916515586,-0.30401434885781037,0.5834277047955342,-1.583414380491071,-0.18002015640214183,-1.6090349104794492,0.015882547833707468,0.6508068810617322,-1.929092011506634,1.635516388212519,-1.6494153119467412,0.3670206023211976,-0.015298160200310646,-0.4887663618464923,-0.893343954744898,-0.6916144676143546,-0.19768482053427403,-0.2943902022028054,-0.8501932546722921,-0.5584435840498607,-1.8622391511595175,0.1466965331950204,0.07773185549930405,0.5295437595720662,-0.17637683932430542,0.15502436563624253,-0.8104777661086864,0.2611453175325608,-0.3255963719417763,0.8023346886121665,1.0413922744993853,0.48093407466803006,-0.9189141058370401,-0.16137966402887777,0.5222771348796708,0.03047594411502725,1.458063566667585,2.1541488352032148,1.3471135986581912,1.5550219967249619,0.2959731327052583,-0.43319676520169925,0.7480579274259671,0.7806679900310768,0.8656523899061428],\"type\":\"scatter\"}],                        {\"template\":{\"data\":{\"histogram2dcontour\":[{\"type\":\"histogram2dcontour\",\"colorbar\":{\"outlinewidth\":0,\"tickcolor\":\"rgb(237,237,237)\",\"ticklen\":6,\"ticks\":\"inside\"},\"colorscale\":[[0,\"rgb(20,44,66)\"],[1,\"rgb(90,179,244)\"]]}],\"choropleth\":[{\"type\":\"choropleth\",\"colorbar\":{\"outlinewidth\":0,\"tickcolor\":\"rgb(237,237,237)\",\"ticklen\":6,\"ticks\":\"inside\"}}],\"histogram2d\":[{\"type\":\"histogram2d\",\"colorbar\":{\"outlinewidth\":0,\"tickcolor\":\"rgb(237,237,237)\",\"ticklen\":6,\"ticks\":\"inside\"},\"colorscale\":[[0,\"rgb(20,44,66)\"],[1,\"rgb(90,179,244)\"]]}],\"heatmap\":[{\"type\":\"heatmap\",\"colorbar\":{\"outlinewidth\":0,\"tickcolor\":\"rgb(237,237,237)\",\"ticklen\":6,\"ticks\":\"inside\"},\"colorscale\":[[0,\"rgb(20,44,66)\"],[1,\"rgb(90,179,244)\"]]}],\"heatmapgl\":[{\"type\":\"heatmapgl\",\"colorbar\":{\"outlinewidth\":0,\"tickcolor\":\"rgb(237,237,237)\",\"ticklen\":6,\"ticks\":\"inside\"},\"colorscale\":[[0,\"rgb(20,44,66)\"],[1,\"rgb(90,179,244)\"]]}],\"contourcarpet\":[{\"type\":\"contourcarpet\",\"colorbar\":{\"outlinewidth\":0,\"tickcolor\":\"rgb(237,237,237)\",\"ticklen\":6,\"ticks\":\"inside\"}}],\"contour\":[{\"type\":\"contour\",\"colorbar\":{\"outlinewidth\":0,\"tickcolor\":\"rgb(237,237,237)\",\"ticklen\":6,\"ticks\":\"inside\"},\"colorscale\":[[0,\"rgb(20,44,66)\"],[1,\"rgb(90,179,244)\"]]}],\"surface\":[{\"type\":\"surface\",\"colorbar\":{\"outlinewidth\":0,\"tickcolor\":\"rgb(237,237,237)\",\"ticklen\":6,\"ticks\":\"inside\"},\"colorscale\":[[0,\"rgb(20,44,66)\"],[1,\"rgb(90,179,244)\"]]}],\"mesh3d\":[{\"type\":\"mesh3d\",\"colorbar\":{\"outlinewidth\":0,\"tickcolor\":\"rgb(237,237,237)\",\"ticklen\":6,\"ticks\":\"inside\"}}],\"scatter\":[{\"fillpattern\":{\"fillmode\":\"overlay\",\"size\":10,\"solidity\":0.2},\"type\":\"scatter\"}],\"parcoords\":[{\"type\":\"parcoords\",\"line\":{\"colorbar\":{\"outlinewidth\":0,\"tickcolor\":\"rgb(237,237,237)\",\"ticklen\":6,\"ticks\":\"inside\"}}}],\"scatterpolargl\":[{\"type\":\"scatterpolargl\",\"marker\":{\"colorbar\":{\"outlinewidth\":0,\"tickcolor\":\"rgb(237,237,237)\",\"ticklen\":6,\"ticks\":\"inside\"}}}],\"bar\":[{\"error_x\":{\"color\":\"rgb(51,51,51)\"},\"error_y\":{\"color\":\"rgb(51,51,51)\"},\"marker\":{\"line\":{\"color\":\"rgb(237,237,237)\",\"width\":0.5},\"pattern\":{\"fillmode\":\"overlay\",\"size\":10,\"solidity\":0.2}},\"type\":\"bar\"}],\"scattergeo\":[{\"type\":\"scattergeo\",\"marker\":{\"colorbar\":{\"outlinewidth\":0,\"tickcolor\":\"rgb(237,237,237)\",\"ticklen\":6,\"ticks\":\"inside\"}}}],\"scatterpolar\":[{\"type\":\"scatterpolar\",\"marker\":{\"colorbar\":{\"outlinewidth\":0,\"tickcolor\":\"rgb(237,237,237)\",\"ticklen\":6,\"ticks\":\"inside\"}}}],\"histogram\":[{\"marker\":{\"pattern\":{\"fillmode\":\"overlay\",\"size\":10,\"solidity\":0.2}},\"type\":\"histogram\"}],\"scattergl\":[{\"type\":\"scattergl\",\"marker\":{\"colorbar\":{\"outlinewidth\":0,\"tickcolor\":\"rgb(237,237,237)\",\"ticklen\":6,\"ticks\":\"inside\"}}}],\"scatter3d\":[{\"type\":\"scatter3d\",\"line\":{\"colorbar\":{\"outlinewidth\":0,\"tickcolor\":\"rgb(237,237,237)\",\"ticklen\":6,\"ticks\":\"inside\"}},\"marker\":{\"colorbar\":{\"outlinewidth\":0,\"tickcolor\":\"rgb(237,237,237)\",\"ticklen\":6,\"ticks\":\"inside\"}}}],\"scattermapbox\":[{\"type\":\"scattermapbox\",\"marker\":{\"colorbar\":{\"outlinewidth\":0,\"tickcolor\":\"rgb(237,237,237)\",\"ticklen\":6,\"ticks\":\"inside\"}}}],\"scatterternary\":[{\"type\":\"scatterternary\",\"marker\":{\"colorbar\":{\"outlinewidth\":0,\"tickcolor\":\"rgb(237,237,237)\",\"ticklen\":6,\"ticks\":\"inside\"}}}],\"scattercarpet\":[{\"type\":\"scattercarpet\",\"marker\":{\"colorbar\":{\"outlinewidth\":0,\"tickcolor\":\"rgb(237,237,237)\",\"ticklen\":6,\"ticks\":\"inside\"}}}],\"carpet\":[{\"aaxis\":{\"endlinecolor\":\"rgb(51,51,51)\",\"gridcolor\":\"white\",\"linecolor\":\"white\",\"minorgridcolor\":\"white\",\"startlinecolor\":\"rgb(51,51,51)\"},\"baxis\":{\"endlinecolor\":\"rgb(51,51,51)\",\"gridcolor\":\"white\",\"linecolor\":\"white\",\"minorgridcolor\":\"white\",\"startlinecolor\":\"rgb(51,51,51)\"},\"type\":\"carpet\"}],\"table\":[{\"cells\":{\"fill\":{\"color\":\"rgb(237,237,237)\"},\"line\":{\"color\":\"white\"}},\"header\":{\"fill\":{\"color\":\"rgb(217,217,217)\"},\"line\":{\"color\":\"white\"}},\"type\":\"table\"}],\"barpolar\":[{\"marker\":{\"line\":{\"color\":\"rgb(237,237,237)\",\"width\":0.5},\"pattern\":{\"fillmode\":\"overlay\",\"size\":10,\"solidity\":0.2}},\"type\":\"barpolar\"}],\"pie\":[{\"automargin\":true,\"type\":\"pie\"}]},\"layout\":{\"autotypenumbers\":\"strict\",\"colorway\":[\"#F8766D\",\"#A3A500\",\"#00BF7D\",\"#00B0F6\",\"#E76BF3\"],\"font\":{\"color\":\"rgb(51,51,51)\"},\"hovermode\":\"closest\",\"hoverlabel\":{\"align\":\"left\"},\"paper_bgcolor\":\"white\",\"plot_bgcolor\":\"rgb(237,237,237)\",\"polar\":{\"bgcolor\":\"rgb(237,237,237)\",\"angularaxis\":{\"gridcolor\":\"white\",\"linecolor\":\"white\",\"showgrid\":true,\"tickcolor\":\"rgb(51,51,51)\",\"ticks\":\"outside\"},\"radialaxis\":{\"gridcolor\":\"white\",\"linecolor\":\"white\",\"showgrid\":true,\"tickcolor\":\"rgb(51,51,51)\",\"ticks\":\"outside\"}},\"ternary\":{\"bgcolor\":\"rgb(237,237,237)\",\"aaxis\":{\"gridcolor\":\"white\",\"linecolor\":\"white\",\"showgrid\":true,\"tickcolor\":\"rgb(51,51,51)\",\"ticks\":\"outside\"},\"baxis\":{\"gridcolor\":\"white\",\"linecolor\":\"white\",\"showgrid\":true,\"tickcolor\":\"rgb(51,51,51)\",\"ticks\":\"outside\"},\"caxis\":{\"gridcolor\":\"white\",\"linecolor\":\"white\",\"showgrid\":true,\"tickcolor\":\"rgb(51,51,51)\",\"ticks\":\"outside\"}},\"coloraxis\":{\"colorbar\":{\"outlinewidth\":0,\"tickcolor\":\"rgb(237,237,237)\",\"ticklen\":6,\"ticks\":\"inside\"}},\"colorscale\":{\"sequential\":[[0,\"rgb(20,44,66)\"],[1,\"rgb(90,179,244)\"]],\"sequentialminus\":[[0,\"rgb(20,44,66)\"],[1,\"rgb(90,179,244)\"]]},\"xaxis\":{\"gridcolor\":\"white\",\"linecolor\":\"white\",\"showgrid\":true,\"tickcolor\":\"rgb(51,51,51)\",\"ticks\":\"outside\",\"title\":{\"standoff\":15},\"zerolinecolor\":\"white\",\"automargin\":true},\"yaxis\":{\"gridcolor\":\"white\",\"linecolor\":\"white\",\"showgrid\":true,\"tickcolor\":\"rgb(51,51,51)\",\"ticks\":\"outside\",\"title\":{\"standoff\":15},\"zerolinecolor\":\"white\",\"automargin\":true},\"scene\":{\"xaxis\":{\"backgroundcolor\":\"rgb(237,237,237)\",\"gridcolor\":\"white\",\"linecolor\":\"white\",\"showbackground\":true,\"showgrid\":true,\"tickcolor\":\"rgb(51,51,51)\",\"ticks\":\"outside\",\"zerolinecolor\":\"white\",\"gridwidth\":2},\"yaxis\":{\"backgroundcolor\":\"rgb(237,237,237)\",\"gridcolor\":\"white\",\"linecolor\":\"white\",\"showbackground\":true,\"showgrid\":true,\"tickcolor\":\"rgb(51,51,51)\",\"ticks\":\"outside\",\"zerolinecolor\":\"white\",\"gridwidth\":2},\"zaxis\":{\"backgroundcolor\":\"rgb(237,237,237)\",\"gridcolor\":\"white\",\"linecolor\":\"white\",\"showbackground\":true,\"showgrid\":true,\"tickcolor\":\"rgb(51,51,51)\",\"ticks\":\"outside\",\"zerolinecolor\":\"white\",\"gridwidth\":2}},\"shapedefaults\":{\"fillcolor\":\"black\",\"line\":{\"width\":0},\"opacity\":0.3},\"annotationdefaults\":{\"arrowhead\":0,\"arrowwidth\":1},\"geo\":{\"bgcolor\":\"white\",\"landcolor\":\"rgb(237,237,237)\",\"subunitcolor\":\"white\",\"showland\":true,\"showlakes\":true,\"lakecolor\":\"white\"}}},\"xaxis\":{\"anchor\":\"y\",\"domain\":[0.0,1.0],\"title\":{\"text\":\"x\"}},\"yaxis\":{\"anchor\":\"x\",\"domain\":[0.0,1.0],\"title\":{\"text\":\"y\"}},\"legend\":{\"tracegroupgap\":0},\"margin\":{\"t\":60}},                        {\"responsive\": true}                    ).then(function(){\n                            \nvar gd = document.getElementById('e0980ce3-5bb1-41d5-bc98-c2b22908c50a');\nvar x = new MutationObserver(function (mutations, observer) {{\n        var display = window.getComputedStyle(gd).display;\n        if (!display || display === 'none') {{\n            console.log([gd, 'removed!']);\n            Plotly.purge(gd);\n            observer.disconnect();\n        }}\n}});\n\n// Listen for the removal of the full notebook cells\nvar notebookContainer = gd.closest('#notebook-container');\nif (notebookContainer) {{\n    x.observe(notebookContainer, {childList: true});\n}}\n\n// Listen for the clearing of the current output cell\nvar outputEl = gd.closest('.output');\nif (outputEl) {{\n    x.observe(outputEl, {childList: true});\n}}\n\n                        })                };                });            </script>        </div>"
     },
     "metadata": {},
     "output_type": "display_data"
    }
   ],
   "source": [
    "fig = px.scatter(x=kmeans.centroids[:, 0], y=kmeans.centroids[:, 1])\n",
    "fig.update_traces(mode='markers', marker_size=12, marker_color='black', marker_symbol='x-thin', marker_line_width=2)\n",
    "fig.add_scatter(x=x_train_scaled[:, 0], y=x_train_scaled[:, 1], marker_color=kmeans.labels, mode='markers')\n",
    "fig.show()"
   ],
   "metadata": {
    "collapsed": false
   }
  },
  {
   "cell_type": "code",
   "execution_count": 47,
   "outputs": [],
   "source": [
    "kmeans = RobustKMeans(n_clusters=n_clusters, max_iter=300)\n",
    "kmeans.fit(x_train_scaled, n=10000)"
   ],
   "metadata": {
    "collapsed": false
   }
  },
  {
   "cell_type": "code",
   "execution_count": 48,
   "outputs": [
    {
     "data": {
      "text/plain": "(115.95123443246078, 0.6764705882352942)"
     },
     "execution_count": 48,
     "metadata": {},
     "output_type": "execute_result"
    }
   ],
   "source": [
    "kmeans.inertia, kmeans.score(true_labels)"
   ],
   "metadata": {
    "collapsed": false
   }
  },
  {
   "cell_type": "code",
   "execution_count": 49,
   "outputs": [
    {
     "data": {
      "application/vnd.plotly.v1+json": {
       "data": [
        {
         "hovertemplate": "x=%{x}<br>y=%{y}<br>color=%{marker.color}<extra></extra>",
         "legendgroup": "",
         "marker": {
          "color": [
           0,
           0,
           2,
           0,
           0,
           1,
           2,
           1,
           1,
           2,
           2,
           1,
           0,
           1,
           2,
           0,
           0,
           2,
           0,
           0,
           1,
           0,
           0,
           2,
           2,
           2,
           1,
           0,
           0,
           0,
           0,
           1,
           1,
           0,
           2,
           1,
           1,
           1,
           1,
           0,
           0,
           2,
           0,
           2,
           1,
           1,
           0,
           0,
           1,
           1,
           1,
           1,
           2,
           0,
           1,
           0,
           2,
           1,
           1,
           1,
           0,
           1,
           0,
           1,
           1,
           0,
           2,
           0,
           1,
           1,
           0,
           0,
           0,
           1,
           1,
           0,
           0,
           0,
           1,
           1,
           1,
           1,
           1,
           0,
           1,
           1,
           1,
           2,
           1,
           0,
           1,
           1,
           1,
           2,
           2,
           2,
           2,
           1,
           0,
           1,
           1,
           1
          ],
          "coloraxis": "coloraxis",
          "symbol": "circle"
         },
         "mode": "markers",
         "name": "",
         "orientation": "v",
         "showlegend": false,
         "x": [
          -0.2688853022597714,
          0.016236205632779405,
          -0.17887938482379703,
          0.058619299047518836,
          -0.1822471604932669,
          -0.11351832012729032,
          -0.12128721624386042,
          -0.05807476087036807,
          -0.035292913193154696,
          -0.22789688757777077,
          -0.18426708298256617,
          -0.19162081428046318,
          -0.1704405535637245,
          -0.22468486766213425,
          -0.09199958691978133,
          -0.28500335543077826,
          -0.18807993960308944,
          -0.15029221381531893,
          -0.2715510685776334,
          -0.17394352984677205,
          -0.17844376397038614,
          -0.21352606861649698,
          -0.24009570137999314,
          -0.11911999344864568,
          -0.14768971430496594,
          -0.178243893135833,
          -0.1440740586324649,
          -0.16298019312837594,
          -0.2780834996479753,
          -0.2969469059657404,
          -0.25689062940707963,
          -0.020976988453440582,
          -0.05611045338959337,
          -0.1246499283773804,
          -0.03152985777736075,
          -0.18831323013887927,
          -0.14025607634835788,
          -0.12180359098896312,
          0.023564162710162245,
          -0.0356753161089289,
          -0.3070679374011902,
          -0.17957703578310527,
          -0.04477171201544517,
          -0.24064125716714233,
          -0.15343083954192785,
          -0.11868010898380651,
          -0.32359704176079757,
          -0.1955247710497862,
          -0.207045468246557,
          -0.10042510169694305,
          -0.2306973325555939,
          -0.04190732731937246,
          -0.08667295905136105,
          -0.1892888364994158,
          -0.14885486058519393,
          -0.2240529246921439,
          -0.21795970795701672,
          -0.1277101019130315,
          0.06402076309227425,
          -0.2691757453206995,
          -0.1869017060934488,
          -0.0927694875792665,
          -0.22562987948705895,
          -0.18028057253849952,
          -0.22701576034255627,
          -0.19258216252501656,
          -0.037943116714082896,
          -0.2719579414789733,
          -0.08037751487921505,
          -0.0237510842288716,
          -0.06692446380752122,
          -0.18996419767317563,
          -0.29366378136705734,
          -0.12039860694028212,
          -0.03510779438552617,
          -0.13869086814241816,
          0.01461897780717159,
          -0.20379401799617763,
          0.09338669650820271,
          -0.15380483340631596,
          -0.11910270154318942,
          -0.09860972069565918,
          -0.08595234727177055,
          -0.07378687758354484,
          -0.146083739398251,
          -0.1300906870671408,
          -0.03969782433766414,
          -0.10840366282208429,
          -0.25145400098569193,
          -0.07047704566959535,
          -0.03601434428646502,
          0.03992114101918192,
          -0.21042157891833818,
          -6.606929954034495E-5,
          -0.18839003925218717,
          -0.19379982160055775,
          -0.07095948343662883,
          -0.05387540069529404,
          -0.13008336992378347,
          -0.20547274488854944,
          6.989935935402909,
          7.094451959074132
         ],
         "xaxis": "x",
         "y": [
          -2.1041521973012385,
          -0.7675704248056903,
          1.3021521605585362,
          -0.8788005702497658,
          -0.7539140854287334,
          -0.33525716260935345,
          1.5838172301770934,
          0.2654388812950124,
          0.6632524040398822,
          1.1936052250102358,
          1.0213637497823278,
          -0.2683937979656111,
          -0.925520930153681,
          0.17105122170232856,
          1.0606848269885694,
          -0.8048576099766387,
          -0.5806166264177453,
          1.6020238098077824,
          -1.0187140158462296,
          -1.166091733574571,
          0.6462403827390208,
          -0.8967892565963339,
          -0.5616113560049099,
          1.9497286586460676,
          1.9670370786321618,
          1.6368846917825695,
          -0.2405074890711843,
          -1.676312502022252,
          -0.606701561321223,
          -1.977697390353246,
          -0.9676296668633507,
          0.20295177277224516,
          0.2292926380641768,
          -1.6525846627514391,
          1.4484374400613358,
          0.7594541283942062,
          0.022380568932706867,
          0.6987031049070375,
          0.24698920847533978,
          -1.2598212237999182,
          -1.7287882413019515,
          0.8284317742557333,
          -0.7271170622821491,
          1.0772684810854727,
          0.7533327788638874,
          0.34121125516341694,
          -0.9986072817341172,
          -0.8680588168598826,
          -0.17316344542705223,
          -0.2932722132155306,
          0.5677936130764175,
          -0.11947308197412862,
          1.8314665372712906,
          -0.6101244184972054,
          0.11518494167219881,
          -0.6542441710216531,
          1.1536303798293648,
          -0.29541886916515586,
          -0.30401434885781037,
          0.5834277047955342,
          -1.583414380491071,
          -0.18002015640214183,
          -1.6090349104794492,
          0.015882547833707468,
          0.6508068810617322,
          -1.929092011506634,
          1.635516388212519,
          -1.6494153119467412,
          0.3670206023211976,
          -0.015298160200310646,
          -0.4887663618464923,
          -0.893343954744898,
          -0.6916144676143546,
          -0.19768482053427403,
          -0.2943902022028054,
          -0.8501932546722921,
          -0.5584435840498607,
          -1.8622391511595175,
          0.1466965331950204,
          0.07773185549930405,
          0.5295437595720662,
          -0.17637683932430542,
          0.15502436563624253,
          -0.8104777661086864,
          0.2611453175325608,
          -0.3255963719417763,
          0.8023346886121665,
          1.0413922744993853,
          0.48093407466803006,
          -0.9189141058370401,
          -0.16137966402887777,
          0.5222771348796708,
          0.03047594411502725,
          1.458063566667585,
          2.1541488352032148,
          1.3471135986581912,
          1.5550219967249619,
          0.2959731327052583,
          -0.43319676520169925,
          0.7480579274259671,
          0.7806679900310768,
          0.8656523899061428
         ],
         "yaxis": "y",
         "type": "scatter"
        },
        {
         "marker": {
          "color": "black",
          "line": {
           "width": 2
          },
          "size": 12,
          "symbol": "x-thin"
         },
         "mode": "markers",
         "showlegend": false,
         "x": [
          -0.1774500023879633,
          0.19885384128913453,
          -0.13779109371714393
         ],
         "y": [
          -1.0685389885366072,
          0.2090418224704993,
          1.442465891518844
         ],
         "type": "scatter"
        }
       ],
       "layout": {
        "template": {
         "data": {
          "histogram2dcontour": [
           {
            "type": "histogram2dcontour",
            "colorbar": {
             "outlinewidth": 0,
             "tickcolor": "rgb(237,237,237)",
             "ticklen": 6,
             "ticks": "inside"
            },
            "colorscale": [
             [
              0,
              "rgb(20,44,66)"
             ],
             [
              1,
              "rgb(90,179,244)"
             ]
            ]
           }
          ],
          "choropleth": [
           {
            "type": "choropleth",
            "colorbar": {
             "outlinewidth": 0,
             "tickcolor": "rgb(237,237,237)",
             "ticklen": 6,
             "ticks": "inside"
            }
           }
          ],
          "histogram2d": [
           {
            "type": "histogram2d",
            "colorbar": {
             "outlinewidth": 0,
             "tickcolor": "rgb(237,237,237)",
             "ticklen": 6,
             "ticks": "inside"
            },
            "colorscale": [
             [
              0,
              "rgb(20,44,66)"
             ],
             [
              1,
              "rgb(90,179,244)"
             ]
            ]
           }
          ],
          "heatmap": [
           {
            "type": "heatmap",
            "colorbar": {
             "outlinewidth": 0,
             "tickcolor": "rgb(237,237,237)",
             "ticklen": 6,
             "ticks": "inside"
            },
            "colorscale": [
             [
              0,
              "rgb(20,44,66)"
             ],
             [
              1,
              "rgb(90,179,244)"
             ]
            ]
           }
          ],
          "heatmapgl": [
           {
            "type": "heatmapgl",
            "colorbar": {
             "outlinewidth": 0,
             "tickcolor": "rgb(237,237,237)",
             "ticklen": 6,
             "ticks": "inside"
            },
            "colorscale": [
             [
              0,
              "rgb(20,44,66)"
             ],
             [
              1,
              "rgb(90,179,244)"
             ]
            ]
           }
          ],
          "contourcarpet": [
           {
            "type": "contourcarpet",
            "colorbar": {
             "outlinewidth": 0,
             "tickcolor": "rgb(237,237,237)",
             "ticklen": 6,
             "ticks": "inside"
            }
           }
          ],
          "contour": [
           {
            "type": "contour",
            "colorbar": {
             "outlinewidth": 0,
             "tickcolor": "rgb(237,237,237)",
             "ticklen": 6,
             "ticks": "inside"
            },
            "colorscale": [
             [
              0,
              "rgb(20,44,66)"
             ],
             [
              1,
              "rgb(90,179,244)"
             ]
            ]
           }
          ],
          "surface": [
           {
            "type": "surface",
            "colorbar": {
             "outlinewidth": 0,
             "tickcolor": "rgb(237,237,237)",
             "ticklen": 6,
             "ticks": "inside"
            },
            "colorscale": [
             [
              0,
              "rgb(20,44,66)"
             ],
             [
              1,
              "rgb(90,179,244)"
             ]
            ]
           }
          ],
          "mesh3d": [
           {
            "type": "mesh3d",
            "colorbar": {
             "outlinewidth": 0,
             "tickcolor": "rgb(237,237,237)",
             "ticklen": 6,
             "ticks": "inside"
            }
           }
          ],
          "scatter": [
           {
            "fillpattern": {
             "fillmode": "overlay",
             "size": 10,
             "solidity": 0.2
            },
            "type": "scatter"
           }
          ],
          "parcoords": [
           {
            "type": "parcoords",
            "line": {
             "colorbar": {
              "outlinewidth": 0,
              "tickcolor": "rgb(237,237,237)",
              "ticklen": 6,
              "ticks": "inside"
             }
            }
           }
          ],
          "scatterpolargl": [
           {
            "type": "scatterpolargl",
            "marker": {
             "colorbar": {
              "outlinewidth": 0,
              "tickcolor": "rgb(237,237,237)",
              "ticklen": 6,
              "ticks": "inside"
             }
            }
           }
          ],
          "bar": [
           {
            "error_x": {
             "color": "rgb(51,51,51)"
            },
            "error_y": {
             "color": "rgb(51,51,51)"
            },
            "marker": {
             "line": {
              "color": "rgb(237,237,237)",
              "width": 0.5
             },
             "pattern": {
              "fillmode": "overlay",
              "size": 10,
              "solidity": 0.2
             }
            },
            "type": "bar"
           }
          ],
          "scattergeo": [
           {
            "type": "scattergeo",
            "marker": {
             "colorbar": {
              "outlinewidth": 0,
              "tickcolor": "rgb(237,237,237)",
              "ticklen": 6,
              "ticks": "inside"
             }
            }
           }
          ],
          "scatterpolar": [
           {
            "type": "scatterpolar",
            "marker": {
             "colorbar": {
              "outlinewidth": 0,
              "tickcolor": "rgb(237,237,237)",
              "ticklen": 6,
              "ticks": "inside"
             }
            }
           }
          ],
          "histogram": [
           {
            "marker": {
             "pattern": {
              "fillmode": "overlay",
              "size": 10,
              "solidity": 0.2
             }
            },
            "type": "histogram"
           }
          ],
          "scattergl": [
           {
            "type": "scattergl",
            "marker": {
             "colorbar": {
              "outlinewidth": 0,
              "tickcolor": "rgb(237,237,237)",
              "ticklen": 6,
              "ticks": "inside"
             }
            }
           }
          ],
          "scatter3d": [
           {
            "type": "scatter3d",
            "line": {
             "colorbar": {
              "outlinewidth": 0,
              "tickcolor": "rgb(237,237,237)",
              "ticklen": 6,
              "ticks": "inside"
             }
            },
            "marker": {
             "colorbar": {
              "outlinewidth": 0,
              "tickcolor": "rgb(237,237,237)",
              "ticklen": 6,
              "ticks": "inside"
             }
            }
           }
          ],
          "scattermapbox": [
           {
            "type": "scattermapbox",
            "marker": {
             "colorbar": {
              "outlinewidth": 0,
              "tickcolor": "rgb(237,237,237)",
              "ticklen": 6,
              "ticks": "inside"
             }
            }
           }
          ],
          "scatterternary": [
           {
            "type": "scatterternary",
            "marker": {
             "colorbar": {
              "outlinewidth": 0,
              "tickcolor": "rgb(237,237,237)",
              "ticklen": 6,
              "ticks": "inside"
             }
            }
           }
          ],
          "scattercarpet": [
           {
            "type": "scattercarpet",
            "marker": {
             "colorbar": {
              "outlinewidth": 0,
              "tickcolor": "rgb(237,237,237)",
              "ticklen": 6,
              "ticks": "inside"
             }
            }
           }
          ],
          "carpet": [
           {
            "aaxis": {
             "endlinecolor": "rgb(51,51,51)",
             "gridcolor": "white",
             "linecolor": "white",
             "minorgridcolor": "white",
             "startlinecolor": "rgb(51,51,51)"
            },
            "baxis": {
             "endlinecolor": "rgb(51,51,51)",
             "gridcolor": "white",
             "linecolor": "white",
             "minorgridcolor": "white",
             "startlinecolor": "rgb(51,51,51)"
            },
            "type": "carpet"
           }
          ],
          "table": [
           {
            "cells": {
             "fill": {
              "color": "rgb(237,237,237)"
             },
             "line": {
              "color": "white"
             }
            },
            "header": {
             "fill": {
              "color": "rgb(217,217,217)"
             },
             "line": {
              "color": "white"
             }
            },
            "type": "table"
           }
          ],
          "barpolar": [
           {
            "marker": {
             "line": {
              "color": "rgb(237,237,237)",
              "width": 0.5
             },
             "pattern": {
              "fillmode": "overlay",
              "size": 10,
              "solidity": 0.2
             }
            },
            "type": "barpolar"
           }
          ],
          "pie": [
           {
            "automargin": true,
            "type": "pie"
           }
          ]
         },
         "layout": {
          "autotypenumbers": "strict",
          "colorway": [
           "#F8766D",
           "#A3A500",
           "#00BF7D",
           "#00B0F6",
           "#E76BF3"
          ],
          "font": {
           "color": "rgb(51,51,51)"
          },
          "hovermode": "closest",
          "hoverlabel": {
           "align": "left"
          },
          "paper_bgcolor": "white",
          "plot_bgcolor": "rgb(237,237,237)",
          "polar": {
           "bgcolor": "rgb(237,237,237)",
           "angularaxis": {
            "gridcolor": "white",
            "linecolor": "white",
            "showgrid": true,
            "tickcolor": "rgb(51,51,51)",
            "ticks": "outside"
           },
           "radialaxis": {
            "gridcolor": "white",
            "linecolor": "white",
            "showgrid": true,
            "tickcolor": "rgb(51,51,51)",
            "ticks": "outside"
           }
          },
          "ternary": {
           "bgcolor": "rgb(237,237,237)",
           "aaxis": {
            "gridcolor": "white",
            "linecolor": "white",
            "showgrid": true,
            "tickcolor": "rgb(51,51,51)",
            "ticks": "outside"
           },
           "baxis": {
            "gridcolor": "white",
            "linecolor": "white",
            "showgrid": true,
            "tickcolor": "rgb(51,51,51)",
            "ticks": "outside"
           },
           "caxis": {
            "gridcolor": "white",
            "linecolor": "white",
            "showgrid": true,
            "tickcolor": "rgb(51,51,51)",
            "ticks": "outside"
           }
          },
          "coloraxis": {
           "colorbar": {
            "outlinewidth": 0,
            "tickcolor": "rgb(237,237,237)",
            "ticklen": 6,
            "ticks": "inside"
           }
          },
          "colorscale": {
           "sequential": [
            [
             0,
             "rgb(20,44,66)"
            ],
            [
             1,
             "rgb(90,179,244)"
            ]
           ],
           "sequentialminus": [
            [
             0,
             "rgb(20,44,66)"
            ],
            [
             1,
             "rgb(90,179,244)"
            ]
           ]
          },
          "xaxis": {
           "gridcolor": "white",
           "linecolor": "white",
           "showgrid": true,
           "tickcolor": "rgb(51,51,51)",
           "ticks": "outside",
           "title": {
            "standoff": 15
           },
           "zerolinecolor": "white",
           "automargin": true
          },
          "yaxis": {
           "gridcolor": "white",
           "linecolor": "white",
           "showgrid": true,
           "tickcolor": "rgb(51,51,51)",
           "ticks": "outside",
           "title": {
            "standoff": 15
           },
           "zerolinecolor": "white",
           "automargin": true
          },
          "scene": {
           "xaxis": {
            "backgroundcolor": "rgb(237,237,237)",
            "gridcolor": "white",
            "linecolor": "white",
            "showbackground": true,
            "showgrid": true,
            "tickcolor": "rgb(51,51,51)",
            "ticks": "outside",
            "zerolinecolor": "white",
            "gridwidth": 2
           },
           "yaxis": {
            "backgroundcolor": "rgb(237,237,237)",
            "gridcolor": "white",
            "linecolor": "white",
            "showbackground": true,
            "showgrid": true,
            "tickcolor": "rgb(51,51,51)",
            "ticks": "outside",
            "zerolinecolor": "white",
            "gridwidth": 2
           },
           "zaxis": {
            "backgroundcolor": "rgb(237,237,237)",
            "gridcolor": "white",
            "linecolor": "white",
            "showbackground": true,
            "showgrid": true,
            "tickcolor": "rgb(51,51,51)",
            "ticks": "outside",
            "zerolinecolor": "white",
            "gridwidth": 2
           }
          },
          "shapedefaults": {
           "fillcolor": "black",
           "line": {
            "width": 0
           },
           "opacity": 0.3
          },
          "annotationdefaults": {
           "arrowhead": 0,
           "arrowwidth": 1
          },
          "geo": {
           "bgcolor": "white",
           "landcolor": "rgb(237,237,237)",
           "subunitcolor": "white",
           "showland": true,
           "showlakes": true,
           "lakecolor": "white"
          }
         }
        },
        "xaxis": {
         "anchor": "y",
         "domain": [
          0.0,
          1.0
         ],
         "title": {
          "text": "x"
         }
        },
        "yaxis": {
         "anchor": "x",
         "domain": [
          0.0,
          1.0
         ],
         "title": {
          "text": "y"
         }
        },
        "coloraxis": {
         "colorbar": {
          "title": {
           "text": "color"
          }
         },
         "colorscale": [
          [
           0.0,
           "rgb(20,44,66)"
          ],
          [
           1.0,
           "rgb(90,179,244)"
          ]
         ]
        },
        "legend": {
         "tracegroupgap": 0
        },
        "margin": {
         "t": 60
        }
       },
       "config": {
        "plotlyServerURL": "https://plot.ly"
       }
      },
      "text/html": "<div>                            <div id=\"2593a360-1259-40b8-a2ec-3ac43223ad61\" class=\"plotly-graph-div\" style=\"height:525px; width:100%;\"></div>            <script type=\"text/javascript\">                require([\"plotly\"], function(Plotly) {                    window.PLOTLYENV=window.PLOTLYENV || {};                                    if (document.getElementById(\"2593a360-1259-40b8-a2ec-3ac43223ad61\")) {                    Plotly.newPlot(                        \"2593a360-1259-40b8-a2ec-3ac43223ad61\",                        [{\"hovertemplate\":\"x=%{x}<br>y=%{y}<br>color=%{marker.color}<extra></extra>\",\"legendgroup\":\"\",\"marker\":{\"color\":[0,0,2,0,0,1,2,1,1,2,2,1,0,1,2,0,0,2,0,0,1,0,0,2,2,2,1,0,0,0,0,1,1,0,2,1,1,1,1,0,0,2,0,2,1,1,0,0,1,1,1,1,2,0,1,0,2,1,1,1,0,1,0,1,1,0,2,0,1,1,0,0,0,1,1,0,0,0,1,1,1,1,1,0,1,1,1,2,1,0,1,1,1,2,2,2,2,1,0,1,1,1],\"coloraxis\":\"coloraxis\",\"symbol\":\"circle\"},\"mode\":\"markers\",\"name\":\"\",\"orientation\":\"v\",\"showlegend\":false,\"x\":[-0.2688853022597714,0.016236205632779405,-0.17887938482379703,0.058619299047518836,-0.1822471604932669,-0.11351832012729032,-0.12128721624386042,-0.05807476087036807,-0.035292913193154696,-0.22789688757777077,-0.18426708298256617,-0.19162081428046318,-0.1704405535637245,-0.22468486766213425,-0.09199958691978133,-0.28500335543077826,-0.18807993960308944,-0.15029221381531893,-0.2715510685776334,-0.17394352984677205,-0.17844376397038614,-0.21352606861649698,-0.24009570137999314,-0.11911999344864568,-0.14768971430496594,-0.178243893135833,-0.1440740586324649,-0.16298019312837594,-0.2780834996479753,-0.2969469059657404,-0.25689062940707963,-0.020976988453440582,-0.05611045338959337,-0.1246499283773804,-0.03152985777736075,-0.18831323013887927,-0.14025607634835788,-0.12180359098896312,0.023564162710162245,-0.0356753161089289,-0.3070679374011902,-0.17957703578310527,-0.04477171201544517,-0.24064125716714233,-0.15343083954192785,-0.11868010898380651,-0.32359704176079757,-0.1955247710497862,-0.207045468246557,-0.10042510169694305,-0.2306973325555939,-0.04190732731937246,-0.08667295905136105,-0.1892888364994158,-0.14885486058519393,-0.2240529246921439,-0.21795970795701672,-0.1277101019130315,0.06402076309227425,-0.2691757453206995,-0.1869017060934488,-0.0927694875792665,-0.22562987948705895,-0.18028057253849952,-0.22701576034255627,-0.19258216252501656,-0.037943116714082896,-0.2719579414789733,-0.08037751487921505,-0.0237510842288716,-0.06692446380752122,-0.18996419767317563,-0.29366378136705734,-0.12039860694028212,-0.03510779438552617,-0.13869086814241816,0.01461897780717159,-0.20379401799617763,0.09338669650820271,-0.15380483340631596,-0.11910270154318942,-0.09860972069565918,-0.08595234727177055,-0.07378687758354484,-0.146083739398251,-0.1300906870671408,-0.03969782433766414,-0.10840366282208429,-0.25145400098569193,-0.07047704566959535,-0.03601434428646502,0.03992114101918192,-0.21042157891833818,-6.606929954034495e-05,-0.18839003925218717,-0.19379982160055775,-0.07095948343662883,-0.05387540069529404,-0.13008336992378347,-0.20547274488854944,6.989935935402909,7.094451959074132],\"xaxis\":\"x\",\"y\":[-2.1041521973012385,-0.7675704248056903,1.3021521605585362,-0.8788005702497658,-0.7539140854287334,-0.33525716260935345,1.5838172301770934,0.2654388812950124,0.6632524040398822,1.1936052250102358,1.0213637497823278,-0.2683937979656111,-0.925520930153681,0.17105122170232856,1.0606848269885694,-0.8048576099766387,-0.5806166264177453,1.6020238098077824,-1.0187140158462296,-1.166091733574571,0.6462403827390208,-0.8967892565963339,-0.5616113560049099,1.9497286586460676,1.9670370786321618,1.6368846917825695,-0.2405074890711843,-1.676312502022252,-0.606701561321223,-1.977697390353246,-0.9676296668633507,0.20295177277224516,0.2292926380641768,-1.6525846627514391,1.4484374400613358,0.7594541283942062,0.022380568932706867,0.6987031049070375,0.24698920847533978,-1.2598212237999182,-1.7287882413019515,0.8284317742557333,-0.7271170622821491,1.0772684810854727,0.7533327788638874,0.34121125516341694,-0.9986072817341172,-0.8680588168598826,-0.17316344542705223,-0.2932722132155306,0.5677936130764175,-0.11947308197412862,1.8314665372712906,-0.6101244184972054,0.11518494167219881,-0.6542441710216531,1.1536303798293648,-0.29541886916515586,-0.30401434885781037,0.5834277047955342,-1.583414380491071,-0.18002015640214183,-1.6090349104794492,0.015882547833707468,0.6508068810617322,-1.929092011506634,1.635516388212519,-1.6494153119467412,0.3670206023211976,-0.015298160200310646,-0.4887663618464923,-0.893343954744898,-0.6916144676143546,-0.19768482053427403,-0.2943902022028054,-0.8501932546722921,-0.5584435840498607,-1.8622391511595175,0.1466965331950204,0.07773185549930405,0.5295437595720662,-0.17637683932430542,0.15502436563624253,-0.8104777661086864,0.2611453175325608,-0.3255963719417763,0.8023346886121665,1.0413922744993853,0.48093407466803006,-0.9189141058370401,-0.16137966402887777,0.5222771348796708,0.03047594411502725,1.458063566667585,2.1541488352032148,1.3471135986581912,1.5550219967249619,0.2959731327052583,-0.43319676520169925,0.7480579274259671,0.7806679900310768,0.8656523899061428],\"yaxis\":\"y\",\"type\":\"scatter\"},{\"marker\":{\"color\":\"black\",\"line\":{\"width\":2},\"size\":12,\"symbol\":\"x-thin\"},\"mode\":\"markers\",\"showlegend\":false,\"x\":[-0.1774500023879633,0.19885384128913453,-0.13779109371714393],\"y\":[-1.0685389885366072,0.2090418224704993,1.442465891518844],\"type\":\"scatter\"}],                        {\"template\":{\"data\":{\"histogram2dcontour\":[{\"type\":\"histogram2dcontour\",\"colorbar\":{\"outlinewidth\":0,\"tickcolor\":\"rgb(237,237,237)\",\"ticklen\":6,\"ticks\":\"inside\"},\"colorscale\":[[0,\"rgb(20,44,66)\"],[1,\"rgb(90,179,244)\"]]}],\"choropleth\":[{\"type\":\"choropleth\",\"colorbar\":{\"outlinewidth\":0,\"tickcolor\":\"rgb(237,237,237)\",\"ticklen\":6,\"ticks\":\"inside\"}}],\"histogram2d\":[{\"type\":\"histogram2d\",\"colorbar\":{\"outlinewidth\":0,\"tickcolor\":\"rgb(237,237,237)\",\"ticklen\":6,\"ticks\":\"inside\"},\"colorscale\":[[0,\"rgb(20,44,66)\"],[1,\"rgb(90,179,244)\"]]}],\"heatmap\":[{\"type\":\"heatmap\",\"colorbar\":{\"outlinewidth\":0,\"tickcolor\":\"rgb(237,237,237)\",\"ticklen\":6,\"ticks\":\"inside\"},\"colorscale\":[[0,\"rgb(20,44,66)\"],[1,\"rgb(90,179,244)\"]]}],\"heatmapgl\":[{\"type\":\"heatmapgl\",\"colorbar\":{\"outlinewidth\":0,\"tickcolor\":\"rgb(237,237,237)\",\"ticklen\":6,\"ticks\":\"inside\"},\"colorscale\":[[0,\"rgb(20,44,66)\"],[1,\"rgb(90,179,244)\"]]}],\"contourcarpet\":[{\"type\":\"contourcarpet\",\"colorbar\":{\"outlinewidth\":0,\"tickcolor\":\"rgb(237,237,237)\",\"ticklen\":6,\"ticks\":\"inside\"}}],\"contour\":[{\"type\":\"contour\",\"colorbar\":{\"outlinewidth\":0,\"tickcolor\":\"rgb(237,237,237)\",\"ticklen\":6,\"ticks\":\"inside\"},\"colorscale\":[[0,\"rgb(20,44,66)\"],[1,\"rgb(90,179,244)\"]]}],\"surface\":[{\"type\":\"surface\",\"colorbar\":{\"outlinewidth\":0,\"tickcolor\":\"rgb(237,237,237)\",\"ticklen\":6,\"ticks\":\"inside\"},\"colorscale\":[[0,\"rgb(20,44,66)\"],[1,\"rgb(90,179,244)\"]]}],\"mesh3d\":[{\"type\":\"mesh3d\",\"colorbar\":{\"outlinewidth\":0,\"tickcolor\":\"rgb(237,237,237)\",\"ticklen\":6,\"ticks\":\"inside\"}}],\"scatter\":[{\"fillpattern\":{\"fillmode\":\"overlay\",\"size\":10,\"solidity\":0.2},\"type\":\"scatter\"}],\"parcoords\":[{\"type\":\"parcoords\",\"line\":{\"colorbar\":{\"outlinewidth\":0,\"tickcolor\":\"rgb(237,237,237)\",\"ticklen\":6,\"ticks\":\"inside\"}}}],\"scatterpolargl\":[{\"type\":\"scatterpolargl\",\"marker\":{\"colorbar\":{\"outlinewidth\":0,\"tickcolor\":\"rgb(237,237,237)\",\"ticklen\":6,\"ticks\":\"inside\"}}}],\"bar\":[{\"error_x\":{\"color\":\"rgb(51,51,51)\"},\"error_y\":{\"color\":\"rgb(51,51,51)\"},\"marker\":{\"line\":{\"color\":\"rgb(237,237,237)\",\"width\":0.5},\"pattern\":{\"fillmode\":\"overlay\",\"size\":10,\"solidity\":0.2}},\"type\":\"bar\"}],\"scattergeo\":[{\"type\":\"scattergeo\",\"marker\":{\"colorbar\":{\"outlinewidth\":0,\"tickcolor\":\"rgb(237,237,237)\",\"ticklen\":6,\"ticks\":\"inside\"}}}],\"scatterpolar\":[{\"type\":\"scatterpolar\",\"marker\":{\"colorbar\":{\"outlinewidth\":0,\"tickcolor\":\"rgb(237,237,237)\",\"ticklen\":6,\"ticks\":\"inside\"}}}],\"histogram\":[{\"marker\":{\"pattern\":{\"fillmode\":\"overlay\",\"size\":10,\"solidity\":0.2}},\"type\":\"histogram\"}],\"scattergl\":[{\"type\":\"scattergl\",\"marker\":{\"colorbar\":{\"outlinewidth\":0,\"tickcolor\":\"rgb(237,237,237)\",\"ticklen\":6,\"ticks\":\"inside\"}}}],\"scatter3d\":[{\"type\":\"scatter3d\",\"line\":{\"colorbar\":{\"outlinewidth\":0,\"tickcolor\":\"rgb(237,237,237)\",\"ticklen\":6,\"ticks\":\"inside\"}},\"marker\":{\"colorbar\":{\"outlinewidth\":0,\"tickcolor\":\"rgb(237,237,237)\",\"ticklen\":6,\"ticks\":\"inside\"}}}],\"scattermapbox\":[{\"type\":\"scattermapbox\",\"marker\":{\"colorbar\":{\"outlinewidth\":0,\"tickcolor\":\"rgb(237,237,237)\",\"ticklen\":6,\"ticks\":\"inside\"}}}],\"scatterternary\":[{\"type\":\"scatterternary\",\"marker\":{\"colorbar\":{\"outlinewidth\":0,\"tickcolor\":\"rgb(237,237,237)\",\"ticklen\":6,\"ticks\":\"inside\"}}}],\"scattercarpet\":[{\"type\":\"scattercarpet\",\"marker\":{\"colorbar\":{\"outlinewidth\":0,\"tickcolor\":\"rgb(237,237,237)\",\"ticklen\":6,\"ticks\":\"inside\"}}}],\"carpet\":[{\"aaxis\":{\"endlinecolor\":\"rgb(51,51,51)\",\"gridcolor\":\"white\",\"linecolor\":\"white\",\"minorgridcolor\":\"white\",\"startlinecolor\":\"rgb(51,51,51)\"},\"baxis\":{\"endlinecolor\":\"rgb(51,51,51)\",\"gridcolor\":\"white\",\"linecolor\":\"white\",\"minorgridcolor\":\"white\",\"startlinecolor\":\"rgb(51,51,51)\"},\"type\":\"carpet\"}],\"table\":[{\"cells\":{\"fill\":{\"color\":\"rgb(237,237,237)\"},\"line\":{\"color\":\"white\"}},\"header\":{\"fill\":{\"color\":\"rgb(217,217,217)\"},\"line\":{\"color\":\"white\"}},\"type\":\"table\"}],\"barpolar\":[{\"marker\":{\"line\":{\"color\":\"rgb(237,237,237)\",\"width\":0.5},\"pattern\":{\"fillmode\":\"overlay\",\"size\":10,\"solidity\":0.2}},\"type\":\"barpolar\"}],\"pie\":[{\"automargin\":true,\"type\":\"pie\"}]},\"layout\":{\"autotypenumbers\":\"strict\",\"colorway\":[\"#F8766D\",\"#A3A500\",\"#00BF7D\",\"#00B0F6\",\"#E76BF3\"],\"font\":{\"color\":\"rgb(51,51,51)\"},\"hovermode\":\"closest\",\"hoverlabel\":{\"align\":\"left\"},\"paper_bgcolor\":\"white\",\"plot_bgcolor\":\"rgb(237,237,237)\",\"polar\":{\"bgcolor\":\"rgb(237,237,237)\",\"angularaxis\":{\"gridcolor\":\"white\",\"linecolor\":\"white\",\"showgrid\":true,\"tickcolor\":\"rgb(51,51,51)\",\"ticks\":\"outside\"},\"radialaxis\":{\"gridcolor\":\"white\",\"linecolor\":\"white\",\"showgrid\":true,\"tickcolor\":\"rgb(51,51,51)\",\"ticks\":\"outside\"}},\"ternary\":{\"bgcolor\":\"rgb(237,237,237)\",\"aaxis\":{\"gridcolor\":\"white\",\"linecolor\":\"white\",\"showgrid\":true,\"tickcolor\":\"rgb(51,51,51)\",\"ticks\":\"outside\"},\"baxis\":{\"gridcolor\":\"white\",\"linecolor\":\"white\",\"showgrid\":true,\"tickcolor\":\"rgb(51,51,51)\",\"ticks\":\"outside\"},\"caxis\":{\"gridcolor\":\"white\",\"linecolor\":\"white\",\"showgrid\":true,\"tickcolor\":\"rgb(51,51,51)\",\"ticks\":\"outside\"}},\"coloraxis\":{\"colorbar\":{\"outlinewidth\":0,\"tickcolor\":\"rgb(237,237,237)\",\"ticklen\":6,\"ticks\":\"inside\"}},\"colorscale\":{\"sequential\":[[0,\"rgb(20,44,66)\"],[1,\"rgb(90,179,244)\"]],\"sequentialminus\":[[0,\"rgb(20,44,66)\"],[1,\"rgb(90,179,244)\"]]},\"xaxis\":{\"gridcolor\":\"white\",\"linecolor\":\"white\",\"showgrid\":true,\"tickcolor\":\"rgb(51,51,51)\",\"ticks\":\"outside\",\"title\":{\"standoff\":15},\"zerolinecolor\":\"white\",\"automargin\":true},\"yaxis\":{\"gridcolor\":\"white\",\"linecolor\":\"white\",\"showgrid\":true,\"tickcolor\":\"rgb(51,51,51)\",\"ticks\":\"outside\",\"title\":{\"standoff\":15},\"zerolinecolor\":\"white\",\"automargin\":true},\"scene\":{\"xaxis\":{\"backgroundcolor\":\"rgb(237,237,237)\",\"gridcolor\":\"white\",\"linecolor\":\"white\",\"showbackground\":true,\"showgrid\":true,\"tickcolor\":\"rgb(51,51,51)\",\"ticks\":\"outside\",\"zerolinecolor\":\"white\",\"gridwidth\":2},\"yaxis\":{\"backgroundcolor\":\"rgb(237,237,237)\",\"gridcolor\":\"white\",\"linecolor\":\"white\",\"showbackground\":true,\"showgrid\":true,\"tickcolor\":\"rgb(51,51,51)\",\"ticks\":\"outside\",\"zerolinecolor\":\"white\",\"gridwidth\":2},\"zaxis\":{\"backgroundcolor\":\"rgb(237,237,237)\",\"gridcolor\":\"white\",\"linecolor\":\"white\",\"showbackground\":true,\"showgrid\":true,\"tickcolor\":\"rgb(51,51,51)\",\"ticks\":\"outside\",\"zerolinecolor\":\"white\",\"gridwidth\":2}},\"shapedefaults\":{\"fillcolor\":\"black\",\"line\":{\"width\":0},\"opacity\":0.3},\"annotationdefaults\":{\"arrowhead\":0,\"arrowwidth\":1},\"geo\":{\"bgcolor\":\"white\",\"landcolor\":\"rgb(237,237,237)\",\"subunitcolor\":\"white\",\"showland\":true,\"showlakes\":true,\"lakecolor\":\"white\"}}},\"xaxis\":{\"anchor\":\"y\",\"domain\":[0.0,1.0],\"title\":{\"text\":\"x\"}},\"yaxis\":{\"anchor\":\"x\",\"domain\":[0.0,1.0],\"title\":{\"text\":\"y\"}},\"coloraxis\":{\"colorbar\":{\"title\":{\"text\":\"color\"}},\"colorscale\":[[0.0,\"rgb(20,44,66)\"],[1.0,\"rgb(90,179,244)\"]]},\"legend\":{\"tracegroupgap\":0},\"margin\":{\"t\":60}},                        {\"responsive\": true}                    ).then(function(){\n                            \nvar gd = document.getElementById('2593a360-1259-40b8-a2ec-3ac43223ad61');\nvar x = new MutationObserver(function (mutations, observer) {{\n        var display = window.getComputedStyle(gd).display;\n        if (!display || display === 'none') {{\n            console.log([gd, 'removed!']);\n            Plotly.purge(gd);\n            observer.disconnect();\n        }}\n}});\n\n// Listen for the removal of the full notebook cells\nvar notebookContainer = gd.closest('#notebook-container');\nif (notebookContainer) {{\n    x.observe(notebookContainer, {childList: true});\n}}\n\n// Listen for the clearing of the current output cell\nvar outputEl = gd.closest('.output');\nif (outputEl) {{\n    x.observe(outputEl, {childList: true});\n}}\n\n                        })                };                });            </script>        </div>"
     },
     "metadata": {},
     "output_type": "display_data"
    }
   ],
   "source": [
    "fig = px.scatter(x=x_train_scaled[:, 0], y=x_train_scaled[:, 1], color=kmeans.labels)\n",
    "fig.add_scatter(x=kmeans.centroids[:, 0], y=kmeans.centroids[:, 1],\n",
    "                mode='markers', marker_size=12, marker_color='black', marker_symbol='x-thin', marker_line_width=2, showlegend=False)\n",
    "fig.show()"
   ],
   "metadata": {
    "collapsed": false
   }
  }
 ],
 "metadata": {
  "kernelspec": {
   "display_name": "Python 3",
   "language": "python",
   "name": "python3"
  },
  "language_info": {
   "codemirror_mode": {
    "name": "ipython",
    "version": 2
   },
   "file_extension": ".py",
   "mimetype": "text/x-python",
   "name": "python",
   "nbconvert_exporter": "python",
   "pygments_lexer": "ipython2",
   "version": "2.7.6"
  }
 },
 "nbformat": 4,
 "nbformat_minor": 0
}
